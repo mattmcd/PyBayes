{
 "cells": [
  {
   "cell_type": "markdown",
   "id": "5eff09fb",
   "metadata": {},
   "source": [
    "# Manipulating Time Series\n",
    "Notebook to follow along with final chapter of the DataCamp Manipulating Time Series course."
   ]
  },
  {
   "cell_type": "code",
   "execution_count": 1,
   "id": "61d4720e",
   "metadata": {},
   "outputs": [],
   "source": [
    "import numpy as np\n",
    "import pandas as pd\n",
    "import matplotlib.pyplot as plt\n",
    "import seaborn as sns\n",
    "import os\n",
    "import yfinance as yf"
   ]
  },
  {
   "cell_type": "code",
   "execution_count": 2,
   "id": "7638625d",
   "metadata": {},
   "outputs": [],
   "source": [
    "%matplotlib inline"
   ]
  },
  {
   "cell_type": "code",
   "execution_count": 3,
   "id": "948cb2ec",
   "metadata": {},
   "outputs": [],
   "source": [
    "def ddir(name=None):\n",
    "    data_dir = 'dc_manipulating_time_series/stock_data/'\n",
    "    if name is None:\n",
    "        print(os.listdir(data_dir))\n",
    "    else:\n",
    "        return os.path.join(data_dir, name)"
   ]
  },
  {
   "cell_type": "code",
   "execution_count": 4,
   "id": "82227789",
   "metadata": {},
   "outputs": [
    {
     "name": "stdout",
     "output_type": "stream",
     "text": [
      "['apple_google.csv', 'nasdaq_screener_1646066842549.csv', '5_stocks.csv', 'components.csv', 'stock_data.zip', 'djia2.csv', 'dow_jones.csv', 'msft_aapl.csv', 'market_cap_series.csv', 'listings.xlsx', 'tickers.csv', 'asset_classes.csv', 'djia.csv', 'stocks_4.csv', 'index.csv', 'unrate_2000.csv', 'debt_unemployment.csv', 'fb.csv', 'goog_fb.csv', 'sp500.csv', 'google.csv', 'unrate.csv', 'stock_data.csv', 'yahoo.csv', 'dc_correlation.xls', 'dc_stock_data.xlsx', 'gdp_growth.csv', 'random_walk.csv', 'nyse.csv']\n"
     ]
    }
   ],
   "source": [
    "ddir()"
   ]
  },
  {
   "cell_type": "markdown",
   "id": "4e1f91f6",
   "metadata": {},
   "source": [
    "## Import the data"
   ]
  },
  {
   "cell_type": "code",
   "execution_count": 5,
   "id": "9f975d3a",
   "metadata": {},
   "outputs": [
    {
     "name": "stdout",
     "output_type": "stream",
     "text": [
      "<class 'pandas.core.frame.DataFrame'>\n",
      "RangeIndex: 3147 entries, 0 to 3146\n",
      "Data columns (total 7 columns):\n",
      " #   Column                 Non-Null Count  Dtype  \n",
      "---  ------                 --------------  -----  \n",
      " 0   Stock Symbol           3147 non-null   object \n",
      " 1   Company Name           3147 non-null   object \n",
      " 2   Last Sale              3079 non-null   float64\n",
      " 3   Market Capitalization  3147 non-null   float64\n",
      " 4   IPO Year               1361 non-null   float64\n",
      " 5   Sector                 2177 non-null   object \n",
      " 6   Industry               2177 non-null   object \n",
      "dtypes: float64(3), object(4)\n",
      "memory usage: 172.2+ KB\n"
     ]
    },
    {
     "name": "stderr",
     "output_type": "stream",
     "text": [
      "/home/mattmcd/Work/Projects/PyBayes/venv/lib/python3.8/site-packages/openpyxl/worksheet/_reader.py:312: UserWarning: Unknown extension is not supported and will be removed\n",
      "  warn(msg)\n"
     ]
    }
   ],
   "source": [
    "nyse = pd.read_excel(ddir('listings.xlsx'), sheet_name='nyse', na_values='n/a')\n",
    "nyse.info()"
   ]
  },
  {
   "cell_type": "code",
   "execution_count": 6,
   "id": "4f112b2a",
   "metadata": {},
   "outputs": [
    {
     "data": {
      "text/html": [
       "<div>\n",
       "<style scoped>\n",
       "    .dataframe tbody tr th:only-of-type {\n",
       "        vertical-align: middle;\n",
       "    }\n",
       "\n",
       "    .dataframe tbody tr th {\n",
       "        vertical-align: top;\n",
       "    }\n",
       "\n",
       "    .dataframe thead th {\n",
       "        text-align: right;\n",
       "    }\n",
       "</style>\n",
       "<table border=\"1\" class=\"dataframe\">\n",
       "  <thead>\n",
       "    <tr style=\"text-align: right;\">\n",
       "      <th></th>\n",
       "      <th>Stock Symbol</th>\n",
       "      <th>Company Name</th>\n",
       "      <th>Last Sale</th>\n",
       "      <th>Market Capitalization</th>\n",
       "      <th>IPO Year</th>\n",
       "      <th>Sector</th>\n",
       "      <th>Industry</th>\n",
       "    </tr>\n",
       "  </thead>\n",
       "  <tbody>\n",
       "    <tr>\n",
       "      <th>0</th>\n",
       "      <td>DDD</td>\n",
       "      <td>3D Systems Corporation</td>\n",
       "      <td>14.48</td>\n",
       "      <td>1.647165e+09</td>\n",
       "      <td>NaN</td>\n",
       "      <td>Technology</td>\n",
       "      <td>Computer Software: Prepackaged Software</td>\n",
       "    </tr>\n",
       "    <tr>\n",
       "      <th>1</th>\n",
       "      <td>MMM</td>\n",
       "      <td>3M Company</td>\n",
       "      <td>188.65</td>\n",
       "      <td>1.127366e+11</td>\n",
       "      <td>NaN</td>\n",
       "      <td>Health Care</td>\n",
       "      <td>Medical/Dental Instruments</td>\n",
       "    </tr>\n",
       "    <tr>\n",
       "      <th>2</th>\n",
       "      <td>WBAI</td>\n",
       "      <td>500.com Limited</td>\n",
       "      <td>13.96</td>\n",
       "      <td>5.793129e+08</td>\n",
       "      <td>2013.0</td>\n",
       "      <td>Consumer Services</td>\n",
       "      <td>Services-Misc. Amusement &amp; Recreation</td>\n",
       "    </tr>\n",
       "    <tr>\n",
       "      <th>3</th>\n",
       "      <td>WUBA</td>\n",
       "      <td>58.com Inc.</td>\n",
       "      <td>36.11</td>\n",
       "      <td>5.225238e+09</td>\n",
       "      <td>2013.0</td>\n",
       "      <td>Technology</td>\n",
       "      <td>Computer Software: Programming, Data Processing</td>\n",
       "    </tr>\n",
       "    <tr>\n",
       "      <th>4</th>\n",
       "      <td>AHC</td>\n",
       "      <td>A.H. Belo Corporation</td>\n",
       "      <td>6.20</td>\n",
       "      <td>1.347351e+08</td>\n",
       "      <td>NaN</td>\n",
       "      <td>Consumer Services</td>\n",
       "      <td>Newspapers/Magazines</td>\n",
       "    </tr>\n",
       "  </tbody>\n",
       "</table>\n",
       "</div>"
      ],
      "text/plain": [
       "  Stock Symbol            Company Name  Last Sale  Market Capitalization  \\\n",
       "0          DDD  3D Systems Corporation      14.48           1.647165e+09   \n",
       "1          MMM              3M Company     188.65           1.127366e+11   \n",
       "2         WBAI         500.com Limited      13.96           5.793129e+08   \n",
       "3         WUBA             58.com Inc.      36.11           5.225238e+09   \n",
       "4          AHC   A.H. Belo Corporation       6.20           1.347351e+08   \n",
       "\n",
       "   IPO Year             Sector  \\\n",
       "0       NaN         Technology   \n",
       "1       NaN        Health Care   \n",
       "2    2013.0  Consumer Services   \n",
       "3    2013.0         Technology   \n",
       "4       NaN  Consumer Services   \n",
       "\n",
       "                                          Industry  \n",
       "0          Computer Software: Prepackaged Software  \n",
       "1                       Medical/Dental Instruments  \n",
       "2            Services-Misc. Amusement & Recreation  \n",
       "3  Computer Software: Programming, Data Processing  \n",
       "4                             Newspapers/Magazines  "
      ]
     },
     "execution_count": 6,
     "metadata": {},
     "output_type": "execute_result"
    }
   ],
   "source": [
    "nyse.head()"
   ]
  },
  {
   "cell_type": "code",
   "execution_count": 7,
   "id": "80f644d4",
   "metadata": {},
   "outputs": [
    {
     "data": {
      "text/html": [
       "<div>\n",
       "<style scoped>\n",
       "    .dataframe tbody tr th:only-of-type {\n",
       "        vertical-align: middle;\n",
       "    }\n",
       "\n",
       "    .dataframe tbody tr th {\n",
       "        vertical-align: top;\n",
       "    }\n",
       "\n",
       "    .dataframe thead th {\n",
       "        text-align: right;\n",
       "    }\n",
       "</style>\n",
       "<table border=\"1\" class=\"dataframe\">\n",
       "  <thead>\n",
       "    <tr style=\"text-align: right;\">\n",
       "      <th></th>\n",
       "      <th>Stock Symbol</th>\n",
       "      <th>Company Name</th>\n",
       "      <th>Last Sale</th>\n",
       "      <th>Market Capitalization</th>\n",
       "      <th>IPO Year</th>\n",
       "      <th>Sector</th>\n",
       "      <th>Industry</th>\n",
       "    </tr>\n",
       "  </thead>\n",
       "  <tbody>\n",
       "  </tbody>\n",
       "</table>\n",
       "</div>"
      ],
      "text/plain": [
       "Empty DataFrame\n",
       "Columns: [Stock Symbol, Company Name, Last Sale, Market Capitalization, IPO Year, Sector, Industry]\n",
       "Index: []"
      ]
     },
     "execution_count": 7,
     "metadata": {},
     "output_type": "execute_result"
    }
   ],
   "source": [
    "nyse.loc[nyse['Stock Symbol'].isin(['CPRT', 'ILMN']), :]"
   ]
  },
  {
   "cell_type": "markdown",
   "id": "330bb13c",
   "metadata": {},
   "source": [
    "Problem: it looks like the listing data Excel file from the Datacamp data download for this course contains different stocks to the ones we want.  Some investigation shows that the \n",
    "[NASDAQ listings](https://www.nasdaq.com/market-activity/stocks/screener) do have all the stocks of interest.  \n",
    "Some filtering by sector and removing stocks more recent than the ones used in the course, e.g. TSLA, is\n",
    "then required to get the tickers of the biggest companies in each sector to match those expected in the course (and \n",
    "whose prices are available in the data files)."
   ]
  },
  {
   "cell_type": "code",
   "execution_count": 8,
   "id": "1690412d",
   "metadata": {},
   "outputs": [
    {
     "data": {
      "text/html": [
       "<div>\n",
       "<style scoped>\n",
       "    .dataframe tbody tr th:only-of-type {\n",
       "        vertical-align: middle;\n",
       "    }\n",
       "\n",
       "    .dataframe tbody tr th {\n",
       "        vertical-align: top;\n",
       "    }\n",
       "\n",
       "    .dataframe thead th {\n",
       "        text-align: right;\n",
       "    }\n",
       "</style>\n",
       "<table border=\"1\" class=\"dataframe\">\n",
       "  <thead>\n",
       "    <tr style=\"text-align: right;\">\n",
       "      <th></th>\n",
       "      <th>Stock Symbol</th>\n",
       "      <th>Company Name</th>\n",
       "      <th>Last Sale</th>\n",
       "      <th>Net Change</th>\n",
       "      <th>% Change</th>\n",
       "      <th>Market Capitalization</th>\n",
       "      <th>Country</th>\n",
       "      <th>IPO Year</th>\n",
       "      <th>Volume</th>\n",
       "      <th>Sector</th>\n",
       "      <th>Industry</th>\n",
       "    </tr>\n",
       "  </thead>\n",
       "  <tbody>\n",
       "    <tr>\n",
       "      <th>0</th>\n",
       "      <td>A</td>\n",
       "      <td>Agilent Technologies Inc. Common Stock</td>\n",
       "      <td>132.485</td>\n",
       "      <td>-1.245</td>\n",
       "      <td>-0.931%</td>\n",
       "      <td>3.979400e+10</td>\n",
       "      <td>United States</td>\n",
       "      <td>1999.0</td>\n",
       "      <td>351530</td>\n",
       "      <td>Capital Goods</td>\n",
       "      <td>Electrical Products</td>\n",
       "    </tr>\n",
       "    <tr>\n",
       "      <th>1</th>\n",
       "      <td>AA</td>\n",
       "      <td>Alcoa Corporation Common Stock</td>\n",
       "      <td>78.990</td>\n",
       "      <td>1.140</td>\n",
       "      <td>1.464%</td>\n",
       "      <td>1.464499e+10</td>\n",
       "      <td>NaN</td>\n",
       "      <td>2016.0</td>\n",
       "      <td>3394629</td>\n",
       "      <td>Basic Industries</td>\n",
       "      <td>Metal Fabrications</td>\n",
       "    </tr>\n",
       "    <tr>\n",
       "      <th>2</th>\n",
       "      <td>AAC</td>\n",
       "      <td>Ares Acquisition Corporation Class A Ordinary ...</td>\n",
       "      <td>9.750</td>\n",
       "      <td>-0.010</td>\n",
       "      <td>-0.102%</td>\n",
       "      <td>1.218750e+09</td>\n",
       "      <td>NaN</td>\n",
       "      <td>2021.0</td>\n",
       "      <td>2630</td>\n",
       "      <td>Finance</td>\n",
       "      <td>Business Services</td>\n",
       "    </tr>\n",
       "    <tr>\n",
       "      <th>3</th>\n",
       "      <td>AACG</td>\n",
       "      <td>ATA Creativity Global American Depositary Shares</td>\n",
       "      <td>1.340</td>\n",
       "      <td>-0.020</td>\n",
       "      <td>-1.471%</td>\n",
       "      <td>4.204507e+07</td>\n",
       "      <td>China</td>\n",
       "      <td>NaN</td>\n",
       "      <td>13606</td>\n",
       "      <td>Miscellaneous</td>\n",
       "      <td>Service to the Health Industry</td>\n",
       "    </tr>\n",
       "    <tr>\n",
       "      <th>4</th>\n",
       "      <td>AACI</td>\n",
       "      <td>Armada Acquisition Corp. I Common Stock</td>\n",
       "      <td>9.790</td>\n",
       "      <td>-0.020</td>\n",
       "      <td>-0.204%</td>\n",
       "      <td>2.027460e+08</td>\n",
       "      <td>United States</td>\n",
       "      <td>2021.0</td>\n",
       "      <td>13003</td>\n",
       "      <td>NaN</td>\n",
       "      <td>NaN</td>\n",
       "    </tr>\n",
       "  </tbody>\n",
       "</table>\n",
       "</div>"
      ],
      "text/plain": [
       "  Stock Symbol                                       Company Name  Last Sale  \\\n",
       "0            A             Agilent Technologies Inc. Common Stock    132.485   \n",
       "1           AA                    Alcoa Corporation Common Stock      78.990   \n",
       "2          AAC  Ares Acquisition Corporation Class A Ordinary ...      9.750   \n",
       "3         AACG   ATA Creativity Global American Depositary Shares      1.340   \n",
       "4         AACI            Armada Acquisition Corp. I Common Stock      9.790   \n",
       "\n",
       "   Net Change % Change  Market Capitalization        Country  IPO Year  \\\n",
       "0      -1.245  -0.931%           3.979400e+10  United States    1999.0   \n",
       "1       1.140   1.464%           1.464499e+10            NaN    2016.0   \n",
       "2      -0.010  -0.102%           1.218750e+09            NaN    2021.0   \n",
       "3      -0.020  -1.471%           4.204507e+07          China       NaN   \n",
       "4      -0.020  -0.204%           2.027460e+08  United States    2021.0   \n",
       "\n",
       "    Volume            Sector                        Industry  \n",
       "0   351530     Capital Goods             Electrical Products  \n",
       "1  3394629  Basic Industries              Metal Fabrications  \n",
       "2     2630           Finance               Business Services  \n",
       "3    13606     Miscellaneous  Service to the Health Industry  \n",
       "4    13003               NaN                             NaN  "
      ]
     },
     "execution_count": 8,
     "metadata": {},
     "output_type": "execute_result"
    }
   ],
   "source": [
    "# NASDAQ listings from https://www.nasdaq.com/market-activity/stocks/screener \n",
    "# Looks like the listings data for the exercise is from Nasdaq rather than NYSE\n",
    "nasdaq = pd.read_csv(ddir('nasdaq_screener_1646066842549.csv')).rename(\n",
    "    columns={'Symbol': 'Stock Symbol', 'Market Cap': 'Market Capitalization', 'Name': 'Company Name'}\n",
    ")\n",
    "nasdaq['Last Sale'] = nasdaq['Last Sale'].replace({'\\$': '', ',': ''}, regex=True).astype(float)\n",
    "nasdaq.head()"
   ]
  },
  {
   "cell_type": "code",
   "execution_count": 9,
   "id": "bea1c738",
   "metadata": {},
   "outputs": [],
   "source": [
    "nasdaq.set_index('Stock Symbol', inplace=True) # Make Stock Symbol the index\n",
    "nasdaq.dropna(subset=['Sector'], inplace=True) # Remove stocks without sector info\n",
    "nasdaq['Market Capitalization'] /= 1e6 # Scale to million $ "
   ]
  },
  {
   "cell_type": "code",
   "execution_count": 10,
   "id": "12a048c4",
   "metadata": {},
   "outputs": [],
   "source": [
    "# Exercise only considers stocks that IPOd before 2019, need to filter\n",
    "# by this as well otherwise reading stock time series data fails \n",
    "# due to missing tickers.  Also fiddle with sector label to get things matching.\n",
    "nasdaq = nasdaq.loc[(nasdaq['IPO Year'] < 2016), :]\n",
    "nasdaq.loc['GS', 'Sector'] = 'Bank'\n",
    "nasdaq.loc['ILMN', 'Sector'] = 'Biotech'\n",
    "nasdaq.loc['CPRT', 'Sector'] = 'Finance'\n"
   ]
  },
  {
   "cell_type": "code",
   "execution_count": 11,
   "id": "f48d02ae",
   "metadata": {},
   "outputs": [
    {
     "name": "stdout",
     "output_type": "stream",
     "text": [
      "<class 'pandas.core.frame.DataFrame'>\n",
      "Index: 1595 entries, A to ZYNE\n",
      "Data columns (total 10 columns):\n",
      " #   Column                 Non-Null Count  Dtype  \n",
      "---  ------                 --------------  -----  \n",
      " 0   Company Name           1595 non-null   object \n",
      " 1   Last Sale              1595 non-null   float64\n",
      " 2   Net Change             1595 non-null   float64\n",
      " 3   % Change               1595 non-null   object \n",
      " 4   Market Capitalization  1595 non-null   float64\n",
      " 5   Country                1491 non-null   object \n",
      " 6   IPO Year               1595 non-null   float64\n",
      " 7   Volume                 1595 non-null   int64  \n",
      " 8   Sector                 1595 non-null   object \n",
      " 9   Industry               1595 non-null   object \n",
      "dtypes: float64(4), int64(1), object(5)\n",
      "memory usage: 201.6+ KB\n"
     ]
    }
   ],
   "source": [
    "nasdaq.info()"
   ]
  },
  {
   "cell_type": "code",
   "execution_count": 12,
   "id": "9d2e8020",
   "metadata": {},
   "outputs": [],
   "source": [
    "# nasdaq.loc[nasdaq.index.isin(data.columns), :]"
   ]
  },
  {
   "cell_type": "code",
   "execution_count": 13,
   "id": "0b0e13c5",
   "metadata": {},
   "outputs": [
    {
     "data": {
      "text/plain": [
       "Sector                 Stock Symbol\n",
       "Technology             AAPL            2.862482e+06\n",
       "Consumer Services      AMZN            1.570406e+06\n",
       "Miscellaneous          MA              3.545385e+05\n",
       "Transportation         UPS             1.810327e+05\n",
       "Basic Industries       RIO             1.279028e+05\n",
       "Health Care            AMGN            1.259611e+05\n",
       "Bank                   GS              1.141503e+05\n",
       "Consumer Non-Durables  EL              1.064988e+05\n",
       "Biotech                ILMN            5.161532e+04\n",
       "Public Utilities       TEF             2.699653e+04\n",
       "Energy                 PAA             7.484558e+03\n",
       "Name: Market Capitalization, dtype: float64"
      ]
     },
     "execution_count": 13,
     "metadata": {},
     "output_type": "execute_result"
    }
   ],
   "source": [
    "allowed_sectors = ['Technology', 'Health Care', 'Consumer Services', 'Miscellaneous',\n",
    " 'Consumer Non-Durables', 'Bank', 'Health Care', 'Biotech', 'Energy', 'Basic Industries',\n",
    " 'Public Utilities', 'Transportation']\n",
    "disallowed_stocks = ['LIN', 'TSLA', 'GNRC', 'MPLX', 'HDB', 'ABBV', 'KMI', 'FANG', 'RSG',\n",
    "                    'CLR', 'AWK', 'WES', 'PSXP']\n",
    "components = nasdaq.loc[\n",
    "    nasdaq.Sector.isin(allowed_sectors) & ~nasdaq.index.isin(disallowed_stocks), :\n",
    "].groupby('Sector')['Market Capitalization'].nlargest(1)\n",
    "components.sort_values(ascending=False)"
   ]
  },
  {
   "cell_type": "code",
   "execution_count": 14,
   "id": "09d52113",
   "metadata": {},
   "outputs": [
    {
     "name": "stdout",
     "output_type": "stream",
     "text": [
      "<class 'pandas.core.series.Series'>\n",
      "MultiIndex: 11 entries, ('Bank', 'GS') to ('Transportation', 'UPS')\n",
      "Series name: Market Capitalization\n",
      "Non-Null Count  Dtype  \n",
      "--------------  -----  \n",
      "11 non-null     float64\n",
      "dtypes: float64(1)\n",
      "memory usage: 1002.0+ bytes\n"
     ]
    }
   ],
   "source": [
    "components.info()"
   ]
  },
  {
   "cell_type": "code",
   "execution_count": 15,
   "id": "f84edc70",
   "metadata": {},
   "outputs": [
    {
     "data": {
      "text/plain": [
       "Index(['GS', 'RIO', 'ILMN', 'EL', 'AMZN', 'PAA', 'AMGN', 'MA', 'TEF', 'AAPL',\n",
       "       'UPS'],\n",
       "      dtype='object', name='Stock Symbol')"
      ]
     },
     "execution_count": 15,
     "metadata": {},
     "output_type": "execute_result"
    }
   ],
   "source": [
    "# Index is MultiIndex so use get_level_values to extract tickers\n",
    "tickers = components.index.get_level_values('Stock Symbol')\n",
    "tickers"
   ]
  },
  {
   "cell_type": "code",
   "execution_count": 16,
   "id": "1c96f4be",
   "metadata": {},
   "outputs": [
    {
     "data": {
      "text/html": [
       "<div>\n",
       "<style scoped>\n",
       "    .dataframe tbody tr th:only-of-type {\n",
       "        vertical-align: middle;\n",
       "    }\n",
       "\n",
       "    .dataframe tbody tr th {\n",
       "        vertical-align: top;\n",
       "    }\n",
       "\n",
       "    .dataframe thead th {\n",
       "        text-align: right;\n",
       "    }\n",
       "</style>\n",
       "<table border=\"1\" class=\"dataframe\">\n",
       "  <thead>\n",
       "    <tr style=\"text-align: right;\">\n",
       "      <th></th>\n",
       "      <th>Company Name</th>\n",
       "      <th>Market Capitalization</th>\n",
       "      <th>Last Sale</th>\n",
       "    </tr>\n",
       "    <tr>\n",
       "      <th>Stock Symbol</th>\n",
       "      <th></th>\n",
       "      <th></th>\n",
       "      <th></th>\n",
       "    </tr>\n",
       "  </thead>\n",
       "  <tbody>\n",
       "    <tr>\n",
       "      <th>AAPL</th>\n",
       "      <td>Apple Inc. Common Stock</td>\n",
       "      <td>2,862,481.52</td>\n",
       "      <td>165.10</td>\n",
       "    </tr>\n",
       "    <tr>\n",
       "      <th>AMZN</th>\n",
       "      <td>Amazon.com Inc. Common Stock</td>\n",
       "      <td>1,570,405.80</td>\n",
       "      <td>3,086.22</td>\n",
       "    </tr>\n",
       "    <tr>\n",
       "      <th>MA</th>\n",
       "      <td>Mastercard Incorporated Common Stock</td>\n",
       "      <td>354,538.52</td>\n",
       "      <td>362.71</td>\n",
       "    </tr>\n",
       "    <tr>\n",
       "      <th>UPS</th>\n",
       "      <td>United Parcel Service Inc. Common Stock</td>\n",
       "      <td>181,032.71</td>\n",
       "      <td>207.99</td>\n",
       "    </tr>\n",
       "    <tr>\n",
       "      <th>RIO</th>\n",
       "      <td>Rio Tinto Plc Common Stock</td>\n",
       "      <td>127,902.75</td>\n",
       "      <td>78.98</td>\n",
       "    </tr>\n",
       "    <tr>\n",
       "      <th>AMGN</th>\n",
       "      <td>Amgen Inc. Common Stock</td>\n",
       "      <td>125,961.05</td>\n",
       "      <td>226.13</td>\n",
       "    </tr>\n",
       "    <tr>\n",
       "      <th>GS</th>\n",
       "      <td>Goldman Sachs Group Inc. (The) Common Stock</td>\n",
       "      <td>114,150.30</td>\n",
       "      <td>342.20</td>\n",
       "    </tr>\n",
       "    <tr>\n",
       "      <th>EL</th>\n",
       "      <td>Estee Lauder Companies Inc. (The) Common Stock</td>\n",
       "      <td>106,498.85</td>\n",
       "      <td>296.93</td>\n",
       "    </tr>\n",
       "    <tr>\n",
       "      <th>ILMN</th>\n",
       "      <td>Illumina Inc. Common Stock</td>\n",
       "      <td>51,615.32</td>\n",
       "      <td>328.76</td>\n",
       "    </tr>\n",
       "    <tr>\n",
       "      <th>TEF</th>\n",
       "      <td>Telefonica SA Common Stock</td>\n",
       "      <td>26,996.53</td>\n",
       "      <td>4.74</td>\n",
       "    </tr>\n",
       "    <tr>\n",
       "      <th>PAA</th>\n",
       "      <td>Plains All American Pipeline L.P. Common Units...</td>\n",
       "      <td>7,484.56</td>\n",
       "      <td>10.53</td>\n",
       "    </tr>\n",
       "  </tbody>\n",
       "</table>\n",
       "</div>"
      ],
      "text/plain": [
       "                                                   Company Name  \\\n",
       "Stock Symbol                                                      \n",
       "AAPL                                    Apple Inc. Common Stock   \n",
       "AMZN                               Amazon.com Inc. Common Stock   \n",
       "MA                         Mastercard Incorporated Common Stock   \n",
       "UPS                     United Parcel Service Inc. Common Stock   \n",
       "RIO                                  Rio Tinto Plc Common Stock   \n",
       "AMGN                                    Amgen Inc. Common Stock   \n",
       "GS                  Goldman Sachs Group Inc. (The) Common Stock   \n",
       "EL               Estee Lauder Companies Inc. (The) Common Stock   \n",
       "ILMN                                 Illumina Inc. Common Stock   \n",
       "TEF                                  Telefonica SA Common Stock   \n",
       "PAA           Plains All American Pipeline L.P. Common Units...   \n",
       "\n",
       "              Market Capitalization  Last Sale  \n",
       "Stock Symbol                                    \n",
       "AAPL                   2,862,481.52     165.10  \n",
       "AMZN                   1,570,405.80   3,086.22  \n",
       "MA                       354,538.52     362.71  \n",
       "UPS                      181,032.71     207.99  \n",
       "RIO                      127,902.75      78.98  \n",
       "AMGN                     125,961.05     226.13  \n",
       "GS                       114,150.30     342.20  \n",
       "EL                       106,498.85     296.93  \n",
       "ILMN                      51,615.32     328.76  \n",
       "TEF                       26,996.53       4.74  \n",
       "PAA                        7,484.56      10.53  "
      ]
     },
     "execution_count": 16,
     "metadata": {},
     "output_type": "execute_result"
    }
   ],
   "source": [
    "columns = ['Company Name', 'Market Capitalization', 'Last Sale']\n",
    "component_info = nasdaq.loc[tickers, columns].sort_values('Market Capitalization', ascending=False)\n",
    "pd.options.display.float_format = '{:,.2f}'.format\n",
    "component_info"
   ]
  },
  {
   "cell_type": "code",
   "execution_count": 17,
   "id": "58373339",
   "metadata": {},
   "outputs": [
    {
     "name": "stdout",
     "output_type": "stream",
     "text": [
      "<class 'pandas.core.frame.DataFrame'>\n",
      "DatetimeIndex: 1761 entries, 2010-01-04 to 2016-12-30\n",
      "Data columns (total 11 columns):\n",
      " #   Column  Non-Null Count  Dtype  \n",
      "---  ------  --------------  -----  \n",
      " 0   GS      1761 non-null   float64\n",
      " 1   RIO     1761 non-null   float64\n",
      " 2   ILMN    1761 non-null   float64\n",
      " 3   EL      1761 non-null   float64\n",
      " 4   AMZN    1761 non-null   float64\n",
      " 5   PAA     1761 non-null   float64\n",
      " 6   AMGN    1761 non-null   float64\n",
      " 7   MA      1761 non-null   float64\n",
      " 8   TEF     1761 non-null   float64\n",
      " 9   AAPL    1761 non-null   float64\n",
      " 10  UPS     1761 non-null   float64\n",
      "dtypes: float64(11)\n",
      "memory usage: 165.1 KB\n"
     ]
    }
   ],
   "source": [
    "# Read the price time series data \n",
    "data = pd.read_csv(\n",
    "    ddir('stock_data.csv'), parse_dates=['Date'], index_col='Date'\n",
    ").loc[:, tickers.tolist()].dropna()\n",
    "data.info()"
   ]
  },
  {
   "cell_type": "code",
   "execution_count": 18,
   "id": "2d8ea9a7",
   "metadata": {},
   "outputs": [
    {
     "data": {
      "text/plain": [
       "AMZN   460.02\n",
       "ILMN   319.12\n",
       "MA     302.06\n",
       "AAPL   278.87\n",
       "EL     215.16\n",
       "AMGN   153.31\n",
       "UPS     97.04\n",
       "GS      38.35\n",
       "PAA     19.59\n",
       "RIO    -31.36\n",
       "TEF    -67.78\n",
       "dtype: float64"
      ]
     },
     "execution_count": 18,
     "metadata": {},
     "output_type": "execute_result"
    }
   ],
   "source": [
    "# Look at price returns over period\n",
    "price_return = data.iloc[-1].div(data.iloc[0]).sub(1).mul(100).sort_values(ascending=False)\n",
    "price_return"
   ]
  },
  {
   "cell_type": "code",
   "execution_count": 19,
   "id": "93522f6c",
   "metadata": {},
   "outputs": [
    {
     "data": {
      "image/png": "[encoded data removed]",
      "text/plain": [
       "<Figure size 432x288 with 1 Axes>"
      ]
     },
     "metadata": {
      "needs_background": "light"
     },
     "output_type": "display_data"
    }
   ],
   "source": [
    "price_return.sort_values().plot(title='Stock Price Returns', kind='barh')\n",
    "plt.show()"
   ]
  },
  {
   "cell_type": "markdown",
   "id": "661ca80b",
   "metadata": {},
   "source": [
    "## Build a Market Cap Weighted Index"
   ]
  },
  {
   "cell_type": "code",
   "execution_count": 20,
   "id": "d4e87ae7",
   "metadata": {},
   "outputs": [
    {
     "data": {
      "text/plain": [
       "Stock Symbol\n",
       "AAPL   17,337.34\n",
       "TEF     5,701.49\n",
       "RIO     1,619.43\n",
       "MA        977.48\n",
       "UPS       870.39\n",
       "PAA       711.12\n",
       "AMGN      557.03\n",
       "AMZN      508.84\n",
       "EL        358.67\n",
       "GS        333.58\n",
       "ILMN      157.00\n",
       "dtype: float64"
      ]
     },
     "execution_count": 20,
     "metadata": {},
     "output_type": "execute_result"
    }
   ],
   "source": [
    "shares = component_info['Market Capitalization'].div(component_info['Last Sale'])\n",
    "shares.sort_values(ascending=False)"
   ]
  },
  {
   "cell_type": "code",
   "execution_count": 21,
   "id": "d8911f5a",
   "metadata": {},
   "outputs": [
    {
     "data": {
      "image/png": "[encoded data removed]",
      "text/plain": [
       "<Figure size 432x288 with 1 Axes>"
      ]
     },
     "metadata": {
      "needs_background": "light"
     },
     "output_type": "display_data"
    }
   ],
   "source": [
    "market_cap_series = data.mul(shares)\n",
    "_ = market_cap_series.plot(logy=True)"
   ]
  },
  {
   "cell_type": "code",
   "execution_count": 22,
   "id": "7d8abc34",
   "metadata": {},
   "outputs": [
    {
     "data": {
      "text/html": [
       "<div>\n",
       "<style scoped>\n",
       "    .dataframe tbody tr th:only-of-type {\n",
       "        vertical-align: middle;\n",
       "    }\n",
       "\n",
       "    .dataframe tbody tr th {\n",
       "        vertical-align: top;\n",
       "    }\n",
       "\n",
       "    .dataframe thead th {\n",
       "        text-align: right;\n",
       "    }\n",
       "</style>\n",
       "<table border=\"1\" class=\"dataframe\">\n",
       "  <thead>\n",
       "    <tr style=\"text-align: right;\">\n",
       "      <th></th>\n",
       "      <th>AAPL</th>\n",
       "      <th>AMGN</th>\n",
       "      <th>AMZN</th>\n",
       "      <th>EL</th>\n",
       "      <th>GS</th>\n",
       "      <th>ILMN</th>\n",
       "      <th>MA</th>\n",
       "      <th>PAA</th>\n",
       "      <th>RIO</th>\n",
       "      <th>TEF</th>\n",
       "      <th>UPS</th>\n",
       "    </tr>\n",
       "    <tr>\n",
       "      <th>Date</th>\n",
       "      <th></th>\n",
       "      <th></th>\n",
       "      <th></th>\n",
       "      <th></th>\n",
       "      <th></th>\n",
       "      <th></th>\n",
       "      <th></th>\n",
       "      <th></th>\n",
       "      <th></th>\n",
       "      <th></th>\n",
       "      <th></th>\n",
       "    </tr>\n",
       "  </thead>\n",
       "  <tbody>\n",
       "    <tr>\n",
       "      <th>2010-01-04</th>\n",
       "      <td>530,002.48</td>\n",
       "      <td>32,151.74</td>\n",
       "      <td>68,134.27</td>\n",
       "      <td>8,704.84</td>\n",
       "      <td>57,735.63</td>\n",
       "      <td>4,796.35</td>\n",
       "      <td>25,101.59</td>\n",
       "      <td>19,200.29</td>\n",
       "      <td>90,736.79</td>\n",
       "      <td>162,777.41</td>\n",
       "      <td>50,639.37</td>\n",
       "    </tr>\n",
       "    <tr>\n",
       "      <th>2016-12-30</th>\n",
       "      <td>2,008,010.72</td>\n",
       "      <td>81,443.26</td>\n",
       "      <td>381,567.16</td>\n",
       "      <td>27,434.40</td>\n",
       "      <td>79,875.19</td>\n",
       "      <td>20,102.28</td>\n",
       "      <td>100,924.44</td>\n",
       "      <td>22,962.13</td>\n",
       "      <td>62,283.36</td>\n",
       "      <td>52,453.67</td>\n",
       "      <td>99,781.67</td>\n",
       "    </tr>\n",
       "  </tbody>\n",
       "</table>\n",
       "</div>"
      ],
      "text/plain": [
       "                   AAPL      AMGN       AMZN        EL        GS      ILMN  \\\n",
       "Date                                                                         \n",
       "2010-01-04   530,002.48 32,151.74  68,134.27  8,704.84 57,735.63  4,796.35   \n",
       "2016-12-30 2,008,010.72 81,443.26 381,567.16 27,434.40 79,875.19 20,102.28   \n",
       "\n",
       "                   MA       PAA       RIO        TEF       UPS  \n",
       "Date                                                            \n",
       "2010-01-04  25,101.59 19,200.29 90,736.79 162,777.41 50,639.37  \n",
       "2016-12-30 100,924.44 22,962.13 62,283.36  52,453.67 99,781.67  "
      ]
     },
     "execution_count": 22,
     "metadata": {},
     "output_type": "execute_result"
    }
   ],
   "source": [
    "# market_cap_series.first('D').append(market_cap_series.last('D'))  # .append is deprecated\n",
    "pd.concat([market_cap_series.first('D'), market_cap_series.last('D')], axis=0)"
   ]
  },
  {
   "cell_type": "code",
   "execution_count": 23,
   "id": "28cc2aa9",
   "metadata": {},
   "outputs": [
    {
     "data": {
      "image/png": "[encoded data removed]",
      "text/plain": [
       "<Figure size 432x288 with 1 Axes>"
      ]
     },
     "metadata": {
      "needs_background": "light"
     },
     "output_type": "display_data"
    }
   ],
   "source": [
    "agg_mcap = market_cap_series.sum(axis=1)\n",
    "_ = agg_mcap.plot(title='Aggregate Market Cap')"
   ]
  },
  {
   "cell_type": "code",
   "execution_count": 24,
   "id": "405ec826",
   "metadata": {},
   "outputs": [
    {
     "data": {
      "image/png": "[encoded data removed]",
      "text/plain": [
       "<Figure size 432x288 with 1 Axes>"
      ]
     },
     "metadata": {
      "needs_background": "light"
     },
     "output_type": "display_data"
    }
   ],
   "source": [
    "mcap_index = agg_mcap.div(agg_mcap.iloc[0]).mul(100)\n",
    "_ = mcap_index.plot(title='Market-Cap Weighted Index')"
   ]
  },
  {
   "cell_type": "markdown",
   "id": "9155ec80",
   "metadata": {},
   "source": [
    "## Evaluate Index Performance"
   ]
  },
  {
   "cell_type": "code",
   "execution_count": 25,
   "id": "7a13636d",
   "metadata": {},
   "outputs": [
    {
     "name": "stdout",
     "output_type": "stream",
     "text": [
      "Companies in index added $1,886,857.52M in value\n"
     ]
    }
   ],
   "source": [
    "# Total performance of companies in index\n",
    "print(f'Companies in index added ${agg_mcap.iloc[-1] - agg_mcap.iloc[0]:,.2f}M in value')"
   ]
  },
  {
   "cell_type": "code",
   "execution_count": 26,
   "id": "094d9602",
   "metadata": {},
   "outputs": [
    {
     "data": {
      "text/plain": [
       "TEF     -110,323.74\n",
       "RIO      -28,453.42\n",
       "PAA        3,761.83\n",
       "ILMN      15,305.93\n",
       "EL        18,729.57\n",
       "GS        22,139.55\n",
       "UPS       49,142.30\n",
       "AMGN      49,291.53\n",
       "MA        75,822.85\n",
       "AMZN     313,432.89\n",
       "AAPL   1,478,008.24\n",
       "Name: 2016-12-30 00:00:00, dtype: float64"
      ]
     },
     "execution_count": 26,
     "metadata": {},
     "output_type": "execute_result"
    }
   ],
   "source": [
    "change = pd.concat([market_cap_series.first('D'), market_cap_series.last('D')], axis=0)\n",
    "change.diff().iloc[-1].sort_values()"
   ]
  },
  {
   "cell_type": "code",
   "execution_count": 27,
   "id": "963b256f",
   "metadata": {},
   "outputs": [
    {
     "data": {
      "text/plain": [
       "Stock Symbol\n",
       "AAPL   0.52\n",
       "AMZN   0.28\n",
       "MA     0.06\n",
       "UPS    0.03\n",
       "RIO    0.02\n",
       "AMGN   0.02\n",
       "GS     0.02\n",
       "EL     0.02\n",
       "ILMN   0.01\n",
       "TEF    0.00\n",
       "PAA    0.00\n",
       "Name: Market Capitalization, dtype: float64"
      ]
     },
     "execution_count": 27,
     "metadata": {},
     "output_type": "execute_result"
    }
   ],
   "source": [
    "weights = component_info['Market Capitalization'].div(component_info['Market Capitalization'].sum())\n",
    "weights"
   ]
  },
  {
   "cell_type": "code",
   "execution_count": 28,
   "id": "6597414f",
   "metadata": {},
   "outputs": [
    {
     "data": {
      "text/plain": [
       "179.70400981479017"
      ]
     },
     "execution_count": 28,
     "metadata": {},
     "output_type": "execute_result"
    }
   ],
   "source": [
    "index_return = (mcap_index.iloc[-1]/mcap_index.iloc[0] - 1)*100\n",
    "index_return"
   ]
  },
  {
   "cell_type": "code",
   "execution_count": 29,
   "id": "6f242cc7",
   "metadata": {},
   "outputs": [
    {
     "data": {
      "image/png": "[encoded data removed]",
      "text/plain": [
       "<Figure size 432x288 with 1 Axes>"
      ]
     },
     "metadata": {
      "needs_background": "light"
     },
     "output_type": "display_data"
    }
   ],
   "source": [
    "weighted_return = weights.mul(index_return)\n",
    "_ = weighted_return.sort_values().plot(kind='barh')"
   ]
  },
  {
   "cell_type": "code",
   "execution_count": 30,
   "id": "05b4dd3d",
   "metadata": {},
   "outputs": [
    {
     "data": {
      "image/png": "[encoded data removed]",
      "text/plain": [
       "<Figure size 432x288 with 1 Axes>"
      ]
     },
     "metadata": {
      "needs_background": "light"
     },
     "output_type": "display_data"
    }
   ],
   "source": [
    "df_index = mcap_index.to_frame('Index')\n",
    "df_index['SP500'] = pd.read_csv(ddir('sp500.csv'), parse_dates=['date'], index_col='date')\n",
    "df_index['SP500'] = df_index['SP500'].div(df_index['SP500'].iloc[0]).mul(100)\n",
    "_ = df_index.plot()"
   ]
  },
  {
   "cell_type": "code",
   "execution_count": 31,
   "id": "1259c390",
   "metadata": {},
   "outputs": [],
   "source": [
    "# Multi period returns\n",
    "def multi_period_returns(r):\n",
    "    return (np.prod(1 + r) - 1) * 100"
   ]
  },
  {
   "cell_type": "code",
   "execution_count": 32,
   "id": "628e6f70",
   "metadata": {},
   "outputs": [
    {
     "data": {
      "image/png": "[encoded data removed]",
      "text/plain": [
       "<Figure size 432x288 with 1 Axes>"
      ]
     },
     "metadata": {
      "needs_background": "light"
     },
     "output_type": "display_data"
    }
   ],
   "source": [
    "_ = df_index.pct_change().rolling('30D').apply(multi_period_returns).plot()"
   ]
  },
  {
   "cell_type": "markdown",
   "id": "a782d160",
   "metadata": {},
   "source": [
    "## Index Correlation and Exporting to Excel"
   ]
  },
  {
   "cell_type": "code",
   "execution_count": 33,
   "id": "0e543dc4",
   "metadata": {},
   "outputs": [
    {
     "data": {
      "text/html": [
       "<div>\n",
       "<style scoped>\n",
       "    .dataframe tbody tr th:only-of-type {\n",
       "        vertical-align: middle;\n",
       "    }\n",
       "\n",
       "    .dataframe tbody tr th {\n",
       "        vertical-align: top;\n",
       "    }\n",
       "\n",
       "    .dataframe thead th {\n",
       "        text-align: right;\n",
       "    }\n",
       "</style>\n",
       "<table border=\"1\" class=\"dataframe\">\n",
       "  <thead>\n",
       "    <tr style=\"text-align: right;\">\n",
       "      <th></th>\n",
       "      <th>GS</th>\n",
       "      <th>RIO</th>\n",
       "      <th>ILMN</th>\n",
       "      <th>EL</th>\n",
       "      <th>AMZN</th>\n",
       "      <th>PAA</th>\n",
       "      <th>AMGN</th>\n",
       "      <th>MA</th>\n",
       "      <th>TEF</th>\n",
       "      <th>AAPL</th>\n",
       "      <th>UPS</th>\n",
       "    </tr>\n",
       "  </thead>\n",
       "  <tbody>\n",
       "    <tr>\n",
       "      <th>GS</th>\n",
       "      <td>1.00</td>\n",
       "      <td>0.53</td>\n",
       "      <td>0.27</td>\n",
       "      <td>0.36</td>\n",
       "      <td>0.33</td>\n",
       "      <td>0.27</td>\n",
       "      <td>0.39</td>\n",
       "      <td>0.47</td>\n",
       "      <td>0.50</td>\n",
       "      <td>0.34</td>\n",
       "      <td>0.51</td>\n",
       "    </tr>\n",
       "    <tr>\n",
       "      <th>RIO</th>\n",
       "      <td>0.53</td>\n",
       "      <td>1.00</td>\n",
       "      <td>0.23</td>\n",
       "      <td>0.41</td>\n",
       "      <td>0.32</td>\n",
       "      <td>0.34</td>\n",
       "      <td>0.31</td>\n",
       "      <td>0.44</td>\n",
       "      <td>0.56</td>\n",
       "      <td>0.36</td>\n",
       "      <td>0.51</td>\n",
       "    </tr>\n",
       "    <tr>\n",
       "      <th>ILMN</th>\n",
       "      <td>0.27</td>\n",
       "      <td>0.23</td>\n",
       "      <td>1.00</td>\n",
       "      <td>0.21</td>\n",
       "      <td>0.24</td>\n",
       "      <td>0.16</td>\n",
       "      <td>0.34</td>\n",
       "      <td>0.30</td>\n",
       "      <td>0.23</td>\n",
       "      <td>0.26</td>\n",
       "      <td>0.27</td>\n",
       "    </tr>\n",
       "    <tr>\n",
       "      <th>EL</th>\n",
       "      <td>0.36</td>\n",
       "      <td>0.41</td>\n",
       "      <td>0.21</td>\n",
       "      <td>1.00</td>\n",
       "      <td>0.33</td>\n",
       "      <td>0.21</td>\n",
       "      <td>0.35</td>\n",
       "      <td>0.43</td>\n",
       "      <td>0.43</td>\n",
       "      <td>0.31</td>\n",
       "      <td>0.46</td>\n",
       "    </tr>\n",
       "    <tr>\n",
       "      <th>AMZN</th>\n",
       "      <td>0.33</td>\n",
       "      <td>0.32</td>\n",
       "      <td>0.24</td>\n",
       "      <td>0.33</td>\n",
       "      <td>1.00</td>\n",
       "      <td>0.18</td>\n",
       "      <td>0.32</td>\n",
       "      <td>0.43</td>\n",
       "      <td>0.33</td>\n",
       "      <td>0.33</td>\n",
       "      <td>0.38</td>\n",
       "    </tr>\n",
       "    <tr>\n",
       "      <th>PAA</th>\n",
       "      <td>0.27</td>\n",
       "      <td>0.34</td>\n",
       "      <td>0.16</td>\n",
       "      <td>0.21</td>\n",
       "      <td>0.18</td>\n",
       "      <td>1.00</td>\n",
       "      <td>0.23</td>\n",
       "      <td>0.24</td>\n",
       "      <td>0.25</td>\n",
       "      <td>0.21</td>\n",
       "      <td>0.22</td>\n",
       "    </tr>\n",
       "    <tr>\n",
       "      <th>AMGN</th>\n",
       "      <td>0.39</td>\n",
       "      <td>0.31</td>\n",
       "      <td>0.34</td>\n",
       "      <td>0.35</td>\n",
       "      <td>0.32</td>\n",
       "      <td>0.23</td>\n",
       "      <td>1.00</td>\n",
       "      <td>0.40</td>\n",
       "      <td>0.37</td>\n",
       "      <td>0.29</td>\n",
       "      <td>0.43</td>\n",
       "    </tr>\n",
       "    <tr>\n",
       "      <th>MA</th>\n",
       "      <td>0.47</td>\n",
       "      <td>0.44</td>\n",
       "      <td>0.30</td>\n",
       "      <td>0.43</td>\n",
       "      <td>0.43</td>\n",
       "      <td>0.24</td>\n",
       "      <td>0.40</td>\n",
       "      <td>1.00</td>\n",
       "      <td>0.45</td>\n",
       "      <td>0.39</td>\n",
       "      <td>0.49</td>\n",
       "    </tr>\n",
       "    <tr>\n",
       "      <th>TEF</th>\n",
       "      <td>0.50</td>\n",
       "      <td>0.56</td>\n",
       "      <td>0.23</td>\n",
       "      <td>0.43</td>\n",
       "      <td>0.33</td>\n",
       "      <td>0.25</td>\n",
       "      <td>0.37</td>\n",
       "      <td>0.45</td>\n",
       "      <td>1.00</td>\n",
       "      <td>0.33</td>\n",
       "      <td>0.52</td>\n",
       "    </tr>\n",
       "    <tr>\n",
       "      <th>AAPL</th>\n",
       "      <td>0.34</td>\n",
       "      <td>0.36</td>\n",
       "      <td>0.26</td>\n",
       "      <td>0.31</td>\n",
       "      <td>0.33</td>\n",
       "      <td>0.21</td>\n",
       "      <td>0.29</td>\n",
       "      <td>0.39</td>\n",
       "      <td>0.33</td>\n",
       "      <td>1.00</td>\n",
       "      <td>0.37</td>\n",
       "    </tr>\n",
       "    <tr>\n",
       "      <th>UPS</th>\n",
       "      <td>0.51</td>\n",
       "      <td>0.51</td>\n",
       "      <td>0.27</td>\n",
       "      <td>0.46</td>\n",
       "      <td>0.38</td>\n",
       "      <td>0.22</td>\n",
       "      <td>0.43</td>\n",
       "      <td>0.49</td>\n",
       "      <td>0.52</td>\n",
       "      <td>0.37</td>\n",
       "      <td>1.00</td>\n",
       "    </tr>\n",
       "  </tbody>\n",
       "</table>\n",
       "</div>"
      ],
      "text/plain": [
       "       GS  RIO  ILMN   EL  AMZN  PAA  AMGN   MA  TEF  AAPL  UPS\n",
       "GS   1.00 0.53  0.27 0.36  0.33 0.27  0.39 0.47 0.50  0.34 0.51\n",
       "RIO  0.53 1.00  0.23 0.41  0.32 0.34  0.31 0.44 0.56  0.36 0.51\n",
       "ILMN 0.27 0.23  1.00 0.21  0.24 0.16  0.34 0.30 0.23  0.26 0.27\n",
       "EL   0.36 0.41  0.21 1.00  0.33 0.21  0.35 0.43 0.43  0.31 0.46\n",
       "AMZN 0.33 0.32  0.24 0.33  1.00 0.18  0.32 0.43 0.33  0.33 0.38\n",
       "PAA  0.27 0.34  0.16 0.21  0.18 1.00  0.23 0.24 0.25  0.21 0.22\n",
       "AMGN 0.39 0.31  0.34 0.35  0.32 0.23  1.00 0.40 0.37  0.29 0.43\n",
       "MA   0.47 0.44  0.30 0.43  0.43 0.24  0.40 1.00 0.45  0.39 0.49\n",
       "TEF  0.50 0.56  0.23 0.43  0.33 0.25  0.37 0.45 1.00  0.33 0.52\n",
       "AAPL 0.34 0.36  0.26 0.31  0.33 0.21  0.29 0.39 0.33  1.00 0.37\n",
       "UPS  0.51 0.51  0.27 0.46  0.38 0.22  0.43 0.49 0.52  0.37 1.00"
      ]
     },
     "execution_count": 33,
     "metadata": {},
     "output_type": "execute_result"
    }
   ],
   "source": [
    "daily_returns = data.pct_change().dropna()\n",
    "correlations = daily_returns.corr()\n",
    "correlations"
   ]
  },
  {
   "cell_type": "code",
   "execution_count": 34,
   "id": "6cf77424",
   "metadata": {},
   "outputs": [
    {
     "data": {
      "image/png": "[encoded data removed]",
      "text/plain": [
       "<Figure size 432x288 with 2 Axes>"
      ]
     },
     "metadata": {
      "needs_background": "light"
     },
     "output_type": "display_data"
    }
   ],
   "source": [
    "_ = sns.heatmap(correlations, annot=True, cmap='RdBu', center=0)\n",
    "_ = plt.xticks(rotation=45)\n",
    "_ = plt.title('Daily Return Correlations')"
   ]
  },
  {
   "cell_type": "code",
   "execution_count": 35,
   "id": "772bbf16",
   "metadata": {},
   "outputs": [],
   "source": [
    "# correlations.to_excel(excel_writer=ddir('dc_correlation.xls'), sheet_name='correlations', startrow=1, startcol=1)"
   ]
  },
  {
   "cell_type": "code",
   "execution_count": 36,
   "id": "d4530431",
   "metadata": {},
   "outputs": [],
   "source": [
    "with pd.ExcelWriter(ddir('dc_stock_data.xlsx')) as writer:\n",
    "    correlations.to_excel(excel_writer=writer, sheet_name='correlations')\n",
    "    data.to_excel(excel_writer=writer, sheet_name='prices')\n",
    "    data.pct_change().to_excel(excel_writer=writer, sheet_name='returns')"
   ]
  },
  {
   "cell_type": "markdown",
   "id": "d51030e5",
   "metadata": {},
   "source": [
    "# Time Series Analysis\n",
    "Second course in Skill Track - look at AR, MA, ACF etc"
   ]
  },
  {
   "cell_type": "code",
   "execution_count": 70,
   "id": "fab75abc",
   "metadata": {},
   "outputs": [],
   "source": [
    "from statsmodels.tsa.arima_process import ArmaProcess\n",
    "from statsmodels.graphics.tsaplots import plot_acf, plot_pacf\n",
    "from statsmodels.tsa.stattools import adfuller, coint\n",
    "from statsmodels.tsa.arima_model import ARMA"
   ]
  },
  {
   "cell_type": "code",
   "execution_count": 38,
   "id": "c1bbb8d1",
   "metadata": {},
   "outputs": [
    {
     "data": {
      "text/html": [
       "<div>\n",
       "<style scoped>\n",
       "    .dataframe tbody tr th:only-of-type {\n",
       "        vertical-align: middle;\n",
       "    }\n",
       "\n",
       "    .dataframe tbody tr th {\n",
       "        vertical-align: top;\n",
       "    }\n",
       "\n",
       "    .dataframe thead th {\n",
       "        text-align: right;\n",
       "    }\n",
       "</style>\n",
       "<table border=\"1\" class=\"dataframe\">\n",
       "  <thead>\n",
       "    <tr style=\"text-align: right;\">\n",
       "      <th></th>\n",
       "      <th>GS</th>\n",
       "      <th>RIO</th>\n",
       "      <th>ILMN</th>\n",
       "      <th>EL</th>\n",
       "      <th>AMZN</th>\n",
       "      <th>PAA</th>\n",
       "      <th>AMGN</th>\n",
       "      <th>MA</th>\n",
       "      <th>TEF</th>\n",
       "      <th>AAPL</th>\n",
       "      <th>UPS</th>\n",
       "    </tr>\n",
       "    <tr>\n",
       "      <th>Date</th>\n",
       "      <th></th>\n",
       "      <th></th>\n",
       "      <th></th>\n",
       "      <th></th>\n",
       "      <th></th>\n",
       "      <th></th>\n",
       "      <th></th>\n",
       "      <th></th>\n",
       "      <th></th>\n",
       "      <th></th>\n",
       "      <th></th>\n",
       "    </tr>\n",
       "  </thead>\n",
       "  <tbody>\n",
       "    <tr>\n",
       "      <th>2010-01-05</th>\n",
       "      <td>0.02</td>\n",
       "      <td>0.02</td>\n",
       "      <td>-0.01</td>\n",
       "      <td>-0.00</td>\n",
       "      <td>0.01</td>\n",
       "      <td>0.01</td>\n",
       "      <td>-0.01</td>\n",
       "      <td>-0.00</td>\n",
       "      <td>-0.00</td>\n",
       "      <td>0.00</td>\n",
       "      <td>0.00</td>\n",
       "    </tr>\n",
       "    <tr>\n",
       "      <th>2010-01-06</th>\n",
       "      <td>-0.01</td>\n",
       "      <td>0.03</td>\n",
       "      <td>0.06</td>\n",
       "      <td>0.00</td>\n",
       "      <td>-0.02</td>\n",
       "      <td>-0.00</td>\n",
       "      <td>-0.01</td>\n",
       "      <td>-0.00</td>\n",
       "      <td>-0.01</td>\n",
       "      <td>-0.02</td>\n",
       "      <td>-0.01</td>\n",
       "    </tr>\n",
       "    <tr>\n",
       "      <th>2010-01-07</th>\n",
       "      <td>0.02</td>\n",
       "      <td>0.00</td>\n",
       "      <td>0.02</td>\n",
       "      <td>0.01</td>\n",
       "      <td>-0.02</td>\n",
       "      <td>-0.01</td>\n",
       "      <td>-0.01</td>\n",
       "      <td>-0.01</td>\n",
       "      <td>-0.02</td>\n",
       "      <td>-0.00</td>\n",
       "      <td>-0.01</td>\n",
       "    </tr>\n",
       "    <tr>\n",
       "      <th>2010-01-08</th>\n",
       "      <td>-0.02</td>\n",
       "      <td>0.01</td>\n",
       "      <td>0.01</td>\n",
       "      <td>0.00</td>\n",
       "      <td>0.03</td>\n",
       "      <td>0.00</td>\n",
       "      <td>0.01</td>\n",
       "      <td>0.00</td>\n",
       "      <td>-0.01</td>\n",
       "      <td>0.01</td>\n",
       "      <td>0.05</td>\n",
       "    </tr>\n",
       "    <tr>\n",
       "      <th>2010-01-11</th>\n",
       "      <td>-0.02</td>\n",
       "      <td>-0.01</td>\n",
       "      <td>0.02</td>\n",
       "      <td>0.01</td>\n",
       "      <td>-0.02</td>\n",
       "      <td>-0.00</td>\n",
       "      <td>0.00</td>\n",
       "      <td>-0.02</td>\n",
       "      <td>-0.02</td>\n",
       "      <td>-0.01</td>\n",
       "      <td>0.04</td>\n",
       "    </tr>\n",
       "  </tbody>\n",
       "</table>\n",
       "</div>"
      ],
      "text/plain": [
       "              GS   RIO  ILMN    EL  AMZN   PAA  AMGN    MA   TEF  AAPL   UPS\n",
       "Date                                                                        \n",
       "2010-01-05  0.02  0.02 -0.01 -0.00  0.01  0.01 -0.01 -0.00 -0.00  0.00  0.00\n",
       "2010-01-06 -0.01  0.03  0.06  0.00 -0.02 -0.00 -0.01 -0.00 -0.01 -0.02 -0.01\n",
       "2010-01-07  0.02  0.00  0.02  0.01 -0.02 -0.01 -0.01 -0.01 -0.02 -0.00 -0.01\n",
       "2010-01-08 -0.02  0.01  0.01  0.00  0.03  0.00  0.01  0.00 -0.01  0.01  0.05\n",
       "2010-01-11 -0.02 -0.01  0.02  0.01 -0.02 -0.00  0.00 -0.02 -0.02 -0.01  0.04"
      ]
     },
     "execution_count": 38,
     "metadata": {},
     "output_type": "execute_result"
    }
   ],
   "source": [
    "daily_returns.head()"
   ]
  },
  {
   "cell_type": "code",
   "execution_count": 39,
   "id": "a9ef53a7",
   "metadata": {},
   "outputs": [
    {
     "data": {
      "text/plain": [
       "1760"
      ]
     },
     "execution_count": 39,
     "metadata": {},
     "output_type": "execute_result"
    }
   ],
   "source": [
    "len(daily_returns)"
   ]
  },
  {
   "cell_type": "code",
   "execution_count": 40,
   "id": "e5e339c0",
   "metadata": {},
   "outputs": [
    {
     "data": {
      "image/png": "[encoded data removed]",
      "text/plain": [
       "<Figure size 432x288 with 1 Axes>"
      ]
     },
     "metadata": {
      "needs_background": "light"
     },
     "output_type": "display_data"
    }
   ],
   "source": [
    "_ = plot_acf(daily_returns.AMZN, lags=20, alpha=0.05)"
   ]
  },
  {
   "cell_type": "code",
   "execution_count": 41,
   "id": "94937313",
   "metadata": {},
   "outputs": [
    {
     "data": {
      "image/png": "[encoded data removed]",
      "text/plain": [
       "<Figure size 432x288 with 1 Axes>"
      ]
     },
     "metadata": {
      "needs_background": "light"
     },
     "output_type": "display_data"
    }
   ],
   "source": [
    "_ = plot_acf((1+daily_returns).resample('Q').prod().AMZN -1 , lags=20, alpha=0.05)"
   ]
  },
  {
   "cell_type": "code",
   "execution_count": 42,
   "id": "b38d630e",
   "metadata": {},
   "outputs": [
    {
     "data": {
      "text/html": [
       "<div>\n",
       "<style scoped>\n",
       "    .dataframe tbody tr th:only-of-type {\n",
       "        vertical-align: middle;\n",
       "    }\n",
       "\n",
       "    .dataframe tbody tr th {\n",
       "        vertical-align: top;\n",
       "    }\n",
       "\n",
       "    .dataframe thead th {\n",
       "        text-align: right;\n",
       "    }\n",
       "</style>\n",
       "<table border=\"1\" class=\"dataframe\">\n",
       "  <thead>\n",
       "    <tr style=\"text-align: right;\">\n",
       "      <th></th>\n",
       "      <th>GS</th>\n",
       "      <th>RIO</th>\n",
       "      <th>ILMN</th>\n",
       "      <th>EL</th>\n",
       "      <th>AMZN</th>\n",
       "      <th>PAA</th>\n",
       "      <th>AMGN</th>\n",
       "      <th>MA</th>\n",
       "      <th>TEF</th>\n",
       "      <th>AAPL</th>\n",
       "      <th>UPS</th>\n",
       "    </tr>\n",
       "    <tr>\n",
       "      <th>Date</th>\n",
       "      <th></th>\n",
       "      <th></th>\n",
       "      <th></th>\n",
       "      <th></th>\n",
       "      <th></th>\n",
       "      <th></th>\n",
       "      <th></th>\n",
       "      <th></th>\n",
       "      <th></th>\n",
       "      <th></th>\n",
       "      <th></th>\n",
       "    </tr>\n",
       "  </thead>\n",
       "  <tbody>\n",
       "    <tr>\n",
       "      <th>2010-06-30</th>\n",
       "      <td>-0.23</td>\n",
       "      <td>-0.26</td>\n",
       "      <td>0.12</td>\n",
       "      <td>-0.14</td>\n",
       "      <td>-0.20</td>\n",
       "      <td>0.03</td>\n",
       "      <td>-0.12</td>\n",
       "      <td>-0.21</td>\n",
       "      <td>-0.22</td>\n",
       "      <td>0.07</td>\n",
       "      <td>-0.12</td>\n",
       "    </tr>\n",
       "    <tr>\n",
       "      <th>2010-09-30</th>\n",
       "      <td>0.10</td>\n",
       "      <td>0.35</td>\n",
       "      <td>0.13</td>\n",
       "      <td>0.13</td>\n",
       "      <td>0.44</td>\n",
       "      <td>0.07</td>\n",
       "      <td>0.05</td>\n",
       "      <td>0.12</td>\n",
       "      <td>0.34</td>\n",
       "      <td>0.13</td>\n",
       "      <td>0.17</td>\n",
       "    </tr>\n",
       "    <tr>\n",
       "      <th>2010-12-31</th>\n",
       "      <td>0.16</td>\n",
       "      <td>0.22</td>\n",
       "      <td>0.29</td>\n",
       "      <td>0.28</td>\n",
       "      <td>0.15</td>\n",
       "      <td>-0.00</td>\n",
       "      <td>-0.00</td>\n",
       "      <td>0.00</td>\n",
       "      <td>-0.08</td>\n",
       "      <td>0.14</td>\n",
       "      <td>0.09</td>\n",
       "    </tr>\n",
       "    <tr>\n",
       "      <th>2011-03-31</th>\n",
       "      <td>-0.06</td>\n",
       "      <td>-0.01</td>\n",
       "      <td>0.11</td>\n",
       "      <td>0.19</td>\n",
       "      <td>0.00</td>\n",
       "      <td>0.01</td>\n",
       "      <td>-0.03</td>\n",
       "      <td>0.12</td>\n",
       "      <td>0.11</td>\n",
       "      <td>0.08</td>\n",
       "      <td>0.02</td>\n",
       "    </tr>\n",
       "    <tr>\n",
       "      <th>2011-06-30</th>\n",
       "      <td>-0.16</td>\n",
       "      <td>0.02</td>\n",
       "      <td>0.07</td>\n",
       "      <td>0.09</td>\n",
       "      <td>0.14</td>\n",
       "      <td>0.00</td>\n",
       "      <td>0.09</td>\n",
       "      <td>0.20</td>\n",
       "      <td>-0.03</td>\n",
       "      <td>-0.04</td>\n",
       "      <td>-0.02</td>\n",
       "    </tr>\n",
       "  </tbody>\n",
       "</table>\n",
       "</div>"
      ],
      "text/plain": [
       "              GS   RIO  ILMN    EL  AMZN   PAA  AMGN    MA   TEF  AAPL   UPS\n",
       "Date                                                                        \n",
       "2010-06-30 -0.23 -0.26  0.12 -0.14 -0.20  0.03 -0.12 -0.21 -0.22  0.07 -0.12\n",
       "2010-09-30  0.10  0.35  0.13  0.13  0.44  0.07  0.05  0.12  0.34  0.13  0.17\n",
       "2010-12-31  0.16  0.22  0.29  0.28  0.15 -0.00 -0.00  0.00 -0.08  0.14  0.09\n",
       "2011-03-31 -0.06 -0.01  0.11  0.19  0.00  0.01 -0.03  0.12  0.11  0.08  0.02\n",
       "2011-06-30 -0.16  0.02  0.07  0.09  0.14  0.00  0.09  0.20 -0.03 -0.04 -0.02"
      ]
     },
     "execution_count": 42,
     "metadata": {},
     "output_type": "execute_result"
    }
   ],
   "source": [
    "quarterly_returns = data.resample('Q').last().pct_change().dropna()\n",
    "quarterly_returns.head()"
   ]
  },
  {
   "cell_type": "code",
   "execution_count": 43,
   "id": "6443cb58",
   "metadata": {},
   "outputs": [
    {
     "data": {
      "image/png": "[encoded data removed]",
      "text/plain": [
       "<Figure size 432x288 with 1 Axes>"
      ]
     },
     "metadata": {
      "needs_background": "light"
     },
     "output_type": "display_data"
    }
   ],
   "source": [
    "_ = plot_acf(quarterly_returns.AMZN, lags=20, alpha=0.05)"
   ]
  },
  {
   "cell_type": "code",
   "execution_count": 44,
   "id": "9e274bb9",
   "metadata": {},
   "outputs": [
    {
     "data": {
      "text/html": [
       "<div>\n",
       "<style scoped>\n",
       "    .dataframe tbody tr th:only-of-type {\n",
       "        vertical-align: middle;\n",
       "    }\n",
       "\n",
       "    .dataframe tbody tr th {\n",
       "        vertical-align: top;\n",
       "    }\n",
       "\n",
       "    .dataframe thead th {\n",
       "        text-align: right;\n",
       "    }\n",
       "</style>\n",
       "<table border=\"1\" class=\"dataframe\">\n",
       "  <thead>\n",
       "    <tr style=\"text-align: right;\">\n",
       "      <th></th>\n",
       "      <th>GS</th>\n",
       "      <th>RIO</th>\n",
       "      <th>ILMN</th>\n",
       "      <th>EL</th>\n",
       "      <th>AMZN</th>\n",
       "      <th>PAA</th>\n",
       "      <th>AMGN</th>\n",
       "      <th>MA</th>\n",
       "      <th>TEF</th>\n",
       "      <th>AAPL</th>\n",
       "      <th>UPS</th>\n",
       "    </tr>\n",
       "    <tr>\n",
       "      <th>Date</th>\n",
       "      <th></th>\n",
       "      <th></th>\n",
       "      <th></th>\n",
       "      <th></th>\n",
       "      <th></th>\n",
       "      <th></th>\n",
       "      <th></th>\n",
       "      <th></th>\n",
       "      <th></th>\n",
       "      <th></th>\n",
       "      <th></th>\n",
       "    </tr>\n",
       "  </thead>\n",
       "  <tbody>\n",
       "    <tr>\n",
       "      <th>2010-03-31</th>\n",
       "      <td>-0.01</td>\n",
       "      <td>0.06</td>\n",
       "      <td>0.27</td>\n",
       "      <td>0.34</td>\n",
       "      <td>0.01</td>\n",
       "      <td>0.05</td>\n",
       "      <td>0.04</td>\n",
       "      <td>-0.01</td>\n",
       "      <td>-0.17</td>\n",
       "      <td>0.10</td>\n",
       "      <td>0.11</td>\n",
       "    </tr>\n",
       "    <tr>\n",
       "      <th>2010-06-30</th>\n",
       "      <td>-0.23</td>\n",
       "      <td>-0.26</td>\n",
       "      <td>0.12</td>\n",
       "      <td>-0.14</td>\n",
       "      <td>-0.20</td>\n",
       "      <td>0.03</td>\n",
       "      <td>-0.12</td>\n",
       "      <td>-0.21</td>\n",
       "      <td>-0.22</td>\n",
       "      <td>0.07</td>\n",
       "      <td>-0.12</td>\n",
       "    </tr>\n",
       "    <tr>\n",
       "      <th>2010-09-30</th>\n",
       "      <td>0.10</td>\n",
       "      <td>0.35</td>\n",
       "      <td>0.13</td>\n",
       "      <td>0.13</td>\n",
       "      <td>0.44</td>\n",
       "      <td>0.07</td>\n",
       "      <td>0.05</td>\n",
       "      <td>0.12</td>\n",
       "      <td>0.34</td>\n",
       "      <td>0.13</td>\n",
       "      <td>0.17</td>\n",
       "    </tr>\n",
       "    <tr>\n",
       "      <th>2010-12-31</th>\n",
       "      <td>0.16</td>\n",
       "      <td>0.22</td>\n",
       "      <td>0.29</td>\n",
       "      <td>0.28</td>\n",
       "      <td>0.15</td>\n",
       "      <td>-0.00</td>\n",
       "      <td>-0.00</td>\n",
       "      <td>0.00</td>\n",
       "      <td>-0.08</td>\n",
       "      <td>0.14</td>\n",
       "      <td>0.09</td>\n",
       "    </tr>\n",
       "    <tr>\n",
       "      <th>2011-03-31</th>\n",
       "      <td>-0.06</td>\n",
       "      <td>-0.01</td>\n",
       "      <td>0.11</td>\n",
       "      <td>0.19</td>\n",
       "      <td>0.00</td>\n",
       "      <td>0.01</td>\n",
       "      <td>-0.03</td>\n",
       "      <td>0.12</td>\n",
       "      <td>0.11</td>\n",
       "      <td>0.08</td>\n",
       "      <td>0.02</td>\n",
       "    </tr>\n",
       "  </tbody>\n",
       "</table>\n",
       "</div>"
      ],
      "text/plain": [
       "              GS   RIO  ILMN    EL  AMZN   PAA  AMGN    MA   TEF  AAPL   UPS\n",
       "Date                                                                        \n",
       "2010-03-31 -0.01  0.06  0.27  0.34  0.01  0.05  0.04 -0.01 -0.17  0.10  0.11\n",
       "2010-06-30 -0.23 -0.26  0.12 -0.14 -0.20  0.03 -0.12 -0.21 -0.22  0.07 -0.12\n",
       "2010-09-30  0.10  0.35  0.13  0.13  0.44  0.07  0.05  0.12  0.34  0.13  0.17\n",
       "2010-12-31  0.16  0.22  0.29  0.28  0.15 -0.00 -0.00  0.00 -0.08  0.14  0.09\n",
       "2011-03-31 -0.06 -0.01  0.11  0.19  0.00  0.01 -0.03  0.12  0.11  0.08  0.02"
      ]
     },
     "execution_count": 44,
     "metadata": {},
     "output_type": "execute_result"
    }
   ],
   "source": [
    "((1 + daily_returns).resample('Q').prod() - 1).head()"
   ]
  },
  {
   "cell_type": "code",
   "execution_count": 45,
   "id": "03b38892",
   "metadata": {},
   "outputs": [],
   "source": [
    "# aapl = yf.Ticker('aapl')"
   ]
  },
  {
   "cell_type": "code",
   "execution_count": 46,
   "id": "7ed2676c",
   "metadata": {},
   "outputs": [],
   "source": [
    "# aapl_historical = aapl.history(start=\"2022-03-01\", end=\"2022-03-05\", interval=\"1m\")"
   ]
  },
  {
   "cell_type": "code",
   "execution_count": 52,
   "id": "a1d93cfe",
   "metadata": {},
   "outputs": [],
   "source": [
    "# aapl_historical.to_csv(ddir('aapl_data_20220301.csv'))"
   ]
  },
  {
   "cell_type": "code",
   "execution_count": 56,
   "id": "154e347e",
   "metadata": {},
   "outputs": [],
   "source": [
    "aapl_historical = pd.read_csv(ddir('aapl_data_20220301.csv'), parse_dates=['Datetime'], index_col='Datetime')"
   ]
  },
  {
   "cell_type": "code",
   "execution_count": 57,
   "id": "21acd29c",
   "metadata": {},
   "outputs": [
    {
     "data": {
      "text/html": [
       "<div>\n",
       "<style scoped>\n",
       "    .dataframe tbody tr th:only-of-type {\n",
       "        vertical-align: middle;\n",
       "    }\n",
       "\n",
       "    .dataframe tbody tr th {\n",
       "        vertical-align: top;\n",
       "    }\n",
       "\n",
       "    .dataframe thead th {\n",
       "        text-align: right;\n",
       "    }\n",
       "</style>\n",
       "<table border=\"1\" class=\"dataframe\">\n",
       "  <thead>\n",
       "    <tr style=\"text-align: right;\">\n",
       "      <th></th>\n",
       "      <th>Open</th>\n",
       "      <th>High</th>\n",
       "      <th>Low</th>\n",
       "      <th>Close</th>\n",
       "      <th>Volume</th>\n",
       "      <th>Dividends</th>\n",
       "      <th>Stock Splits</th>\n",
       "    </tr>\n",
       "    <tr>\n",
       "      <th>Datetime</th>\n",
       "      <th></th>\n",
       "      <th></th>\n",
       "      <th></th>\n",
       "      <th></th>\n",
       "      <th></th>\n",
       "      <th></th>\n",
       "      <th></th>\n",
       "    </tr>\n",
       "  </thead>\n",
       "  <tbody>\n",
       "    <tr>\n",
       "      <th>2022-03-01 09:30:00-05:00</th>\n",
       "      <td>164.70</td>\n",
       "      <td>165.30</td>\n",
       "      <td>164.56</td>\n",
       "      <td>165.15</td>\n",
       "      <td>2453049</td>\n",
       "      <td>0</td>\n",
       "      <td>0</td>\n",
       "    </tr>\n",
       "    <tr>\n",
       "      <th>2022-03-01 09:31:00-05:00</th>\n",
       "      <td>165.17</td>\n",
       "      <td>165.80</td>\n",
       "      <td>165.15</td>\n",
       "      <td>165.55</td>\n",
       "      <td>598722</td>\n",
       "      <td>0</td>\n",
       "      <td>0</td>\n",
       "    </tr>\n",
       "    <tr>\n",
       "      <th>2022-03-01 09:32:00-05:00</th>\n",
       "      <td>165.56</td>\n",
       "      <td>165.68</td>\n",
       "      <td>165.28</td>\n",
       "      <td>165.66</td>\n",
       "      <td>482473</td>\n",
       "      <td>0</td>\n",
       "      <td>0</td>\n",
       "    </tr>\n",
       "    <tr>\n",
       "      <th>2022-03-01 09:33:00-05:00</th>\n",
       "      <td>165.67</td>\n",
       "      <td>165.69</td>\n",
       "      <td>165.30</td>\n",
       "      <td>165.46</td>\n",
       "      <td>350441</td>\n",
       "      <td>0</td>\n",
       "      <td>0</td>\n",
       "    </tr>\n",
       "    <tr>\n",
       "      <th>2022-03-01 09:34:00-05:00</th>\n",
       "      <td>165.48</td>\n",
       "      <td>165.80</td>\n",
       "      <td>165.39</td>\n",
       "      <td>165.79</td>\n",
       "      <td>532744</td>\n",
       "      <td>0</td>\n",
       "      <td>0</td>\n",
       "    </tr>\n",
       "  </tbody>\n",
       "</table>\n",
       "</div>"
      ],
      "text/plain": [
       "                            Open   High    Low  Close   Volume  Dividends  \\\n",
       "Datetime                                                                    \n",
       "2022-03-01 09:30:00-05:00 164.70 165.30 164.56 165.15  2453049          0   \n",
       "2022-03-01 09:31:00-05:00 165.17 165.80 165.15 165.55   598722          0   \n",
       "2022-03-01 09:32:00-05:00 165.56 165.68 165.28 165.66   482473          0   \n",
       "2022-03-01 09:33:00-05:00 165.67 165.69 165.30 165.46   350441          0   \n",
       "2022-03-01 09:34:00-05:00 165.48 165.80 165.39 165.79   532744          0   \n",
       "\n",
       "                           Stock Splits  \n",
       "Datetime                                 \n",
       "2022-03-01 09:30:00-05:00             0  \n",
       "2022-03-01 09:31:00-05:00             0  \n",
       "2022-03-01 09:32:00-05:00             0  \n",
       "2022-03-01 09:33:00-05:00             0  \n",
       "2022-03-01 09:34:00-05:00             0  "
      ]
     },
     "execution_count": 57,
     "metadata": {},
     "output_type": "execute_result"
    }
   ],
   "source": [
    "aapl_historical.head()"
   ]
  },
  {
   "cell_type": "code",
   "execution_count": 58,
   "id": "ce768a57",
   "metadata": {},
   "outputs": [
    {
     "data": {
      "image/png": "[encoded data removed]",
      "text/plain": [
       "<Figure size 432x288 with 1 Axes>"
      ]
     },
     "metadata": {
      "needs_background": "light"
     },
     "output_type": "display_data"
    }
   ],
   "source": [
    "_ = aapl_historical.loc['2022-03-01', 'Close'].plot()"
   ]
  },
  {
   "cell_type": "code",
   "execution_count": 60,
   "id": "12154c36",
   "metadata": {},
   "outputs": [
    {
     "data": {
      "text/plain": [
       "Datetime\n",
       "2022-03-01 09:31:00-05:00    0.00\n",
       "2022-03-01 09:32:00-05:00    0.00\n",
       "2022-03-01 09:33:00-05:00   -0.00\n",
       "2022-03-01 09:34:00-05:00    0.00\n",
       "2022-03-01 09:35:00-05:00    0.00\n",
       "Name: Close, dtype: float64"
      ]
     },
     "execution_count": 60,
     "metadata": {},
     "output_type": "execute_result"
    }
   ],
   "source": [
    "appl_ret_20220301 = aapl_historical.loc['2022-03-01', 'Close'].pct_change().dropna()\n",
    "appl_ret_20220301.head()"
   ]
  },
  {
   "cell_type": "code",
   "execution_count": 63,
   "id": "8c681186",
   "metadata": {},
   "outputs": [
    {
     "data": {
      "image/png": "[encoded data removed]",
      "text/plain": [
       "<Figure size 432x288 with 1 Axes>"
      ]
     },
     "metadata": {
      "needs_background": "light"
     },
     "output_type": "display_data"
    }
   ],
   "source": [
    "_ = plot_acf(appl_ret_20220301, lags=60)"
   ]
  },
  {
   "cell_type": "code",
   "execution_count": 66,
   "id": "ecc789b0",
   "metadata": {},
   "outputs": [
    {
     "data": {
      "image/png": "[encoded data removed]",
      "text/plain": [
       "<Figure size 432x288 with 1 Axes>"
      ]
     },
     "metadata": {
      "needs_background": "light"
     },
     "output_type": "display_data"
    }
   ],
   "source": [
    "_ = aapl_historical.loc['2022-03-01 9:30':'2022-03-01 10:00', 'Close'].plot()"
   ]
  },
  {
   "cell_type": "code",
   "execution_count": 76,
   "id": "98930dd3",
   "metadata": {},
   "outputs": [
    {
     "name": "stdout",
     "output_type": "stream",
     "text": [
      "Help on function coint in module statsmodels.tsa.stattools:\n",
      "\n",
      "coint(y0, y1, trend='c', method='aeg', maxlag=None, autolag: 'str | None' = 'aic', return_results=None)\n",
      "    Test for no-cointegration of a univariate equation.\n",
      "    \n",
      "    The null hypothesis is no cointegration. Variables in y0 and y1 are\n",
      "    assumed to be integrated of order 1, I(1).\n",
      "    \n",
      "    This uses the augmented Engle-Granger two-step cointegration test.\n",
      "    Constant or trend is included in 1st stage regression, i.e. in\n",
      "    cointegrating equation.\n",
      "    \n",
      "    **Warning:** The autolag default has changed compared to statsmodels 0.8.\n",
      "    In 0.8 autolag was always None, no the keyword is used and defaults to\n",
      "    \"aic\". Use `autolag=None` to avoid the lag search.\n",
      "    \n",
      "    Parameters\n",
      "    ----------\n",
      "    y0 : array_like\n",
      "        The first element in cointegrated system. Must be 1-d.\n",
      "    y1 : array_like\n",
      "        The remaining elements in cointegrated system.\n",
      "    trend : str {\"c\", \"ct\"}\n",
      "        The trend term included in regression for cointegrating equation.\n",
      "    \n",
      "        * \"c\" : constant.\n",
      "        * \"ct\" : constant and linear trend.\n",
      "        * also available quadratic trend \"ctt\", and no constant \"n\".\n",
      "    \n",
      "    method : {\"aeg\"}\n",
      "        Only \"aeg\" (augmented Engle-Granger) is available.\n",
      "    maxlag : None or int\n",
      "        Argument for `adfuller`, largest or given number of lags.\n",
      "    autolag : str\n",
      "        Argument for `adfuller`, lag selection criterion.\n",
      "    \n",
      "        * If None, then maxlag lags are used without lag search.\n",
      "        * If \"AIC\" (default) or \"BIC\", then the number of lags is chosen\n",
      "          to minimize the corresponding information criterion.\n",
      "        * \"t-stat\" based choice of maxlag.  Starts with maxlag and drops a\n",
      "          lag until the t-statistic on the last lag length is significant\n",
      "          using a 5%-sized test.\n",
      "    return_results : bool\n",
      "        For future compatibility, currently only tuple available.\n",
      "        If True, then a results instance is returned. Otherwise, a tuple\n",
      "        with the test outcome is returned. Set `return_results=False` to\n",
      "        avoid future changes in return.\n",
      "    \n",
      "    Returns\n",
      "    -------\n",
      "    coint_t : float\n",
      "        The t-statistic of unit-root test on residuals.\n",
      "    pvalue : float\n",
      "        MacKinnon\"s approximate, asymptotic p-value based on MacKinnon (1994).\n",
      "    crit_value : dict\n",
      "        Critical values for the test statistic at the 1 %, 5 %, and 10 %\n",
      "        levels based on regression curve. This depends on the number of\n",
      "        observations.\n",
      "    \n",
      "    Notes\n",
      "    -----\n",
      "    The Null hypothesis is that there is no cointegration, the alternative\n",
      "    hypothesis is that there is cointegrating relationship. If the pvalue is\n",
      "    small, below a critical size, then we can reject the hypothesis that there\n",
      "    is no cointegrating relationship.\n",
      "    \n",
      "    P-values and critical values are obtained through regression surface\n",
      "    approximation from MacKinnon 1994 and 2010.\n",
      "    \n",
      "    If the two series are almost perfectly collinear, then computing the\n",
      "    test is numerically unstable. However, the two series will be cointegrated\n",
      "    under the maintained assumption that they are integrated. In this case\n",
      "    the t-statistic will be set to -inf and the pvalue to zero.\n",
      "    \n",
      "    TODO: We could handle gaps in data by dropping rows with nans in the\n",
      "    Auxiliary regressions. Not implemented yet, currently assumes no nans\n",
      "    and no gaps in time series.\n",
      "    \n",
      "    References\n",
      "    ----------\n",
      "    .. [1] MacKinnon, J.G. 1994  \"Approximate Asymptotic Distribution Functions\n",
      "       for Unit-Root and Cointegration Tests.\" Journal of Business & Economics\n",
      "       Statistics, 12.2, 167-76.\n",
      "    .. [2] MacKinnon, J.G. 2010.  \"Critical Values for Cointegration Tests.\"\n",
      "       Queen\"s University, Dept of Economics Working Papers 1227.\n",
      "       http://ideas.repec.org/p/qed/wpaper/1227.html\n",
      "\n"
     ]
    }
   ],
   "source": [
    "help(coint) #(data.AAPL, data.AMZN)"
   ]
  },
  {
   "cell_type": "code",
   "execution_count": 69,
   "id": "b65d77aa",
   "metadata": {},
   "outputs": [],
   "source": []
  },
  {
   "cell_type": "code",
   "execution_count": null,
   "id": "4de8585d",
   "metadata": {},
   "outputs": [],
   "source": []
  }
 ],
 "metadata": {
  "kernelspec": {
   "display_name": "Python 3",
   "language": "python",
   "name": "python3"
  },
  "language_info": {
   "codemirror_mode": {
    "name": "ipython",
    "version": 3
   },
   "file_extension": ".py",
   "mimetype": "text/x-python",
   "name": "python",
   "nbconvert_exporter": "python",
   "pygments_lexer": "ipython3",
   "version": "3.8.10"
  }
 },
 "nbformat": 4,
 "nbformat_minor": 5
}
