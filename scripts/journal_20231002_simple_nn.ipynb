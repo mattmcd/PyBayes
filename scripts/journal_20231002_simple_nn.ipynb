{
 "cells": [
  {
   "cell_type": "markdown",
   "id": "6bc71ee3-2fb4-4314-8f32-449a7f2cfc81",
   "metadata": {},
   "source": [
    "# Simple Neural Network\n",
    "Follow the example in [You Don't Know JAX](https://colinraffel.com/blog/you-don-t-know-jax.html) to see whether JAX-Metal is working ok.  Also try to do the derivation in sympy at the same time."
   ]
  },
  {
   "cell_type": "markdown",
   "id": "4b68b844-e639-4a76-a99c-ff6d2a60ab0e",
   "metadata": {},
   "source": [
    "## Imports"
   ]
  },
  {
   "cell_type": "code",
   "execution_count": 1,
   "id": "initial_id",
   "metadata": {},
   "outputs": [],
   "source": [
    "%load_ext autoreload\n",
    "%autoreload 2"
   ]
  },
  {
   "cell_type": "code",
   "execution_count": 2,
   "id": "9b37cd9f-359b-432c-8620-3042f8f21694",
   "metadata": {},
   "outputs": [],
   "source": [
    "import jax\n",
    "import jax.numpy as np\n",
    "import numpy as onp  # 'Original' numpy\n",
    "import sympy as sp"
   ]
  },
  {
   "cell_type": "code",
   "execution_count": 3,
   "id": "310b9272-cb70-497b-8328-fdfe4f7900c0",
   "metadata": {},
   "outputs": [],
   "source": [
    "sp.init_printing(use_latex=True)"
   ]
  },
  {
   "cell_type": "code",
   "execution_count": 4,
   "id": "9ded9f51-3e73-4dea-8d65-b074f83e1426",
   "metadata": {},
   "outputs": [
    {
     "name": "stdout",
     "output_type": "stream",
     "text": [
      "Metal device set to: Apple M2\n"
     ]
    },
    {
     "name": "stderr",
     "output_type": "stream",
     "text": [
      "2023-10-08 10:29:10.254709: W pjrt_plugin/src/mps_client.cc:534] WARNING: JAX Apple GPU support is experimental and not all JAX functionality is correctly supported!\n",
      "2023-10-08 10:29:10.267 Python[1225:11883] apply_selection_policy_once: avoid use of removable GPUs (via org.python.python:GPUSelectionPolicy->avoidRemovable)\n"
     ]
    },
    {
     "data": {
      "text/plain": [
       "[MetalDevice(id=0, process_index=0)]"
      ]
     },
     "execution_count": 4,
     "metadata": {},
     "output_type": "execute_result"
    }
   ],
   "source": [
    "jax.devices()"
   ]
  },
  {
   "cell_type": "markdown",
   "id": "724940d0-387a-4ec4-addb-ef291a7d1d67",
   "metadata": {},
   "source": [
    "# Symbol and Equation Definition\n",
    "Write factory functions for the sigmoid, neural network with single hidden layer, cross-entropy, and loss functions.  These factory functions allow us to feed in different versions of e.g. `exp` depending on whether we are constructing a SymPy model or JAX model."
   ]
  },
  {
   "cell_type": "code",
   "execution_count": 5,
   "id": "e0464549-306c-4d50-ab3d-8212c1645cae",
   "metadata": {},
   "outputs": [],
   "source": [
    "def create_sigmoid(exp):\n",
    "    def inner(x):\n",
    "        return 1/(1 + exp(-x))  # TODO: 2023-10-07 I think this needs to be a matrix expression for the non-explicit MatrixSymbol to work, as for cross-entropy\n",
    "    return inner"
   ]
  },
  {
   "cell_type": "code",
   "execution_count": 78,
   "id": "74b55465-4ae5-4219-93ba-c7f63ce97762",
   "metadata": {},
   "outputs": [],
   "source": [
    "# tanh form of sigmoid function for SymPy version - avoids strange problem with MatExpr being added to Scalar \n",
    "def create_sigmoid_tanh():\n",
    "    def inner(x):\n",
    "        return (sp.tanh(x/2) + 1)/2\n",
    "    return inner"
   ]
  },
  {
   "cell_type": "code",
   "execution_count": 6,
   "id": "d4adb5c5-33c4-4f1e-b469-311992531758",
   "metadata": {},
   "outputs": [],
   "source": [
    "def create_net(sig, tanh):\n",
    "    def inner(params, x):\n",
    "        w1, b1, w2, b2 = params\n",
    "        hidden = tanh(w1 @ x + b1)\n",
    "        return sig(w2 @ hidden + b2) \n",
    "    return inner"
   ]
  },
  {
   "cell_type": "code",
   "execution_count": 7,
   "id": "a7898ac5-e74d-46a9-90df-042d9653166c",
   "metadata": {},
   "outputs": [],
   "source": [
    "def create_cross_entropy(log, min_1):\n",
    "    def inner(y, y_pred):\n",
    "        return -y*log(y_pred) - min_1(y)*log(min_1(y_pred))\n",
    "    return inner"
   ]
  },
  {
   "cell_type": "code",
   "execution_count": 8,
   "id": "8fe1e6c8-4789-4962-b080-9e42c5f5fdcd",
   "metadata": {},
   "outputs": [],
   "source": [
    "def create_loss(cross_entropy, net):\n",
    "    def inner(params, x, y):\n",
    "        out = net(params, x)\n",
    "        return cross_entropy(y, out)\n",
    "    return inner"
   ]
  },
  {
   "cell_type": "code",
   "execution_count": 79,
   "id": "a22e2b0c-0204-48a4-935d-1bf24201495b",
   "metadata": {},
   "outputs": [],
   "source": [
    "# net_sp = create_net(lambda x: x.applyfunc(create_sigmoid(sp.exp)), lambda x: x.applyfunc(sp.tanh))\n",
    "net_sp = create_net(lambda x: x.applyfunc(create_sigmoid_tanh()), lambda x: x.applyfunc(sp.tanh))"
   ]
  },
  {
   "cell_type": "code",
   "execution_count": 80,
   "id": "aded9da8-c845-466f-b526-4b85e47824e7",
   "metadata": {},
   "outputs": [],
   "source": [
    "cross_entropy_sp = create_cross_entropy(lambda x: x.applyfunc(sp.log), lambda x: sp.Matrix([1]) - x)"
   ]
  },
  {
   "cell_type": "code",
   "execution_count": 81,
   "id": "11e16392-f4aa-4893-a87f-f17296090205",
   "metadata": {},
   "outputs": [],
   "source": [
    "loss_sp = create_loss(\n",
    "    cross_entropy_sp, \n",
    "    net_sp\n",
    ")"
   ]
  },
  {
   "cell_type": "code",
   "execution_count": 82,
   "id": "c0517585-892c-45de-a2d7-7fdfee37374f",
   "metadata": {},
   "outputs": [],
   "source": [
    "param_desc = [('w__1', 3, 2), ('b__1', 3, 1), ('w__2', 1, 3), ('b__2', 1, 1)]"
   ]
  },
  {
   "cell_type": "code",
   "execution_count": 83,
   "id": "3e6969a0-81c2-4055-b089-3c4f6adb427c",
   "metadata": {},
   "outputs": [],
   "source": [
    "def create_sympy_vars(param_desc):\n",
    "    x = sp.MatrixSymbol('x', param_desc[0][-1], 1)\n",
    "    y = sp.MatrixSymbol('y', 1, param_desc[-1][1])\n",
    "    w1, b1, w2, b2 = [sp.MatrixSymbol(p, n, m) for p, n, m in param_desc]\n",
    "    return x, y, w1, b1, w2, b2"
   ]
  },
  {
   "cell_type": "code",
   "execution_count": 84,
   "id": "68c51c1a-20db-42c9-89d4-f8a41efff471",
   "metadata": {},
   "outputs": [],
   "source": [
    "# x_sp, y_sp, w1, b1, w2, b2 = [e.as_explicit() for e in create_sympy_vars(param_desc)]\n",
    "x_sp, y_sp, w1, b1, w2, b2 = create_sympy_vars(param_desc)\n",
    "params_sp = [w1, b1, w2, b2]"
   ]
  },
  {
   "cell_type": "code",
   "execution_count": 85,
   "id": "b8bd1779-1335-4e43-840d-b0b2ab9ca56d",
   "metadata": {},
   "outputs": [],
   "source": [
    "h_sp = sp.MatrixSymbol('h', 3, 1)\n",
    "z_sp = sp.MatrixSymbol('z', 1, 1)"
   ]
  },
  {
   "cell_type": "code",
   "execution_count": 86,
   "id": "16115319-5594-4c44-8baa-3bf543bc35bd",
   "metadata": {},
   "outputs": [],
   "source": [
    "def explicit_eqn(expr):\n",
    "    \"\"\"Helper function to show matrix symbols in implict and explicit forms\"\"\"\n",
    "    return sp.Eq(sp.UnevaluatedExpr(expr), sp.UnevaluatedExpr(expr.as_explicit()))"
   ]
  },
  {
   "cell_type": "markdown",
   "id": "ccd022df-ec53-4cdf-a17c-f66e75c9e675",
   "metadata": {},
   "source": [
    "# Neural Network Function"
   ]
  },
  {
   "cell_type": "code",
   "execution_count": 87,
   "id": "c9ef58d1-b2d8-46d8-be5e-4368ac7f4a27",
   "metadata": {},
   "outputs": [
    {
     "data": {
      "text/latex": [
       "$\\displaystyle {\\left( d \\mapsto \\frac{\\tanh{\\left(\\frac{d}{2} \\right)}}{2} + \\frac{1}{2} \\right)}_{\\circ}\\left({b^{2} + w^{2} {\\left( d \\mapsto \\tanh{\\left(d \\right)} \\right)}_{\\circ}\\left({b^{1} + w^{1} x}\\right)}\\right) = \\left[\\begin{matrix}\\frac{\\tanh{\\left(\\frac{\\tanh{\\left(b^{1}_{0, 0} + w^{1}_{0, 0} x_{0, 0} + w^{1}_{0, 1} x_{1, 0} \\right)} w^{2}_{0, 0}}{2} + \\frac{\\tanh{\\left(b^{1}_{1, 0} + w^{1}_{1, 0} x_{0, 0} + w^{1}_{1, 1} x_{1, 0} \\right)} w^{2}_{0, 1}}{2} + \\frac{\\tanh{\\left(b^{1}_{2, 0} + w^{1}_{2, 0} x_{0, 0} + w^{1}_{2, 1} x_{1, 0} \\right)} w^{2}_{0, 2}}{2} + \\frac{b^{2}_{0, 0}}{2} \\right)}}{2} + \\frac{1}{2}\\end{matrix}\\right]$"
      ],
      "text/plain": [
       "⎛        ⎛d⎞    ⎞                                                                                                                                                          \n",
       "⎜    tanh⎜─⎟    ⎟                                       ⎡    ⎛tanh(b¹₀₀ + w¹₀₀⋅x₀₀ + w¹₀₁⋅x₁₀)⋅w²₀₀   tanh(b¹₁₀ + w¹₁₀⋅x₀₀ + w¹₁₁⋅x₁₀)⋅w²₀₁   tanh(b¹₂₀ + w¹₂₀⋅x₀₀ + w¹₂₁⋅x\n",
       "⎜        ⎝2⎠   1⎟                                       ⎢tanh⎜───────────────────────────────────── + ───────────────────────────────────── + ─────────────────────────────\n",
       "⎜d ↦ ─────── + ─⎟˳(w²⋅(d ↦ tanh(d))˳(w¹⋅x + b¹) + b²) = ⎢    ⎝                  2                                       2                                       2          \n",
       "⎝       2      2⎠                                       ⎢──────────────────────────────────────────────────────────────────────────────────────────────────────────────────\n",
       "                                                        ⎣                                                                2                                                 \n",
       "\n",
       "                     \n",
       "₁₀)⋅w²₀₂   b²₀₀⎞    ⎤\n",
       "──────── + ────⎟    ⎥\n",
       "            2  ⎠   1⎥\n",
       "──────────────── + ─⎥\n",
       "                   2⎦"
      ]
     },
     "execution_count": 87,
     "metadata": {},
     "output_type": "execute_result"
    }
   ],
   "source": [
    "explicit_eqn(net_sp(params_sp, x_sp))"
   ]
  },
  {
   "cell_type": "markdown",
   "id": "2028c570-e0ec-42b8-bb5c-36d169a3e658",
   "metadata": {},
   "source": [
    "# Hidden layer in terms of inputs"
   ]
  },
  {
   "cell_type": "code",
   "execution_count": 88,
   "id": "8830c260-fc23-4838-bc18-d04479e4515d",
   "metadata": {},
   "outputs": [
    {
     "data": {
      "text/latex": [
       "$\\displaystyle h = {\\left( d \\mapsto \\tanh{\\left(d \\right)} \\right)}_{\\circ}\\left({b^{1} + w^{1} x}\\right) = \\left[\\begin{matrix}\\tanh{\\left(b^{1}_{0, 0} + w^{1}_{0, 0} x_{0, 0} + w^{1}_{0, 1} x_{1, 0} \\right)}\\\\\\tanh{\\left(b^{1}_{1, 0} + w^{1}_{1, 0} x_{0, 0} + w^{1}_{1, 1} x_{1, 0} \\right)}\\\\\\tanh{\\left(b^{1}_{2, 0} + w^{1}_{2, 0} x_{0, 0} + w^{1}_{2, 1} x_{1, 0} \\right)}\\end{matrix}\\right]$"
      ],
      "text/plain": [
       "                                ⎡tanh(b¹₀₀ + w¹₀₀⋅x₀₀ + w¹₀₁⋅x₁₀)⎤\n",
       "                                ⎢                                ⎥\n",
       "h = (d ↦ tanh(d))˳(w¹⋅x + b¹) = ⎢tanh(b¹₁₀ + w¹₁₀⋅x₀₀ + w¹₁₁⋅x₁₀)⎥\n",
       "                                ⎢                                ⎥\n",
       "                                ⎣tanh(b¹₂₀ + w¹₂₀⋅x₀₀ + w¹₂₁⋅x₁₀)⎦"
      ]
     },
     "execution_count": 88,
     "metadata": {},
     "output_type": "execute_result"
    }
   ],
   "source": [
    "h = (w1 @ x_sp + b1).applyfunc(sp.tanh)\n",
    "sp.Eq(sp.UnevaluatedExpr(h_sp), sp.UnevaluatedExpr(explicit_eqn(h)))"
   ]
  },
  {
   "cell_type": "code",
   "execution_count": 92,
   "id": "4b72c9ce-33c8-41a3-9075-d36f007db03d",
   "metadata": {},
   "outputs": [
    {
     "data": {
      "text/latex": [
       "$\\displaystyle {\\left( d \\mapsto \\frac{\\tanh{\\left(\\frac{d}{2} \\right)}}{2} + \\frac{1}{2} \\right)}_{\\circ}\\left({b^{2} + w^{2} {\\left( d \\mapsto \\tanh{\\left(d \\right)} \\right)}_{\\circ}\\left({b^{1} + w^{1} x}\\right)}\\right) = \\left[\\begin{matrix}\\frac{\\tanh{\\left(\\frac{\\tanh{\\left(b^{1}_{0, 0} + w^{1}_{0, 0} x_{0, 0} + w^{1}_{0, 1} x_{1, 0} \\right)} w^{2}_{0, 0}}{2} + \\frac{\\tanh{\\left(b^{1}_{1, 0} + w^{1}_{1, 0} x_{0, 0} + w^{1}_{1, 1} x_{1, 0} \\right)} w^{2}_{0, 1}}{2} + \\frac{\\tanh{\\left(b^{1}_{2, 0} + w^{1}_{2, 0} x_{0, 0} + w^{1}_{2, 1} x_{1, 0} \\right)} w^{2}_{0, 2}}{2} + \\frac{b^{2}_{0, 0}}{2} \\right)}}{2} + \\frac{1}{2}\\end{matrix}\\right]$"
      ],
      "text/plain": [
       "⎛        ⎛d⎞    ⎞                                                                                                                                                          \n",
       "⎜    tanh⎜─⎟    ⎟                                       ⎡    ⎛tanh(b¹₀₀ + w¹₀₀⋅x₀₀ + w¹₀₁⋅x₁₀)⋅w²₀₀   tanh(b¹₁₀ + w¹₁₀⋅x₀₀ + w¹₁₁⋅x₁₀)⋅w²₀₁   tanh(b¹₂₀ + w¹₂₀⋅x₀₀ + w¹₂₁⋅x\n",
       "⎜        ⎝2⎠   1⎟                                       ⎢tanh⎜───────────────────────────────────── + ───────────────────────────────────── + ─────────────────────────────\n",
       "⎜d ↦ ─────── + ─⎟˳(w²⋅(d ↦ tanh(d))˳(w¹⋅x + b¹) + b²) = ⎢    ⎝                  2                                       2                                       2          \n",
       "⎝       2      2⎠                                       ⎢──────────────────────────────────────────────────────────────────────────────────────────────────────────────────\n",
       "                                                        ⎣                                                                2                                                 \n",
       "\n",
       "                     \n",
       "₁₀)⋅w²₀₂   b²₀₀⎞    ⎤\n",
       "──────── + ────⎟    ⎥\n",
       "            2  ⎠   1⎥\n",
       "──────────────── + ─⎥\n",
       "                   2⎦"
      ]
     },
     "execution_count": 92,
     "metadata": {},
     "output_type": "execute_result"
    }
   ],
   "source": [
    "# explicit_eqn((w2 @ h + b2).applyfunc(create_sigmoid(sp.exp)))\n",
    "explicit_eqn((w2 @ h + b2).applyfunc(create_sigmoid_tanh()))"
   ]
  },
  {
   "cell_type": "code",
   "execution_count": 93,
   "id": "9294a5b6-da8e-4e93-a87f-fac76fa6aace",
   "metadata": {},
   "outputs": [
    {
     "data": {
      "image/png": "[encoded data removed]",
      "text/latex": [
       "$\\displaystyle {\\left( d \\mapsto \\frac{\\tanh{\\left(\\frac{d}{2} \\right)}}{2} + \\frac{1}{2} \\right)}_{\\circ}\\left({b^{2} + w^{2} h}\\right)$"
      ],
      "text/plain": [
       "⎛        ⎛d⎞    ⎞            \n",
       "⎜    tanh⎜─⎟    ⎟            \n",
       "⎜        ⎝2⎠   1⎟            \n",
       "⎜d ↦ ─────── + ─⎟˳(w²⋅h + b²)\n",
       "⎝       2      2⎠            "
      ]
     },
     "execution_count": 93,
     "metadata": {},
     "output_type": "execute_result"
    }
   ],
   "source": [
    "# (w2 @ h_sp + b2).applyfunc(create_sigmoid(sp.exp))\n",
    "(w2 @ h_sp + b2).applyfunc(create_sigmoid_tanh())"
   ]
  },
  {
   "cell_type": "code",
   "execution_count": 94,
   "id": "00375118-6ec1-4381-ba0b-f290685d3c79",
   "metadata": {},
   "outputs": [
    {
     "data": {
      "text/latex": [
       "$\\displaystyle \\left[\\begin{matrix}\\left(1 - \\tanh^{2}{\\left(b^{1}_{0, 0} + w^{1}_{0, 0} x_{0, 0} + w^{1}_{0, 1} x_{1, 0} \\right)}\\right) w^{1}_{0, 0} & \\left(1 - \\tanh^{2}{\\left(b^{1}_{1, 0} + w^{1}_{1, 0} x_{0, 0} + w^{1}_{1, 1} x_{1, 0} \\right)}\\right) w^{1}_{1, 0} & \\left(1 - \\tanh^{2}{\\left(b^{1}_{2, 0} + w^{1}_{2, 0} x_{0, 0} + w^{1}_{2, 1} x_{1, 0} \\right)}\\right) w^{1}_{2, 0}\\\\\\left(1 - \\tanh^{2}{\\left(b^{1}_{0, 0} + w^{1}_{0, 0} x_{0, 0} + w^{1}_{0, 1} x_{1, 0} \\right)}\\right) w^{1}_{0, 1} & \\left(1 - \\tanh^{2}{\\left(b^{1}_{1, 0} + w^{1}_{1, 0} x_{0, 0} + w^{1}_{1, 1} x_{1, 0} \\right)}\\right) w^{1}_{1, 1} & \\left(1 - \\tanh^{2}{\\left(b^{1}_{2, 0} + w^{1}_{2, 0} x_{0, 0} + w^{1}_{2, 1} x_{1, 0} \\right)}\\right) w^{1}_{2, 1}\\end{matrix}\\right]$"
      ],
      "text/plain": [
       "⎡⎛        2                            ⎞       ⎛        2                            ⎞       ⎛        2                            ⎞     ⎤\n",
       "⎢⎝1 - tanh (b¹₀₀ + w¹₀₀⋅x₀₀ + w¹₀₁⋅x₁₀)⎠⋅w¹₀₀  ⎝1 - tanh (b¹₁₀ + w¹₁₀⋅x₀₀ + w¹₁₁⋅x₁₀)⎠⋅w¹₁₀  ⎝1 - tanh (b¹₂₀ + w¹₂₀⋅x₀₀ + w¹₂₁⋅x₁₀)⎠⋅w¹₂₀⎥\n",
       "⎢                                                                                                                                        ⎥\n",
       "⎢⎛        2                            ⎞       ⎛        2                            ⎞       ⎛        2                            ⎞     ⎥\n",
       "⎣⎝1 - tanh (b¹₀₀ + w¹₀₀⋅x₀₀ + w¹₀₁⋅x₁₀)⎠⋅w¹₀₁  ⎝1 - tanh (b¹₁₀ + w¹₁₀⋅x₀₀ + w¹₁₁⋅x₁₀)⎠⋅w¹₁₁  ⎝1 - tanh (b¹₂₀ + w¹₂₀⋅x₀₀ + w¹₂₁⋅x₁₀)⎠⋅w¹₂₁⎦"
      ]
     },
     "execution_count": 94,
     "metadata": {},
     "output_type": "execute_result"
    }
   ],
   "source": [
    "h.diff(x_sp).as_explicit()"
   ]
  },
  {
   "cell_type": "code",
   "execution_count": 95,
   "id": "3137cc14-7ff8-49a7-9019-33849c50d01d",
   "metadata": {},
   "outputs": [
    {
     "data": {
      "image/png": "[encoded data removed]",
      "text/latex": [
       "$\\displaystyle \\operatorname{PermuteDims}\\left(\\operatorname{ArrayTensorProduct}\\left(\\operatorname{DiagMatrix}\\left({\\left( d \\mapsto 1 - \\tanh^{2}{\\left(d \\right)} \\right)}_{\\circ}\\left({b^{1} + w^{1} x}\\right)\\right), x\\right), \\left( 1\\; 2\\; 3\\right)\\right)$"
      ],
      "text/plain": [
       "PermuteDims(ArrayTensorProduct(DiagMatrix(Lambda(_d, 1 - tanh(_d)**2).(b__1 + w__1*x)), x), (1 2 3))"
      ]
     },
     "execution_count": 95,
     "metadata": {},
     "output_type": "execute_result"
    }
   ],
   "source": [
    "h.diff(w1)#.as_explicit()"
   ]
  },
  {
   "cell_type": "code",
   "execution_count": 96,
   "id": "f549249b-9c32-4200-81b3-641ca7eb6474",
   "metadata": {},
   "outputs": [
    {
     "data": {
      "text/latex": [
       "$\\displaystyle \\left[\\begin{matrix}\\left(1 - \\tanh^{2}{\\left(b^{1}_{0, 0} + w^{1}_{0, 0} x_{0, 0} + w^{1}_{0, 1} x_{1, 0} \\right)}\\right) w^{1}_{0, 0} & \\left(1 - \\tanh^{2}{\\left(b^{1}_{0, 0} + w^{1}_{0, 0} x_{0, 0} + w^{1}_{0, 1} x_{1, 0} \\right)}\\right) w^{1}_{0, 1}\\\\\\left(1 - \\tanh^{2}{\\left(b^{1}_{1, 0} + w^{1}_{1, 0} x_{0, 0} + w^{1}_{1, 1} x_{1, 0} \\right)}\\right) w^{1}_{1, 0} & \\left(1 - \\tanh^{2}{\\left(b^{1}_{1, 0} + w^{1}_{1, 0} x_{0, 0} + w^{1}_{1, 1} x_{1, 0} \\right)}\\right) w^{1}_{1, 1}\\\\\\left(1 - \\tanh^{2}{\\left(b^{1}_{2, 0} + w^{1}_{2, 0} x_{0, 0} + w^{1}_{2, 1} x_{1, 0} \\right)}\\right) w^{1}_{2, 0} & \\left(1 - \\tanh^{2}{\\left(b^{1}_{2, 0} + w^{1}_{2, 0} x_{0, 0} + w^{1}_{2, 1} x_{1, 0} \\right)}\\right) w^{1}_{2, 1}\\end{matrix}\\right]$"
      ],
      "text/plain": [
       "⎡⎛        2                            ⎞       ⎛        2                            ⎞     ⎤\n",
       "⎢⎝1 - tanh (b¹₀₀ + w¹₀₀⋅x₀₀ + w¹₀₁⋅x₁₀)⎠⋅w¹₀₀  ⎝1 - tanh (b¹₀₀ + w¹₀₀⋅x₀₀ + w¹₀₁⋅x₁₀)⎠⋅w¹₀₁⎥\n",
       "⎢                                                                                          ⎥\n",
       "⎢⎛        2                            ⎞       ⎛        2                            ⎞     ⎥\n",
       "⎢⎝1 - tanh (b¹₁₀ + w¹₁₀⋅x₀₀ + w¹₁₁⋅x₁₀)⎠⋅w¹₁₀  ⎝1 - tanh (b¹₁₀ + w¹₁₀⋅x₀₀ + w¹₁₁⋅x₁₀)⎠⋅w¹₁₁⎥\n",
       "⎢                                                                                          ⎥\n",
       "⎢⎛        2                            ⎞       ⎛        2                            ⎞     ⎥\n",
       "⎣⎝1 - tanh (b¹₂₀ + w¹₂₀⋅x₀₀ + w¹₂₁⋅x₁₀)⎠⋅w¹₂₀  ⎝1 - tanh (b¹₂₀ + w¹₂₀⋅x₀₀ + w¹₂₁⋅x₁₀)⎠⋅w¹₂₁⎦"
      ]
     },
     "execution_count": 96,
     "metadata": {},
     "output_type": "execute_result"
    }
   ],
   "source": [
    "dh = h.as_explicit().jacobian(x_sp)\n",
    "dh"
   ]
  },
  {
   "cell_type": "code",
   "execution_count": 97,
   "id": "e3732135-606c-42c2-8c89-c1afdaff3a13",
   "metadata": {},
   "outputs": [
    {
     "data": {
      "text/latex": [
       "$\\displaystyle \\left[\\begin{matrix}\\frac{1}{1 - e^{b^{2}_{0, 0} + h_{0, 0} w^{2}_{0, 0} + h_{1, 0} w^{2}_{0, 1} + h_{2, 0} w^{2}_{0, 2}}}\\end{matrix}\\right]$"
      ],
      "text/plain": [
       "⎡                    1                     ⎤\n",
       "⎢──────────────────────────────────────────⎥\n",
       "⎢     b²₀₀ + h₀₀⋅w²₀₀ + h₁₀⋅w²₀₁ + h₂₀⋅w²₀₂⎥\n",
       "⎣1 - ℯ                                     ⎦"
      ]
     },
     "execution_count": 97,
     "metadata": {},
     "output_type": "execute_result"
    }
   ],
   "source": [
    "(w2 @ h_sp + b2).as_explicit().applyfunc(lambda x: 1/(1-sp.exp(x)))#.diff(w2.as_explicit())"
   ]
  },
  {
   "cell_type": "code",
   "execution_count": 98,
   "id": "16175b70-13a0-4756-85e0-d52c14b5fbb3",
   "metadata": {},
   "outputs": [],
   "source": [
    "# z = (w2 @ h_sp + b2).applyfunc(lambda x: 1/(1-sp.exp(x)))\n",
    "z = (w2 @ h_sp + b2).applyfunc(lambda x: (1 + sp.tanh(x/2))/2)\n",
    "\n",
    "dz = z.as_explicit().jacobian(h_sp[:])"
   ]
  },
  {
   "cell_type": "code",
   "execution_count": 102,
   "id": "5edc2e70-facc-435b-b1b4-104172e9bdf4",
   "metadata": {},
   "outputs": [
    {
     "data": {
      "image/png": "[encoded data removed]",
      "text/latex": [
       "$\\displaystyle \\left(w^{2}\\right)^{T} {\\left( d \\mapsto \\frac{1}{4} - \\frac{\\tanh^{2}{\\left(\\frac{d}{2} \\right)}}{4} \\right)}_{\\circ}\\left({b^{2} + w^{2} h}\\right)$"
      ],
      "text/plain": [
       "    ⎛            2⎛d⎞⎞            \n",
       "    ⎜        tanh ⎜─⎟⎟            \n",
       "  T ⎜    1        ⎝2⎠⎟            \n",
       "w² ⋅⎜d ↦ ─ - ────────⎟˳(w²⋅h + b²)\n",
       "    ⎝    4      4    ⎠            "
      ]
     },
     "execution_count": 102,
     "metadata": {},
     "output_type": "execute_result"
    }
   ],
   "source": [
    "z.diff(h_sp)"
   ]
  },
  {
   "cell_type": "code",
   "execution_count": 100,
   "id": "4c72fbba-fd38-415a-981c-bdb622d01e8a",
   "metadata": {},
   "outputs": [
    {
     "data": {
      "text/latex": [
       "$\\displaystyle \\left[\\left[\\begin{matrix}\\left[\\left[\\begin{matrix}\\frac{1}{4} - \\frac{\\tanh^{2}{\\left(\\frac{b^{2}_{0, 0}}{2} + \\frac{h_{0, 0} w^{2}_{0, 0}}{2} + \\frac{h_{1, 0} w^{2}_{0, 1}}{2} + \\frac{h_{2, 0} w^{2}_{0, 2}}{2} \\right)}}{4}\\end{matrix}\\right]\\right]\\end{matrix}\\right]\\right]$"
      ],
      "text/plain": [
       "⎡⎡⎡⎡        2⎛b²₀₀   h₀₀⋅w²₀₀   h₁₀⋅w²₀₁   h₂₀⋅w²₀₂⎞⎤⎤⎤⎤\n",
       "⎢⎢⎢⎢    tanh ⎜──── + ──────── + ──────── + ────────⎟⎥⎥⎥⎥\n",
       "⎢⎢⎢⎢1        ⎝ 2        2          2          2    ⎠⎥⎥⎥⎥\n",
       "⎢⎢⎢⎢─ - ────────────────────────────────────────────⎥⎥⎥⎥\n",
       "⎣⎣⎣⎣4                        4                      ⎦⎦⎦⎦"
      ]
     },
     "execution_count": 100,
     "metadata": {},
     "output_type": "execute_result"
    }
   ],
   "source": [
    "z.as_explicit().diff(b2.as_explicit())"
   ]
  },
  {
   "cell_type": "code",
   "execution_count": 103,
   "id": "dc941012-5269-4095-98b0-4e23f18674d7",
   "metadata": {},
   "outputs": [
    {
     "data": {
      "text/latex": [
       "$\\displaystyle \\left[\\begin{matrix}\\frac{- \\frac{\\tanh{\\left(\\frac{b^{2}_{0, 0}}{2} + \\frac{h_{0, 0} w^{2}_{0, 0}}{2} + \\frac{h_{1, 0} w^{2}_{0, 1}}{2} + \\frac{h_{2, 0} w^{2}_{0, 2}}{2} \\right)}}{2} - \\frac{1}{2}}{z_{0, 0}} - \\frac{\\frac{\\tanh{\\left(\\frac{b^{2}_{0, 0}}{2} + \\frac{h_{0, 0} w^{2}_{0, 0}}{2} + \\frac{h_{1, 0} w^{2}_{0, 1}}{2} + \\frac{h_{2, 0} w^{2}_{0, 2}}{2} \\right)}}{2} - \\frac{1}{2}}{1 - z_{0, 0}}\\end{matrix}\\right]$"
      ],
      "text/plain": [
       "⎡      ⎛b²₀₀   h₀₀⋅w²₀₀   h₁₀⋅w²₀₁   h₂₀⋅w²₀₂⎞           ⎛b²₀₀   h₀₀⋅w²₀₀   h₁₀⋅w²₀₁   h₂₀⋅w²₀₂⎞    ⎤\n",
       "⎢  tanh⎜──── + ──────── + ──────── + ────────⎟       tanh⎜──── + ──────── + ──────── + ────────⎟    ⎥\n",
       "⎢      ⎝ 2        2          2          2    ⎠   1       ⎝ 2        2          2          2    ⎠   1⎥\n",
       "⎢- ─────────────────────────────────────────── - ─   ─────────────────────────────────────────── - ─⎥\n",
       "⎢                       2                        2                        2                        2⎥\n",
       "⎢───────────────────────────────────────────────── - ───────────────────────────────────────────────⎥\n",
       "⎣                       z₀₀                                              1 - z₀₀                    ⎦"
      ]
     },
     "execution_count": 103,
     "metadata": {},
     "output_type": "execute_result"
    }
   ],
   "source": [
    "l = cross_entropy_sp(z, z_sp)\n",
    "dl = l.as_explicit().jacobian(z_sp)\n",
    "dl"
   ]
  },
  {
   "cell_type": "code",
   "execution_count": 104,
   "id": "1a5b2096-174a-4ae1-8188-3238200da9fa",
   "metadata": {},
   "outputs": [
    {
     "data": {
      "text/latex": [
       "$\\displaystyle \\left[\\begin{matrix}- \\frac{\\left(\\left(\\tanh{\\left(\\frac{b^{2}_{0, 0}}{2} + \\frac{h_{0, 0} w^{2}_{0, 0}}{2} + \\frac{h_{1, 0} w^{2}_{0, 1}}{2} + \\frac{h_{2, 0} w^{2}_{0, 2}}{2} \\right)} - 1\\right) z_{0, 0} - \\left(\\tanh{\\left(\\frac{b^{2}_{0, 0}}{2} + \\frac{h_{0, 0} w^{2}_{0, 0}}{2} + \\frac{h_{1, 0} w^{2}_{0, 1}}{2} + \\frac{h_{2, 0} w^{2}_{0, 2}}{2} \\right)} + 1\\right) \\left(z_{0, 0} - 1\\right)\\right) \\left(\\left(\\tanh^{2}{\\left(b^{1}_{0, 0} + w^{1}_{0, 0} x_{0, 0} + w^{1}_{0, 1} x_{1, 0} \\right)} - 1\\right) w^{1}_{0, 0} w^{2}_{0, 0} + \\left(\\tanh^{2}{\\left(b^{1}_{1, 0} + w^{1}_{1, 0} x_{0, 0} + w^{1}_{1, 1} x_{1, 0} \\right)} - 1\\right) w^{1}_{1, 0} w^{2}_{0, 1} + \\left(\\tanh^{2}{\\left(b^{1}_{2, 0} + w^{1}_{2, 0} x_{0, 0} + w^{1}_{2, 1} x_{1, 0} \\right)} - 1\\right) w^{1}_{2, 0} w^{2}_{0, 2}\\right)}{8 \\left(z_{0, 0} - 1\\right) \\cosh^{2}{\\left(\\frac{b^{2}_{0, 0}}{2} + \\frac{h_{0, 0} w^{2}_{0, 0}}{2} + \\frac{h_{1, 0} w^{2}_{0, 1}}{2} + \\frac{h_{2, 0} w^{2}_{0, 2}}{2} \\right)} z_{0, 0}} & - \\frac{\\left(\\left(\\tanh{\\left(\\frac{b^{2}_{0, 0}}{2} + \\frac{h_{0, 0} w^{2}_{0, 0}}{2} + \\frac{h_{1, 0} w^{2}_{0, 1}}{2} + \\frac{h_{2, 0} w^{2}_{0, 2}}{2} \\right)} - 1\\right) z_{0, 0} - \\left(\\tanh{\\left(\\frac{b^{2}_{0, 0}}{2} + \\frac{h_{0, 0} w^{2}_{0, 0}}{2} + \\frac{h_{1, 0} w^{2}_{0, 1}}{2} + \\frac{h_{2, 0} w^{2}_{0, 2}}{2} \\right)} + 1\\right) \\left(z_{0, 0} - 1\\right)\\right) \\left(\\left(\\tanh^{2}{\\left(b^{1}_{0, 0} + w^{1}_{0, 0} x_{0, 0} + w^{1}_{0, 1} x_{1, 0} \\right)} - 1\\right) w^{1}_{0, 1} w^{2}_{0, 0} + \\left(\\tanh^{2}{\\left(b^{1}_{1, 0} + w^{1}_{1, 0} x_{0, 0} + w^{1}_{1, 1} x_{1, 0} \\right)} - 1\\right) w^{1}_{1, 1} w^{2}_{0, 1} + \\left(\\tanh^{2}{\\left(b^{1}_{2, 0} + w^{1}_{2, 0} x_{0, 0} + w^{1}_{2, 1} x_{1, 0} \\right)} - 1\\right) w^{1}_{2, 1} w^{2}_{0, 2}\\right)}{8 \\left(z_{0, 0} - 1\\right) \\cosh^{2}{\\left(\\frac{b^{2}_{0, 0}}{2} + \\frac{h_{0, 0} w^{2}_{0, 0}}{2} + \\frac{h_{1, 0} w^{2}_{0, 1}}{2} + \\frac{h_{2, 0} w^{2}_{0, 2}}{2} \\right)} z_{0, 0}}\\end{matrix}\\right]$"
      ],
      "text/plain": [
       "⎡ ⎛⎛    ⎛b²₀₀   h₀₀⋅w²₀₀   h₁₀⋅w²₀₁   h₂₀⋅w²₀₂⎞    ⎞       ⎛    ⎛b²₀₀   h₀₀⋅w²₀₀   h₁₀⋅w²₀₁   h₂₀⋅w²₀₂⎞    ⎞          ⎞ ⎛⎛    2                                ⎞           \n",
       "⎢-⎜⎜tanh⎜──── + ──────── + ──────── + ────────⎟ - 1⎟⋅z₀₀ - ⎜tanh⎜──── + ──────── + ──────── + ────────⎟ + 1⎟⋅(z₀₀ - 1)⎟⋅⎝⎝tanh (b¹₀₀ + w¹₀₀⋅x₀₀ + w¹₀₁⋅x₁₀) - 1⎠⋅w¹₀₀⋅w²₀₀ \n",
       "⎢ ⎝⎝    ⎝ 2        2          2          2    ⎠    ⎠       ⎝    ⎝ 2        2          2          2    ⎠    ⎠          ⎠                                                    \n",
       "⎢──────────────────────────────────────────────────────────────────────────────────────────────────────────────────────────────────────────────────────────────────────────\n",
       "⎢                                                                                                                            2⎛b²₀₀   h₀₀⋅w²₀₀   h₁₀⋅w²₀₁   h₂₀⋅w²₀₂⎞      \n",
       "⎢                                                                                                            8⋅(z₀₀ - 1)⋅cosh ⎜──── + ──────── + ──────── + ────────⎟⋅z₀₀  \n",
       "⎣                                                                                                                             ⎝ 2        2          2          2    ⎠      \n",
       "\n",
       "  ⎛    2                                ⎞             ⎛    2                                ⎞          ⎞    ⎛⎛    ⎛b²₀₀   h₀₀⋅w²₀₀   h₁₀⋅w²₀₁   h₂₀⋅w²₀₂⎞    ⎞       ⎛    ⎛\n",
       "+ ⎝tanh (b¹₁₀ + w¹₁₀⋅x₀₀ + w¹₁₁⋅x₁₀) - 1⎠⋅w¹₁₀⋅w²₀₁ + ⎝tanh (b¹₂₀ + w¹₂₀⋅x₀₀ + w¹₂₁⋅x₁₀) - 1⎠⋅w¹₂₀⋅w²₀₂⎠   -⎜⎜tanh⎜──── + ──────── + ──────── + ────────⎟ - 1⎟⋅z₀₀ - ⎜tanh⎜\n",
       "                                                                                                            ⎝⎝    ⎝ 2        2          2          2    ⎠    ⎠       ⎝    ⎝\n",
       "─────────────────────────────────────────────────────────────────────────────────────────────────────────  ────────────────────────────────────────────────────────────────\n",
       "                                                                                                                                                                           \n",
       "                                                                                                                                                                           \n",
       "                                                                                                                                                                           \n",
       "\n",
       "b²₀₀   h₀₀⋅w²₀₀   h₁₀⋅w²₀₁   h₂₀⋅w²₀₂⎞    ⎞          ⎞ ⎛⎛    2                                ⎞             ⎛    2                                ⎞             ⎛    2     \n",
       "──── + ──────── + ──────── + ────────⎟ + 1⎟⋅(z₀₀ - 1)⎟⋅⎝⎝tanh (b¹₀₀ + w¹₀₀⋅x₀₀ + w¹₀₁⋅x₁₀) - 1⎠⋅w¹₀₁⋅w²₀₀ + ⎝tanh (b¹₁₀ + w¹₁₀⋅x₀₀ + w¹₁₁⋅x₁₀) - 1⎠⋅w¹₁₁⋅w²₀₁ + ⎝tanh (b¹₂₀\n",
       " 2        2          2          2    ⎠    ⎠          ⎠                                                                                                                     \n",
       "───────────────────────────────────────────────────────────────────────────────────────────────────────────────────────────────────────────────────────────────────────────\n",
       "                                                            2⎛b²₀₀   h₀₀⋅w²₀₀   h₁₀⋅w²₀₁   h₂₀⋅w²₀₂⎞                                                                       \n",
       "                                            8⋅(z₀₀ - 1)⋅cosh ⎜──── + ──────── + ──────── + ────────⎟⋅z₀₀                                                                   \n",
       "                                                             ⎝ 2        2          2          2    ⎠                                                                       \n",
       "\n",
       "                           ⎞          ⎞ ⎤\n",
       " + w¹₂₀⋅x₀₀ + w¹₂₁⋅x₁₀) - 1⎠⋅w¹₂₁⋅w²₀₂⎠ ⎥\n",
       "                                        ⎥\n",
       "────────────────────────────────────────⎥\n",
       "                                        ⎥\n",
       "                                        ⎥\n",
       "                                        ⎦"
      ]
     },
     "execution_count": 104,
     "metadata": {},
     "output_type": "execute_result"
    }
   ],
   "source": [
    "(dl @ dz @ dh).simplify()"
   ]
  },
  {
   "cell_type": "code",
   "execution_count": 108,
   "id": "6b64653b-80fd-49dd-9fce-4842b68fc5c0",
   "metadata": {},
   "outputs": [
    {
     "data": {
      "text/latex": [
       "$\\displaystyle - \\left(- {\\left( d \\mapsto \\frac{\\tanh{\\left(\\frac{d}{2} \\right)}}{2} + \\frac{1}{2} \\right)}_{\\circ}\\left({b^{2} + w^{2} h}\\right) + \\left[\\begin{matrix}1\\end{matrix}\\right]\\right) {\\left( d \\mapsto \\log{\\left(d \\right)} \\right)}_{\\circ}\\left({\\left[\\begin{matrix}1\\end{matrix}\\right] - z}\\right) - {\\left( d \\mapsto \\frac{\\tanh{\\left(\\frac{d}{2} \\right)}}{2} + \\frac{1}{2} \\right)}_{\\circ}\\left({b^{2} + w^{2} h}\\right) {\\left( d \\mapsto \\log{\\left(d \\right)} \\right)}_{\\circ}\\left({z}\\right)$"
      ],
      "text/plain": [
       " ⎛ ⎛        ⎛d⎞    ⎞                  ⎞                          ⎛        ⎛d⎞    ⎞                             \n",
       " ⎜ ⎜    tanh⎜─⎟    ⎟                  ⎟                          ⎜    tanh⎜─⎟    ⎟                             \n",
       " ⎜ ⎜        ⎝2⎠   1⎟                  ⎟                          ⎜        ⎝2⎠   1⎟                             \n",
       "-⎜-⎜d ↦ ─────── + ─⎟˳(w²⋅h + b²) + [1]⎟⋅(d ↦ log(d))˳(-z + [1]) -⎜d ↦ ─────── + ─⎟˳(w²⋅h + b²)⋅(d ↦ log(d))˳(z)\n",
       " ⎝ ⎝       2      2⎠                  ⎠                          ⎝       2      2⎠                             "
      ]
     },
     "execution_count": 108,
     "metadata": {},
     "output_type": "execute_result"
    }
   ],
   "source": [
    "l"
   ]
  },
  {
   "cell_type": "code",
   "execution_count": 29,
   "id": "9cc2be84-d41c-4221-9615-142d29de051f",
   "metadata": {},
   "outputs": [
    {
     "data": {
      "text/latex": [
       "$\\displaystyle - \\left(\\left[\\begin{matrix}1\\end{matrix}\\right] - y\\right) {\\left( d \\mapsto \\log{\\left(d \\right)} \\right)}_{\\circ}\\left({- {\\left( d \\mapsto \\frac{1}{1 + e^{- d}} \\right)}_{\\circ}\\left({b^{2} + w^{2} {\\left( d \\mapsto \\tanh{\\left(d \\right)} \\right)}_{\\circ}\\left({b^{1} + w^{1} x}\\right)}\\right) + \\left[\\begin{matrix}1\\end{matrix}\\right]}\\right) - y {\\left( d \\mapsto \\log{\\left(\\frac{1}{1 + e^{- d}} \\right)} \\right)}_{\\circ}\\left({b^{2} + w^{2} {\\left( d \\mapsto \\tanh{\\left(d \\right)} \\right)}_{\\circ}\\left({b^{1} + w^{1} x}\\right)}\\right)$"
      ],
      "text/plain": [
       "                         ⎛ ⎛       1   ⎞                                          ⎞    ⎛       ⎛   1   ⎞⎞                                    \n",
       "-(-y + [1])⋅(d ↦ log(d))˳⎜-⎜d ↦ ───────⎟˳(w²⋅(d ↦ tanh(d))˳(w¹⋅x + b¹) + b²) + [1]⎟ -y⋅⎜d ↦ log⎜───────⎟⎟˳(w²⋅(d ↦ tanh(d))˳(w¹⋅x + b¹) + b²)\n",
       "                         ⎜ ⎜         -d⎟                                          ⎟    ⎜       ⎜     -d⎟⎟                                    \n",
       "                         ⎝ ⎝    1 + ℯ  ⎠                                          ⎠    ⎝       ⎝1 + ℯ  ⎠⎠                                    "
      ]
     },
     "execution_count": 29,
     "metadata": {},
     "output_type": "execute_result"
    }
   ],
   "source": [
    "loss_sp(params_sp, x_sp, y_sp)"
   ]
  },
  {
   "cell_type": "code",
   "execution_count": 30,
   "id": "b0cdf253-cf86-4d07-a121-aa20b4b420d8",
   "metadata": {},
   "outputs": [
    {
     "data": {
      "image/png": "[encoded data removed]",
      "text/latex": [
       "$\\displaystyle {\\left( d \\mapsto \\frac{1}{1 + e^{- d}} \\right)}_{\\circ}\\left({b^{2} + w^{2} {\\left( d \\mapsto \\tanh{\\left(d \\right)} \\right)}_{\\circ}\\left({b^{1} + w^{1} x}\\right)}\\right)$"
      ],
      "text/plain": [
       "⎛       1   ⎞                                    \n",
       "⎜d ↦ ───────⎟˳(w²⋅(d ↦ tanh(d))˳(w¹⋅x + b¹) + b²)\n",
       "⎜         -d⎟                                    \n",
       "⎝    1 + ℯ  ⎠                                    "
      ]
     },
     "execution_count": 30,
     "metadata": {},
     "output_type": "execute_result"
    }
   ],
   "source": [
    "net_sp(params_sp, x_sp)"
   ]
  },
  {
   "cell_type": "code",
   "execution_count": 31,
   "id": "02d9049e-2615-49a2-a281-5123796ec542",
   "metadata": {},
   "outputs": [],
   "source": [
    "# Flatten all parameters into a vector - may not be needed \n",
    "all_params = sum([p.as_explicit().flat() for p in params_sp], [])"
   ]
  },
  {
   "cell_type": "code",
   "execution_count": 32,
   "id": "7851387b-066b-47a7-be8d-f0feeaef2f10",
   "metadata": {},
   "outputs": [],
   "source": [
    "loss_grad_sp = loss_sp(params_sp, x_sp, y_sp).as_explicit().jacobian(all_params)"
   ]
  },
  {
   "cell_type": "code",
   "execution_count": 33,
   "id": "1171a0d9-3fb5-4258-bd38-d81a3f5f3401",
   "metadata": {},
   "outputs": [
    {
     "data": {
      "text/latex": [
       "$\\displaystyle \\left[\\begin{array}{ccccccccccccc}- \\frac{\\left(1 - \\tanh^{2}{\\left(b^{1}_{0, 0} + w^{1}_{0, 0} x_{0, 0} + w^{1}_{0, 1} x_{1, 0} \\right)}\\right) e^{- \\tanh{\\left(b^{1}_{0, 0} + w^{1}_{0, 0} x_{0, 0} + w^{1}_{0, 1} x_{1, 0} \\right)} w^{2}_{0, 0} - \\tanh{\\left(b^{1}_{1, 0} + w^{1}_{1, 0} x_{0, 0} + w^{1}_{1, 1} x_{1, 0} \\right)} w^{2}_{0, 1} - \\tanh{\\left(b^{1}_{2, 0} + w^{1}_{2, 0} x_{0, 0} + w^{1}_{2, 1} x_{1, 0} \\right)} w^{2}_{0, 2} - b^{2}_{0, 0}} w^{2}_{0, 0} x_{0, 0} y_{0, 0}}{e^{- \\tanh{\\left(b^{1}_{0, 0} + w^{1}_{0, 0} x_{0, 0} + w^{1}_{0, 1} x_{1, 0} \\right)} w^{2}_{0, 0} - \\tanh{\\left(b^{1}_{1, 0} + w^{1}_{1, 0} x_{0, 0} + w^{1}_{1, 1} x_{1, 0} \\right)} w^{2}_{0, 1} - \\tanh{\\left(b^{1}_{2, 0} + w^{1}_{2, 0} x_{0, 0} + w^{1}_{2, 1} x_{1, 0} \\right)} w^{2}_{0, 2} - b^{2}_{0, 0}} + 1} - \\frac{\\left(1 - \\tanh^{2}{\\left(b^{1}_{0, 0} + w^{1}_{0, 0} x_{0, 0} + w^{1}_{0, 1} x_{1, 0} \\right)}\\right) \\left(y_{0, 0} - 1\\right) e^{- \\tanh{\\left(b^{1}_{0, 0} + w^{1}_{0, 0} x_{0, 0} + w^{1}_{0, 1} x_{1, 0} \\right)} w^{2}_{0, 0} - \\tanh{\\left(b^{1}_{1, 0} + w^{1}_{1, 0} x_{0, 0} + w^{1}_{1, 1} x_{1, 0} \\right)} w^{2}_{0, 1} - \\tanh{\\left(b^{1}_{2, 0} + w^{1}_{2, 0} x_{0, 0} + w^{1}_{2, 1} x_{1, 0} \\right)} w^{2}_{0, 2} - b^{2}_{0, 0}} w^{2}_{0, 0} x_{0, 0}}{\\left(1 - \\frac{1}{e^{- \\tanh{\\left(b^{1}_{0, 0} + w^{1}_{0, 0} x_{0, 0} + w^{1}_{0, 1} x_{1, 0} \\right)} w^{2}_{0, 0} - \\tanh{\\left(b^{1}_{1, 0} + w^{1}_{1, 0} x_{0, 0} + w^{1}_{1, 1} x_{1, 0} \\right)} w^{2}_{0, 1} - \\tanh{\\left(b^{1}_{2, 0} + w^{1}_{2, 0} x_{0, 0} + w^{1}_{2, 1} x_{1, 0} \\right)} w^{2}_{0, 2} - b^{2}_{0, 0}} + 1}\\right) \\left(e^{- \\tanh{\\left(b^{1}_{0, 0} + w^{1}_{0, 0} x_{0, 0} + w^{1}_{0, 1} x_{1, 0} \\right)} w^{2}_{0, 0} - \\tanh{\\left(b^{1}_{1, 0} + w^{1}_{1, 0} x_{0, 0} + w^{1}_{1, 1} x_{1, 0} \\right)} w^{2}_{0, 1} - \\tanh{\\left(b^{1}_{2, 0} + w^{1}_{2, 0} x_{0, 0} + w^{1}_{2, 1} x_{1, 0} \\right)} w^{2}_{0, 2} - b^{2}_{0, 0}} + 1\\right)^{2}} & - \\frac{\\left(1 - \\tanh^{2}{\\left(b^{1}_{0, 0} + w^{1}_{0, 0} x_{0, 0} + w^{1}_{0, 1} x_{1, 0} \\right)}\\right) e^{- \\tanh{\\left(b^{1}_{0, 0} + w^{1}_{0, 0} x_{0, 0} + w^{1}_{0, 1} x_{1, 0} \\right)} w^{2}_{0, 0} - \\tanh{\\left(b^{1}_{1, 0} + w^{1}_{1, 0} x_{0, 0} + w^{1}_{1, 1} x_{1, 0} \\right)} w^{2}_{0, 1} - \\tanh{\\left(b^{1}_{2, 0} + w^{1}_{2, 0} x_{0, 0} + w^{1}_{2, 1} x_{1, 0} \\right)} w^{2}_{0, 2} - b^{2}_{0, 0}} w^{2}_{0, 0} x_{1, 0} y_{0, 0}}{e^{- \\tanh{\\left(b^{1}_{0, 0} + w^{1}_{0, 0} x_{0, 0} + w^{1}_{0, 1} x_{1, 0} \\right)} w^{2}_{0, 0} - \\tanh{\\left(b^{1}_{1, 0} + w^{1}_{1, 0} x_{0, 0} + w^{1}_{1, 1} x_{1, 0} \\right)} w^{2}_{0, 1} - \\tanh{\\left(b^{1}_{2, 0} + w^{1}_{2, 0} x_{0, 0} + w^{1}_{2, 1} x_{1, 0} \\right)} w^{2}_{0, 2} - b^{2}_{0, 0}} + 1} - \\frac{\\left(1 - \\tanh^{2}{\\left(b^{1}_{0, 0} + w^{1}_{0, 0} x_{0, 0} + w^{1}_{0, 1} x_{1, 0} \\right)}\\right) \\left(y_{0, 0} - 1\\right) e^{- \\tanh{\\left(b^{1}_{0, 0} + w^{1}_{0, 0} x_{0, 0} + w^{1}_{0, 1} x_{1, 0} \\right)} w^{2}_{0, 0} - \\tanh{\\left(b^{1}_{1, 0} + w^{1}_{1, 0} x_{0, 0} + w^{1}_{1, 1} x_{1, 0} \\right)} w^{2}_{0, 1} - \\tanh{\\left(b^{1}_{2, 0} + w^{1}_{2, 0} x_{0, 0} + w^{1}_{2, 1} x_{1, 0} \\right)} w^{2}_{0, 2} - b^{2}_{0, 0}} w^{2}_{0, 0} x_{1, 0}}{\\left(1 - \\frac{1}{e^{- \\tanh{\\left(b^{1}_{0, 0} + w^{1}_{0, 0} x_{0, 0} + w^{1}_{0, 1} x_{1, 0} \\right)} w^{2}_{0, 0} - \\tanh{\\left(b^{1}_{1, 0} + w^{1}_{1, 0} x_{0, 0} + w^{1}_{1, 1} x_{1, 0} \\right)} w^{2}_{0, 1} - \\tanh{\\left(b^{1}_{2, 0} + w^{1}_{2, 0} x_{0, 0} + w^{1}_{2, 1} x_{1, 0} \\right)} w^{2}_{0, 2} - b^{2}_{0, 0}} + 1}\\right) \\left(e^{- \\tanh{\\left(b^{1}_{0, 0} + w^{1}_{0, 0} x_{0, 0} + w^{1}_{0, 1} x_{1, 0} \\right)} w^{2}_{0, 0} - \\tanh{\\left(b^{1}_{1, 0} + w^{1}_{1, 0} x_{0, 0} + w^{1}_{1, 1} x_{1, 0} \\right)} w^{2}_{0, 1} - \\tanh{\\left(b^{1}_{2, 0} + w^{1}_{2, 0} x_{0, 0} + w^{1}_{2, 1} x_{1, 0} \\right)} w^{2}_{0, 2} - b^{2}_{0, 0}} + 1\\right)^{2}} & - \\frac{\\left(1 - \\tanh^{2}{\\left(b^{1}_{1, 0} + w^{1}_{1, 0} x_{0, 0} + w^{1}_{1, 1} x_{1, 0} \\right)}\\right) e^{- \\tanh{\\left(b^{1}_{0, 0} + w^{1}_{0, 0} x_{0, 0} + w^{1}_{0, 1} x_{1, 0} \\right)} w^{2}_{0, 0} - \\tanh{\\left(b^{1}_{1, 0} + w^{1}_{1, 0} x_{0, 0} + w^{1}_{1, 1} x_{1, 0} \\right)} w^{2}_{0, 1} - \\tanh{\\left(b^{1}_{2, 0} + w^{1}_{2, 0} x_{0, 0} + w^{1}_{2, 1} x_{1, 0} \\right)} w^{2}_{0, 2} - b^{2}_{0, 0}} w^{2}_{0, 1} x_{0, 0} y_{0, 0}}{e^{- \\tanh{\\left(b^{1}_{0, 0} + w^{1}_{0, 0} x_{0, 0} + w^{1}_{0, 1} x_{1, 0} \\right)} w^{2}_{0, 0} - \\tanh{\\left(b^{1}_{1, 0} + w^{1}_{1, 0} x_{0, 0} + w^{1}_{1, 1} x_{1, 0} \\right)} w^{2}_{0, 1} - \\tanh{\\left(b^{1}_{2, 0} + w^{1}_{2, 0} x_{0, 0} + w^{1}_{2, 1} x_{1, 0} \\right)} w^{2}_{0, 2} - b^{2}_{0, 0}} + 1} - \\frac{\\left(1 - \\tanh^{2}{\\left(b^{1}_{1, 0} + w^{1}_{1, 0} x_{0, 0} + w^{1}_{1, 1} x_{1, 0} \\right)}\\right) \\left(y_{0, 0} - 1\\right) e^{- \\tanh{\\left(b^{1}_{0, 0} + w^{1}_{0, 0} x_{0, 0} + w^{1}_{0, 1} x_{1, 0} \\right)} w^{2}_{0, 0} - \\tanh{\\left(b^{1}_{1, 0} + w^{1}_{1, 0} x_{0, 0} + w^{1}_{1, 1} x_{1, 0} \\right)} w^{2}_{0, 1} - \\tanh{\\left(b^{1}_{2, 0} + w^{1}_{2, 0} x_{0, 0} + w^{1}_{2, 1} x_{1, 0} \\right)} w^{2}_{0, 2} - b^{2}_{0, 0}} w^{2}_{0, 1} x_{0, 0}}{\\left(1 - \\frac{1}{e^{- \\tanh{\\left(b^{1}_{0, 0} + w^{1}_{0, 0} x_{0, 0} + w^{1}_{0, 1} x_{1, 0} \\right)} w^{2}_{0, 0} - \\tanh{\\left(b^{1}_{1, 0} + w^{1}_{1, 0} x_{0, 0} + w^{1}_{1, 1} x_{1, 0} \\right)} w^{2}_{0, 1} - \\tanh{\\left(b^{1}_{2, 0} + w^{1}_{2, 0} x_{0, 0} + w^{1}_{2, 1} x_{1, 0} \\right)} w^{2}_{0, 2} - b^{2}_{0, 0}} + 1}\\right) \\left(e^{- \\tanh{\\left(b^{1}_{0, 0} + w^{1}_{0, 0} x_{0, 0} + w^{1}_{0, 1} x_{1, 0} \\right)} w^{2}_{0, 0} - \\tanh{\\left(b^{1}_{1, 0} + w^{1}_{1, 0} x_{0, 0} + w^{1}_{1, 1} x_{1, 0} \\right)} w^{2}_{0, 1} - \\tanh{\\left(b^{1}_{2, 0} + w^{1}_{2, 0} x_{0, 0} + w^{1}_{2, 1} x_{1, 0} \\right)} w^{2}_{0, 2} - b^{2}_{0, 0}} + 1\\right)^{2}} & - \\frac{\\left(1 - \\tanh^{2}{\\left(b^{1}_{1, 0} + w^{1}_{1, 0} x_{0, 0} + w^{1}_{1, 1} x_{1, 0} \\right)}\\right) e^{- \\tanh{\\left(b^{1}_{0, 0} + w^{1}_{0, 0} x_{0, 0} + w^{1}_{0, 1} x_{1, 0} \\right)} w^{2}_{0, 0} - \\tanh{\\left(b^{1}_{1, 0} + w^{1}_{1, 0} x_{0, 0} + w^{1}_{1, 1} x_{1, 0} \\right)} w^{2}_{0, 1} - \\tanh{\\left(b^{1}_{2, 0} + w^{1}_{2, 0} x_{0, 0} + w^{1}_{2, 1} x_{1, 0} \\right)} w^{2}_{0, 2} - b^{2}_{0, 0}} w^{2}_{0, 1} x_{1, 0} y_{0, 0}}{e^{- \\tanh{\\left(b^{1}_{0, 0} + w^{1}_{0, 0} x_{0, 0} + w^{1}_{0, 1} x_{1, 0} \\right)} w^{2}_{0, 0} - \\tanh{\\left(b^{1}_{1, 0} + w^{1}_{1, 0} x_{0, 0} + w^{1}_{1, 1} x_{1, 0} \\right)} w^{2}_{0, 1} - \\tanh{\\left(b^{1}_{2, 0} + w^{1}_{2, 0} x_{0, 0} + w^{1}_{2, 1} x_{1, 0} \\right)} w^{2}_{0, 2} - b^{2}_{0, 0}} + 1} - \\frac{\\left(1 - \\tanh^{2}{\\left(b^{1}_{1, 0} + w^{1}_{1, 0} x_{0, 0} + w^{1}_{1, 1} x_{1, 0} \\right)}\\right) \\left(y_{0, 0} - 1\\right) e^{- \\tanh{\\left(b^{1}_{0, 0} + w^{1}_{0, 0} x_{0, 0} + w^{1}_{0, 1} x_{1, 0} \\right)} w^{2}_{0, 0} - \\tanh{\\left(b^{1}_{1, 0} + w^{1}_{1, 0} x_{0, 0} + w^{1}_{1, 1} x_{1, 0} \\right)} w^{2}_{0, 1} - \\tanh{\\left(b^{1}_{2, 0} + w^{1}_{2, 0} x_{0, 0} + w^{1}_{2, 1} x_{1, 0} \\right)} w^{2}_{0, 2} - b^{2}_{0, 0}} w^{2}_{0, 1} x_{1, 0}}{\\left(1 - \\frac{1}{e^{- \\tanh{\\left(b^{1}_{0, 0} + w^{1}_{0, 0} x_{0, 0} + w^{1}_{0, 1} x_{1, 0} \\right)} w^{2}_{0, 0} - \\tanh{\\left(b^{1}_{1, 0} + w^{1}_{1, 0} x_{0, 0} + w^{1}_{1, 1} x_{1, 0} \\right)} w^{2}_{0, 1} - \\tanh{\\left(b^{1}_{2, 0} + w^{1}_{2, 0} x_{0, 0} + w^{1}_{2, 1} x_{1, 0} \\right)} w^{2}_{0, 2} - b^{2}_{0, 0}} + 1}\\right) \\left(e^{- \\tanh{\\left(b^{1}_{0, 0} + w^{1}_{0, 0} x_{0, 0} + w^{1}_{0, 1} x_{1, 0} \\right)} w^{2}_{0, 0} - \\tanh{\\left(b^{1}_{1, 0} + w^{1}_{1, 0} x_{0, 0} + w^{1}_{1, 1} x_{1, 0} \\right)} w^{2}_{0, 1} - \\tanh{\\left(b^{1}_{2, 0} + w^{1}_{2, 0} x_{0, 0} + w^{1}_{2, 1} x_{1, 0} \\right)} w^{2}_{0, 2} - b^{2}_{0, 0}} + 1\\right)^{2}} & - \\frac{\\left(1 - \\tanh^{2}{\\left(b^{1}_{2, 0} + w^{1}_{2, 0} x_{0, 0} + w^{1}_{2, 1} x_{1, 0} \\right)}\\right) e^{- \\tanh{\\left(b^{1}_{0, 0} + w^{1}_{0, 0} x_{0, 0} + w^{1}_{0, 1} x_{1, 0} \\right)} w^{2}_{0, 0} - \\tanh{\\left(b^{1}_{1, 0} + w^{1}_{1, 0} x_{0, 0} + w^{1}_{1, 1} x_{1, 0} \\right)} w^{2}_{0, 1} - \\tanh{\\left(b^{1}_{2, 0} + w^{1}_{2, 0} x_{0, 0} + w^{1}_{2, 1} x_{1, 0} \\right)} w^{2}_{0, 2} - b^{2}_{0, 0}} w^{2}_{0, 2} x_{0, 0} y_{0, 0}}{e^{- \\tanh{\\left(b^{1}_{0, 0} + w^{1}_{0, 0} x_{0, 0} + w^{1}_{0, 1} x_{1, 0} \\right)} w^{2}_{0, 0} - \\tanh{\\left(b^{1}_{1, 0} + w^{1}_{1, 0} x_{0, 0} + w^{1}_{1, 1} x_{1, 0} \\right)} w^{2}_{0, 1} - \\tanh{\\left(b^{1}_{2, 0} + w^{1}_{2, 0} x_{0, 0} + w^{1}_{2, 1} x_{1, 0} \\right)} w^{2}_{0, 2} - b^{2}_{0, 0}} + 1} - \\frac{\\left(1 - \\tanh^{2}{\\left(b^{1}_{2, 0} + w^{1}_{2, 0} x_{0, 0} + w^{1}_{2, 1} x_{1, 0} \\right)}\\right) \\left(y_{0, 0} - 1\\right) e^{- \\tanh{\\left(b^{1}_{0, 0} + w^{1}_{0, 0} x_{0, 0} + w^{1}_{0, 1} x_{1, 0} \\right)} w^{2}_{0, 0} - \\tanh{\\left(b^{1}_{1, 0} + w^{1}_{1, 0} x_{0, 0} + w^{1}_{1, 1} x_{1, 0} \\right)} w^{2}_{0, 1} - \\tanh{\\left(b^{1}_{2, 0} + w^{1}_{2, 0} x_{0, 0} + w^{1}_{2, 1} x_{1, 0} \\right)} w^{2}_{0, 2} - b^{2}_{0, 0}} w^{2}_{0, 2} x_{0, 0}}{\\left(1 - \\frac{1}{e^{- \\tanh{\\left(b^{1}_{0, 0} + w^{1}_{0, 0} x_{0, 0} + w^{1}_{0, 1} x_{1, 0} \\right)} w^{2}_{0, 0} - \\tanh{\\left(b^{1}_{1, 0} + w^{1}_{1, 0} x_{0, 0} + w^{1}_{1, 1} x_{1, 0} \\right)} w^{2}_{0, 1} - \\tanh{\\left(b^{1}_{2, 0} + w^{1}_{2, 0} x_{0, 0} + w^{1}_{2, 1} x_{1, 0} \\right)} w^{2}_{0, 2} - b^{2}_{0, 0}} + 1}\\right) \\left(e^{- \\tanh{\\left(b^{1}_{0, 0} + w^{1}_{0, 0} x_{0, 0} + w^{1}_{0, 1} x_{1, 0} \\right)} w^{2}_{0, 0} - \\tanh{\\left(b^{1}_{1, 0} + w^{1}_{1, 0} x_{0, 0} + w^{1}_{1, 1} x_{1, 0} \\right)} w^{2}_{0, 1} - \\tanh{\\left(b^{1}_{2, 0} + w^{1}_{2, 0} x_{0, 0} + w^{1}_{2, 1} x_{1, 0} \\right)} w^{2}_{0, 2} - b^{2}_{0, 0}} + 1\\right)^{2}} & - \\frac{\\left(1 - \\tanh^{2}{\\left(b^{1}_{2, 0} + w^{1}_{2, 0} x_{0, 0} + w^{1}_{2, 1} x_{1, 0} \\right)}\\right) e^{- \\tanh{\\left(b^{1}_{0, 0} + w^{1}_{0, 0} x_{0, 0} + w^{1}_{0, 1} x_{1, 0} \\right)} w^{2}_{0, 0} - \\tanh{\\left(b^{1}_{1, 0} + w^{1}_{1, 0} x_{0, 0} + w^{1}_{1, 1} x_{1, 0} \\right)} w^{2}_{0, 1} - \\tanh{\\left(b^{1}_{2, 0} + w^{1}_{2, 0} x_{0, 0} + w^{1}_{2, 1} x_{1, 0} \\right)} w^{2}_{0, 2} - b^{2}_{0, 0}} w^{2}_{0, 2} x_{1, 0} y_{0, 0}}{e^{- \\tanh{\\left(b^{1}_{0, 0} + w^{1}_{0, 0} x_{0, 0} + w^{1}_{0, 1} x_{1, 0} \\right)} w^{2}_{0, 0} - \\tanh{\\left(b^{1}_{1, 0} + w^{1}_{1, 0} x_{0, 0} + w^{1}_{1, 1} x_{1, 0} \\right)} w^{2}_{0, 1} - \\tanh{\\left(b^{1}_{2, 0} + w^{1}_{2, 0} x_{0, 0} + w^{1}_{2, 1} x_{1, 0} \\right)} w^{2}_{0, 2} - b^{2}_{0, 0}} + 1} - \\frac{\\left(1 - \\tanh^{2}{\\left(b^{1}_{2, 0} + w^{1}_{2, 0} x_{0, 0} + w^{1}_{2, 1} x_{1, 0} \\right)}\\right) \\left(y_{0, 0} - 1\\right) e^{- \\tanh{\\left(b^{1}_{0, 0} + w^{1}_{0, 0} x_{0, 0} + w^{1}_{0, 1} x_{1, 0} \\right)} w^{2}_{0, 0} - \\tanh{\\left(b^{1}_{1, 0} + w^{1}_{1, 0} x_{0, 0} + w^{1}_{1, 1} x_{1, 0} \\right)} w^{2}_{0, 1} - \\tanh{\\left(b^{1}_{2, 0} + w^{1}_{2, 0} x_{0, 0} + w^{1}_{2, 1} x_{1, 0} \\right)} w^{2}_{0, 2} - b^{2}_{0, 0}} w^{2}_{0, 2} x_{1, 0}}{\\left(1 - \\frac{1}{e^{- \\tanh{\\left(b^{1}_{0, 0} + w^{1}_{0, 0} x_{0, 0} + w^{1}_{0, 1} x_{1, 0} \\right)} w^{2}_{0, 0} - \\tanh{\\left(b^{1}_{1, 0} + w^{1}_{1, 0} x_{0, 0} + w^{1}_{1, 1} x_{1, 0} \\right)} w^{2}_{0, 1} - \\tanh{\\left(b^{1}_{2, 0} + w^{1}_{2, 0} x_{0, 0} + w^{1}_{2, 1} x_{1, 0} \\right)} w^{2}_{0, 2} - b^{2}_{0, 0}} + 1}\\right) \\left(e^{- \\tanh{\\left(b^{1}_{0, 0} + w^{1}_{0, 0} x_{0, 0} + w^{1}_{0, 1} x_{1, 0} \\right)} w^{2}_{0, 0} - \\tanh{\\left(b^{1}_{1, 0} + w^{1}_{1, 0} x_{0, 0} + w^{1}_{1, 1} x_{1, 0} \\right)} w^{2}_{0, 1} - \\tanh{\\left(b^{1}_{2, 0} + w^{1}_{2, 0} x_{0, 0} + w^{1}_{2, 1} x_{1, 0} \\right)} w^{2}_{0, 2} - b^{2}_{0, 0}} + 1\\right)^{2}} & - \\frac{\\left(1 - \\tanh^{2}{\\left(b^{1}_{0, 0} + w^{1}_{0, 0} x_{0, 0} + w^{1}_{0, 1} x_{1, 0} \\right)}\\right) e^{- \\tanh{\\left(b^{1}_{0, 0} + w^{1}_{0, 0} x_{0, 0} + w^{1}_{0, 1} x_{1, 0} \\right)} w^{2}_{0, 0} - \\tanh{\\left(b^{1}_{1, 0} + w^{1}_{1, 0} x_{0, 0} + w^{1}_{1, 1} x_{1, 0} \\right)} w^{2}_{0, 1} - \\tanh{\\left(b^{1}_{2, 0} + w^{1}_{2, 0} x_{0, 0} + w^{1}_{2, 1} x_{1, 0} \\right)} w^{2}_{0, 2} - b^{2}_{0, 0}} w^{2}_{0, 0} y_{0, 0}}{e^{- \\tanh{\\left(b^{1}_{0, 0} + w^{1}_{0, 0} x_{0, 0} + w^{1}_{0, 1} x_{1, 0} \\right)} w^{2}_{0, 0} - \\tanh{\\left(b^{1}_{1, 0} + w^{1}_{1, 0} x_{0, 0} + w^{1}_{1, 1} x_{1, 0} \\right)} w^{2}_{0, 1} - \\tanh{\\left(b^{1}_{2, 0} + w^{1}_{2, 0} x_{0, 0} + w^{1}_{2, 1} x_{1, 0} \\right)} w^{2}_{0, 2} - b^{2}_{0, 0}} + 1} - \\frac{\\left(1 - \\tanh^{2}{\\left(b^{1}_{0, 0} + w^{1}_{0, 0} x_{0, 0} + w^{1}_{0, 1} x_{1, 0} \\right)}\\right) \\left(y_{0, 0} - 1\\right) e^{- \\tanh{\\left(b^{1}_{0, 0} + w^{1}_{0, 0} x_{0, 0} + w^{1}_{0, 1} x_{1, 0} \\right)} w^{2}_{0, 0} - \\tanh{\\left(b^{1}_{1, 0} + w^{1}_{1, 0} x_{0, 0} + w^{1}_{1, 1} x_{1, 0} \\right)} w^{2}_{0, 1} - \\tanh{\\left(b^{1}_{2, 0} + w^{1}_{2, 0} x_{0, 0} + w^{1}_{2, 1} x_{1, 0} \\right)} w^{2}_{0, 2} - b^{2}_{0, 0}} w^{2}_{0, 0}}{\\left(1 - \\frac{1}{e^{- \\tanh{\\left(b^{1}_{0, 0} + w^{1}_{0, 0} x_{0, 0} + w^{1}_{0, 1} x_{1, 0} \\right)} w^{2}_{0, 0} - \\tanh{\\left(b^{1}_{1, 0} + w^{1}_{1, 0} x_{0, 0} + w^{1}_{1, 1} x_{1, 0} \\right)} w^{2}_{0, 1} - \\tanh{\\left(b^{1}_{2, 0} + w^{1}_{2, 0} x_{0, 0} + w^{1}_{2, 1} x_{1, 0} \\right)} w^{2}_{0, 2} - b^{2}_{0, 0}} + 1}\\right) \\left(e^{- \\tanh{\\left(b^{1}_{0, 0} + w^{1}_{0, 0} x_{0, 0} + w^{1}_{0, 1} x_{1, 0} \\right)} w^{2}_{0, 0} - \\tanh{\\left(b^{1}_{1, 0} + w^{1}_{1, 0} x_{0, 0} + w^{1}_{1, 1} x_{1, 0} \\right)} w^{2}_{0, 1} - \\tanh{\\left(b^{1}_{2, 0} + w^{1}_{2, 0} x_{0, 0} + w^{1}_{2, 1} x_{1, 0} \\right)} w^{2}_{0, 2} - b^{2}_{0, 0}} + 1\\right)^{2}} & - \\frac{\\left(1 - \\tanh^{2}{\\left(b^{1}_{1, 0} + w^{1}_{1, 0} x_{0, 0} + w^{1}_{1, 1} x_{1, 0} \\right)}\\right) e^{- \\tanh{\\left(b^{1}_{0, 0} + w^{1}_{0, 0} x_{0, 0} + w^{1}_{0, 1} x_{1, 0} \\right)} w^{2}_{0, 0} - \\tanh{\\left(b^{1}_{1, 0} + w^{1}_{1, 0} x_{0, 0} + w^{1}_{1, 1} x_{1, 0} \\right)} w^{2}_{0, 1} - \\tanh{\\left(b^{1}_{2, 0} + w^{1}_{2, 0} x_{0, 0} + w^{1}_{2, 1} x_{1, 0} \\right)} w^{2}_{0, 2} - b^{2}_{0, 0}} w^{2}_{0, 1} y_{0, 0}}{e^{- \\tanh{\\left(b^{1}_{0, 0} + w^{1}_{0, 0} x_{0, 0} + w^{1}_{0, 1} x_{1, 0} \\right)} w^{2}_{0, 0} - \\tanh{\\left(b^{1}_{1, 0} + w^{1}_{1, 0} x_{0, 0} + w^{1}_{1, 1} x_{1, 0} \\right)} w^{2}_{0, 1} - \\tanh{\\left(b^{1}_{2, 0} + w^{1}_{2, 0} x_{0, 0} + w^{1}_{2, 1} x_{1, 0} \\right)} w^{2}_{0, 2} - b^{2}_{0, 0}} + 1} - \\frac{\\left(1 - \\tanh^{2}{\\left(b^{1}_{1, 0} + w^{1}_{1, 0} x_{0, 0} + w^{1}_{1, 1} x_{1, 0} \\right)}\\right) \\left(y_{0, 0} - 1\\right) e^{- \\tanh{\\left(b^{1}_{0, 0} + w^{1}_{0, 0} x_{0, 0} + w^{1}_{0, 1} x_{1, 0} \\right)} w^{2}_{0, 0} - \\tanh{\\left(b^{1}_{1, 0} + w^{1}_{1, 0} x_{0, 0} + w^{1}_{1, 1} x_{1, 0} \\right)} w^{2}_{0, 1} - \\tanh{\\left(b^{1}_{2, 0} + w^{1}_{2, 0} x_{0, 0} + w^{1}_{2, 1} x_{1, 0} \\right)} w^{2}_{0, 2} - b^{2}_{0, 0}} w^{2}_{0, 1}}{\\left(1 - \\frac{1}{e^{- \\tanh{\\left(b^{1}_{0, 0} + w^{1}_{0, 0} x_{0, 0} + w^{1}_{0, 1} x_{1, 0} \\right)} w^{2}_{0, 0} - \\tanh{\\left(b^{1}_{1, 0} + w^{1}_{1, 0} x_{0, 0} + w^{1}_{1, 1} x_{1, 0} \\right)} w^{2}_{0, 1} - \\tanh{\\left(b^{1}_{2, 0} + w^{1}_{2, 0} x_{0, 0} + w^{1}_{2, 1} x_{1, 0} \\right)} w^{2}_{0, 2} - b^{2}_{0, 0}} + 1}\\right) \\left(e^{- \\tanh{\\left(b^{1}_{0, 0} + w^{1}_{0, 0} x_{0, 0} + w^{1}_{0, 1} x_{1, 0} \\right)} w^{2}_{0, 0} - \\tanh{\\left(b^{1}_{1, 0} + w^{1}_{1, 0} x_{0, 0} + w^{1}_{1, 1} x_{1, 0} \\right)} w^{2}_{0, 1} - \\tanh{\\left(b^{1}_{2, 0} + w^{1}_{2, 0} x_{0, 0} + w^{1}_{2, 1} x_{1, 0} \\right)} w^{2}_{0, 2} - b^{2}_{0, 0}} + 1\\right)^{2}} & - \\frac{\\left(1 - \\tanh^{2}{\\left(b^{1}_{2, 0} + w^{1}_{2, 0} x_{0, 0} + w^{1}_{2, 1} x_{1, 0} \\right)}\\right) e^{- \\tanh{\\left(b^{1}_{0, 0} + w^{1}_{0, 0} x_{0, 0} + w^{1}_{0, 1} x_{1, 0} \\right)} w^{2}_{0, 0} - \\tanh{\\left(b^{1}_{1, 0} + w^{1}_{1, 0} x_{0, 0} + w^{1}_{1, 1} x_{1, 0} \\right)} w^{2}_{0, 1} - \\tanh{\\left(b^{1}_{2, 0} + w^{1}_{2, 0} x_{0, 0} + w^{1}_{2, 1} x_{1, 0} \\right)} w^{2}_{0, 2} - b^{2}_{0, 0}} w^{2}_{0, 2} y_{0, 0}}{e^{- \\tanh{\\left(b^{1}_{0, 0} + w^{1}_{0, 0} x_{0, 0} + w^{1}_{0, 1} x_{1, 0} \\right)} w^{2}_{0, 0} - \\tanh{\\left(b^{1}_{1, 0} + w^{1}_{1, 0} x_{0, 0} + w^{1}_{1, 1} x_{1, 0} \\right)} w^{2}_{0, 1} - \\tanh{\\left(b^{1}_{2, 0} + w^{1}_{2, 0} x_{0, 0} + w^{1}_{2, 1} x_{1, 0} \\right)} w^{2}_{0, 2} - b^{2}_{0, 0}} + 1} - \\frac{\\left(1 - \\tanh^{2}{\\left(b^{1}_{2, 0} + w^{1}_{2, 0} x_{0, 0} + w^{1}_{2, 1} x_{1, 0} \\right)}\\right) \\left(y_{0, 0} - 1\\right) e^{- \\tanh{\\left(b^{1}_{0, 0} + w^{1}_{0, 0} x_{0, 0} + w^{1}_{0, 1} x_{1, 0} \\right)} w^{2}_{0, 0} - \\tanh{\\left(b^{1}_{1, 0} + w^{1}_{1, 0} x_{0, 0} + w^{1}_{1, 1} x_{1, 0} \\right)} w^{2}_{0, 1} - \\tanh{\\left(b^{1}_{2, 0} + w^{1}_{2, 0} x_{0, 0} + w^{1}_{2, 1} x_{1, 0} \\right)} w^{2}_{0, 2} - b^{2}_{0, 0}} w^{2}_{0, 2}}{\\left(1 - \\frac{1}{e^{- \\tanh{\\left(b^{1}_{0, 0} + w^{1}_{0, 0} x_{0, 0} + w^{1}_{0, 1} x_{1, 0} \\right)} w^{2}_{0, 0} - \\tanh{\\left(b^{1}_{1, 0} + w^{1}_{1, 0} x_{0, 0} + w^{1}_{1, 1} x_{1, 0} \\right)} w^{2}_{0, 1} - \\tanh{\\left(b^{1}_{2, 0} + w^{1}_{2, 0} x_{0, 0} + w^{1}_{2, 1} x_{1, 0} \\right)} w^{2}_{0, 2} - b^{2}_{0, 0}} + 1}\\right) \\left(e^{- \\tanh{\\left(b^{1}_{0, 0} + w^{1}_{0, 0} x_{0, 0} + w^{1}_{0, 1} x_{1, 0} \\right)} w^{2}_{0, 0} - \\tanh{\\left(b^{1}_{1, 0} + w^{1}_{1, 0} x_{0, 0} + w^{1}_{1, 1} x_{1, 0} \\right)} w^{2}_{0, 1} - \\tanh{\\left(b^{1}_{2, 0} + w^{1}_{2, 0} x_{0, 0} + w^{1}_{2, 1} x_{1, 0} \\right)} w^{2}_{0, 2} - b^{2}_{0, 0}} + 1\\right)^{2}} & - \\frac{e^{- \\tanh{\\left(b^{1}_{0, 0} + w^{1}_{0, 0} x_{0, 0} + w^{1}_{0, 1} x_{1, 0} \\right)} w^{2}_{0, 0} - \\tanh{\\left(b^{1}_{1, 0} + w^{1}_{1, 0} x_{0, 0} + w^{1}_{1, 1} x_{1, 0} \\right)} w^{2}_{0, 1} - \\tanh{\\left(b^{1}_{2, 0} + w^{1}_{2, 0} x_{0, 0} + w^{1}_{2, 1} x_{1, 0} \\right)} w^{2}_{0, 2} - b^{2}_{0, 0}} \\tanh{\\left(b^{1}_{0, 0} + w^{1}_{0, 0} x_{0, 0} + w^{1}_{0, 1} x_{1, 0} \\right)} y_{0, 0}}{e^{- \\tanh{\\left(b^{1}_{0, 0} + w^{1}_{0, 0} x_{0, 0} + w^{1}_{0, 1} x_{1, 0} \\right)} w^{2}_{0, 0} - \\tanh{\\left(b^{1}_{1, 0} + w^{1}_{1, 0} x_{0, 0} + w^{1}_{1, 1} x_{1, 0} \\right)} w^{2}_{0, 1} - \\tanh{\\left(b^{1}_{2, 0} + w^{1}_{2, 0} x_{0, 0} + w^{1}_{2, 1} x_{1, 0} \\right)} w^{2}_{0, 2} - b^{2}_{0, 0}} + 1} - \\frac{\\left(y_{0, 0} - 1\\right) e^{- \\tanh{\\left(b^{1}_{0, 0} + w^{1}_{0, 0} x_{0, 0} + w^{1}_{0, 1} x_{1, 0} \\right)} w^{2}_{0, 0} - \\tanh{\\left(b^{1}_{1, 0} + w^{1}_{1, 0} x_{0, 0} + w^{1}_{1, 1} x_{1, 0} \\right)} w^{2}_{0, 1} - \\tanh{\\left(b^{1}_{2, 0} + w^{1}_{2, 0} x_{0, 0} + w^{1}_{2, 1} x_{1, 0} \\right)} w^{2}_{0, 2} - b^{2}_{0, 0}} \\tanh{\\left(b^{1}_{0, 0} + w^{1}_{0, 0} x_{0, 0} + w^{1}_{0, 1} x_{1, 0} \\right)}}{\\left(1 - \\frac{1}{e^{- \\tanh{\\left(b^{1}_{0, 0} + w^{1}_{0, 0} x_{0, 0} + w^{1}_{0, 1} x_{1, 0} \\right)} w^{2}_{0, 0} - \\tanh{\\left(b^{1}_{1, 0} + w^{1}_{1, 0} x_{0, 0} + w^{1}_{1, 1} x_{1, 0} \\right)} w^{2}_{0, 1} - \\tanh{\\left(b^{1}_{2, 0} + w^{1}_{2, 0} x_{0, 0} + w^{1}_{2, 1} x_{1, 0} \\right)} w^{2}_{0, 2} - b^{2}_{0, 0}} + 1}\\right) \\left(e^{- \\tanh{\\left(b^{1}_{0, 0} + w^{1}_{0, 0} x_{0, 0} + w^{1}_{0, 1} x_{1, 0} \\right)} w^{2}_{0, 0} - \\tanh{\\left(b^{1}_{1, 0} + w^{1}_{1, 0} x_{0, 0} + w^{1}_{1, 1} x_{1, 0} \\right)} w^{2}_{0, 1} - \\tanh{\\left(b^{1}_{2, 0} + w^{1}_{2, 0} x_{0, 0} + w^{1}_{2, 1} x_{1, 0} \\right)} w^{2}_{0, 2} - b^{2}_{0, 0}} + 1\\right)^{2}} & - \\frac{e^{- \\tanh{\\left(b^{1}_{0, 0} + w^{1}_{0, 0} x_{0, 0} + w^{1}_{0, 1} x_{1, 0} \\right)} w^{2}_{0, 0} - \\tanh{\\left(b^{1}_{1, 0} + w^{1}_{1, 0} x_{0, 0} + w^{1}_{1, 1} x_{1, 0} \\right)} w^{2}_{0, 1} - \\tanh{\\left(b^{1}_{2, 0} + w^{1}_{2, 0} x_{0, 0} + w^{1}_{2, 1} x_{1, 0} \\right)} w^{2}_{0, 2} - b^{2}_{0, 0}} \\tanh{\\left(b^{1}_{1, 0} + w^{1}_{1, 0} x_{0, 0} + w^{1}_{1, 1} x_{1, 0} \\right)} y_{0, 0}}{e^{- \\tanh{\\left(b^{1}_{0, 0} + w^{1}_{0, 0} x_{0, 0} + w^{1}_{0, 1} x_{1, 0} \\right)} w^{2}_{0, 0} - \\tanh{\\left(b^{1}_{1, 0} + w^{1}_{1, 0} x_{0, 0} + w^{1}_{1, 1} x_{1, 0} \\right)} w^{2}_{0, 1} - \\tanh{\\left(b^{1}_{2, 0} + w^{1}_{2, 0} x_{0, 0} + w^{1}_{2, 1} x_{1, 0} \\right)} w^{2}_{0, 2} - b^{2}_{0, 0}} + 1} - \\frac{\\left(y_{0, 0} - 1\\right) e^{- \\tanh{\\left(b^{1}_{0, 0} + w^{1}_{0, 0} x_{0, 0} + w^{1}_{0, 1} x_{1, 0} \\right)} w^{2}_{0, 0} - \\tanh{\\left(b^{1}_{1, 0} + w^{1}_{1, 0} x_{0, 0} + w^{1}_{1, 1} x_{1, 0} \\right)} w^{2}_{0, 1} - \\tanh{\\left(b^{1}_{2, 0} + w^{1}_{2, 0} x_{0, 0} + w^{1}_{2, 1} x_{1, 0} \\right)} w^{2}_{0, 2} - b^{2}_{0, 0}} \\tanh{\\left(b^{1}_{1, 0} + w^{1}_{1, 0} x_{0, 0} + w^{1}_{1, 1} x_{1, 0} \\right)}}{\\left(1 - \\frac{1}{e^{- \\tanh{\\left(b^{1}_{0, 0} + w^{1}_{0, 0} x_{0, 0} + w^{1}_{0, 1} x_{1, 0} \\right)} w^{2}_{0, 0} - \\tanh{\\left(b^{1}_{1, 0} + w^{1}_{1, 0} x_{0, 0} + w^{1}_{1, 1} x_{1, 0} \\right)} w^{2}_{0, 1} - \\tanh{\\left(b^{1}_{2, 0} + w^{1}_{2, 0} x_{0, 0} + w^{1}_{2, 1} x_{1, 0} \\right)} w^{2}_{0, 2} - b^{2}_{0, 0}} + 1}\\right) \\left(e^{- \\tanh{\\left(b^{1}_{0, 0} + w^{1}_{0, 0} x_{0, 0} + w^{1}_{0, 1} x_{1, 0} \\right)} w^{2}_{0, 0} - \\tanh{\\left(b^{1}_{1, 0} + w^{1}_{1, 0} x_{0, 0} + w^{1}_{1, 1} x_{1, 0} \\right)} w^{2}_{0, 1} - \\tanh{\\left(b^{1}_{2, 0} + w^{1}_{2, 0} x_{0, 0} + w^{1}_{2, 1} x_{1, 0} \\right)} w^{2}_{0, 2} - b^{2}_{0, 0}} + 1\\right)^{2}} & - \\frac{e^{- \\tanh{\\left(b^{1}_{0, 0} + w^{1}_{0, 0} x_{0, 0} + w^{1}_{0, 1} x_{1, 0} \\right)} w^{2}_{0, 0} - \\tanh{\\left(b^{1}_{1, 0} + w^{1}_{1, 0} x_{0, 0} + w^{1}_{1, 1} x_{1, 0} \\right)} w^{2}_{0, 1} - \\tanh{\\left(b^{1}_{2, 0} + w^{1}_{2, 0} x_{0, 0} + w^{1}_{2, 1} x_{1, 0} \\right)} w^{2}_{0, 2} - b^{2}_{0, 0}} \\tanh{\\left(b^{1}_{2, 0} + w^{1}_{2, 0} x_{0, 0} + w^{1}_{2, 1} x_{1, 0} \\right)} y_{0, 0}}{e^{- \\tanh{\\left(b^{1}_{0, 0} + w^{1}_{0, 0} x_{0, 0} + w^{1}_{0, 1} x_{1, 0} \\right)} w^{2}_{0, 0} - \\tanh{\\left(b^{1}_{1, 0} + w^{1}_{1, 0} x_{0, 0} + w^{1}_{1, 1} x_{1, 0} \\right)} w^{2}_{0, 1} - \\tanh{\\left(b^{1}_{2, 0} + w^{1}_{2, 0} x_{0, 0} + w^{1}_{2, 1} x_{1, 0} \\right)} w^{2}_{0, 2} - b^{2}_{0, 0}} + 1} - \\frac{\\left(y_{0, 0} - 1\\right) e^{- \\tanh{\\left(b^{1}_{0, 0} + w^{1}_{0, 0} x_{0, 0} + w^{1}_{0, 1} x_{1, 0} \\right)} w^{2}_{0, 0} - \\tanh{\\left(b^{1}_{1, 0} + w^{1}_{1, 0} x_{0, 0} + w^{1}_{1, 1} x_{1, 0} \\right)} w^{2}_{0, 1} - \\tanh{\\left(b^{1}_{2, 0} + w^{1}_{2, 0} x_{0, 0} + w^{1}_{2, 1} x_{1, 0} \\right)} w^{2}_{0, 2} - b^{2}_{0, 0}} \\tanh{\\left(b^{1}_{2, 0} + w^{1}_{2, 0} x_{0, 0} + w^{1}_{2, 1} x_{1, 0} \\right)}}{\\left(1 - \\frac{1}{e^{- \\tanh{\\left(b^{1}_{0, 0} + w^{1}_{0, 0} x_{0, 0} + w^{1}_{0, 1} x_{1, 0} \\right)} w^{2}_{0, 0} - \\tanh{\\left(b^{1}_{1, 0} + w^{1}_{1, 0} x_{0, 0} + w^{1}_{1, 1} x_{1, 0} \\right)} w^{2}_{0, 1} - \\tanh{\\left(b^{1}_{2, 0} + w^{1}_{2, 0} x_{0, 0} + w^{1}_{2, 1} x_{1, 0} \\right)} w^{2}_{0, 2} - b^{2}_{0, 0}} + 1}\\right) \\left(e^{- \\tanh{\\left(b^{1}_{0, 0} + w^{1}_{0, 0} x_{0, 0} + w^{1}_{0, 1} x_{1, 0} \\right)} w^{2}_{0, 0} - \\tanh{\\left(b^{1}_{1, 0} + w^{1}_{1, 0} x_{0, 0} + w^{1}_{1, 1} x_{1, 0} \\right)} w^{2}_{0, 1} - \\tanh{\\left(b^{1}_{2, 0} + w^{1}_{2, 0} x_{0, 0} + w^{1}_{2, 1} x_{1, 0} \\right)} w^{2}_{0, 2} - b^{2}_{0, 0}} + 1\\right)^{2}} & - \\frac{e^{- \\tanh{\\left(b^{1}_{0, 0} + w^{1}_{0, 0} x_{0, 0} + w^{1}_{0, 1} x_{1, 0} \\right)} w^{2}_{0, 0} - \\tanh{\\left(b^{1}_{1, 0} + w^{1}_{1, 0} x_{0, 0} + w^{1}_{1, 1} x_{1, 0} \\right)} w^{2}_{0, 1} - \\tanh{\\left(b^{1}_{2, 0} + w^{1}_{2, 0} x_{0, 0} + w^{1}_{2, 1} x_{1, 0} \\right)} w^{2}_{0, 2} - b^{2}_{0, 0}} y_{0, 0}}{e^{- \\tanh{\\left(b^{1}_{0, 0} + w^{1}_{0, 0} x_{0, 0} + w^{1}_{0, 1} x_{1, 0} \\right)} w^{2}_{0, 0} - \\tanh{\\left(b^{1}_{1, 0} + w^{1}_{1, 0} x_{0, 0} + w^{1}_{1, 1} x_{1, 0} \\right)} w^{2}_{0, 1} - \\tanh{\\left(b^{1}_{2, 0} + w^{1}_{2, 0} x_{0, 0} + w^{1}_{2, 1} x_{1, 0} \\right)} w^{2}_{0, 2} - b^{2}_{0, 0}} + 1} - \\frac{\\left(y_{0, 0} - 1\\right) e^{- \\tanh{\\left(b^{1}_{0, 0} + w^{1}_{0, 0} x_{0, 0} + w^{1}_{0, 1} x_{1, 0} \\right)} w^{2}_{0, 0} - \\tanh{\\left(b^{1}_{1, 0} + w^{1}_{1, 0} x_{0, 0} + w^{1}_{1, 1} x_{1, 0} \\right)} w^{2}_{0, 1} - \\tanh{\\left(b^{1}_{2, 0} + w^{1}_{2, 0} x_{0, 0} + w^{1}_{2, 1} x_{1, 0} \\right)} w^{2}_{0, 2} - b^{2}_{0, 0}}}{\\left(1 - \\frac{1}{e^{- \\tanh{\\left(b^{1}_{0, 0} + w^{1}_{0, 0} x_{0, 0} + w^{1}_{0, 1} x_{1, 0} \\right)} w^{2}_{0, 0} - \\tanh{\\left(b^{1}_{1, 0} + w^{1}_{1, 0} x_{0, 0} + w^{1}_{1, 1} x_{1, 0} \\right)} w^{2}_{0, 1} - \\tanh{\\left(b^{1}_{2, 0} + w^{1}_{2, 0} x_{0, 0} + w^{1}_{2, 1} x_{1, 0} \\right)} w^{2}_{0, 2} - b^{2}_{0, 0}} + 1}\\right) \\left(e^{- \\tanh{\\left(b^{1}_{0, 0} + w^{1}_{0, 0} x_{0, 0} + w^{1}_{0, 1} x_{1, 0} \\right)} w^{2}_{0, 0} - \\tanh{\\left(b^{1}_{1, 0} + w^{1}_{1, 0} x_{0, 0} + w^{1}_{1, 1} x_{1, 0} \\right)} w^{2}_{0, 1} - \\tanh{\\left(b^{1}_{2, 0} + w^{1}_{2, 0} x_{0, 0} + w^{1}_{2, 1} x_{1, 0} \\right)} w^{2}_{0, 2} - b^{2}_{0, 0}} + 1\\right)^{2}}\\end{array}\\right]$"
      ],
      "text/plain": [
       "⎡  ⎛        2                            ⎞  -tanh(b¹₀₀ + w¹₀₀⋅x₀₀ + w¹₀₁⋅x₁₀)⋅w²₀₀ - tanh(b¹₁₀ + w¹₁₀⋅x₀₀ + w¹₁₁⋅x₁₀)⋅w²₀₁ - tanh(b¹₂₀ + w¹₂₀⋅x₀₀ + w¹₂₁⋅x₁₀)⋅w²₀₂ - b²₀₀  \n",
       "⎢  ⎝1 - tanh (b¹₀₀ + w¹₀₀⋅x₀₀ + w¹₀₁⋅x₁₀)⎠⋅ℯ                                                                                                                             ⋅w\n",
       "⎢- ────────────────────────────────────────────────────────────────────────────────────────────────────────────────────────────────────────────────────────────────────────\n",
       "⎢                            -tanh(b¹₀₀ + w¹₀₀⋅x₀₀ + w¹₀₁⋅x₁₀)⋅w²₀₀ - tanh(b¹₁₀ + w¹₁₀⋅x₀₀ + w¹₁₁⋅x₁₀)⋅w²₀₁ - tanh(b¹₂₀ + w¹₂₀⋅x₀₀ + w¹₂₁⋅x₁₀)⋅w²₀₂ - b²₀₀                 \n",
       "⎢                           ℯ                                                                                                                              + 1             \n",
       "⎢                                                                                                                                                                          \n",
       "⎢                                                                                                                                                                          \n",
       "⎣                                                                                                                                                                          \n",
       "\n",
       "                                                        ⎛        2                            ⎞            -tanh(b¹₀₀ + w¹₀₀⋅x₀₀ + w¹₀₁⋅x₁₀)⋅w²₀₀ - tanh(b¹₁₀ + w¹₁₀⋅x₀₀ + \n",
       "²₀₀⋅x₀₀⋅y₀₀                                             ⎝1 - tanh (b¹₀₀ + w¹₀₀⋅x₀₀ + w¹₀₁⋅x₁₀)⎠⋅(y₀₀ - 1)⋅ℯ                                                                \n",
       "─────────── - ─────────────────────────────────────────────────────────────────────────────────────────────────────────────────────────────────────────────────────────────\n",
       "                                                                                                                                                                           \n",
       "              ⎛                                                                    1                                                                 ⎞ ⎛ -tanh(b¹₀₀ + w¹₀₀⋅\n",
       "              ⎜1 - ──────────────────────────────────────────────────────────────────────────────────────────────────────────────────────────────────⎟⋅⎝ℯ                  \n",
       "              ⎜     -tanh(b¹₀₀ + w¹₀₀⋅x₀₀ + w¹₀₁⋅x₁₀)⋅w²₀₀ - tanh(b¹₁₀ + w¹₁₀⋅x₀₀ + w¹₁₁⋅x₁₀)⋅w²₀₁ - tanh(b¹₂₀ + w¹₂₀⋅x₀₀ + w¹₂₁⋅x₁₀)⋅w²₀₂ - b²₀₀    ⎟                     \n",
       "              ⎝    ℯ                                                                                                                              + 1⎠                     \n",
       "\n",
       "w¹₁₁⋅x₁₀)⋅w²₀₁ - tanh(b¹₂₀ + w¹₂₀⋅x₀₀ + w¹₂₁⋅x₁₀)⋅w²₀₂ - b²₀₀                                                        ⎛        2                            ⎞  -tanh(b¹₀₀ + \n",
       "                                                             ⋅w²₀₀⋅x₀₀                                               ⎝1 - tanh (b¹₀₀ + w¹₀₀⋅x₀₀ + w¹₀₁⋅x₁₀)⎠⋅ℯ             \n",
       "─────────────────────────────────────────────────────────────────────────────────────────────────────────────────  - ──────────────────────────────────────────────────────\n",
       "                                                                                                                2                              -tanh(b¹₀₀ + w¹₀₀⋅x₀₀ + w¹₀₁\n",
       "x₀₀ + w¹₀₁⋅x₁₀)⋅w²₀₀ - tanh(b¹₁₀ + w¹₁₀⋅x₀₀ + w¹₁₁⋅x₁₀)⋅w²₀₁ - tanh(b¹₂₀ + w¹₂₀⋅x₀₀ + w¹₂₁⋅x₁₀)⋅w²₀₂ - b²₀₀    ⎞                              ℯ                            \n",
       "                                                                                                            + 1⎠                                                           \n",
       "                                                                                                                                                                           \n",
       "                                                                                                                                                                           \n",
       "\n",
       "w¹₀₀⋅x₀₀ + w¹₀₁⋅x₁₀)⋅w²₀₀ - tanh(b¹₁₀ + w¹₁₀⋅x₀₀ + w¹₁₁⋅x₁₀)⋅w²₀₁ - tanh(b¹₂₀ + w¹₂₀⋅x₀₀ + w¹₂₁⋅x₁₀)⋅w²₀₂ - b²₀₀                                                          ⎛\n",
       "                                                                                                                ⋅w²₀₀⋅x₁₀⋅y₀₀                                             ⎝\n",
       "───────────────────────────────────────────────────────────────────────────────────────────────────────────────────────────── - ───────────────────────────────────────────\n",
       "⋅x₁₀)⋅w²₀₀ - tanh(b¹₁₀ + w¹₁₀⋅x₀₀ + w¹₁₁⋅x₁₀)⋅w²₀₁ - tanh(b¹₂₀ + w¹₂₀⋅x₀₀ + w¹₂₁⋅x₁₀)⋅w²₀₂ - b²₀₀                                                                          \n",
       "                                                                                                  + 1                           ⎛                                          \n",
       "                                                                                                                                ⎜1 - ──────────────────────────────────────\n",
       "                                                                                                                                ⎜     -tanh(b¹₀₀ + w¹₀₀⋅x₀₀ + w¹₀₁⋅x₁₀)⋅w²₀\n",
       "                                                                                                                                ⎝    ℯ                                     \n",
       "\n",
       "        2                            ⎞            -tanh(b¹₀₀ + w¹₀₀⋅x₀₀ + w¹₀₁⋅x₁₀)⋅w²₀₀ - tanh(b¹₁₀ + w¹₁₀⋅x₀₀ + w¹₁₁⋅x₁₀)⋅w²₀₁ - tanh(b¹₂₀ + w¹₂₀⋅x₀₀ + w¹₂₁⋅x₁₀)⋅w²₀₂ - \n",
       "1 - tanh (b¹₀₀ + w¹₀₀⋅x₀₀ + w¹₀₁⋅x₁₀)⎠⋅(y₀₀ - 1)⋅ℯ                                                                                                                         \n",
       "───────────────────────────────────────────────────────────────────────────────────────────────────────────────────────────────────────────────────────────────────────────\n",
       "                                                                                                                                                                           \n",
       "                          1                                                                 ⎞ ⎛ -tanh(b¹₀₀ + w¹₀₀⋅x₀₀ + w¹₀₁⋅x₁₀)⋅w²₀₀ - tanh(b¹₁₀ + w¹₁₀⋅x₀₀ + w¹₁₁⋅x₁₀)⋅w\n",
       "────────────────────────────────────────────────────────────────────────────────────────────⎟⋅⎝ℯ                                                                           \n",
       "₀ - tanh(b¹₁₀ + w¹₁₀⋅x₀₀ + w¹₁₁⋅x₁₀)⋅w²₀₁ - tanh(b¹₂₀ + w¹₂₀⋅x₀₀ + w¹₂₁⋅x₁₀)⋅w²₀₂ - b²₀₀    ⎟                                                                              \n",
       "                                                                                         + 1⎠                                                                              \n",
       "\n",
       "b²₀₀                                                        ⎛        2                            ⎞  -tanh(b¹₀₀ + w¹₀₀⋅x₀₀ + w¹₀₁⋅x₁₀)⋅w²₀₀ - tanh(b¹₁₀ + w¹₁₀⋅x₀₀ + w¹₁₁⋅x\n",
       "    ⋅w²₀₀⋅x₁₀                                               ⎝1 - tanh (b¹₁₀ + w¹₁₀⋅x₀₀ + w¹₁₁⋅x₁₀)⎠⋅ℯ                                                                      \n",
       "────────────────────────────────────────────────────────  - ───────────────────────────────────────────────────────────────────────────────────────────────────────────────\n",
       "                                                       2                              -tanh(b¹₀₀ + w¹₀₀⋅x₀₀ + w¹₀₁⋅x₁₀)⋅w²₀₀ - tanh(b¹₁₀ + w¹₁₀⋅x₀₀ + w¹₁₁⋅x₁₀)⋅w²₀₁ - tanh\n",
       "²₀₁ - tanh(b¹₂₀ + w¹₂₀⋅x₀₀ + w¹₂₁⋅x₁₀)⋅w²₀₂ - b²₀₀    ⎞                              ℯ                                                                                     \n",
       "                                                   + 1⎠                                                                                                                    \n",
       "                                                                                                                                                                           \n",
       "                                                                                                                                                                           \n",
       "\n",
       "₁₀)⋅w²₀₁ - tanh(b¹₂₀ + w¹₂₀⋅x₀₀ + w¹₂₁⋅x₁₀)⋅w²₀₂ - b²₀₀                                                          ⎛        2                            ⎞            -tanh(b\n",
       "                                                       ⋅w²₀₁⋅x₀₀⋅y₀₀                                             ⎝1 - tanh (b¹₁₀ + w¹₁₀⋅x₀₀ + w¹₁₁⋅x₁₀)⎠⋅(y₀₀ - 1)⋅ℯ       \n",
       "──────────────────────────────────────────────────────────────────── - ────────────────────────────────────────────────────────────────────────────────────────────────────\n",
       "(b¹₂₀ + w¹₂₀⋅x₀₀ + w¹₂₁⋅x₁₀)⋅w²₀₂ - b²₀₀                                                                                                                                   \n",
       "                                         + 1                           ⎛                                                                    1                              \n",
       "                                                                       ⎜1 - ───────────────────────────────────────────────────────────────────────────────────────────────\n",
       "                                                                       ⎜     -tanh(b¹₀₀ + w¹₀₀⋅x₀₀ + w¹₀₁⋅x₁₀)⋅w²₀₀ - tanh(b¹₁₀ + w¹₁₀⋅x₀₀ + w¹₁₁⋅x₁₀)⋅w²₀₁ - tanh(b¹₂₀ + w\n",
       "                                                                       ⎝    ℯ                                                                                              \n",
       "\n",
       "¹₀₀ + w¹₀₀⋅x₀₀ + w¹₀₁⋅x₁₀)⋅w²₀₀ - tanh(b¹₁₀ + w¹₁₀⋅x₀₀ + w¹₁₁⋅x₁₀)⋅w²₀₁ - tanh(b¹₂₀ + w¹₂₀⋅x₀₀ + w¹₂₁⋅x₁₀)⋅w²₀₂ - b²₀₀                                                     \n",
       "                                                                                                                      ⋅w²₀₁⋅x₀₀                                            \n",
       "────────────────────────────────────────────────────────────────────────────────────────────────────────────────────────────────────────────────────────────────────────── \n",
       "                                                                                                                                                                         2 \n",
       "                                   ⎞ ⎛ -tanh(b¹₀₀ + w¹₀₀⋅x₀₀ + w¹₀₁⋅x₁₀)⋅w²₀₀ - tanh(b¹₁₀ + w¹₁₀⋅x₀₀ + w¹₁₁⋅x₁₀)⋅w²₀₁ - tanh(b¹₂₀ + w¹₂₀⋅x₀₀ + w¹₂₁⋅x₁₀)⋅w²₀₂ - b²₀₀    ⎞  \n",
       "───────────────────────────────────⎟⋅⎝ℯ                                                                                                                              + 1⎠  \n",
       "¹₂₀⋅x₀₀ + w¹₂₁⋅x₁₀)⋅w²₀₂ - b²₀₀    ⎟                                                                                                                                       \n",
       "                                + 1⎠                                                                                                                                       \n",
       "\n",
       "   ⎛        2                            ⎞  -tanh(b¹₀₀ + w¹₀₀⋅x₀₀ + w¹₀₁⋅x₁₀)⋅w²₀₀ - tanh(b¹₁₀ + w¹₁₀⋅x₀₀ + w¹₁₁⋅x₁₀)⋅w²₀₁ - tanh(b¹₂₀ + w¹₂₀⋅x₀₀ + w¹₂₁⋅x₁₀)⋅w²₀₂ - b²₀₀  \n",
       "   ⎝1 - tanh (b¹₁₀ + w¹₁₀⋅x₀₀ + w¹₁₁⋅x₁₀)⎠⋅ℯ                                                                                                                             ⋅w\n",
       " - ────────────────────────────────────────────────────────────────────────────────────────────────────────────────────────────────────────────────────────────────────────\n",
       "                             -tanh(b¹₀₀ + w¹₀₀⋅x₀₀ + w¹₀₁⋅x₁₀)⋅w²₀₀ - tanh(b¹₁₀ + w¹₁₀⋅x₀₀ + w¹₁₁⋅x₁₀)⋅w²₀₁ - tanh(b¹₂₀ + w¹₂₀⋅x₀₀ + w¹₂₁⋅x₁₀)⋅w²₀₂ - b²₀₀                 \n",
       "                            ℯ                                                                                                                              + 1             \n",
       "                                                                                                                                                                           \n",
       "                                                                                                                                                                           \n",
       "                                                                                                                                                                           \n",
       "\n",
       "                                                        ⎛        2                            ⎞            -tanh(b¹₀₀ + w¹₀₀⋅x₀₀ + w¹₀₁⋅x₁₀)⋅w²₀₀ - tanh(b¹₁₀ + w¹₁₀⋅x₀₀ + \n",
       "²₀₁⋅x₁₀⋅y₀₀                                             ⎝1 - tanh (b¹₁₀ + w¹₁₀⋅x₀₀ + w¹₁₁⋅x₁₀)⎠⋅(y₀₀ - 1)⋅ℯ                                                                \n",
       "─────────── - ─────────────────────────────────────────────────────────────────────────────────────────────────────────────────────────────────────────────────────────────\n",
       "                                                                                                                                                                           \n",
       "              ⎛                                                                    1                                                                 ⎞ ⎛ -tanh(b¹₀₀ + w¹₀₀⋅\n",
       "              ⎜1 - ──────────────────────────────────────────────────────────────────────────────────────────────────────────────────────────────────⎟⋅⎝ℯ                  \n",
       "              ⎜     -tanh(b¹₀₀ + w¹₀₀⋅x₀₀ + w¹₀₁⋅x₁₀)⋅w²₀₀ - tanh(b¹₁₀ + w¹₁₀⋅x₀₀ + w¹₁₁⋅x₁₀)⋅w²₀₁ - tanh(b¹₂₀ + w¹₂₀⋅x₀₀ + w¹₂₁⋅x₁₀)⋅w²₀₂ - b²₀₀    ⎟                     \n",
       "              ⎝    ℯ                                                                                                                              + 1⎠                     \n",
       "\n",
       "w¹₁₁⋅x₁₀)⋅w²₀₁ - tanh(b¹₂₀ + w¹₂₀⋅x₀₀ + w¹₂₁⋅x₁₀)⋅w²₀₂ - b²₀₀                                                        ⎛        2                            ⎞  -tanh(b¹₀₀ + \n",
       "                                                             ⋅w²₀₁⋅x₁₀                                               ⎝1 - tanh (b¹₂₀ + w¹₂₀⋅x₀₀ + w¹₂₁⋅x₁₀)⎠⋅ℯ             \n",
       "─────────────────────────────────────────────────────────────────────────────────────────────────────────────────  - ──────────────────────────────────────────────────────\n",
       "                                                                                                                2                              -tanh(b¹₀₀ + w¹₀₀⋅x₀₀ + w¹₀₁\n",
       "x₀₀ + w¹₀₁⋅x₁₀)⋅w²₀₀ - tanh(b¹₁₀ + w¹₁₀⋅x₀₀ + w¹₁₁⋅x₁₀)⋅w²₀₁ - tanh(b¹₂₀ + w¹₂₀⋅x₀₀ + w¹₂₁⋅x₁₀)⋅w²₀₂ - b²₀₀    ⎞                              ℯ                            \n",
       "                                                                                                            + 1⎠                                                           \n",
       "                                                                                                                                                                           \n",
       "                                                                                                                                                                           \n",
       "\n",
       "w¹₀₀⋅x₀₀ + w¹₀₁⋅x₁₀)⋅w²₀₀ - tanh(b¹₁₀ + w¹₁₀⋅x₀₀ + w¹₁₁⋅x₁₀)⋅w²₀₁ - tanh(b¹₂₀ + w¹₂₀⋅x₀₀ + w¹₂₁⋅x₁₀)⋅w²₀₂ - b²₀₀                                                          ⎛\n",
       "                                                                                                                ⋅w²₀₂⋅x₀₀⋅y₀₀                                             ⎝\n",
       "───────────────────────────────────────────────────────────────────────────────────────────────────────────────────────────── - ───────────────────────────────────────────\n",
       "⋅x₁₀)⋅w²₀₀ - tanh(b¹₁₀ + w¹₁₀⋅x₀₀ + w¹₁₁⋅x₁₀)⋅w²₀₁ - tanh(b¹₂₀ + w¹₂₀⋅x₀₀ + w¹₂₁⋅x₁₀)⋅w²₀₂ - b²₀₀                                                                          \n",
       "                                                                                                  + 1                           ⎛                                          \n",
       "                                                                                                                                ⎜1 - ──────────────────────────────────────\n",
       "                                                                                                                                ⎜     -tanh(b¹₀₀ + w¹₀₀⋅x₀₀ + w¹₀₁⋅x₁₀)⋅w²₀\n",
       "                                                                                                                                ⎝    ℯ                                     \n",
       "\n",
       "        2                            ⎞            -tanh(b¹₀₀ + w¹₀₀⋅x₀₀ + w¹₀₁⋅x₁₀)⋅w²₀₀ - tanh(b¹₁₀ + w¹₁₀⋅x₀₀ + w¹₁₁⋅x₁₀)⋅w²₀₁ - tanh(b¹₂₀ + w¹₂₀⋅x₀₀ + w¹₂₁⋅x₁₀)⋅w²₀₂ - \n",
       "1 - tanh (b¹₂₀ + w¹₂₀⋅x₀₀ + w¹₂₁⋅x₁₀)⎠⋅(y₀₀ - 1)⋅ℯ                                                                                                                         \n",
       "───────────────────────────────────────────────────────────────────────────────────────────────────────────────────────────────────────────────────────────────────────────\n",
       "                                                                                                                                                                           \n",
       "                          1                                                                 ⎞ ⎛ -tanh(b¹₀₀ + w¹₀₀⋅x₀₀ + w¹₀₁⋅x₁₀)⋅w²₀₀ - tanh(b¹₁₀ + w¹₁₀⋅x₀₀ + w¹₁₁⋅x₁₀)⋅w\n",
       "────────────────────────────────────────────────────────────────────────────────────────────⎟⋅⎝ℯ                                                                           \n",
       "₀ - tanh(b¹₁₀ + w¹₁₀⋅x₀₀ + w¹₁₁⋅x₁₀)⋅w²₀₁ - tanh(b¹₂₀ + w¹₂₀⋅x₀₀ + w¹₂₁⋅x₁₀)⋅w²₀₂ - b²₀₀    ⎟                                                                              \n",
       "                                                                                         + 1⎠                                                                              \n",
       "\n",
       "b²₀₀                                                        ⎛        2                            ⎞  -tanh(b¹₀₀ + w¹₀₀⋅x₀₀ + w¹₀₁⋅x₁₀)⋅w²₀₀ - tanh(b¹₁₀ + w¹₁₀⋅x₀₀ + w¹₁₁⋅x\n",
       "    ⋅w²₀₂⋅x₀₀                                               ⎝1 - tanh (b¹₂₀ + w¹₂₀⋅x₀₀ + w¹₂₁⋅x₁₀)⎠⋅ℯ                                                                      \n",
       "────────────────────────────────────────────────────────  - ───────────────────────────────────────────────────────────────────────────────────────────────────────────────\n",
       "                                                       2                              -tanh(b¹₀₀ + w¹₀₀⋅x₀₀ + w¹₀₁⋅x₁₀)⋅w²₀₀ - tanh(b¹₁₀ + w¹₁₀⋅x₀₀ + w¹₁₁⋅x₁₀)⋅w²₀₁ - tanh\n",
       "²₀₁ - tanh(b¹₂₀ + w¹₂₀⋅x₀₀ + w¹₂₁⋅x₁₀)⋅w²₀₂ - b²₀₀    ⎞                              ℯ                                                                                     \n",
       "                                                   + 1⎠                                                                                                                    \n",
       "                                                                                                                                                                           \n",
       "                                                                                                                                                                           \n",
       "\n",
       "₁₀)⋅w²₀₁ - tanh(b¹₂₀ + w¹₂₀⋅x₀₀ + w¹₂₁⋅x₁₀)⋅w²₀₂ - b²₀₀                                                          ⎛        2                            ⎞            -tanh(b\n",
       "                                                       ⋅w²₀₂⋅x₁₀⋅y₀₀                                             ⎝1 - tanh (b¹₂₀ + w¹₂₀⋅x₀₀ + w¹₂₁⋅x₁₀)⎠⋅(y₀₀ - 1)⋅ℯ       \n",
       "──────────────────────────────────────────────────────────────────── - ────────────────────────────────────────────────────────────────────────────────────────────────────\n",
       "(b¹₂₀ + w¹₂₀⋅x₀₀ + w¹₂₁⋅x₁₀)⋅w²₀₂ - b²₀₀                                                                                                                                   \n",
       "                                         + 1                           ⎛                                                                    1                              \n",
       "                                                                       ⎜1 - ───────────────────────────────────────────────────────────────────────────────────────────────\n",
       "                                                                       ⎜     -tanh(b¹₀₀ + w¹₀₀⋅x₀₀ + w¹₀₁⋅x₁₀)⋅w²₀₀ - tanh(b¹₁₀ + w¹₁₀⋅x₀₀ + w¹₁₁⋅x₁₀)⋅w²₀₁ - tanh(b¹₂₀ + w\n",
       "                                                                       ⎝    ℯ                                                                                              \n",
       "\n",
       "¹₀₀ + w¹₀₀⋅x₀₀ + w¹₀₁⋅x₁₀)⋅w²₀₀ - tanh(b¹₁₀ + w¹₁₀⋅x₀₀ + w¹₁₁⋅x₁₀)⋅w²₀₁ - tanh(b¹₂₀ + w¹₂₀⋅x₀₀ + w¹₂₁⋅x₁₀)⋅w²₀₂ - b²₀₀                                                     \n",
       "                                                                                                                      ⋅w²₀₂⋅x₁₀                                            \n",
       "────────────────────────────────────────────────────────────────────────────────────────────────────────────────────────────────────────────────────────────────────────── \n",
       "                                                                                                                                                                         2 \n",
       "                                   ⎞ ⎛ -tanh(b¹₀₀ + w¹₀₀⋅x₀₀ + w¹₀₁⋅x₁₀)⋅w²₀₀ - tanh(b¹₁₀ + w¹₁₀⋅x₀₀ + w¹₁₁⋅x₁₀)⋅w²₀₁ - tanh(b¹₂₀ + w¹₂₀⋅x₀₀ + w¹₂₁⋅x₁₀)⋅w²₀₂ - b²₀₀    ⎞  \n",
       "───────────────────────────────────⎟⋅⎝ℯ                                                                                                                              + 1⎠  \n",
       "¹₂₀⋅x₀₀ + w¹₂₁⋅x₁₀)⋅w²₀₂ - b²₀₀    ⎟                                                                                                                                       \n",
       "                                + 1⎠                                                                                                                                       \n",
       "\n",
       "   ⎛        2                            ⎞  -tanh(b¹₀₀ + w¹₀₀⋅x₀₀ + w¹₀₁⋅x₁₀)⋅w²₀₀ - tanh(b¹₁₀ + w¹₁₀⋅x₀₀ + w¹₁₁⋅x₁₀)⋅w²₀₁ - tanh(b¹₂₀ + w¹₂₀⋅x₀₀ + w¹₂₁⋅x₁₀)⋅w²₀₂ - b²₀₀  \n",
       "   ⎝1 - tanh (b¹₀₀ + w¹₀₀⋅x₀₀ + w¹₀₁⋅x₁₀)⎠⋅ℯ                                                                                                                             ⋅w\n",
       " - ────────────────────────────────────────────────────────────────────────────────────────────────────────────────────────────────────────────────────────────────────────\n",
       "                           -tanh(b¹₀₀ + w¹₀₀⋅x₀₀ + w¹₀₁⋅x₁₀)⋅w²₀₀ - tanh(b¹₁₀ + w¹₁₀⋅x₀₀ + w¹₁₁⋅x₁₀)⋅w²₀₁ - tanh(b¹₂₀ + w¹₂₀⋅x₀₀ + w¹₂₁⋅x₁₀)⋅w²₀₂ - b²₀₀                   \n",
       "                          ℯ                                                                                                                              + 1               \n",
       "                                                                                                                                                                           \n",
       "                                                                                                                                                                           \n",
       "                                                                                                                                                                           \n",
       "\n",
       "                                                      ⎛        2                            ⎞            -tanh(b¹₀₀ + w¹₀₀⋅x₀₀ + w¹₀₁⋅x₁₀)⋅w²₀₀ - tanh(b¹₁₀ + w¹₁₀⋅x₀₀ + w¹\n",
       "²₀₀⋅y₀₀                                               ⎝1 - tanh (b¹₀₀ + w¹₀₀⋅x₀₀ + w¹₀₁⋅x₁₀)⎠⋅(y₀₀ - 1)⋅ℯ                                                                  \n",
       "─────── - ─────────────────────────────────────────────────────────────────────────────────────────────────────────────────────────────────────────────────────────────────\n",
       "                                                                                                                                                                           \n",
       "          ⎛                                                                    1                                                                 ⎞ ⎛ -tanh(b¹₀₀ + w¹₀₀⋅x₀₀ \n",
       "          ⎜1 - ──────────────────────────────────────────────────────────────────────────────────────────────────────────────────────────────────⎟⋅⎝ℯ                      \n",
       "          ⎜     -tanh(b¹₀₀ + w¹₀₀⋅x₀₀ + w¹₀₁⋅x₁₀)⋅w²₀₀ - tanh(b¹₁₀ + w¹₁₀⋅x₀₀ + w¹₁₁⋅x₁₀)⋅w²₀₁ - tanh(b¹₂₀ + w¹₂₀⋅x₀₀ + w¹₂₁⋅x₁₀)⋅w²₀₂ - b²₀₀    ⎟                         \n",
       "          ⎝    ℯ                                                                                                                              + 1⎠                         \n",
       "\n",
       "₁₁⋅x₁₀)⋅w²₀₁ - tanh(b¹₂₀ + w¹₂₀⋅x₀₀ + w¹₂₁⋅x₁₀)⋅w²₀₂ - b²₀₀                                                      ⎛        2                            ⎞  -tanh(b¹₀₀ + w¹₀₀\n",
       "                                                           ⋅w²₀₀                                                 ⎝1 - tanh (b¹₁₀ + w¹₁₀⋅x₀₀ + w¹₁₁⋅x₁₀)⎠⋅ℯ                 \n",
       "─────────────────────────────────────────────────────────────────────────────────────────────────────────────  - ──────────────────────────────────────────────────────────\n",
       "                                                                                                            2                            -tanh(b¹₀₀ + w¹₀₀⋅x₀₀ + w¹₀₁⋅x₁₀)⋅\n",
       "+ w¹₀₁⋅x₁₀)⋅w²₀₀ - tanh(b¹₁₀ + w¹₁₀⋅x₀₀ + w¹₁₁⋅x₁₀)⋅w²₀₁ - tanh(b¹₂₀ + w¹₂₀⋅x₀₀ + w¹₂₁⋅x₁₀)⋅w²₀₂ - b²₀₀    ⎞                            ℯ                                  \n",
       "                                                                                                        + 1⎠                                                               \n",
       "                                                                                                                                                                           \n",
       "                                                                                                                                                                           \n",
       "\n",
       "⋅x₀₀ + w¹₀₁⋅x₁₀)⋅w²₀₀ - tanh(b¹₁₀ + w¹₁₀⋅x₀₀ + w¹₁₁⋅x₁₀)⋅w²₀₁ - tanh(b¹₂₀ + w¹₂₀⋅x₀₀ + w¹₂₁⋅x₁₀)⋅w²₀₂ - b²₀₀                                                        ⎛      \n",
       "                                                                                                            ⋅w²₀₁⋅y₀₀                                               ⎝1 - ta\n",
       "───────────────────────────────────────────────────────────────────────────────────────────────────────────────────── - ───────────────────────────────────────────────────\n",
       "w²₀₀ - tanh(b¹₁₀ + w¹₁₀⋅x₀₀ + w¹₁₁⋅x₁₀)⋅w²₀₁ - tanh(b¹₂₀ + w¹₂₀⋅x₀₀ + w¹₂₁⋅x₁₀)⋅w²₀₂ - b²₀₀                                                                                \n",
       "                                                                                            + 1                         ⎛                                                  \n",
       "                                                                                                                        ⎜1 - ──────────────────────────────────────────────\n",
       "                                                                                                                        ⎜     -tanh(b¹₀₀ + w¹₀₀⋅x₀₀ + w¹₀₁⋅x₁₀)⋅w²₀₀ - tanh\n",
       "                                                                                                                        ⎝    ℯ                                             \n",
       "\n",
       "  2                            ⎞            -tanh(b¹₀₀ + w¹₀₀⋅x₀₀ + w¹₀₁⋅x₁₀)⋅w²₀₀ - tanh(b¹₁₀ + w¹₁₀⋅x₀₀ + w¹₁₁⋅x₁₀)⋅w²₀₁ - tanh(b¹₂₀ + w¹₂₀⋅x₀₀ + w¹₂₁⋅x₁₀)⋅w²₀₂ - b²₀₀  \n",
       "nh (b¹₁₀ + w¹₁₀⋅x₀₀ + w¹₁₁⋅x₁₀)⎠⋅(y₀₀ - 1)⋅ℯ                                                                                                                             ⋅w\n",
       "───────────────────────────────────────────────────────────────────────────────────────────────────────────────────────────────────────────────────────────────────────────\n",
       "                                                                                                                                                                           \n",
       "                  1                                                                 ⎞ ⎛ -tanh(b¹₀₀ + w¹₀₀⋅x₀₀ + w¹₀₁⋅x₁₀)⋅w²₀₀ - tanh(b¹₁₀ + w¹₁₀⋅x₀₀ + w¹₁₁⋅x₁₀)⋅w²₀₁ - ta\n",
       "────────────────────────────────────────────────────────────────────────────────────⎟⋅⎝ℯ                                                                                   \n",
       "(b¹₁₀ + w¹₁₀⋅x₀₀ + w¹₁₁⋅x₁₀)⋅w²₀₁ - tanh(b¹₂₀ + w¹₂₀⋅x₀₀ + w¹₂₁⋅x₁₀)⋅w²₀₂ - b²₀₀    ⎟                                                                                      \n",
       "                                                                                 + 1⎠                                                                                      \n",
       "\n",
       "                                                    ⎛        2                            ⎞  -tanh(b¹₀₀ + w¹₀₀⋅x₀₀ + w¹₀₁⋅x₁₀)⋅w²₀₀ - tanh(b¹₁₀ + w¹₁₀⋅x₀₀ + w¹₁₁⋅x₁₀)⋅w²₀₁\n",
       "²₀₁                                                 ⎝1 - tanh (b¹₂₀ + w¹₂₀⋅x₀₀ + w¹₂₁⋅x₁₀)⎠⋅ℯ                                                                              \n",
       "────────────────────────────────────────────────  - ───────────────────────────────────────────────────────────────────────────────────────────────────────────────────────\n",
       "                                               2                            -tanh(b¹₀₀ + w¹₀₀⋅x₀₀ + w¹₀₁⋅x₁₀)⋅w²₀₀ - tanh(b¹₁₀ + w¹₁₀⋅x₀₀ + w¹₁₁⋅x₁₀)⋅w²₀₁ - tanh(b¹₂₀ + w¹\n",
       "nh(b¹₂₀ + w¹₂₀⋅x₀₀ + w¹₂₁⋅x₁₀)⋅w²₀₂ - b²₀₀    ⎞                            ℯ                                                                                               \n",
       "                                           + 1⎠                                                                                                                            \n",
       "                                                                                                                                                                           \n",
       "                                                                                                                                                                           \n",
       "\n",
       " - tanh(b¹₂₀ + w¹₂₀⋅x₀₀ + w¹₂₁⋅x₁₀)⋅w²₀₂ - b²₀₀                                                        ⎛        2                            ⎞            -tanh(b¹₀₀ + w¹₀₀\n",
       "                                               ⋅w²₀₂⋅y₀₀                                               ⎝1 - tanh (b¹₂₀ + w¹₂₀⋅x₀₀ + w¹₂₁⋅x₁₀)⎠⋅(y₀₀ - 1)⋅ℯ                 \n",
       "──────────────────────────────────────────────────────── - ────────────────────────────────────────────────────────────────────────────────────────────────────────────────\n",
       "₂₀⋅x₀₀ + w¹₂₁⋅x₁₀)⋅w²₀₂ - b²₀₀                                                                                                                                             \n",
       "                               + 1                         ⎛                                                                    1                                          \n",
       "                                                           ⎜1 - ───────────────────────────────────────────────────────────────────────────────────────────────────────────\n",
       "                                                           ⎜     -tanh(b¹₀₀ + w¹₀₀⋅x₀₀ + w¹₀₁⋅x₁₀)⋅w²₀₀ - tanh(b¹₁₀ + w¹₁₀⋅x₀₀ + w¹₁₁⋅x₁₀)⋅w²₀₁ - tanh(b¹₂₀ + w¹₂₀⋅x₀₀ + w¹\n",
       "                                                           ⎝    ℯ                                                                                                          \n",
       "\n",
       "⋅x₀₀ + w¹₀₁⋅x₁₀)⋅w²₀₀ - tanh(b¹₁₀ + w¹₁₀⋅x₀₀ + w¹₁₁⋅x₁₀)⋅w²₀₁ - tanh(b¹₂₀ + w¹₂₀⋅x₀₀ + w¹₂₁⋅x₁₀)⋅w²₀₂ - b²₀₀                                                       -tanh(b¹\n",
       "                                                                                                            ⋅w²₀₂                                                 ℯ        \n",
       "──────────────────────────────────────────────────────────────────────────────────────────────────────────────────────────────────────────────────────────────  - ─────────\n",
       "                                                                                                                                                             2             \n",
       "                       ⎞ ⎛ -tanh(b¹₀₀ + w¹₀₀⋅x₀₀ + w¹₀₁⋅x₁₀)⋅w²₀₀ - tanh(b¹₁₀ + w¹₁₀⋅x₀₀ + w¹₁₁⋅x₁₀)⋅w²₀₁ - tanh(b¹₂₀ + w¹₂₀⋅x₀₀ + w¹₂₁⋅x₁₀)⋅w²₀₂ - b²₀₀    ⎞              \n",
       "───────────────────────⎟⋅⎝ℯ                                                                                                                              + 1⎠              \n",
       "₂₁⋅x₁₀)⋅w²₀₂ - b²₀₀    ⎟                                                                                                                                                   \n",
       "                    + 1⎠                                                                                                                                                   \n",
       "\n",
       "₀₀ + w¹₀₀⋅x₀₀ + w¹₀₁⋅x₁₀)⋅w²₀₀ - tanh(b¹₁₀ + w¹₁₀⋅x₀₀ + w¹₁₁⋅x₁₀)⋅w²₀₁ - tanh(b¹₂₀ + w¹₂₀⋅x₀₀ + w¹₂₁⋅x₁₀)⋅w²₀₂ - b²₀₀                                                      \n",
       "                                                                                                                     ⋅tanh(b¹₀₀ + w¹₀₀⋅x₀₀ + w¹₀₁⋅x₁₀)⋅y₀₀                 \n",
       "────────────────────────────────────────────────────────────────────────────────────────────────────────────────────────────────────────────────────────── - ──────────────\n",
       "         -tanh(b¹₀₀ + w¹₀₀⋅x₀₀ + w¹₀₁⋅x₁₀)⋅w²₀₀ - tanh(b¹₁₀ + w¹₁₀⋅x₀₀ + w¹₁₁⋅x₁₀)⋅w²₀₁ - tanh(b¹₂₀ + w¹₂₀⋅x₀₀ + w¹₂₁⋅x₁₀)⋅w²₀₂ - b²₀₀                                     \n",
       "        ℯ                                                                                                                              + 1                   ⎛             \n",
       "                                                                                                                                                             ⎜1 - ─────────\n",
       "                                                                                                                                                             ⎜     -tanh(b¹\n",
       "                                                                                                                                                             ⎝    ℯ        \n",
       "\n",
       "                                               -tanh(b¹₀₀ + w¹₀₀⋅x₀₀ + w¹₀₁⋅x₁₀)⋅w²₀₀ - tanh(b¹₁₀ + w¹₁₀⋅x₀₀ + w¹₁₁⋅x₁₀)⋅w²₀₁ - tanh(b¹₂₀ + w¹₂₀⋅x₀₀ + w¹₂₁⋅x₁₀)⋅w²₀₂ - b²₀\n",
       "                                    (y₀₀ - 1)⋅ℯ                                                                                                                            \n",
       "───────────────────────────────────────────────────────────────────────────────────────────────────────────────────────────────────────────────────────────────────────────\n",
       "                                                                                                                                                                           \n",
       "                                                       1                                                                 ⎞ ⎛ -tanh(b¹₀₀ + w¹₀₀⋅x₀₀ + w¹₀₁⋅x₁₀)⋅w²₀₀ - tanh(\n",
       "─────────────────────────────────────────────────────────────────────────────────────────────────────────────────────────⎟⋅⎝ℯ                                              \n",
       "₀₀ + w¹₀₀⋅x₀₀ + w¹₀₁⋅x₁₀)⋅w²₀₀ - tanh(b¹₁₀ + w¹₁₀⋅x₀₀ + w¹₁₁⋅x₁₀)⋅w²₀₁ - tanh(b¹₂₀ + w¹₂₀⋅x₀₀ + w¹₂₁⋅x₁₀)⋅w²₀₂ - b²₀₀    ⎟                                                 \n",
       "                                                                                                                      + 1⎠                                                 \n",
       "\n",
       "₀                                                                                         -tanh(b¹₀₀ + w¹₀₀⋅x₀₀ + w¹₀₁⋅x₁₀)⋅w²₀₀ - tanh(b¹₁₀ + w¹₁₀⋅x₀₀ + w¹₁₁⋅x₁₀)⋅w²₀₁ - \n",
       " ⋅tanh(b¹₀₀ + w¹₀₀⋅x₀₀ + w¹₀₁⋅x₁₀)                                                       ℯ                                                                                 \n",
       "─────────────────────────────────────────────────────────────────────────────────────  - ──────────────────────────────────────────────────────────────────────────────────\n",
       "                                                                                    2                      -tanh(b¹₀₀ + w¹₀₀⋅x₀₀ + w¹₀₁⋅x₁₀)⋅w²₀₀ - tanh(b¹₁₀ + w¹₁₀⋅x₀₀ + \n",
       "b¹₁₀ + w¹₁₀⋅x₀₀ + w¹₁₁⋅x₁₀)⋅w²₀₁ - tanh(b¹₂₀ + w¹₂₀⋅x₀₀ + w¹₂₁⋅x₁₀)⋅w²₀₂ - b²₀₀    ⎞                      ℯ                                                                \n",
       "                                                                                + 1⎠                                                                                       \n",
       "                                                                                                                                                                           \n",
       "                                                                                                                                                                           \n",
       "\n",
       "tanh(b¹₂₀ + w¹₂₀⋅x₀₀ + w¹₂₁⋅x₁₀)⋅w²₀₂ - b²₀₀                                                                                                     -tanh(b¹₀₀ + w¹₀₀⋅x₀₀ + w¹\n",
       "                                            ⋅tanh(b¹₁₀ + w¹₁₀⋅x₀₀ + w¹₁₁⋅x₁₀)⋅y₀₀                                                     (y₀₀ - 1)⋅ℯ                          \n",
       "───────────────────────────────────────────────────────────────────────────────── - ───────────────────────────────────────────────────────────────────────────────────────\n",
       "w¹₁₁⋅x₁₀)⋅w²₀₁ - tanh(b¹₂₀ + w¹₂₀⋅x₀₀ + w¹₂₁⋅x₁₀)⋅w²₀₂ - b²₀₀                                                                                                              \n",
       "                                                              + 1                   ⎛                                                                    1                 \n",
       "                                                                                    ⎜1 - ──────────────────────────────────────────────────────────────────────────────────\n",
       "                                                                                    ⎜     -tanh(b¹₀₀ + w¹₀₀⋅x₀₀ + w¹₀₁⋅x₁₀)⋅w²₀₀ - tanh(b¹₁₀ + w¹₁₀⋅x₀₀ + w¹₁₁⋅x₁₀)⋅w²₀₁ - \n",
       "                                                                                    ⎝    ℯ                                                                                 \n",
       "\n",
       "₀₁⋅x₁₀)⋅w²₀₀ - tanh(b¹₁₀ + w¹₁₀⋅x₀₀ + w¹₁₁⋅x₁₀)⋅w²₀₁ - tanh(b¹₂₀ + w¹₂₀⋅x₀₀ + w¹₂₁⋅x₁₀)⋅w²₀₂ - b²₀₀                                                                        \n",
       "                                                                                                   ⋅tanh(b¹₁₀ + w¹₁₀⋅x₀₀ + w¹₁₁⋅x₁₀)                                       \n",
       "───────────────────────────────────────────────────────────────────────────────────────────────────────────────────────────────────────────────────────────────────────────\n",
       "                                                                                                                                                                           \n",
       "                                                ⎞ ⎛ -tanh(b¹₀₀ + w¹₀₀⋅x₀₀ + w¹₀₁⋅x₁₀)⋅w²₀₀ - tanh(b¹₁₀ + w¹₁₀⋅x₀₀ + w¹₁₁⋅x₁₀)⋅w²₀₁ - tanh(b¹₂₀ + w¹₂₀⋅x₀₀ + w¹₂₁⋅x₁₀)⋅w²₀₂ \n",
       "────────────────────────────────────────────────⎟⋅⎝ℯ                                                                                                                       \n",
       "tanh(b¹₂₀ + w¹₂₀⋅x₀₀ + w¹₂₁⋅x₁₀)⋅w²₀₂ - b²₀₀    ⎟                                                                                                                          \n",
       "                                             + 1⎠                                                                                                                          \n",
       "\n",
       "                 -tanh(b¹₀₀ + w¹₀₀⋅x₀₀ + w¹₀₁⋅x₁₀)⋅w²₀₀ - tanh(b¹₁₀ + w¹₁₀⋅x₀₀ + w¹₁₁⋅x₁₀)⋅w²₀₁ - tanh(b¹₂₀ + w¹₂₀⋅x₀₀ + w¹₂₁⋅x₁₀)⋅w²₀₂ - b²₀₀                             \n",
       "                ℯ                                                                                                                             ⋅tanh(b¹₂₀ + w¹₂₀⋅x₀₀ + w¹₂₁⋅\n",
       "────────────  - ───────────────────────────────────────────────────────────────────────────────────────────────────────────────────────────────────────────────────────────\n",
       "           2                      -tanh(b¹₀₀ + w¹₀₀⋅x₀₀ + w¹₀₁⋅x₁₀)⋅w²₀₀ - tanh(b¹₁₀ + w¹₁₀⋅x₀₀ + w¹₁₁⋅x₁₀)⋅w²₀₁ - tanh(b¹₂₀ + w¹₂₀⋅x₀₀ + w¹₂₁⋅x₁₀)⋅w²₀₂ - b²₀₀            \n",
       "- b²₀₀    ⎞                      ℯ                                                                                                                              + 1        \n",
       "       + 1⎠                                                                                                                                                                \n",
       "                                                                                                                                                                           \n",
       "                                                                                                                                                                           \n",
       "\n",
       "                                                                        -tanh(b¹₀₀ + w¹₀₀⋅x₀₀ + w¹₀₁⋅x₁₀)⋅w²₀₀ - tanh(b¹₁₀ + w¹₁₀⋅x₀₀ + w¹₁₁⋅x₁₀)⋅w²₀₁ - tanh(b¹₂₀ + w¹₂₀⋅x\n",
       "x₁₀)⋅y₀₀                                                     (y₀₀ - 1)⋅ℯ                                                                                                   \n",
       "──────── - ────────────────────────────────────────────────────────────────────────────────────────────────────────────────────────────────────────────────────────────────\n",
       "                                                                                                                                                                           \n",
       "           ⎛                                                                    1                                                                 ⎞ ⎛ -tanh(b¹₀₀ + w¹₀₀⋅x₀₀\n",
       "           ⎜1 - ──────────────────────────────────────────────────────────────────────────────────────────────────────────────────────────────────⎟⋅⎝ℯ                     \n",
       "           ⎜     -tanh(b¹₀₀ + w¹₀₀⋅x₀₀ + w¹₀₁⋅x₁₀)⋅w²₀₀ - tanh(b¹₁₀ + w¹₁₀⋅x₀₀ + w¹₁₁⋅x₁₀)⋅w²₀₁ - tanh(b¹₂₀ + w¹₂₀⋅x₀₀ + w¹₂₁⋅x₁₀)⋅w²₀₂ - b²₀₀    ⎟                        \n",
       "           ⎝    ℯ                                                                                                                              + 1⎠                        \n",
       "\n",
       "₀₀ + w¹₂₁⋅x₁₀)⋅w²₀₂ - b²₀₀                                                                                         -tanh(b¹₀₀ + w¹₀₀⋅x₀₀ + w¹₀₁⋅x₁₀)⋅w²₀₀ - tanh(b¹₁₀ + w¹₁\n",
       "                          ⋅tanh(b¹₂₀ + w¹₂₀⋅x₀₀ + w¹₂₁⋅x₁₀)                                                       ℯ                                                        \n",
       "──────────────────────────────────────────────────────────────────────────────────────────────────────────────  - ─────────────────────────────────────────────────────────\n",
       "                                                                                                             2     -tanh(b¹₀₀ + w¹₀₀⋅x₀₀ + w¹₀₁⋅x₁₀)⋅w²₀₀ - tanh(b¹₁₀ + w¹₁\n",
       " + w¹₀₁⋅x₁₀)⋅w²₀₀ - tanh(b¹₁₀ + w¹₁₀⋅x₀₀ + w¹₁₁⋅x₁₀)⋅w²₀₁ - tanh(b¹₂₀ + w¹₂₀⋅x₀₀ + w¹₂₁⋅x₁₀)⋅w²₀₂ - b²₀₀    ⎞     ℯ                                                        \n",
       "                                                                                                         + 1⎠                                                              \n",
       "                                                                                                                                                                           \n",
       "                                                                                                                                                                           \n",
       "\n",
       "₀⋅x₀₀ + w¹₁₁⋅x₁₀)⋅w²₀₁ - tanh(b¹₂₀ + w¹₂₀⋅x₀₀ + w¹₂₁⋅x₁₀)⋅w²₀₂ - b²₀₀                                                                                     -tanh(b¹₀₀ + w¹₀₀\n",
       "                                                                     ⋅y₀₀                                                                      (y₀₀ - 1)⋅ℯ                 \n",
       "───────────────────────────────────────────────────────────────────────── - ───────────────────────────────────────────────────────────────────────────────────────────────\n",
       "₀⋅x₀₀ + w¹₁₁⋅x₁₀)⋅w²₀₁ - tanh(b¹₂₀ + w¹₂₀⋅x₀₀ + w¹₂₁⋅x₁₀)⋅w²₀₂ - b²₀₀                                                                                                      \n",
       "                                                                      + 1   ⎛                                                                    1                         \n",
       "                                                                            ⎜1 - ──────────────────────────────────────────────────────────────────────────────────────────\n",
       "                                                                            ⎜     -tanh(b¹₀₀ + w¹₀₀⋅x₀₀ + w¹₀₁⋅x₁₀)⋅w²₀₀ - tanh(b¹₁₀ + w¹₁₀⋅x₀₀ + w¹₁₁⋅x₁₀)⋅w²₀₁ - tanh(b¹₂\n",
       "                                                                            ⎝    ℯ                                                                                         \n",
       "\n",
       "⋅x₀₀ + w¹₀₁⋅x₁₀)⋅w²₀₀ - tanh(b¹₁₀ + w¹₁₀⋅x₀₀ + w¹₁₁⋅x₁₀)⋅w²₀₁ - tanh(b¹₂₀ + w¹₂₀⋅x₀₀ + w¹₂₁⋅x₁₀)⋅w²₀₂ - b²₀₀                                                               \n",
       "                                                                                                                                                                           \n",
       "───────────────────────────────────────────────────────────────────────────────────────────────────────────────────────────────────────────────────────────────────────────\n",
       "                                                                                                                                                                           \n",
       "                                        ⎞ ⎛ -tanh(b¹₀₀ + w¹₀₀⋅x₀₀ + w¹₀₁⋅x₁₀)⋅w²₀₀ - tanh(b¹₁₀ + w¹₁₀⋅x₀₀ + w¹₁₁⋅x₁₀)⋅w²₀₁ - tanh(b¹₂₀ + w¹₂₀⋅x₀₀ + w¹₂₁⋅x₁₀)⋅w²₀₂ - b²₀₀  \n",
       "────────────────────────────────────────⎟⋅⎝ℯ                                                                                                                              +\n",
       "₀ + w¹₂₀⋅x₀₀ + w¹₂₁⋅x₁₀)⋅w²₀₂ - b²₀₀    ⎟                                                                                                                                  \n",
       "                                     + 1⎠                                                                                                                                  \n",
       "\n",
       "    ⎤\n",
       "    ⎥\n",
       "────⎥\n",
       "   2⎥\n",
       "  ⎞ ⎥\n",
       " 1⎠ ⎥\n",
       "    ⎥\n",
       "    ⎦"
      ]
     },
     "execution_count": 33,
     "metadata": {},
     "output_type": "execute_result"
    }
   ],
   "source": [
    "loss_grad_sp"
   ]
  },
  {
   "cell_type": "markdown",
   "id": "ba56e86a-0598-4122-b3ba-6b0fd44bdf83",
   "metadata": {},
   "source": [
    "# JAX Version"
   ]
  },
  {
   "cell_type": "code",
   "execution_count": 34,
   "id": "f0d87e95-cad6-467f-94d3-a3b42f80a7db",
   "metadata": {},
   "outputs": [],
   "source": [
    "net_jax = create_net(create_sigmoid(np.exp), np.tanh) "
   ]
  },
  {
   "cell_type": "code",
   "execution_count": 35,
   "id": "3903daed-72c3-4cb5-83a3-3cbd84aac114",
   "metadata": {},
   "outputs": [],
   "source": [
    "rng = onp.random.default_rng(seed=42)"
   ]
  },
  {
   "cell_type": "code",
   "execution_count": 36,
   "id": "8e0eb17e-126f-4c8e-9038-4e0abed57c54",
   "metadata": {},
   "outputs": [
    {
     "data": {
      "text/plain": [
       "[array([[ 0.30471708, -1.03998411],\n",
       "        [ 0.7504512 ,  0.94056472],\n",
       "        [-1.95103519, -1.30217951]]),\n",
       " array([[ 0.1278404 ],\n",
       "        [-0.31624259],\n",
       "        [-0.01680116]]),\n",
       " array([[-0.85304393,  0.87939797,  0.77779194]]),\n",
       " array([[0.0660307]])]"
      ]
     },
     "execution_count": 36,
     "metadata": {},
     "output_type": "execute_result"
    }
   ],
   "source": [
    "params_jax = [rng.normal(size=(m, n)) for _, m, n in param_desc]\n",
    "params_jax"
   ]
  },
  {
   "cell_type": "code",
   "execution_count": 37,
   "id": "7213b28f-4987-4d3f-aae3-90331465f16a",
   "metadata": {},
   "outputs": [
    {
     "data": {
      "text/plain": [
       "array([[1.12724121],\n",
       "       [0.46750934]])"
      ]
     },
     "execution_count": 37,
     "metadata": {},
     "output_type": "execute_result"
    }
   ],
   "source": [
    "x_jax = rng.normal(size=(2, 1))\n",
    "x_jax"
   ]
  },
  {
   "cell_type": "code",
   "execution_count": 38,
   "id": "d7dfe754-8db7-4eb9-b829-f74603752cca",
   "metadata": {},
   "outputs": [
    {
     "data": {
      "text/plain": [
       "Array([[0.49114177]], dtype=float32)"
      ]
     },
     "execution_count": 38,
     "metadata": {},
     "output_type": "execute_result"
    }
   ],
   "source": [
    "net_jax(params_jax, x_jax)"
   ]
  },
  {
   "cell_type": "code",
   "execution_count": 39,
   "id": "bd833f4d-bc4c-463c-9457-da8a058991bc",
   "metadata": {},
   "outputs": [
    {
     "data": {
      "image/png": "[encoded data removed]",
      "text/latex": [
       "$\\displaystyle {\\left( d \\mapsto \\frac{1}{1 + e^{- d}} \\right)}_{\\circ}\\left({b^{2} + w^{2} {\\left( d \\mapsto \\tanh{\\left(d \\right)} \\right)}_{\\circ}\\left({b^{1} + w^{1} x}\\right)}\\right)$"
      ],
      "text/plain": [
       "⎛       1   ⎞                                    \n",
       "⎜d ↦ ───────⎟˳(w²⋅(d ↦ tanh(d))˳(w¹⋅x + b¹) + b²)\n",
       "⎜         -d⎟                                    \n",
       "⎝    1 + ℯ  ⎠                                    "
      ]
     },
     "execution_count": 39,
     "metadata": {},
     "output_type": "execute_result"
    }
   ],
   "source": [
    "net_sp(params_sp, x_sp)"
   ]
  },
  {
   "cell_type": "code",
   "execution_count": 40,
   "id": "720897d1-7548-4d31-8ac1-fd8c428b8fd6",
   "metadata": {},
   "outputs": [],
   "source": [
    "# Flatten all the JAX parameters for substitution into the SymPy explicit \n",
    "all_params_jax = np.concatenate([a.reshape(-1) for a in params_jax]).tolist()"
   ]
  },
  {
   "cell_type": "code",
   "execution_count": 41,
   "id": "2988a1fd-b217-43b2-9f98-f8523baf582b",
   "metadata": {},
   "outputs": [
    {
     "data": {
      "image/png": "[encoded data removed]",
      "text/latex": [
       "$\\displaystyle \\left[ 0.304717093706131, \\  -1.03998410701752, \\  0.75045120716095, \\  0.940564692020416, \\  -1.95103514194489, \\  -1.30217945575714, \\  0.127840399742126, \\  -0.316242605447769, \\  -0.0168011579662561, \\  -0.853043913841248, \\  0.879397988319397, \\  0.777791917324066, \\  0.0660306960344315\\right]$"
      ],
      "text/plain": [
       "[0.304717093706131, -1.039984107017517, 0.7504512071609497, 0.9405646920204163, -1.9510351419448853, -1.3021794557571411, 0.12784039974212646, -0.31624260544776917, -0.016\n",
       "80115796625614, -0.8530439138412476, 0.879397988319397, 0.7777919173240662, 0.06603069603443146]"
      ]
     },
     "execution_count": 41,
     "metadata": {},
     "output_type": "execute_result"
    }
   ],
   "source": [
    "all_params_jax"
   ]
  },
  {
   "cell_type": "code",
   "execution_count": 42,
   "id": "5185c1b0-9aed-4fdb-aac9-024cb59a0fa6",
   "metadata": {},
   "outputs": [],
   "source": [
    "x_subs = {k: v for k, v in zip(x_sp[:],x_jax.reshape(-1).tolist())}\n",
    "param_subs = {k: v for k, v in zip(all_params, all_params_jax)}"
   ]
  },
  {
   "cell_type": "code",
   "execution_count": 43,
   "id": "cf4c5174-09bf-47a5-98b4-813a02017541",
   "metadata": {},
   "outputs": [
    {
     "data": {
      "text/latex": [
       "$\\displaystyle \\left[\\begin{matrix}0.491141733424738\\end{matrix}\\right]$"
      ],
      "text/plain": [
       "[0.491141733424738]"
      ]
     },
     "execution_count": 43,
     "metadata": {},
     "output_type": "execute_result"
    }
   ],
   "source": [
    "net_sp(params_sp, x_sp).as_explicit().subs(param_subs).subs(x_subs)"
   ]
  },
  {
   "cell_type": "code",
   "execution_count": 44,
   "id": "38e6e48d-7d60-4533-8574-849c40affb6b",
   "metadata": {},
   "outputs": [],
   "source": [
    "cross_entropy_jax = create_cross_entropy(lambda x: np.log(x), lambda x: 1-x)"
   ]
  },
  {
   "cell_type": "code",
   "execution_count": 45,
   "id": "e9d461be-e05e-447b-9cdf-ef83fd29697b",
   "metadata": {},
   "outputs": [],
   "source": [
    "loss_jax = create_loss(cross_entropy_jax, net_jax)"
   ]
  },
  {
   "cell_type": "code",
   "execution_count": 46,
   "id": "bb7e8fb6-6aeb-42ec-9207-922c8cc0b636",
   "metadata": {},
   "outputs": [
    {
     "data": {
      "text/plain": [
       "Array([[0.71102244]], dtype=float32)"
      ]
     },
     "execution_count": 46,
     "metadata": {},
     "output_type": "execute_result"
    }
   ],
   "source": [
    "loss_jax(params_jax, x_jax, 1)"
   ]
  },
  {
   "cell_type": "code",
   "execution_count": 47,
   "id": "f6a988ab-fef9-46c6-987d-3561f30f0b5d",
   "metadata": {},
   "outputs": [
    {
     "data": {
      "text/latex": [
       "$\\displaystyle \\left[\\begin{matrix}0.711022530063193\\end{matrix}\\right]$"
      ],
      "text/plain": [
       "[0.711022530063193]"
      ]
     },
     "execution_count": 47,
     "metadata": {},
     "output_type": "execute_result"
    }
   ],
   "source": [
    "loss_sp(params_sp, x_sp, y_sp).as_explicit().subs(param_subs).subs(x_subs).subs({y_sp[0,0]: 1})"
   ]
  },
  {
   "cell_type": "code",
   "execution_count": 48,
   "id": "ed7f3911-daf6-48dd-9cb0-f36276b539d0",
   "metadata": {},
   "outputs": [
    {
     "data": {
      "text/plain": [
       "[Array([[[[ 0.48920286,  0.20289083],\n",
       "          [-0.2218594 , -0.09201343],\n",
       "          [-0.00623505, -0.00258591]]]], dtype=float32),\n",
       " Array([[[[ 0.4339824 ],\n",
       "          [-0.19681625],\n",
       "          [-0.00553125]]]], dtype=float32),\n",
       " Array([[[[ 0.00756729, -0.38085452,  0.50529   ]]]], dtype=float32),\n",
       " Array([[[[-0.5088582]]]], dtype=float32)]"
      ]
     },
     "execution_count": 48,
     "metadata": {},
     "output_type": "execute_result"
    }
   ],
   "source": [
    "jax.jacobian(loss_jax)(params_jax, x_jax, 1)"
   ]
  },
  {
   "cell_type": "code",
   "execution_count": 49,
   "id": "7417d0b5-a390-402e-b547-25cfb3b6e83e",
   "metadata": {},
   "outputs": [
    {
     "data": {
      "text/latex": [
       "$\\displaystyle \\left[\\begin{array}{ccccccccccccc}0.489202901533394 & 0.20289085007709 & -0.22185944760121 & -0.0920134606322863 & -0.00623499326163677 & -0.00258588630425786 & 0.433982450703 & -0.196816303582399 & -0.00553119707041865 & 0.007567294987252 & -0.380854546170986 & 0.505290051152341 & -0.508858266575262\\end{array}\\right]$"
      ],
      "text/plain": [
       "[0.489202901533394  0.20289085007709  -0.22185944760121  -0.0920134606322863  -0.00623499326163677  -0.00258588630425786  0.433982450703  -0.196816303582399  -0.0055311970\n",
       "7041865  0.007567294987252  -0.380854546170986  0.505290051152341  -0.508858266575262]"
      ]
     },
     "execution_count": 49,
     "metadata": {},
     "output_type": "execute_result"
    }
   ],
   "source": [
    "loss_grad_sp.subs(param_subs).subs(x_subs).subs({y_sp[0,0]: 1})"
   ]
  },
  {
   "cell_type": "markdown",
   "id": "70b05374-f02a-486d-a065-1b6220f790b1",
   "metadata": {},
   "source": [
    "# Loss with Tensor Terms\n",
    "It would be nice to keep the parameters in their original tensor form while substituting and taking derivative, rather than flattening all the parameters.  "
   ]
  },
  {
   "cell_type": "code",
   "execution_count": 50,
   "id": "d7ce2a6c-0521-4d45-af58-ab30bba3c0d4",
   "metadata": {},
   "outputs": [
    {
     "data": {
      "text/latex": [
       "$\\displaystyle \\left[\\begin{matrix}-1\\end{matrix}\\right] {\\left( d \\mapsto \\log{\\left(\\frac{1}{1 + e^{- d}} \\right)} \\right)}_{\\circ}\\left({b^{2} + w^{2} {\\left( d \\mapsto \\tanh{\\left(d \\right)} \\right)}_{\\circ}\\left({b^{1} + w^{1} x}\\right)}\\right) + \\left[\\begin{matrix}0\\end{matrix}\\right] {\\left( d \\mapsto \\log{\\left(d \\right)} \\right)}_{\\circ}\\left({- {\\left( d \\mapsto \\frac{1}{1 + e^{- d}} \\right)}_{\\circ}\\left({b^{2} + w^{2} {\\left( d \\mapsto \\tanh{\\left(d \\right)} \\right)}_{\\circ}\\left({b^{1} + w^{1} x}\\right)}\\right) + \\left[\\begin{matrix}1\\end{matrix}\\right]}\\right)$"
      ],
      "text/plain": [
       "     ⎛       ⎛   1   ⎞⎞                                                        ⎛ ⎛       1   ⎞                                          ⎞\n",
       "[-1]⋅⎜d ↦ log⎜───────⎟⎟˳(w²⋅(d ↦ tanh(d))˳(w¹⋅x + b¹) + b²) + [0]⋅(d ↦ log(d))˳⎜-⎜d ↦ ───────⎟˳(w²⋅(d ↦ tanh(d))˳(w¹⋅x + b¹) + b²) + [1]⎟\n",
       "     ⎜       ⎜     -d⎟⎟                                                        ⎜ ⎜         -d⎟                                          ⎟\n",
       "     ⎝       ⎝1 + ℯ  ⎠⎠                                                        ⎝ ⎝    1 + ℯ  ⎠                                          ⎠"
      ]
     },
     "execution_count": 50,
     "metadata": {},
     "output_type": "execute_result"
    }
   ],
   "source": [
    "loss_sp(params_sp, x_sp, sp.Matrix([1]))"
   ]
  },
  {
   "cell_type": "code",
   "execution_count": 51,
   "id": "ccbcc7ac-d804-4019-be68-f3c408965a8c",
   "metadata": {},
   "outputs": [
    {
     "data": {
      "text/latex": [
       "$\\displaystyle \\left\\{ b^{1} : \\left[\\begin{matrix}0.127840403167285\\\\-0.316242592343582\\\\-0.0168011575042888\\end{matrix}\\right], \\  b^{2} : \\left[\\begin{matrix}0.066030697561216\\end{matrix}\\right], \\  w^{1} : \\left[\\begin{matrix}0.304717079754431 & -1.0399841062405\\\\0.750451195806457 & 0.940564716391214\\\\-1.95103518865384 & -1.30217950686232\\end{matrix}\\right], \\  w^{2} : \\left[\\begin{matrix}-0.85304392757358 & 0.879397974862829 & 0.777791935428948\\end{matrix}\\right], \\  x : \\left[\\begin{matrix}1.12724120696803\\\\0.467509342252046\\end{matrix}\\right], \\  y : \\left[\\begin{matrix}1\\end{matrix}\\right]\\right\\}$"
      ],
      "text/plain": [
       "⎧    ⎡ 0.127840403167285 ⎤                               ⎡0.304717079754431  -1.0399841062405 ⎤                                                                            \n",
       "⎪    ⎢                   ⎥                               ⎢                                    ⎥                                                                    ⎡1.12724\n",
       "⎨b¹: ⎢-0.316242592343582 ⎥, b²: [0.066030697561216], w¹: ⎢0.750451195806457  0.940564716391214⎥, w²: [-0.85304392757358  0.879397974862829  0.777791935428948], x: ⎢       \n",
       "⎪    ⎢                   ⎥                               ⎢                                    ⎥                                                                    ⎣0.46750\n",
       "⎩    ⎣-0.0168011575042888⎦                               ⎣-1.95103518865384  -1.30217950686232⎦                                                                            \n",
       "\n",
       "                   ⎫\n",
       "120696803 ⎤        ⎪\n",
       "          ⎥, y: [1]⎬\n",
       "9342252046⎦        ⎪\n",
       "                   ⎭"
      ]
     },
     "execution_count": 51,
     "metadata": {},
     "output_type": "execute_result"
    }
   ],
   "source": [
    "subs_matrix = (\n",
    "    {s: sp.Matrix(j) for s, j in dict(zip(params_sp, params_jax)).items()} \n",
    "    | {x_sp: sp.Matrix(x_jax)} \n",
    "    | {y_sp: sp.Matrix([1])}\n",
    ")\n",
    "subs_matrix"
   ]
  },
  {
   "cell_type": "code",
   "execution_count": 52,
   "id": "a49ee54a-0b5a-40b9-bdc2-a1dfce2e5bea",
   "metadata": {},
   "outputs": [
    {
     "data": {
      "text/latex": [
       "$\\displaystyle \\left\\{ \\left[\\begin{matrix}b^{2}_{0, 0}\\end{matrix}\\right] : \\left[\\begin{matrix}0.066030697561216\\end{matrix}\\right], \\  \\left[\\begin{matrix}y_{0, 0}\\end{matrix}\\right] : \\left[\\begin{matrix}1\\end{matrix}\\right], \\  \\left[\\begin{matrix}w^{2}_{0, 0} & w^{2}_{0, 1} & w^{2}_{0, 2}\\end{matrix}\\right] : \\left[\\begin{matrix}-0.85304392757358 & 0.879397974862829 & 0.777791935428948\\end{matrix}\\right], \\  \\left[\\begin{matrix}x_{0, 0}\\\\x_{1, 0}\\end{matrix}\\right] : \\left[\\begin{matrix}1.12724120696803\\\\0.467509342252046\\end{matrix}\\right], \\  \\left[\\begin{matrix}b^{1}_{0, 0}\\\\b^{1}_{1, 0}\\\\b^{1}_{2, 0}\\end{matrix}\\right] : \\left[\\begin{matrix}0.127840403167285\\\\-0.316242592343582\\\\-0.0168011575042888\\end{matrix}\\right], \\  \\left[\\begin{matrix}w^{1}_{0, 0} & w^{1}_{0, 1}\\\\w^{1}_{1, 0} & w^{1}_{1, 1}\\\\w^{1}_{2, 0} & w^{1}_{2, 1}\\end{matrix}\\right] : \\left[\\begin{matrix}0.304717079754431 & -1.0399841062405\\\\0.750451195806457 & 0.940564716391214\\\\-1.95103518865384 & -1.30217950686232\\end{matrix}\\right]\\right\\}$"
      ],
      "text/plain": [
       "⎧                                                                                                                                                    ⎡b¹₀₀⎤  ⎡ 0.1278404031\n",
       "⎪                                                                                                                        ⎡x₀₀⎤  ⎡1.12724120696803 ⎤  ⎢    ⎥  ⎢             \n",
       "⎨[b²₀₀]: [0.066030697561216], [y₀₀]: [1], [w²₀₀  w²₀₁  w²₀₂]: [-0.85304392757358  0.879397974862829  0.777791935428948], ⎢   ⎥: ⎢                 ⎥, ⎢b¹₁₀⎥: ⎢-0.3162425923\n",
       "⎪                                                                                                                        ⎣x₁₀⎦  ⎣0.467509342252046⎦  ⎢    ⎥  ⎢             \n",
       "⎩                                                                                                                                                    ⎣b¹₂₀⎦  ⎣-0.0168011575\n",
       "\n",
       "67285 ⎤  ⎡w¹₀₀  w¹₀₁⎤  ⎡0.304717079754431  -1.0399841062405 ⎤⎫\n",
       "      ⎥  ⎢          ⎥  ⎢                                    ⎥⎪\n",
       "43582 ⎥, ⎢w¹₁₀  w¹₁₁⎥: ⎢0.750451195806457  0.940564716391214⎥⎬\n",
       "      ⎥  ⎢          ⎥  ⎢                                    ⎥⎪\n",
       "042888⎦  ⎣w¹₂₀  w¹₂₁⎦  ⎣-1.95103518865384  -1.30217950686232⎦⎭"
      ]
     },
     "execution_count": 52,
     "metadata": {},
     "output_type": "execute_result"
    }
   ],
   "source": [
    "subs_matrix_explicit = (\n",
    "    {s.as_explicit(): sp.Matrix(j) for s, j in dict(zip(params_sp, params_jax)).items()} \n",
    "    | {x_sp.as_explicit(): sp.Matrix(x_jax)} \n",
    "    | {y_sp.as_explicit(): sp.Matrix([1])}\n",
    ")\n",
    "subs_matrix_explicit"
   ]
  },
  {
   "cell_type": "code",
   "execution_count": 53,
   "id": "fc9ba64b-e578-4e60-83e8-97b9981ce516",
   "metadata": {},
   "outputs": [
    {
     "data": {
      "image/png": "[encoded data removed]",
      "text/latex": [
       "$\\displaystyle \\left\\{ b^{1}_{0, 0} : 0.127840403167285, \\  b^{1}_{1, 0} : -0.316242592343582, \\  b^{1}_{2, 0} : -0.0168011575042888, \\  b^{2}_{0, 0} : 0.066030697561216, \\  w^{1}_{0, 0} : 0.304717079754431, \\  w^{1}_{0, 1} : -1.0399841062405, \\  w^{1}_{1, 0} : 0.750451195806457, \\  w^{1}_{1, 1} : 0.940564716391214, \\  w^{1}_{2, 0} : -1.95103518865384, \\  w^{1}_{2, 1} : -1.30217950686232, \\  w^{2}_{0, 0} : -0.85304392757358, \\  w^{2}_{0, 1} : 0.879397974862829, \\  w^{2}_{0, 2} : 0.777791935428948, \\  x_{0, 0} : 1.12724120696803, \\  x_{1, 0} : 0.467509342252046, \\  y_{0, 0} : 1\\right\\}$"
      ],
      "text/plain": [
       "{b¹₀₀: 0.127840403167285, b¹₁₀: -0.316242592343582, b¹₂₀: -0.0168011575042888, b²₀₀: 0.066030697561216, w¹₀₀: 0.304717079754431, w¹₀₁: -1.0399841062405, w¹₁₀: 0.7504511958\n",
       "06457, w¹₁₁: 0.940564716391214, w¹₂₀: -1.95103518865384, w¹₂₁: -1.30217950686232, w²₀₀: -0.85304392757358, w²₀₁: 0.879397974862829, w²₀₂: 0.777791935428948, x₀₀: 1.1272412\n",
       "0696803, x₁₀: 0.467509342252046, y₀₀: 1}"
      ]
     },
     "execution_count": 53,
     "metadata": {},
     "output_type": "execute_result"
    }
   ],
   "source": [
    "subs_params_explicit = dict(\n",
    "    zip(\n",
    "        [i for k in subs_matrix_explicit.keys() for i in k.flat()],\n",
    "        [i for v in subs_matrix_explicit.values() for i in v.flat()]\n",
    "    )\n",
    ")\n",
    "subs_params_explicit"
   ]
  },
  {
   "cell_type": "code",
   "execution_count": 54,
   "id": "5e27dc0f-0c94-44f1-b937-0f416dfce6ba",
   "metadata": {},
   "outputs": [
    {
     "data": {
      "text/latex": [
       "$\\displaystyle {\\left( d \\mapsto \\frac{1}{1 + e^{- d}} \\right)}_{\\circ}\\left({\\left[\\begin{matrix}0.066030697561216\\end{matrix}\\right] + \\left[\\begin{matrix}-0.85304392757358 & 0.879397974862829 & 0.777791935428948\\end{matrix}\\right] {\\left( d \\mapsto \\tanh{\\left(d \\right)} \\right)}_{\\circ}\\left({\\left[\\begin{matrix}0.127840403167285\\\\-0.316242592343582\\\\-0.0168011575042888\\end{matrix}\\right] + \\left[\\begin{matrix}0.304717079754431 & -1.0399841062405\\\\0.750451195806457 & 0.940564716391214\\\\-1.95103518865384 & -1.30217950686232\\end{matrix}\\right] \\left[\\begin{matrix}1.12724120696803\\\\0.467509342252046\\end{matrix}\\right]}\\right)}\\right)$"
      ],
      "text/plain": [
       "              ⎛                                                                        ⎛⎡0.304717079754431  -1.0399841062405 ⎤                       ⎡ 0.127840403167285 ⎤⎞\n",
       "⎛       1   ⎞ ⎜                                                                        ⎜⎢                                    ⎥ ⎡1.12724120696803 ⎤   ⎢                   ⎥⎟\n",
       "⎜d ↦ ───────⎟˳⎜[-0.85304392757358  0.879397974862829  0.777791935428948]⋅(d ↦ tanh(d))˳⎜⎢0.750451195806457  0.940564716391214⎥⋅⎢                 ⎥ + ⎢-0.316242592343582 ⎥⎟\n",
       "⎜         -d⎟ ⎜                                                                        ⎜⎢                                    ⎥ ⎣0.467509342252046⎦   ⎢                   ⎥⎟\n",
       "⎝    1 + ℯ  ⎠ ⎝                                                                        ⎝⎣-1.95103518865384  -1.30217950686232⎦                       ⎣-0.0168011575042888⎦⎠\n",
       "\n",
       "                      ⎞\n",
       "                      ⎟\n",
       " + [0.066030697561216]⎟\n",
       "                      ⎟\n",
       "                      ⎠"
      ]
     },
     "execution_count": 54,
     "metadata": {},
     "output_type": "execute_result"
    }
   ],
   "source": [
    "net_sp(params_sp, x_sp).subs(subs_matrix)"
   ]
  },
  {
   "cell_type": "code",
   "execution_count": 55,
   "id": "fb6df47f-612c-4567-91fd-465827eb1593",
   "metadata": {},
   "outputs": [
    {
     "data": {
      "text/latex": [
       "$\\displaystyle \\left[\\begin{matrix}0.491141730315985\\end{matrix}\\right]$"
      ],
      "text/plain": [
       "[0.491141730315985]"
      ]
     },
     "execution_count": 55,
     "metadata": {},
     "output_type": "execute_result"
    }
   ],
   "source": [
    "net_sp(params_sp, x_sp).subs(subs_matrix).doit()"
   ]
  },
  {
   "cell_type": "code",
   "execution_count": 56,
   "id": "f5cb6317-fb62-404e-8f1c-409176eb9476",
   "metadata": {},
   "outputs": [
    {
     "data": {
      "text/latex": [
       "$\\displaystyle \\left[\\begin{matrix}0.711022536392839\\end{matrix}\\right]$"
      ],
      "text/plain": [
       "[0.711022536392839]"
      ]
     },
     "execution_count": 56,
     "metadata": {},
     "output_type": "execute_result"
    }
   ],
   "source": [
    "loss_sp(params_sp, x_sp, y_sp).as_explicit().subs(subs_params_explicit)"
   ]
  },
  {
   "cell_type": "code",
   "execution_count": 57,
   "id": "11921b4a-9541-43a6-b7e9-0b526c1a25df",
   "metadata": {},
   "outputs": [
    {
     "data": {
      "image/png": "[encoded data removed]",
      "text/latex": [
       "$\\displaystyle {\\left( d \\mapsto \\frac{1}{1 + e^{- d}} \\right)}_{\\circ}\\left({b^{2} + w^{2} {\\left( d \\mapsto \\tanh{\\left(d \\right)} \\right)}_{\\circ}\\left({b^{1} + w^{1} x}\\right)}\\right)$"
      ],
      "text/plain": [
       "⎛       1   ⎞                                    \n",
       "⎜d ↦ ───────⎟˳(w²⋅(d ↦ tanh(d))˳(w¹⋅x + b¹) + b²)\n",
       "⎜         -d⎟                                    \n",
       "⎝    1 + ℯ  ⎠                                    "
      ]
     },
     "execution_count": 57,
     "metadata": {},
     "output_type": "execute_result"
    }
   ],
   "source": [
    "net_sp(params_sp, x_sp)"
   ]
  },
  {
   "cell_type": "code",
   "execution_count": 77,
   "id": "305c9b22-8b6b-4611-98b7-999be4a1eb56",
   "metadata": {},
   "outputs": [
    {
     "data": {
      "image/png": "[encoded data removed]",
      "text/latex": [
       "$\\displaystyle {\\left( d \\mapsto \\frac{\\tanh{\\left(\\frac{d}{2} \\right)}}{2} + \\frac{1}{2} \\right)}_{\\circ}\\left({b^{2} + w^{2} {\\left( d \\mapsto \\tanh{\\left(d \\right)} \\right)}_{\\circ}\\left({b^{1} + w^{1} x}\\right)}\\right)$"
      ],
      "text/plain": [
       "⎛        ⎛d⎞    ⎞                                    \n",
       "⎜    tanh⎜─⎟    ⎟                                    \n",
       "⎜        ⎝2⎠   1⎟                                    \n",
       "⎜d ↦ ─────── + ─⎟˳(w²⋅(d ↦ tanh(d))˳(w¹⋅x + b¹) + b²)\n",
       "⎝       2      2⎠                                    "
      ]
     },
     "execution_count": 77,
     "metadata": {},
     "output_type": "execute_result"
    }
   ],
   "source": [
    "(w2 @ (w1 @ x_sp + b1).applyfunc(sp.tanh) + b2).applyfunc(lambda x: (1+sp.tanh(x/2))/2).simplify() # .subs(subs_matrix).doit()"
   ]
  },
  {
   "cell_type": "code",
   "execution_count": 59,
   "id": "4c37b5b2-875e-4e4d-b449-5b4d4d7dbf1b",
   "metadata": {},
   "outputs": [
    {
     "ename": "TypeError",
     "evalue": "Mix of Matrix and Scalar symbols",
     "output_type": "error",
     "traceback": [
      "\u001b[0;31m---------------------------------------------------------------------------\u001b[0m",
      "\u001b[0;31mKeyError\u001b[0m                                  Traceback (most recent call last)",
      "File \u001b[0;32m~/Work/Projects/PyBayes/venv/lib/python3.10/site-packages/sympy/core/assumptions.py:499\u001b[0m, in \u001b[0;36mmake_property.<locals>.getit\u001b[0;34m(self)\u001b[0m\n\u001b[1;32m    498\u001b[0m \u001b[38;5;28;01mtry\u001b[39;00m:\n\u001b[0;32m--> 499\u001b[0m     \u001b[38;5;28;01mreturn\u001b[39;00m \u001b[38;5;28;43mself\u001b[39;49m\u001b[38;5;241;43m.\u001b[39;49m\u001b[43m_assumptions\u001b[49m\u001b[43m[\u001b[49m\u001b[43mfact\u001b[49m\u001b[43m]\u001b[49m\n\u001b[1;32m    500\u001b[0m \u001b[38;5;28;01mexcept\u001b[39;00m \u001b[38;5;167;01mKeyError\u001b[39;00m:\n",
      "\u001b[0;31mKeyError\u001b[0m: 'zero'",
      "\nDuring handling of the above exception, another exception occurred:\n",
      "\u001b[0;31mKeyError\u001b[0m                                  Traceback (most recent call last)",
      "File \u001b[0;32m~/Work/Projects/PyBayes/venv/lib/python3.10/site-packages/sympy/core/assumptions.py:499\u001b[0m, in \u001b[0;36mmake_property.<locals>.getit\u001b[0;34m(self)\u001b[0m\n\u001b[1;32m    498\u001b[0m \u001b[38;5;28;01mtry\u001b[39;00m:\n\u001b[0;32m--> 499\u001b[0m     \u001b[38;5;28;01mreturn\u001b[39;00m \u001b[38;5;28;43mself\u001b[39;49m\u001b[38;5;241;43m.\u001b[39;49m\u001b[43m_assumptions\u001b[49m\u001b[43m[\u001b[49m\u001b[43mfact\u001b[49m\u001b[43m]\u001b[49m\n\u001b[1;32m    500\u001b[0m \u001b[38;5;28;01mexcept\u001b[39;00m \u001b[38;5;167;01mKeyError\u001b[39;00m:\n",
      "\u001b[0;31mKeyError\u001b[0m: 'finite'",
      "\nDuring handling of the above exception, another exception occurred:\n",
      "\u001b[0;31mTypeError\u001b[0m                                 Traceback (most recent call last)",
      "Cell \u001b[0;32mIn[59], line 1\u001b[0m\n\u001b[0;32m----> 1\u001b[0m \u001b[43mloss_sp\u001b[49m\u001b[43m(\u001b[49m\u001b[43mparams_sp\u001b[49m\u001b[43m,\u001b[49m\u001b[43m \u001b[49m\u001b[43mx_sp\u001b[49m\u001b[43m,\u001b[49m\u001b[43m \u001b[49m\u001b[43my_sp\u001b[49m\u001b[43m)\u001b[49m\u001b[38;5;241;43m.\u001b[39;49m\u001b[43msubs\u001b[49m\u001b[43m(\u001b[49m\u001b[43msubs_matrix\u001b[49m\u001b[43m)\u001b[49m\n",
      "File \u001b[0;32m~/Work/Projects/PyBayes/venv/lib/python3.10/site-packages/sympy/core/basic.py:1040\u001b[0m, in \u001b[0;36mBasic.subs\u001b[0;34m(self, *args, **kwargs)\u001b[0m\n\u001b[1;32m   1038\u001b[0m rv \u001b[38;5;241m=\u001b[39m \u001b[38;5;28mself\u001b[39m\n\u001b[1;32m   1039\u001b[0m \u001b[38;5;28;01mfor\u001b[39;00m old, new \u001b[38;5;129;01min\u001b[39;00m sequence:\n\u001b[0;32m-> 1040\u001b[0m     rv \u001b[38;5;241m=\u001b[39m \u001b[43mrv\u001b[49m\u001b[38;5;241;43m.\u001b[39;49m\u001b[43m_subs\u001b[49m\u001b[43m(\u001b[49m\u001b[43mold\u001b[49m\u001b[43m,\u001b[49m\u001b[43m \u001b[49m\u001b[43mnew\u001b[49m\u001b[43m,\u001b[49m\u001b[43m \u001b[49m\u001b[38;5;241;43m*\u001b[39;49m\u001b[38;5;241;43m*\u001b[39;49m\u001b[43mkwargs\u001b[49m\u001b[43m)\u001b[49m\n\u001b[1;32m   1041\u001b[0m     \u001b[38;5;28;01mif\u001b[39;00m \u001b[38;5;129;01mnot\u001b[39;00m \u001b[38;5;28misinstance\u001b[39m(rv, Basic):\n\u001b[1;32m   1042\u001b[0m         \u001b[38;5;28;01mbreak\u001b[39;00m\n",
      "File \u001b[0;32m~/Work/Projects/PyBayes/venv/lib/python3.10/site-packages/sympy/core/cache.py:72\u001b[0m, in \u001b[0;36m__cacheit.<locals>.func_wrapper.<locals>.wrapper\u001b[0;34m(*args, **kwargs)\u001b[0m\n\u001b[1;32m     69\u001b[0m \u001b[38;5;129m@wraps\u001b[39m(func)\n\u001b[1;32m     70\u001b[0m \u001b[38;5;28;01mdef\u001b[39;00m \u001b[38;5;21mwrapper\u001b[39m(\u001b[38;5;241m*\u001b[39margs, \u001b[38;5;241m*\u001b[39m\u001b[38;5;241m*\u001b[39mkwargs):\n\u001b[1;32m     71\u001b[0m     \u001b[38;5;28;01mtry\u001b[39;00m:\n\u001b[0;32m---> 72\u001b[0m         retval \u001b[38;5;241m=\u001b[39m \u001b[43mcfunc\u001b[49m\u001b[43m(\u001b[49m\u001b[38;5;241;43m*\u001b[39;49m\u001b[43margs\u001b[49m\u001b[43m,\u001b[49m\u001b[43m \u001b[49m\u001b[38;5;241;43m*\u001b[39;49m\u001b[38;5;241;43m*\u001b[39;49m\u001b[43mkwargs\u001b[49m\u001b[43m)\u001b[49m\n\u001b[1;32m     73\u001b[0m     \u001b[38;5;28;01mexcept\u001b[39;00m \u001b[38;5;167;01mTypeError\u001b[39;00m \u001b[38;5;28;01mas\u001b[39;00m e:\n\u001b[1;32m     74\u001b[0m         \u001b[38;5;28;01mif\u001b[39;00m \u001b[38;5;129;01mnot\u001b[39;00m e\u001b[38;5;241m.\u001b[39margs \u001b[38;5;129;01mor\u001b[39;00m \u001b[38;5;129;01mnot\u001b[39;00m e\u001b[38;5;241m.\u001b[39margs[\u001b[38;5;241m0\u001b[39m]\u001b[38;5;241m.\u001b[39mstartswith(\u001b[38;5;124m'\u001b[39m\u001b[38;5;124munhashable type:\u001b[39m\u001b[38;5;124m'\u001b[39m):\n",
      "File \u001b[0;32m~/Work/Projects/PyBayes/venv/lib/python3.10/site-packages/sympy/core/basic.py:1154\u001b[0m, in \u001b[0;36mBasic._subs\u001b[0;34m(self, old, new, **hints)\u001b[0m\n\u001b[1;32m   1152\u001b[0m rv \u001b[38;5;241m=\u001b[39m \u001b[38;5;28mself\u001b[39m\u001b[38;5;241m.\u001b[39m_eval_subs(old, new)\n\u001b[1;32m   1153\u001b[0m \u001b[38;5;28;01mif\u001b[39;00m rv \u001b[38;5;129;01mis\u001b[39;00m \u001b[38;5;28;01mNone\u001b[39;00m:\n\u001b[0;32m-> 1154\u001b[0m     rv \u001b[38;5;241m=\u001b[39m \u001b[43mfallback\u001b[49m\u001b[43m(\u001b[49m\u001b[38;5;28;43mself\u001b[39;49m\u001b[43m,\u001b[49m\u001b[43m \u001b[49m\u001b[43mold\u001b[49m\u001b[43m,\u001b[49m\u001b[43m \u001b[49m\u001b[43mnew\u001b[49m\u001b[43m)\u001b[49m\n\u001b[1;32m   1155\u001b[0m \u001b[38;5;28;01mreturn\u001b[39;00m rv\n",
      "File \u001b[0;32m~/Work/Projects/PyBayes/venv/lib/python3.10/site-packages/sympy/core/basic.py:1126\u001b[0m, in \u001b[0;36mBasic._subs.<locals>.fallback\u001b[0;34m(self, old, new)\u001b[0m\n\u001b[1;32m   1124\u001b[0m \u001b[38;5;28;01mif\u001b[39;00m \u001b[38;5;129;01mnot\u001b[39;00m \u001b[38;5;28mhasattr\u001b[39m(arg, \u001b[38;5;124m'\u001b[39m\u001b[38;5;124m_eval_subs\u001b[39m\u001b[38;5;124m'\u001b[39m):\n\u001b[1;32m   1125\u001b[0m     \u001b[38;5;28;01mcontinue\u001b[39;00m\n\u001b[0;32m-> 1126\u001b[0m arg \u001b[38;5;241m=\u001b[39m \u001b[43marg\u001b[49m\u001b[38;5;241;43m.\u001b[39;49m\u001b[43m_subs\u001b[49m\u001b[43m(\u001b[49m\u001b[43mold\u001b[49m\u001b[43m,\u001b[49m\u001b[43m \u001b[49m\u001b[43mnew\u001b[49m\u001b[43m,\u001b[49m\u001b[43m \u001b[49m\u001b[38;5;241;43m*\u001b[39;49m\u001b[38;5;241;43m*\u001b[39;49m\u001b[43mhints\u001b[49m\u001b[43m)\u001b[49m\n\u001b[1;32m   1127\u001b[0m \u001b[38;5;28;01mif\u001b[39;00m \u001b[38;5;129;01mnot\u001b[39;00m _aresame(arg, args[i]):\n\u001b[1;32m   1128\u001b[0m     hit \u001b[38;5;241m=\u001b[39m \u001b[38;5;28;01mTrue\u001b[39;00m\n",
      "File \u001b[0;32m~/Work/Projects/PyBayes/venv/lib/python3.10/site-packages/sympy/core/cache.py:72\u001b[0m, in \u001b[0;36m__cacheit.<locals>.func_wrapper.<locals>.wrapper\u001b[0;34m(*args, **kwargs)\u001b[0m\n\u001b[1;32m     69\u001b[0m \u001b[38;5;129m@wraps\u001b[39m(func)\n\u001b[1;32m     70\u001b[0m \u001b[38;5;28;01mdef\u001b[39;00m \u001b[38;5;21mwrapper\u001b[39m(\u001b[38;5;241m*\u001b[39margs, \u001b[38;5;241m*\u001b[39m\u001b[38;5;241m*\u001b[39mkwargs):\n\u001b[1;32m     71\u001b[0m     \u001b[38;5;28;01mtry\u001b[39;00m:\n\u001b[0;32m---> 72\u001b[0m         retval \u001b[38;5;241m=\u001b[39m \u001b[43mcfunc\u001b[49m\u001b[43m(\u001b[49m\u001b[38;5;241;43m*\u001b[39;49m\u001b[43margs\u001b[49m\u001b[43m,\u001b[49m\u001b[43m \u001b[49m\u001b[38;5;241;43m*\u001b[39;49m\u001b[38;5;241;43m*\u001b[39;49m\u001b[43mkwargs\u001b[49m\u001b[43m)\u001b[49m\n\u001b[1;32m     73\u001b[0m     \u001b[38;5;28;01mexcept\u001b[39;00m \u001b[38;5;167;01mTypeError\u001b[39;00m \u001b[38;5;28;01mas\u001b[39;00m e:\n\u001b[1;32m     74\u001b[0m         \u001b[38;5;28;01mif\u001b[39;00m \u001b[38;5;129;01mnot\u001b[39;00m e\u001b[38;5;241m.\u001b[39margs \u001b[38;5;129;01mor\u001b[39;00m \u001b[38;5;129;01mnot\u001b[39;00m e\u001b[38;5;241m.\u001b[39margs[\u001b[38;5;241m0\u001b[39m]\u001b[38;5;241m.\u001b[39mstartswith(\u001b[38;5;124m'\u001b[39m\u001b[38;5;124munhashable type:\u001b[39m\u001b[38;5;124m'\u001b[39m):\n",
      "File \u001b[0;32m~/Work/Projects/PyBayes/venv/lib/python3.10/site-packages/sympy/core/basic.py:1154\u001b[0m, in \u001b[0;36mBasic._subs\u001b[0;34m(self, old, new, **hints)\u001b[0m\n\u001b[1;32m   1152\u001b[0m rv \u001b[38;5;241m=\u001b[39m \u001b[38;5;28mself\u001b[39m\u001b[38;5;241m.\u001b[39m_eval_subs(old, new)\n\u001b[1;32m   1153\u001b[0m \u001b[38;5;28;01mif\u001b[39;00m rv \u001b[38;5;129;01mis\u001b[39;00m \u001b[38;5;28;01mNone\u001b[39;00m:\n\u001b[0;32m-> 1154\u001b[0m     rv \u001b[38;5;241m=\u001b[39m \u001b[43mfallback\u001b[49m\u001b[43m(\u001b[49m\u001b[38;5;28;43mself\u001b[39;49m\u001b[43m,\u001b[49m\u001b[43m \u001b[49m\u001b[43mold\u001b[49m\u001b[43m,\u001b[49m\u001b[43m \u001b[49m\u001b[43mnew\u001b[49m\u001b[43m)\u001b[49m\n\u001b[1;32m   1155\u001b[0m \u001b[38;5;28;01mreturn\u001b[39;00m rv\n",
      "File \u001b[0;32m~/Work/Projects/PyBayes/venv/lib/python3.10/site-packages/sympy/core/basic.py:1126\u001b[0m, in \u001b[0;36mBasic._subs.<locals>.fallback\u001b[0;34m(self, old, new)\u001b[0m\n\u001b[1;32m   1124\u001b[0m \u001b[38;5;28;01mif\u001b[39;00m \u001b[38;5;129;01mnot\u001b[39;00m \u001b[38;5;28mhasattr\u001b[39m(arg, \u001b[38;5;124m'\u001b[39m\u001b[38;5;124m_eval_subs\u001b[39m\u001b[38;5;124m'\u001b[39m):\n\u001b[1;32m   1125\u001b[0m     \u001b[38;5;28;01mcontinue\u001b[39;00m\n\u001b[0;32m-> 1126\u001b[0m arg \u001b[38;5;241m=\u001b[39m \u001b[43marg\u001b[49m\u001b[38;5;241;43m.\u001b[39;49m\u001b[43m_subs\u001b[49m\u001b[43m(\u001b[49m\u001b[43mold\u001b[49m\u001b[43m,\u001b[49m\u001b[43m \u001b[49m\u001b[43mnew\u001b[49m\u001b[43m,\u001b[49m\u001b[43m \u001b[49m\u001b[38;5;241;43m*\u001b[39;49m\u001b[38;5;241;43m*\u001b[39;49m\u001b[43mhints\u001b[49m\u001b[43m)\u001b[49m\n\u001b[1;32m   1127\u001b[0m \u001b[38;5;28;01mif\u001b[39;00m \u001b[38;5;129;01mnot\u001b[39;00m _aresame(arg, args[i]):\n\u001b[1;32m   1128\u001b[0m     hit \u001b[38;5;241m=\u001b[39m \u001b[38;5;28;01mTrue\u001b[39;00m\n",
      "File \u001b[0;32m~/Work/Projects/PyBayes/venv/lib/python3.10/site-packages/sympy/core/cache.py:72\u001b[0m, in \u001b[0;36m__cacheit.<locals>.func_wrapper.<locals>.wrapper\u001b[0;34m(*args, **kwargs)\u001b[0m\n\u001b[1;32m     69\u001b[0m \u001b[38;5;129m@wraps\u001b[39m(func)\n\u001b[1;32m     70\u001b[0m \u001b[38;5;28;01mdef\u001b[39;00m \u001b[38;5;21mwrapper\u001b[39m(\u001b[38;5;241m*\u001b[39margs, \u001b[38;5;241m*\u001b[39m\u001b[38;5;241m*\u001b[39mkwargs):\n\u001b[1;32m     71\u001b[0m     \u001b[38;5;28;01mtry\u001b[39;00m:\n\u001b[0;32m---> 72\u001b[0m         retval \u001b[38;5;241m=\u001b[39m \u001b[43mcfunc\u001b[49m\u001b[43m(\u001b[49m\u001b[38;5;241;43m*\u001b[39;49m\u001b[43margs\u001b[49m\u001b[43m,\u001b[49m\u001b[43m \u001b[49m\u001b[38;5;241;43m*\u001b[39;49m\u001b[38;5;241;43m*\u001b[39;49m\u001b[43mkwargs\u001b[49m\u001b[43m)\u001b[49m\n\u001b[1;32m     73\u001b[0m     \u001b[38;5;28;01mexcept\u001b[39;00m \u001b[38;5;167;01mTypeError\u001b[39;00m \u001b[38;5;28;01mas\u001b[39;00m e:\n\u001b[1;32m     74\u001b[0m         \u001b[38;5;28;01mif\u001b[39;00m \u001b[38;5;129;01mnot\u001b[39;00m e\u001b[38;5;241m.\u001b[39margs \u001b[38;5;129;01mor\u001b[39;00m \u001b[38;5;129;01mnot\u001b[39;00m e\u001b[38;5;241m.\u001b[39margs[\u001b[38;5;241m0\u001b[39m]\u001b[38;5;241m.\u001b[39mstartswith(\u001b[38;5;124m'\u001b[39m\u001b[38;5;124munhashable type:\u001b[39m\u001b[38;5;124m'\u001b[39m):\n",
      "File \u001b[0;32m~/Work/Projects/PyBayes/venv/lib/python3.10/site-packages/sympy/core/basic.py:1154\u001b[0m, in \u001b[0;36mBasic._subs\u001b[0;34m(self, old, new, **hints)\u001b[0m\n\u001b[1;32m   1152\u001b[0m rv \u001b[38;5;241m=\u001b[39m \u001b[38;5;28mself\u001b[39m\u001b[38;5;241m.\u001b[39m_eval_subs(old, new)\n\u001b[1;32m   1153\u001b[0m \u001b[38;5;28;01mif\u001b[39;00m rv \u001b[38;5;129;01mis\u001b[39;00m \u001b[38;5;28;01mNone\u001b[39;00m:\n\u001b[0;32m-> 1154\u001b[0m     rv \u001b[38;5;241m=\u001b[39m \u001b[43mfallback\u001b[49m\u001b[43m(\u001b[49m\u001b[38;5;28;43mself\u001b[39;49m\u001b[43m,\u001b[49m\u001b[43m \u001b[49m\u001b[43mold\u001b[49m\u001b[43m,\u001b[49m\u001b[43m \u001b[49m\u001b[43mnew\u001b[49m\u001b[43m)\u001b[49m\n\u001b[1;32m   1155\u001b[0m \u001b[38;5;28;01mreturn\u001b[39;00m rv\n",
      "File \u001b[0;32m~/Work/Projects/PyBayes/venv/lib/python3.10/site-packages/sympy/core/basic.py:1131\u001b[0m, in \u001b[0;36mBasic._subs.<locals>.fallback\u001b[0;34m(self, old, new)\u001b[0m\n\u001b[1;32m   1129\u001b[0m         args[i] \u001b[38;5;241m=\u001b[39m arg\n\u001b[1;32m   1130\u001b[0m \u001b[38;5;28;01mif\u001b[39;00m hit:\n\u001b[0;32m-> 1131\u001b[0m     rv \u001b[38;5;241m=\u001b[39m \u001b[38;5;28;43mself\u001b[39;49m\u001b[38;5;241;43m.\u001b[39;49m\u001b[43mfunc\u001b[49m\u001b[43m(\u001b[49m\u001b[38;5;241;43m*\u001b[39;49m\u001b[43margs\u001b[49m\u001b[43m)\u001b[49m\n\u001b[1;32m   1132\u001b[0m     hack2 \u001b[38;5;241m=\u001b[39m hints\u001b[38;5;241m.\u001b[39mget(\u001b[38;5;124m'\u001b[39m\u001b[38;5;124mhack2\u001b[39m\u001b[38;5;124m'\u001b[39m, \u001b[38;5;28;01mFalse\u001b[39;00m)\n\u001b[1;32m   1133\u001b[0m     \u001b[38;5;28;01mif\u001b[39;00m hack2 \u001b[38;5;129;01mand\u001b[39;00m \u001b[38;5;28mself\u001b[39m\u001b[38;5;241m.\u001b[39mis_Mul \u001b[38;5;129;01mand\u001b[39;00m \u001b[38;5;129;01mnot\u001b[39;00m rv\u001b[38;5;241m.\u001b[39mis_Mul:  \u001b[38;5;66;03m# 2-arg hack\u001b[39;00m\n",
      "File \u001b[0;32m~/Work/Projects/PyBayes/venv/lib/python3.10/site-packages/sympy/matrices/expressions/applyfunc.py:58\u001b[0m, in \u001b[0;36mElementwiseApplyFunction.__new__\u001b[0;34m(cls, function, expr)\u001b[0m\n\u001b[1;32m     53\u001b[0m     \u001b[38;5;28;01mraise\u001b[39;00m \u001b[38;5;167;01mValueError\u001b[39;00m(\u001b[38;5;124m\"\u001b[39m\u001b[38;5;132;01m{}\u001b[39;00m\u001b[38;5;124m must be a matrix instance.\u001b[39m\u001b[38;5;124m\"\u001b[39m\u001b[38;5;241m.\u001b[39mformat(expr))\n\u001b[1;32m     55\u001b[0m \u001b[38;5;28;01mif\u001b[39;00m expr\u001b[38;5;241m.\u001b[39mshape \u001b[38;5;241m==\u001b[39m (\u001b[38;5;241m1\u001b[39m, \u001b[38;5;241m1\u001b[39m):\n\u001b[1;32m     56\u001b[0m     \u001b[38;5;66;03m# Check if the function returns a matrix, in that case, just apply\u001b[39;00m\n\u001b[1;32m     57\u001b[0m     \u001b[38;5;66;03m# the function instead of creating an ElementwiseApplyFunc object:\u001b[39;00m\n\u001b[0;32m---> 58\u001b[0m     ret \u001b[38;5;241m=\u001b[39m \u001b[43mfunction\u001b[49m\u001b[43m(\u001b[49m\u001b[43mexpr\u001b[49m\u001b[43m)\u001b[49m\n\u001b[1;32m     59\u001b[0m     \u001b[38;5;28;01mif\u001b[39;00m \u001b[38;5;28misinstance\u001b[39m(ret, MatrixExpr):\n\u001b[1;32m     60\u001b[0m         \u001b[38;5;28;01mreturn\u001b[39;00m ret\n",
      "File \u001b[0;32m~/Work/Projects/PyBayes/venv/lib/python3.10/site-packages/sympy/core/function.py:2044\u001b[0m, in \u001b[0;36mLambda.__call__\u001b[0;34m(self, *args)\u001b[0m\n\u001b[1;32m   2036\u001b[0m     \u001b[38;5;28;01mraise\u001b[39;00m BadArgumentsError(temp \u001b[38;5;241m%\u001b[39m {\n\u001b[1;32m   2037\u001b[0m         \u001b[38;5;124m'\u001b[39m\u001b[38;5;124mname\u001b[39m\u001b[38;5;124m'\u001b[39m: \u001b[38;5;28mself\u001b[39m,\n\u001b[1;32m   2038\u001b[0m         \u001b[38;5;124m'\u001b[39m\u001b[38;5;124margs\u001b[39m\u001b[38;5;124m'\u001b[39m: \u001b[38;5;28mlist\u001b[39m(\u001b[38;5;28mself\u001b[39m\u001b[38;5;241m.\u001b[39mnargs)[\u001b[38;5;241m0\u001b[39m],\n\u001b[1;32m   2039\u001b[0m         \u001b[38;5;124m'\u001b[39m\u001b[38;5;124mplural\u001b[39m\u001b[38;5;124m'\u001b[39m: \u001b[38;5;124m'\u001b[39m\u001b[38;5;124ms\u001b[39m\u001b[38;5;124m'\u001b[39m\u001b[38;5;241m*\u001b[39m(\u001b[38;5;28mlist\u001b[39m(\u001b[38;5;28mself\u001b[39m\u001b[38;5;241m.\u001b[39mnargs)[\u001b[38;5;241m0\u001b[39m] \u001b[38;5;241m!=\u001b[39m \u001b[38;5;241m1\u001b[39m),\n\u001b[1;32m   2040\u001b[0m         \u001b[38;5;124m'\u001b[39m\u001b[38;5;124mgiven\u001b[39m\u001b[38;5;124m'\u001b[39m: n})\n\u001b[1;32m   2042\u001b[0m d \u001b[38;5;241m=\u001b[39m \u001b[38;5;28mself\u001b[39m\u001b[38;5;241m.\u001b[39m_match_signature(\u001b[38;5;28mself\u001b[39m\u001b[38;5;241m.\u001b[39msignature, args)\n\u001b[0;32m-> 2044\u001b[0m \u001b[38;5;28;01mreturn\u001b[39;00m \u001b[38;5;28;43mself\u001b[39;49m\u001b[38;5;241;43m.\u001b[39;49m\u001b[43mexpr\u001b[49m\u001b[38;5;241;43m.\u001b[39;49m\u001b[43mxreplace\u001b[49m\u001b[43m(\u001b[49m\u001b[43md\u001b[49m\u001b[43m)\u001b[49m\n",
      "File \u001b[0;32m~/Work/Projects/PyBayes/venv/lib/python3.10/site-packages/sympy/core/basic.py:1230\u001b[0m, in \u001b[0;36mBasic.xreplace\u001b[0;34m(self, rule)\u001b[0m\n\u001b[1;32m   1168\u001b[0m \u001b[38;5;28;01mdef\u001b[39;00m \u001b[38;5;21mxreplace\u001b[39m(\u001b[38;5;28mself\u001b[39m, rule):\n\u001b[1;32m   1169\u001b[0m \u001b[38;5;250m    \u001b[39m\u001b[38;5;124;03m\"\"\"\u001b[39;00m\n\u001b[1;32m   1170\u001b[0m \u001b[38;5;124;03m    Replace occurrences of objects within the expression.\u001b[39;00m\n\u001b[1;32m   1171\u001b[0m \n\u001b[0;32m   (...)\u001b[0m\n\u001b[1;32m   1228\u001b[0m \n\u001b[1;32m   1229\u001b[0m \u001b[38;5;124;03m    \"\"\"\u001b[39;00m\n\u001b[0;32m-> 1230\u001b[0m     value, _ \u001b[38;5;241m=\u001b[39m \u001b[38;5;28;43mself\u001b[39;49m\u001b[38;5;241;43m.\u001b[39;49m\u001b[43m_xreplace\u001b[49m\u001b[43m(\u001b[49m\u001b[43mrule\u001b[49m\u001b[43m)\u001b[49m\n\u001b[1;32m   1231\u001b[0m     \u001b[38;5;28;01mreturn\u001b[39;00m value\n",
      "File \u001b[0;32m~/Work/Projects/PyBayes/venv/lib/python3.10/site-packages/sympy/core/basic.py:1252\u001b[0m, in \u001b[0;36mBasic._xreplace\u001b[0;34m(self, rule)\u001b[0m\n\u001b[1;32m   1250\u001b[0m     args \u001b[38;5;241m=\u001b[39m \u001b[38;5;28mtuple\u001b[39m(args)\n\u001b[1;32m   1251\u001b[0m     \u001b[38;5;28;01mif\u001b[39;00m changed:\n\u001b[0;32m-> 1252\u001b[0m         \u001b[38;5;28;01mreturn\u001b[39;00m \u001b[38;5;28;43mself\u001b[39;49m\u001b[38;5;241;43m.\u001b[39;49m\u001b[43mfunc\u001b[49m\u001b[43m(\u001b[49m\u001b[38;5;241;43m*\u001b[39;49m\u001b[43margs\u001b[49m\u001b[43m)\u001b[49m, \u001b[38;5;28;01mTrue\u001b[39;00m\n\u001b[1;32m   1253\u001b[0m \u001b[38;5;28;01mreturn\u001b[39;00m \u001b[38;5;28mself\u001b[39m, \u001b[38;5;28;01mFalse\u001b[39;00m\n",
      "File \u001b[0;32m~/Work/Projects/PyBayes/venv/lib/python3.10/site-packages/sympy/core/cache.py:72\u001b[0m, in \u001b[0;36m__cacheit.<locals>.func_wrapper.<locals>.wrapper\u001b[0;34m(*args, **kwargs)\u001b[0m\n\u001b[1;32m     69\u001b[0m \u001b[38;5;129m@wraps\u001b[39m(func)\n\u001b[1;32m     70\u001b[0m \u001b[38;5;28;01mdef\u001b[39;00m \u001b[38;5;21mwrapper\u001b[39m(\u001b[38;5;241m*\u001b[39margs, \u001b[38;5;241m*\u001b[39m\u001b[38;5;241m*\u001b[39mkwargs):\n\u001b[1;32m     71\u001b[0m     \u001b[38;5;28;01mtry\u001b[39;00m:\n\u001b[0;32m---> 72\u001b[0m         retval \u001b[38;5;241m=\u001b[39m \u001b[43mcfunc\u001b[49m\u001b[43m(\u001b[49m\u001b[38;5;241;43m*\u001b[39;49m\u001b[43margs\u001b[49m\u001b[43m,\u001b[49m\u001b[43m \u001b[49m\u001b[38;5;241;43m*\u001b[39;49m\u001b[38;5;241;43m*\u001b[39;49m\u001b[43mkwargs\u001b[49m\u001b[43m)\u001b[49m\n\u001b[1;32m     73\u001b[0m     \u001b[38;5;28;01mexcept\u001b[39;00m \u001b[38;5;167;01mTypeError\u001b[39;00m \u001b[38;5;28;01mas\u001b[39;00m e:\n\u001b[1;32m     74\u001b[0m         \u001b[38;5;28;01mif\u001b[39;00m \u001b[38;5;129;01mnot\u001b[39;00m e\u001b[38;5;241m.\u001b[39margs \u001b[38;5;129;01mor\u001b[39;00m \u001b[38;5;129;01mnot\u001b[39;00m e\u001b[38;5;241m.\u001b[39margs[\u001b[38;5;241m0\u001b[39m]\u001b[38;5;241m.\u001b[39mstartswith(\u001b[38;5;124m'\u001b[39m\u001b[38;5;124munhashable type:\u001b[39m\u001b[38;5;124m'\u001b[39m):\n",
      "File \u001b[0;32m~/Work/Projects/PyBayes/venv/lib/python3.10/site-packages/sympy/core/function.py:466\u001b[0m, in \u001b[0;36mFunction.__new__\u001b[0;34m(cls, *args, **options)\u001b[0m\n\u001b[1;32m    458\u001b[0m     \u001b[38;5;28;01mraise\u001b[39;00m \u001b[38;5;167;01mTypeError\u001b[39;00m(temp \u001b[38;5;241m%\u001b[39m {\n\u001b[1;32m    459\u001b[0m         \u001b[38;5;124m'\u001b[39m\u001b[38;5;124mname\u001b[39m\u001b[38;5;124m'\u001b[39m: \u001b[38;5;28mcls\u001b[39m,\n\u001b[1;32m    460\u001b[0m         \u001b[38;5;124m'\u001b[39m\u001b[38;5;124mqual\u001b[39m\u001b[38;5;124m'\u001b[39m: \u001b[38;5;124m'\u001b[39m\u001b[38;5;124mexactly\u001b[39m\u001b[38;5;124m'\u001b[39m \u001b[38;5;28;01mif\u001b[39;00m \u001b[38;5;28mlen\u001b[39m(\u001b[38;5;28mcls\u001b[39m\u001b[38;5;241m.\u001b[39mnargs) \u001b[38;5;241m==\u001b[39m \u001b[38;5;241m1\u001b[39m \u001b[38;5;28;01melse\u001b[39;00m \u001b[38;5;124m'\u001b[39m\u001b[38;5;124mat least\u001b[39m\u001b[38;5;124m'\u001b[39m,\n\u001b[1;32m    461\u001b[0m         \u001b[38;5;124m'\u001b[39m\u001b[38;5;124margs\u001b[39m\u001b[38;5;124m'\u001b[39m: \u001b[38;5;28mmin\u001b[39m(\u001b[38;5;28mcls\u001b[39m\u001b[38;5;241m.\u001b[39mnargs),\n\u001b[1;32m    462\u001b[0m         \u001b[38;5;124m'\u001b[39m\u001b[38;5;124mplural\u001b[39m\u001b[38;5;124m'\u001b[39m: \u001b[38;5;124m'\u001b[39m\u001b[38;5;124ms\u001b[39m\u001b[38;5;124m'\u001b[39m\u001b[38;5;241m*\u001b[39m(\u001b[38;5;28mmin\u001b[39m(\u001b[38;5;28mcls\u001b[39m\u001b[38;5;241m.\u001b[39mnargs) \u001b[38;5;241m!=\u001b[39m \u001b[38;5;241m1\u001b[39m),\n\u001b[1;32m    463\u001b[0m         \u001b[38;5;124m'\u001b[39m\u001b[38;5;124mgiven\u001b[39m\u001b[38;5;124m'\u001b[39m: n})\n\u001b[1;32m    465\u001b[0m evaluate \u001b[38;5;241m=\u001b[39m options\u001b[38;5;241m.\u001b[39mget(\u001b[38;5;124m'\u001b[39m\u001b[38;5;124mevaluate\u001b[39m\u001b[38;5;124m'\u001b[39m, global_parameters\u001b[38;5;241m.\u001b[39mevaluate)\n\u001b[0;32m--> 466\u001b[0m result \u001b[38;5;241m=\u001b[39m \u001b[38;5;28;43msuper\u001b[39;49m\u001b[43m(\u001b[49m\u001b[43m)\u001b[49m\u001b[38;5;241;43m.\u001b[39;49m\u001b[38;5;21;43m__new__\u001b[39;49m\u001b[43m(\u001b[49m\u001b[38;5;28;43mcls\u001b[39;49m\u001b[43m,\u001b[49m\u001b[43m \u001b[49m\u001b[38;5;241;43m*\u001b[39;49m\u001b[43margs\u001b[49m\u001b[43m,\u001b[49m\u001b[43m \u001b[49m\u001b[38;5;241;43m*\u001b[39;49m\u001b[38;5;241;43m*\u001b[39;49m\u001b[43moptions\u001b[49m\u001b[43m)\u001b[49m\n\u001b[1;32m    467\u001b[0m \u001b[38;5;28;01mif\u001b[39;00m evaluate \u001b[38;5;129;01mand\u001b[39;00m \u001b[38;5;28misinstance\u001b[39m(result, \u001b[38;5;28mcls\u001b[39m) \u001b[38;5;129;01mand\u001b[39;00m result\u001b[38;5;241m.\u001b[39margs:\n\u001b[1;32m    468\u001b[0m     _should_evalf \u001b[38;5;241m=\u001b[39m [\u001b[38;5;28mcls\u001b[39m\u001b[38;5;241m.\u001b[39m_should_evalf(a) \u001b[38;5;28;01mfor\u001b[39;00m a \u001b[38;5;129;01min\u001b[39;00m result\u001b[38;5;241m.\u001b[39margs]\n",
      "File \u001b[0;32m~/Work/Projects/PyBayes/venv/lib/python3.10/site-packages/sympy/core/cache.py:72\u001b[0m, in \u001b[0;36m__cacheit.<locals>.func_wrapper.<locals>.wrapper\u001b[0;34m(*args, **kwargs)\u001b[0m\n\u001b[1;32m     69\u001b[0m \u001b[38;5;129m@wraps\u001b[39m(func)\n\u001b[1;32m     70\u001b[0m \u001b[38;5;28;01mdef\u001b[39;00m \u001b[38;5;21mwrapper\u001b[39m(\u001b[38;5;241m*\u001b[39margs, \u001b[38;5;241m*\u001b[39m\u001b[38;5;241m*\u001b[39mkwargs):\n\u001b[1;32m     71\u001b[0m     \u001b[38;5;28;01mtry\u001b[39;00m:\n\u001b[0;32m---> 72\u001b[0m         retval \u001b[38;5;241m=\u001b[39m \u001b[43mcfunc\u001b[49m\u001b[43m(\u001b[49m\u001b[38;5;241;43m*\u001b[39;49m\u001b[43margs\u001b[49m\u001b[43m,\u001b[49m\u001b[43m \u001b[49m\u001b[38;5;241;43m*\u001b[39;49m\u001b[38;5;241;43m*\u001b[39;49m\u001b[43mkwargs\u001b[49m\u001b[43m)\u001b[49m\n\u001b[1;32m     73\u001b[0m     \u001b[38;5;28;01mexcept\u001b[39;00m \u001b[38;5;167;01mTypeError\u001b[39;00m \u001b[38;5;28;01mas\u001b[39;00m e:\n\u001b[1;32m     74\u001b[0m         \u001b[38;5;28;01mif\u001b[39;00m \u001b[38;5;129;01mnot\u001b[39;00m e\u001b[38;5;241m.\u001b[39margs \u001b[38;5;129;01mor\u001b[39;00m \u001b[38;5;129;01mnot\u001b[39;00m e\u001b[38;5;241m.\u001b[39margs[\u001b[38;5;241m0\u001b[39m]\u001b[38;5;241m.\u001b[39mstartswith(\u001b[38;5;124m'\u001b[39m\u001b[38;5;124munhashable type:\u001b[39m\u001b[38;5;124m'\u001b[39m):\n",
      "File \u001b[0;32m~/Work/Projects/PyBayes/venv/lib/python3.10/site-packages/sympy/core/function.py:307\u001b[0m, in \u001b[0;36mApplication.__new__\u001b[0;34m(cls, *args, **options)\u001b[0m\n\u001b[1;32m    304\u001b[0m     \u001b[38;5;28;01mraise\u001b[39;00m \u001b[38;5;167;01mValueError\u001b[39;00m(\u001b[38;5;124m\"\u001b[39m\u001b[38;5;124mUnknown options: \u001b[39m\u001b[38;5;132;01m%s\u001b[39;00m\u001b[38;5;124m\"\u001b[39m \u001b[38;5;241m%\u001b[39m options)\n\u001b[1;32m    306\u001b[0m \u001b[38;5;28;01mif\u001b[39;00m evaluate:\n\u001b[0;32m--> 307\u001b[0m     evaluated \u001b[38;5;241m=\u001b[39m \u001b[38;5;28;43mcls\u001b[39;49m\u001b[38;5;241;43m.\u001b[39;49m\u001b[43meval\u001b[49m\u001b[43m(\u001b[49m\u001b[38;5;241;43m*\u001b[39;49m\u001b[43margs\u001b[49m\u001b[43m)\u001b[49m\n\u001b[1;32m    308\u001b[0m     \u001b[38;5;28;01mif\u001b[39;00m evaluated \u001b[38;5;129;01mis\u001b[39;00m \u001b[38;5;129;01mnot\u001b[39;00m \u001b[38;5;28;01mNone\u001b[39;00m:\n\u001b[1;32m    309\u001b[0m         \u001b[38;5;28;01mreturn\u001b[39;00m evaluated\n",
      "File \u001b[0;32m~/Work/Projects/PyBayes/venv/lib/python3.10/site-packages/sympy/functions/elementary/exponential.py:730\u001b[0m, in \u001b[0;36mlog.eval\u001b[0;34m(cls, arg, base)\u001b[0m\n\u001b[1;32m    727\u001b[0m     \u001b[38;5;28;01melif\u001b[39;00m arg \u001b[38;5;129;01mis\u001b[39;00m S\u001b[38;5;241m.\u001b[39mExp1:\n\u001b[1;32m    728\u001b[0m         \u001b[38;5;28;01mreturn\u001b[39;00m S\u001b[38;5;241m.\u001b[39mOne\n\u001b[0;32m--> 730\u001b[0m \u001b[38;5;28;01mif\u001b[39;00m \u001b[43marg\u001b[49m\u001b[38;5;241;43m.\u001b[39;49m\u001b[43mis_zero\u001b[49m:\n\u001b[1;32m    731\u001b[0m     \u001b[38;5;28;01mreturn\u001b[39;00m S\u001b[38;5;241m.\u001b[39mComplexInfinity\n\u001b[1;32m    733\u001b[0m \u001b[38;5;66;03m# don't autoexpand Pow or Mul (see the issue 3351):\u001b[39;00m\n",
      "File \u001b[0;32m~/Work/Projects/PyBayes/venv/lib/python3.10/site-packages/sympy/core/assumptions.py:503\u001b[0m, in \u001b[0;36mmake_property.<locals>.getit\u001b[0;34m(self)\u001b[0m\n\u001b[1;32m    501\u001b[0m \u001b[38;5;28;01mif\u001b[39;00m \u001b[38;5;28mself\u001b[39m\u001b[38;5;241m.\u001b[39m_assumptions \u001b[38;5;129;01mis\u001b[39;00m \u001b[38;5;28mself\u001b[39m\u001b[38;5;241m.\u001b[39mdefault_assumptions:\n\u001b[1;32m    502\u001b[0m     \u001b[38;5;28mself\u001b[39m\u001b[38;5;241m.\u001b[39m_assumptions \u001b[38;5;241m=\u001b[39m \u001b[38;5;28mself\u001b[39m\u001b[38;5;241m.\u001b[39mdefault_assumptions\u001b[38;5;241m.\u001b[39mcopy()\n\u001b[0;32m--> 503\u001b[0m \u001b[38;5;28;01mreturn\u001b[39;00m \u001b[43m_ask\u001b[49m\u001b[43m(\u001b[49m\u001b[43mfact\u001b[49m\u001b[43m,\u001b[49m\u001b[43m \u001b[49m\u001b[38;5;28;43mself\u001b[39;49m\u001b[43m)\u001b[49m\n",
      "File \u001b[0;32m~/Work/Projects/PyBayes/venv/lib/python3.10/site-packages/sympy/core/assumptions.py:559\u001b[0m, in \u001b[0;36m_ask\u001b[0;34m(fact, obj)\u001b[0m\n\u001b[1;32m    557\u001b[0m handler_i \u001b[38;5;241m=\u001b[39m handler_map\u001b[38;5;241m.\u001b[39mget(fact_i)\n\u001b[1;32m    558\u001b[0m \u001b[38;5;28;01mif\u001b[39;00m handler_i \u001b[38;5;129;01mis\u001b[39;00m \u001b[38;5;129;01mnot\u001b[39;00m \u001b[38;5;28;01mNone\u001b[39;00m:\n\u001b[0;32m--> 559\u001b[0m     fact_i_value \u001b[38;5;241m=\u001b[39m \u001b[43mhandler_i\u001b[49m\u001b[43m(\u001b[49m\u001b[43mobj\u001b[49m\u001b[43m)\u001b[49m\n\u001b[1;32m    561\u001b[0m \u001b[38;5;66;03m# If we get a new value for fact_i then we should update our knowledge\u001b[39;00m\n\u001b[1;32m    562\u001b[0m \u001b[38;5;66;03m# of fact_i as well as any related facts that can be inferred using the\u001b[39;00m\n\u001b[1;32m    563\u001b[0m \u001b[38;5;66;03m# inference rules connecting the fact_i and any other fact values that\u001b[39;00m\n\u001b[1;32m    564\u001b[0m \u001b[38;5;66;03m# are already known.\u001b[39;00m\n\u001b[1;32m    565\u001b[0m \u001b[38;5;28;01mif\u001b[39;00m fact_i_value \u001b[38;5;129;01mis\u001b[39;00m \u001b[38;5;129;01mnot\u001b[39;00m \u001b[38;5;28;01mNone\u001b[39;00m:\n",
      "File \u001b[0;32m~/Work/Projects/PyBayes/venv/lib/python3.10/site-packages/sympy/core/power.py:628\u001b[0m, in \u001b[0;36mPow._eval_is_zero\u001b[0;34m(self)\u001b[0m\n\u001b[1;32m    626\u001b[0m     \u001b[38;5;28;01mreturn\u001b[39;00m \u001b[38;5;28mself\u001b[39m\u001b[38;5;241m.\u001b[39mexp \u001b[38;5;129;01mis\u001b[39;00m S\u001b[38;5;241m.\u001b[39mNegativeInfinity\n\u001b[1;32m    627\u001b[0m \u001b[38;5;28;01melif\u001b[39;00m \u001b[38;5;28mself\u001b[39m\u001b[38;5;241m.\u001b[39mbase\u001b[38;5;241m.\u001b[39mis_zero \u001b[38;5;129;01mis\u001b[39;00m \u001b[38;5;28;01mFalse\u001b[39;00m:\n\u001b[0;32m--> 628\u001b[0m     \u001b[38;5;28;01mif\u001b[39;00m \u001b[38;5;28;43mself\u001b[39;49m\u001b[38;5;241;43m.\u001b[39;49m\u001b[43mbase\u001b[49m\u001b[38;5;241;43m.\u001b[39;49m\u001b[43mis_finite\u001b[49m \u001b[38;5;129;01mand\u001b[39;00m \u001b[38;5;28mself\u001b[39m\u001b[38;5;241m.\u001b[39mexp\u001b[38;5;241m.\u001b[39mis_finite:\n\u001b[1;32m    629\u001b[0m         \u001b[38;5;28;01mreturn\u001b[39;00m \u001b[38;5;28;01mFalse\u001b[39;00m\n\u001b[1;32m    630\u001b[0m     \u001b[38;5;28;01melif\u001b[39;00m \u001b[38;5;28mself\u001b[39m\u001b[38;5;241m.\u001b[39mexp\u001b[38;5;241m.\u001b[39mis_negative:\n",
      "File \u001b[0;32m~/Work/Projects/PyBayes/venv/lib/python3.10/site-packages/sympy/core/assumptions.py:503\u001b[0m, in \u001b[0;36mmake_property.<locals>.getit\u001b[0;34m(self)\u001b[0m\n\u001b[1;32m    501\u001b[0m \u001b[38;5;28;01mif\u001b[39;00m \u001b[38;5;28mself\u001b[39m\u001b[38;5;241m.\u001b[39m_assumptions \u001b[38;5;129;01mis\u001b[39;00m \u001b[38;5;28mself\u001b[39m\u001b[38;5;241m.\u001b[39mdefault_assumptions:\n\u001b[1;32m    502\u001b[0m     \u001b[38;5;28mself\u001b[39m\u001b[38;5;241m.\u001b[39m_assumptions \u001b[38;5;241m=\u001b[39m \u001b[38;5;28mself\u001b[39m\u001b[38;5;241m.\u001b[39mdefault_assumptions\u001b[38;5;241m.\u001b[39mcopy()\n\u001b[0;32m--> 503\u001b[0m \u001b[38;5;28;01mreturn\u001b[39;00m \u001b[43m_ask\u001b[49m\u001b[43m(\u001b[49m\u001b[43mfact\u001b[49m\u001b[43m,\u001b[49m\u001b[43m \u001b[49m\u001b[38;5;28;43mself\u001b[39;49m\u001b[43m)\u001b[49m\n",
      "File \u001b[0;32m~/Work/Projects/PyBayes/venv/lib/python3.10/site-packages/sympy/core/assumptions.py:559\u001b[0m, in \u001b[0;36m_ask\u001b[0;34m(fact, obj)\u001b[0m\n\u001b[1;32m    557\u001b[0m handler_i \u001b[38;5;241m=\u001b[39m handler_map\u001b[38;5;241m.\u001b[39mget(fact_i)\n\u001b[1;32m    558\u001b[0m \u001b[38;5;28;01mif\u001b[39;00m handler_i \u001b[38;5;129;01mis\u001b[39;00m \u001b[38;5;129;01mnot\u001b[39;00m \u001b[38;5;28;01mNone\u001b[39;00m:\n\u001b[0;32m--> 559\u001b[0m     fact_i_value \u001b[38;5;241m=\u001b[39m \u001b[43mhandler_i\u001b[49m\u001b[43m(\u001b[49m\u001b[43mobj\u001b[49m\u001b[43m)\u001b[49m\n\u001b[1;32m    561\u001b[0m \u001b[38;5;66;03m# If we get a new value for fact_i then we should update our knowledge\u001b[39;00m\n\u001b[1;32m    562\u001b[0m \u001b[38;5;66;03m# of fact_i as well as any related facts that can be inferred using the\u001b[39;00m\n\u001b[1;32m    563\u001b[0m \u001b[38;5;66;03m# inference rules connecting the fact_i and any other fact values that\u001b[39;00m\n\u001b[1;32m    564\u001b[0m \u001b[38;5;66;03m# are already known.\u001b[39;00m\n\u001b[1;32m    565\u001b[0m \u001b[38;5;28;01mif\u001b[39;00m fact_i_value \u001b[38;5;129;01mis\u001b[39;00m \u001b[38;5;129;01mnot\u001b[39;00m \u001b[38;5;28;01mNone\u001b[39;00m:\n",
      "File \u001b[0;32m~/Work/Projects/PyBayes/venv/lib/python3.10/site-packages/sympy/core/add.py:644\u001b[0m, in \u001b[0;36mAdd.<lambda>\u001b[0;34m(self)\u001b[0m\n\u001b[1;32m    640\u001b[0m _eval_is_antihermitian \u001b[38;5;241m=\u001b[39m \u001b[38;5;28;01mlambda\u001b[39;00m \u001b[38;5;28mself\u001b[39m: _fuzzy_group(\n\u001b[1;32m    641\u001b[0m     (a\u001b[38;5;241m.\u001b[39mis_antihermitian \u001b[38;5;28;01mfor\u001b[39;00m a \u001b[38;5;129;01min\u001b[39;00m \u001b[38;5;28mself\u001b[39m\u001b[38;5;241m.\u001b[39margs), quick_exit\u001b[38;5;241m=\u001b[39m\u001b[38;5;28;01mTrue\u001b[39;00m)\n\u001b[1;32m    642\u001b[0m _eval_is_finite \u001b[38;5;241m=\u001b[39m \u001b[38;5;28;01mlambda\u001b[39;00m \u001b[38;5;28mself\u001b[39m: _fuzzy_group(\n\u001b[1;32m    643\u001b[0m     (a\u001b[38;5;241m.\u001b[39mis_finite \u001b[38;5;28;01mfor\u001b[39;00m a \u001b[38;5;129;01min\u001b[39;00m \u001b[38;5;28mself\u001b[39m\u001b[38;5;241m.\u001b[39margs), quick_exit\u001b[38;5;241m=\u001b[39m\u001b[38;5;28;01mTrue\u001b[39;00m)\n\u001b[0;32m--> 644\u001b[0m _eval_is_hermitian \u001b[38;5;241m=\u001b[39m \u001b[38;5;28;01mlambda\u001b[39;00m \u001b[38;5;28mself\u001b[39m: \u001b[43m_fuzzy_group\u001b[49m\u001b[43m(\u001b[49m\n\u001b[1;32m    645\u001b[0m \u001b[43m    \u001b[49m\u001b[43m(\u001b[49m\u001b[43ma\u001b[49m\u001b[38;5;241;43m.\u001b[39;49m\u001b[43mis_hermitian\u001b[49m\u001b[43m \u001b[49m\u001b[38;5;28;43;01mfor\u001b[39;49;00m\u001b[43m \u001b[49m\u001b[43ma\u001b[49m\u001b[43m \u001b[49m\u001b[38;5;129;43;01min\u001b[39;49;00m\u001b[43m \u001b[49m\u001b[38;5;28;43mself\u001b[39;49m\u001b[38;5;241;43m.\u001b[39;49m\u001b[43margs\u001b[49m\u001b[43m)\u001b[49m\u001b[43m,\u001b[49m\u001b[43m \u001b[49m\u001b[43mquick_exit\u001b[49m\u001b[38;5;241;43m=\u001b[39;49m\u001b[38;5;28;43;01mTrue\u001b[39;49;00m\u001b[43m)\u001b[49m\n\u001b[1;32m    646\u001b[0m _eval_is_integer \u001b[38;5;241m=\u001b[39m \u001b[38;5;28;01mlambda\u001b[39;00m \u001b[38;5;28mself\u001b[39m: _fuzzy_group(\n\u001b[1;32m    647\u001b[0m     (a\u001b[38;5;241m.\u001b[39mis_integer \u001b[38;5;28;01mfor\u001b[39;00m a \u001b[38;5;129;01min\u001b[39;00m \u001b[38;5;28mself\u001b[39m\u001b[38;5;241m.\u001b[39margs), quick_exit\u001b[38;5;241m=\u001b[39m\u001b[38;5;28;01mTrue\u001b[39;00m)\n\u001b[1;32m    648\u001b[0m _eval_is_rational \u001b[38;5;241m=\u001b[39m \u001b[38;5;28;01mlambda\u001b[39;00m \u001b[38;5;28mself\u001b[39m: _fuzzy_group(\n\u001b[1;32m    649\u001b[0m     (a\u001b[38;5;241m.\u001b[39mis_rational \u001b[38;5;28;01mfor\u001b[39;00m a \u001b[38;5;129;01min\u001b[39;00m \u001b[38;5;28mself\u001b[39m\u001b[38;5;241m.\u001b[39margs), quick_exit\u001b[38;5;241m=\u001b[39m\u001b[38;5;28;01mTrue\u001b[39;00m)\n",
      "File \u001b[0;32m~/Work/Projects/PyBayes/venv/lib/python3.10/site-packages/sympy/core/logic.py:81\u001b[0m, in \u001b[0;36m_fuzzy_group\u001b[0;34m(args, quick_exit)\u001b[0m\n\u001b[1;32m     44\u001b[0m \u001b[38;5;250m\u001b[39m\u001b[38;5;124;03m\"\"\"Return True if all args are True, None if there is any None else False\u001b[39;00m\n\u001b[1;32m     45\u001b[0m \u001b[38;5;124;03munless ``quick_exit`` is True (then return None as soon as a second False\u001b[39;00m\n\u001b[1;32m     46\u001b[0m \u001b[38;5;124;03mis seen.\u001b[39;00m\n\u001b[0;32m   (...)\u001b[0m\n\u001b[1;32m     78\u001b[0m \n\u001b[1;32m     79\u001b[0m \u001b[38;5;124;03m\"\"\"\u001b[39;00m\n\u001b[1;32m     80\u001b[0m saw_other \u001b[38;5;241m=\u001b[39m \u001b[38;5;28;01mFalse\u001b[39;00m\n\u001b[0;32m---> 81\u001b[0m \u001b[38;5;28;01mfor\u001b[39;00m a \u001b[38;5;129;01min\u001b[39;00m args:\n\u001b[1;32m     82\u001b[0m     \u001b[38;5;28;01mif\u001b[39;00m a \u001b[38;5;129;01mis\u001b[39;00m \u001b[38;5;28;01mTrue\u001b[39;00m:\n\u001b[1;32m     83\u001b[0m         \u001b[38;5;28;01mcontinue\u001b[39;00m\n",
      "File \u001b[0;32m~/Work/Projects/PyBayes/venv/lib/python3.10/site-packages/sympy/core/add.py:645\u001b[0m, in \u001b[0;36m<genexpr>\u001b[0;34m(.0)\u001b[0m\n\u001b[1;32m    640\u001b[0m _eval_is_antihermitian \u001b[38;5;241m=\u001b[39m \u001b[38;5;28;01mlambda\u001b[39;00m \u001b[38;5;28mself\u001b[39m: _fuzzy_group(\n\u001b[1;32m    641\u001b[0m     (a\u001b[38;5;241m.\u001b[39mis_antihermitian \u001b[38;5;28;01mfor\u001b[39;00m a \u001b[38;5;129;01min\u001b[39;00m \u001b[38;5;28mself\u001b[39m\u001b[38;5;241m.\u001b[39margs), quick_exit\u001b[38;5;241m=\u001b[39m\u001b[38;5;28;01mTrue\u001b[39;00m)\n\u001b[1;32m    642\u001b[0m _eval_is_finite \u001b[38;5;241m=\u001b[39m \u001b[38;5;28;01mlambda\u001b[39;00m \u001b[38;5;28mself\u001b[39m: _fuzzy_group(\n\u001b[1;32m    643\u001b[0m     (a\u001b[38;5;241m.\u001b[39mis_finite \u001b[38;5;28;01mfor\u001b[39;00m a \u001b[38;5;129;01min\u001b[39;00m \u001b[38;5;28mself\u001b[39m\u001b[38;5;241m.\u001b[39margs), quick_exit\u001b[38;5;241m=\u001b[39m\u001b[38;5;28;01mTrue\u001b[39;00m)\n\u001b[1;32m    644\u001b[0m _eval_is_hermitian \u001b[38;5;241m=\u001b[39m \u001b[38;5;28;01mlambda\u001b[39;00m \u001b[38;5;28mself\u001b[39m: _fuzzy_group(\n\u001b[0;32m--> 645\u001b[0m     (\u001b[43ma\u001b[49m\u001b[38;5;241;43m.\u001b[39;49m\u001b[43mis_hermitian\u001b[49m \u001b[38;5;28;01mfor\u001b[39;00m a \u001b[38;5;129;01min\u001b[39;00m \u001b[38;5;28mself\u001b[39m\u001b[38;5;241m.\u001b[39margs), quick_exit\u001b[38;5;241m=\u001b[39m\u001b[38;5;28;01mTrue\u001b[39;00m)\n\u001b[1;32m    646\u001b[0m _eval_is_integer \u001b[38;5;241m=\u001b[39m \u001b[38;5;28;01mlambda\u001b[39;00m \u001b[38;5;28mself\u001b[39m: _fuzzy_group(\n\u001b[1;32m    647\u001b[0m     (a\u001b[38;5;241m.\u001b[39mis_integer \u001b[38;5;28;01mfor\u001b[39;00m a \u001b[38;5;129;01min\u001b[39;00m \u001b[38;5;28mself\u001b[39m\u001b[38;5;241m.\u001b[39margs), quick_exit\u001b[38;5;241m=\u001b[39m\u001b[38;5;28;01mTrue\u001b[39;00m)\n\u001b[1;32m    648\u001b[0m _eval_is_rational \u001b[38;5;241m=\u001b[39m \u001b[38;5;28;01mlambda\u001b[39;00m \u001b[38;5;28mself\u001b[39m: _fuzzy_group(\n\u001b[1;32m    649\u001b[0m     (a\u001b[38;5;241m.\u001b[39mis_rational \u001b[38;5;28;01mfor\u001b[39;00m a \u001b[38;5;129;01min\u001b[39;00m \u001b[38;5;28mself\u001b[39m\u001b[38;5;241m.\u001b[39margs), quick_exit\u001b[38;5;241m=\u001b[39m\u001b[38;5;28;01mTrue\u001b[39;00m)\n",
      "File \u001b[0;32m~/Work/Projects/PyBayes/venv/lib/python3.10/site-packages/sympy/matrices/common.py:1627\u001b[0m, in \u001b[0;36mMatrixProperties.is_hermitian\u001b[0;34m(self)\u001b[0m\n\u001b[1;32m   1624\u001b[0m \u001b[38;5;28;01mif\u001b[39;00m \u001b[38;5;129;01mnot\u001b[39;00m \u001b[38;5;28mself\u001b[39m\u001b[38;5;241m.\u001b[39mis_square:\n\u001b[1;32m   1625\u001b[0m     \u001b[38;5;28;01mreturn\u001b[39;00m \u001b[38;5;28;01mFalse\u001b[39;00m\n\u001b[0;32m-> 1627\u001b[0m \u001b[38;5;28;01mreturn\u001b[39;00m \u001b[38;5;28;43mself\u001b[39;49m\u001b[38;5;241;43m.\u001b[39;49m\u001b[43m_eval_is_matrix_hermitian\u001b[49m\u001b[43m(\u001b[49m\u001b[43m_simplify\u001b[49m\u001b[43m)\u001b[49m\n",
      "File \u001b[0;32m~/Work/Projects/PyBayes/venv/lib/python3.10/site-packages/sympy/matrices/common.py:1264\u001b[0m, in \u001b[0;36mMatrixProperties._eval_is_matrix_hermitian\u001b[0;34m(self, simpfunc)\u001b[0m\n\u001b[1;32m   1263\u001b[0m \u001b[38;5;28;01mdef\u001b[39;00m \u001b[38;5;21m_eval_is_matrix_hermitian\u001b[39m(\u001b[38;5;28mself\u001b[39m, simpfunc):\n\u001b[0;32m-> 1264\u001b[0m     mat \u001b[38;5;241m=\u001b[39m \u001b[38;5;28;43mself\u001b[39;49m\u001b[38;5;241;43m.\u001b[39;49m\u001b[43m_new\u001b[49m\u001b[43m(\u001b[49m\u001b[38;5;28;43mself\u001b[39;49m\u001b[38;5;241;43m.\u001b[39;49m\u001b[43mrows\u001b[49m\u001b[43m,\u001b[49m\u001b[43m \u001b[49m\u001b[38;5;28;43mself\u001b[39;49m\u001b[38;5;241;43m.\u001b[39;49m\u001b[43mcols\u001b[49m\u001b[43m,\u001b[49m\u001b[43m \u001b[49m\u001b[38;5;28;43;01mlambda\u001b[39;49;00m\u001b[43m \u001b[49m\u001b[43mi\u001b[49m\u001b[43m,\u001b[49m\u001b[43m \u001b[49m\u001b[43mj\u001b[49m\u001b[43m:\u001b[49m\u001b[43m \u001b[49m\u001b[43msimpfunc\u001b[49m\u001b[43m(\u001b[49m\u001b[38;5;28;43mself\u001b[39;49m\u001b[43m[\u001b[49m\u001b[43mi\u001b[49m\u001b[43m,\u001b[49m\u001b[43m \u001b[49m\u001b[43mj\u001b[49m\u001b[43m]\u001b[49m\u001b[43m \u001b[49m\u001b[38;5;241;43m-\u001b[39;49m\u001b[43m \u001b[49m\u001b[38;5;28;43mself\u001b[39;49m\u001b[43m[\u001b[49m\u001b[43mj\u001b[49m\u001b[43m,\u001b[49m\u001b[43m \u001b[49m\u001b[43mi\u001b[49m\u001b[43m]\u001b[49m\u001b[38;5;241;43m.\u001b[39;49m\u001b[43mconjugate\u001b[49m\u001b[43m(\u001b[49m\u001b[43m)\u001b[49m\u001b[43m)\u001b[49m\u001b[43m)\u001b[49m\n\u001b[1;32m   1265\u001b[0m     \u001b[38;5;28;01mreturn\u001b[39;00m mat\u001b[38;5;241m.\u001b[39mis_zero_matrix\n",
      "File \u001b[0;32m~/Work/Projects/PyBayes/venv/lib/python3.10/site-packages/sympy/matrices/immutable.py:113\u001b[0m, in \u001b[0;36mImmutableDenseMatrix._new\u001b[0;34m(cls, *args, **kwargs)\u001b[0m\n\u001b[1;32m    111\u001b[0m     rows, cols, flat_list \u001b[38;5;241m=\u001b[39m args\n\u001b[1;32m    112\u001b[0m \u001b[38;5;28;01melse\u001b[39;00m:\n\u001b[0;32m--> 113\u001b[0m     rows, cols, flat_list \u001b[38;5;241m=\u001b[39m \u001b[38;5;28;43mcls\u001b[39;49m\u001b[38;5;241;43m.\u001b[39;49m\u001b[43m_handle_creation_inputs\u001b[49m\u001b[43m(\u001b[49m\u001b[38;5;241;43m*\u001b[39;49m\u001b[43margs\u001b[49m\u001b[43m,\u001b[49m\u001b[43m \u001b[49m\u001b[38;5;241;43m*\u001b[39;49m\u001b[38;5;241;43m*\u001b[39;49m\u001b[43mkwargs\u001b[49m\u001b[43m)\u001b[49m\n\u001b[1;32m    114\u001b[0m     flat_list \u001b[38;5;241m=\u001b[39m \u001b[38;5;28mlist\u001b[39m(flat_list) \u001b[38;5;66;03m# create a shallow copy\u001b[39;00m\n\u001b[1;32m    116\u001b[0m rep \u001b[38;5;241m=\u001b[39m \u001b[38;5;28mcls\u001b[39m\u001b[38;5;241m.\u001b[39m_flat_list_to_DomainMatrix(rows, cols, flat_list)\n",
      "File \u001b[0;32m~/Work/Projects/PyBayes/venv/lib/python3.10/site-packages/sympy/matrices/matrices.py:1089\u001b[0m, in \u001b[0;36mMatrixBase._handle_creation_inputs\u001b[0;34m(cls, *args, **kwargs)\u001b[0m\n\u001b[1;32m   1086\u001b[0m     flat_list \u001b[38;5;241m=\u001b[39m []\n\u001b[1;32m   1087\u001b[0m     \u001b[38;5;28;01mfor\u001b[39;00m i \u001b[38;5;129;01min\u001b[39;00m \u001b[38;5;28mrange\u001b[39m(rows):\n\u001b[1;32m   1088\u001b[0m         flat_list\u001b[38;5;241m.\u001b[39mextend(\n\u001b[0;32m-> 1089\u001b[0m             [\u001b[38;5;28mcls\u001b[39m\u001b[38;5;241m.\u001b[39m_sympify(op(\u001b[38;5;28mcls\u001b[39m\u001b[38;5;241m.\u001b[39m_sympify(i), \u001b[38;5;28mcls\u001b[39m\u001b[38;5;241m.\u001b[39m_sympify(j)))\n\u001b[1;32m   1090\u001b[0m              \u001b[38;5;28;01mfor\u001b[39;00m j \u001b[38;5;129;01min\u001b[39;00m \u001b[38;5;28mrange\u001b[39m(cols)])\n\u001b[1;32m   1092\u001b[0m \u001b[38;5;66;03m# Matrix(2, 2, [1, 2, 3, 4])\u001b[39;00m\n\u001b[1;32m   1093\u001b[0m \u001b[38;5;28;01melif\u001b[39;00m \u001b[38;5;28mlen\u001b[39m(args) \u001b[38;5;241m==\u001b[39m \u001b[38;5;241m3\u001b[39m \u001b[38;5;129;01mand\u001b[39;00m is_sequence(args[\u001b[38;5;241m2\u001b[39m]):\n",
      "File \u001b[0;32m~/Work/Projects/PyBayes/venv/lib/python3.10/site-packages/sympy/matrices/matrices.py:1089\u001b[0m, in \u001b[0;36m<listcomp>\u001b[0;34m(.0)\u001b[0m\n\u001b[1;32m   1086\u001b[0m     flat_list \u001b[38;5;241m=\u001b[39m []\n\u001b[1;32m   1087\u001b[0m     \u001b[38;5;28;01mfor\u001b[39;00m i \u001b[38;5;129;01min\u001b[39;00m \u001b[38;5;28mrange\u001b[39m(rows):\n\u001b[1;32m   1088\u001b[0m         flat_list\u001b[38;5;241m.\u001b[39mextend(\n\u001b[0;32m-> 1089\u001b[0m             [\u001b[38;5;28mcls\u001b[39m\u001b[38;5;241m.\u001b[39m_sympify(\u001b[43mop\u001b[49m\u001b[43m(\u001b[49m\u001b[38;5;28;43mcls\u001b[39;49m\u001b[38;5;241;43m.\u001b[39;49m\u001b[43m_sympify\u001b[49m\u001b[43m(\u001b[49m\u001b[43mi\u001b[49m\u001b[43m)\u001b[49m\u001b[43m,\u001b[49m\u001b[43m \u001b[49m\u001b[38;5;28;43mcls\u001b[39;49m\u001b[38;5;241;43m.\u001b[39;49m\u001b[43m_sympify\u001b[49m\u001b[43m(\u001b[49m\u001b[43mj\u001b[49m\u001b[43m)\u001b[49m\u001b[43m)\u001b[49m)\n\u001b[1;32m   1090\u001b[0m              \u001b[38;5;28;01mfor\u001b[39;00m j \u001b[38;5;129;01min\u001b[39;00m \u001b[38;5;28mrange\u001b[39m(cols)])\n\u001b[1;32m   1092\u001b[0m \u001b[38;5;66;03m# Matrix(2, 2, [1, 2, 3, 4])\u001b[39;00m\n\u001b[1;32m   1093\u001b[0m \u001b[38;5;28;01melif\u001b[39;00m \u001b[38;5;28mlen\u001b[39m(args) \u001b[38;5;241m==\u001b[39m \u001b[38;5;241m3\u001b[39m \u001b[38;5;129;01mand\u001b[39;00m is_sequence(args[\u001b[38;5;241m2\u001b[39m]):\n",
      "File \u001b[0;32m~/Work/Projects/PyBayes/venv/lib/python3.10/site-packages/sympy/matrices/common.py:1264\u001b[0m, in \u001b[0;36mMatrixProperties._eval_is_matrix_hermitian.<locals>.<lambda>\u001b[0;34m(i, j)\u001b[0m\n\u001b[1;32m   1263\u001b[0m \u001b[38;5;28;01mdef\u001b[39;00m \u001b[38;5;21m_eval_is_matrix_hermitian\u001b[39m(\u001b[38;5;28mself\u001b[39m, simpfunc):\n\u001b[0;32m-> 1264\u001b[0m     mat \u001b[38;5;241m=\u001b[39m \u001b[38;5;28mself\u001b[39m\u001b[38;5;241m.\u001b[39m_new(\u001b[38;5;28mself\u001b[39m\u001b[38;5;241m.\u001b[39mrows, \u001b[38;5;28mself\u001b[39m\u001b[38;5;241m.\u001b[39mcols, \u001b[38;5;28;01mlambda\u001b[39;00m i, j: \u001b[43msimpfunc\u001b[49m\u001b[43m(\u001b[49m\u001b[38;5;28;43mself\u001b[39;49m\u001b[43m[\u001b[49m\u001b[43mi\u001b[49m\u001b[43m,\u001b[49m\u001b[43m \u001b[49m\u001b[43mj\u001b[49m\u001b[43m]\u001b[49m\u001b[43m \u001b[49m\u001b[38;5;241;43m-\u001b[39;49m\u001b[43m \u001b[49m\u001b[38;5;28;43mself\u001b[39;49m\u001b[43m[\u001b[49m\u001b[43mj\u001b[49m\u001b[43m,\u001b[49m\u001b[43m \u001b[49m\u001b[43mi\u001b[49m\u001b[43m]\u001b[49m\u001b[38;5;241;43m.\u001b[39;49m\u001b[43mconjugate\u001b[49m\u001b[43m(\u001b[49m\u001b[43m)\u001b[49m\u001b[43m)\u001b[49m)\n\u001b[1;32m   1265\u001b[0m     \u001b[38;5;28;01mreturn\u001b[39;00m mat\u001b[38;5;241m.\u001b[39mis_zero_matrix\n",
      "File \u001b[0;32m~/Work/Projects/PyBayes/venv/lib/python3.10/site-packages/sympy/matrices/utilities.py:72\u001b[0m, in \u001b[0;36m_simplify\u001b[0;34m(expr)\u001b[0m\n\u001b[1;32m     70\u001b[0m \u001b[38;5;250m\u001b[39m\u001b[38;5;124;03m\"\"\" Wrapper to avoid circular imports. \"\"\"\u001b[39;00m\n\u001b[1;32m     71\u001b[0m \u001b[38;5;28;01mfrom\u001b[39;00m \u001b[38;5;21;01msympy\u001b[39;00m\u001b[38;5;21;01m.\u001b[39;00m\u001b[38;5;21;01msimplify\u001b[39;00m\u001b[38;5;21;01m.\u001b[39;00m\u001b[38;5;21;01msimplify\u001b[39;00m \u001b[38;5;28;01mimport\u001b[39;00m simplify\n\u001b[0;32m---> 72\u001b[0m \u001b[38;5;28;01mreturn\u001b[39;00m \u001b[43msimplify\u001b[49m\u001b[43m(\u001b[49m\u001b[43mexpr\u001b[49m\u001b[43m)\u001b[49m\n",
      "File \u001b[0;32m~/Work/Projects/PyBayes/venv/lib/python3.10/site-packages/sympy/simplify/simplify.py:629\u001b[0m, in \u001b[0;36msimplify\u001b[0;34m(expr, ratio, measure, rational, inverse, doit, **kwargs)\u001b[0m\n\u001b[1;32m    626\u001b[0m     \u001b[38;5;28;01mreturn\u001b[39;00m done(expr)\n\u001b[1;32m    628\u001b[0m \u001b[38;5;28;01mif\u001b[39;00m \u001b[38;5;129;01mnot\u001b[39;00m expr\u001b[38;5;241m.\u001b[39mis_commutative:\n\u001b[0;32m--> 629\u001b[0m     expr \u001b[38;5;241m=\u001b[39m \u001b[43mnc_simplify\u001b[49m\u001b[43m(\u001b[49m\u001b[43mexpr\u001b[49m\u001b[43m)\u001b[49m\n\u001b[1;32m    631\u001b[0m \u001b[38;5;66;03m# TODO: Apply different strategies, considering expression pattern:\u001b[39;00m\n\u001b[1;32m    632\u001b[0m \u001b[38;5;66;03m# is it a purely rational function? Is there any trigonometric function?...\u001b[39;00m\n\u001b[1;32m    633\u001b[0m \u001b[38;5;66;03m# See also https://github.com/sympy/sympy/pull/185.\u001b[39;00m\n\u001b[1;32m    634\u001b[0m \n\u001b[1;32m    635\u001b[0m \n\u001b[1;32m    636\u001b[0m \u001b[38;5;66;03m# rationalize Floats\u001b[39;00m\n\u001b[1;32m    637\u001b[0m floats \u001b[38;5;241m=\u001b[39m \u001b[38;5;28;01mFalse\u001b[39;00m\n",
      "File \u001b[0;32m~/Work/Projects/PyBayes/venv/lib/python3.10/site-packages/sympy/simplify/simplify.py:1756\u001b[0m, in \u001b[0;36mnc_simplify\u001b[0;34m(expr, deep)\u001b[0m\n\u001b[1;32m   1754\u001b[0m         \u001b[38;5;28;01mreturn\u001b[39;00m expr\n\u001b[1;32m   1755\u001b[0m \u001b[38;5;28;01melif\u001b[39;00m \u001b[38;5;28misinstance\u001b[39m(expr, _Add):\n\u001b[0;32m-> 1756\u001b[0m     \u001b[38;5;28;01mreturn\u001b[39;00m _Add(\u001b[38;5;241m*\u001b[39m[nc_simplify(a, deep\u001b[38;5;241m=\u001b[39mdeep) \u001b[38;5;28;01mfor\u001b[39;00m a \u001b[38;5;129;01min\u001b[39;00m args])\u001b[38;5;241m.\u001b[39mdoit()\n\u001b[1;32m   1757\u001b[0m \u001b[38;5;28;01melse\u001b[39;00m:\n\u001b[1;32m   1758\u001b[0m     \u001b[38;5;66;03m# get the non-commutative part\u001b[39;00m\n\u001b[1;32m   1759\u001b[0m     c_args, args \u001b[38;5;241m=\u001b[39m expr\u001b[38;5;241m.\u001b[39margs_cnc()\n",
      "File \u001b[0;32m~/Work/Projects/PyBayes/venv/lib/python3.10/site-packages/sympy/simplify/simplify.py:1756\u001b[0m, in \u001b[0;36m<listcomp>\u001b[0;34m(.0)\u001b[0m\n\u001b[1;32m   1754\u001b[0m         \u001b[38;5;28;01mreturn\u001b[39;00m expr\n\u001b[1;32m   1755\u001b[0m \u001b[38;5;28;01melif\u001b[39;00m \u001b[38;5;28misinstance\u001b[39m(expr, _Add):\n\u001b[0;32m-> 1756\u001b[0m     \u001b[38;5;28;01mreturn\u001b[39;00m _Add(\u001b[38;5;241m*\u001b[39m[\u001b[43mnc_simplify\u001b[49m\u001b[43m(\u001b[49m\u001b[43ma\u001b[49m\u001b[43m,\u001b[49m\u001b[43m \u001b[49m\u001b[43mdeep\u001b[49m\u001b[38;5;241;43m=\u001b[39;49m\u001b[43mdeep\u001b[49m\u001b[43m)\u001b[49m \u001b[38;5;28;01mfor\u001b[39;00m a \u001b[38;5;129;01min\u001b[39;00m args])\u001b[38;5;241m.\u001b[39mdoit()\n\u001b[1;32m   1757\u001b[0m \u001b[38;5;28;01melse\u001b[39;00m:\n\u001b[1;32m   1758\u001b[0m     \u001b[38;5;66;03m# get the non-commutative part\u001b[39;00m\n\u001b[1;32m   1759\u001b[0m     c_args, args \u001b[38;5;241m=\u001b[39m expr\u001b[38;5;241m.\u001b[39margs_cnc()\n",
      "File \u001b[0;32m~/Work/Projects/PyBayes/venv/lib/python3.10/site-packages/sympy/simplify/simplify.py:1762\u001b[0m, in \u001b[0;36mnc_simplify\u001b[0;34m(expr, deep)\u001b[0m\n\u001b[1;32m   1760\u001b[0m     com_coeff \u001b[38;5;241m=\u001b[39m Mul(\u001b[38;5;241m*\u001b[39mc_args)\n\u001b[1;32m   1761\u001b[0m     \u001b[38;5;28;01mif\u001b[39;00m com_coeff \u001b[38;5;241m!=\u001b[39m \u001b[38;5;241m1\u001b[39m:\n\u001b[0;32m-> 1762\u001b[0m         \u001b[38;5;28;01mreturn\u001b[39;00m com_coeff\u001b[38;5;241m*\u001b[39m\u001b[43mnc_simplify\u001b[49m\u001b[43m(\u001b[49m\u001b[43mexpr\u001b[49m\u001b[38;5;241;43m/\u001b[39;49m\u001b[43mcom_coeff\u001b[49m\u001b[43m,\u001b[49m\u001b[43m \u001b[49m\u001b[43mdeep\u001b[49m\u001b[38;5;241;43m=\u001b[39;49m\u001b[43mdeep\u001b[49m\u001b[43m)\u001b[49m\n\u001b[1;32m   1764\u001b[0m inv_tot, args \u001b[38;5;241m=\u001b[39m _reduce_inverses(args)\n\u001b[1;32m   1765\u001b[0m \u001b[38;5;66;03m# if most arguments are negative, work with the inverse\u001b[39;00m\n\u001b[1;32m   1766\u001b[0m \u001b[38;5;66;03m# of the expression, e.g. a**-1*b*a**-1*c**-1 will become\u001b[39;00m\n\u001b[1;32m   1767\u001b[0m \u001b[38;5;66;03m# (c*a*b**-1*a)**-1 at the end so can work with c*a*b**-1*a\u001b[39;00m\n",
      "File \u001b[0;32m~/Work/Projects/PyBayes/venv/lib/python3.10/site-packages/sympy/simplify/simplify.py:1762\u001b[0m, in \u001b[0;36mnc_simplify\u001b[0;34m(expr, deep)\u001b[0m\n\u001b[1;32m   1760\u001b[0m     com_coeff \u001b[38;5;241m=\u001b[39m Mul(\u001b[38;5;241m*\u001b[39mc_args)\n\u001b[1;32m   1761\u001b[0m     \u001b[38;5;28;01mif\u001b[39;00m com_coeff \u001b[38;5;241m!=\u001b[39m \u001b[38;5;241m1\u001b[39m:\n\u001b[0;32m-> 1762\u001b[0m         \u001b[38;5;28;01mreturn\u001b[39;00m com_coeff\u001b[38;5;241m*\u001b[39m\u001b[43mnc_simplify\u001b[49m\u001b[43m(\u001b[49m\u001b[43mexpr\u001b[49m\u001b[38;5;241;43m/\u001b[39;49m\u001b[43mcom_coeff\u001b[49m\u001b[43m,\u001b[49m\u001b[43m \u001b[49m\u001b[43mdeep\u001b[49m\u001b[38;5;241;43m=\u001b[39;49m\u001b[43mdeep\u001b[49m\u001b[43m)\u001b[49m\n\u001b[1;32m   1764\u001b[0m inv_tot, args \u001b[38;5;241m=\u001b[39m _reduce_inverses(args)\n\u001b[1;32m   1765\u001b[0m \u001b[38;5;66;03m# if most arguments are negative, work with the inverse\u001b[39;00m\n\u001b[1;32m   1766\u001b[0m \u001b[38;5;66;03m# of the expression, e.g. a**-1*b*a**-1*c**-1 will become\u001b[39;00m\n\u001b[1;32m   1767\u001b[0m \u001b[38;5;66;03m# (c*a*b**-1*a)**-1 at the end so can work with c*a*b**-1*a\u001b[39;00m\n",
      "File \u001b[0;32m~/Work/Projects/PyBayes/venv/lib/python3.10/site-packages/sympy/simplify/simplify.py:1950\u001b[0m, in \u001b[0;36mnc_simplify\u001b[0;34m(expr, deep)\u001b[0m\n\u001b[1;32m   1948\u001b[0m \u001b[38;5;66;03m# see if factor_nc(expr) is simplified better\u001b[39;00m\n\u001b[1;32m   1949\u001b[0m \u001b[38;5;28;01mif\u001b[39;00m \u001b[38;5;129;01mnot\u001b[39;00m \u001b[38;5;28misinstance\u001b[39m(expr, MatrixExpr):\n\u001b[0;32m-> 1950\u001b[0m     f_expr \u001b[38;5;241m=\u001b[39m \u001b[43mfactor_nc\u001b[49m\u001b[43m(\u001b[49m\u001b[43mexpr\u001b[49m\u001b[43m)\u001b[49m\n\u001b[1;32m   1951\u001b[0m     \u001b[38;5;28;01mif\u001b[39;00m f_expr \u001b[38;5;241m!=\u001b[39m expr:\n\u001b[1;32m   1952\u001b[0m         alt_simp \u001b[38;5;241m=\u001b[39m nc_simplify(f_expr, deep\u001b[38;5;241m=\u001b[39mdeep)\n",
      "File \u001b[0;32m~/Work/Projects/PyBayes/venv/lib/python3.10/site-packages/sympy/core/exprtools.py:1414\u001b[0m, in \u001b[0;36mfactor_nc\u001b[0;34m(expr)\u001b[0m\n\u001b[1;32m   1412\u001b[0m     \u001b[38;5;28;01mreturn\u001b[39;00m expr\n\u001b[1;32m   1413\u001b[0m \u001b[38;5;28;01mif\u001b[39;00m \u001b[38;5;129;01mnot\u001b[39;00m expr\u001b[38;5;241m.\u001b[39mis_Add:\n\u001b[0;32m-> 1414\u001b[0m     \u001b[38;5;28;01mreturn\u001b[39;00m expr\u001b[38;5;241m.\u001b[39mfunc(\u001b[38;5;241m*\u001b[39m[factor_nc(a) \u001b[38;5;28;01mfor\u001b[39;00m a \u001b[38;5;129;01min\u001b[39;00m expr\u001b[38;5;241m.\u001b[39margs])\n\u001b[1;32m   1415\u001b[0m expr \u001b[38;5;241m=\u001b[39m expr\u001b[38;5;241m.\u001b[39mfunc(\u001b[38;5;241m*\u001b[39m[expand_power_exp(i) \u001b[38;5;28;01mfor\u001b[39;00m i \u001b[38;5;129;01min\u001b[39;00m expr\u001b[38;5;241m.\u001b[39margs])\n\u001b[1;32m   1417\u001b[0m \u001b[38;5;28;01mfrom\u001b[39;00m \u001b[38;5;21;01msympy\u001b[39;00m\u001b[38;5;21;01m.\u001b[39;00m\u001b[38;5;21;01mpolys\u001b[39;00m\u001b[38;5;21;01m.\u001b[39;00m\u001b[38;5;21;01mpolytools\u001b[39;00m \u001b[38;5;28;01mimport\u001b[39;00m gcd, factor\n",
      "File \u001b[0;32m~/Work/Projects/PyBayes/venv/lib/python3.10/site-packages/sympy/core/exprtools.py:1414\u001b[0m, in \u001b[0;36m<listcomp>\u001b[0;34m(.0)\u001b[0m\n\u001b[1;32m   1412\u001b[0m     \u001b[38;5;28;01mreturn\u001b[39;00m expr\n\u001b[1;32m   1413\u001b[0m \u001b[38;5;28;01mif\u001b[39;00m \u001b[38;5;129;01mnot\u001b[39;00m expr\u001b[38;5;241m.\u001b[39mis_Add:\n\u001b[0;32m-> 1414\u001b[0m     \u001b[38;5;28;01mreturn\u001b[39;00m expr\u001b[38;5;241m.\u001b[39mfunc(\u001b[38;5;241m*\u001b[39m[\u001b[43mfactor_nc\u001b[49m\u001b[43m(\u001b[49m\u001b[43ma\u001b[49m\u001b[43m)\u001b[49m \u001b[38;5;28;01mfor\u001b[39;00m a \u001b[38;5;129;01min\u001b[39;00m expr\u001b[38;5;241m.\u001b[39margs])\n\u001b[1;32m   1415\u001b[0m expr \u001b[38;5;241m=\u001b[39m expr\u001b[38;5;241m.\u001b[39mfunc(\u001b[38;5;241m*\u001b[39m[expand_power_exp(i) \u001b[38;5;28;01mfor\u001b[39;00m i \u001b[38;5;129;01min\u001b[39;00m expr\u001b[38;5;241m.\u001b[39margs])\n\u001b[1;32m   1417\u001b[0m \u001b[38;5;28;01mfrom\u001b[39;00m \u001b[38;5;21;01msympy\u001b[39;00m\u001b[38;5;21;01m.\u001b[39;00m\u001b[38;5;21;01mpolys\u001b[39;00m\u001b[38;5;21;01m.\u001b[39;00m\u001b[38;5;21;01mpolytools\u001b[39;00m \u001b[38;5;28;01mimport\u001b[39;00m gcd, factor\n",
      "File \u001b[0;32m~/Work/Projects/PyBayes/venv/lib/python3.10/site-packages/sympy/core/exprtools.py:1414\u001b[0m, in \u001b[0;36mfactor_nc\u001b[0;34m(expr)\u001b[0m\n\u001b[1;32m   1412\u001b[0m     \u001b[38;5;28;01mreturn\u001b[39;00m expr\n\u001b[1;32m   1413\u001b[0m \u001b[38;5;28;01mif\u001b[39;00m \u001b[38;5;129;01mnot\u001b[39;00m expr\u001b[38;5;241m.\u001b[39mis_Add:\n\u001b[0;32m-> 1414\u001b[0m     \u001b[38;5;28;01mreturn\u001b[39;00m expr\u001b[38;5;241m.\u001b[39mfunc(\u001b[38;5;241m*\u001b[39m[factor_nc(a) \u001b[38;5;28;01mfor\u001b[39;00m a \u001b[38;5;129;01min\u001b[39;00m expr\u001b[38;5;241m.\u001b[39margs])\n\u001b[1;32m   1415\u001b[0m expr \u001b[38;5;241m=\u001b[39m expr\u001b[38;5;241m.\u001b[39mfunc(\u001b[38;5;241m*\u001b[39m[expand_power_exp(i) \u001b[38;5;28;01mfor\u001b[39;00m i \u001b[38;5;129;01min\u001b[39;00m expr\u001b[38;5;241m.\u001b[39margs])\n\u001b[1;32m   1417\u001b[0m \u001b[38;5;28;01mfrom\u001b[39;00m \u001b[38;5;21;01msympy\u001b[39;00m\u001b[38;5;21;01m.\u001b[39;00m\u001b[38;5;21;01mpolys\u001b[39;00m\u001b[38;5;21;01m.\u001b[39;00m\u001b[38;5;21;01mpolytools\u001b[39;00m \u001b[38;5;28;01mimport\u001b[39;00m gcd, factor\n",
      "File \u001b[0;32m~/Work/Projects/PyBayes/venv/lib/python3.10/site-packages/sympy/core/exprtools.py:1414\u001b[0m, in \u001b[0;36m<listcomp>\u001b[0;34m(.0)\u001b[0m\n\u001b[1;32m   1412\u001b[0m     \u001b[38;5;28;01mreturn\u001b[39;00m expr\n\u001b[1;32m   1413\u001b[0m \u001b[38;5;28;01mif\u001b[39;00m \u001b[38;5;129;01mnot\u001b[39;00m expr\u001b[38;5;241m.\u001b[39mis_Add:\n\u001b[0;32m-> 1414\u001b[0m     \u001b[38;5;28;01mreturn\u001b[39;00m expr\u001b[38;5;241m.\u001b[39mfunc(\u001b[38;5;241m*\u001b[39m[\u001b[43mfactor_nc\u001b[49m\u001b[43m(\u001b[49m\u001b[43ma\u001b[49m\u001b[43m)\u001b[49m \u001b[38;5;28;01mfor\u001b[39;00m a \u001b[38;5;129;01min\u001b[39;00m expr\u001b[38;5;241m.\u001b[39margs])\n\u001b[1;32m   1415\u001b[0m expr \u001b[38;5;241m=\u001b[39m expr\u001b[38;5;241m.\u001b[39mfunc(\u001b[38;5;241m*\u001b[39m[expand_power_exp(i) \u001b[38;5;28;01mfor\u001b[39;00m i \u001b[38;5;129;01min\u001b[39;00m expr\u001b[38;5;241m.\u001b[39margs])\n\u001b[1;32m   1417\u001b[0m \u001b[38;5;28;01mfrom\u001b[39;00m \u001b[38;5;21;01msympy\u001b[39;00m\u001b[38;5;21;01m.\u001b[39;00m\u001b[38;5;21;01mpolys\u001b[39;00m\u001b[38;5;21;01m.\u001b[39;00m\u001b[38;5;21;01mpolytools\u001b[39;00m \u001b[38;5;28;01mimport\u001b[39;00m gcd, factor\n",
      "    \u001b[0;31m[... skipping similar frames: <listcomp> at line 1414 (1 times), factor_nc at line 1414 (1 times)]\u001b[0m\n",
      "File \u001b[0;32m~/Work/Projects/PyBayes/venv/lib/python3.10/site-packages/sympy/core/exprtools.py:1414\u001b[0m, in \u001b[0;36mfactor_nc\u001b[0;34m(expr)\u001b[0m\n\u001b[1;32m   1412\u001b[0m     \u001b[38;5;28;01mreturn\u001b[39;00m expr\n\u001b[1;32m   1413\u001b[0m \u001b[38;5;28;01mif\u001b[39;00m \u001b[38;5;129;01mnot\u001b[39;00m expr\u001b[38;5;241m.\u001b[39mis_Add:\n\u001b[0;32m-> 1414\u001b[0m     \u001b[38;5;28;01mreturn\u001b[39;00m expr\u001b[38;5;241m.\u001b[39mfunc(\u001b[38;5;241m*\u001b[39m[factor_nc(a) \u001b[38;5;28;01mfor\u001b[39;00m a \u001b[38;5;129;01min\u001b[39;00m expr\u001b[38;5;241m.\u001b[39margs])\n\u001b[1;32m   1415\u001b[0m expr \u001b[38;5;241m=\u001b[39m expr\u001b[38;5;241m.\u001b[39mfunc(\u001b[38;5;241m*\u001b[39m[expand_power_exp(i) \u001b[38;5;28;01mfor\u001b[39;00m i \u001b[38;5;129;01min\u001b[39;00m expr\u001b[38;5;241m.\u001b[39margs])\n\u001b[1;32m   1417\u001b[0m \u001b[38;5;28;01mfrom\u001b[39;00m \u001b[38;5;21;01msympy\u001b[39;00m\u001b[38;5;21;01m.\u001b[39;00m\u001b[38;5;21;01mpolys\u001b[39;00m\u001b[38;5;21;01m.\u001b[39;00m\u001b[38;5;21;01mpolytools\u001b[39;00m \u001b[38;5;28;01mimport\u001b[39;00m gcd, factor\n",
      "File \u001b[0;32m~/Work/Projects/PyBayes/venv/lib/python3.10/site-packages/sympy/core/exprtools.py:1414\u001b[0m, in \u001b[0;36m<listcomp>\u001b[0;34m(.0)\u001b[0m\n\u001b[1;32m   1412\u001b[0m     \u001b[38;5;28;01mreturn\u001b[39;00m expr\n\u001b[1;32m   1413\u001b[0m \u001b[38;5;28;01mif\u001b[39;00m \u001b[38;5;129;01mnot\u001b[39;00m expr\u001b[38;5;241m.\u001b[39mis_Add:\n\u001b[0;32m-> 1414\u001b[0m     \u001b[38;5;28;01mreturn\u001b[39;00m expr\u001b[38;5;241m.\u001b[39mfunc(\u001b[38;5;241m*\u001b[39m[\u001b[43mfactor_nc\u001b[49m\u001b[43m(\u001b[49m\u001b[43ma\u001b[49m\u001b[43m)\u001b[49m \u001b[38;5;28;01mfor\u001b[39;00m a \u001b[38;5;129;01min\u001b[39;00m expr\u001b[38;5;241m.\u001b[39margs])\n\u001b[1;32m   1415\u001b[0m expr \u001b[38;5;241m=\u001b[39m expr\u001b[38;5;241m.\u001b[39mfunc(\u001b[38;5;241m*\u001b[39m[expand_power_exp(i) \u001b[38;5;28;01mfor\u001b[39;00m i \u001b[38;5;129;01min\u001b[39;00m expr\u001b[38;5;241m.\u001b[39margs])\n\u001b[1;32m   1417\u001b[0m \u001b[38;5;28;01mfrom\u001b[39;00m \u001b[38;5;21;01msympy\u001b[39;00m\u001b[38;5;21;01m.\u001b[39;00m\u001b[38;5;21;01mpolys\u001b[39;00m\u001b[38;5;21;01m.\u001b[39;00m\u001b[38;5;21;01mpolytools\u001b[39;00m \u001b[38;5;28;01mimport\u001b[39;00m gcd, factor\n",
      "File \u001b[0;32m~/Work/Projects/PyBayes/venv/lib/python3.10/site-packages/sympy/core/exprtools.py:1418\u001b[0m, in \u001b[0;36mfactor_nc\u001b[0;34m(expr)\u001b[0m\n\u001b[1;32m   1415\u001b[0m expr \u001b[38;5;241m=\u001b[39m expr\u001b[38;5;241m.\u001b[39mfunc(\u001b[38;5;241m*\u001b[39m[expand_power_exp(i) \u001b[38;5;28;01mfor\u001b[39;00m i \u001b[38;5;129;01min\u001b[39;00m expr\u001b[38;5;241m.\u001b[39margs])\n\u001b[1;32m   1417\u001b[0m \u001b[38;5;28;01mfrom\u001b[39;00m \u001b[38;5;21;01msympy\u001b[39;00m\u001b[38;5;21;01m.\u001b[39;00m\u001b[38;5;21;01mpolys\u001b[39;00m\u001b[38;5;21;01m.\u001b[39;00m\u001b[38;5;21;01mpolytools\u001b[39;00m \u001b[38;5;28;01mimport\u001b[39;00m gcd, factor\n\u001b[0;32m-> 1418\u001b[0m expr, rep, nc_symbols \u001b[38;5;241m=\u001b[39m \u001b[43m_mask_nc\u001b[49m\u001b[43m(\u001b[49m\u001b[43mexpr\u001b[49m\u001b[43m)\u001b[49m\n\u001b[1;32m   1420\u001b[0m \u001b[38;5;28;01mif\u001b[39;00m rep:\n\u001b[1;32m   1421\u001b[0m     \u001b[38;5;28;01mreturn\u001b[39;00m factor(expr)\u001b[38;5;241m.\u001b[39msubs(rep)\n",
      "File \u001b[0;32m~/Work/Projects/PyBayes/venv/lib/python3.10/site-packages/sympy/core/exprtools.py:1387\u001b[0m, in \u001b[0;36m_mask_nc\u001b[0;34m(eq, name)\u001b[0m\n\u001b[1;32m   1385\u001b[0m     rep\u001b[38;5;241m.\u001b[39mappend((n, nc))\n\u001b[1;32m   1386\u001b[0m     nc_syms\u001b[38;5;241m.\u001b[39madd(nc)\n\u001b[0;32m-> 1387\u001b[0m expr \u001b[38;5;241m=\u001b[39m \u001b[43mexpr\u001b[49m\u001b[38;5;241;43m.\u001b[39;49m\u001b[43msubs\u001b[49m\u001b[43m(\u001b[49m\u001b[43mrep\u001b[49m\u001b[43m)\u001b[49m\n\u001b[1;32m   1389\u001b[0m nc_syms \u001b[38;5;241m=\u001b[39m \u001b[38;5;28mlist\u001b[39m(nc_syms)\n\u001b[1;32m   1390\u001b[0m nc_syms\u001b[38;5;241m.\u001b[39msort(key\u001b[38;5;241m=\u001b[39mdefault_sort_key)\n",
      "File \u001b[0;32m~/Work/Projects/PyBayes/venv/lib/python3.10/site-packages/sympy/core/basic.py:1040\u001b[0m, in \u001b[0;36mBasic.subs\u001b[0;34m(self, *args, **kwargs)\u001b[0m\n\u001b[1;32m   1038\u001b[0m rv \u001b[38;5;241m=\u001b[39m \u001b[38;5;28mself\u001b[39m\n\u001b[1;32m   1039\u001b[0m \u001b[38;5;28;01mfor\u001b[39;00m old, new \u001b[38;5;129;01min\u001b[39;00m sequence:\n\u001b[0;32m-> 1040\u001b[0m     rv \u001b[38;5;241m=\u001b[39m \u001b[43mrv\u001b[49m\u001b[38;5;241;43m.\u001b[39;49m\u001b[43m_subs\u001b[49m\u001b[43m(\u001b[49m\u001b[43mold\u001b[49m\u001b[43m,\u001b[49m\u001b[43m \u001b[49m\u001b[43mnew\u001b[49m\u001b[43m,\u001b[49m\u001b[43m \u001b[49m\u001b[38;5;241;43m*\u001b[39;49m\u001b[38;5;241;43m*\u001b[39;49m\u001b[43mkwargs\u001b[49m\u001b[43m)\u001b[49m\n\u001b[1;32m   1041\u001b[0m     \u001b[38;5;28;01mif\u001b[39;00m \u001b[38;5;129;01mnot\u001b[39;00m \u001b[38;5;28misinstance\u001b[39m(rv, Basic):\n\u001b[1;32m   1042\u001b[0m         \u001b[38;5;28;01mbreak\u001b[39;00m\n",
      "File \u001b[0;32m~/Work/Projects/PyBayes/venv/lib/python3.10/site-packages/sympy/core/cache.py:72\u001b[0m, in \u001b[0;36m__cacheit.<locals>.func_wrapper.<locals>.wrapper\u001b[0;34m(*args, **kwargs)\u001b[0m\n\u001b[1;32m     69\u001b[0m \u001b[38;5;129m@wraps\u001b[39m(func)\n\u001b[1;32m     70\u001b[0m \u001b[38;5;28;01mdef\u001b[39;00m \u001b[38;5;21mwrapper\u001b[39m(\u001b[38;5;241m*\u001b[39margs, \u001b[38;5;241m*\u001b[39m\u001b[38;5;241m*\u001b[39mkwargs):\n\u001b[1;32m     71\u001b[0m     \u001b[38;5;28;01mtry\u001b[39;00m:\n\u001b[0;32m---> 72\u001b[0m         retval \u001b[38;5;241m=\u001b[39m \u001b[43mcfunc\u001b[49m\u001b[43m(\u001b[49m\u001b[38;5;241;43m*\u001b[39;49m\u001b[43margs\u001b[49m\u001b[43m,\u001b[49m\u001b[43m \u001b[49m\u001b[38;5;241;43m*\u001b[39;49m\u001b[38;5;241;43m*\u001b[39;49m\u001b[43mkwargs\u001b[49m\u001b[43m)\u001b[49m\n\u001b[1;32m     73\u001b[0m     \u001b[38;5;28;01mexcept\u001b[39;00m \u001b[38;5;167;01mTypeError\u001b[39;00m \u001b[38;5;28;01mas\u001b[39;00m e:\n\u001b[1;32m     74\u001b[0m         \u001b[38;5;28;01mif\u001b[39;00m \u001b[38;5;129;01mnot\u001b[39;00m e\u001b[38;5;241m.\u001b[39margs \u001b[38;5;129;01mor\u001b[39;00m \u001b[38;5;129;01mnot\u001b[39;00m e\u001b[38;5;241m.\u001b[39margs[\u001b[38;5;241m0\u001b[39m]\u001b[38;5;241m.\u001b[39mstartswith(\u001b[38;5;124m'\u001b[39m\u001b[38;5;124munhashable type:\u001b[39m\u001b[38;5;124m'\u001b[39m):\n",
      "File \u001b[0;32m~/Work/Projects/PyBayes/venv/lib/python3.10/site-packages/sympy/core/basic.py:1154\u001b[0m, in \u001b[0;36mBasic._subs\u001b[0;34m(self, old, new, **hints)\u001b[0m\n\u001b[1;32m   1152\u001b[0m rv \u001b[38;5;241m=\u001b[39m \u001b[38;5;28mself\u001b[39m\u001b[38;5;241m.\u001b[39m_eval_subs(old, new)\n\u001b[1;32m   1153\u001b[0m \u001b[38;5;28;01mif\u001b[39;00m rv \u001b[38;5;129;01mis\u001b[39;00m \u001b[38;5;28;01mNone\u001b[39;00m:\n\u001b[0;32m-> 1154\u001b[0m     rv \u001b[38;5;241m=\u001b[39m \u001b[43mfallback\u001b[49m\u001b[43m(\u001b[49m\u001b[38;5;28;43mself\u001b[39;49m\u001b[43m,\u001b[49m\u001b[43m \u001b[49m\u001b[43mold\u001b[49m\u001b[43m,\u001b[49m\u001b[43m \u001b[49m\u001b[43mnew\u001b[49m\u001b[43m)\u001b[49m\n\u001b[1;32m   1155\u001b[0m \u001b[38;5;28;01mreturn\u001b[39;00m rv\n",
      "File \u001b[0;32m~/Work/Projects/PyBayes/venv/lib/python3.10/site-packages/sympy/core/basic.py:1131\u001b[0m, in \u001b[0;36mBasic._subs.<locals>.fallback\u001b[0;34m(self, old, new)\u001b[0m\n\u001b[1;32m   1129\u001b[0m         args[i] \u001b[38;5;241m=\u001b[39m arg\n\u001b[1;32m   1130\u001b[0m \u001b[38;5;28;01mif\u001b[39;00m hit:\n\u001b[0;32m-> 1131\u001b[0m     rv \u001b[38;5;241m=\u001b[39m \u001b[38;5;28;43mself\u001b[39;49m\u001b[38;5;241;43m.\u001b[39;49m\u001b[43mfunc\u001b[49m\u001b[43m(\u001b[49m\u001b[38;5;241;43m*\u001b[39;49m\u001b[43margs\u001b[49m\u001b[43m)\u001b[49m\n\u001b[1;32m   1132\u001b[0m     hack2 \u001b[38;5;241m=\u001b[39m hints\u001b[38;5;241m.\u001b[39mget(\u001b[38;5;124m'\u001b[39m\u001b[38;5;124mhack2\u001b[39m\u001b[38;5;124m'\u001b[39m, \u001b[38;5;28;01mFalse\u001b[39;00m)\n\u001b[1;32m   1133\u001b[0m     \u001b[38;5;28;01mif\u001b[39;00m hack2 \u001b[38;5;129;01mand\u001b[39;00m \u001b[38;5;28mself\u001b[39m\u001b[38;5;241m.\u001b[39mis_Mul \u001b[38;5;129;01mand\u001b[39;00m \u001b[38;5;129;01mnot\u001b[39;00m rv\u001b[38;5;241m.\u001b[39mis_Mul:  \u001b[38;5;66;03m# 2-arg hack\u001b[39;00m\n",
      "File \u001b[0;32m~/Work/Projects/PyBayes/venv/lib/python3.10/site-packages/sympy/matrices/expressions/matadd.py:49\u001b[0m, in \u001b[0;36mMatAdd.__new__\u001b[0;34m(cls, evaluate, check, _sympify, *args)\u001b[0m\n\u001b[1;32m     46\u001b[0m     args \u001b[38;5;241m=\u001b[39m \u001b[38;5;28mlist\u001b[39m(\u001b[38;5;28mmap\u001b[39m(sympify, args))\n\u001b[1;32m     48\u001b[0m \u001b[38;5;28;01mif\u001b[39;00m \u001b[38;5;129;01mnot\u001b[39;00m \u001b[38;5;28mall\u001b[39m(\u001b[38;5;28misinstance\u001b[39m(arg, MatrixExpr) \u001b[38;5;28;01mfor\u001b[39;00m arg \u001b[38;5;129;01min\u001b[39;00m args):\n\u001b[0;32m---> 49\u001b[0m     \u001b[38;5;28;01mraise\u001b[39;00m \u001b[38;5;167;01mTypeError\u001b[39;00m(\u001b[38;5;124m\"\u001b[39m\u001b[38;5;124mMix of Matrix and Scalar symbols\u001b[39m\u001b[38;5;124m\"\u001b[39m)\n\u001b[1;32m     51\u001b[0m obj \u001b[38;5;241m=\u001b[39m Basic\u001b[38;5;241m.\u001b[39m\u001b[38;5;21m__new__\u001b[39m(\u001b[38;5;28mcls\u001b[39m, \u001b[38;5;241m*\u001b[39margs)\n\u001b[1;32m     53\u001b[0m \u001b[38;5;28;01mif\u001b[39;00m check \u001b[38;5;129;01mis\u001b[39;00m \u001b[38;5;129;01mnot\u001b[39;00m \u001b[38;5;28;01mNone\u001b[39;00m:\n",
      "\u001b[0;31mTypeError\u001b[0m: Mix of Matrix and Scalar symbols"
     ]
    }
   ],
   "source": [
    "loss_sp(params_sp, x_sp, y_sp).subs(subs_matrix)"
   ]
  },
  {
   "cell_type": "code",
   "execution_count": null,
   "id": "aed13234-d5bd-4116-b56e-804852bd941a",
   "metadata": {},
   "outputs": [],
   "source": [
    "net_sp(params_sp, x_sp).diff(b1)"
   ]
  },
  {
   "cell_type": "code",
   "execution_count": 76,
   "id": "8d9b3a6a-3924-460a-8284-b486c874cb18",
   "metadata": {},
   "outputs": [
    {
     "data": {
      "image/png": "[encoded data removed]",
      "text/latex": [
       "$\\displaystyle \\frac{\\tanh{\\left(\\frac{x}{2} \\right)}}{2} + \\frac{1}{2}$"
      ],
      "text/plain": [
       "    ⎛x⎞    \n",
       "tanh⎜─⎟    \n",
       "    ⎝2⎠   1\n",
       "─────── + ─\n",
       "   2      2"
      ]
     },
     "execution_count": 76,
     "metadata": {},
     "output_type": "execute_result"
    }
   ],
   "source": [
    "x = sp.symbols('x', real=True)\n",
    "(1/(1+sp.exp(-x))).rewrite(sp.tanh).simplify()"
   ]
  },
  {
   "cell_type": "code",
   "execution_count": null,
   "id": "aefbc9a0-8bc1-420b-b404-416b3d2c5085",
   "metadata": {},
   "outputs": [],
   "source": []
  }
 ],
 "metadata": {
  "kernelspec": {
   "display_name": "Python 3 (ipykernel)",
   "language": "python",
   "name": "python3"
  },
  "language_info": {
   "codemirror_mode": {
    "name": "ipython",
    "version": 3
   },
   "file_extension": ".py",
   "mimetype": "text/x-python",
   "name": "python",
   "nbconvert_exporter": "python",
   "pygments_lexer": "ipython3",
   "version": "3.10.13"
  }
 },
 "nbformat": 4,
 "nbformat_minor": 5
}
