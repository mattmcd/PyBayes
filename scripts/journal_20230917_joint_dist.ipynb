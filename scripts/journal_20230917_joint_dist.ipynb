{
 "cells": [
  {
   "cell_type": "markdown",
   "id": "f211c0d2-7c91-4ba3-afd8-b2c4b4867528",
   "metadata": {},
   "source": [
    "# Imports"
   ]
  },
  {
   "cell_type": "code",
   "execution_count": 1,
   "id": "initial_id",
   "metadata": {},
   "outputs": [],
   "source": [
    "%load_ext autoreload\n",
    "%autoreload 2"
   ]
  },
  {
   "cell_type": "code",
   "execution_count": 2,
   "id": "f0bb932e-3ceb-481e-8e5c-dca70ae5ac18",
   "metadata": {},
   "outputs": [],
   "source": [
    "from startup import np, pd, plt, sns"
   ]
  },
  {
   "cell_type": "code",
   "execution_count": 3,
   "id": "7f29025a-9a1b-473a-8c5a-f1dcb7586402",
   "metadata": {},
   "outputs": [],
   "source": [
    "from startup_gui import widgets, interact, interactive"
   ]
  },
  {
   "cell_type": "code",
   "execution_count": 4,
   "id": "d4ed6c17-aaee-48b5-a4a3-f4283c301b68",
   "metadata": {},
   "outputs": [
    {
     "name": "stderr",
     "output_type": "stream",
     "text": [
      "2023-09-17 10:27:32.090 Python[38529:1014855] apply_selection_policy_once: avoid use of removable GPUs (via org.python.python:GPUSelectionPolicy->avoidRemovable)\n"
     ]
    }
   ],
   "source": [
    "import tensorflow as tf\n",
    "import tensorflow_probability as tfp"
   ]
  },
  {
   "cell_type": "code",
   "execution_count": 5,
   "id": "814acda8-21f8-4620-a771-3f20b3cda229",
   "metadata": {},
   "outputs": [],
   "source": [
    "tfd = tfp.distributions\n",
    "tfb = tfp.bijectors"
   ]
  },
  {
   "cell_type": "code",
   "execution_count": 107,
   "id": "88828a39-f01c-4062-b2d3-e8e6da1a2655",
   "metadata": {},
   "outputs": [],
   "source": [
    "from journal_20230625_pgm_functions import (\n",
    "    sat, intelligence, grade, difficulty, letter,\n",
    "    p_d, p_i, p_s_i, p_g_id, p_l_g,\n",
    ")"
   ]
  },
  {
   "cell_type": "markdown",
   "id": "b86ec50f-6bd4-4abc-a632-4720f75135d4",
   "metadata": {},
   "source": [
    "# Joint Distribution with Vector Events"
   ]
  },
  {
   "cell_type": "code",
   "execution_count": 6,
   "id": "902385db-de65-4172-8308-ad2c3b79ffe0",
   "metadata": {},
   "outputs": [],
   "source": [
    "x = tfd.Bernoulli(probs=0.5)"
   ]
  },
  {
   "cell_type": "code",
   "execution_count": 8,
   "id": "c2b00486-cb53-42ab-9829-98321f7d0f53",
   "metadata": {},
   "outputs": [],
   "source": [
    "y = tfd.Bernoulli(probs=0.8)"
   ]
  },
  {
   "cell_type": "code",
   "execution_count": 9,
   "id": "945828c8-ade1-4261-a795-9f2876b3556e",
   "metadata": {},
   "outputs": [],
   "source": [
    "n_samples = 10_000\n",
    "df = pd.DataFrame({'x': x.sample(n_samples).numpy(), 'y': y.sample(n_samples)})"
   ]
  },
  {
   "cell_type": "code",
   "execution_count": 14,
   "id": "71410e06-4c26-409d-800b-939f4be6705a",
   "metadata": {},
   "outputs": [],
   "source": [
    "# _ = df.hist()"
   ]
  },
  {
   "cell_type": "code",
   "execution_count": 96,
   "id": "0bfd7938-36c8-493b-89a3-b693f85d8efe",
   "metadata": {},
   "outputs": [],
   "source": [
    "def dist_to_df(joint, n_samples):\n",
    "    return pd.DataFrame(dict(zip(['x', 'y'], joint.sample(n_samples))))"
   ]
  },
  {
   "cell_type": "code",
   "execution_count": 18,
   "id": "d3ec791f-c6d5-481a-8cf1-5178a8aacca5",
   "metadata": {},
   "outputs": [],
   "source": [
    "joint = tfd.JointDistributionSequential(\n",
    "    [\n",
    "        x, \n",
    "        y\n",
    "    ]\n",
    ")"
   ]
  },
  {
   "cell_type": "code",
   "execution_count": 98,
   "id": "93cd9d0e-ed43-4c60-a9e4-fb2ba65f2e76",
   "metadata": {},
   "outputs": [
    {
     "data": {
      "text/html": [
       "<div>\n",
       "<style scoped>\n",
       "    .dataframe tbody tr th:only-of-type {\n",
       "        vertical-align: middle;\n",
       "    }\n",
       "\n",
       "    .dataframe tbody tr th {\n",
       "        vertical-align: top;\n",
       "    }\n",
       "\n",
       "    .dataframe thead th {\n",
       "        text-align: right;\n",
       "    }\n",
       "</style>\n",
       "<table border=\"1\" class=\"dataframe\">\n",
       "  <thead>\n",
       "    <tr style=\"text-align: right;\">\n",
       "      <th></th>\n",
       "      <th>x</th>\n",
       "      <th>y</th>\n",
       "    </tr>\n",
       "  </thead>\n",
       "  <tbody>\n",
       "    <tr>\n",
       "      <th>count</th>\n",
       "      <td>10000.000000</td>\n",
       "      <td>10000.000000</td>\n",
       "    </tr>\n",
       "    <tr>\n",
       "      <th>mean</th>\n",
       "      <td>0.506100</td>\n",
       "      <td>0.805300</td>\n",
       "    </tr>\n",
       "    <tr>\n",
       "      <th>std</th>\n",
       "      <td>0.499988</td>\n",
       "      <td>0.395989</td>\n",
       "    </tr>\n",
       "    <tr>\n",
       "      <th>min</th>\n",
       "      <td>0.000000</td>\n",
       "      <td>0.000000</td>\n",
       "    </tr>\n",
       "    <tr>\n",
       "      <th>25%</th>\n",
       "      <td>0.000000</td>\n",
       "      <td>1.000000</td>\n",
       "    </tr>\n",
       "    <tr>\n",
       "      <th>50%</th>\n",
       "      <td>1.000000</td>\n",
       "      <td>1.000000</td>\n",
       "    </tr>\n",
       "    <tr>\n",
       "      <th>75%</th>\n",
       "      <td>1.000000</td>\n",
       "      <td>1.000000</td>\n",
       "    </tr>\n",
       "    <tr>\n",
       "      <th>max</th>\n",
       "      <td>1.000000</td>\n",
       "      <td>1.000000</td>\n",
       "    </tr>\n",
       "  </tbody>\n",
       "</table>\n",
       "</div>"
      ],
      "text/plain": [
       "                  x             y\n",
       "count  10000.000000  10000.000000\n",
       "mean       0.506100      0.805300\n",
       "std        0.499988      0.395989\n",
       "min        0.000000      0.000000\n",
       "25%        0.000000      1.000000\n",
       "50%        1.000000      1.000000\n",
       "75%        1.000000      1.000000\n",
       "max        1.000000      1.000000"
      ]
     },
     "execution_count": 98,
     "metadata": {},
     "output_type": "execute_result"
    }
   ],
   "source": [
    "dist_to_df(joint, n_samples).describe()"
   ]
  },
  {
   "cell_type": "code",
   "execution_count": 24,
   "id": "8358f81e-b5ff-47ce-9ef2-f0348764086b",
   "metadata": {},
   "outputs": [
    {
     "data": {
      "text/plain": [
       "<tf.Tensor: shape=(2,), dtype=float32, numpy=array([-2.3025851, -0.9162907], dtype=float32)>"
      ]
     },
     "execution_count": 24,
     "metadata": {},
     "output_type": "execute_result"
    }
   ],
   "source": [
    "joint.log_prob([[0, 0], [0, 1]])"
   ]
  },
  {
   "cell_type": "code",
   "execution_count": 32,
   "id": "dc1df452-13a4-40fa-b7de-c444be7f0723",
   "metadata": {},
   "outputs": [
    {
     "data": {
      "text/plain": [
       "[<tf.Tensor: shape=(5, 2), dtype=int32, numpy=\n",
       " array([[0, 0],\n",
       "        [1, 1],\n",
       "        [0, 1],\n",
       "        [1, 0],\n",
       "        [0, 1]], dtype=int32)>,\n",
       " <tf.Tensor: shape=(5, 2), dtype=int32, numpy=\n",
       " array([[1, 0],\n",
       "        [0, 1],\n",
       "        [0, 0],\n",
       "        [1, 1],\n",
       "        [0, 1]], dtype=int32)>]"
      ]
     },
     "execution_count": 32,
     "metadata": {},
     "output_type": "execute_result"
    }
   ],
   "source": [
    "joint.sample([5, 2])"
   ]
  },
  {
   "cell_type": "markdown",
   "id": "b51c3aea-1649-48b8-af28-f8122f479968",
   "metadata": {},
   "source": [
    "## Second distribution depends on first\n"
   ]
  },
  {
   "cell_type": "code",
   "execution_count": 49,
   "id": "27e73b3c-2d83-4ae2-8528-fb025db7bd72",
   "metadata": {},
   "outputs": [],
   "source": [
    "joint_2 = tfd.JointDistributionSequential(\n",
    "    [\n",
    "        x, \n",
    "        lambda e: tfd.Bernoulli(probs=tf.where(e == 1, 0.5, 0.8))\n",
    "    ],\n",
    "    batch_ndims=0\n",
    ")"
   ]
  },
  {
   "cell_type": "code",
   "execution_count": 100,
   "id": "0675daad-d34f-4e87-9acf-8aebbc1e2ac4",
   "metadata": {},
   "outputs": [
    {
     "data": {
      "text/html": [
       "<div>\n",
       "<style scoped>\n",
       "    .dataframe tbody tr th:only-of-type {\n",
       "        vertical-align: middle;\n",
       "    }\n",
       "\n",
       "    .dataframe tbody tr th {\n",
       "        vertical-align: top;\n",
       "    }\n",
       "\n",
       "    .dataframe thead th {\n",
       "        text-align: right;\n",
       "    }\n",
       "</style>\n",
       "<table border=\"1\" class=\"dataframe\">\n",
       "  <thead>\n",
       "    <tr style=\"text-align: right;\">\n",
       "      <th></th>\n",
       "      <th>x</th>\n",
       "      <th>y</th>\n",
       "    </tr>\n",
       "  </thead>\n",
       "  <tbody>\n",
       "    <tr>\n",
       "      <th>count</th>\n",
       "      <td>10000.000000</td>\n",
       "      <td>10000.000000</td>\n",
       "    </tr>\n",
       "    <tr>\n",
       "      <th>mean</th>\n",
       "      <td>0.495800</td>\n",
       "      <td>0.641800</td>\n",
       "    </tr>\n",
       "    <tr>\n",
       "      <th>std</th>\n",
       "      <td>0.500007</td>\n",
       "      <td>0.479495</td>\n",
       "    </tr>\n",
       "    <tr>\n",
       "      <th>min</th>\n",
       "      <td>0.000000</td>\n",
       "      <td>0.000000</td>\n",
       "    </tr>\n",
       "    <tr>\n",
       "      <th>25%</th>\n",
       "      <td>0.000000</td>\n",
       "      <td>0.000000</td>\n",
       "    </tr>\n",
       "    <tr>\n",
       "      <th>50%</th>\n",
       "      <td>0.000000</td>\n",
       "      <td>1.000000</td>\n",
       "    </tr>\n",
       "    <tr>\n",
       "      <th>75%</th>\n",
       "      <td>1.000000</td>\n",
       "      <td>1.000000</td>\n",
       "    </tr>\n",
       "    <tr>\n",
       "      <th>max</th>\n",
       "      <td>1.000000</td>\n",
       "      <td>1.000000</td>\n",
       "    </tr>\n",
       "  </tbody>\n",
       "</table>\n",
       "</div>"
      ],
      "text/plain": [
       "                  x             y\n",
       "count  10000.000000  10000.000000\n",
       "mean       0.495800      0.641800\n",
       "std        0.500007      0.479495\n",
       "min        0.000000      0.000000\n",
       "25%        0.000000      0.000000\n",
       "50%        0.000000      1.000000\n",
       "75%        1.000000      1.000000\n",
       "max        1.000000      1.000000"
      ]
     },
     "execution_count": 100,
     "metadata": {},
     "output_type": "execute_result"
    }
   ],
   "source": [
    "dist_to_df(joint_2, n_samples).describe()"
   ]
  },
  {
   "cell_type": "code",
   "execution_count": 101,
   "id": "fa589ee9-c09f-40ab-9201-7963240be70f",
   "metadata": {},
   "outputs": [
    {
     "data": {
      "text/html": [
       "<div>\n",
       "<style scoped>\n",
       "    .dataframe tbody tr th:only-of-type {\n",
       "        vertical-align: middle;\n",
       "    }\n",
       "\n",
       "    .dataframe tbody tr th {\n",
       "        vertical-align: top;\n",
       "    }\n",
       "\n",
       "    .dataframe thead tr th {\n",
       "        text-align: left;\n",
       "    }\n",
       "\n",
       "    .dataframe thead tr:last-of-type th {\n",
       "        text-align: right;\n",
       "    }\n",
       "</style>\n",
       "<table border=\"1\" class=\"dataframe\">\n",
       "  <thead>\n",
       "    <tr>\n",
       "      <th></th>\n",
       "      <th colspan=\"2\" halign=\"left\">y</th>\n",
       "    </tr>\n",
       "    <tr>\n",
       "      <th></th>\n",
       "      <th>mean</th>\n",
       "      <th>std</th>\n",
       "    </tr>\n",
       "    <tr>\n",
       "      <th>x</th>\n",
       "      <th></th>\n",
       "      <th></th>\n",
       "    </tr>\n",
       "  </thead>\n",
       "  <tbody>\n",
       "    <tr>\n",
       "      <th>0</th>\n",
       "      <td>0.798227</td>\n",
       "      <td>0.401363</td>\n",
       "    </tr>\n",
       "    <tr>\n",
       "      <th>1</th>\n",
       "      <td>0.506802</td>\n",
       "      <td>0.500004</td>\n",
       "    </tr>\n",
       "  </tbody>\n",
       "</table>\n",
       "</div>"
      ],
      "text/plain": [
       "          y          \n",
       "       mean       std\n",
       "x                    \n",
       "0  0.798227  0.401363\n",
       "1  0.506802  0.500004"
      ]
     },
     "execution_count": 101,
     "metadata": {},
     "output_type": "execute_result"
    }
   ],
   "source": [
    "dist_to_df(joint_2, n_samples).groupby('x').agg(['mean', 'std'])"
   ]
  },
  {
   "cell_type": "code",
   "execution_count": 104,
   "id": "e9ef5d28-5f81-42d4-8350-e5a5258c8d3b",
   "metadata": {},
   "outputs": [],
   "source": [
    "joint_3 = tfd.JointDistributionSequential(\n",
    "    [\n",
    "        x, \n",
    "        lambda e: tfd.Categorical(probs=tf.gather(tf.constant([[0.2, 0.8], [0.5, 0.5]]), e))\n",
    "    ],\n",
    "    batch_ndims=0\n",
    ")"
   ]
  },
  {
   "cell_type": "code",
   "execution_count": 105,
   "id": "f3fad438-dfd8-43a3-b3c6-a7fde81a5437",
   "metadata": {},
   "outputs": [
    {
     "data": {
      "text/html": [
       "<div>\n",
       "<style scoped>\n",
       "    .dataframe tbody tr th:only-of-type {\n",
       "        vertical-align: middle;\n",
       "    }\n",
       "\n",
       "    .dataframe tbody tr th {\n",
       "        vertical-align: top;\n",
       "    }\n",
       "\n",
       "    .dataframe thead tr th {\n",
       "        text-align: left;\n",
       "    }\n",
       "\n",
       "    .dataframe thead tr:last-of-type th {\n",
       "        text-align: right;\n",
       "    }\n",
       "</style>\n",
       "<table border=\"1\" class=\"dataframe\">\n",
       "  <thead>\n",
       "    <tr>\n",
       "      <th></th>\n",
       "      <th colspan=\"2\" halign=\"left\">y</th>\n",
       "    </tr>\n",
       "    <tr>\n",
       "      <th></th>\n",
       "      <th>mean</th>\n",
       "      <th>std</th>\n",
       "    </tr>\n",
       "    <tr>\n",
       "      <th>x</th>\n",
       "      <th></th>\n",
       "      <th></th>\n",
       "    </tr>\n",
       "  </thead>\n",
       "  <tbody>\n",
       "    <tr>\n",
       "      <th>0</th>\n",
       "      <td>0.804243</td>\n",
       "      <td>0.396822</td>\n",
       "    </tr>\n",
       "    <tr>\n",
       "      <th>1</th>\n",
       "      <td>0.493405</td>\n",
       "      <td>0.500006</td>\n",
       "    </tr>\n",
       "  </tbody>\n",
       "</table>\n",
       "</div>"
      ],
      "text/plain": [
       "          y          \n",
       "       mean       std\n",
       "x                    \n",
       "0  0.804243  0.396822\n",
       "1  0.493405  0.500006"
      ]
     },
     "execution_count": 105,
     "metadata": {},
     "output_type": "execute_result"
    }
   ],
   "source": [
    "dist_to_df(joint_3, n_samples).groupby('x').agg(['mean', 'std'])"
   ]
  },
  {
   "cell_type": "code",
   "execution_count": 106,
   "id": "fad97dfd-dce5-45d5-be52-8a493bbb46f6",
   "metadata": {},
   "outputs": [
    {
     "data": {
      "text/plain": [
       "[<tf.Tensor: shape=(5, 2), dtype=int32, numpy=\n",
       " array([[1, 0],\n",
       "        [1, 0],\n",
       "        [0, 1],\n",
       "        [1, 0],\n",
       "        [0, 0]], dtype=int32)>,\n",
       " <tf.Tensor: shape=(5, 2), dtype=int32, numpy=\n",
       " array([[1, 1],\n",
       "        [1, 1],\n",
       "        [1, 0],\n",
       "        [1, 1],\n",
       "        [1, 1]], dtype=int32)>]"
      ]
     },
     "execution_count": 106,
     "metadata": {},
     "output_type": "execute_result"
    }
   ],
   "source": [
    "joint_3.sample([5, 2])"
   ]
  },
  {
   "cell_type": "code",
   "execution_count": 108,
   "id": "418975b6-bf42-4d69-9841-6a43dea03e59",
   "metadata": {},
   "outputs": [
    {
     "data": {
      "text/html": [
       "<div>\n",
       "<style scoped>\n",
       "    .dataframe tbody tr th:only-of-type {\n",
       "        vertical-align: middle;\n",
       "    }\n",
       "\n",
       "    .dataframe tbody tr th {\n",
       "        vertical-align: top;\n",
       "    }\n",
       "\n",
       "    .dataframe thead th {\n",
       "        text-align: right;\n",
       "    }\n",
       "</style>\n",
       "<table border=\"1\" class=\"dataframe\">\n",
       "  <thead>\n",
       "    <tr style=\"text-align: right;\">\n",
       "      <th></th>\n",
       "      <th>prob</th>\n",
       "    </tr>\n",
       "    <tr>\n",
       "      <th>difficulty</th>\n",
       "      <th></th>\n",
       "    </tr>\n",
       "  </thead>\n",
       "  <tbody>\n",
       "    <tr>\n",
       "      <th>easy</th>\n",
       "      <td>0.6</td>\n",
       "    </tr>\n",
       "    <tr>\n",
       "      <th>hard</th>\n",
       "      <td>0.4</td>\n",
       "    </tr>\n",
       "  </tbody>\n",
       "</table>\n",
       "</div>"
      ],
      "text/plain": [
       "            prob\n",
       "difficulty      \n",
       "easy         0.6\n",
       "hard         0.4"
      ]
     },
     "execution_count": 108,
     "metadata": {},
     "output_type": "execute_result"
    }
   ],
   "source": [
    "p_d"
   ]
  },
  {
   "cell_type": "code",
   "execution_count": 121,
   "id": "8ee46235-244d-4954-8894-dd70853f301c",
   "metadata": {},
   "outputs": [
    {
     "data": {
      "text/plain": [
       "<tf.Tensor: shape=(3,), dtype=float64, numpy=array([0.05, 0.25, 0.7 ])>"
      ]
     },
     "execution_count": 121,
     "metadata": {},
     "output_type": "execute_result"
    }
   ],
   "source": [
    "tf.gather(tf.gather(tf.constant(p_g_id.values.reshape([ len(grade), len(intelligence), len(difficulty),])), 0, axis=1), 1, axis=1)"
   ]
  },
  {
   "cell_type": "code",
   "execution_count": null,
   "id": "65d7965d-e390-44ec-a1ad-1218d0a98454",
   "metadata": {},
   "outputs": [],
   "source": []
  }
 ],
 "metadata": {
  "kernelspec": {
   "display_name": "Python 3 (ipykernel)",
   "language": "python",
   "name": "python3"
  },
  "language_info": {
   "codemirror_mode": {
    "name": "ipython",
    "version": 3
   },
   "file_extension": ".py",
   "mimetype": "text/x-python",
   "name": "python",
   "nbconvert_exporter": "python",
   "pygments_lexer": "ipython3",
   "version": "3.8.18"
  }
 },
 "nbformat": 4,
 "nbformat_minor": 5
}
