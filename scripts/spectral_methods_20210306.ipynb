{
 "cells": [
  {
   "cell_type": "markdown",
   "metadata": {},
   "source": [
    "# Spectral Methods in TensorFlow\n",
    "Converting some of the examples from [Spectral Methods in MATLAB](https://people.maths.ox.ac.uk/trefethen/spectral.html) by Nick Trefethen into TensorFlow."
   ]
  },
  {
   "cell_type": "code",
   "execution_count": 1,
   "metadata": {},
   "outputs": [],
   "source": [
    "import numpy as np\n",
    "import tensorflow as tf\n",
    "import matplotlib.pyplot as plt\n",
    "import seaborn as sns"
   ]
  },
  {
   "cell_type": "code",
   "execution_count": 2,
   "metadata": {},
   "outputs": [],
   "source": [
    "%matplotlib inline"
   ]
  },
  {
   "cell_type": "markdown",
   "metadata": {},
   "source": [
    "Program 1\n",
    "\n",
    "```\n",
    "% p1.m - convergence of fourth-order finite differences\n",
    "\n",
    "% For various N, set up grid in [-pi,pi] and function u(x):\n",
    "  Nvec = 2.^(3:12);\n",
    "  clf, subplot('position',[.1 .4 .8 .5])\n",
    "  for N = Nvec\n",
    "    h = 2*pi/N; x = -pi + (1:N)'*h;\n",
    "    u = exp(sin(x)); uprime = cos(x).*u;\n",
    "\n",
    "    % Construct sparse fourth-order differentiation matrix:\n",
    "    e = ones(N,1);\n",
    "    D =   sparse(1:N,[2:N 1],2*e/3,N,N)...\n",
    "        - sparse(1:N,[3:N 1 2],e/12,N,N);\n",
    "    D = (D-D')/h;\n",
    "\n",
    "    % Plot max(abs(D*u-uprime)):\n",
    "    error = norm(D*u-uprime,inf);\n",
    "    loglog(N,error,'.','markersize',15), hold on\n",
    "  end\n",
    "  grid on, xlabel N, ylabel error\n",
    "  title('Convergence of fourth-order finite differences')\n",
    "  semilogy(Nvec,Nvec.^(-4),'--') \n",
    "  text(105,5e-8,'N^{-4}','fontsize',18)\n",
    "\n",
    "```"
   ]
  },
  {
   "cell_type": "code",
   "execution_count": 5,
   "metadata": {},
   "outputs": [],
   "source": [
    "def calc_diff_err_p1(n):\n",
    "    h = 2.*np.pi/n\n",
    "    x = tf.range(1., n+1.)[:, None]*h - np.pi\n",
    "    u = tf.exp(tf.sin(x))\n",
    "    u_prime = tf.cos(x) * u\n",
    "    e = tf.cast(tf.ones(tf.cast(n, tf.int64)), n.dtype)\n",
    "\n",
    "    indices = tf.cast(tf.concat([\n",
    "        tf.tile(tf.range(n)[:, None], [4,1]), \n",
    "        tf.concat([tf.roll(tf.range(n)[:, None], i, 0) for i in [-1, -2, 1, 2]], axis=0)\n",
    "    ],\n",
    "        axis=1\n",
    "    ), tf.int64)\n",
    "    values = tf.concat(\n",
    "        [2.*e/3., -e/12., -2.*e/3, e/12.], axis=0\n",
    "    )/h\n",
    "\n",
    "    D = tf.sparse.reorder(tf.sparse.SparseTensor(indices, values, tf.cast((n, n), tf.int64)))\n",
    "\n",
    "    err = tf.norm(tf.sparse.sparse_dense_matmul(D, u) - u_prime, np.inf)\n",
    "    return err"
   ]
  },
  {
   "cell_type": "code",
   "execution_count": 4,
   "metadata": {},
   "outputs": [
    {
     "data": {
      "image/png": "[encoded data removed]",
      "text/plain": [
       "<Figure size 720x576 with 1 Axes>"
      ]
     },
     "metadata": {
      "needs_background": "light"
     },
     "output_type": "display_data"
    }
   ],
   "source": [
    "n_vec = 2.**tf.range(3., 13.)\n",
    "\n",
    "\n",
    "fig = plt.figure(figsize=(10,8))\n",
    "_ = plt.loglog(n_vec, tf.map_fn(calc_diff_err_p1, tf.cast(n_vec, tf.float64)), \n",
    "               linestyle='none', marker='.', label='float64')\n",
    "_ = plt.loglog(n_vec, tf.map_fn(calc_diff_err_p1, tf.cast(n_vec, tf.float32)), \n",
    "               linestyle='none', marker='x', label='float32')\n",
    "_ = plt.title('Error for 4th order method with differing precision')\n",
    "_ = plt.xlabel('N')\n",
    "_ = plt.ylabel('error')\n",
    "_ = plt.legend()"
   ]
  },
  {
   "cell_type": "markdown",
   "metadata": {},
   "source": [
    "Program 2\n",
    "```\n",
    "% p2.m - convergence of periodic spectral method (compare p1.m)\n",
    "\n",
    "% For various N (even), set up grid as before:\n",
    "  clf, subplot('position',[.1 .4 .8 .5])\n",
    "  for N = 2:2:100;\n",
    "    h = 2*pi/N;\n",
    "    x = -pi + (1:N)'*h;\n",
    "    u = exp(sin(x)); uprime = cos(x).*u;\n",
    "\n",
    "    % Construct spectral differentiation matrix:\n",
    "    column = [0 .5*(-1).^(1:N-1).*cot((1:N-1)*h/2)];\n",
    "    D = toeplitz(column,column([1 N:-1:2]));\n",
    "\n",
    "    % Plot max(abs(D*u-uprime)):\n",
    "    error = norm(D*u-uprime,inf);\n",
    "    loglog(N,error,'.','markersize',15), hold on\n",
    "  end\n",
    "  grid on, xlabel N, ylabel error\n",
    "  title('Convergence of spectral differentiation')\n",
    "  ```"
   ]
  },
  {
   "cell_type": "code",
   "execution_count": 55,
   "metadata": {},
   "outputs": [],
   "source": [
    "def calc_diff_err_p2(n):\n",
    "#     n = n_vec[0]\n",
    "    h = 2.*np.pi/n\n",
    "    x = tf.range(1., n+1.)[:, None]*h - np.pi\n",
    "    u = tf.exp(tf.sin(x))\n",
    "    u_prime = tf.cos(x) * u\n",
    "    e = tf.cast(tf.ones(tf.cast(n, tf.int64)), n.dtype)\n",
    "\n",
    "    d = 0.5*(-1.**np.arange(1., n))/np.tan(np.arange(1., n)*h/2.)\n",
    "    column = tf.cast(tf.constant([0.] + d.tolist()), n.dtype)\n",
    "    row = tf.cast(tf.constant([1.] + column.numpy()[-1:0:-1].tolist()), n.dtype)\n",
    "\n",
    "    D = tf.cast(tf.linalg.LinearOperatorToeplitz(column, row).to_dense(), n.dtype)\n",
    "\n",
    "    err = tf.norm(D @ u - u_prime, np.inf)\n",
    "    return err"
   ]
  },
  {
   "cell_type": "code",
   "execution_count": 56,
   "metadata": {},
   "outputs": [
    {
     "data": {
      "image/png": "[encoded data removed]",
      "text/plain": [
       "<Figure size 720x576 with 1 Axes>"
      ]
     },
     "metadata": {
      "needs_background": "light"
     },
     "output_type": "display_data"
    }
   ],
   "source": [
    "n_vec = tf.range(2., 100., 2.)\n",
    "\n",
    "\n",
    "fig = plt.figure(figsize=(10,8))\n",
    "_ = plt.loglog(n_vec, tf.map_fn(calc_diff_err_p2, tf.cast(n_vec, tf.float64)), \n",
    "               linestyle='none', marker='.', label='float64')\n",
    "_ = plt.loglog(n_vec, tf.map_fn(calc_diff_err_p2, tf.cast(n_vec, tf.float32)), \n",
    "               linestyle='none', marker='x', label='float32')\n",
    "_ = plt.title('Error for 4th order method with differing precision')\n",
    "_ = plt.xlabel('N')\n",
    "_ = plt.ylabel('error')\n",
    "_ = plt.legend()"
   ]
  },
  {
   "cell_type": "code",
   "execution_count": 24,
   "metadata": {},
   "outputs": [
    {
     "data": {
      "text/plain": [
       "array([ 0.        , -0.18709834, -0.33288687, -0.433492  , -0.5019424 ,\n",
       "       -0.5498699 , -0.58471143, -0.610948  ], dtype=float32)"
      ]
     },
     "execution_count": 24,
     "metadata": {},
     "output_type": "execute_result"
    }
   ],
   "source": [
    "column.numpy()"
   ]
  },
  {
   "cell_type": "code",
   "execution_count": null,
   "metadata": {},
   "outputs": [],
   "source": []
  }
 ],
 "metadata": {
  "kernelspec": {
   "display_name": "Python 3",
   "language": "python",
   "name": "python3"
  },
  "language_info": {
   "codemirror_mode": {
    "name": "ipython",
    "version": 3
   },
   "file_extension": ".py",
   "mimetype": "text/x-python",
   "name": "python",
   "nbconvert_exporter": "python",
   "pygments_lexer": "ipython3",
   "version": "3.7.5"
  }
 },
 "nbformat": 4,
 "nbformat_minor": 4
}
