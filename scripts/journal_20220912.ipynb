{
 "cells": [
  {
   "cell_type": "markdown",
   "id": "0f3b6a11",
   "metadata": {},
   "source": [
    "# Journal 2022-09-12"
   ]
  },
  {
   "cell_type": "markdown",
   "id": "cb837550",
   "metadata": {},
   "source": [
    "# Links\n",
    "\n",
    "## AI Alignment\n",
    "[How can conversational agents be aligned with human values?](https://twitter.com/DeepMind/status/1567169247863869441) from DeepMind (via The Sequence newsletter).  Paper is [In conversation with Artificial Intelligence: aligning language models with human values](https://arxiv.org/abs/2209.00731) - feels like [opinion dynamics on discourse sheaves](https://twitter.com/robertghrist/status/1265451863006216202) could be applied to this?\n",
    "\n",
    "[Atoosa Kasirzadeh](https://twitter.com/Dr_Atoosa) (first author on paper) has another interesting paper to read [Algorithmic Fairness and Structural Injustice: Insights from Feminist Political Philosophy](https://arxiv.org/abs/2206.00945)\n",
    "\n",
    "[Iason Gabriel](https://twitter.com/iasongabriel?lang=en) (second author) has another paper [Artificial Intelligence, Values and Alignment](https://www.deepmind.com/publications/artificial-intelligence-values-and-alignment)\n",
    "\n",
    "[Sarah Shoker](https://twitter.com/SarahShoker/status/1557501992439672832) at OpenAI also looks worth a read.\n",
    "\n",
    "\n",
    "## LawTech\n",
    "[Why are investors pouring money into legal technology?](https://www.ft.com/content/b6f0796e-0265-40c6-ad4c-a900cd788c39) FT article, links to [Report on the economic contribution of lawtech](https://lawtechuk.io/explore/fe-report-2021)\n",
    "\n",
    "## DeFi\n",
    "[A primer on perpetuals](https://arxiv.org/abs/2209.03307)"
   ]
  },
  {
   "cell_type": "code",
   "execution_count": null,
   "id": "addaf068",
   "metadata": {},
   "outputs": [],
   "source": []
  }
 ],
 "metadata": {
  "kernelspec": {
   "display_name": "Python 3",
   "language": "python",
   "name": "python3"
  },
  "language_info": {
   "codemirror_mode": {
    "name": "ipython",
    "version": 3
   },
   "file_extension": ".py",
   "mimetype": "text/x-python",
   "name": "python",
   "nbconvert_exporter": "python",
   "pygments_lexer": "ipython3",
   "version": "3.8.14"
  }
 },
 "nbformat": 4,
 "nbformat_minor": 5
}
