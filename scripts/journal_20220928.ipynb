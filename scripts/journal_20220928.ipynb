{
 "cells": [
  {
   "cell_type": "markdown",
   "id": "9bf32ce3",
   "metadata": {},
   "source": [
    "# Journal 2022-09-28"
   ]
  },
  {
   "cell_type": "code",
   "execution_count": 1,
   "id": "45667a96",
   "metadata": {},
   "outputs": [],
   "source": [
    "%load_ext autoreload\n",
    "%autoreload 2"
   ]
  },
  {
   "cell_type": "code",
   "execution_count": 2,
   "id": "afbd71db",
   "metadata": {},
   "outputs": [],
   "source": [
    "import os\n",
    "import numpy as np\n",
    "import jax\n",
    "import jax.numpy as jnp\n",
    "import jraph\n",
    "import networkx as nx\n",
    "import matplotlib.pyplot as plt\n",
    "import seaborn as sns"
   ]
  },
  {
   "cell_type": "code",
   "execution_count": 10,
   "id": "ca13a170",
   "metadata": {},
   "outputs": [],
   "source": [
    "from jraph import GraphsTuple"
   ]
  },
  {
   "cell_type": "code",
   "execution_count": 3,
   "id": "b6fe266d",
   "metadata": {},
   "outputs": [
    {
     "name": "stderr",
     "output_type": "stream",
     "text": [
      "WARNING:absl:No GPU/TPU found, falling back to CPU. (Set TF_CPP_MIN_LOG_LEVEL=0 and rerun for more info.)\n"
     ]
    }
   ],
   "source": [
    "key = jax.random.PRNGKey(42)"
   ]
  },
  {
   "cell_type": "code",
   "execution_count": 75,
   "id": "a93d00ed",
   "metadata": {},
   "outputs": [],
   "source": [
    "graph_1 = GraphsTuple(\n",
    "    nodes=jax.random.normal(key, (3, 64)),\n",
    "    edges=jax.random.normal(key, (5, 64)),\n",
    "    globals=jnp.empty((0, 64)),\n",
    "    senders=jnp.array([0, 0, 1, 1, 2]),\n",
    "    receivers=jnp.array([1, 2, 0, 2, 1]),\n",
    "    n_node=jnp.array([3]), \n",
    "    n_edge=jnp.array([5]), \n",
    ")"
   ]
  },
  {
   "cell_type": "code",
   "execution_count": 76,
   "id": "c4e22c01",
   "metadata": {},
   "outputs": [],
   "source": [
    "graph_2 = GraphsTuple(\n",
    "    nodes=jax.random.normal(key, (5, 64)),\n",
    "    edges=jax.random.normal(key, (10, 64)),\n",
    "    senders=jnp.array([0,0,1,1,2,2,3,3,4,4]),\n",
    "    receivers=jnp.array([1,2,0,2,1,0,2,1,3,2]),\n",
    "    n_node=jnp.array([5]),\n",
    "    n_edge=jnp.array([10]),\n",
    "    globals=jax.random.normal(key, (0, 64))\n",
    ")"
   ]
  },
  {
   "cell_type": "code",
   "execution_count": 77,
   "id": "626556a7",
   "metadata": {},
   "outputs": [],
   "source": [
    "batch = jraph.batch([graph_1, graph_2])"
   ]
  },
  {
   "cell_type": "code",
   "execution_count": 78,
   "id": "8ec05a25",
   "metadata": {},
   "outputs": [
    {
     "data": {
      "text/plain": [
       "(0, 64)"
      ]
     },
     "execution_count": 78,
     "metadata": {},
     "output_type": "execute_result"
    }
   ],
   "source": [
    "graph_1.globals.shape"
   ]
  },
  {
   "cell_type": "code",
   "execution_count": 79,
   "id": "186ebad0",
   "metadata": {},
   "outputs": [
    {
     "data": {
      "text/plain": [
       "(0, 64)"
      ]
     },
     "execution_count": 79,
     "metadata": {},
     "output_type": "execute_result"
    }
   ],
   "source": [
    "graph_2.globals.shape"
   ]
  },
  {
   "cell_type": "code",
   "execution_count": 81,
   "id": "db18e0df",
   "metadata": {},
   "outputs": [
    {
     "data": {
      "text/plain": [
       "(0, 64)"
      ]
     },
     "execution_count": 81,
     "metadata": {},
     "output_type": "execute_result"
    }
   ],
   "source": [
    "jraph.unbatch(batch)[0].globals.shape"
   ]
  },
  {
   "cell_type": "code",
   "execution_count": 85,
   "id": "43c036fd",
   "metadata": {},
   "outputs": [],
   "source": [
    "from jax.experimental import sparse"
   ]
  },
  {
   "cell_type": "code",
   "execution_count": 92,
   "id": "da5b9452",
   "metadata": {},
   "outputs": [
    {
     "name": "stderr",
     "output_type": "stream",
     "text": [
      "<ipython-input-92-673e7639cd76>:2: FutureWarning: adjacency_matrix will return a scipy.sparse array instead of a matrix in Networkx 3.0.\n",
      "  A = nx.adjacency_matrix(G)\n"
     ]
    }
   ],
   "source": [
    "G = nx.grid_2d_graph(100, 100, periodic=True)\n",
    "A = nx.adjacency_matrix(G)"
   ]
  },
  {
   "cell_type": "code",
   "execution_count": 94,
   "id": "377f6746",
   "metadata": {},
   "outputs": [],
   "source": [
    "jA = sparse.BCOO.from_scipy_sparse(A)"
   ]
  },
  {
   "cell_type": "code",
   "execution_count": 100,
   "id": "f75ee04c",
   "metadata": {},
   "outputs": [
    {
     "data": {
      "text/plain": [
       "(40000, 2)"
      ]
     },
     "execution_count": 100,
     "metadata": {},
     "output_type": "execute_result"
    }
   ],
   "source": [
    "jA.indices.shape"
   ]
  },
  {
   "cell_type": "code",
   "execution_count": null,
   "id": "3760f731",
   "metadata": {},
   "outputs": [],
   "source": []
  },
  {
   "cell_type": "code",
   "execution_count": null,
   "id": "ff42bf90",
   "metadata": {},
   "outputs": [],
   "source": []
  },
  {
   "cell_type": "code",
   "execution_count": null,
   "id": "ef16853e",
   "metadata": {},
   "outputs": [],
   "source": []
  }
 ],
 "metadata": {
  "kernelspec": {
   "display_name": "Python 3",
   "language": "python",
   "name": "python3"
  },
  "language_info": {
   "codemirror_mode": {
    "name": "ipython",
    "version": 3
   },
   "file_extension": ".py",
   "mimetype": "text/x-python",
   "name": "python",
   "nbconvert_exporter": "python",
   "pygments_lexer": "ipython3",
   "version": "3.8.14"
  }
 },
 "nbformat": 4,
 "nbformat_minor": 5
}
