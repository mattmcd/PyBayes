{
 "cells": [
  {
   "cell_type": "markdown",
   "id": "0c822525",
   "metadata": {},
   "source": [
    "# Journal 2022-08-29"
   ]
  },
  {
   "cell_type": "code",
   "execution_count": 1,
   "id": "57dcfa50",
   "metadata": {},
   "outputs": [],
   "source": [
    "%load_ext autoreload\n",
    "%autoreload 2"
   ]
  },
  {
   "cell_type": "code",
   "execution_count": 2,
   "id": "b37b4409",
   "metadata": {},
   "outputs": [],
   "source": [
    "import numpy as np\n",
    "import pandas as pd\n",
    "import matplotlib.pyplot as plt\n",
    "import seaborn as sns\n",
    "import cvxpy as cp\n",
    "import sympy as sp"
   ]
  },
  {
   "cell_type": "code",
   "execution_count": 14,
   "id": "1e67a02d",
   "metadata": {},
   "outputs": [],
   "source": [
    "sp.init_printing(use_latex=True)"
   ]
  },
  {
   "cell_type": "markdown",
   "id": "8d936b50",
   "metadata": {},
   "source": [
    "# Constant Function Market Maker Maths\n",
    "Below we consider the mathematics of a Uniswap V2 style CFMM"
   ]
  },
  {
   "cell_type": "code",
   "execution_count": 68,
   "id": "2cac75c5",
   "metadata": {},
   "outputs": [],
   "source": [
    "x, y, w_x, w_y, k, p_s, v_s  = sp.symbols('x y w_x w_y k p v', positive=True)\n",
    "d_x, d_y, d_w = sp.symbols('Delta_x Delta_y Delta_w', real=True)"
   ]
  },
  {
   "cell_type": "markdown",
   "id": "39dcf7ba",
   "metadata": {},
   "source": [
    "Start with the invariant equation"
   ]
  },
  {
   "cell_type": "code",
   "execution_count": 69,
   "id": "1604b5df",
   "metadata": {},
   "outputs": [
    {
     "data": {
      "image/png": "[encoded data removed]",
      "text/latex": [
       "$\\displaystyle k = x^{w_{x}} y^{1 - w_{x}}$"
      ],
      "text/plain": [
       "     wₓ  1 - wₓ\n",
       "k = x  ⋅y      "
      ]
     },
     "execution_count": 69,
     "metadata": {},
     "output_type": "execute_result"
    }
   ],
   "source": [
    "inv_eqn = sp.Eq(k, x**w_x*y**w_y).subs({w_y: 1- w_x})\n",
    "inv_eqn"
   ]
  },
  {
   "cell_type": "markdown",
   "id": "e20b1acb",
   "metadata": {},
   "source": [
    "We can solve for the weight in terms of the invariant and token balances"
   ]
  },
  {
   "cell_type": "code",
   "execution_count": 70,
   "id": "5e5e7556",
   "metadata": {},
   "outputs": [
    {
     "data": {
      "image/png": "[encoded data removed]",
      "text/latex": [
       "$\\displaystyle w_{x} = \\frac{\\log{\\left(\\frac{k}{y} \\right)}}{\\log{\\left(\\frac{x}{y} \\right)}}$"
      ],
      "text/plain": [
       "        ⎛k⎞\n",
       "     log⎜─⎟\n",
       "        ⎝y⎠\n",
       "wₓ = ──────\n",
       "        ⎛x⎞\n",
       "     log⎜─⎟\n",
       "        ⎝y⎠"
      ]
     },
     "execution_count": 70,
     "metadata": {},
     "output_type": "execute_result"
    }
   ],
   "source": [
    "wt_eqn = sp.Eq(w_x, sp.solve(inv_eqn, w_x)[0])\n",
    "wt_eqn"
   ]
  },
  {
   "cell_type": "markdown",
   "id": "501e4ca7",
   "metadata": {},
   "source": [
    "A swap preserves the invariant so we can use this to solve for change in token balances.  Here we assume $\\Delta_x$ x tokens go into the CFMM, $\\Delta_y$ y tokens go out"
   ]
  },
  {
   "cell_type": "code",
   "execution_count": 71,
   "id": "79e65e48",
   "metadata": {},
   "outputs": [
    {
     "data": {
      "image/png": "[encoded data removed]",
      "text/latex": [
       "$\\displaystyle \\Delta_{y} = - \\frac{\\Delta_{x} w_{x} y}{x \\left(w_{x} - 1\\right)}$"
      ],
      "text/plain": [
       "      -Δₓ⋅wₓ⋅y  \n",
       "Δ_y = ──────────\n",
       "      x⋅(wₓ - 1)"
      ]
     },
     "execution_count": 71,
     "metadata": {},
     "output_type": "execute_result"
    }
   ],
   "source": [
    "swap_eqn = sp.Eq(\n",
    "    d_y, \n",
    "    sp.series(\n",
    "        sp.solve(sp.Eq(inv_eq, inv_eqn.subs({x: x + d_x, y: y - d_y})), d_y)[0],\n",
    "        d_x, n=2\n",
    "    ).removeO().simplify()\n",
    ")\n",
    "swap_eqn"
   ]
  },
  {
   "cell_type": "markdown",
   "id": "815b6c4d",
   "metadata": {},
   "source": [
    "The spot price of the y token interms of x is given by the gradient dx/dy "
   ]
  },
  {
   "cell_type": "code",
   "execution_count": 72,
   "id": "4cb1cb36",
   "metadata": {},
   "outputs": [
    {
     "data": {
      "image/png": "[encoded data removed]",
      "text/latex": [
       "$\\displaystyle p = \\frac{x \\left(1 - w_{x}\\right)}{w_{x} y}$"
      ],
      "text/plain": [
       "    x⋅(1 - wₓ)\n",
       "p = ──────────\n",
       "       wₓ⋅y   "
      ]
     },
     "execution_count": 72,
     "metadata": {},
     "output_type": "execute_result"
    }
   ],
   "source": [
    "price_eqn = sp.Eq(\n",
    "    p_s, d_x/d_y.subs({d_y: swap_eqn.rhs})\n",
    ").simplify()\n",
    "price_eqn"
   ]
  },
  {
   "cell_type": "markdown",
   "id": "39cbdf95",
   "metadata": {},
   "source": [
    "The total portfolio value contained in the CFMM is $x + p y$ for spot price p, which simplifies"
   ]
  },
  {
   "cell_type": "code",
   "execution_count": 104,
   "id": "138cb493",
   "metadata": {},
   "outputs": [
    {
     "data": {
      "image/png": "[encoded data removed]",
      "text/latex": [
       "$\\displaystyle v = \\frac{x}{w_{x}}$"
      ],
      "text/plain": [
       "    x \n",
       "v = ──\n",
       "    wₓ"
      ]
     },
     "execution_count": 104,
     "metadata": {},
     "output_type": "execute_result"
    }
   ],
   "source": [
    "value_eqn = sp.Eq(\n",
    "    v_s, x + y*price_eqn.rhs\n",
    ").simplify()\n",
    "value_eqn"
   ]
  },
  {
   "cell_type": "code",
   "execution_count": 105,
   "id": "436d3243",
   "metadata": {},
   "outputs": [
    {
     "data": {
      "text/latex": [
       "$\\displaystyle \\left[\\begin{matrix}w_{x} x^{w_{x} - 1} y^{1 - w_{x}} & \\left(\\frac{x}{y}\\right)^{w_{x}} \\left(1 - w_{x}\\right) & \\log{\\left(\\left(\\frac{x}{y}\\right)^{x^{w_{x}} y^{1 - w_{x}}} \\right)}\\\\\\frac{1 - w_{x}}{w_{x} y} & \\frac{x \\left(w_{x} - 1\\right)}{w_{x} y^{2}} & - \\frac{x}{w_{x}^{2} y}\\\\\\frac{1}{w_{x}} & 0 & - \\frac{x}{w_{x}^{2}}\\end{matrix}\\right]$"
      ],
      "text/plain": [
       "⎡                                       ⎛    wₓ  1 - wₓ⎞⎤\n",
       "⎢                       wₓ              ⎜   x  ⋅y      ⎟⎥\n",
       "⎢    wₓ - 1  1 - wₓ  ⎛x⎞                ⎜⎛x⎞           ⎟⎥\n",
       "⎢wₓ⋅x      ⋅y        ⎜─⎟  ⋅(1 - wₓ)  log⎜⎜─⎟           ⎟⎥\n",
       "⎢                    ⎝y⎠                ⎝⎝y⎠           ⎠⎥\n",
       "⎢                                                       ⎥\n",
       "⎢      1 - wₓ          x⋅(wₓ - 1)            -x         ⎥\n",
       "⎢      ──────          ──────────           ─────       ⎥\n",
       "⎢       wₓ⋅y                 2                2         ⎥\n",
       "⎢                        wₓ⋅y               wₓ ⋅y       ⎥\n",
       "⎢                                                       ⎥\n",
       "⎢        1                                   -x         ⎥\n",
       "⎢        ──                0                 ───        ⎥\n",
       "⎢        wₓ                                    2        ⎥\n",
       "⎣                                            wₓ         ⎦"
      ]
     },
     "execution_count": 105,
     "metadata": {},
     "output_type": "execute_result"
    }
   ],
   "source": [
    "jac_eqn = sp.Matrix(\n",
    "    [inv_eqn.rhs, price_eqn.rhs, value_eqn.rhs]\n",
    ").jacobian([x, y, w_x]).applyfunc(sp.simplify)\n",
    "jac_eqn"
   ]
  },
  {
   "cell_type": "code",
   "execution_count": 106,
   "id": "1bb65297",
   "metadata": {},
   "outputs": [
    {
     "data": {
      "image/png": "[encoded data removed]",
      "text/latex": [
       "$\\displaystyle \\Delta_{w} = \\frac{\\Delta_{x} w_{x}}{x}$"
      ],
      "text/plain": [
       "      Δₓ⋅wₓ\n",
       "Δ_w = ─────\n",
       "        x  "
      ]
     },
     "execution_count": 106,
     "metadata": {},
     "output_type": "execute_result"
    }
   ],
   "source": [
    "const_val_wt_eqn = sp.Eq(d_w, sp.solve(jac_eqn[2,0]*d_x - jac_eqn[2,1]*d_y + jac_eqn[2,2]*d_w, d_w)[0])\n",
    "const_val_wt_eqn"
   ]
  },
  {
   "cell_type": "code",
   "execution_count": 107,
   "id": "b319549a",
   "metadata": {},
   "outputs": [
    {
     "data": {
      "text/latex": [
       "$\\displaystyle \\left[\\begin{matrix}\\Delta_{x} w_{x} x^{w_{x} - 1} y^{1 - w_{x}} - \\frac{\\Delta_{x} w_{x} y \\left(\\frac{x}{y}\\right)^{w_{x}} \\left(1 - w_{x}\\right)}{x \\left(w_{x} - 1\\right)} + \\frac{\\Delta_{x} w_{x} \\log{\\left(\\left(\\frac{x}{y}\\right)^{x^{w_{x}} y^{1 - w_{x}}} \\right)}}{x}\\\\- \\frac{\\Delta_{x}}{y} + \\frac{\\Delta_{x} \\left(1 - w_{x}\\right)}{w_{x} y} - \\frac{\\Delta_{x}}{w_{x} y}\\\\0\\end{matrix}\\right]$"
      ],
      "text/plain": [
       "⎡                                                          ⎛    wₓ  1 - wₓ⎞⎤\n",
       "⎢                                   wₓ                     ⎜   x  ⋅y      ⎟⎥\n",
       "⎢                                ⎛x⎞                       ⎜⎛x⎞           ⎟⎥\n",
       "⎢                        Δₓ⋅wₓ⋅y⋅⎜─⎟  ⋅(1 - wₓ)   Δₓ⋅wₓ⋅log⎜⎜─⎟           ⎟⎥\n",
       "⎢       wₓ - 1  1 - wₓ           ⎝y⎠                       ⎝⎝y⎠           ⎠⎥\n",
       "⎢Δₓ⋅wₓ⋅x      ⋅y       - ────────────────────── + ─────────────────────────⎥\n",
       "⎢                              x⋅(wₓ - 1)                     x            ⎥\n",
       "⎢                                                                          ⎥\n",
       "⎢                          Δₓ   Δₓ⋅(1 - wₓ)    Δₓ                          ⎥\n",
       "⎢                        - ── + ─────────── - ────                         ⎥\n",
       "⎢                          y        wₓ⋅y      wₓ⋅y                         ⎥\n",
       "⎢                                                                          ⎥\n",
       "⎣                                    0                                     ⎦"
      ]
     },
     "execution_count": 107,
     "metadata": {},
     "output_type": "execute_result"
    }
   ],
   "source": [
    "jac_eqn @ sp.Matrix([d_x, swap_eqn.rhs, const_val_wt_eqn.rhs]).applyfunc(sp.simplify)"
   ]
  },
  {
   "cell_type": "code",
   "execution_count": 108,
   "id": "2c2a3819",
   "metadata": {},
   "outputs": [
    {
     "data": {
      "text/latex": [
       "$\\displaystyle \\left[\\begin{matrix}\\Delta_{x} w_{x} x^{w_{x} - 1} y^{1 - w_{x}} - \\frac{\\Delta_{x} w_{x} y \\left(\\frac{x}{y}\\right)^{w_{x}} \\left(1 - w_{x}\\right)}{x \\left(w_{x} - 1\\right)}\\\\- \\frac{\\Delta_{x}}{y} + \\frac{\\Delta_{x} \\left(1 - w_{x}\\right)}{w_{x} y}\\\\\\frac{\\Delta_{x}}{w_{x}}\\end{matrix}\\right]$"
      ],
      "text/plain": [
       "⎡                                   wₓ         ⎤\n",
       "⎢                                ⎛x⎞           ⎥\n",
       "⎢                        Δₓ⋅wₓ⋅y⋅⎜─⎟  ⋅(1 - wₓ)⎥\n",
       "⎢       wₓ - 1  1 - wₓ           ⎝y⎠           ⎥\n",
       "⎢Δₓ⋅wₓ⋅x      ⋅y       - ──────────────────────⎥\n",
       "⎢                              x⋅(wₓ - 1)      ⎥\n",
       "⎢                                              ⎥\n",
       "⎢                Δₓ   Δₓ⋅(1 - wₓ)              ⎥\n",
       "⎢              - ── + ───────────              ⎥\n",
       "⎢                y        wₓ⋅y                 ⎥\n",
       "⎢                                              ⎥\n",
       "⎢                      Δₓ                      ⎥\n",
       "⎢                      ──                      ⎥\n",
       "⎣                      wₓ                      ⎦"
      ]
     },
     "execution_count": 108,
     "metadata": {},
     "output_type": "execute_result"
    }
   ],
   "source": [
    "diff_eqn @ sp.Matrix([d_x, swap_eqn.rhs, 0]).applyfunc(sp.simplify)"
   ]
  },
  {
   "cell_type": "code",
   "execution_count": null,
   "id": "731c2e8d",
   "metadata": {},
   "outputs": [],
   "source": []
  }
 ],
 "metadata": {
  "kernelspec": {
   "display_name": "Python 3",
   "language": "python",
   "name": "python3"
  },
  "language_info": {
   "codemirror_mode": {
    "name": "ipython",
    "version": 3
   },
   "file_extension": ".py",
   "mimetype": "text/x-python",
   "name": "python",
   "nbconvert_exporter": "python",
   "pygments_lexer": "ipython3",
   "version": "3.8.13"
  }
 },
 "nbformat": 4,
 "nbformat_minor": 5
}
