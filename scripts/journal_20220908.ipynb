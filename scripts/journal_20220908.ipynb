{
 "cells": [
  {
   "cell_type": "markdown",
   "id": "b50e47bc",
   "metadata": {},
   "source": [
    "# Journal 2022-09-08"
   ]
  },
  {
   "cell_type": "markdown",
   "id": "12c73c7a",
   "metadata": {},
   "source": [
    "# Links\n",
    "* [New paper from @tarunchitra et al](https://twitter.com/tarunchitra/status/1567710458664075265) - [A Primer on Perpetuals](A primer on perpetuals)\n",
    "* Via Nature News Briefing: [Ranking the effectiveness of worldwide COVID-19 government interventions](https://www.nature.com/articles/s41562-020-01009-0) - looks very interesting, they use a range of models to fir change in R vs range of different interventions.  Methods include case-control analysis, Lasso, Random Forest, and Transformers\n",
    "  * More information in the [supplementary material](https://static-content.springer.com/esm/art%3A10.1038%2Fs41562-020-01009-0/MediaObjects/41562_2020_1009_MOESM1_ESM.pdf)\n",
    "  * There's also a [GitHUb repo](https://github.com/complexity-science-hub/ranking_npis)\n",
    "* Thinking about Transformers, can they run on EdgeTPU?  [MobileBERT-EdgeTPU](https://fossies.org/linux/tensorflow-official-models/official/projects/edgetpu/nlp/README.md) looks promising\n",
    "* [MobileBERT: a Compact Task-Agnostic BERT for Resource-Limited Devices](https://arxiv.org/abs/2004.02984)\n",
    "* [TFLite version of MobileBERT](https://tfhub.dev/google/lite-model/edgetpu/nlp/mobilebert-edgetpu/xs/1) looks like a thing to try on my EdgeTPU _later_ ah, edgetpu_compiler doesn't seem to work on it.  Does compile for runtime versions 10 or 11 but no later (and those no ops are sent to TPU).  Check that it is using uint8 in model?  Ah, looks like int32 for the EdgeTPU on Pixel6 phones not EdgeTPU for coral.ai\n",
    "* [Causal Transformer for Estimating Counterfactual Outcomes](https://arxiv.org/abs/2204.07258)\n",
    "* [Attention, Learn to Solve Routing Problems!](https://arxiv.org/abs/1803.08475)\n"
   ]
  },
  {
   "cell_type": "markdown",
   "id": "f5c94eba",
   "metadata": {},
   "source": [
    "# Transformers\n",
    "Go through [Transformers from Scratch](https://e2eml.school/transformers.html) and other resources to finally learn about transformers."
   ]
  },
  {
   "cell_type": "code",
   "execution_count": 1,
   "id": "9ff69f3f",
   "metadata": {},
   "outputs": [],
   "source": [
    "%load_ext autoreload\n",
    "%autoreload 2"
   ]
  },
  {
   "cell_type": "code",
   "execution_count": null,
   "id": "9e76765b",
   "metadata": {},
   "outputs": [],
   "source": []
  }
 ],
 "metadata": {
  "kernelspec": {
   "display_name": "Python 3",
   "language": "python",
   "name": "python3"
  },
  "language_info": {
   "codemirror_mode": {
    "name": "ipython",
    "version": 3
   },
   "file_extension": ".py",
   "mimetype": "text/x-python",
   "name": "python",
   "nbconvert_exporter": "python",
   "pygments_lexer": "ipython3",
   "version": "3.8.14"
  }
 },
 "nbformat": 4,
 "nbformat_minor": 5
}
