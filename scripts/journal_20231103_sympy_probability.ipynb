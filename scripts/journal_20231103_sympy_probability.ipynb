{
 "cells": [
  {
   "cell_type": "markdown",
   "id": "d92e872a-f88b-42a5-b02f-9606b6a3e2a7",
   "metadata": {
    "collapsed": true,
    "jupyter": {
     "outputs_hidden": true
    }
   },
   "source": [
    "# SymPy Probability\n",
    "Initial goal: see if I can derive the Binomial equivalent of [Robbins' formula](https://www.wikiwand.com/en/Empirical_Bayes_method#Robbins'_method:_non-parametric_empirical_Bayes_(NPEB))."
   ]
  },
  {
   "cell_type": "code",
   "execution_count": 1,
   "id": "a3763ed8-a06b-4695-9c76-ad2a96b75f67",
   "metadata": {},
   "outputs": [],
   "source": [
    "%load_ext autoreload\n",
    "%autoreload 2"
   ]
  },
  {
   "cell_type": "code",
   "execution_count": 2,
   "id": "8b8a0e12-f889-4c28-acb3-424d5c101829",
   "metadata": {},
   "outputs": [],
   "source": [
    "import sympy as sp\n",
    "from sympy.stats import density, E, P, given, where, Poisson, Binomial, Gamma, NegativeBinomial"
   ]
  },
  {
   "cell_type": "code",
   "execution_count": 3,
   "id": "d01451f7-7580-4d3a-8051-1a87c0013e71",
   "metadata": {},
   "outputs": [],
   "source": [
    "sp.init_printing(use_latex=True)"
   ]
  },
  {
   "cell_type": "code",
   "execution_count": 4,
   "id": "0fbb22cf-1b6a-429a-ba2c-065204f05a4e",
   "metadata": {},
   "outputs": [],
   "source": [
    "q, l = sp.symbols('theta lambda', real=True, nonnegative=True)"
   ]
  },
  {
   "cell_type": "code",
   "execution_count": 5,
   "id": "e6dcb2c9-0db1-4ec4-b7e6-47a1f31fb3de",
   "metadata": {},
   "outputs": [],
   "source": [
    "n, x = sp.symbols('n x', integer=True, positive=True)\n",
    "z, u, v = sp.symbols('z u v', real=True)\n",
    "g = sp.Function('g')"
   ]
  },
  {
   "cell_type": "code",
   "execution_count": 6,
   "id": "ea4c4bc8-0325-4c0f-9ec9-db48a505f011",
   "metadata": {},
   "outputs": [
    {
     "data": {
      "image/png": "[encoded data removed]",
      "text/latex": [
       "$\\displaystyle p = \\frac{\\lambda^{x} e^{- \\lambda}}{x!}$"
      ],
      "text/plain": [
       "     x  -λ\n",
       "    λ ⋅ℯ  \n",
       "p = ──────\n",
       "      x!  "
      ]
     },
     "execution_count": 6,
     "metadata": {},
     "output_type": "execute_result"
    }
   ],
   "source": [
    "p = Poisson('p', l)\n",
    "sp.Eq(p, density(p)(x))"
   ]
  },
  {
   "cell_type": "code",
   "execution_count": 7,
   "id": "9f43fe06-7db7-46c1-b84a-8db22f4be679",
   "metadata": {},
   "outputs": [
    {
     "data": {
      "text/latex": [
       "$\\displaystyle b = \\begin{cases} \\theta^{x} \\left(1 - \\theta\\right)^{n - x} {\\binom{n}{x}} & \\text{for}\\: n \\geq x \\\\0 & \\text{otherwise} \\end{cases}$"
      ],
      "text/plain": [
       "    ⎧ x        n - x ⎛n⎞           \n",
       "    ⎪θ ⋅(1 - θ)     ⋅⎜ ⎟  for n ≥ x\n",
       "b = ⎨                ⎝x⎠           \n",
       "    ⎪                              \n",
       "    ⎩         0           otherwise"
      ]
     },
     "execution_count": 7,
     "metadata": {},
     "output_type": "execute_result"
    }
   ],
   "source": [
    "b = Binomial('b', n, q)\n",
    "sp.Eq(b, density(b)(x))"
   ]
  },
  {
   "cell_type": "markdown",
   "id": "3f272bc8-1738-4468-9cc8-62fac2749e45",
   "metadata": {},
   "source": [
    "# Poisson\n",
    "Try replicating working from Chapter 6 of Computer Age Statistical Inference"
   ]
  },
  {
   "cell_type": "code",
   "execution_count": 8,
   "id": "b933b238-24cc-4637-a37c-86ea2f31989e",
   "metadata": {},
   "outputs": [
    {
     "data": {
      "image/png": "[encoded data removed]",
      "text/latex": [
       "$\\displaystyle \\frac{\\int \\lambda^{x} g{\\left(\\lambda \\right)} e^{- \\lambda}\\, d\\lambda}{x!}$"
      ],
      "text/plain": [
       "⌠               \n",
       "⎮  x       -λ   \n",
       "⎮ λ ⋅g(λ)⋅ℯ   dλ\n",
       "⌡               \n",
       "────────────────\n",
       "       x!       "
      ]
     },
     "execution_count": 8,
     "metadata": {},
     "output_type": "execute_result"
    }
   ],
   "source": [
    "f = sp.Lambda(x, sp.Integral(density(p)(x)*g(l), l).simplify())\n",
    "f(x)"
   ]
  },
  {
   "cell_type": "code",
   "execution_count": 9,
   "id": "252c1a0f-385c-4d81-80c0-a206806447c4",
   "metadata": {},
   "outputs": [
    {
     "data": {
      "image/png": "[encoded data removed]",
      "text/latex": [
       "$\\displaystyle \\frac{\\int \\lambda^{x + 1} g{\\left(\\lambda \\right)} e^{- \\lambda}\\, d\\lambda}{\\left(x + 1\\right)!}$"
      ],
      "text/plain": [
       "⌠                   \n",
       "⎮  x + 1       -λ   \n",
       "⎮ λ     ⋅g(λ)⋅ℯ   dλ\n",
       "⌡                   \n",
       "────────────────────\n",
       "      (x + 1)!      "
      ]
     },
     "execution_count": 9,
     "metadata": {},
     "output_type": "execute_result"
    }
   ],
   "source": [
    "f(x+1)"
   ]
  },
  {
   "cell_type": "code",
   "execution_count": 10,
   "id": "47cc3fac-6cba-48bc-813f-3ca6a017a8ef",
   "metadata": {},
   "outputs": [
    {
     "data": {
      "image/png": "[encoded data removed]",
      "text/latex": [
       "$\\displaystyle \\frac{\\int \\lambda^{x + 1} g{\\left(\\lambda \\right)} e^{- \\lambda}\\, d\\lambda}{\\int \\lambda^{x} g{\\left(\\lambda \\right)} e^{- \\lambda}\\, d\\lambda}$"
      ],
      "text/plain": [
       "⌠                   \n",
       "⎮  x + 1       -λ   \n",
       "⎮ λ     ⋅g(λ)⋅ℯ   dλ\n",
       "⌡                   \n",
       "────────────────────\n",
       "  ⌠                 \n",
       "  ⎮  x       -λ     \n",
       "  ⎮ λ ⋅g(λ)⋅ℯ   dλ  \n",
       "  ⌡                 "
      ]
     },
     "execution_count": 10,
     "metadata": {},
     "output_type": "execute_result"
    }
   ],
   "source": [
    "(sp.Integral(l*density(p)(x)*g(l), l)/f(x)).simplify()"
   ]
  },
  {
   "cell_type": "code",
   "execution_count": 11,
   "id": "1ccb0d61-45ae-44e6-92cc-a7e2776f59a5",
   "metadata": {},
   "outputs": [
    {
     "data": {
      "image/png": "[encoded data removed]",
      "text/latex": [
       "$\\displaystyle \\frac{\\left(x + 1\\right) x! \\int \\lambda^{x + 1} g{\\left(\\lambda \\right)} e^{- \\lambda}\\, d\\lambda}{\\left(x + 1\\right)! \\int \\lambda^{x} g{\\left(\\lambda \\right)} e^{- \\lambda}\\, d\\lambda}$"
      ],
      "text/plain": [
       "           ⌠                   \n",
       "           ⎮  x + 1       -λ   \n",
       "(x + 1)⋅x!⋅⎮ λ     ⋅g(λ)⋅ℯ   dλ\n",
       "           ⌡                   \n",
       "───────────────────────────────\n",
       "            ⌠                  \n",
       "            ⎮  x       -λ      \n",
       "   (x + 1)!⋅⎮ λ ⋅g(λ)⋅ℯ   dλ   \n",
       "            ⌡                  "
      ]
     },
     "execution_count": 11,
     "metadata": {},
     "output_type": "execute_result"
    }
   ],
   "source": [
    "((x+1)*f(x+1)/f(x))"
   ]
  },
  {
   "cell_type": "code",
   "execution_count": 12,
   "id": "828d6454-8174-4f08-b410-57f5b492a474",
   "metadata": {},
   "outputs": [
    {
     "data": {
      "image/png": "[encoded data removed]",
      "text/latex": [
       "$\\displaystyle \\frac{\\int \\lambda^{x + 2} g{\\left(\\lambda \\right)} e^{- \\lambda}\\, d\\lambda}{x!}$"
      ],
      "text/plain": [
       "⌠                   \n",
       "⎮  x + 2       -λ   \n",
       "⎮ λ     ⋅g(λ)⋅ℯ   dλ\n",
       "⌡                   \n",
       "────────────────────\n",
       "         x!         "
      ]
     },
     "execution_count": 12,
     "metadata": {},
     "output_type": "execute_result"
    }
   ],
   "source": [
    "sp.Integral(l**2*density(p)(x)*g(l), l).simplify()"
   ]
  },
  {
   "cell_type": "markdown",
   "id": "e14e30e0-8e31-428d-b05e-2b49c623ff6d",
   "metadata": {},
   "source": [
    "# Binomial "
   ]
  },
  {
   "cell_type": "code",
   "execution_count": 13,
   "id": "c757b7ed-635b-4076-bf2b-7c31dd8053b6",
   "metadata": {},
   "outputs": [
    {
     "data": {
      "image/png": "[encoded data removed]",
      "text/latex": [
       "$\\displaystyle \\int \\theta^{x} \\left(1 - \\theta\\right)^{n - x} g{\\left(\\theta \\right)} {\\binom{n}{x}}\\, d\\theta$"
      ],
      "text/plain": [
       "⌠                            \n",
       "⎮  x        n - x      ⎛n⎞   \n",
       "⎮ θ ⋅(1 - θ)     ⋅g(θ)⋅⎜ ⎟ dθ\n",
       "⎮                      ⎝x⎠   \n",
       "⌡                            "
      ]
     },
     "execution_count": 13,
     "metadata": {},
     "output_type": "execute_result"
    }
   ],
   "source": [
    "sp.refine(sp.Integral(density(b)(x)*g(q), q).simplify().simplify(), x<=n)"
   ]
  },
  {
   "cell_type": "code",
   "execution_count": 14,
   "id": "0da248b7-e6d0-4f5a-a090-ecfe560ee191",
   "metadata": {},
   "outputs": [
    {
     "data": {
      "image/png": "[encoded data removed]",
      "text/latex": [
       "$\\displaystyle \\frac{\\int \\theta^{x + 1} \\left(1 - \\theta\\right)^{n - x} g{\\left(\\theta \\right)} {\\binom{n}{x}}\\, d\\theta}{\\int \\theta^{x} \\left(1 - \\theta\\right)^{n - x} g{\\left(\\theta \\right)} {\\binom{n}{x}}\\, d\\theta}$"
      ],
      "text/plain": [
       "⌠                                \n",
       "⎮  x + 1        n - x      ⎛n⎞   \n",
       "⎮ θ     ⋅(1 - θ)     ⋅g(θ)⋅⎜ ⎟ dθ\n",
       "⎮                          ⎝x⎠   \n",
       "⌡                                \n",
       "─────────────────────────────────\n",
       "  ⌠                              \n",
       "  ⎮  x        n - x      ⎛n⎞     \n",
       "  ⎮ θ ⋅(1 - θ)     ⋅g(θ)⋅⎜ ⎟ dθ  \n",
       "  ⎮                      ⎝x⎠     \n",
       "  ⌡                              "
      ]
     },
     "execution_count": 14,
     "metadata": {},
     "output_type": "execute_result"
    }
   ],
   "source": [
    "(\n",
    "    sp.refine(sp.Integral(q*density(b)(x)*g(q), q).simplify().simplify(), x<=n)/\n",
    "    sp.refine(sp.Integral(density(b)(x)*g(q), q).simplify().simplify(), x<=n)\n",
    ")"
   ]
  },
  {
   "cell_type": "code",
   "execution_count": 15,
   "id": "6068aee3-7ad1-4c37-9253-ecc10b1f5909",
   "metadata": {},
   "outputs": [
    {
     "data": {
      "image/png": "[encoded data removed]",
      "text/latex": [
       "$\\displaystyle \\int \\left(e^{z} + 1\\right)^{- n - 2} g{\\left(\\frac{e^{z}}{e^{z} + 1} \\right)} e^{x z + z} {\\binom{n}{x}}\\, dz$"
      ],
      "text/plain": [
       "⌠                                         \n",
       "⎮         -n - 2  ⎛   z  ⎞                \n",
       "⎮ ⎛ z    ⎞        ⎜  ℯ   ⎟  x⋅z + z ⎛n⎞   \n",
       "⎮ ⎝ℯ  + 1⎠      ⋅g⎜──────⎟⋅ℯ       ⋅⎜ ⎟ dz\n",
       "⎮                 ⎜ z    ⎟          ⎝x⎠   \n",
       "⎮                 ⎝ℯ  + 1⎠                \n",
       "⌡                                         "
      ]
     },
     "execution_count": 15,
     "metadata": {},
     "output_type": "execute_result"
    }
   ],
   "source": [
    "h = sp.Lambda(x, sp.refine(sp.Integral(density(b)(x)*g(q), q).simplify().transform(q, 1/(1+sp.exp(-z))).simplify(), x<=n))\n",
    "h(x)"
   ]
  },
  {
   "cell_type": "code",
   "execution_count": 16,
   "id": "94b49322-8107-486e-a751-25926705db7a",
   "metadata": {},
   "outputs": [
    {
     "data": {
      "image/png": "[encoded data removed]",
      "text/latex": [
       "$\\displaystyle \\int \\left(e^{z} + 1\\right)^{- n - 3} g{\\left(\\frac{e^{z}}{e^{z} + 1} \\right)} e^{z \\left(x + 2\\right)} {\\binom{n}{x}}\\, dz$"
      ],
      "text/plain": [
       "⌠                                           \n",
       "⎮         -n - 3  ⎛   z  ⎞                  \n",
       "⎮ ⎛ z    ⎞        ⎜  ℯ   ⎟  z⋅(x + 2) ⎛n⎞   \n",
       "⎮ ⎝ℯ  + 1⎠      ⋅g⎜──────⎟⋅ℯ         ⋅⎜ ⎟ dz\n",
       "⎮                 ⎜ z    ⎟            ⎝x⎠   \n",
       "⎮                 ⎝ℯ  + 1⎠                  \n",
       "⌡                                           "
      ]
     },
     "execution_count": 16,
     "metadata": {},
     "output_type": "execute_result"
    }
   ],
   "source": [
    "sp.refine(sp.Integral(q*density(b)(x)*g(q), q).simplify().transform(q, 1/(1+sp.exp(-z))).simplify(), x<=n)"
   ]
  },
  {
   "cell_type": "code",
   "execution_count": 17,
   "id": "175bb43e-83f6-4a27-af3c-4a153c9f6cd5",
   "metadata": {},
   "outputs": [
    {
     "data": {
      "image/png": "[encoded data removed]",
      "text/latex": [
       "$\\displaystyle \\int \\left(e^{z} + 1\\right)^{- n - 2} g{\\left(\\frac{e^{z}}{e^{z} + 1} \\right)} e^{z \\left(x + 1\\right) + z} {\\binom{n}{x + 1}}\\, dz$"
      ],
      "text/plain": [
       "⌠                                                   \n",
       "⎮         -n - 2  ⎛   z  ⎞                          \n",
       "⎮ ⎛ z    ⎞        ⎜  ℯ   ⎟  z⋅(x + 1) + z ⎛  n  ⎞   \n",
       "⎮ ⎝ℯ  + 1⎠      ⋅g⎜──────⎟⋅ℯ             ⋅⎜     ⎟ dz\n",
       "⎮                 ⎜ z    ⎟                ⎝x + 1⎠   \n",
       "⎮                 ⎝ℯ  + 1⎠                          \n",
       "⌡                                                   "
      ]
     },
     "execution_count": 17,
     "metadata": {},
     "output_type": "execute_result"
    }
   ],
   "source": [
    "h(x+1)"
   ]
  },
  {
   "cell_type": "code",
   "execution_count": 18,
   "id": "2ca1ef02-f2dc-40a3-8216-b00a2d400a48",
   "metadata": {},
   "outputs": [
    {
     "data": {
      "image/png": "[encoded data removed]",
      "text/latex": [
       "$\\displaystyle \\frac{\\int \\left(e^{z} + 1\\right)^{- n - 2} g{\\left(\\frac{e^{z}}{e^{z} + 1} \\right)} e^{z \\left(x + 1\\right) + z} {\\binom{n}{x + 1}}\\, dz}{\\int \\left(e^{z} + 1\\right)^{- n - 2} g{\\left(\\frac{e^{z}}{e^{z} + 1} \\right)} e^{x z + z} {\\binom{n}{x}}\\, dz}$"
      ],
      "text/plain": [
       "⌠                                                   \n",
       "⎮         -n - 2  ⎛   z  ⎞                          \n",
       "⎮ ⎛ z    ⎞        ⎜  ℯ   ⎟  z⋅(x + 1) + z ⎛  n  ⎞   \n",
       "⎮ ⎝ℯ  + 1⎠      ⋅g⎜──────⎟⋅ℯ             ⋅⎜     ⎟ dz\n",
       "⎮                 ⎜ z    ⎟                ⎝x + 1⎠   \n",
       "⎮                 ⎝ℯ  + 1⎠                          \n",
       "⌡                                                   \n",
       "────────────────────────────────────────────────────\n",
       "     ⌠                                              \n",
       "     ⎮         -n - 2  ⎛   z  ⎞                     \n",
       "     ⎮ ⎛ z    ⎞        ⎜  ℯ   ⎟  x⋅z + z ⎛n⎞        \n",
       "     ⎮ ⎝ℯ  + 1⎠      ⋅g⎜──────⎟⋅ℯ       ⋅⎜ ⎟ dz     \n",
       "     ⎮                 ⎜ z    ⎟          ⎝x⎠        \n",
       "     ⎮                 ⎝ℯ  + 1⎠                     \n",
       "     ⌡                                              "
      ]
     },
     "execution_count": 18,
     "metadata": {},
     "output_type": "execute_result"
    }
   ],
   "source": [
    "(h(x+1)/h(x))"
   ]
  },
  {
   "cell_type": "code",
   "execution_count": 19,
   "id": "971ade24-9bbe-4d16-91dd-b0465d46dfd6",
   "metadata": {},
   "outputs": [
    {
     "data": {
      "image/png": "[encoded data removed]",
      "text/latex": [
       "$\\displaystyle \\int \\left(u + 1\\right)^{- n - 2} g{\\left(\\frac{u}{u + 1} \\right)} e^{x \\log{\\left(u \\right)}} {\\binom{n}{x}}\\, du$"
      ],
      "text/plain": [
       "⌠                                        \n",
       "⎮        -n - 2  ⎛  u  ⎞  x⋅log(u) ⎛n⎞   \n",
       "⎮ (u + 1)      ⋅g⎜─────⎟⋅ℯ        ⋅⎜ ⎟ du\n",
       "⎮                ⎝u + 1⎠           ⎝x⎠   \n",
       "⌡                                        "
      ]
     },
     "execution_count": 19,
     "metadata": {},
     "output_type": "execute_result"
    }
   ],
   "source": [
    "h(x).transform(sp.exp(z), u)"
   ]
  },
  {
   "cell_type": "code",
   "execution_count": 20,
   "id": "0ebce2a3-4623-4bad-b53d-f08cb145d9c8",
   "metadata": {},
   "outputs": [
    {
     "data": {
      "image/png": "[encoded data removed]",
      "text/latex": [
       "$\\displaystyle \\int \\left(u + 1\\right)^{- n - 2} g{\\left(\\frac{u}{u + 1} \\right)} e^{\\left(x + 1\\right) \\log{\\left(u \\right)}} {\\binom{n}{x + 1}}\\, du$"
      ],
      "text/plain": [
       "⌠                                                  \n",
       "⎮        -n - 2  ⎛  u  ⎞  (x + 1)⋅log(u) ⎛  n  ⎞   \n",
       "⎮ (u + 1)      ⋅g⎜─────⎟⋅ℯ              ⋅⎜     ⎟ du\n",
       "⎮                ⎝u + 1⎠                 ⎝x + 1⎠   \n",
       "⌡                                                  "
      ]
     },
     "execution_count": 20,
     "metadata": {},
     "output_type": "execute_result"
    }
   ],
   "source": [
    "h(x+1).transform(sp.exp(z), u)"
   ]
  },
  {
   "cell_type": "code",
   "execution_count": 21,
   "id": "97552774-e054-4619-b964-ffe6b7736cbe",
   "metadata": {},
   "outputs": [
    {
     "data": {
      "image/png": "[encoded data removed]",
      "text/latex": [
       "$\\displaystyle \\int \\frac{\\left(u + 1\\right)^{- n - 3} g{\\left(\\frac{u}{u + 1} \\right)} e^{\\left(x + 2\\right) \\log{\\left(u \\right)}} {\\binom{n}{x}}}{u}\\, du$"
      ],
      "text/plain": [
       "⌠                                              \n",
       "⎮        -n - 3  ⎛  u  ⎞  (x + 2)⋅log(u) ⎛n⎞   \n",
       "⎮ (u + 1)      ⋅g⎜─────⎟⋅ℯ              ⋅⎜ ⎟   \n",
       "⎮                ⎝u + 1⎠                 ⎝x⎠   \n",
       "⎮ ────────────────────────────────────────── du\n",
       "⎮                     u                        \n",
       "⌡                                              "
      ]
     },
     "execution_count": 21,
     "metadata": {},
     "output_type": "execute_result"
    }
   ],
   "source": [
    "sp.refine(sp.Integral(q*density(b)(x)*g(q), q).simplify().transform(q, 1/(1+sp.exp(-z))).simplify(), x<=n).transform(sp.exp(z), u)"
   ]
  },
  {
   "cell_type": "markdown",
   "id": "e7be0298-738f-4f9c-a2fc-d8619d8a8922",
   "metadata": {},
   "source": [
    "# Poisson with Gamma prior"
   ]
  },
  {
   "cell_type": "code",
   "execution_count": 22,
   "id": "30d8a3bd-cd13-4703-a78c-7ede3af72d62",
   "metadata": {},
   "outputs": [],
   "source": [
    "mu, nu, a, b = sp.symbols('mu nu alpha beta', nonnegative=True)\n",
    "p_x = Poisson('p_x', mu)  # Likelihood of x given parameter mu\n",
    "p_mu = Gamma('p_mu', nu, 1)  # Prior on mu"
   ]
  },
  {
   "cell_type": "code",
   "execution_count": 23,
   "id": "86757906-5307-4023-bdbc-02979645be0b",
   "metadata": {},
   "outputs": [
    {
     "data": {
      "image/png": "[encoded data removed]",
      "text/latex": [
       "$\\displaystyle \\frac{2^{- \\nu - x} \\Gamma\\left(\\nu + x\\right)}{\\Gamma\\left(\\nu\\right) \\Gamma\\left(x + 1\\right)}$"
      ],
      "text/plain": [
       " -ν - x         \n",
       "2      ⋅Γ(ν + x)\n",
       "────────────────\n",
       " Γ(ν)⋅Γ(x + 1)  "
      ]
     },
     "execution_count": 23,
     "metadata": {},
     "output_type": "execute_result"
    }
   ],
   "source": [
    "# Marginal distribution of x\n",
    "f_x = sp.integrate(density(p_x)(x)*density(p_mu)(mu), (mu, 0, sp.oo)).simplify()\n",
    "f_x"
   ]
  },
  {
   "cell_type": "code",
   "execution_count": 24,
   "id": "3c6c23e4-b024-4866-bb0d-4a434b497f06",
   "metadata": {},
   "outputs": [
    {
     "data": {
      "image/png": "[encoded data removed]",
      "text/latex": [
       "$\\displaystyle \\frac{2^{\\nu + x} \\mu^{\\nu + x - 1} e^{- 2 \\mu}}{\\Gamma\\left(\\nu + x\\right)}$"
      ],
      "text/plain": [
       " ν + x  ν + x - 1  -2⋅μ\n",
       "2     ⋅μ         ⋅ℯ    \n",
       "───────────────────────\n",
       "        Γ(ν + x)       "
      ]
     },
     "execution_count": 24,
     "metadata": {},
     "output_type": "execute_result"
    }
   ],
   "source": [
    "# Conditional distribution of mu given X = x: Bayes rule\n",
    "p_mu_post = (density(p_x)(x)*density(p_mu)(mu) / f_x).simplify()\n",
    "p_mu_post"
   ]
  },
  {
   "cell_type": "code",
   "execution_count": 25,
   "id": "91e2b058-3a74-46da-9a03-ba1918d204c3",
   "metadata": {},
   "outputs": [
    {
     "data": {
      "image/png": "[encoded data removed]",
      "text/latex": [
       "$\\displaystyle \\frac{2^{\\nu + x} \\mu^{\\nu + x - 1} e^{- 2 \\mu}}{\\Gamma\\left(\\nu + x\\right)}$"
      ],
      "text/plain": [
       " ν + x  ν + x - 1  -2⋅μ\n",
       "2     ⋅μ         ⋅ℯ    \n",
       "───────────────────────\n",
       "        Γ(ν + x)       "
      ]
     },
     "execution_count": 25,
     "metadata": {},
     "output_type": "execute_result"
    }
   ],
   "source": [
    "density(Gamma('p_mu', nu + x, sp.S.Half))(mu)"
   ]
  },
  {
   "cell_type": "code",
   "execution_count": 33,
   "id": "d9b8c275-ceef-45b6-b99f-3fb60da73662",
   "metadata": {},
   "outputs": [
    {
     "data": {
      "image/png": "[encoded data removed]",
      "text/latex": [
       "$\\displaystyle \\frac{\\beta^{- \\alpha} \\mu^{\\alpha - 1} e^{- \\frac{\\mu}{\\beta}}}{\\Gamma\\left(\\alpha\\right)}$"
      ],
      "text/plain": [
       "            -μ \n",
       "            ───\n",
       " -α  α - 1   β \n",
       "β  ⋅μ     ⋅ℯ   \n",
       "───────────────\n",
       "      Γ(α)     "
      ]
     },
     "execution_count": 33,
     "metadata": {},
     "output_type": "execute_result"
    }
   ],
   "source": [
    "g_generic = density(Gamma('p_mu', a, b))(mu)\n",
    "g_generic"
   ]
  },
  {
   "cell_type": "code",
   "execution_count": 50,
   "id": "f3a854e8-87f9-49a6-92b3-f27558b26e98",
   "metadata": {},
   "outputs": [
    {
     "data": {
      "image/png": "[encoded data removed]",
      "text/latex": [
       "$\\displaystyle 1$"
      ],
      "text/plain": [
       "1"
      ]
     },
     "execution_count": 50,
     "metadata": {},
     "output_type": "execute_result"
    }
   ],
   "source": [
    "sp.gamma(1)"
   ]
  },
  {
   "cell_type": "code",
   "execution_count": null,
   "id": "ee27a3fe-dad6-406d-b02d-d91864522db7",
   "metadata": {},
   "outputs": [],
   "source": []
  }
 ],
 "metadata": {
  "kernelspec": {
   "display_name": "Python 3 (ipykernel)",
   "language": "python",
   "name": "python3"
  },
  "language_info": {
   "codemirror_mode": {
    "name": "ipython",
    "version": 3
   },
   "file_extension": ".py",
   "mimetype": "text/x-python",
   "name": "python",
   "nbconvert_exporter": "python",
   "pygments_lexer": "ipython3",
   "version": "3.10.13"
  }
 },
 "nbformat": 4,
 "nbformat_minor": 5
}
