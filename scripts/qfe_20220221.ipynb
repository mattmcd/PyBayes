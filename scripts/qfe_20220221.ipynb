{
 "cells": [
  {
   "cell_type": "markdown",
   "id": "7b40c694",
   "metadata": {},
   "source": [
    "# Utility Functions\n",
    "Date: 2022-02-21  \n",
    "Author: Matt McDonnell @mattmcd\n",
    "\n",
    "Looking at 'Quantitative Financial Economics' by Cuthbertson and Nitzsche to understand utility functions and\n",
    "indifference curves."
   ]
  },
  {
   "cell_type": "code",
   "execution_count": 1,
   "id": "3c616590",
   "metadata": {},
   "outputs": [],
   "source": [
    "import sympy as sp\n",
    "from sympy.interactive import printing\n",
    "printing.init_printing(use_latex=True)"
   ]
  },
  {
   "cell_type": "code",
   "execution_count": 2,
   "id": "0c31c351",
   "metadata": {},
   "outputs": [],
   "source": [
    "from sympy.stats import Bernoulli, LogNormal, density, sample, P as Prob, E as Expected, variance"
   ]
  },
  {
   "cell_type": "markdown",
   "id": "31dc6c42",
   "metadata": {},
   "source": [
    "Start by looking at a fair lottery random.  A Bernoulli distribution can be used to represent a fair lottery\n",
    "with proability $p$ for payoff $k_1$, probability $1-p$ for payoff of $k_2$.  If the lottery is fair it has \n",
    "expected value of zero, which can be used to solve for $p$."
   ]
  },
  {
   "cell_type": "code",
   "execution_count": 3,
   "id": "c1da9cbb",
   "metadata": {},
   "outputs": [],
   "source": [
    "k1, k2 = sp.symbols('k1 k2', real=True)\n",
    "p = sp.symbols('p', nonnegative=True)\n",
    "Xs = sp.symbols('X')"
   ]
  },
  {
   "cell_type": "code",
   "execution_count": 4,
   "id": "7bc998f0",
   "metadata": {},
   "outputs": [],
   "source": [
    "X = Bernoulli('X', p=p, succ=k1, fail=k2)"
   ]
  },
  {
   "cell_type": "code",
   "execution_count": 5,
   "id": "3b0f3657",
   "metadata": {},
   "outputs": [
    {
     "data": {
      "image/png": "[encoded data removed]",
      "text/latex": [
       "$\\displaystyle k_{1} p + k_{2} \\left(1 - p\\right)$"
      ],
      "text/plain": [
       "k₁⋅p + k₂⋅(1 - p)"
      ]
     },
     "execution_count": 5,
     "metadata": {},
     "output_type": "execute_result"
    }
   ],
   "source": [
    "Expected(X)"
   ]
  },
  {
   "cell_type": "code",
   "execution_count": 6,
   "id": "5fff6241",
   "metadata": {},
   "outputs": [
    {
     "data": {
      "image/png": "[encoded data removed]",
      "text/latex": [
       "$\\displaystyle p = - \\frac{k_{2}}{k_{1} - k_{2}}$"
      ],
      "text/plain": [
       "      -k₂  \n",
       "p = ───────\n",
       "    k₁ - k₂"
      ]
     },
     "execution_count": 6,
     "metadata": {},
     "output_type": "execute_result"
    }
   ],
   "source": [
    "sp.Eq(p, sp.solve(Expected(X), p)[0])"
   ]
  },
  {
   "cell_type": "markdown",
   "id": "4104f141",
   "metadata": {},
   "source": [
    "Playing around with random variables"
   ]
  },
  {
   "cell_type": "code",
   "execution_count": 7,
   "id": "08dd976f",
   "metadata": {},
   "outputs": [],
   "source": [
    "# Doesn't work - same RV?\n",
    "# FairCoin = X.subs({p: sp.S.Half, k1: 1, k2: -1})\n",
    "# FairCoin2 = X.subs({p: sp.S.Half, k1: -1, k2: 1})\n",
    "\n",
    "# Works\n",
    "FairCoin = Bernoulli('X1', p=sp.S.Half, succ=1, fail=-1)\n",
    "FairCoin2 = Bernoulli('X2', p=sp.S.Half, succ=1, fail=-1)"
   ]
  },
  {
   "cell_type": "code",
   "execution_count": 8,
   "id": "a023ee74",
   "metadata": {},
   "outputs": [
    {
     "data": {
      "text/plain": [
       "array([ 2,  2,  0,  2,  0, -2,  0,  0,  0,  0])"
      ]
     },
     "execution_count": 8,
     "metadata": {},
     "output_type": "execute_result"
    }
   ],
   "source": [
    "sample(FairCoin + FairCoin2, size=(10,))"
   ]
  },
  {
   "cell_type": "code",
   "execution_count": 9,
   "id": "4d74e14b",
   "metadata": {},
   "outputs": [
    {
     "data": {
      "image/png": "[encoded data removed]",
      "text/latex": [
       "$\\displaystyle 0.5$"
      ],
      "text/plain": [
       "0.500000000000000"
      ]
     },
     "execution_count": 9,
     "metadata": {},
     "output_type": "execute_result"
    }
   ],
   "source": [
    "Prob(X.subs({p: 1/2, k1:1, k2:-1}) > 0)"
   ]
  },
  {
   "cell_type": "markdown",
   "id": "346fabef",
   "metadata": {},
   "source": [
    "## Worked example and definition of Utility \n",
    "Below we follow the example from p14-17, of a bet on a fair coin flip, $p=1/2$,\n",
    "that costs \\\\$10 to enter, and pays off \\\\$16 for a win, \\\\$4 for a loss."
   ]
  },
  {
   "cell_type": "code",
   "execution_count": 10,
   "id": "90222fd8",
   "metadata": {},
   "outputs": [
    {
     "data": {
      "image/png": "[encoded data removed]",
      "text/latex": [
       "$\\displaystyle 10$"
      ],
      "text/plain": [
       "10"
      ]
     },
     "execution_count": 10,
     "metadata": {},
     "output_type": "execute_result"
    }
   ],
   "source": [
    "# Expected value of FairCoin toss with payoff $16 and $4. \n",
    "# No risk aversion -> would pay up to this amount for the bet\n",
    "Payoff = X.subs({p: sp.S.Half, k1: 16, k2: 4})\n",
    "Expected(Payoff)"
   ]
  },
  {
   "cell_type": "markdown",
   "id": "5c8df9c0",
   "metadata": {},
   "source": [
    "Now consider a utility function of the form $U(W) = \\sqrt{W}$, where $W$ is the wealth of the player."
   ]
  },
  {
   "cell_type": "code",
   "execution_count": 11,
   "id": "d1535321",
   "metadata": {},
   "outputs": [
    {
     "data": {
      "image/png": "[encoded data removed]",
      "text/latex": [
       "$\\displaystyle 3$"
      ],
      "text/plain": [
       "3"
      ]
     },
     "execution_count": 11,
     "metadata": {},
     "output_type": "execute_result"
    }
   ],
   "source": [
    "# Expected utility of the FairCoin toss with payoff $16 and $4 for sqrt utility\n",
    "# i.e. U(W) = sqrt(W)\n",
    "d = sp.Dummy()\n",
    "U = sp.Lambda(d, sp.sqrt(d))\n",
    "Expected(U(Payoff))"
   ]
  },
  {
   "cell_type": "markdown",
   "id": "824b9631",
   "metadata": {},
   "source": [
    "We see that the expected utility of the bet is less than the utility of the original \\\\$10:"
   ]
  },
  {
   "cell_type": "code",
   "execution_count": 12,
   "id": "7cffe64f",
   "metadata": {},
   "outputs": [
    {
     "data": {
      "image/png": "[encoded data removed]",
      "text/latex": [
       "$\\displaystyle 3.16227766016838$"
      ],
      "text/plain": [
       "3.16227766016838"
      ]
     },
     "execution_count": 12,
     "metadata": {},
     "output_type": "execute_result"
    }
   ],
   "source": [
    "# Utility of keeping $10 rather than paying $10 for bet\n",
    "U(10).evalf()"
   ]
  },
  {
   "cell_type": "markdown",
   "id": "a1540784",
   "metadata": {},
   "source": [
    "Calculate the risk premium: what would you pay not to have to take the bet?"
   ]
  },
  {
   "cell_type": "code",
   "execution_count": 13,
   "id": "088dcc9f",
   "metadata": {},
   "outputs": [
    {
     "data": {
      "image/png": "[encoded data removed]",
      "text/latex": [
       "$\\displaystyle 1.0$"
      ],
      "text/plain": [
       "1.00000000000000"
      ]
     },
     "execution_count": 13,
     "metadata": {},
     "output_type": "execute_result"
    }
   ],
   "source": [
    "# Calculate the risk premium: what would you pay not to have to take the bet?\n",
    "initial_wealth = 10\n",
    "bet_cost = 10\n",
    "sp.solve(U(initial_wealth-d) - Expected(U(initial_wealth + Payoff - bet_cost)), d)[0].evalf()"
   ]
  },
  {
   "cell_type": "markdown",
   "id": "cffb7de8",
   "metadata": {},
   "source": [
    "We can go back to the general form for the lottery and calculate the risk premium $\\pi$ as a function of the other\n",
    "parameters, assuming that the cost to enter the bet is given by the fair value of the lottery.\n",
    "\n",
    "(Sidenote: I'm not a fan of using $\\pi$ to represent risk premium, seems like it's asking for trouble if $\\pi$\n",
    "the number crops up in expressions.)"
   ]
  },
  {
   "cell_type": "code",
   "execution_count": 14,
   "id": "33b68265",
   "metadata": {},
   "outputs": [
    {
     "data": {
      "image/png": "[encoded data removed]",
      "text/latex": [
       "$\\displaystyle c = k_{1} p + k_{2} \\left(1 - p\\right)$"
      ],
      "text/plain": [
       "c = k₁⋅p + k₂⋅(1 - p)"
      ]
     },
     "execution_count": 14,
     "metadata": {},
     "output_type": "execute_result"
    }
   ],
   "source": [
    "# General form\n",
    "W, c, pis = sp.symbols('W, c, pi', real=True)\n",
    "# Solve for cost\n",
    "sp.Eq(c, sp.solve(Expected(X - c), c)[0].collect([k1, k2]))"
   ]
  },
  {
   "cell_type": "code",
   "execution_count": 15,
   "id": "3d00eba3",
   "metadata": {},
   "outputs": [
    {
     "data": {
      "image/png": "[encoded data removed]",
      "text/latex": [
       "$\\displaystyle \\pi = W - \\left(p \\left(- \\sqrt{W + p \\left(- k_{1} + k_{2}\\right)} + \\sqrt{W + k_{1} - k_{2} + p \\left(- k_{1} + k_{2}\\right)}\\right) + \\sqrt{W + p \\left(- k_{1} + k_{2}\\right)}\\right)^{2}$"
      ],
      "text/plain": [
       "                                                                              \n",
       "        ⎛  ⎛    __________________     ____________________________⎞     _____\n",
       "π = W - ⎝p⋅⎝- ╲╱ W + p⋅(-k₁ + k₂)  + ╲╱ W + k₁ - k₂ + p⋅(-k₁ + k₂) ⎠ + ╲╱ W + \n",
       "\n",
       "              2\n",
       "_____________⎞ \n",
       "p⋅(-k₁ + k₂) ⎠ "
      ]
     },
     "execution_count": 15,
     "metadata": {},
     "output_type": "execute_result"
    }
   ],
   "source": [
    "sp.Eq(pis, sp.solve(U(W-pis) - Expected(U(W + X - Expected(X))), pis)[0].simplify().collect(p))"
   ]
  },
  {
   "cell_type": "markdown",
   "id": "b011f99f",
   "metadata": {},
   "source": [
    "Relate risk premium to utility function curvature.  \n",
    "Assume general RV for (payoff - cost), assume this has $E[x] == 0$ i.e. cost is expected payoff.  \n",
    "This also means var(x) = $E[x^2]$."
   ]
  },
  {
   "cell_type": "code",
   "execution_count": 16,
   "id": "1da5b509",
   "metadata": {},
   "outputs": [
    {
     "data": {
      "image/png": "[encoded data removed]",
      "text/latex": [
       "$\\displaystyle U{\\left(W - \\pi \\right)} = Expectation\\left(U{\\left(W + x \\right)}\\right)$"
      ],
      "text/plain": [
       "U(W - π) = Expectation(U(W + x))"
      ]
     },
     "execution_count": 16,
     "metadata": {},
     "output_type": "execute_result"
    }
   ],
   "source": [
    "x = sp.stats.rv.RandomSymbol('x')   \n",
    "Us = sp.symbols('U', cls=sp.Function)\n",
    "sp.Eq(Us(W - pis), Expected(Us(W + x)))"
   ]
  },
  {
   "cell_type": "code",
   "execution_count": 17,
   "id": "a48016dc",
   "metadata": {},
   "outputs": [
    {
     "data": {
      "image/png": "[encoded data removed]",
      "text/latex": [
       "$\\displaystyle - \\pi \\frac{d}{d W} U{\\left(W \\right)} + U{\\left(W \\right)}$"
      ],
      "text/plain": [
       "    d              \n",
       "- π⋅──(U(W)) + U(W)\n",
       "    dW             "
      ]
     },
     "execution_count": 17,
     "metadata": {},
     "output_type": "execute_result"
    }
   ],
   "source": [
    "lhs = sp.series(Us(W - pis), pis, n=2).removeO().simplify()\n",
    "lhs"
   ]
  },
  {
   "cell_type": "code",
   "execution_count": 18,
   "id": "68d1ade5",
   "metadata": {},
   "outputs": [
    {
     "data": {
      "image/png": "[encoded data removed]",
      "text/latex": [
       "$\\displaystyle \\frac{\\sigma^{2}_{x} \\frac{d^{2}}{d W^{2}} U{\\left(W \\right)}}{2} + U{\\left(W \\right)}$"
      ],
      "text/plain": [
       "      2             \n",
       "     d              \n",
       "σ²ₓ⋅───(U(W))       \n",
       "      2             \n",
       "    dW              \n",
       "───────────── + U(W)\n",
       "      2             "
      ]
     },
     "execution_count": 18,
     "metadata": {},
     "output_type": "execute_result"
    }
   ],
   "source": [
    "sigma_sq_x = sp.symbols('sigma_x^2', positive=True)\n",
    "rhs = Expected(\n",
    "    sp.series(Us(W + x), x, n=3).removeO()\n",
    ").collect(Us(W)).subs(Expected(x), 0).subs({Expected(x**2): sigma_sq_x})\n",
    "rhs"
   ]
  },
  {
   "cell_type": "code",
   "execution_count": 19,
   "id": "71288572",
   "metadata": {},
   "outputs": [
    {
     "data": {
      "image/png": "[encoded data removed]",
      "text/latex": [
       "$\\displaystyle \\pi = - \\frac{\\sigma^{2}_{x} \\frac{d^{2}}{d W^{2}} U{\\left(W \\right)}}{2 \\frac{d}{d W} U{\\left(W \\right)}}$"
      ],
      "text/plain": [
       "           2       \n",
       "          d        \n",
       "    -σ²ₓ⋅───(U(W)) \n",
       "           2       \n",
       "         dW        \n",
       "π = ───────────────\n",
       "         d         \n",
       "       2⋅──(U(W))  \n",
       "         dW        "
      ]
     },
     "execution_count": 19,
     "metadata": {},
     "output_type": "execute_result"
    }
   ],
   "source": [
    "pi = sp.solve(lhs - rhs, pis)[0]\n",
    "sp.Eq(pis, pi)"
   ]
  },
  {
   "cell_type": "markdown",
   "id": "adcd1e9d",
   "metadata": {},
   "source": [
    "We get to the form for risk premium given in the text, using SymPy to do the required manipulations."
   ]
  },
  {
   "cell_type": "markdown",
   "id": "1b606a3b",
   "metadata": {},
   "source": [
    "# Risk Aversion Coefficients\n",
    "We can extract the term containing $U(W)$ into the coefficient for absolute risk aversion $R_A$ and from this the \n",
    "coefficient for relative risk aversion $R_R$"
   ]
  },
  {
   "cell_type": "code",
   "execution_count": 20,
   "id": "933ffb3d",
   "metadata": {},
   "outputs": [
    {
     "data": {
      "image/png": "[encoded data removed]",
      "text/latex": [
       "$\\displaystyle \\left( R_{A} = - \\frac{\\frac{d^{2}}{d W^{2}} U{\\left(W \\right)}}{\\frac{d}{d W} U{\\left(W \\right)}}, \\  R_{R} = R_{A} W\\right)$"
      ],
      "text/plain": [
       "⎛         2                    ⎞\n",
       "⎜        d                     ⎟\n",
       "⎜      -───(U(W))              ⎟\n",
       "⎜         2                    ⎟\n",
       "⎜       dW                     ⎟\n",
       "⎜R_A = ───────────, R_R = R_A⋅W⎟\n",
       "⎜        d                     ⎟\n",
       "⎜        ──(U(W))              ⎟\n",
       "⎝        dW                    ⎠"
      ]
     },
     "execution_count": 20,
     "metadata": {},
     "output_type": "execute_result"
    }
   ],
   "source": [
    "Ras, Rrs = sp.symbols('R_A R_R', positive=True)\n",
    "Ra = pi/(sigma_sq_x/2)\n",
    "Rr = W*Ras\n",
    "Rau = lambda U: Ra.subs(Us(W), U).simplify().powsimp()\n",
    "sp.Eq(Ras, Ra), sp.Eq(Rrs, Rr)"
   ]
  },
  {
   "cell_type": "markdown",
   "id": "fb17dfc7",
   "metadata": {},
   "source": [
    "Then we can apply these definitions to some utility functions of interest: constant relative risk aversion, \n",
    "constant absolute risk aversion, quadratic "
   ]
  },
  {
   "cell_type": "code",
   "execution_count": 21,
   "id": "e5b0c24f",
   "metadata": {},
   "outputs": [],
   "source": [
    "g, a, b, c = sp.symbols('gamma a b c', positive=True)\n",
    "U_crras, U_caras, U_qs = sp.symbols('U_{CRRA} U_{CARA} U_Q', cls=sp.Function)\n",
    "U_crra = W**(1-g)/(1-g)\n",
    "U_cara = a - b*sp.exp(-c*W)\n",
    "U_q = W - b/2*W**2"
   ]
  },
  {
   "cell_type": "markdown",
   "id": "c3acb36c",
   "metadata": {},
   "source": [
    "### Constant Relative Risk Aversion"
   ]
  },
  {
   "cell_type": "code",
   "execution_count": 22,
   "id": "d332e211",
   "metadata": {},
   "outputs": [
    {
     "data": {
      "image/png": "[encoded data removed]",
      "text/latex": [
       "$\\displaystyle \\operatorname{U_{CRRA}}{\\left(W \\right)} = \\frac{W^{1 - \\gamma}}{1 - \\gamma}$"
      ],
      "text/plain": [
       "               1 - γ\n",
       "              W     \n",
       "U_{CRRA}(W) = ──────\n",
       "              1 - γ "
      ]
     },
     "execution_count": 22,
     "metadata": {},
     "output_type": "execute_result"
    }
   ],
   "source": [
    "sp.Eq(U_crras(W), U_crra)"
   ]
  },
  {
   "cell_type": "code",
   "execution_count": 23,
   "id": "a5f2f3b0",
   "metadata": {},
   "outputs": [
    {
     "data": {
      "image/png": "[encoded data removed]",
      "text/latex": [
       "$\\displaystyle \\left( R_{A} = \\frac{\\gamma}{W}, \\  R_{R} = \\gamma\\right)$"
      ],
      "text/plain": [
       "⎛      γ         ⎞\n",
       "⎜R_A = ─, R_R = γ⎟\n",
       "⎝      W         ⎠"
      ]
     },
     "execution_count": 23,
     "metadata": {},
     "output_type": "execute_result"
    }
   ],
   "source": [
    "sp.Eq(Ras, Rau(U_crra)), sp.Eq(Rrs, Rr.subs(Ras, Rau(U_crra)))"
   ]
  },
  {
   "cell_type": "markdown",
   "id": "996212ee",
   "metadata": {},
   "source": [
    "### Constant Absolute Risk Aversion"
   ]
  },
  {
   "cell_type": "code",
   "execution_count": 24,
   "id": "5b9a360e",
   "metadata": {},
   "outputs": [
    {
     "data": {
      "image/png": "[encoded data removed]",
      "text/latex": [
       "$\\displaystyle \\operatorname{U_{CARA}}{\\left(W \\right)} = a - b e^{- W c}$"
      ],
      "text/plain": [
       "                     -W⋅c\n",
       "U_{CARA}(W) = a - b⋅ℯ    "
      ]
     },
     "execution_count": 24,
     "metadata": {},
     "output_type": "execute_result"
    }
   ],
   "source": [
    "sp.Eq(U_caras(W), U_cara)"
   ]
  },
  {
   "cell_type": "code",
   "execution_count": 25,
   "id": "6e854518",
   "metadata": {},
   "outputs": [
    {
     "data": {
      "image/png": "[encoded data removed]",
      "text/latex": [
       "$\\displaystyle \\left( R_{A} = c, \\  R_{R} = W c\\right)$"
      ],
      "text/plain": [
       "(R_A = c, R_R = W⋅c)"
      ]
     },
     "execution_count": 25,
     "metadata": {},
     "output_type": "execute_result"
    }
   ],
   "source": [
    "sp.Eq(Ras, Rau(U_cara)), sp.Eq(Rrs, Rr.subs(Ras, Rau(U_cara)))"
   ]
  },
  {
   "cell_type": "markdown",
   "id": "d970dd52",
   "metadata": {},
   "source": [
    "### Quadratic Utility"
   ]
  },
  {
   "cell_type": "code",
   "execution_count": 26,
   "id": "762636d3",
   "metadata": {},
   "outputs": [
    {
     "data": {
      "image/png": "[encoded data removed]",
      "text/latex": [
       "$\\displaystyle \\operatorname{U_{Q}}{\\left(W \\right)} = - \\frac{W^{2} b}{2} + W$"
      ],
      "text/plain": [
       "            2      \n",
       "           W ⋅b    \n",
       "U_Q(W) = - ──── + W\n",
       "            2      "
      ]
     },
     "execution_count": 26,
     "metadata": {},
     "output_type": "execute_result"
    }
   ],
   "source": [
    "sp.Eq(U_qs(W), U_q)"
   ]
  },
  {
   "cell_type": "code",
   "execution_count": 27,
   "id": "f54f2608",
   "metadata": {},
   "outputs": [
    {
     "data": {
      "image/png": "[encoded data removed]",
      "text/latex": [
       "$\\displaystyle \\left( R_{A} = \\frac{b}{- W b + 1}, \\  R_{R} = \\frac{W b}{- W b + 1}\\right)$"
      ],
      "text/plain": [
       "⎛         b              W⋅b   ⎞\n",
       "⎜R_A = ────────, R_R = ────────⎟\n",
       "⎝      -W⋅b + 1        -W⋅b + 1⎠"
      ]
     },
     "execution_count": 27,
     "metadata": {},
     "output_type": "execute_result"
    }
   ],
   "source": [
    "sp.Eq(Ras, Rau(U_q)), sp.Eq(Rrs, Rr.subs(Ras, Rau(U_q)))"
   ]
  },
  {
   "cell_type": "code",
   "execution_count": null,
   "id": "1d3e5d59",
   "metadata": {},
   "outputs": [],
   "source": []
  }
 ],
 "metadata": {
  "kernelspec": {
   "display_name": "Python 3",
   "language": "python",
   "name": "python3"
  },
  "language_info": {
   "codemirror_mode": {
    "name": "ipython",
    "version": 3
   },
   "file_extension": ".py",
   "mimetype": "text/x-python",
   "name": "python",
   "nbconvert_exporter": "python",
   "pygments_lexer": "ipython3",
   "version": "3.8.10"
  }
 },
 "nbformat": 4,
 "nbformat_minor": 5
}
