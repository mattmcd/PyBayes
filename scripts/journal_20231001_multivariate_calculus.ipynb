{
 "cells": [
  {
   "cell_type": "code",
   "execution_count": 1,
   "id": "initial_id",
   "metadata": {
    "ExecuteTime": {
     "end_time": "2023-09-09T05:50:48.845929Z",
     "start_time": "2023-09-09T05:50:48.812878Z"
    }
   },
   "outputs": [],
   "source": [
    "%load_ext autoreload\n",
    "%autoreload 2"
   ]
  },
  {
   "cell_type": "code",
   "execution_count": 2,
   "id": "573cfe6b-005d-478e-91a7-6aa06cf00161",
   "metadata": {
    "ExecuteTime": {
     "end_time": "2023-09-09T05:50:53.618392Z",
     "start_time": "2023-09-09T05:50:48.822751Z"
    }
   },
   "outputs": [],
   "source": [
    "from startup import np, pd, plt, sns"
   ]
  },
  {
   "cell_type": "code",
   "execution_count": 3,
   "id": "7dde2450-11a1-4306-b7f0-8f577601d70e",
   "metadata": {
    "ExecuteTime": {
     "end_time": "2023-09-09T05:50:53.635062Z",
     "start_time": "2023-09-09T05:50:53.619524Z"
    }
   },
   "outputs": [],
   "source": [
    "from startup_gui import widgets, interact, interactive"
   ]
  },
  {
   "cell_type": "code",
   "execution_count": 4,
   "id": "d61d6811-3e40-407d-a705-3eedfe218499",
   "metadata": {
    "ExecuteTime": {
     "end_time": "2023-09-09T05:50:53.899419Z",
     "start_time": "2023-09-09T05:50:53.635578Z"
    }
   },
   "outputs": [],
   "source": [
    "import sympy as sp"
   ]
  },
  {
   "cell_type": "code",
   "execution_count": 5,
   "id": "904302e8-703b-43c4-aebe-bded66f6b35d",
   "metadata": {
    "ExecuteTime": {
     "end_time": "2023-09-09T05:50:53.920601Z",
     "start_time": "2023-09-09T05:50:53.900916Z"
    }
   },
   "outputs": [],
   "source": [
    "sp.init_printing(use_latex=True)"
   ]
  },
  {
   "cell_type": "code",
   "execution_count": 6,
   "id": "2d5ec095-d2fc-4f4b-9923-3c03ac6fcb55",
   "metadata": {
    "ExecuteTime": {
     "end_time": "2023-09-09T05:50:53.940392Z",
     "start_time": "2023-09-09T05:50:53.921105Z"
    }
   },
   "outputs": [],
   "source": [
    "params = 'a b S_0 D_0'\n",
    "a, b, S0, D0, Q_S, Q_D, P, P_m, Q_m = sp.symbols(params + ' ' + 'Q_S Q_D P P_m Q_m', real=True)\n",
    "da, db, dS0, dD0 = sp.symbols(' '.join(['{\\Delta}' + s for s in params.split(' ')]))\n",
    "dPm, dQm = sp.symbols('{\\Delta}P_m {\\Delta}Q_m', real=True) "
   ]
  },
  {
   "cell_type": "code",
   "execution_count": 7,
   "id": "54407d53-c402-48b5-b1d2-c8b5bbc01d04",
   "metadata": {
    "ExecuteTime": {
     "end_time": "2023-09-09T05:50:54.203940Z",
     "start_time": "2023-09-09T05:50:53.940788Z"
    }
   },
   "outputs": [
    {
     "data": {
      "image/png": "[encoded data removed]",
      "text/latex": [
       "$\\displaystyle Q_{S} = P a + S_{0}$"
      ],
      "text/plain": [
       "Q_S = P⋅a + S₀"
      ]
     },
     "execution_count": 7,
     "metadata": {},
     "output_type": "execute_result"
    }
   ],
   "source": [
    "supply_eqn = sp.Eq(Q_S, S0 + a*P)\n",
    "supply_eqn"
   ]
  },
  {
   "cell_type": "code",
   "execution_count": 8,
   "id": "00a11fa9-5538-4d7c-bdb9-ecab771b74b6",
   "metadata": {
    "ExecuteTime": {
     "end_time": "2023-09-09T05:50:54.241021Z",
     "start_time": "2023-09-09T05:50:54.203758Z"
    }
   },
   "outputs": [
    {
     "data": {
      "image/png": "[encoded data removed]",
      "text/latex": [
       "$\\displaystyle Q_{D} = D_{0} - P b$"
      ],
      "text/plain": [
       "Q_D = D₀ - P⋅b"
      ]
     },
     "execution_count": 8,
     "metadata": {},
     "output_type": "execute_result"
    }
   ],
   "source": [
    "demand_eqn = sp.Eq(Q_D, D0 - b*P)\n",
    "demand_eqn"
   ]
  },
  {
   "cell_type": "code",
   "execution_count": 9,
   "id": "97ca1e14-8d6e-4994-83df-8644f640c1b4",
   "metadata": {
    "ExecuteTime": {
     "end_time": "2023-09-09T05:50:54.278764Z",
     "start_time": "2023-09-09T05:50:54.232662Z"
    }
   },
   "outputs": [
    {
     "data": {
      "image/png": "[encoded data removed]",
      "text/latex": [
       "$\\displaystyle P_{m} = \\frac{D_{0} - S_{0}}{a + b}$"
      ],
      "text/plain": [
       "     D₀ - S₀\n",
       "Pₘ = ───────\n",
       "      a + b "
      ]
     },
     "execution_count": 9,
     "metadata": {},
     "output_type": "execute_result"
    }
   ],
   "source": [
    "market_price_eqn = sp.Eq(P_m, sp.solve(sp.Eq(supply_eqn.rhs, demand_eqn.rhs), P)[0])\n",
    "market_price_eqn"
   ]
  },
  {
   "cell_type": "code",
   "execution_count": 10,
   "id": "8973dac7-d0d5-429d-8134-7659c3e6e7e9",
   "metadata": {
    "ExecuteTime": {
     "end_time": "2023-09-09T05:50:54.425497Z",
     "start_time": "2023-09-09T05:50:54.279111Z"
    }
   },
   "outputs": [
    {
     "data": {
      "image/png": "[encoded data removed]",
      "text/latex": [
       "$\\displaystyle Q_{S} = \\frac{D_{0} a + S_{0} b}{a + b}$"
      ],
      "text/plain": [
       "      D₀⋅a + S₀⋅b\n",
       "Q_S = ───────────\n",
       "         a + b   "
      ]
     },
     "execution_count": 10,
     "metadata": {},
     "output_type": "execute_result"
    }
   ],
   "source": [
    "market_quantity_eqn = supply_eqn.subs({P: market_price_eqn.rhs}).simplify()\n",
    "market_quantity_eqn"
   ]
  },
  {
   "cell_type": "code",
   "execution_count": 11,
   "id": "b6f8cb38-9bb0-4d67-bad5-d41f5ab07b71",
   "metadata": {
    "ExecuteTime": {
     "end_time": "2023-09-09T05:50:54.457172Z",
     "start_time": "2023-09-09T05:50:54.425910Z"
    }
   },
   "outputs": [
    {
     "data": {
      "text/latex": [
       "$\\displaystyle \\left[\\begin{matrix}P_{m}\\\\Q_{m}\\end{matrix}\\right] = \\left[\\begin{matrix}\\frac{D_{0} - S_{0}}{a + b}\\\\\\frac{D_{0} a + S_{0} b}{a + b}\\end{matrix}\\right]$"
      ],
      "text/plain": [
       "       ⎡  D₀ - S₀  ⎤\n",
       "       ⎢  ───────  ⎥\n",
       "⎡Pₘ⎤   ⎢   a + b   ⎥\n",
       "⎢  ⎥ = ⎢           ⎥\n",
       "⎣Qₘ⎦   ⎢D₀⋅a + S₀⋅b⎥\n",
       "       ⎢───────────⎥\n",
       "       ⎣   a + b   ⎦"
      ]
     },
     "execution_count": 11,
     "metadata": {},
     "output_type": "execute_result"
    }
   ],
   "source": [
    "market_eqn = sp.Eq(sp.Matrix([P_m, Q_m]), sp.Matrix([market_price_eqn.rhs, market_quantity_eqn.rhs]))\n",
    "market_eqn"
   ]
  },
  {
   "cell_type": "code",
   "execution_count": 12,
   "id": "81e0f4b9-7899-451a-a7c8-1b8aec052314",
   "metadata": {
    "ExecuteTime": {
     "end_time": "2023-09-09T05:50:54.496106Z",
     "start_time": "2023-09-09T05:50:54.452901Z"
    }
   },
   "outputs": [
    {
     "data": {
      "text/latex": [
       "$\\displaystyle \\left[\\begin{matrix}{\\Delta}P_m\\\\{\\Delta}Q_m\\end{matrix}\\right] = \\left[\\begin{matrix}\\frac{{\\Delta}D_0}{a + b} - \\frac{{\\Delta}S_0}{a + b} - \\frac{{\\Delta}a \\left(D_{0} - S_{0}\\right)}{\\left(a + b\\right)^{2}} - \\frac{{\\Delta}b \\left(D_{0} - S_{0}\\right)}{\\left(a + b\\right)^{2}}\\\\\\frac{a {\\Delta}D_0}{a + b} + \\frac{b {\\Delta}S_0}{a + b} + {\\Delta}a \\left(\\frac{D_{0}}{a + b} - \\frac{D_{0} a + S_{0} b}{\\left(a + b\\right)^{2}}\\right) + {\\Delta}b \\left(\\frac{S_{0}}{a + b} - \\frac{D_{0} a + S_{0} b}{\\left(a + b\\right)^{2}}\\right)\\end{matrix}\\right]$"
      ],
      "text/plain": [
       "               ⎡              {\\Delta}D₀   {\\Delta}S₀   {\\Delta}a⋅(D₀ - S₀)   {\\Delta}b⋅(D₀ - S₀)              ⎤\n",
       "               ⎢              ────────── - ────────── - ─────────────────── - ───────────────────              ⎥\n",
       "               ⎢                a + b        a + b                   2                     2                   ⎥\n",
       "⎡{\\Delta}Pₘ⎤   ⎢                                              (a + b)               (a + b)                    ⎥\n",
       "⎢          ⎥ = ⎢                                                                                               ⎥\n",
       "⎣{\\Delta}Qₘ⎦   ⎢a⋅{\\Delta}D₀   b⋅{\\Delta}S₀             ⎛  D₀    D₀⋅a + S₀⋅b⎞             ⎛  S₀    D₀⋅a + S₀⋅b⎞⎥\n",
       "               ⎢──────────── + ──────────── + {\\Delta}a⋅⎜───── - ───────────⎟ + {\\Delta}b⋅⎜───── - ───────────⎟⎥\n",
       "               ⎢   a + b          a + b                 ⎜a + b            2 ⎟             ⎜a + b            2 ⎟⎥\n",
       "               ⎣                                        ⎝          (a + b)  ⎠             ⎝          (a + b)  ⎠⎦"
      ]
     },
     "execution_count": 12,
     "metadata": {},
     "output_type": "execute_result"
    }
   ],
   "source": [
    "market_sensitivities = sp.Eq(sp.Matrix([dPm, dQm]), market_eqn.rhs.jacobian([a, b, S0, D0]) @ (sp.Matrix([da, db, dS0, dD0])))\n",
    "market_sensitivities"
   ]
  },
  {
   "cell_type": "code",
   "execution_count": 13,
   "id": "bb637e0e-c563-4b3c-bd56-2f491f64a6cf",
   "metadata": {
    "ExecuteTime": {
     "end_time": "2023-09-09T05:50:54.678115Z",
     "start_time": "2023-09-09T05:50:54.496330Z"
    }
   },
   "outputs": [
    {
     "data": {
      "image/png": "[encoded data removed]",
      "text/latex": [
       "$\\displaystyle {\\Delta}P_m = \\frac{- \\left(D_{0} - S_{0}\\right) \\left({\\Delta}a + {\\Delta}b\\right) + \\left(a + b\\right) \\left({\\Delta}D_0 - {\\Delta}S_0\\right)}{\\left(a + b\\right)^{2}}$"
      ],
      "text/plain": [
       "             -(D₀ - S₀)⋅({\\Delta}a + {\\Delta}b) + (a + b)⋅({\\Delta}D₀ - {\\Delta}S₀)\n",
       "{\\Delta}Pₘ = ──────────────────────────────────────────────────────────────────────\n",
       "                                                   2                               \n",
       "                                            (a + b)                                "
      ]
     },
     "execution_count": 13,
     "metadata": {},
     "output_type": "execute_result"
    }
   ],
   "source": [
    "price_sensitivity = sp.Eq(market_sensitivities.lhs[0], market_sensitivities.rhs[0]).simplify()\n",
    "price_sensitivity"
   ]
  },
  {
   "cell_type": "code",
   "execution_count": 14,
   "id": "a0c334f7-a6b2-496b-a5f1-8eb628488ae6",
   "metadata": {
    "ExecuteTime": {
     "end_time": "2023-09-09T05:50:55.023148Z",
     "start_time": "2023-09-09T05:50:54.681741Z"
    }
   },
   "outputs": [
    {
     "data": {
      "image/png": "[encoded data removed]",
      "text/latex": [
       "$\\displaystyle {\\Delta}Q_m = \\frac{{\\Delta}a \\left(- D_{0} a + D_{0} \\left(a + b\\right) - S_{0} b\\right) + {\\Delta}b \\left(- D_{0} a - S_{0} b + S_{0} \\left(a + b\\right)\\right) + \\left(a + b\\right) \\left(a {\\Delta}D_0 + b {\\Delta}S_0\\right)}{\\left(a + b\\right)^{2}}$"
      ],
      "text/plain": [
       "             {\\Delta}a⋅(-D₀⋅a + D₀⋅(a + b) - S₀⋅b) + {\\Delta}b⋅(-D₀⋅a - S₀⋅b + S₀⋅(a + b)) + (a + b)⋅(a⋅{\\Delta}D₀ + b⋅{\\Delta}S₀)\n",
       "{\\Delta}Qₘ = ─────────────────────────────────────────────────────────────────────────────────────────────────────────────────────\n",
       "                                                                           2                                                      \n",
       "                                                                    (a + b)                                                       "
      ]
     },
     "execution_count": 14,
     "metadata": {},
     "output_type": "execute_result"
    }
   ],
   "source": [
    "quantity_sensitivity = sp.Eq(market_sensitivities.lhs[1], market_sensitivities.rhs[1]).simplify()\n",
    "quantity_sensitivity"
   ]
  },
  {
   "cell_type": "code",
   "execution_count": 15,
   "id": "50a5aeb9-ed75-49fa-9c0d-3df089f63a23",
   "metadata": {
    "ExecuteTime": {
     "end_time": "2023-09-09T05:50:55.053708Z",
     "start_time": "2023-09-09T05:50:55.022485Z"
    }
   },
   "outputs": [],
   "source": [
    "x, y, z, u, v, w = sp.symbols('x y z u v w', real=True)"
   ]
  },
  {
   "cell_type": "code",
   "execution_count": 16,
   "id": "28be5676-a27a-4b78-a63f-faf16ced3160",
   "metadata": {
    "ExecuteTime": {
     "end_time": "2023-09-09T05:50:55.071406Z",
     "start_time": "2023-09-09T05:50:55.042415Z"
    }
   },
   "outputs": [
    {
     "data": {
      "text/latex": [
       "$\\displaystyle \\left[\\begin{matrix}- 4 x^{3} & 0\\\\- y & - x + 2 y\\\\5 & -2\\end{matrix}\\right]$"
      ],
      "text/plain": [
       "⎡    3          ⎤\n",
       "⎢-4⋅x      0    ⎥\n",
       "⎢               ⎥\n",
       "⎢ -y    -x + 2⋅y⎥\n",
       "⎢               ⎥\n",
       "⎣  5       -2   ⎦"
      ]
     },
     "execution_count": 16,
     "metadata": {},
     "output_type": "execute_result"
    }
   ],
   "source": [
    "sp.Matrix([-x**4, y**2 - x*y, 5*x - 2*y]).jacobian([x, y])"
   ]
  },
  {
   "cell_type": "code",
   "execution_count": 17,
   "id": "903e1a13-d068-46dd-9678-bab43a51c898",
   "metadata": {
    "ExecuteTime": {
     "end_time": "2023-09-09T05:50:55.223063Z",
     "start_time": "2023-09-09T05:50:55.072429Z"
    }
   },
   "outputs": [
    {
     "data": {
      "image/png": "[encoded data removed]",
      "text/latex": [
       "$\\displaystyle \\left(- a + x\\right) \\left(- \\frac{a}{\\left(a - b\\right)^{2}} + \\frac{1}{a - b}\\right) + \\left(- a + x\\right)^{2} \\left(\\frac{a}{\\left(a - b\\right)^{3}} - \\frac{1}{\\left(a - b\\right)^{2}}\\right) + \\left(- a + x\\right)^{3} \\left(- \\frac{a}{\\left(a - b\\right)^{4}} + \\frac{1}{\\left(a - b\\right)^{3}}\\right) + \\frac{a}{a - b} + O\\left(\\left(- a + x\\right)^{4}; x\\rightarrow a\\right)$"
      ],
      "text/plain": [
       "         ⎛     a         1  ⎞           2 ⎛   a          1    ⎞           3 ⎛     a          1    ⎞     a      ⎛        4       ⎞\n",
       "(-a + x)⋅⎜- ──────── + ─────⎟ + (-a + x) ⋅⎜──────── - ────────⎟ + (-a + x) ⋅⎜- ──────── + ────────⎟ + ───── + O⎝(-a + x) ; x → a⎠\n",
       "         ⎜         2   a - b⎟             ⎜       3          2⎟             ⎜         4          3⎟   a - b                      \n",
       "         ⎝  (a - b)         ⎠             ⎝(a - b)    (a - b) ⎠             ⎝  (a - b)    (a - b) ⎠                              "
      ]
     },
     "execution_count": 17,
     "metadata": {},
     "output_type": "execute_result"
    }
   ],
   "source": [
    "sp.series(x/(x - b), x, a, n=4)"
   ]
  },
  {
   "cell_type": "code",
   "execution_count": 18,
   "id": "e4f7bf96-4262-4327-a4e3-57031a863c65",
   "metadata": {
    "ExecuteTime": {
     "end_time": "2023-09-09T05:50:55.272887Z",
     "start_time": "2023-09-09T05:50:55.223745Z"
    }
   },
   "outputs": [
    {
     "data": {
      "image/png": "[encoded data removed]",
      "text/latex": [
       "$\\displaystyle - \\frac{b}{\\left(b - x\\right)^{2}}$"
      ],
      "text/plain": [
       "  -b    \n",
       "────────\n",
       "       2\n",
       "(b - x) "
      ]
     },
     "execution_count": 18,
     "metadata": {},
     "output_type": "execute_result"
    }
   ],
   "source": [
    "sp.diff(x/(x-b), x).simplify()"
   ]
  },
  {
   "cell_type": "code",
   "execution_count": 19,
   "id": "d5c089dd-0a69-48d0-b7c7-8a1f4d5cae52",
   "metadata": {
    "ExecuteTime": {
     "end_time": "2023-09-09T05:50:55.315059Z",
     "start_time": "2023-09-09T05:50:55.270964Z"
    }
   },
   "outputs": [
    {
     "data": {
      "image/png": "[encoded data removed]",
      "text/latex": [
       "$\\displaystyle \\frac{b}{x \\left(b - x\\right)}$"
      ],
      "text/plain": [
       "    b    \n",
       "─────────\n",
       "x⋅(b - x)"
      ]
     },
     "execution_count": 19,
     "metadata": {},
     "output_type": "execute_result"
    }
   ],
   "source": [
    "sp.diff(sp.log(x/(x-b)), x).simplify()"
   ]
  },
  {
   "cell_type": "code",
   "execution_count": 20,
   "id": "5cc8882c-650d-43c2-9bcf-44208556fc31",
   "metadata": {
    "ExecuteTime": {
     "end_time": "2023-09-09T05:50:55.342781Z",
     "start_time": "2023-09-09T05:50:55.315449Z"
    }
   },
   "outputs": [],
   "source": [
    "s, t, x, y = sp.symbols('s t x y')\n",
    "f, g1, g2, u = [sp.Function(n) for n in 'f g_1 g_2 u'.split()]"
   ]
  },
  {
   "cell_type": "code",
   "execution_count": 21,
   "id": "ec5d115b-cf10-43ba-9b90-6320ed89f67f",
   "metadata": {
    "ExecuteTime": {
     "end_time": "2023-09-09T05:50:55.364274Z",
     "start_time": "2023-09-09T05:50:55.335129Z"
    }
   },
   "outputs": [
    {
     "data": {
      "text/latex": [
       "$\\displaystyle \\left[\\begin{matrix}\\frac{\\partial}{\\partial x} f{\\left(x,y \\right)} \\frac{\\partial}{\\partial s} g_{1}{\\left(s,t \\right)} + \\frac{\\partial}{\\partial y} f{\\left(x,y \\right)} \\frac{\\partial}{\\partial s} g_{2}{\\left(s,t \\right)} & \\frac{\\partial}{\\partial x} f{\\left(x,y \\right)} \\frac{\\partial}{\\partial t} g_{1}{\\left(s,t \\right)} + \\frac{\\partial}{\\partial y} f{\\left(x,y \\right)} \\frac{\\partial}{\\partial t} g_{2}{\\left(s,t \\right)}\\end{matrix}\\right]$"
      ],
      "text/plain": [
       "⎡∂           ∂              ∂           ∂             ∂           ∂              ∂           ∂           ⎤\n",
       "⎢──(f(x, y))⋅──(g₁(s, t)) + ──(f(x, y))⋅──(g₂(s, t))  ──(f(x, y))⋅──(g₁(s, t)) + ──(f(x, y))⋅──(g₂(s, t))⎥\n",
       "⎣∂x          ∂s             ∂y          ∂s            ∂x          ∂t             ∂y          ∂t          ⎦"
      ]
     },
     "execution_count": 21,
     "metadata": {},
     "output_type": "execute_result"
    }
   ],
   "source": [
    "sp.Matrix([f(x, y)]).jacobian([x, y]) @ sp.Matrix([g1(s, t), g2(s,t)]).jacobian([s, t])"
   ]
  },
  {
   "cell_type": "code",
   "execution_count": 22,
   "id": "b234b142-f2dd-42f1-8f55-67a837e124af",
   "metadata": {
    "ExecuteTime": {
     "end_time": "2023-09-09T05:50:55.387503Z",
     "start_time": "2023-09-09T05:50:55.363263Z"
    }
   },
   "outputs": [
    {
     "data": {
      "text/latex": [
       "$\\displaystyle \\left[\\begin{matrix}A_{0, 0} & A_{0, 1} & A_{0, 2}\\\\A_{1, 0} & A_{1, 1} & A_{1, 2}\\\\A_{2, 0} & A_{2, 1} & A_{2, 2}\\end{matrix}\\right]$"
      ],
      "text/plain": [
       "⎡A₀₀  A₀₁  A₀₂⎤\n",
       "⎢             ⎥\n",
       "⎢A₁₀  A₁₁  A₁₂⎥\n",
       "⎢             ⎥\n",
       "⎣A₂₀  A₂₁  A₂₂⎦"
      ]
     },
     "execution_count": 22,
     "metadata": {},
     "output_type": "execute_result"
    }
   ],
   "source": [
    "A = sp.MatrixSymbol('A', 3, 3).as_explicit()\n",
    "A"
   ]
  },
  {
   "cell_type": "code",
   "execution_count": 23,
   "id": "d63f4f9e-776d-4e8f-b39e-4b9acde660a0",
   "metadata": {
    "ExecuteTime": {
     "end_time": "2023-09-09T05:50:55.408758Z",
     "start_time": "2023-09-09T05:50:55.385355Z"
    }
   },
   "outputs": [
    {
     "data": {
      "text/latex": [
       "$\\displaystyle \\left[\\begin{matrix}b_{00}{\\left(x,y \\right)} & b_{01}{\\left(x,y \\right)} & b_{02}{\\left(x,y \\right)}\\\\b_{10}{\\left(x,y \\right)} & b_{11}{\\left(x,y \\right)} & b_{12}{\\left(x,y \\right)}\\end{matrix}\\right]$"
      ],
      "text/plain": [
       "⎡b₀₀(x, y)  b₀₁(x, y)  b₀₂(x, y)⎤\n",
       "⎢                               ⎥\n",
       "⎣b₁₀(x, y)  b₁₁(x, y)  b₁₂(x, y)⎦"
      ]
     },
     "execution_count": 23,
     "metadata": {},
     "output_type": "execute_result"
    }
   ],
   "source": [
    "B = sp.Array([v(x, y) for v in sp.symbols('b(:2)(:3)', cls=sp.Function)], (2, 3))\n",
    "B"
   ]
  },
  {
   "cell_type": "code",
   "execution_count": 24,
   "id": "9e018275-c9da-4d36-8798-4fafd6a75f2f",
   "metadata": {
    "ExecuteTime": {
     "end_time": "2023-09-09T05:50:55.446354Z",
     "start_time": "2023-09-09T05:50:55.406957Z"
    }
   },
   "outputs": [
    {
     "data": {
      "text/latex": [
       "$\\displaystyle \\left[\\begin{matrix}\\left[\\begin{matrix}\\frac{\\partial}{\\partial x} b_{00}{\\left(x,y \\right)} & \\frac{\\partial}{\\partial x} b_{01}{\\left(x,y \\right)} & \\frac{\\partial}{\\partial x} b_{02}{\\left(x,y \\right)}\\\\\\frac{\\partial}{\\partial x} b_{10}{\\left(x,y \\right)} & \\frac{\\partial}{\\partial x} b_{11}{\\left(x,y \\right)} & \\frac{\\partial}{\\partial x} b_{12}{\\left(x,y \\right)}\\end{matrix}\\right] & \\left[\\begin{matrix}\\frac{\\partial}{\\partial y} b_{00}{\\left(x,y \\right)} & \\frac{\\partial}{\\partial y} b_{01}{\\left(x,y \\right)} & \\frac{\\partial}{\\partial y} b_{02}{\\left(x,y \\right)}\\\\\\frac{\\partial}{\\partial y} b_{10}{\\left(x,y \\right)} & \\frac{\\partial}{\\partial y} b_{11}{\\left(x,y \\right)} & \\frac{\\partial}{\\partial y} b_{12}{\\left(x,y \\right)}\\end{matrix}\\right]\\end{matrix}\\right]$"
      ],
      "text/plain": [
       "⎡⎡∂              ∂              ∂            ⎤  ⎡∂              ∂              ∂            ⎤⎤\n",
       "⎢⎢──(b₀₀(x, y))  ──(b₀₁(x, y))  ──(b₀₂(x, y))⎥  ⎢──(b₀₀(x, y))  ──(b₀₁(x, y))  ──(b₀₂(x, y))⎥⎥\n",
       "⎢⎢∂x             ∂x             ∂x           ⎥  ⎢∂y             ∂y             ∂y           ⎥⎥\n",
       "⎢⎢                                           ⎥  ⎢                                           ⎥⎥\n",
       "⎢⎢∂              ∂              ∂            ⎥  ⎢∂              ∂              ∂            ⎥⎥\n",
       "⎢⎢──(b₁₀(x, y))  ──(b₁₁(x, y))  ──(b₁₂(x, y))⎥  ⎢──(b₁₀(x, y))  ──(b₁₁(x, y))  ──(b₁₂(x, y))⎥⎥\n",
       "⎣⎣∂x             ∂x             ∂x           ⎦  ⎣∂y             ∂y             ∂y           ⎦⎦"
      ]
     },
     "execution_count": 24,
     "metadata": {},
     "output_type": "execute_result"
    }
   ],
   "source": [
    "sp.derive_by_array(B, [x, y])"
   ]
  },
  {
   "cell_type": "code",
   "execution_count": 25,
   "id": "8cf72b74-15f0-4d30-8dcc-f57f740a3df3",
   "metadata": {
    "ExecuteTime": {
     "end_time": "2023-09-09T05:50:55.459951Z",
     "start_time": "2023-09-09T05:50:55.436445Z"
    }
   },
   "outputs": [],
   "source": [
    "x, y, q = sp.symbols('x y theta', real=True)\n",
    "r = sp.symbols('r', real=True, positive=True)"
   ]
  },
  {
   "cell_type": "code",
   "execution_count": 26,
   "id": "811327b6-5852-47c8-aad7-ed5cbd024128",
   "metadata": {
    "ExecuteTime": {
     "end_time": "2023-09-09T05:50:55.483979Z",
     "start_time": "2023-09-09T05:50:55.457192Z"
    }
   },
   "outputs": [
    {
     "data": {
      "text/latex": [
       "$\\displaystyle \\left[\\begin{matrix}x\\\\y\\end{matrix}\\right] = \\left[\\begin{matrix}r \\cos{\\left(\\theta \\right)}\\\\r \\sin{\\left(\\theta \\right)}\\end{matrix}\\right]$"
      ],
      "text/plain": [
       "⎡x⎤   ⎡r⋅cos(θ)⎤\n",
       "⎢ ⎥ = ⎢        ⎥\n",
       "⎣y⎦   ⎣r⋅sin(θ)⎦"
      ]
     },
     "execution_count": 26,
     "metadata": {},
     "output_type": "execute_result"
    }
   ],
   "source": [
    "f = lambda r, q: [r*sp.cos(q), r*sp.sin(q)]\n",
    "coord_eqn = sp.Eq(sp.Matrix([x, y]), sp.Matrix(f(r, q)))\n",
    "coord_eqn"
   ]
  },
  {
   "cell_type": "code",
   "execution_count": 27,
   "id": "f03ee351-81ff-4062-b61e-484aed61e873",
   "metadata": {
    "ExecuteTime": {
     "end_time": "2023-09-09T05:50:56.352094Z",
     "start_time": "2023-09-09T05:50:55.482655Z"
    }
   },
   "outputs": [
    {
     "data": {
      "image/png": "[encoded data removed]",
      "text/latex": [
       "$\\displaystyle \\left[ \\left( \\frac{- x^{2} + x \\sqrt{x^{2} + y^{2}} - y^{2}}{x - \\sqrt{x^{2} + y^{2}}}, \\  - 2 \\operatorname{atan}{\\left(\\frac{x - \\sqrt{x^{2} + y^{2}}}{y} \\right)}\\right), \\  \\left( - \\frac{x^{2} + x \\sqrt{x^{2} + y^{2}} + y^{2}}{x + \\sqrt{x^{2} + y^{2}}}, \\  - 2 \\operatorname{atan}{\\left(\\frac{x + \\sqrt{x^{2} + y^{2}}}{y} \\right)}\\right)\\right]$"
      ],
      "text/plain": [
       "⎡⎛            _________              ⎛       _________⎞⎞  ⎛ ⎛          _________     ⎞          ⎛       _________⎞⎞⎤\n",
       "⎢⎜   2       ╱  2    2     2         ⎜      ╱  2    2 ⎟⎟  ⎜ ⎜ 2       ╱  2    2     2⎟          ⎜      ╱  2    2 ⎟⎟⎥\n",
       "⎢⎜- x  + x⋅╲╱  x  + y   - y          ⎜x - ╲╱  x  + y  ⎟⎟  ⎜-⎝x  + x⋅╲╱  x  + y   + y ⎠          ⎜x + ╲╱  x  + y  ⎟⎟⎥\n",
       "⎢⎜──────────────────────────, -2⋅atan⎜────────────────⎟⎟, ⎜────────────────────────────, -2⋅atan⎜────────────────⎟⎟⎥\n",
       "⎢⎜            _________              ⎝       y        ⎠⎟  ⎜             _________               ⎝       y        ⎠⎟⎥\n",
       "⎢⎜           ╱  2    2                                 ⎟  ⎜            ╱  2    2                                  ⎟⎥\n",
       "⎣⎝     x - ╲╱  x  + y                                  ⎠  ⎝      x + ╲╱  x  + y                                   ⎠⎦"
      ]
     },
     "execution_count": 27,
     "metadata": {},
     "output_type": "execute_result"
    }
   ],
   "source": [
    "sp.solve(coord_eqn, [r, q])"
   ]
  },
  {
   "cell_type": "code",
   "execution_count": 28,
   "id": "a73a0c1f-5c42-4a89-a7a8-d77f8e8e1a37",
   "metadata": {
    "ExecuteTime": {
     "end_time": "2023-09-09T05:50:56.381708Z",
     "start_time": "2023-09-09T05:50:56.350683Z"
    }
   },
   "outputs": [
    {
     "data": {
      "text/latex": [
       "$\\displaystyle \\left[\\begin{matrix}\\cos{\\left(\\theta \\right)} & - r \\sin{\\left(\\theta \\right)}\\\\\\sin{\\left(\\theta \\right)} & r \\cos{\\left(\\theta \\right)}\\end{matrix}\\right]$"
      ],
      "text/plain": [
       "⎡cos(θ)  -r⋅sin(θ)⎤\n",
       "⎢                 ⎥\n",
       "⎣sin(θ)  r⋅cos(θ) ⎦"
      ]
     },
     "execution_count": 28,
     "metadata": {},
     "output_type": "execute_result"
    }
   ],
   "source": [
    "coord_eqn.rhs.jacobian([r , q])"
   ]
  },
  {
   "cell_type": "code",
   "execution_count": 29,
   "id": "63e4bc4c-b70c-4924-9cd2-04256df8452f",
   "metadata": {
    "ExecuteTime": {
     "end_time": "2023-09-09T05:50:56.395428Z",
     "start_time": "2023-09-09T05:50:56.373763Z"
    }
   },
   "outputs": [],
   "source": [
    "D = lambda vars, *args: sp.Matrix(args).jacobian(vars)"
   ]
  },
  {
   "cell_type": "code",
   "execution_count": 30,
   "id": "6cfeb062-ac11-4db9-a61c-bd3d3de0034e",
   "metadata": {
    "ExecuteTime": {
     "end_time": "2023-09-09T05:50:56.417817Z",
     "start_time": "2023-09-09T05:50:56.394332Z"
    }
   },
   "outputs": [
    {
     "data": {
      "text/latex": [
       "$\\displaystyle \\left[\\begin{matrix}\\cos{\\left(\\theta \\right)} & - r \\sin{\\left(\\theta \\right)}\\\\\\sin{\\left(\\theta \\right)} & r \\cos{\\left(\\theta \\right)}\\end{matrix}\\right]$"
      ],
      "text/plain": [
       "⎡cos(θ)  -r⋅sin(θ)⎤\n",
       "⎢                 ⎥\n",
       "⎣sin(θ)  r⋅cos(θ) ⎦"
      ]
     },
     "execution_count": 30,
     "metadata": {},
     "output_type": "execute_result"
    }
   ],
   "source": [
    "D([r, q], f(r, q))"
   ]
  },
  {
   "cell_type": "code",
   "execution_count": 31,
   "id": "4cd1f7f4-f73d-4583-93ec-cafa614bc7bc",
   "metadata": {
    "ExecuteTime": {
     "end_time": "2023-09-09T05:50:56.449480Z",
     "start_time": "2023-09-09T05:50:56.418134Z"
    }
   },
   "outputs": [
    {
     "data": {
      "text/latex": [
       "$\\displaystyle \\left[\\begin{matrix}2 x & - 2 y\\\\2 y & 2 x\\end{matrix}\\right]$"
      ],
      "text/plain": [
       "⎡2⋅x  -2⋅y⎤\n",
       "⎢         ⎥\n",
       "⎣2⋅y  2⋅x ⎦"
      ]
     },
     "execution_count": 31,
     "metadata": {},
     "output_type": "execute_result"
    }
   ],
   "source": [
    "D([x, y], [x**2 - y**2, 2*x*y])"
   ]
  },
  {
   "cell_type": "markdown",
   "id": "13ced834-bd24-4993-b991-d799c100cf11",
   "metadata": {
    "ExecuteTime": {
     "end_time": "2023-09-09T05:50:56.453979Z",
     "start_time": "2023-09-09T05:50:56.448058Z"
    }
   },
   "source": [
    "# Chain Rule - another approach\n",
    "For $u = u(x,y)$ and $x=x(s,t), y=y(s,t)$ try having $x$ and $y$ as functions.  The trick is to define variables for $x, y$ as both normal symbols and as functions.  You can then use `subs` to substitute in the parameterised form in the chain rule."
   ]
  },
  {
   "cell_type": "code",
   "execution_count": 32,
   "id": "493a55d3-88bf-4fd7-abef-d13275811dab",
   "metadata": {},
   "outputs": [],
   "source": [
    "u, x_f, y_f = sp.symbols('u x y', cls=sp.Function)\n",
    "x, y, s, t, r, q = sp.symbols('x y s t r theta', real=True)\n",
    "f_s, g_s, Df_s, Dg_s = sp.symbols('f g Df Dg', real=True)"
   ]
  },
  {
   "cell_type": "code",
   "execution_count": 33,
   "id": "48b339ba-b9f0-4774-bdfd-2fffd0506471",
   "metadata": {},
   "outputs": [],
   "source": [
    "# Coordinates as lists\n",
    "x_c = [x, y]\n",
    "s_c = [s, t]"
   ]
  },
  {
   "cell_type": "code",
   "execution_count": 34,
   "id": "defd3566-dacd-49c4-b5a1-c1e519a485fd",
   "metadata": {},
   "outputs": [
    {
     "data": {
      "text/latex": [
       "$\\displaystyle f = \\left[\\begin{matrix}u{\\left(x,y \\right)}\\end{matrix}\\right]$"
      ],
      "text/plain": [
       "f = [u(x, y)]"
      ]
     },
     "execution_count": 34,
     "metadata": {},
     "output_type": "execute_result"
    }
   ],
   "source": [
    "f = sp.Matrix([u(*x_c)])\n",
    "sp.Eq(f_s, sp.UnevaluatedExpr(f))"
   ]
  },
  {
   "cell_type": "code",
   "execution_count": 35,
   "id": "7cc83da5-5f2b-4def-a3d8-c49ec84b8fe0",
   "metadata": {},
   "outputs": [
    {
     "data": {
      "text/latex": [
       "$\\displaystyle Df = \\left[\\begin{matrix}\\frac{\\partial}{\\partial x} u{\\left(x,y \\right)} & \\frac{\\partial}{\\partial y} u{\\left(x,y \\right)}\\end{matrix}\\right]$"
      ],
      "text/plain": [
       "     ⎡∂            ∂          ⎤\n",
       "Df = ⎢──(u(x, y))  ──(u(x, y))⎥\n",
       "     ⎣∂x           ∂y         ⎦"
      ]
     },
     "execution_count": 35,
     "metadata": {},
     "output_type": "execute_result"
    }
   ],
   "source": [
    "Df = f.jacobian(x_c)\n",
    "sp.Eq(Df_s, sp.UnevaluatedExpr(Df))"
   ]
  },
  {
   "cell_type": "markdown",
   "id": "f9c5b023-cc8f-4634-a380-e73ef291b54c",
   "metadata": {},
   "source": [
    "We want to find the total derivative of f is the s, t coordinates:"
   ]
  },
  {
   "cell_type": "code",
   "execution_count": 36,
   "id": "f08b53ac-1ef7-49f9-93f1-e49eef52abcf",
   "metadata": {},
   "outputs": [
    {
     "data": {
      "text/latex": [
       "$\\displaystyle \\left[\\begin{matrix}\\frac{\\partial}{\\partial s} u{\\left(s,t \\right)} & \\frac{\\partial}{\\partial t} u{\\left(s,t \\right)}\\end{matrix}\\right]$"
      ],
      "text/plain": [
       "⎡∂            ∂          ⎤\n",
       "⎢──(u(s, t))  ──(u(s, t))⎥\n",
       "⎣∂s           ∂t         ⎦"
      ]
     },
     "execution_count": 36,
     "metadata": {},
     "output_type": "execute_result"
    }
   ],
   "source": [
    "Ds_f = f.subs(dict(zip(x_c, s_c))).jacobian(s_c)\n",
    "Ds_f"
   ]
  },
  {
   "cell_type": "code",
   "execution_count": 37,
   "id": "819a0a8a-4940-49c9-9471-7b50f80f18af",
   "metadata": {},
   "outputs": [
    {
     "data": {
      "text/latex": [
       "$\\displaystyle g = \\left[\\begin{matrix}x{\\left(s,t \\right)}\\\\y{\\left(s,t \\right)}\\end{matrix}\\right]$"
      ],
      "text/plain": [
       "    ⎡x(s, t)⎤\n",
       "g = ⎢       ⎥\n",
       "    ⎣y(s, t)⎦"
      ]
     },
     "execution_count": 37,
     "metadata": {},
     "output_type": "execute_result"
    }
   ],
   "source": [
    "g = sp.Matrix([x_f(*s_c), y_f(*s_c)])\n",
    "sp.Eq(g_s, sp.UnevaluatedExpr(g))"
   ]
  },
  {
   "cell_type": "code",
   "execution_count": 38,
   "id": "ac88a586-a0ae-44ed-b848-c8b2b754b75d",
   "metadata": {},
   "outputs": [
    {
     "data": {
      "text/latex": [
       "$\\displaystyle Dg = \\left[\\begin{matrix}\\frac{\\partial}{\\partial s} x{\\left(s,t \\right)} & \\frac{\\partial}{\\partial t} x{\\left(s,t \\right)}\\\\\\frac{\\partial}{\\partial s} y{\\left(s,t \\right)} & \\frac{\\partial}{\\partial t} y{\\left(s,t \\right)}\\end{matrix}\\right]$"
      ],
      "text/plain": [
       "     ⎡∂            ∂          ⎤\n",
       "     ⎢──(x(s, t))  ──(x(s, t))⎥\n",
       "     ⎢∂s           ∂t         ⎥\n",
       "Dg = ⎢                        ⎥\n",
       "     ⎢∂            ∂          ⎥\n",
       "     ⎢──(y(s, t))  ──(y(s, t))⎥\n",
       "     ⎣∂s           ∂t         ⎦"
      ]
     },
     "execution_count": 38,
     "metadata": {},
     "output_type": "execute_result"
    }
   ],
   "source": [
    "Dg = g.jacobian(s_c)\n",
    "sp.Eq(Dg_s, sp.UnevaluatedExpr(Dg))"
   ]
  },
  {
   "cell_type": "code",
   "execution_count": 39,
   "id": "6dcf291d-8d2b-4608-ba02-909c983cec84",
   "metadata": {},
   "outputs": [
    {
     "data": {
      "text/latex": [
       "$\\displaystyle \\left[\\begin{matrix}\\frac{\\partial}{\\partial s} u{\\left(s,t \\right)} & \\frac{\\partial}{\\partial t} u{\\left(s,t \\right)}\\end{matrix}\\right] = \\left[\\begin{matrix}\\frac{\\partial}{\\partial x} u{\\left(x,y \\right)} \\frac{\\partial}{\\partial s} x{\\left(s,t \\right)} + \\frac{\\partial}{\\partial y} u{\\left(x,y \\right)} \\frac{\\partial}{\\partial s} y{\\left(s,t \\right)} & \\frac{\\partial}{\\partial x} u{\\left(x,y \\right)} \\frac{\\partial}{\\partial t} x{\\left(s,t \\right)} + \\frac{\\partial}{\\partial y} u{\\left(x,y \\right)} \\frac{\\partial}{\\partial t} y{\\left(s,t \\right)}\\end{matrix}\\right]$"
      ],
      "text/plain": [
       "⎡∂            ∂          ⎤   ⎡∂           ∂             ∂           ∂            ∂           ∂             ∂           ∂          ⎤\n",
       "⎢──(u(s, t))  ──(u(s, t))⎥ = ⎢──(u(x, y))⋅──(x(s, t)) + ──(u(x, y))⋅──(y(s, t))  ──(u(x, y))⋅──(x(s, t)) + ──(u(x, y))⋅──(y(s, t))⎥\n",
       "⎣∂s           ∂t         ⎦   ⎣∂x          ∂s            ∂y          ∂s           ∂x          ∂t            ∂y          ∂t         ⎦"
      ]
     },
     "execution_count": 39,
     "metadata": {},
     "output_type": "execute_result"
    }
   ],
   "source": [
    "chain_rule = sp.Eq(Ds_f,  Df @ Dg)\n",
    "chain_rule"
   ]
  },
  {
   "cell_type": "markdown",
   "id": "7be42cb1-aad3-4629-bfca-7f04d4836b67",
   "metadata": {},
   "source": [
    "## Example: Polar Coordinates"
   ]
  },
  {
   "cell_type": "code",
   "execution_count": 40,
   "id": "574013d9-906f-4545-b289-a18d22620e81",
   "metadata": {},
   "outputs": [
    {
     "data": {
      "text/latex": [
       "$\\displaystyle \\left[\\begin{matrix}\\sin{\\left(\\theta \\right)} \\frac{\\partial}{\\partial y} u{\\left(x,y \\right)} + \\cos{\\left(\\theta \\right)} \\frac{\\partial}{\\partial x} u{\\left(x,y \\right)} & - r \\sin{\\left(\\theta \\right)} \\frac{\\partial}{\\partial x} u{\\left(x,y \\right)} + r \\cos{\\left(\\theta \\right)} \\frac{\\partial}{\\partial y} u{\\left(x,y \\right)}\\end{matrix}\\right]$"
      ],
      "text/plain": [
       "⎡       ∂                    ∂                       ∂                      ∂          ⎤\n",
       "⎢sin(θ)⋅──(u(x, y)) + cos(θ)⋅──(u(x, y))  - r⋅sin(θ)⋅──(u(x, y)) + r⋅cos(θ)⋅──(u(x, y))⎥\n",
       "⎣       ∂y                   ∂x                      ∂x                     ∂y         ⎦"
      ]
     },
     "execution_count": 40,
     "metadata": {},
     "output_type": "execute_result"
    }
   ],
   "source": [
    "chain_rule.rhs.subs({x_f(*s_c): s*sp.cos(t), y_f(s, t): s*sp.sin(t)}).applyfunc(lambda e: sp.simplify(e)).subs({s:r, t:q})"
   ]
  },
  {
   "cell_type": "markdown",
   "id": "cee4b37f-2b9c-4b17-9595-e289688e92cb",
   "metadata": {},
   "source": [
    "## Example: Hyperbolic Coordinates"
   ]
  },
  {
   "cell_type": "code",
   "execution_count": 41,
   "id": "9bdf0ea7-2e08-415c-8fe8-50401c2a509f",
   "metadata": {},
   "outputs": [
    {
     "data": {
      "text/latex": [
       "$\\displaystyle \\left[\\begin{matrix}2 s \\frac{\\partial}{\\partial x} u{\\left(x,y \\right)} + 2 t \\frac{\\partial}{\\partial y} u{\\left(x,y \\right)} & 2 s \\frac{\\partial}{\\partial y} u{\\left(x,y \\right)} - 2 t \\frac{\\partial}{\\partial x} u{\\left(x,y \\right)}\\end{matrix}\\right]$"
      ],
      "text/plain": [
       "⎡    ∂                 ∂                ∂                 ∂          ⎤\n",
       "⎢2⋅s⋅──(u(x, y)) + 2⋅t⋅──(u(x, y))  2⋅s⋅──(u(x, y)) - 2⋅t⋅──(u(x, y))⎥\n",
       "⎣    ∂x                ∂y               ∂y                ∂x         ⎦"
      ]
     },
     "execution_count": 41,
     "metadata": {},
     "output_type": "execute_result"
    }
   ],
   "source": [
    "chain_rule.rhs.subs({x_f(*s_c): s**2 - t**2, y_f(s, t): 2*s*t}).applyfunc(lambda e: sp.simplify(e))"
   ]
  },
  {
   "cell_type": "markdown",
   "id": "c925e86b-488f-4b5a-ad3a-3415f90ffe46",
   "metadata": {},
   "source": [
    "## Change of Coordinates for Partial Derivatives\n",
    "Goal: get $\\frac{\\partial u}{\\partial x}, \\frac{\\partial u}{\\partial y}$ in terms of $\\frac{\\partial u}{\\partial s}, \\frac{\\partial u}{\\partial t}$"
   ]
  },
  {
   "cell_type": "markdown",
   "id": "3a73b59d-b94f-45a6-998b-261fd77c7ca1",
   "metadata": {},
   "source": [
    "Approach 1: use `sp.solve` "
   ]
  },
  {
   "cell_type": "code",
   "execution_count": 42,
   "id": "d903c7d3-b9c3-44ca-bb34-a8aad9a6fdeb",
   "metadata": {},
   "outputs": [
    {
     "data": {
      "text/latex": [
       "$\\displaystyle \\left[\\begin{matrix}\\frac{\\partial}{\\partial x} u{\\left(x,y \\right)}\\\\\\frac{\\partial}{\\partial y} u{\\left(x,y \\right)}\\end{matrix}\\right] = \\left[\\begin{matrix}\\frac{\\frac{\\partial}{\\partial s} u{\\left(s,t \\right)} \\frac{\\partial}{\\partial t} y{\\left(s,t \\right)}}{\\frac{\\partial}{\\partial s} x{\\left(s,t \\right)} \\frac{\\partial}{\\partial t} y{\\left(s,t \\right)} - \\frac{\\partial}{\\partial t} x{\\left(s,t \\right)} \\frac{\\partial}{\\partial s} y{\\left(s,t \\right)}} - \\frac{\\frac{\\partial}{\\partial t} u{\\left(s,t \\right)} \\frac{\\partial}{\\partial s} y{\\left(s,t \\right)}}{\\frac{\\partial}{\\partial s} x{\\left(s,t \\right)} \\frac{\\partial}{\\partial t} y{\\left(s,t \\right)} - \\frac{\\partial}{\\partial t} x{\\left(s,t \\right)} \\frac{\\partial}{\\partial s} y{\\left(s,t \\right)}}\\\\- \\frac{\\frac{\\partial}{\\partial s} u{\\left(s,t \\right)} \\frac{\\partial}{\\partial t} x{\\left(s,t \\right)}}{\\frac{\\partial}{\\partial s} x{\\left(s,t \\right)} \\frac{\\partial}{\\partial t} y{\\left(s,t \\right)} - \\frac{\\partial}{\\partial t} x{\\left(s,t \\right)} \\frac{\\partial}{\\partial s} y{\\left(s,t \\right)}} + \\frac{\\frac{\\partial}{\\partial t} u{\\left(s,t \\right)} \\frac{\\partial}{\\partial s} x{\\left(s,t \\right)}}{\\frac{\\partial}{\\partial s} x{\\left(s,t \\right)} \\frac{\\partial}{\\partial t} y{\\left(s,t \\right)} - \\frac{\\partial}{\\partial t} x{\\left(s,t \\right)} \\frac{\\partial}{\\partial s} y{\\left(s,t \\right)}}\\end{matrix}\\right]$"
      ],
      "text/plain": [
       "                ⎡              ∂           ∂                                       ∂           ∂                        ⎤\n",
       "                ⎢              ──(u(s, t))⋅──(y(s, t))                             ──(u(s, t))⋅──(y(s, t))              ⎥\n",
       "                ⎢              ∂s          ∂t                                      ∂t          ∂s                       ⎥\n",
       "                ⎢ ───────────────────────────────────────────────── - ───────────────────────────────────────────────── ⎥\n",
       "⎡∂          ⎤   ⎢ ∂           ∂             ∂           ∂             ∂           ∂             ∂           ∂           ⎥\n",
       "⎢──(u(x, y))⎥   ⎢ ──(x(s, t))⋅──(y(s, t)) - ──(x(s, t))⋅──(y(s, t))   ──(x(s, t))⋅──(y(s, t)) - ──(x(s, t))⋅──(y(s, t)) ⎥\n",
       "⎢∂x         ⎥   ⎢ ∂s          ∂t            ∂t          ∂s            ∂s          ∂t            ∂t          ∂s          ⎥\n",
       "⎢           ⎥ = ⎢                                                                                                       ⎥\n",
       "⎢∂          ⎥   ⎢               ∂           ∂                                       ∂           ∂                       ⎥\n",
       "⎢──(u(x, y))⎥   ⎢               ──(u(s, t))⋅──(x(s, t))                             ──(u(s, t))⋅──(x(s, t))             ⎥\n",
       "⎣∂y         ⎦   ⎢               ∂s          ∂t                                      ∂t          ∂s                      ⎥\n",
       "                ⎢- ───────────────────────────────────────────────── + ─────────────────────────────────────────────────⎥\n",
       "                ⎢  ∂           ∂             ∂           ∂             ∂           ∂             ∂           ∂          ⎥\n",
       "                ⎢  ──(x(s, t))⋅──(y(s, t)) - ──(x(s, t))⋅──(y(s, t))   ──(x(s, t))⋅──(y(s, t)) - ──(x(s, t))⋅──(y(s, t))⎥\n",
       "                ⎣  ∂s          ∂t            ∂t          ∂s            ∂s          ∂t            ∂t          ∂s         ⎦"
      ]
     },
     "execution_count": 42,
     "metadata": {},
     "output_type": "execute_result"
    }
   ],
   "source": [
    "sp.Eq(\n",
    "    Df.T, \n",
    "    Df.T.subs(\n",
    "        sp.solve(chain_rule, [u(x, y).diff(x), u(x, y).diff(y)])\n",
    "    )\n",
    ")"
   ]
  },
  {
   "cell_type": "markdown",
   "id": "2489c0f0-8540-40c0-a66f-395294294307",
   "metadata": {},
   "source": [
    "Approach 2: use matrix inversion "
   ]
  },
  {
   "cell_type": "code",
   "execution_count": 43,
   "id": "b9b6ee11-9773-4566-a1db-2597f4ab2867",
   "metadata": {},
   "outputs": [
    {
     "data": {
      "text/latex": [
       "$\\displaystyle \\left[\\begin{matrix}\\frac{\\partial}{\\partial x} u{\\left(x,y \\right)}\\\\\\frac{\\partial}{\\partial y} u{\\left(x,y \\right)}\\end{matrix}\\right] = \\left[\\begin{matrix}\\frac{\\frac{\\partial}{\\partial s} u{\\left(s,t \\right)} \\frac{\\partial}{\\partial t} y{\\left(s,t \\right)}}{\\frac{\\partial}{\\partial s} x{\\left(s,t \\right)} \\frac{\\partial}{\\partial t} y{\\left(s,t \\right)} - \\frac{\\partial}{\\partial t} x{\\left(s,t \\right)} \\frac{\\partial}{\\partial s} y{\\left(s,t \\right)}} - \\frac{\\frac{\\partial}{\\partial t} u{\\left(s,t \\right)} \\frac{\\partial}{\\partial s} y{\\left(s,t \\right)}}{\\frac{\\partial}{\\partial s} x{\\left(s,t \\right)} \\frac{\\partial}{\\partial t} y{\\left(s,t \\right)} - \\frac{\\partial}{\\partial t} x{\\left(s,t \\right)} \\frac{\\partial}{\\partial s} y{\\left(s,t \\right)}}\\\\- \\frac{\\frac{\\partial}{\\partial s} u{\\left(s,t \\right)} \\frac{\\partial}{\\partial t} x{\\left(s,t \\right)}}{\\frac{\\partial}{\\partial s} x{\\left(s,t \\right)} \\frac{\\partial}{\\partial t} y{\\left(s,t \\right)} - \\frac{\\partial}{\\partial t} x{\\left(s,t \\right)} \\frac{\\partial}{\\partial s} y{\\left(s,t \\right)}} + \\frac{\\frac{\\partial}{\\partial t} u{\\left(s,t \\right)} \\frac{\\partial}{\\partial s} x{\\left(s,t \\right)}}{\\frac{\\partial}{\\partial s} x{\\left(s,t \\right)} \\frac{\\partial}{\\partial t} y{\\left(s,t \\right)} - \\frac{\\partial}{\\partial t} x{\\left(s,t \\right)} \\frac{\\partial}{\\partial s} y{\\left(s,t \\right)}}\\end{matrix}\\right]$"
      ],
      "text/plain": [
       "                ⎡              ∂           ∂                                       ∂           ∂                        ⎤\n",
       "                ⎢              ──(u(s, t))⋅──(y(s, t))                             ──(u(s, t))⋅──(y(s, t))              ⎥\n",
       "                ⎢              ∂s          ∂t                                      ∂t          ∂s                       ⎥\n",
       "                ⎢ ───────────────────────────────────────────────── - ───────────────────────────────────────────────── ⎥\n",
       "⎡∂          ⎤   ⎢ ∂           ∂             ∂           ∂             ∂           ∂             ∂           ∂           ⎥\n",
       "⎢──(u(x, y))⎥   ⎢ ──(x(s, t))⋅──(y(s, t)) - ──(x(s, t))⋅──(y(s, t))   ──(x(s, t))⋅──(y(s, t)) - ──(x(s, t))⋅──(y(s, t)) ⎥\n",
       "⎢∂x         ⎥   ⎢ ∂s          ∂t            ∂t          ∂s            ∂s          ∂t            ∂t          ∂s          ⎥\n",
       "⎢           ⎥ = ⎢                                                                                                       ⎥\n",
       "⎢∂          ⎥   ⎢               ∂           ∂                                       ∂           ∂                       ⎥\n",
       "⎢──(u(x, y))⎥   ⎢               ──(u(s, t))⋅──(x(s, t))                             ──(u(s, t))⋅──(x(s, t))             ⎥\n",
       "⎣∂y         ⎦   ⎢               ∂s          ∂t                                      ∂t          ∂s                      ⎥\n",
       "                ⎢- ───────────────────────────────────────────────── + ─────────────────────────────────────────────────⎥\n",
       "                ⎢  ∂           ∂             ∂           ∂             ∂           ∂             ∂           ∂          ⎥\n",
       "                ⎢  ──(x(s, t))⋅──(y(s, t)) - ──(x(s, t))⋅──(y(s, t))   ──(x(s, t))⋅──(y(s, t)) - ──(x(s, t))⋅──(y(s, t))⎥\n",
       "                ⎣  ∂s          ∂t            ∂t          ∂s            ∂s          ∂t            ∂t          ∂s         ⎦"
      ]
     },
     "execution_count": 43,
     "metadata": {},
     "output_type": "execute_result"
    }
   ],
   "source": [
    "sp.Eq(Df.T, (Ds_f @ Dg.inv()).T)"
   ]
  },
  {
   "cell_type": "code",
   "execution_count": 44,
   "id": "dd88ea84-c1c7-47c4-9ec1-9dff5986ef85",
   "metadata": {},
   "outputs": [
    {
     "data": {
      "text/latex": [
       "$\\displaystyle \\left[\\begin{matrix}\\frac{\\partial}{\\partial x} u{\\left(x,y \\right)}\\\\\\frac{\\partial}{\\partial y} u{\\left(x,y \\right)}\\end{matrix}\\right] = \\left[\\begin{matrix}\\frac{\\frac{\\partial}{\\partial s} u{\\left(s,t \\right)} \\frac{\\partial}{\\partial t} y{\\left(s,t \\right)}}{\\frac{\\partial}{\\partial s} x{\\left(s,t \\right)} \\frac{\\partial}{\\partial t} y{\\left(s,t \\right)} - \\frac{\\partial}{\\partial t} x{\\left(s,t \\right)} \\frac{\\partial}{\\partial s} y{\\left(s,t \\right)}} - \\frac{\\frac{\\partial}{\\partial t} u{\\left(s,t \\right)} \\frac{\\partial}{\\partial s} y{\\left(s,t \\right)}}{\\frac{\\partial}{\\partial s} x{\\left(s,t \\right)} \\frac{\\partial}{\\partial t} y{\\left(s,t \\right)} - \\frac{\\partial}{\\partial t} x{\\left(s,t \\right)} \\frac{\\partial}{\\partial s} y{\\left(s,t \\right)}}\\\\- \\frac{\\frac{\\partial}{\\partial s} u{\\left(s,t \\right)} \\frac{\\partial}{\\partial t} x{\\left(s,t \\right)}}{\\frac{\\partial}{\\partial s} x{\\left(s,t \\right)} \\frac{\\partial}{\\partial t} y{\\left(s,t \\right)} - \\frac{\\partial}{\\partial t} x{\\left(s,t \\right)} \\frac{\\partial}{\\partial s} y{\\left(s,t \\right)}} + \\frac{\\frac{\\partial}{\\partial t} u{\\left(s,t \\right)} \\frac{\\partial}{\\partial s} x{\\left(s,t \\right)}}{\\frac{\\partial}{\\partial s} x{\\left(s,t \\right)} \\frac{\\partial}{\\partial t} y{\\left(s,t \\right)} - \\frac{\\partial}{\\partial t} x{\\left(s,t \\right)} \\frac{\\partial}{\\partial s} y{\\left(s,t \\right)}}\\end{matrix}\\right]$"
      ],
      "text/plain": [
       "                ⎡              ∂           ∂                                       ∂           ∂                        ⎤\n",
       "                ⎢              ──(u(s, t))⋅──(y(s, t))                             ──(u(s, t))⋅──(y(s, t))              ⎥\n",
       "                ⎢              ∂s          ∂t                                      ∂t          ∂s                       ⎥\n",
       "                ⎢ ───────────────────────────────────────────────── - ───────────────────────────────────────────────── ⎥\n",
       "⎡∂          ⎤   ⎢ ∂           ∂             ∂           ∂             ∂           ∂             ∂           ∂           ⎥\n",
       "⎢──(u(x, y))⎥   ⎢ ──(x(s, t))⋅──(y(s, t)) - ──(x(s, t))⋅──(y(s, t))   ──(x(s, t))⋅──(y(s, t)) - ──(x(s, t))⋅──(y(s, t)) ⎥\n",
       "⎢∂x         ⎥   ⎢ ∂s          ∂t            ∂t          ∂s            ∂s          ∂t            ∂t          ∂s          ⎥\n",
       "⎢           ⎥ = ⎢                                                                                                       ⎥\n",
       "⎢∂          ⎥   ⎢               ∂           ∂                                       ∂           ∂                       ⎥\n",
       "⎢──(u(x, y))⎥   ⎢               ──(u(s, t))⋅──(x(s, t))                             ──(u(s, t))⋅──(x(s, t))             ⎥\n",
       "⎣∂y         ⎦   ⎢               ∂s          ∂t                                      ∂t          ∂s                      ⎥\n",
       "                ⎢- ───────────────────────────────────────────────── + ─────────────────────────────────────────────────⎥\n",
       "                ⎢  ∂           ∂             ∂           ∂             ∂           ∂             ∂           ∂          ⎥\n",
       "                ⎢  ──(x(s, t))⋅──(y(s, t)) - ──(x(s, t))⋅──(y(s, t))   ──(x(s, t))⋅──(y(s, t)) - ──(x(s, t))⋅──(y(s, t))⎥\n",
       "                ⎣  ∂s          ∂t            ∂t          ∂s            ∂s          ∂t            ∂t          ∂s         ⎦"
      ]
     },
     "execution_count": 44,
     "metadata": {},
     "output_type": "execute_result"
    }
   ],
   "source": [
    "sp.Eq(f.jacobian([x, y]).T, (f.jacobian([x, y]).subs({x: s, y: t}) @ g.jacobian([s, t]).inv()).T)"
   ]
  },
  {
   "cell_type": "markdown",
   "id": "597d4cd7-4baa-4cdd-838c-1473988a4f30",
   "metadata": {},
   "source": [
    "## Example: Polar Coordinates"
   ]
  },
  {
   "cell_type": "code",
   "execution_count": 45,
   "id": "5a90f159-eb2a-4097-8436-2135ef12c286",
   "metadata": {},
   "outputs": [
    {
     "data": {
      "text/latex": [
       "$\\displaystyle \\left[\\begin{matrix}\\frac{\\partial}{\\partial x} u{\\left(x,y \\right)}\\\\\\frac{\\partial}{\\partial y} u{\\left(x,y \\right)}\\end{matrix}\\right] = \\left[\\begin{matrix}- \\frac{- r \\cos{\\left(\\theta \\right)} \\frac{\\partial}{\\partial r} u{\\left(r,\\theta \\right)} + \\sin{\\left(\\theta \\right)} \\frac{\\partial}{\\partial \\theta} u{\\left(r,\\theta \\right)}}{r}\\\\\\frac{r \\sin{\\left(\\theta \\right)} \\frac{\\partial}{\\partial r} u{\\left(r,\\theta \\right)} + \\cos{\\left(\\theta \\right)} \\frac{\\partial}{\\partial \\theta} u{\\left(r,\\theta \\right)}}{r}\\end{matrix}\\right]$"
      ],
      "text/plain": [
       "                ⎡ ⎛           ∂                    ∂          ⎞ ⎤\n",
       "                ⎢-⎜- r⋅cos(θ)⋅──(u(r, θ)) + sin(θ)⋅──(u(r, θ))⎟ ⎥\n",
       "⎡∂          ⎤   ⎢ ⎝           ∂r                   ∂θ         ⎠ ⎥\n",
       "⎢──(u(x, y))⎥   ⎢───────────────────────────────────────────────⎥\n",
       "⎢∂x         ⎥   ⎢                       r                       ⎥\n",
       "⎢           ⎥ = ⎢                                               ⎥\n",
       "⎢∂          ⎥   ⎢            ∂                    ∂             ⎥\n",
       "⎢──(u(x, y))⎥   ⎢   r⋅sin(θ)⋅──(u(r, θ)) + cos(θ)⋅──(u(r, θ))   ⎥\n",
       "⎣∂y         ⎦   ⎢            ∂r                   ∂θ            ⎥\n",
       "                ⎢   ─────────────────────────────────────────   ⎥\n",
       "                ⎣                       r                       ⎦"
      ]
     },
     "execution_count": 45,
     "metadata": {},
     "output_type": "execute_result"
    }
   ],
   "source": [
    "eqn_polar = sp.Eq(\n",
    "    Df.T, \n",
    "    (Ds_f @ Dg.inv()).T.subs(\n",
    "        {x_f(s, t): s*sp.cos(t), y_f(s, t): s*sp.sin(t)}\n",
    "    ).applyfunc(lambda e: sp.trigsimp(sp.simplify(e))).subs({s:r, t:q})\n",
    ")\n",
    "eqn_polar"
   ]
  },
  {
   "cell_type": "markdown",
   "id": "a8316c94-a89c-4e92-b559-ff4ce77bf82f",
   "metadata": {},
   "source": [
    "Higher order partials?  Just substitute in the partials e.g. below we have the Laplacian in polar coordinates"
   ]
  },
  {
   "cell_type": "code",
   "execution_count": 46,
   "id": "8db99def-ba31-4be6-9818-addef5745e21",
   "metadata": {},
   "outputs": [
    {
     "data": {
      "image/png": "[encoded data removed]",
      "text/latex": [
       "$\\displaystyle \\frac{\\partial^{2}}{\\partial x^{2}} u{\\left(x,y \\right)} + \\frac{\\partial^{2}}{\\partial y^{2}} u{\\left(x,y \\right)} = \\frac{\\partial^{2}}{\\partial r^{2}} u{\\left(r,\\theta \\right)} + \\frac{\\frac{\\partial}{\\partial r} u{\\left(r,\\theta \\right)}}{r} + \\frac{\\frac{\\partial^{2}}{\\partial \\theta^{2}} u{\\left(r,\\theta \\right)}}{r^{2}}$"
      ],
      "text/plain": [
       "                                                             2         \n",
       "                                                            ∂          \n",
       "                                             ∂             ───(u(r, θ))\n",
       "  2              2              2            ──(u(r, θ))     2         \n",
       " ∂              ∂              ∂             ∂r            ∂θ          \n",
       "───(u(x, y)) + ───(u(x, y)) = ───(u(r, θ)) + ─────────── + ────────────\n",
       "  2              2              2                 r              2     \n",
       "∂x             ∂y             ∂r                                r      "
      ]
     },
     "execution_count": 46,
     "metadata": {},
     "output_type": "execute_result"
    }
   ],
   "source": [
    "sp.Eq(\n",
    "    eqn_polar.lhs[0].subs({u(x, y): eqn_polar.lhs[0]}) + eqn_polar.lhs[1].subs({u(x, y): eqn_polar.lhs[1]}), \n",
    "    sp.trigsimp(\n",
    "        (\n",
    "            eqn_polar.rhs[0].subs({u(r, q): eqn_polar.rhs[0]}) + eqn_polar.rhs[1].subs({u(r, q): eqn_polar.rhs[1]})\n",
    "        ).simplify().expand()\n",
    "    )\n",
    ")"
   ]
  },
  {
   "cell_type": "markdown",
   "id": "b32eefb3-fd61-41d9-a895-e8ea208429ba",
   "metadata": {},
   "source": [
    "Vectorized form with applyfunc"
   ]
  },
  {
   "cell_type": "code",
   "execution_count": 47,
   "id": "dda3677b-9053-4c56-9b3c-c50b942e3358",
   "metadata": {},
   "outputs": [
    {
     "data": {
      "text/latex": [
       "$\\displaystyle \\left[\\begin{matrix}\\frac{\\partial^{2}}{\\partial x^{2}} u{\\left(x,y \\right)} + \\frac{\\partial^{2}}{\\partial y^{2}} u{\\left(x,y \\right)}\\end{matrix}\\right]$"
      ],
      "text/plain": [
       "⎡  2              2         ⎤\n",
       "⎢ ∂              ∂          ⎥\n",
       "⎢───(u(x, y)) + ───(u(x, y))⎥\n",
       "⎢  2              2         ⎥\n",
       "⎣∂x             ∂y          ⎦"
      ]
     },
     "execution_count": 47,
     "metadata": {},
     "output_type": "execute_result"
    }
   ],
   "source": [
    "sp.ones(1, len(eqn_polar.lhs)) @ eqn_polar.lhs.applyfunc(lambda e: e.subs({u(x, y): e}))"
   ]
  },
  {
   "cell_type": "code",
   "execution_count": 48,
   "id": "c4007f0a-9706-4468-a49e-36c4e9f0ff22",
   "metadata": {},
   "outputs": [
    {
     "data": {
      "text/latex": [
       "$\\displaystyle \\left[\\begin{matrix}\\frac{\\partial^{2}}{\\partial x^{2}} u{\\left(x,y \\right)} + \\frac{\\partial^{2}}{\\partial y^{2}} u{\\left(x,y \\right)}\\end{matrix}\\right]$"
      ],
      "text/plain": [
       "⎡  2              2         ⎤\n",
       "⎢ ∂              ∂          ⎥\n",
       "⎢───(u(x, y)) + ───(u(x, y))⎥\n",
       "⎢  2              2         ⎥\n",
       "⎣∂x             ∂y          ⎦"
      ]
     },
     "execution_count": 48,
     "metadata": {},
     "output_type": "execute_result"
    }
   ],
   "source": [
    "sp.ones(1, len(Df.T)) @ Df.T.applyfunc(lambda e: e.subs({u(x, y): e}))"
   ]
  },
  {
   "cell_type": "code",
   "execution_count": 49,
   "id": "3f5ed34e-3a61-45e0-a1b8-e33b58b288ee",
   "metadata": {},
   "outputs": [
    {
     "data": {
      "text/latex": [
       "$\\displaystyle \\left[\\begin{matrix}\\frac{\\partial^{2}}{\\partial r^{2}} u{\\left(r,\\theta \\right)} + \\frac{\\frac{\\partial}{\\partial r} u{\\left(r,\\theta \\right)}}{r} + \\frac{\\frac{\\partial^{2}}{\\partial \\theta^{2}} u{\\left(r,\\theta \\right)}}{r^{2}}\\end{matrix}\\right]$"
      ],
      "text/plain": [
       "⎡                               2         ⎤\n",
       "⎢                              ∂          ⎥\n",
       "⎢               ∂             ───(u(r, θ))⎥\n",
       "⎢  2            ──(u(r, θ))     2         ⎥\n",
       "⎢ ∂             ∂r            ∂θ          ⎥\n",
       "⎢───(u(r, θ)) + ─────────── + ────────────⎥\n",
       "⎢  2                 r              2     ⎥\n",
       "⎣∂r                                r      ⎦"
      ]
     },
     "execution_count": 49,
     "metadata": {},
     "output_type": "execute_result"
    }
   ],
   "source": [
    "sp.trigsimp(\n",
    "    (\n",
    "        sp.ones(1, len(eqn_polar.rhs)) @ eqn_polar.rhs.applyfunc(lambda e: e.subs({u(r, q): e}))\n",
    "    ).simplify().expand()\n",
    ")"
   ]
  },
  {
   "cell_type": "markdown",
   "id": "77b54e6f-c24f-43b6-a620-432060fc95c0",
   "metadata": {},
   "source": [
    "The above works but doesn't really show the math - better is to say the Laplacian is the trace of the Hessian?  i.e.:"
   ]
  },
  {
   "cell_type": "code",
   "execution_count": 50,
   "id": "9bd8fba3-d053-4013-a994-c4859a94fb85",
   "metadata": {},
   "outputs": [
    {
     "data": {
      "image/png": "[encoded data removed]",
      "text/latex": [
       "$\\displaystyle \\frac{\\partial^{2}}{\\partial x^{2}} u{\\left(x,y \\right)} + \\frac{\\partial^{2}}{\\partial y^{2}} u{\\left(x,y \\right)}$"
      ],
      "text/plain": [
       "  2              2         \n",
       " ∂              ∂          \n",
       "───(u(x, y)) + ───(u(x, y))\n",
       "  2              2         \n",
       "∂x             ∂y          "
      ]
     },
     "execution_count": 50,
     "metadata": {},
     "output_type": "execute_result"
    }
   ],
   "source": [
    "Df.jacobian(x_c).trace()"
   ]
  },
  {
   "cell_type": "code",
   "execution_count": 51,
   "id": "3c0c2db6-d910-4872-b693-53f8ecc1fd1e",
   "metadata": {},
   "outputs": [
    {
     "data": {
      "image/png": "[encoded data removed]",
      "text/latex": [
       "$\\displaystyle \\frac{\\partial^{2}}{\\partial x^{2}} u{\\left(x,y \\right)} + \\frac{\\partial^{2}}{\\partial y^{2}} u{\\left(x,y \\right)}$"
      ],
      "text/plain": [
       "  2              2         \n",
       " ∂              ∂          \n",
       "───(u(x, y)) + ───(u(x, y))\n",
       "  2              2         \n",
       "∂x             ∂y          "
      ]
     },
     "execution_count": 51,
     "metadata": {},
     "output_type": "execute_result"
    }
   ],
   "source": [
    "# i.e.\n",
    "f.jacobian(x_c).jacobian(x_c).trace()"
   ]
  },
  {
   "cell_type": "code",
   "execution_count": 52,
   "id": "a3dd8c69-36cb-4854-b3f9-945085b703fc",
   "metadata": {},
   "outputs": [
    {
     "data": {
      "image/png": "[encoded data removed]",
      "text/latex": [
       "$\\displaystyle \\frac{\\partial^{2}}{\\partial r^{2}} u{\\left(r,\\theta \\right)} + \\frac{\\frac{\\partial}{\\partial r} u{\\left(r,\\theta \\right)}}{r} + \\frac{\\frac{\\partial^{2}}{\\partial \\theta^{2}} u{\\left(r,\\theta \\right)}}{r^{2}}$"
      ],
      "text/plain": [
       "                               2         \n",
       "                              ∂          \n",
       "               ∂             ───(u(r, θ))\n",
       "  2            ──(u(r, θ))     2         \n",
       " ∂             ∂r            ∂θ          \n",
       "───(u(r, θ)) + ─────────── + ────────────\n",
       "  2                 r              2     \n",
       "∂r                                r      "
      ]
     },
     "execution_count": 52,
     "metadata": {},
     "output_type": "execute_result"
    }
   ],
   "source": [
    "Dxsf = (Ds_f @ Dg.inv())\n",
    "sp.trigsimp((Dxsf.jacobian(s_c) @ Dg.inv()).trace().subs(\n",
    "        {x_f(s, t): s*sp.cos(t), y_f(s, t): s*sp.sin(t)}\n",
    "    ).simplify().expand()).subs({s: r, t: q})"
   ]
  },
  {
   "cell_type": "code",
   "execution_count": 53,
   "id": "19891bc8-65ea-4f7b-8ff0-298262c116e5",
   "metadata": {},
   "outputs": [],
   "source": [
    "Hessian = ((Ds_f @ Dg.inv()).jacobian(s_c) @ Dg.inv()).applyfunc(sp.simplify)"
   ]
  },
  {
   "cell_type": "code",
   "execution_count": 54,
   "id": "c5b14579-c5e3-4235-9e09-e592014aea9a",
   "metadata": {},
   "outputs": [
    {
     "data": {
      "image/png": "[encoded data removed]",
      "text/latex": [
       "$\\displaystyle \\frac{\\partial^{2}}{\\partial r^{2}} u{\\left(r,\\theta \\right)} + \\frac{\\frac{\\partial}{\\partial r} u{\\left(r,\\theta \\right)}}{r} + \\frac{\\frac{\\partial^{2}}{\\partial \\theta^{2}} u{\\left(r,\\theta \\right)}}{r^{2}}$"
      ],
      "text/plain": [
       "                               2         \n",
       "                              ∂          \n",
       "               ∂             ───(u(r, θ))\n",
       "  2            ──(u(r, θ))     2         \n",
       " ∂             ∂r            ∂θ          \n",
       "───(u(r, θ)) + ─────────── + ────────────\n",
       "  2                 r              2     \n",
       "∂r                                r      "
      ]
     },
     "execution_count": 54,
     "metadata": {},
     "output_type": "execute_result"
    }
   ],
   "source": [
    "sp.trigsimp(\n",
    "    Hessian.trace().subs(\n",
    "        {x_f(s, t): s*sp.cos(t), y_f(s, t): s*sp.sin(t)}\n",
    "    ).simplify().expand()\n",
    ").subs({s: r, t: q})"
   ]
  },
  {
   "cell_type": "code",
   "execution_count": 55,
   "id": "66a925f0-3707-46c6-abc5-c497c2b4ba31",
   "metadata": {},
   "outputs": [
    {
     "data": {
      "text/latex": [
       "$\\displaystyle \\left[\\begin{matrix}\\frac{\\partial}{\\partial s} x{\\left(s,t \\right)} & \\frac{\\partial}{\\partial t} x{\\left(s,t \\right)}\\\\\\frac{\\partial}{\\partial s} y{\\left(s,t \\right)} & \\frac{\\partial}{\\partial t} y{\\left(s,t \\right)}\\end{matrix}\\right]$"
      ],
      "text/plain": [
       "⎡∂            ∂          ⎤\n",
       "⎢──(x(s, t))  ──(x(s, t))⎥\n",
       "⎢∂s           ∂t         ⎥\n",
       "⎢                        ⎥\n",
       "⎢∂            ∂          ⎥\n",
       "⎢──(y(s, t))  ──(y(s, t))⎥\n",
       "⎣∂s           ∂t         ⎦"
      ]
     },
     "execution_count": 55,
     "metadata": {},
     "output_type": "execute_result"
    }
   ],
   "source": [
    "sp.Matrix([sp.Function(x.name)(*s_c) for x in x_c]).jacobian(s_c)"
   ]
  },
  {
   "cell_type": "code",
   "execution_count": 56,
   "id": "89ae7aaa-0981-481e-aef8-53a4ac925d41",
   "metadata": {},
   "outputs": [
    {
     "data": {
      "text/latex": [
       "$\\displaystyle \\left[\\begin{matrix}s \\cos{\\left(t \\right)}\\\\y{\\left(s,t \\right)}\\end{matrix}\\right]$"
      ],
      "text/plain": [
       "⎡s⋅cos(t)⎤\n",
       "⎢        ⎥\n",
       "⎣y(s, t) ⎦"
      ]
     },
     "execution_count": 56,
     "metadata": {},
     "output_type": "execute_result"
    }
   ],
   "source": [
    "g.subs({g[0]: s*sp.cos(t)})"
   ]
  },
  {
   "cell_type": "code",
   "execution_count": 57,
   "id": "68319787-b9fa-4829-9043-deb7e6566b79",
   "metadata": {},
   "outputs": [],
   "source": [
    "class CoordChanger:\n",
    "    def __init__(self, x_coords, s_coords):\n",
    "        self.x_c = x_coords\n",
    "        self.s_c = s_coords\n",
    "        # Scalar function depending on x coords\n",
    "        self.f = sp.Matrix([sp.Function('u')(*self.x_c)])\n",
    "        # Same function in s coordinate system\n",
    "        self.f_s = self.f.subs(dict(zip(self.x_c, self.s_c)))\n",
    "        # x coords as functions of s coords\n",
    "        self.x_f = sp.Matrix([sp.Function(x.name)(*self.s_c) for x in self.x_c])\n",
    "    \n",
    "    @property\n",
    "    def Df_x(self):\n",
    "        return self.f.jacobian(self.x_c)\n",
    "\n",
    "    @property\n",
    "    def Dg_s(self):\n",
    "        return self.x_f.jacobian(self.s_c)\n",
    "    \n",
    "    @property\n",
    "    def Df_s(self):\n",
    "        return (self.f_s.jacobian(self.s_c) @ self.Dg_s.inv())\n",
    "\n",
    "    @property\n",
    "    def hessian(self):\n",
    "        return (self.Df_s.jacobian(self.s_c) @ self.Dg_s.inv()).applyfunc(sp.simplify)\n",
    "\n",
    "    @property\n",
    "    def laplacian(self):\n",
    "        return self.hessian.trace()"
   ]
  },
  {
   "cell_type": "code",
   "execution_count": 58,
   "id": "7dedfe02-a087-41e9-ac14-d594a5191139",
   "metadata": {},
   "outputs": [],
   "source": [
    "cc = CoordChanger([x, y], [r, q])"
   ]
  },
  {
   "cell_type": "code",
   "execution_count": 59,
   "id": "939f6ca5-6182-4f50-8710-8829268c8987",
   "metadata": {},
   "outputs": [],
   "source": [
    "def to_polar(expr):\n",
    "    return expr.subs({cc.x_f[0]: r*sp.cos(q), cc.x_f[1]: r*sp.sin(q)})"
   ]
  },
  {
   "cell_type": "code",
   "execution_count": 60,
   "id": "5144b017-4e50-48fa-b460-07dd6fc1d33b",
   "metadata": {},
   "outputs": [
    {
     "data": {
      "text/latex": [
       "$\\displaystyle \\left[\\begin{matrix}\\frac{\\partial}{\\partial x} u{\\left(x,y \\right)}\\\\\\frac{\\partial}{\\partial y} u{\\left(x,y \\right)}\\end{matrix}\\right] = \\left[\\begin{matrix}- \\frac{- r \\cos{\\left(\\theta \\right)} \\frac{\\partial}{\\partial r} u{\\left(r,\\theta \\right)} + \\sin{\\left(\\theta \\right)} \\frac{\\partial}{\\partial \\theta} u{\\left(r,\\theta \\right)}}{r}\\\\\\frac{r \\sin{\\left(\\theta \\right)} \\frac{\\partial}{\\partial r} u{\\left(r,\\theta \\right)} + \\cos{\\left(\\theta \\right)} \\frac{\\partial}{\\partial \\theta} u{\\left(r,\\theta \\right)}}{r}\\end{matrix}\\right]$"
      ],
      "text/plain": [
       "                ⎡ ⎛           ∂                    ∂          ⎞ ⎤\n",
       "                ⎢-⎜- r⋅cos(θ)⋅──(u(r, θ)) + sin(θ)⋅──(u(r, θ))⎟ ⎥\n",
       "⎡∂          ⎤   ⎢ ⎝           ∂r                   ∂θ         ⎠ ⎥\n",
       "⎢──(u(x, y))⎥   ⎢───────────────────────────────────────────────⎥\n",
       "⎢∂x         ⎥   ⎢                       r                       ⎥\n",
       "⎢           ⎥ = ⎢                                               ⎥\n",
       "⎢∂          ⎥   ⎢            ∂                    ∂             ⎥\n",
       "⎢──(u(x, y))⎥   ⎢   r⋅sin(θ)⋅──(u(r, θ)) + cos(θ)⋅──(u(r, θ))   ⎥\n",
       "⎣∂y         ⎦   ⎢            ∂r                   ∂θ            ⎥\n",
       "                ⎢   ─────────────────────────────────────────   ⎥\n",
       "                ⎣                       r                       ⎦"
      ]
     },
     "execution_count": 60,
     "metadata": {},
     "output_type": "execute_result"
    }
   ],
   "source": [
    "sp.Eq(\n",
    "    sp.UnevaluatedExpr(cc.Df_x.T), \n",
    "    sp.UnevaluatedExpr(to_polar(cc.Df_s).applyfunc(sp.simplify).applyfunc(sp.trigsimp).T)\n",
    ")"
   ]
  },
  {
   "cell_type": "code",
   "execution_count": 61,
   "id": "95fc368c-b659-4925-b341-cc37bae6fab4",
   "metadata": {},
   "outputs": [
    {
     "data": {
      "image/png": "[encoded data removed]",
      "text/latex": [
       "$\\displaystyle \\frac{\\partial^{2}}{\\partial x^{2}} u{\\left(x,y \\right)} + \\frac{\\partial^{2}}{\\partial y^{2}} u{\\left(x,y \\right)} = \\frac{\\partial^{2}}{\\partial r^{2}} u{\\left(r,\\theta \\right)} + \\frac{\\frac{\\partial}{\\partial r} u{\\left(r,\\theta \\right)}}{r} + \\frac{\\frac{\\partial^{2}}{\\partial \\theta^{2}} u{\\left(r,\\theta \\right)}}{r^{2}}$"
      ],
      "text/plain": [
       "                                                             2         \n",
       "                                                            ∂          \n",
       "                                             ∂             ───(u(r, θ))\n",
       "  2              2              2            ──(u(r, θ))     2         \n",
       " ∂              ∂              ∂             ∂r            ∂θ          \n",
       "───(u(x, y)) + ───(u(x, y)) = ───(u(r, θ)) + ─────────── + ────────────\n",
       "  2              2              2                 r              2     \n",
       "∂x             ∂y             ∂r                                r      "
      ]
     },
     "execution_count": 61,
     "metadata": {},
     "output_type": "execute_result"
    }
   ],
   "source": [
    "sp.Eq(\n",
    "    sp.UnevaluatedExpr(cc.Df_x.jacobian(cc.x_c).trace()), \n",
    "    sp.UnevaluatedExpr(sp.trigsimp(to_polar(cc.laplacian).simplify().expand()))\n",
    ")"
   ]
  },
  {
   "cell_type": "code",
   "execution_count": 64,
   "id": "01c6f16e-5f95-422e-aadb-5e669aaba192",
   "metadata": {},
   "outputs": [],
   "source": [
    "def to_hyperbolic(expr):\n",
    "    return expr.subs({cc.x_f[0]: r**2 - q**2, cc.x_f[1]: 2*r*q})"
   ]
  },
  {
   "cell_type": "code",
   "execution_count": 65,
   "id": "6ba5cff4-84df-4d6a-897a-81109c036b2a",
   "metadata": {},
   "outputs": [
    {
     "data": {
      "text/latex": [
       "$\\displaystyle \\left[\\begin{matrix}\\frac{\\partial}{\\partial x} u{\\left(x,y \\right)}\\\\\\frac{\\partial}{\\partial y} u{\\left(x,y \\right)}\\end{matrix}\\right] = \\left[\\begin{matrix}\\frac{- 2 r \\frac{\\partial}{\\partial r} u{\\left(r,\\theta \\right)} + 2 \\theta \\frac{\\partial}{\\partial \\theta} u{\\left(r,\\theta \\right)}}{- 4 r^{2} - 4 \\theta^{2}}\\\\\\frac{- 2 r \\frac{\\partial}{\\partial \\theta} u{\\left(r,\\theta \\right)} - 2 \\theta \\frac{\\partial}{\\partial r} u{\\left(r,\\theta \\right)}}{- 4 r^{2} - 4 \\theta^{2}}\\end{matrix}\\right]$"
      ],
      "text/plain": [
       "                ⎡      ∂                 ∂          ⎤\n",
       "                ⎢- 2⋅r⋅──(u(r, θ)) + 2⋅θ⋅──(u(r, θ))⎥\n",
       "                ⎢      ∂r                ∂θ         ⎥\n",
       "⎡∂          ⎤   ⎢───────────────────────────────────⎥\n",
       "⎢──(u(x, y))⎥   ⎢                2      2           ⎥\n",
       "⎢∂x         ⎥   ⎢           - 4⋅r  - 4⋅θ            ⎥\n",
       "⎢           ⎥ = ⎢                                   ⎥\n",
       "⎢∂          ⎥   ⎢      ∂                 ∂          ⎥\n",
       "⎢──(u(x, y))⎥   ⎢- 2⋅r⋅──(u(r, θ)) - 2⋅θ⋅──(u(r, θ))⎥\n",
       "⎣∂y         ⎦   ⎢      ∂θ                ∂r         ⎥\n",
       "                ⎢───────────────────────────────────⎥\n",
       "                ⎢                2      2           ⎥\n",
       "                ⎣           - 4⋅r  - 4⋅θ            ⎦"
      ]
     },
     "execution_count": 65,
     "metadata": {},
     "output_type": "execute_result"
    }
   ],
   "source": [
    "sp.Eq(\n",
    "    sp.UnevaluatedExpr(cc.Df_x.T), \n",
    "    sp.UnevaluatedExpr(to_hyperbolic(cc.Df_s).applyfunc(sp.simplify).applyfunc(sp.trigsimp).T)\n",
    ")"
   ]
  },
  {
   "cell_type": "code",
   "execution_count": 66,
   "id": "46426c40-a7c7-4d20-8587-2b9f62d29daf",
   "metadata": {},
   "outputs": [
    {
     "data": {
      "image/png": "[encoded data removed]",
      "text/latex": [
       "$\\displaystyle \\frac{\\partial^{2}}{\\partial x^{2}} u{\\left(x,y \\right)} + \\frac{\\partial^{2}}{\\partial y^{2}} u{\\left(x,y \\right)} = - \\frac{16 r^{4} \\frac{\\partial^{2}}{\\partial r^{2}} u{\\left(r,\\theta \\right)}}{- 64 r^{6} - 192 r^{4} \\theta^{2} - 192 r^{2} \\theta^{4} - 64 \\theta^{6}} - \\frac{16 r^{4} \\frac{\\partial^{2}}{\\partial \\theta^{2}} u{\\left(r,\\theta \\right)}}{- 64 r^{6} - 192 r^{4} \\theta^{2} - 192 r^{2} \\theta^{4} - 64 \\theta^{6}} - \\frac{32 r^{2} \\theta^{2} \\frac{\\partial^{2}}{\\partial r^{2}} u{\\left(r,\\theta \\right)}}{- 64 r^{6} - 192 r^{4} \\theta^{2} - 192 r^{2} \\theta^{4} - 64 \\theta^{6}} - \\frac{32 r^{2} \\theta^{2} \\frac{\\partial^{2}}{\\partial \\theta^{2}} u{\\left(r,\\theta \\right)}}{- 64 r^{6} - 192 r^{4} \\theta^{2} - 192 r^{2} \\theta^{4} - 64 \\theta^{6}} - \\frac{16 \\theta^{4} \\frac{\\partial^{2}}{\\partial r^{2}} u{\\left(r,\\theta \\right)}}{- 64 r^{6} - 192 r^{4} \\theta^{2} - 192 r^{2} \\theta^{4} - 64 \\theta^{6}} - \\frac{16 \\theta^{4} \\frac{\\partial^{2}}{\\partial \\theta^{2}} u{\\left(r,\\theta \\right)}}{- 64 r^{6} - 192 r^{4} \\theta^{2} - 192 r^{2} \\theta^{4} - 64 \\theta^{6}}$"
      ],
      "text/plain": [
       "                                                   2                                         2                                          2                                  \n",
       "                                               4  ∂                                      4  ∂                                    2  2  ∂                                   \n",
       "                                           16⋅r ⋅───(u(r, θ))                        16⋅r ⋅───(u(r, θ))                      32⋅r ⋅θ ⋅───(u(r, θ))                     32⋅r\n",
       "  2              2                                 2                                         2                                          2                                  \n",
       " ∂              ∂                                ∂r                                        ∂θ                                         ∂r                                   \n",
       "───(u(x, y)) + ───(u(x, y)) = - ─────────────────────────────────────── - ─────────────────────────────────────── - ─────────────────────────────────────── - ─────────────\n",
       "  2              2                    6        4  2        2  4       6         6        4  2        2  4       6         6        4  2        2  4       6         6      \n",
       "∂x             ∂y               - 64⋅r  - 192⋅r ⋅θ  - 192⋅r ⋅θ  - 64⋅θ    - 64⋅r  - 192⋅r ⋅θ  - 192⋅r ⋅θ  - 64⋅θ    - 64⋅r  - 192⋅r ⋅θ  - 192⋅r ⋅θ  - 64⋅θ    - 64⋅r  - 192\n",
       "\n",
       "       2                                        2                                         2                   \n",
       "2  2  ∂                                     4  ∂                                      4  ∂                    \n",
       " ⋅θ ⋅───(u(r, θ))                       16⋅θ ⋅───(u(r, θ))                        16⋅θ ⋅───(u(r, θ))          \n",
       "       2                                        2                                         2                   \n",
       "     ∂θ                                       ∂r                                        ∂θ                    \n",
       "────────────────────────── - ─────────────────────────────────────── - ───────────────────────────────────────\n",
       "  4  2        2  4       6         6        4  2        2  4       6         6        4  2        2  4       6\n",
       "⋅r ⋅θ  - 192⋅r ⋅θ  - 64⋅θ    - 64⋅r  - 192⋅r ⋅θ  - 192⋅r ⋅θ  - 64⋅θ    - 64⋅r  - 192⋅r ⋅θ  - 192⋅r ⋅θ  - 64⋅θ "
      ]
     },
     "execution_count": 66,
     "metadata": {},
     "output_type": "execute_result"
    }
   ],
   "source": [
    "sp.Eq(\n",
    "    sp.UnevaluatedExpr(cc.Df_x.jacobian(cc.x_c).trace()), \n",
    "    sp.UnevaluatedExpr(sp.trigsimp(to_hyperbolic(cc.laplacian).simplify().expand()))\n",
    ")"
   ]
  },
  {
   "cell_type": "markdown",
   "id": "3803f75e-720f-4299-87d9-db9797b87f0c",
   "metadata": {},
   "source": [
    "# Implicit Function Theorem"
   ]
  },
  {
   "cell_type": "code",
   "execution_count": 67,
   "id": "c0c3be2a-c598-4f7e-8dc5-daab2efc5ef8",
   "metadata": {},
   "outputs": [],
   "source": [
    "u, v, w = sp.symbols('u v w', real=True)"
   ]
  },
  {
   "cell_type": "code",
   "execution_count": 68,
   "id": "fccd8291-5e39-4924-8190-dff760cecb02",
   "metadata": {},
   "outputs": [
    {
     "data": {
      "text/latex": [
       "$\\displaystyle \\left[\\begin{matrix}u^{5} w^{4} + u v^{2} + v^{2} w^{3} - 1\\\\u^{2} v^{3} + u^{2} w + v^{4} w^{5} + 1\\end{matrix}\\right]$"
      ],
      "text/plain": [
       "⎡ 5  4      2    2  3    ⎤\n",
       "⎢u ⋅w  + u⋅v  + v ⋅w  - 1⎥\n",
       "⎢                        ⎥\n",
       "⎢ 2  3    2      4  5    ⎥\n",
       "⎣u ⋅v  + u ⋅w + v ⋅w  + 1⎦"
      ]
     },
     "execution_count": 68,
     "metadata": {},
     "output_type": "execute_result"
    }
   ],
   "source": [
    "F = sp.Matrix([u*v**2 + v**2*w**3 + u**5*w**4 - 1, u**2*w + u**2*v**3 + v**4*w**5 +1])\n",
    "F"
   ]
  },
  {
   "cell_type": "code",
   "execution_count": 77,
   "id": "efcf04bb-40c6-409c-ac39-d553cf10eb7a",
   "metadata": {},
   "outputs": [],
   "source": [
    "x_v = [w]\n",
    "y_v = [u, v]\n",
    "a = [1, 1, -1]\n",
    "at_a = dict(zip([u, v, w], a))"
   ]
  },
  {
   "cell_type": "code",
   "execution_count": 78,
   "id": "69557bf3-5e54-4c66-b57a-69c71ee2a151",
   "metadata": {},
   "outputs": [
    {
     "data": {
      "text/latex": [
       "$\\displaystyle \\left[\\begin{matrix}5 u^{4} w^{4} + v^{2} & 2 u v + 2 v w^{3}\\\\2 u v^{3} + 2 u w & 3 u^{2} v^{2} + 4 v^{3} w^{5}\\end{matrix}\\right]$"
      ],
      "text/plain": [
       "⎡    4  4    2                 3  ⎤\n",
       "⎢ 5⋅u ⋅w  + v     2⋅u⋅v + 2⋅v⋅w   ⎥\n",
       "⎢                                 ⎥\n",
       "⎢     3             2  2      3  5⎥\n",
       "⎣2⋅u⋅v  + 2⋅u⋅w  3⋅u ⋅v  + 4⋅v ⋅w ⎦"
      ]
     },
     "execution_count": 78,
     "metadata": {},
     "output_type": "execute_result"
    }
   ],
   "source": [
    "F.jacobian(y_v)"
   ]
  },
  {
   "cell_type": "code",
   "execution_count": 79,
   "id": "8726f7f0-7013-49d6-ab9f-c92ab243e273",
   "metadata": {},
   "outputs": [
    {
     "data": {
      "text/latex": [
       "$\\displaystyle \\left[\\begin{matrix}4 u^{5} w^{3} + 3 v^{2} w^{2}\\\\u^{2} + 5 v^{4} w^{4}\\end{matrix}\\right]$"
      ],
      "text/plain": [
       "⎡   5  3      2  2⎤\n",
       "⎢4⋅u ⋅w  + 3⋅v ⋅w ⎥\n",
       "⎢                 ⎥\n",
       "⎢   2      4  4   ⎥\n",
       "⎣  u  + 5⋅v ⋅w    ⎦"
      ]
     },
     "execution_count": 79,
     "metadata": {},
     "output_type": "execute_result"
    }
   ],
   "source": [
    "F.jacobian(x_v)"
   ]
  },
  {
   "cell_type": "code",
   "execution_count": 81,
   "id": "088997f5-a3dd-4c8c-9d7a-23b6d038f24f",
   "metadata": {},
   "outputs": [
    {
     "data": {
      "text/latex": [
       "$\\displaystyle \\left[\\begin{matrix}\\frac{1}{6}\\\\6\\end{matrix}\\right]$"
      ],
      "text/plain": [
       "⎡1/6⎤\n",
       "⎢   ⎥\n",
       "⎣ 6 ⎦"
      ]
     },
     "execution_count": 81,
     "metadata": {},
     "output_type": "execute_result"
    }
   ],
   "source": [
    "(-F.jacobian(y_v).inv() @ F.jacobian(x_v)).subs(at_a)"
   ]
  },
  {
   "cell_type": "code",
   "execution_count": null,
   "id": "892b814c-cd3c-4c51-8e54-805bbac916b7",
   "metadata": {},
   "outputs": [],
   "source": []
  }
 ],
 "metadata": {
  "kernelspec": {
   "display_name": "Python 3 (ipykernel)",
   "language": "python",
   "name": "python3"
  },
  "language_info": {
   "codemirror_mode": {
    "name": "ipython",
    "version": 3
   },
   "file_extension": ".py",
   "mimetype": "text/x-python",
   "name": "python",
   "nbconvert_exporter": "python",
   "pygments_lexer": "ipython3",
   "version": "3.10.13"
  }
 },
 "nbformat": 4,
 "nbformat_minor": 5
}
