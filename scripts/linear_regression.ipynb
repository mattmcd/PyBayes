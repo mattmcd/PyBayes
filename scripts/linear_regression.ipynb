{
 "cells": [
  {
   "cell_type": "code",
   "execution_count": 12,
   "metadata": {
    "collapsed": true
   },
   "outputs": [],
   "source": [
    "import pystan\n",
    "import numpy as np\n",
    "import pandas as pd\n",
    "import os\n",
    "import pickle\n",
    "import matplotlib.pyplot as plt"
   ]
  },
  {
   "cell_type": "code",
   "execution_count": 14,
   "metadata": {
    "collapsed": true
   },
   "outputs": [],
   "source": [
    "%matplotlib inline"
   ]
  },
  {
   "cell_type": "code",
   "execution_count": 50,
   "metadata": {
    "collapsed": true
   },
   "outputs": [],
   "source": [
    "model_code = \"\"\"\n",
    "data {\n",
    "  int N; //the number of observations\n",
    "  int N2; //the size of the new_X matrix\n",
    "  int K; //the number of columns in the model matrix\n",
    "  vector[N] y; //the response\n",
    "  matrix[N,K] X; //the model matrix\n",
    "  matrix[N2,K] new_X; //the matrix for the predicted values\n",
    "}\n",
    "parameters {\n",
    "  vector[K] beta; //the regression parameters\n",
    "  real sigma; //the standard deviation\n",
    "}\n",
    "transformed parameters {\n",
    "  vector[N] linpred;\n",
    "  linpred = X*beta;\n",
    "}\n",
    "model {  \n",
    "  beta[1] ~ cauchy(0,10); //prior for the intercept following Gelman 2008\n",
    "\n",
    "  for(i in 2:K)\n",
    "   beta[i] ~ cauchy(0,2.5);//prior for the slopes following Gelman 2008\n",
    "  \n",
    "  y ~ normal(linpred,sigma);\n",
    "}\n",
    "generated quantities {\n",
    "  vector[N2] y_pred;\n",
    "  y_pred = new_X*beta; //the y values predicted by the model\n",
    "}\n",
    "\"\"\""
   ]
  },
  {
   "cell_type": "code",
   "execution_count": 52,
   "metadata": {
    "collapsed": false
   },
   "outputs": [],
   "source": [
    "model_name = 'linear_regression'\n",
    "pkl_file = model_name + '.pkl'\n",
    "\n",
    "if os.path.isfile(pkl_file):\n",
    "    # Reuse previously compiled model\n",
    "    sm = pickle.load(open(pkl_file, 'rb'))\n",
    "else:\n",
    "    # Compile and sample model\n",
    "    sm = pystan.StanModel(model_code=model_code, model_name=model_name)\n",
    "    with open(pkl_file, 'wb') as f:\n",
    "        pickle.dump(sm, f)"
   ]
  },
  {
   "cell_type": "code",
   "execution_count": 95,
   "metadata": {
    "collapsed": false
   },
   "outputs": [],
   "source": [
    "# Test data\n",
    "N = 20\n",
    "beta = np.array([0.2, 1]).reshape((-1,1))\n",
    "x = np.linspace(0, 1, N).reshape((-1, 1))\n",
    "X = np.column_stack([np.ones(x.shape), x])\n",
    "y = X.dot(beta) + np.random.normal(0, 0.1, size=N).reshape((-1, 1))"
   ]
  },
  {
   "cell_type": "code",
   "execution_count": 96,
   "metadata": {
    "collapsed": false
   },
   "outputs": [
    {
     "data": {
      "text/plain": [
       "[<matplotlib.lines.Line2D at 0x7fb0a99bd7d0>]"
      ]
     },
     "execution_count": 96,
     "metadata": {},
     "output_type": "execute_result"
    },
    {
     "data": {
      "image/png": "[encoded data removed]",
      "text/plain": [
       "<matplotlib.figure.Figure at 0x7fb08e697b10>"
      ]
     },
     "metadata": {},
     "output_type": "display_data"
    }
   ],
   "source": [
    "plt.plot(x, y, marker='.', linestyle='none')"
   ]
  },
  {
   "cell_type": "code",
   "execution_count": 97,
   "metadata": {
    "collapsed": true
   },
   "outputs": [],
   "source": [
    "# Plot fit\n",
    "N2 = 2\n",
    "new_x =  np.linspace(0, 1, N2).reshape((-1, 1))\n",
    "new_X = np.column_stack([np.ones(N2).reshape((-1, 1)), new_x])"
   ]
  },
  {
   "cell_type": "code",
   "execution_count": 98,
   "metadata": {
    "collapsed": false
   },
   "outputs": [],
   "source": [
    "data = {\n",
    "    'N': N,\n",
    "    'X': X,\n",
    "    'K': X.shape[1],\n",
    "    'y': y.flatten(), \n",
    "    'N2': N2,\n",
    "    'new_X': new_X\n",
    "}"
   ]
  },
  {
   "cell_type": "code",
   "execution_count": 100,
   "metadata": {
    "collapsed": false
   },
   "outputs": [],
   "source": [
    "res = sm.optimizing(data=data)"
   ]
  },
  {
   "cell_type": "code",
   "execution_count": 101,
   "metadata": {
    "collapsed": false
   },
   "outputs": [
    {
     "data": {
      "image/png": "[encoded data removed]",
      "text/plain": [
       "<matplotlib.figure.Figure at 0x7fb0aa21e910>"
      ]
     },
     "metadata": {},
     "output_type": "display_data"
    }
   ],
   "source": [
    "plt.plot(x, y, marker='.', linestyle='none')\n",
    "plt.plot(new_x, res['y_pred'])\n",
    "plt.show()"
   ]
  },
  {
   "cell_type": "code",
   "execution_count": 109,
   "metadata": {
    "collapsed": false
   },
   "outputs": [],
   "source": [
    "res_vb = sm.vb(data=data, pars=['beta', 'y_pred'])\n",
    "out_file = res_vb['args']['sample_file']\n",
    "df = pd.read_csv(out_file, comment='#').iloc[2:, :]"
   ]
  },
  {
   "cell_type": "code",
   "execution_count": 110,
   "metadata": {
    "collapsed": false
   },
   "outputs": [
    {
     "data": {
      "text/html": [
       "<div>\n",
       "<table border=\"1\" class=\"dataframe\">\n",
       "  <thead>\n",
       "    <tr style=\"text-align: right;\">\n",
       "      <th></th>\n",
       "      <th>beta.1</th>\n",
       "      <th>beta.2</th>\n",
       "      <th>sigma</th>\n",
       "      <th>linpred.1</th>\n",
       "      <th>linpred.2</th>\n",
       "      <th>linpred.3</th>\n",
       "      <th>linpred.4</th>\n",
       "      <th>linpred.5</th>\n",
       "      <th>linpred.6</th>\n",
       "      <th>linpred.7</th>\n",
       "      <th>...</th>\n",
       "      <th>linpred.13</th>\n",
       "      <th>linpred.14</th>\n",
       "      <th>linpred.15</th>\n",
       "      <th>linpred.16</th>\n",
       "      <th>linpred.17</th>\n",
       "      <th>linpred.18</th>\n",
       "      <th>linpred.19</th>\n",
       "      <th>linpred.20</th>\n",
       "      <th>y_pred.1</th>\n",
       "      <th>y_pred.2</th>\n",
       "    </tr>\n",
       "  </thead>\n",
       "  <tbody>\n",
       "    <tr>\n",
       "      <th>count</th>\n",
       "      <td>1001.000000</td>\n",
       "      <td>1001.000000</td>\n",
       "      <td>1001.000000</td>\n",
       "      <td>1001.000000</td>\n",
       "      <td>1001.000000</td>\n",
       "      <td>1001.000000</td>\n",
       "      <td>1001.000000</td>\n",
       "      <td>1001.000000</td>\n",
       "      <td>1001.000000</td>\n",
       "      <td>1001.000000</td>\n",
       "      <td>...</td>\n",
       "      <td>1001.000000</td>\n",
       "      <td>1001.000000</td>\n",
       "      <td>1001.000000</td>\n",
       "      <td>1001.000000</td>\n",
       "      <td>1001.000000</td>\n",
       "      <td>1001.000000</td>\n",
       "      <td>1001.000000</td>\n",
       "      <td>1001.000000</td>\n",
       "      <td>1001.000000</td>\n",
       "      <td>1001.000000</td>\n",
       "    </tr>\n",
       "    <tr>\n",
       "      <th>mean</th>\n",
       "      <td>0.182844</td>\n",
       "      <td>1.037472</td>\n",
       "      <td>0.125090</td>\n",
       "      <td>0.182844</td>\n",
       "      <td>0.237448</td>\n",
       "      <td>0.292052</td>\n",
       "      <td>0.346656</td>\n",
       "      <td>0.401259</td>\n",
       "      <td>0.455863</td>\n",
       "      <td>0.510467</td>\n",
       "      <td>...</td>\n",
       "      <td>0.838090</td>\n",
       "      <td>0.892693</td>\n",
       "      <td>0.947297</td>\n",
       "      <td>1.001901</td>\n",
       "      <td>1.056505</td>\n",
       "      <td>1.111108</td>\n",
       "      <td>1.165712</td>\n",
       "      <td>1.220316</td>\n",
       "      <td>0.182844</td>\n",
       "      <td>1.220316</td>\n",
       "    </tr>\n",
       "    <tr>\n",
       "      <th>std</th>\n",
       "      <td>0.028816</td>\n",
       "      <td>0.052371</td>\n",
       "      <td>0.023049</td>\n",
       "      <td>0.028816</td>\n",
       "      <td>0.028858</td>\n",
       "      <td>0.029162</td>\n",
       "      <td>0.029720</td>\n",
       "      <td>0.030518</td>\n",
       "      <td>0.031536</td>\n",
       "      <td>0.032756</td>\n",
       "      <td>...</td>\n",
       "      <td>0.043158</td>\n",
       "      <td>0.045248</td>\n",
       "      <td>0.047406</td>\n",
       "      <td>0.049624</td>\n",
       "      <td>0.051893</td>\n",
       "      <td>0.054208</td>\n",
       "      <td>0.056562</td>\n",
       "      <td>0.058951</td>\n",
       "      <td>0.028816</td>\n",
       "      <td>0.058951</td>\n",
       "    </tr>\n",
       "    <tr>\n",
       "      <th>min</th>\n",
       "      <td>0.096308</td>\n",
       "      <td>0.897003</td>\n",
       "      <td>0.050547</td>\n",
       "      <td>0.096308</td>\n",
       "      <td>0.148523</td>\n",
       "      <td>0.200737</td>\n",
       "      <td>0.252952</td>\n",
       "      <td>0.305166</td>\n",
       "      <td>0.357381</td>\n",
       "      <td>0.409595</td>\n",
       "      <td>...</td>\n",
       "      <td>0.702890</td>\n",
       "      <td>0.751476</td>\n",
       "      <td>0.800061</td>\n",
       "      <td>0.848647</td>\n",
       "      <td>0.897232</td>\n",
       "      <td>0.945818</td>\n",
       "      <td>0.994404</td>\n",
       "      <td>1.042990</td>\n",
       "      <td>0.096308</td>\n",
       "      <td>1.042990</td>\n",
       "    </tr>\n",
       "    <tr>\n",
       "      <th>25%</th>\n",
       "      <td>0.162947</td>\n",
       "      <td>1.001870</td>\n",
       "      <td>0.111194</td>\n",
       "      <td>0.162947</td>\n",
       "      <td>0.217033</td>\n",
       "      <td>0.271244</td>\n",
       "      <td>0.325132</td>\n",
       "      <td>0.379805</td>\n",
       "      <td>0.434125</td>\n",
       "      <td>0.488033</td>\n",
       "      <td>...</td>\n",
       "      <td>0.808415</td>\n",
       "      <td>0.861096</td>\n",
       "      <td>0.914539</td>\n",
       "      <td>0.967395</td>\n",
       "      <td>1.020070</td>\n",
       "      <td>1.073350</td>\n",
       "      <td>1.126780</td>\n",
       "      <td>1.179730</td>\n",
       "      <td>0.162947</td>\n",
       "      <td>1.179730</td>\n",
       "    </tr>\n",
       "    <tr>\n",
       "      <th>50%</th>\n",
       "      <td>0.182084</td>\n",
       "      <td>1.035710</td>\n",
       "      <td>0.126239</td>\n",
       "      <td>0.182084</td>\n",
       "      <td>0.237030</td>\n",
       "      <td>0.292663</td>\n",
       "      <td>0.346757</td>\n",
       "      <td>0.401530</td>\n",
       "      <td>0.455937</td>\n",
       "      <td>0.509669</td>\n",
       "      <td>...</td>\n",
       "      <td>0.837606</td>\n",
       "      <td>0.891172</td>\n",
       "      <td>0.944999</td>\n",
       "      <td>1.000230</td>\n",
       "      <td>1.054380</td>\n",
       "      <td>1.109480</td>\n",
       "      <td>1.164270</td>\n",
       "      <td>1.219270</td>\n",
       "      <td>0.182084</td>\n",
       "      <td>1.219270</td>\n",
       "    </tr>\n",
       "    <tr>\n",
       "      <th>75%</th>\n",
       "      <td>0.202387</td>\n",
       "      <td>1.074250</td>\n",
       "      <td>0.139820</td>\n",
       "      <td>0.202387</td>\n",
       "      <td>0.256616</td>\n",
       "      <td>0.311863</td>\n",
       "      <td>0.367034</td>\n",
       "      <td>0.422163</td>\n",
       "      <td>0.477016</td>\n",
       "      <td>0.532499</td>\n",
       "      <td>...</td>\n",
       "      <td>0.866059</td>\n",
       "      <td>0.922731</td>\n",
       "      <td>0.978623</td>\n",
       "      <td>1.034490</td>\n",
       "      <td>1.090360</td>\n",
       "      <td>1.147200</td>\n",
       "      <td>1.203510</td>\n",
       "      <td>1.259570</td>\n",
       "      <td>0.202387</td>\n",
       "      <td>1.259570</td>\n",
       "    </tr>\n",
       "    <tr>\n",
       "      <th>max</th>\n",
       "      <td>0.277034</td>\n",
       "      <td>1.192870</td>\n",
       "      <td>0.198028</td>\n",
       "      <td>0.277034</td>\n",
       "      <td>0.333754</td>\n",
       "      <td>0.392957</td>\n",
       "      <td>0.453495</td>\n",
       "      <td>0.514033</td>\n",
       "      <td>0.574571</td>\n",
       "      <td>0.635109</td>\n",
       "      <td>...</td>\n",
       "      <td>0.998337</td>\n",
       "      <td>1.058880</td>\n",
       "      <td>1.119410</td>\n",
       "      <td>1.179950</td>\n",
       "      <td>1.240490</td>\n",
       "      <td>1.301030</td>\n",
       "      <td>1.361560</td>\n",
       "      <td>1.422100</td>\n",
       "      <td>0.277034</td>\n",
       "      <td>1.422100</td>\n",
       "    </tr>\n",
       "  </tbody>\n",
       "</table>\n",
       "<p>8 rows × 25 columns</p>\n",
       "</div>"
      ],
      "text/plain": [
       "            beta.1       beta.2        sigma    linpred.1    linpred.2  \\\n",
       "count  1001.000000  1001.000000  1001.000000  1001.000000  1001.000000   \n",
       "mean      0.182844     1.037472     0.125090     0.182844     0.237448   \n",
       "std       0.028816     0.052371     0.023049     0.028816     0.028858   \n",
       "min       0.096308     0.897003     0.050547     0.096308     0.148523   \n",
       "25%       0.162947     1.001870     0.111194     0.162947     0.217033   \n",
       "50%       0.182084     1.035710     0.126239     0.182084     0.237030   \n",
       "75%       0.202387     1.074250     0.139820     0.202387     0.256616   \n",
       "max       0.277034     1.192870     0.198028     0.277034     0.333754   \n",
       "\n",
       "         linpred.3    linpred.4    linpred.5    linpred.6    linpred.7  \\\n",
       "count  1001.000000  1001.000000  1001.000000  1001.000000  1001.000000   \n",
       "mean      0.292052     0.346656     0.401259     0.455863     0.510467   \n",
       "std       0.029162     0.029720     0.030518     0.031536     0.032756   \n",
       "min       0.200737     0.252952     0.305166     0.357381     0.409595   \n",
       "25%       0.271244     0.325132     0.379805     0.434125     0.488033   \n",
       "50%       0.292663     0.346757     0.401530     0.455937     0.509669   \n",
       "75%       0.311863     0.367034     0.422163     0.477016     0.532499   \n",
       "max       0.392957     0.453495     0.514033     0.574571     0.635109   \n",
       "\n",
       "          ...        linpred.13   linpred.14   linpred.15   linpred.16  \\\n",
       "count     ...       1001.000000  1001.000000  1001.000000  1001.000000   \n",
       "mean      ...          0.838090     0.892693     0.947297     1.001901   \n",
       "std       ...          0.043158     0.045248     0.047406     0.049624   \n",
       "min       ...          0.702890     0.751476     0.800061     0.848647   \n",
       "25%       ...          0.808415     0.861096     0.914539     0.967395   \n",
       "50%       ...          0.837606     0.891172     0.944999     1.000230   \n",
       "75%       ...          0.866059     0.922731     0.978623     1.034490   \n",
       "max       ...          0.998337     1.058880     1.119410     1.179950   \n",
       "\n",
       "        linpred.17   linpred.18   linpred.19   linpred.20     y_pred.1  \\\n",
       "count  1001.000000  1001.000000  1001.000000  1001.000000  1001.000000   \n",
       "mean      1.056505     1.111108     1.165712     1.220316     0.182844   \n",
       "std       0.051893     0.054208     0.056562     0.058951     0.028816   \n",
       "min       0.897232     0.945818     0.994404     1.042990     0.096308   \n",
       "25%       1.020070     1.073350     1.126780     1.179730     0.162947   \n",
       "50%       1.054380     1.109480     1.164270     1.219270     0.182084   \n",
       "75%       1.090360     1.147200     1.203510     1.259570     0.202387   \n",
       "max       1.240490     1.301030     1.361560     1.422100     0.277034   \n",
       "\n",
       "          y_pred.2  \n",
       "count  1001.000000  \n",
       "mean      1.220316  \n",
       "std       0.058951  \n",
       "min       1.042990  \n",
       "25%       1.179730  \n",
       "50%       1.219270  \n",
       "75%       1.259570  \n",
       "max       1.422100  \n",
       "\n",
       "[8 rows x 25 columns]"
      ]
     },
     "execution_count": 110,
     "metadata": {},
     "output_type": "execute_result"
    }
   ],
   "source": [
    "df.describe()"
   ]
  },
  {
   "cell_type": "code",
   "execution_count": 111,
   "metadata": {
    "collapsed": false
   },
   "outputs": [
    {
     "data": {
      "text/html": [
       "<div>\n",
       "<table border=\"1\" class=\"dataframe\">\n",
       "  <thead>\n",
       "    <tr style=\"text-align: right;\">\n",
       "      <th></th>\n",
       "      <th>lp__</th>\n",
       "      <th>beta.1</th>\n",
       "      <th>beta.2</th>\n",
       "      <th>sigma</th>\n",
       "      <th>linpred.1</th>\n",
       "      <th>linpred.2</th>\n",
       "      <th>linpred.3</th>\n",
       "      <th>linpred.4</th>\n",
       "      <th>linpred.5</th>\n",
       "      <th>linpred.6</th>\n",
       "      <th>...</th>\n",
       "      <th>linpred.13</th>\n",
       "      <th>linpred.14</th>\n",
       "      <th>linpred.15</th>\n",
       "      <th>linpred.16</th>\n",
       "      <th>linpred.17</th>\n",
       "      <th>linpred.18</th>\n",
       "      <th>linpred.19</th>\n",
       "      <th>linpred.20</th>\n",
       "      <th>y_pred.1</th>\n",
       "      <th>y_pred.2</th>\n",
       "    </tr>\n",
       "  </thead>\n",
       "  <tbody>\n",
       "    <tr>\n",
       "      <th>2</th>\n",
       "      <td>0</td>\n",
       "      <td>0.182627</td>\n",
       "      <td>1.036640</td>\n",
       "      <td>0.126258</td>\n",
       "      <td>0.182627</td>\n",
       "      <td>0.237187</td>\n",
       "      <td>0.291747</td>\n",
       "      <td>0.346307</td>\n",
       "      <td>0.400867</td>\n",
       "      <td>0.455427</td>\n",
       "      <td>...</td>\n",
       "      <td>0.837347</td>\n",
       "      <td>0.891907</td>\n",
       "      <td>0.946467</td>\n",
       "      <td>1.001030</td>\n",
       "      <td>1.05559</td>\n",
       "      <td>1.11015</td>\n",
       "      <td>1.16471</td>\n",
       "      <td>1.21927</td>\n",
       "      <td>0.182627</td>\n",
       "      <td>1.21927</td>\n",
       "    </tr>\n",
       "    <tr>\n",
       "      <th>3</th>\n",
       "      <td>0</td>\n",
       "      <td>0.214259</td>\n",
       "      <td>0.964094</td>\n",
       "      <td>0.098657</td>\n",
       "      <td>0.214259</td>\n",
       "      <td>0.265001</td>\n",
       "      <td>0.315743</td>\n",
       "      <td>0.366485</td>\n",
       "      <td>0.417226</td>\n",
       "      <td>0.467968</td>\n",
       "      <td>...</td>\n",
       "      <td>0.823161</td>\n",
       "      <td>0.873903</td>\n",
       "      <td>0.924644</td>\n",
       "      <td>0.975386</td>\n",
       "      <td>1.02613</td>\n",
       "      <td>1.07687</td>\n",
       "      <td>1.12761</td>\n",
       "      <td>1.17835</td>\n",
       "      <td>0.214259</td>\n",
       "      <td>1.17835</td>\n",
       "    </tr>\n",
       "    <tr>\n",
       "      <th>4</th>\n",
       "      <td>0</td>\n",
       "      <td>0.196433</td>\n",
       "      <td>1.061540</td>\n",
       "      <td>0.150415</td>\n",
       "      <td>0.196433</td>\n",
       "      <td>0.252304</td>\n",
       "      <td>0.308175</td>\n",
       "      <td>0.364045</td>\n",
       "      <td>0.419916</td>\n",
       "      <td>0.475787</td>\n",
       "      <td>...</td>\n",
       "      <td>0.866881</td>\n",
       "      <td>0.922752</td>\n",
       "      <td>0.978623</td>\n",
       "      <td>1.034490</td>\n",
       "      <td>1.09036</td>\n",
       "      <td>1.14623</td>\n",
       "      <td>1.20211</td>\n",
       "      <td>1.25798</td>\n",
       "      <td>0.196433</td>\n",
       "      <td>1.25798</td>\n",
       "    </tr>\n",
       "    <tr>\n",
       "      <th>5</th>\n",
       "      <td>0</td>\n",
       "      <td>0.183757</td>\n",
       "      <td>1.042700</td>\n",
       "      <td>0.149629</td>\n",
       "      <td>0.183757</td>\n",
       "      <td>0.238636</td>\n",
       "      <td>0.293515</td>\n",
       "      <td>0.348393</td>\n",
       "      <td>0.403272</td>\n",
       "      <td>0.458151</td>\n",
       "      <td>...</td>\n",
       "      <td>0.842302</td>\n",
       "      <td>0.897181</td>\n",
       "      <td>0.952060</td>\n",
       "      <td>1.006940</td>\n",
       "      <td>1.06182</td>\n",
       "      <td>1.11670</td>\n",
       "      <td>1.17157</td>\n",
       "      <td>1.22645</td>\n",
       "      <td>0.183757</td>\n",
       "      <td>1.22645</td>\n",
       "    </tr>\n",
       "    <tr>\n",
       "      <th>6</th>\n",
       "      <td>0</td>\n",
       "      <td>0.202638</td>\n",
       "      <td>1.075620</td>\n",
       "      <td>0.126750</td>\n",
       "      <td>0.202638</td>\n",
       "      <td>0.259250</td>\n",
       "      <td>0.315861</td>\n",
       "      <td>0.372472</td>\n",
       "      <td>0.429084</td>\n",
       "      <td>0.485695</td>\n",
       "      <td>...</td>\n",
       "      <td>0.881975</td>\n",
       "      <td>0.938586</td>\n",
       "      <td>0.995197</td>\n",
       "      <td>1.051810</td>\n",
       "      <td>1.10842</td>\n",
       "      <td>1.16503</td>\n",
       "      <td>1.22164</td>\n",
       "      <td>1.27825</td>\n",
       "      <td>0.202638</td>\n",
       "      <td>1.27825</td>\n",
       "    </tr>\n",
       "  </tbody>\n",
       "</table>\n",
       "<p>5 rows × 26 columns</p>\n",
       "</div>"
      ],
      "text/plain": [
       "  lp__    beta.1    beta.2     sigma  linpred.1  linpred.2  linpred.3  \\\n",
       "2    0  0.182627  1.036640  0.126258   0.182627   0.237187   0.291747   \n",
       "3    0  0.214259  0.964094  0.098657   0.214259   0.265001   0.315743   \n",
       "4    0  0.196433  1.061540  0.150415   0.196433   0.252304   0.308175   \n",
       "5    0  0.183757  1.042700  0.149629   0.183757   0.238636   0.293515   \n",
       "6    0  0.202638  1.075620  0.126750   0.202638   0.259250   0.315861   \n",
       "\n",
       "   linpred.4  linpred.5  linpred.6    ...     linpred.13  linpred.14  \\\n",
       "2   0.346307   0.400867   0.455427    ...       0.837347    0.891907   \n",
       "3   0.366485   0.417226   0.467968    ...       0.823161    0.873903   \n",
       "4   0.364045   0.419916   0.475787    ...       0.866881    0.922752   \n",
       "5   0.348393   0.403272   0.458151    ...       0.842302    0.897181   \n",
       "6   0.372472   0.429084   0.485695    ...       0.881975    0.938586   \n",
       "\n",
       "   linpred.15  linpred.16  linpred.17  linpred.18  linpred.19  linpred.20  \\\n",
       "2    0.946467    1.001030     1.05559     1.11015     1.16471     1.21927   \n",
       "3    0.924644    0.975386     1.02613     1.07687     1.12761     1.17835   \n",
       "4    0.978623    1.034490     1.09036     1.14623     1.20211     1.25798   \n",
       "5    0.952060    1.006940     1.06182     1.11670     1.17157     1.22645   \n",
       "6    0.995197    1.051810     1.10842     1.16503     1.22164     1.27825   \n",
       "\n",
       "   y_pred.1  y_pred.2  \n",
       "2  0.182627   1.21927  \n",
       "3  0.214259   1.17835  \n",
       "4  0.196433   1.25798  \n",
       "5  0.183757   1.22645  \n",
       "6  0.202638   1.27825  \n",
       "\n",
       "[5 rows x 26 columns]"
      ]
     },
     "execution_count": 111,
     "metadata": {},
     "output_type": "execute_result"
    }
   ],
   "source": [
    "df.head()"
   ]
  },
  {
   "cell_type": "code",
   "execution_count": 113,
   "metadata": {
    "collapsed": false
   },
   "outputs": [
    {
     "data": {
      "text/plain": [
       "array([[<matplotlib.axes._subplots.AxesSubplot object at 0x7fb0aa322c10>,\n",
       "        <matplotlib.axes._subplots.AxesSubplot object at 0x7fb08db2c990>]], dtype=object)"
      ]
     },
     "execution_count": 113,
     "metadata": {},
     "output_type": "execute_result"
    },
    {
     "data": {
      "image/png": "[encoded data removed]",
      "text/plain": [
       "<matplotlib.figure.Figure at 0x7fb0aa422a90>"
      ]
     },
     "metadata": {},
     "output_type": "display_data"
    }
   ],
   "source": [
    "df[['beta.1', 'beta.2']].hist(bins=50)"
   ]
  },
  {
   "cell_type": "code",
   "execution_count": null,
   "metadata": {
    "collapsed": true
   },
   "outputs": [],
   "source": []
  }
 ],
 "metadata": {
  "kernelspec": {
   "display_name": "Python [Root]",
   "language": "python",
   "name": "Python [Root]"
  },
  "language_info": {
   "codemirror_mode": {
    "name": "ipython",
    "version": 2
   },
   "file_extension": ".py",
   "mimetype": "text/x-python",
   "name": "python",
   "nbconvert_exporter": "python",
   "pygments_lexer": "ipython2",
   "version": "2.7.11"
  }
 },
 "nbformat": 4,
 "nbformat_minor": 0
}
