{
 "cells": [
  {
   "cell_type": "code",
   "execution_count": 1,
   "metadata": {
    "collapsed": true
   },
   "outputs": [],
   "source": [
    "import pystan\n",
    "import numpy as np\n",
    "import pandas as pd\n",
    "import os\n",
    "import pickle\n",
    "import matplotlib.pyplot as plt"
   ]
  },
  {
   "cell_type": "code",
   "execution_count": 2,
   "metadata": {
    "collapsed": true
   },
   "outputs": [],
   "source": [
    "%matplotlib inline"
   ]
  },
  {
   "cell_type": "code",
   "execution_count": 3,
   "metadata": {
    "collapsed": true
   },
   "outputs": [],
   "source": [
    "model_code = \"\"\"\n",
    "data {\n",
    "  int N; //the number of observations\n",
    "  int N2; //the size of the new_X matrix\n",
    "  int K; //the number of columns in the model matrix\n",
    "  vector[N] y; //the response\n",
    "  matrix[N,K] X; //the model matrix\n",
    "  matrix[N2,K] new_X; //the matrix for the predicted values\n",
    "}\n",
    "parameters {\n",
    "  vector[K] beta; //the regression parameters\n",
    "  real sigma; //the standard deviation\n",
    "}\n",
    "transformed parameters {\n",
    "  vector[N] linpred;\n",
    "  linpred = X*beta;\n",
    "}\n",
    "model {  \n",
    "  beta[1] ~ cauchy(0,10); //prior for the intercept following Gelman 2008\n",
    "\n",
    "  for(i in 2:K)\n",
    "   beta[i] ~ cauchy(0,2.5);//prior for the slopes following Gelman 2008\n",
    "  \n",
    "  y ~ normal(linpred,sigma);\n",
    "}\n",
    "generated quantities {\n",
    "  vector[N2] y_pred;\n",
    "  y_pred = new_X*beta; //the y values predicted by the model\n",
    "}\n",
    "\"\"\""
   ]
  },
  {
   "cell_type": "code",
   "execution_count": 4,
   "metadata": {
    "collapsed": false
   },
   "outputs": [],
   "source": [
    "model_name = 'linear_regression'\n",
    "pkl_file = model_name + '.pkl'\n",
    "\n",
    "if os.path.isfile(pkl_file):\n",
    "    # Reuse previously compiled model\n",
    "    sm = pickle.load(open(pkl_file, 'rb'))\n",
    "else:\n",
    "    # Compile and sample model\n",
    "    sm = pystan.StanModel(model_code=model_code, model_name=model_name)\n",
    "    with open(pkl_file, 'wb') as f:\n",
    "        pickle.dump(sm, f)"
   ]
  },
  {
   "cell_type": "code",
   "execution_count": 5,
   "metadata": {
    "collapsed": false
   },
   "outputs": [],
   "source": [
    "# Test data\n",
    "N = 20\n",
    "beta = np.array([0.2, 1]).reshape((-1,1))\n",
    "x = np.linspace(0, 1, N).reshape((-1, 1))\n",
    "X = np.column_stack([np.ones(x.shape), x])\n",
    "y = X.dot(beta) + np.random.normal(0, 0.1, size=N).reshape((-1, 1))"
   ]
  },
  {
   "cell_type": "code",
   "execution_count": 6,
   "metadata": {
    "collapsed": false
   },
   "outputs": [
    {
     "data": {
      "text/plain": [
       "[<matplotlib.lines.Line2D at 0x7fbaa066d390>]"
      ]
     },
     "execution_count": 6,
     "metadata": {},
     "output_type": "execute_result"
    },
    {
     "data": {
      "image/png": "[encoded data removed]",
      "text/plain": [
       "<matplotlib.figure.Figure at 0x7fbaa3766bd0>"
      ]
     },
     "metadata": {},
     "output_type": "display_data"
    }
   ],
   "source": [
    "plt.plot(x, y, marker='.', linestyle='none')"
   ]
  },
  {
   "cell_type": "code",
   "execution_count": 7,
   "metadata": {
    "collapsed": true
   },
   "outputs": [],
   "source": [
    "# Plot fit\n",
    "N2 = 2\n",
    "new_x =  np.linspace(0, 1, N2).reshape((-1, 1))\n",
    "new_X = np.column_stack([np.ones(N2).reshape((-1, 1)), new_x])"
   ]
  },
  {
   "cell_type": "code",
   "execution_count": 8,
   "metadata": {
    "collapsed": false
   },
   "outputs": [],
   "source": [
    "data = {\n",
    "    'N': N,\n",
    "    'X': X,\n",
    "    'K': X.shape[1],\n",
    "    'y': y.flatten(), \n",
    "    'N2': N2,\n",
    "    'new_X': new_X\n",
    "}"
   ]
  },
  {
   "cell_type": "code",
   "execution_count": 9,
   "metadata": {
    "collapsed": false
   },
   "outputs": [],
   "source": [
    "res = sm.optimizing(data=data)"
   ]
  },
  {
   "cell_type": "code",
   "execution_count": 10,
   "metadata": {
    "collapsed": false
   },
   "outputs": [
    {
     "data": {
      "image/png": "[encoded data removed]",
      "text/plain": [
       "<matplotlib.figure.Figure at 0x7fbaeacce2d0>"
      ]
     },
     "metadata": {},
     "output_type": "display_data"
    }
   ],
   "source": [
    "# Plot MLE fit\n",
    "plt.plot(x, y, marker='.', linestyle='none')\n",
    "plt.plot(new_x, res['y_pred'])\n",
    "plt.show()"
   ]
  },
  {
   "cell_type": "code",
   "execution_count": 11,
   "metadata": {
    "collapsed": false
   },
   "outputs": [],
   "source": [
    "res_vb = sm.vb(data=data, pars=['beta', 'y_pred'])\n",
    "out_file = res_vb['args']['sample_file']\n",
    "df = pd.read_csv(out_file, comment='#').iloc[2:, :]"
   ]
  },
  {
   "cell_type": "code",
   "execution_count": 12,
   "metadata": {
    "collapsed": false
   },
   "outputs": [
    {
     "data": {
      "text/html": [
       "<div>\n",
       "<table border=\"1\" class=\"dataframe\">\n",
       "  <thead>\n",
       "    <tr style=\"text-align: right;\">\n",
       "      <th></th>\n",
       "      <th>beta.1</th>\n",
       "      <th>beta.2</th>\n",
       "      <th>sigma</th>\n",
       "      <th>linpred.1</th>\n",
       "      <th>linpred.2</th>\n",
       "      <th>linpred.3</th>\n",
       "      <th>linpred.4</th>\n",
       "      <th>linpred.5</th>\n",
       "      <th>linpred.6</th>\n",
       "      <th>linpred.7</th>\n",
       "      <th>...</th>\n",
       "      <th>linpred.13</th>\n",
       "      <th>linpred.14</th>\n",
       "      <th>linpred.15</th>\n",
       "      <th>linpred.16</th>\n",
       "      <th>linpred.17</th>\n",
       "      <th>linpred.18</th>\n",
       "      <th>linpred.19</th>\n",
       "      <th>linpred.20</th>\n",
       "      <th>y_pred.1</th>\n",
       "      <th>y_pred.2</th>\n",
       "    </tr>\n",
       "  </thead>\n",
       "  <tbody>\n",
       "    <tr>\n",
       "      <th>count</th>\n",
       "      <td>1001.000000</td>\n",
       "      <td>1001.000000</td>\n",
       "      <td>1001.000000</td>\n",
       "      <td>1001.000000</td>\n",
       "      <td>1001.000000</td>\n",
       "      <td>1001.000000</td>\n",
       "      <td>1001.000000</td>\n",
       "      <td>1001.000000</td>\n",
       "      <td>1001.000000</td>\n",
       "      <td>1001.000000</td>\n",
       "      <td>...</td>\n",
       "      <td>1001.000000</td>\n",
       "      <td>1001.000000</td>\n",
       "      <td>1001.000000</td>\n",
       "      <td>1001.000000</td>\n",
       "      <td>1001.000000</td>\n",
       "      <td>1001.000000</td>\n",
       "      <td>1001.000000</td>\n",
       "      <td>1001.000000</td>\n",
       "      <td>1001.000000</td>\n",
       "      <td>1001.000000</td>\n",
       "    </tr>\n",
       "    <tr>\n",
       "      <th>mean</th>\n",
       "      <td>0.207894</td>\n",
       "      <td>1.073972</td>\n",
       "      <td>0.079215</td>\n",
       "      <td>0.207894</td>\n",
       "      <td>0.264419</td>\n",
       "      <td>0.320944</td>\n",
       "      <td>0.377469</td>\n",
       "      <td>0.433994</td>\n",
       "      <td>0.490518</td>\n",
       "      <td>0.547043</td>\n",
       "      <td>...</td>\n",
       "      <td>0.886192</td>\n",
       "      <td>0.942717</td>\n",
       "      <td>0.999242</td>\n",
       "      <td>1.055767</td>\n",
       "      <td>1.112292</td>\n",
       "      <td>1.168817</td>\n",
       "      <td>1.225342</td>\n",
       "      <td>1.281866</td>\n",
       "      <td>0.207894</td>\n",
       "      <td>1.281866</td>\n",
       "    </tr>\n",
       "    <tr>\n",
       "      <th>std</th>\n",
       "      <td>0.023548</td>\n",
       "      <td>0.046970</td>\n",
       "      <td>0.014910</td>\n",
       "      <td>0.023548</td>\n",
       "      <td>0.023446</td>\n",
       "      <td>0.023603</td>\n",
       "      <td>0.024016</td>\n",
       "      <td>0.024671</td>\n",
       "      <td>0.025549</td>\n",
       "      <td>0.026628</td>\n",
       "      <td>...</td>\n",
       "      <td>0.036106</td>\n",
       "      <td>0.038020</td>\n",
       "      <td>0.039995</td>\n",
       "      <td>0.042023</td>\n",
       "      <td>0.044096</td>\n",
       "      <td>0.046209</td>\n",
       "      <td>0.048355</td>\n",
       "      <td>0.050532</td>\n",
       "      <td>0.023548</td>\n",
       "      <td>0.050532</td>\n",
       "    </tr>\n",
       "    <tr>\n",
       "      <th>min</th>\n",
       "      <td>0.132571</td>\n",
       "      <td>0.923903</td>\n",
       "      <td>0.031374</td>\n",
       "      <td>0.132571</td>\n",
       "      <td>0.190082</td>\n",
       "      <td>0.247593</td>\n",
       "      <td>0.305104</td>\n",
       "      <td>0.359861</td>\n",
       "      <td>0.410052</td>\n",
       "      <td>0.460244</td>\n",
       "      <td>...</td>\n",
       "      <td>0.761395</td>\n",
       "      <td>0.811587</td>\n",
       "      <td>0.861778</td>\n",
       "      <td>0.911021</td>\n",
       "      <td>0.959647</td>\n",
       "      <td>1.008270</td>\n",
       "      <td>1.056900</td>\n",
       "      <td>1.105530</td>\n",
       "      <td>0.132571</td>\n",
       "      <td>1.105530</td>\n",
       "    </tr>\n",
       "    <tr>\n",
       "      <th>25%</th>\n",
       "      <td>0.193007</td>\n",
       "      <td>1.042730</td>\n",
       "      <td>0.069456</td>\n",
       "      <td>0.193007</td>\n",
       "      <td>0.249536</td>\n",
       "      <td>0.305524</td>\n",
       "      <td>0.361269</td>\n",
       "      <td>0.416772</td>\n",
       "      <td>0.473088</td>\n",
       "      <td>0.528436</td>\n",
       "      <td>...</td>\n",
       "      <td>0.863177</td>\n",
       "      <td>0.918798</td>\n",
       "      <td>0.973691</td>\n",
       "      <td>1.028980</td>\n",
       "      <td>1.084070</td>\n",
       "      <td>1.139430</td>\n",
       "      <td>1.194270</td>\n",
       "      <td>1.248730</td>\n",
       "      <td>0.193007</td>\n",
       "      <td>1.248730</td>\n",
       "    </tr>\n",
       "    <tr>\n",
       "      <th>50%</th>\n",
       "      <td>0.208485</td>\n",
       "      <td>1.074120</td>\n",
       "      <td>0.079024</td>\n",
       "      <td>0.208485</td>\n",
       "      <td>0.264889</td>\n",
       "      <td>0.321378</td>\n",
       "      <td>0.377856</td>\n",
       "      <td>0.434199</td>\n",
       "      <td>0.491038</td>\n",
       "      <td>0.547894</td>\n",
       "      <td>...</td>\n",
       "      <td>0.885205</td>\n",
       "      <td>0.941790</td>\n",
       "      <td>0.997802</td>\n",
       "      <td>1.054080</td>\n",
       "      <td>1.110500</td>\n",
       "      <td>1.166750</td>\n",
       "      <td>1.223680</td>\n",
       "      <td>1.280400</td>\n",
       "      <td>0.208485</td>\n",
       "      <td>1.280400</td>\n",
       "    </tr>\n",
       "    <tr>\n",
       "      <th>75%</th>\n",
       "      <td>0.223817</td>\n",
       "      <td>1.103440</td>\n",
       "      <td>0.089702</td>\n",
       "      <td>0.223817</td>\n",
       "      <td>0.280206</td>\n",
       "      <td>0.336952</td>\n",
       "      <td>0.393618</td>\n",
       "      <td>0.450212</td>\n",
       "      <td>0.507052</td>\n",
       "      <td>0.564666</td>\n",
       "      <td>...</td>\n",
       "      <td>0.910054</td>\n",
       "      <td>0.967947</td>\n",
       "      <td>1.025950</td>\n",
       "      <td>1.083320</td>\n",
       "      <td>1.140780</td>\n",
       "      <td>1.198820</td>\n",
       "      <td>1.257250</td>\n",
       "      <td>1.315480</td>\n",
       "      <td>0.223817</td>\n",
       "      <td>1.315480</td>\n",
       "    </tr>\n",
       "    <tr>\n",
       "      <th>max</th>\n",
       "      <td>0.277579</td>\n",
       "      <td>1.224080</td>\n",
       "      <td>0.119861</td>\n",
       "      <td>0.277579</td>\n",
       "      <td>0.330976</td>\n",
       "      <td>0.384707</td>\n",
       "      <td>0.442824</td>\n",
       "      <td>0.500941</td>\n",
       "      <td>0.560235</td>\n",
       "      <td>0.619920</td>\n",
       "      <td>...</td>\n",
       "      <td>0.984681</td>\n",
       "      <td>1.047890</td>\n",
       "      <td>1.111310</td>\n",
       "      <td>1.175740</td>\n",
       "      <td>1.240160</td>\n",
       "      <td>1.304590</td>\n",
       "      <td>1.369010</td>\n",
       "      <td>1.433440</td>\n",
       "      <td>0.277579</td>\n",
       "      <td>1.433440</td>\n",
       "    </tr>\n",
       "  </tbody>\n",
       "</table>\n",
       "<p>8 rows × 25 columns</p>\n",
       "</div>"
      ],
      "text/plain": [
       "            beta.1       beta.2        sigma    linpred.1    linpred.2  \\\n",
       "count  1001.000000  1001.000000  1001.000000  1001.000000  1001.000000   \n",
       "mean      0.207894     1.073972     0.079215     0.207894     0.264419   \n",
       "std       0.023548     0.046970     0.014910     0.023548     0.023446   \n",
       "min       0.132571     0.923903     0.031374     0.132571     0.190082   \n",
       "25%       0.193007     1.042730     0.069456     0.193007     0.249536   \n",
       "50%       0.208485     1.074120     0.079024     0.208485     0.264889   \n",
       "75%       0.223817     1.103440     0.089702     0.223817     0.280206   \n",
       "max       0.277579     1.224080     0.119861     0.277579     0.330976   \n",
       "\n",
       "         linpred.3    linpred.4    linpred.5    linpred.6    linpred.7  \\\n",
       "count  1001.000000  1001.000000  1001.000000  1001.000000  1001.000000   \n",
       "mean      0.320944     0.377469     0.433994     0.490518     0.547043   \n",
       "std       0.023603     0.024016     0.024671     0.025549     0.026628   \n",
       "min       0.247593     0.305104     0.359861     0.410052     0.460244   \n",
       "25%       0.305524     0.361269     0.416772     0.473088     0.528436   \n",
       "50%       0.321378     0.377856     0.434199     0.491038     0.547894   \n",
       "75%       0.336952     0.393618     0.450212     0.507052     0.564666   \n",
       "max       0.384707     0.442824     0.500941     0.560235     0.619920   \n",
       "\n",
       "          ...        linpred.13   linpred.14   linpred.15   linpred.16  \\\n",
       "count     ...       1001.000000  1001.000000  1001.000000  1001.000000   \n",
       "mean      ...          0.886192     0.942717     0.999242     1.055767   \n",
       "std       ...          0.036106     0.038020     0.039995     0.042023   \n",
       "min       ...          0.761395     0.811587     0.861778     0.911021   \n",
       "25%       ...          0.863177     0.918798     0.973691     1.028980   \n",
       "50%       ...          0.885205     0.941790     0.997802     1.054080   \n",
       "75%       ...          0.910054     0.967947     1.025950     1.083320   \n",
       "max       ...          0.984681     1.047890     1.111310     1.175740   \n",
       "\n",
       "        linpred.17   linpred.18   linpred.19   linpred.20     y_pred.1  \\\n",
       "count  1001.000000  1001.000000  1001.000000  1001.000000  1001.000000   \n",
       "mean      1.112292     1.168817     1.225342     1.281866     0.207894   \n",
       "std       0.044096     0.046209     0.048355     0.050532     0.023548   \n",
       "min       0.959647     1.008270     1.056900     1.105530     0.132571   \n",
       "25%       1.084070     1.139430     1.194270     1.248730     0.193007   \n",
       "50%       1.110500     1.166750     1.223680     1.280400     0.208485   \n",
       "75%       1.140780     1.198820     1.257250     1.315480     0.223817   \n",
       "max       1.240160     1.304590     1.369010     1.433440     0.277579   \n",
       "\n",
       "          y_pred.2  \n",
       "count  1001.000000  \n",
       "mean      1.281866  \n",
       "std       0.050532  \n",
       "min       1.105530  \n",
       "25%       1.248730  \n",
       "50%       1.280400  \n",
       "75%       1.315480  \n",
       "max       1.433440  \n",
       "\n",
       "[8 rows x 25 columns]"
      ]
     },
     "execution_count": 12,
     "metadata": {},
     "output_type": "execute_result"
    }
   ],
   "source": [
    "df.describe()"
   ]
  },
  {
   "cell_type": "code",
   "execution_count": 13,
   "metadata": {
    "collapsed": false
   },
   "outputs": [
    {
     "data": {
      "text/html": [
       "<div>\n",
       "<table border=\"1\" class=\"dataframe\">\n",
       "  <thead>\n",
       "    <tr style=\"text-align: right;\">\n",
       "      <th></th>\n",
       "      <th>lp__</th>\n",
       "      <th>beta.1</th>\n",
       "      <th>beta.2</th>\n",
       "      <th>sigma</th>\n",
       "      <th>linpred.1</th>\n",
       "      <th>linpred.2</th>\n",
       "      <th>linpred.3</th>\n",
       "      <th>linpred.4</th>\n",
       "      <th>linpred.5</th>\n",
       "      <th>linpred.6</th>\n",
       "      <th>...</th>\n",
       "      <th>linpred.13</th>\n",
       "      <th>linpred.14</th>\n",
       "      <th>linpred.15</th>\n",
       "      <th>linpred.16</th>\n",
       "      <th>linpred.17</th>\n",
       "      <th>linpred.18</th>\n",
       "      <th>linpred.19</th>\n",
       "      <th>linpred.20</th>\n",
       "      <th>y_pred.1</th>\n",
       "      <th>y_pred.2</th>\n",
       "    </tr>\n",
       "  </thead>\n",
       "  <tbody>\n",
       "    <tr>\n",
       "      <th>2</th>\n",
       "      <td>0</td>\n",
       "      <td>0.207888</td>\n",
       "      <td>1.07498</td>\n",
       "      <td>0.079780</td>\n",
       "      <td>0.207888</td>\n",
       "      <td>0.264466</td>\n",
       "      <td>0.321043</td>\n",
       "      <td>0.377621</td>\n",
       "      <td>0.434199</td>\n",
       "      <td>0.490777</td>\n",
       "      <td>...</td>\n",
       "      <td>0.886821</td>\n",
       "      <td>0.943399</td>\n",
       "      <td>0.999977</td>\n",
       "      <td>1.05655</td>\n",
       "      <td>1.11313</td>\n",
       "      <td>1.16971</td>\n",
       "      <td>1.22629</td>\n",
       "      <td>1.28287</td>\n",
       "      <td>0.207888</td>\n",
       "      <td>1.28287</td>\n",
       "    </tr>\n",
       "    <tr>\n",
       "      <th>3</th>\n",
       "      <td>0</td>\n",
       "      <td>0.220605</td>\n",
       "      <td>1.06111</td>\n",
       "      <td>0.081609</td>\n",
       "      <td>0.220605</td>\n",
       "      <td>0.276453</td>\n",
       "      <td>0.332300</td>\n",
       "      <td>0.388148</td>\n",
       "      <td>0.443996</td>\n",
       "      <td>0.499844</td>\n",
       "      <td>...</td>\n",
       "      <td>0.890778</td>\n",
       "      <td>0.946625</td>\n",
       "      <td>1.002470</td>\n",
       "      <td>1.05832</td>\n",
       "      <td>1.11417</td>\n",
       "      <td>1.17002</td>\n",
       "      <td>1.22586</td>\n",
       "      <td>1.28171</td>\n",
       "      <td>0.220605</td>\n",
       "      <td>1.28171</td>\n",
       "    </tr>\n",
       "    <tr>\n",
       "      <th>4</th>\n",
       "      <td>0</td>\n",
       "      <td>0.179469</td>\n",
       "      <td>1.03960</td>\n",
       "      <td>0.083465</td>\n",
       "      <td>0.179469</td>\n",
       "      <td>0.234185</td>\n",
       "      <td>0.288901</td>\n",
       "      <td>0.343617</td>\n",
       "      <td>0.398333</td>\n",
       "      <td>0.453049</td>\n",
       "      <td>...</td>\n",
       "      <td>0.836061</td>\n",
       "      <td>0.890777</td>\n",
       "      <td>0.945493</td>\n",
       "      <td>1.00021</td>\n",
       "      <td>1.05493</td>\n",
       "      <td>1.10964</td>\n",
       "      <td>1.16436</td>\n",
       "      <td>1.21907</td>\n",
       "      <td>0.179469</td>\n",
       "      <td>1.21907</td>\n",
       "    </tr>\n",
       "    <tr>\n",
       "      <th>5</th>\n",
       "      <td>0</td>\n",
       "      <td>0.180455</td>\n",
       "      <td>1.06098</td>\n",
       "      <td>0.091318</td>\n",
       "      <td>0.180455</td>\n",
       "      <td>0.236295</td>\n",
       "      <td>0.292136</td>\n",
       "      <td>0.347977</td>\n",
       "      <td>0.403818</td>\n",
       "      <td>0.459659</td>\n",
       "      <td>...</td>\n",
       "      <td>0.850544</td>\n",
       "      <td>0.906385</td>\n",
       "      <td>0.962226</td>\n",
       "      <td>1.01807</td>\n",
       "      <td>1.07391</td>\n",
       "      <td>1.12975</td>\n",
       "      <td>1.18559</td>\n",
       "      <td>1.24143</td>\n",
       "      <td>0.180455</td>\n",
       "      <td>1.24143</td>\n",
       "    </tr>\n",
       "    <tr>\n",
       "      <th>6</th>\n",
       "      <td>0</td>\n",
       "      <td>0.209255</td>\n",
       "      <td>1.17483</td>\n",
       "      <td>0.075232</td>\n",
       "      <td>0.209255</td>\n",
       "      <td>0.271088</td>\n",
       "      <td>0.332921</td>\n",
       "      <td>0.394754</td>\n",
       "      <td>0.456588</td>\n",
       "      <td>0.518421</td>\n",
       "      <td>...</td>\n",
       "      <td>0.951254</td>\n",
       "      <td>1.013090</td>\n",
       "      <td>1.074920</td>\n",
       "      <td>1.13675</td>\n",
       "      <td>1.19859</td>\n",
       "      <td>1.26042</td>\n",
       "      <td>1.32225</td>\n",
       "      <td>1.38409</td>\n",
       "      <td>0.209255</td>\n",
       "      <td>1.38409</td>\n",
       "    </tr>\n",
       "  </tbody>\n",
       "</table>\n",
       "<p>5 rows × 26 columns</p>\n",
       "</div>"
      ],
      "text/plain": [
       "  lp__    beta.1   beta.2     sigma  linpred.1  linpred.2  linpred.3  \\\n",
       "2    0  0.207888  1.07498  0.079780   0.207888   0.264466   0.321043   \n",
       "3    0  0.220605  1.06111  0.081609   0.220605   0.276453   0.332300   \n",
       "4    0  0.179469  1.03960  0.083465   0.179469   0.234185   0.288901   \n",
       "5    0  0.180455  1.06098  0.091318   0.180455   0.236295   0.292136   \n",
       "6    0  0.209255  1.17483  0.075232   0.209255   0.271088   0.332921   \n",
       "\n",
       "   linpred.4  linpred.5  linpred.6    ...     linpred.13  linpred.14  \\\n",
       "2   0.377621   0.434199   0.490777    ...       0.886821    0.943399   \n",
       "3   0.388148   0.443996   0.499844    ...       0.890778    0.946625   \n",
       "4   0.343617   0.398333   0.453049    ...       0.836061    0.890777   \n",
       "5   0.347977   0.403818   0.459659    ...       0.850544    0.906385   \n",
       "6   0.394754   0.456588   0.518421    ...       0.951254    1.013090   \n",
       "\n",
       "   linpred.15  linpred.16  linpred.17  linpred.18  linpred.19  linpred.20  \\\n",
       "2    0.999977     1.05655     1.11313     1.16971     1.22629     1.28287   \n",
       "3    1.002470     1.05832     1.11417     1.17002     1.22586     1.28171   \n",
       "4    0.945493     1.00021     1.05493     1.10964     1.16436     1.21907   \n",
       "5    0.962226     1.01807     1.07391     1.12975     1.18559     1.24143   \n",
       "6    1.074920     1.13675     1.19859     1.26042     1.32225     1.38409   \n",
       "\n",
       "   y_pred.1  y_pred.2  \n",
       "2  0.207888   1.28287  \n",
       "3  0.220605   1.28171  \n",
       "4  0.179469   1.21907  \n",
       "5  0.180455   1.24143  \n",
       "6  0.209255   1.38409  \n",
       "\n",
       "[5 rows x 26 columns]"
      ]
     },
     "execution_count": 13,
     "metadata": {},
     "output_type": "execute_result"
    }
   ],
   "source": [
    "df.head()"
   ]
  },
  {
   "cell_type": "code",
   "execution_count": 14,
   "metadata": {
    "collapsed": false
   },
   "outputs": [
    {
     "data": {
      "text/plain": [
       "array([[<matplotlib.axes._subplots.AxesSubplot object at 0x7fbaa069f590>,\n",
       "        <matplotlib.axes._subplots.AxesSubplot object at 0x7fbaa045a950>]], dtype=object)"
      ]
     },
     "execution_count": 14,
     "metadata": {},
     "output_type": "execute_result"
    },
    {
     "data": {
      "image/png": "[encoded data removed]",
      "text/plain": [
       "<matplotlib.figure.Figure at 0x7fbaa0521d90>"
      ]
     },
     "metadata": {},
     "output_type": "display_data"
    }
   ],
   "source": [
    "df[['beta.1', 'beta.2']].hist(bins=50)"
   ]
  },
  {
   "cell_type": "code",
   "execution_count": 30,
   "metadata": {
    "collapsed": false
   },
   "outputs": [
    {
     "data": {
      "image/png": "[encoded data removed]",
      "text/plain": [
       "<matplotlib.figure.Figure at 0x7fba99179250>"
      ]
     },
     "metadata": {},
     "output_type": "display_data"
    }
   ],
   "source": [
    "# Plot with generated values after Variational Bayes fit\n",
    "plt.plot(x, y, marker='.', linestyle='none')\n",
    "plt.plot(np.tile(new_x, (1, len(df))), df[['y_pred.1', 'y_pred.2']].T.values, alpha=0.005, c='k')\n",
    "plt.show()"
   ]
  },
  {
   "cell_type": "code",
   "execution_count": null,
   "metadata": {
    "collapsed": true
   },
   "outputs": [],
   "source": []
  }
 ],
 "metadata": {
  "kernelspec": {
   "display_name": "Python [Root]",
   "language": "python",
   "name": "Python [Root]"
  },
  "language_info": {
   "codemirror_mode": {
    "name": "ipython",
    "version": 2
   },
   "file_extension": ".py",
   "mimetype": "text/x-python",
   "name": "python",
   "nbconvert_exporter": "python",
   "pygments_lexer": "ipython2",
   "version": "2.7.11"
  }
 },
 "nbformat": 4,
 "nbformat_minor": 0
}
