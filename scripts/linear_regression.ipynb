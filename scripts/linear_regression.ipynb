{
 "cells": [
  {
   "cell_type": "code",
   "execution_count": 1,
   "metadata": {},
   "outputs": [],
   "source": [
    "import pystan\n",
    "import numpy as np\n",
    "import pandas as pd\n",
    "import os\n",
    "import pickle\n",
    "import matplotlib.pyplot as plt\n",
    "import tensorflow as tf\n",
    "import edward as ed"
   ]
  },
  {
   "cell_type": "code",
   "execution_count": 2,
   "metadata": {
    "collapsed": true
   },
   "outputs": [],
   "source": [
    "%matplotlib inline"
   ]
  },
  {
   "cell_type": "code",
   "execution_count": 3,
   "metadata": {
    "collapsed": true
   },
   "outputs": [],
   "source": [
    "model_code = \"\"\"\n",
    "data {\n",
    "  int N; //the number of observations\n",
    "  int N2; //the size of the new_X matrix\n",
    "  int K; //the number of columns in the model matrix\n",
    "  vector[N] y; //the response\n",
    "  matrix[N,K] X; //the model matrix\n",
    "  matrix[N2,K] new_X; //the matrix for the predicted values\n",
    "}\n",
    "parameters {\n",
    "  vector[K] beta; //the regression parameters\n",
    "  real sigma; //the standard deviation\n",
    "}\n",
    "transformed parameters {\n",
    "  vector[N] linpred;\n",
    "  linpred = X*beta;\n",
    "}\n",
    "model {  \n",
    "  beta[1] ~ cauchy(0,10); //prior for the intercept following Gelman 2008\n",
    "\n",
    "  for(i in 2:K)\n",
    "   beta[i] ~ cauchy(0,2.5);//prior for the slopes following Gelman 2008\n",
    "  \n",
    "  y ~ normal(linpred,sigma);\n",
    "}\n",
    "generated quantities {\n",
    "  vector[N2] y_pred;\n",
    "  y_pred = new_X*beta; //the y values predicted by the model\n",
    "}\n",
    "\"\"\""
   ]
  },
  {
   "cell_type": "code",
   "execution_count": 4,
   "metadata": {},
   "outputs": [],
   "source": [
    "model_name = 'linear_regression'\n",
    "pkl_file = model_name + '.pkl'\n",
    "\n",
    "if os.path.isfile(pkl_file):\n",
    "    # Reuse previously compiled model\n",
    "    sm = pickle.load(open(pkl_file, 'rb'))\n",
    "else:\n",
    "    # Compile and sample model\n",
    "    sm = pystan.StanModel(model_code=model_code, model_name=model_name)\n",
    "    with open(pkl_file, 'wb') as f:\n",
    "        pickle.dump(sm, f)"
   ]
  },
  {
   "cell_type": "code",
   "execution_count": 5,
   "metadata": {},
   "outputs": [],
   "source": [
    "# Test data\n",
    "N = 20\n",
    "beta = np.array([0.2, 1.5]).reshape((-1,1))\n",
    "x = np.linspace(0, 1, N).reshape((-1, 1))\n",
    "X = np.column_stack([np.ones(x.shape), x])\n",
    "y = X.dot(beta) + np.random.normal(0, 0.1, size=N).reshape((-1, 1))"
   ]
  },
  {
   "cell_type": "code",
   "execution_count": 6,
   "metadata": {},
   "outputs": [
    {
     "data": {
      "text/plain": [
       "[<matplotlib.lines.Line2D at 0x7f0f9eaa84d0>]"
      ]
     },
     "execution_count": 6,
     "metadata": {},
     "output_type": "execute_result"
    },
    {
     "data": {
      "image/png": "[encoded data removed]",
      "text/plain": [
       "<matplotlib.figure.Figure at 0x7f0fa2eadc10>"
      ]
     },
     "metadata": {},
     "output_type": "display_data"
    }
   ],
   "source": [
    "plt.plot(x, y, marker='.', linestyle='none')"
   ]
  },
  {
   "cell_type": "code",
   "execution_count": 7,
   "metadata": {
    "collapsed": true
   },
   "outputs": [],
   "source": [
    "# Plot fit\n",
    "N2 = 2\n",
    "new_x =  np.linspace(0, 1, N2).reshape((-1, 1))\n",
    "new_X = np.column_stack([np.ones(N2).reshape((-1, 1)), new_x])"
   ]
  },
  {
   "cell_type": "code",
   "execution_count": 8,
   "metadata": {},
   "outputs": [],
   "source": [
    "data = {\n",
    "    'N': N,\n",
    "    'X': X,\n",
    "    'K': X.shape[1],\n",
    "    'y': y.flatten(), \n",
    "    'N2': N2,\n",
    "    'new_X': new_X\n",
    "}"
   ]
  },
  {
   "cell_type": "code",
   "execution_count": 9,
   "metadata": {},
   "outputs": [],
   "source": [
    "res = sm.optimizing(data=data)"
   ]
  },
  {
   "cell_type": "code",
   "execution_count": 10,
   "metadata": {},
   "outputs": [
    {
     "data": {
      "image/png": "[encoded data removed]",
      "text/plain": [
       "<matplotlib.figure.Figure at 0x7f0f9ea8b490>"
      ]
     },
     "metadata": {},
     "output_type": "display_data"
    }
   ],
   "source": [
    "# Plot MLE fit\n",
    "plt.plot(x, y, marker='.', linestyle='none')\n",
    "plt.plot(new_x, res['y_pred'])\n",
    "plt.show()"
   ]
  },
  {
   "cell_type": "code",
   "execution_count": 11,
   "metadata": {},
   "outputs": [
    {
     "name": "stderr",
     "output_type": "stream",
     "text": [
      "WARNING:pystan:Automatic Differentiation Variational Inference (ADVI) is an EXPERIMENTAL ALGORITHM.\n",
      "WARNING:pystan:ADVI samples may be found on the filesystem in the file `/tmp/tmpj_p5eL/output.csv`\n"
     ]
    }
   ],
   "source": [
    "res_vb = sm.vb(data=data, pars=['beta', 'y_pred'])\n",
    "out_file = res_vb['args']['sample_file']\n",
    "df = pd.read_csv(out_file, comment='#').iloc[2:, :]"
   ]
  },
  {
   "cell_type": "code",
   "execution_count": 12,
   "metadata": {},
   "outputs": [
    {
     "data": {
      "text/html": [
       "<div>\n",
       "<style>\n",
       "    .dataframe thead tr:only-child th {\n",
       "        text-align: right;\n",
       "    }\n",
       "\n",
       "    .dataframe thead th {\n",
       "        text-align: left;\n",
       "    }\n",
       "\n",
       "    .dataframe tbody tr th {\n",
       "        vertical-align: top;\n",
       "    }\n",
       "</style>\n",
       "<table border=\"1\" class=\"dataframe\">\n",
       "  <thead>\n",
       "    <tr style=\"text-align: right;\">\n",
       "      <th></th>\n",
       "      <th>lp__</th>\n",
       "      <th>beta.1</th>\n",
       "      <th>beta.2</th>\n",
       "      <th>sigma</th>\n",
       "      <th>linpred.1</th>\n",
       "      <th>linpred.2</th>\n",
       "      <th>linpred.3</th>\n",
       "      <th>linpred.4</th>\n",
       "      <th>linpred.5</th>\n",
       "      <th>linpred.6</th>\n",
       "      <th>...</th>\n",
       "      <th>linpred.13</th>\n",
       "      <th>linpred.14</th>\n",
       "      <th>linpred.15</th>\n",
       "      <th>linpred.16</th>\n",
       "      <th>linpred.17</th>\n",
       "      <th>linpred.18</th>\n",
       "      <th>linpred.19</th>\n",
       "      <th>linpred.20</th>\n",
       "      <th>y_pred.1</th>\n",
       "      <th>y_pred.2</th>\n",
       "    </tr>\n",
       "  </thead>\n",
       "  <tbody>\n",
       "    <tr>\n",
       "      <th>count</th>\n",
       "      <td>999.0</td>\n",
       "      <td>999.000000</td>\n",
       "      <td>999.000000</td>\n",
       "      <td>999.000000</td>\n",
       "      <td>999.000000</td>\n",
       "      <td>999.000000</td>\n",
       "      <td>999.000000</td>\n",
       "      <td>999.000000</td>\n",
       "      <td>999.000000</td>\n",
       "      <td>999.000000</td>\n",
       "      <td>...</td>\n",
       "      <td>999.000000</td>\n",
       "      <td>999.000000</td>\n",
       "      <td>999.000000</td>\n",
       "      <td>999.000000</td>\n",
       "      <td>999.000000</td>\n",
       "      <td>999.000000</td>\n",
       "      <td>999.000000</td>\n",
       "      <td>999.000000</td>\n",
       "      <td>999.000000</td>\n",
       "      <td>999.000000</td>\n",
       "    </tr>\n",
       "    <tr>\n",
       "      <th>mean</th>\n",
       "      <td>0.0</td>\n",
       "      <td>0.215291</td>\n",
       "      <td>1.461276</td>\n",
       "      <td>0.132886</td>\n",
       "      <td>0.215291</td>\n",
       "      <td>0.292201</td>\n",
       "      <td>0.369110</td>\n",
       "      <td>0.446019</td>\n",
       "      <td>0.522928</td>\n",
       "      <td>0.599837</td>\n",
       "      <td>...</td>\n",
       "      <td>1.138202</td>\n",
       "      <td>1.215111</td>\n",
       "      <td>1.292021</td>\n",
       "      <td>1.368930</td>\n",
       "      <td>1.445839</td>\n",
       "      <td>1.522748</td>\n",
       "      <td>1.599658</td>\n",
       "      <td>1.676567</td>\n",
       "      <td>0.215291</td>\n",
       "      <td>1.676567</td>\n",
       "    </tr>\n",
       "    <tr>\n",
       "      <th>std</th>\n",
       "      <td>0.0</td>\n",
       "      <td>0.027397</td>\n",
       "      <td>0.048795</td>\n",
       "      <td>0.019738</td>\n",
       "      <td>0.027397</td>\n",
       "      <td>0.027564</td>\n",
       "      <td>0.027967</td>\n",
       "      <td>0.028596</td>\n",
       "      <td>0.029436</td>\n",
       "      <td>0.030470</td>\n",
       "      <td>...</td>\n",
       "      <td>0.041609</td>\n",
       "      <td>0.043575</td>\n",
       "      <td>0.045601</td>\n",
       "      <td>0.047679</td>\n",
       "      <td>0.049803</td>\n",
       "      <td>0.051967</td>\n",
       "      <td>0.054166</td>\n",
       "      <td>0.056397</td>\n",
       "      <td>0.027397</td>\n",
       "      <td>0.056397</td>\n",
       "    </tr>\n",
       "    <tr>\n",
       "      <th>min</th>\n",
       "      <td>0.0</td>\n",
       "      <td>0.127658</td>\n",
       "      <td>1.295960</td>\n",
       "      <td>0.073348</td>\n",
       "      <td>0.127658</td>\n",
       "      <td>0.201948</td>\n",
       "      <td>0.276237</td>\n",
       "      <td>0.350527</td>\n",
       "      <td>0.424816</td>\n",
       "      <td>0.499106</td>\n",
       "      <td>...</td>\n",
       "      <td>1.005730</td>\n",
       "      <td>1.075490</td>\n",
       "      <td>1.145260</td>\n",
       "      <td>1.215020</td>\n",
       "      <td>1.284790</td>\n",
       "      <td>1.354550</td>\n",
       "      <td>1.423720</td>\n",
       "      <td>1.491930</td>\n",
       "      <td>0.127658</td>\n",
       "      <td>1.491930</td>\n",
       "    </tr>\n",
       "    <tr>\n",
       "      <th>25%</th>\n",
       "      <td>0.0</td>\n",
       "      <td>0.197325</td>\n",
       "      <td>1.429195</td>\n",
       "      <td>0.120601</td>\n",
       "      <td>0.197325</td>\n",
       "      <td>0.273546</td>\n",
       "      <td>0.350438</td>\n",
       "      <td>0.426480</td>\n",
       "      <td>0.503127</td>\n",
       "      <td>0.578657</td>\n",
       "      <td>...</td>\n",
       "      <td>1.110900</td>\n",
       "      <td>1.186570</td>\n",
       "      <td>1.261845</td>\n",
       "      <td>1.336625</td>\n",
       "      <td>1.411840</td>\n",
       "      <td>1.487080</td>\n",
       "      <td>1.562545</td>\n",
       "      <td>1.638170</td>\n",
       "      <td>0.197325</td>\n",
       "      <td>1.638170</td>\n",
       "    </tr>\n",
       "    <tr>\n",
       "      <th>50%</th>\n",
       "      <td>0.0</td>\n",
       "      <td>0.214628</td>\n",
       "      <td>1.461450</td>\n",
       "      <td>0.132588</td>\n",
       "      <td>0.214628</td>\n",
       "      <td>0.290899</td>\n",
       "      <td>0.368302</td>\n",
       "      <td>0.445737</td>\n",
       "      <td>0.522210</td>\n",
       "      <td>0.599447</td>\n",
       "      <td>...</td>\n",
       "      <td>1.139070</td>\n",
       "      <td>1.216050</td>\n",
       "      <td>1.293520</td>\n",
       "      <td>1.370620</td>\n",
       "      <td>1.446900</td>\n",
       "      <td>1.523900</td>\n",
       "      <td>1.600490</td>\n",
       "      <td>1.676320</td>\n",
       "      <td>0.214628</td>\n",
       "      <td>1.676320</td>\n",
       "    </tr>\n",
       "    <tr>\n",
       "      <th>75%</th>\n",
       "      <td>0.0</td>\n",
       "      <td>0.233849</td>\n",
       "      <td>1.493395</td>\n",
       "      <td>0.145927</td>\n",
       "      <td>0.233849</td>\n",
       "      <td>0.311272</td>\n",
       "      <td>0.388263</td>\n",
       "      <td>0.464792</td>\n",
       "      <td>0.542152</td>\n",
       "      <td>0.619298</td>\n",
       "      <td>...</td>\n",
       "      <td>1.164720</td>\n",
       "      <td>1.243235</td>\n",
       "      <td>1.320460</td>\n",
       "      <td>1.399150</td>\n",
       "      <td>1.477130</td>\n",
       "      <td>1.554500</td>\n",
       "      <td>1.633110</td>\n",
       "      <td>1.711105</td>\n",
       "      <td>0.233849</td>\n",
       "      <td>1.711105</td>\n",
       "    </tr>\n",
       "    <tr>\n",
       "      <th>max</th>\n",
       "      <td>0.0</td>\n",
       "      <td>0.322182</td>\n",
       "      <td>1.603510</td>\n",
       "      <td>0.197052</td>\n",
       "      <td>0.322182</td>\n",
       "      <td>0.400326</td>\n",
       "      <td>0.478470</td>\n",
       "      <td>0.556614</td>\n",
       "      <td>0.634758</td>\n",
       "      <td>0.712903</td>\n",
       "      <td>...</td>\n",
       "      <td>1.269890</td>\n",
       "      <td>1.353300</td>\n",
       "      <td>1.437090</td>\n",
       "      <td>1.521480</td>\n",
       "      <td>1.605880</td>\n",
       "      <td>1.690270</td>\n",
       "      <td>1.774670</td>\n",
       "      <td>1.859060</td>\n",
       "      <td>0.322182</td>\n",
       "      <td>1.859060</td>\n",
       "    </tr>\n",
       "  </tbody>\n",
       "</table>\n",
       "<p>8 rows × 26 columns</p>\n",
       "</div>"
      ],
      "text/plain": [
       "        lp__      beta.1      beta.2       sigma   linpred.1   linpred.2  \\\n",
       "count  999.0  999.000000  999.000000  999.000000  999.000000  999.000000   \n",
       "mean     0.0    0.215291    1.461276    0.132886    0.215291    0.292201   \n",
       "std      0.0    0.027397    0.048795    0.019738    0.027397    0.027564   \n",
       "min      0.0    0.127658    1.295960    0.073348    0.127658    0.201948   \n",
       "25%      0.0    0.197325    1.429195    0.120601    0.197325    0.273546   \n",
       "50%      0.0    0.214628    1.461450    0.132588    0.214628    0.290899   \n",
       "75%      0.0    0.233849    1.493395    0.145927    0.233849    0.311272   \n",
       "max      0.0    0.322182    1.603510    0.197052    0.322182    0.400326   \n",
       "\n",
       "        linpred.3   linpred.4   linpred.5   linpred.6     ...      linpred.13  \\\n",
       "count  999.000000  999.000000  999.000000  999.000000     ...      999.000000   \n",
       "mean     0.369110    0.446019    0.522928    0.599837     ...        1.138202   \n",
       "std      0.027967    0.028596    0.029436    0.030470     ...        0.041609   \n",
       "min      0.276237    0.350527    0.424816    0.499106     ...        1.005730   \n",
       "25%      0.350438    0.426480    0.503127    0.578657     ...        1.110900   \n",
       "50%      0.368302    0.445737    0.522210    0.599447     ...        1.139070   \n",
       "75%      0.388263    0.464792    0.542152    0.619298     ...        1.164720   \n",
       "max      0.478470    0.556614    0.634758    0.712903     ...        1.269890   \n",
       "\n",
       "       linpred.14  linpred.15  linpred.16  linpred.17  linpred.18  linpred.19  \\\n",
       "count  999.000000  999.000000  999.000000  999.000000  999.000000  999.000000   \n",
       "mean     1.215111    1.292021    1.368930    1.445839    1.522748    1.599658   \n",
       "std      0.043575    0.045601    0.047679    0.049803    0.051967    0.054166   \n",
       "min      1.075490    1.145260    1.215020    1.284790    1.354550    1.423720   \n",
       "25%      1.186570    1.261845    1.336625    1.411840    1.487080    1.562545   \n",
       "50%      1.216050    1.293520    1.370620    1.446900    1.523900    1.600490   \n",
       "75%      1.243235    1.320460    1.399150    1.477130    1.554500    1.633110   \n",
       "max      1.353300    1.437090    1.521480    1.605880    1.690270    1.774670   \n",
       "\n",
       "       linpred.20    y_pred.1    y_pred.2  \n",
       "count  999.000000  999.000000  999.000000  \n",
       "mean     1.676567    0.215291    1.676567  \n",
       "std      0.056397    0.027397    0.056397  \n",
       "min      1.491930    0.127658    1.491930  \n",
       "25%      1.638170    0.197325    1.638170  \n",
       "50%      1.676320    0.214628    1.676320  \n",
       "75%      1.711105    0.233849    1.711105  \n",
       "max      1.859060    0.322182    1.859060  \n",
       "\n",
       "[8 rows x 26 columns]"
      ]
     },
     "execution_count": 12,
     "metadata": {},
     "output_type": "execute_result"
    }
   ],
   "source": [
    "df.describe()"
   ]
  },
  {
   "cell_type": "code",
   "execution_count": 13,
   "metadata": {},
   "outputs": [
    {
     "data": {
      "text/html": [
       "<div>\n",
       "<style>\n",
       "    .dataframe thead tr:only-child th {\n",
       "        text-align: right;\n",
       "    }\n",
       "\n",
       "    .dataframe thead th {\n",
       "        text-align: left;\n",
       "    }\n",
       "\n",
       "    .dataframe tbody tr th {\n",
       "        vertical-align: top;\n",
       "    }\n",
       "</style>\n",
       "<table border=\"1\" class=\"dataframe\">\n",
       "  <thead>\n",
       "    <tr style=\"text-align: right;\">\n",
       "      <th></th>\n",
       "      <th>lp__</th>\n",
       "      <th>beta.1</th>\n",
       "      <th>beta.2</th>\n",
       "      <th>sigma</th>\n",
       "      <th>linpred.1</th>\n",
       "      <th>linpred.2</th>\n",
       "      <th>linpred.3</th>\n",
       "      <th>linpred.4</th>\n",
       "      <th>linpred.5</th>\n",
       "      <th>linpred.6</th>\n",
       "      <th>...</th>\n",
       "      <th>linpred.13</th>\n",
       "      <th>linpred.14</th>\n",
       "      <th>linpred.15</th>\n",
       "      <th>linpred.16</th>\n",
       "      <th>linpred.17</th>\n",
       "      <th>linpred.18</th>\n",
       "      <th>linpred.19</th>\n",
       "      <th>linpred.20</th>\n",
       "      <th>y_pred.1</th>\n",
       "      <th>y_pred.2</th>\n",
       "    </tr>\n",
       "  </thead>\n",
       "  <tbody>\n",
       "    <tr>\n",
       "      <th>2</th>\n",
       "      <td>0</td>\n",
       "      <td>0.221595</td>\n",
       "      <td>1.47993</td>\n",
       "      <td>0.140080</td>\n",
       "      <td>0.221595</td>\n",
       "      <td>0.299486</td>\n",
       "      <td>0.377377</td>\n",
       "      <td>0.455268</td>\n",
       "      <td>0.533160</td>\n",
       "      <td>0.611051</td>\n",
       "      <td>...</td>\n",
       "      <td>1.15629</td>\n",
       "      <td>1.23418</td>\n",
       "      <td>1.31207</td>\n",
       "      <td>1.38996</td>\n",
       "      <td>1.46785</td>\n",
       "      <td>1.54574</td>\n",
       "      <td>1.62363</td>\n",
       "      <td>1.70153</td>\n",
       "      <td>0.221595</td>\n",
       "      <td>1.70153</td>\n",
       "    </tr>\n",
       "    <tr>\n",
       "      <th>3</th>\n",
       "      <td>0</td>\n",
       "      <td>0.213867</td>\n",
       "      <td>1.44866</td>\n",
       "      <td>0.150075</td>\n",
       "      <td>0.213867</td>\n",
       "      <td>0.290112</td>\n",
       "      <td>0.366357</td>\n",
       "      <td>0.442602</td>\n",
       "      <td>0.518847</td>\n",
       "      <td>0.595092</td>\n",
       "      <td>...</td>\n",
       "      <td>1.12881</td>\n",
       "      <td>1.20505</td>\n",
       "      <td>1.28130</td>\n",
       "      <td>1.35754</td>\n",
       "      <td>1.43379</td>\n",
       "      <td>1.51003</td>\n",
       "      <td>1.58628</td>\n",
       "      <td>1.66252</td>\n",
       "      <td>0.213867</td>\n",
       "      <td>1.66252</td>\n",
       "    </tr>\n",
       "    <tr>\n",
       "      <th>4</th>\n",
       "      <td>0</td>\n",
       "      <td>0.171972</td>\n",
       "      <td>1.43864</td>\n",
       "      <td>0.121414</td>\n",
       "      <td>0.171972</td>\n",
       "      <td>0.247690</td>\n",
       "      <td>0.323408</td>\n",
       "      <td>0.399126</td>\n",
       "      <td>0.474844</td>\n",
       "      <td>0.550562</td>\n",
       "      <td>...</td>\n",
       "      <td>1.08059</td>\n",
       "      <td>1.15631</td>\n",
       "      <td>1.23202</td>\n",
       "      <td>1.30774</td>\n",
       "      <td>1.38346</td>\n",
       "      <td>1.45918</td>\n",
       "      <td>1.53490</td>\n",
       "      <td>1.61061</td>\n",
       "      <td>0.171972</td>\n",
       "      <td>1.61061</td>\n",
       "    </tr>\n",
       "    <tr>\n",
       "      <th>5</th>\n",
       "      <td>0</td>\n",
       "      <td>0.247125</td>\n",
       "      <td>1.42424</td>\n",
       "      <td>0.111614</td>\n",
       "      <td>0.247125</td>\n",
       "      <td>0.322085</td>\n",
       "      <td>0.397045</td>\n",
       "      <td>0.472005</td>\n",
       "      <td>0.546965</td>\n",
       "      <td>0.621925</td>\n",
       "      <td>...</td>\n",
       "      <td>1.14664</td>\n",
       "      <td>1.22160</td>\n",
       "      <td>1.29656</td>\n",
       "      <td>1.37152</td>\n",
       "      <td>1.44648</td>\n",
       "      <td>1.52144</td>\n",
       "      <td>1.59640</td>\n",
       "      <td>1.67136</td>\n",
       "      <td>0.247125</td>\n",
       "      <td>1.67136</td>\n",
       "    </tr>\n",
       "    <tr>\n",
       "      <th>6</th>\n",
       "      <td>0</td>\n",
       "      <td>0.187640</td>\n",
       "      <td>1.40263</td>\n",
       "      <td>0.146581</td>\n",
       "      <td>0.187640</td>\n",
       "      <td>0.261463</td>\n",
       "      <td>0.335285</td>\n",
       "      <td>0.409108</td>\n",
       "      <td>0.482931</td>\n",
       "      <td>0.556754</td>\n",
       "      <td>...</td>\n",
       "      <td>1.07351</td>\n",
       "      <td>1.14734</td>\n",
       "      <td>1.22116</td>\n",
       "      <td>1.29498</td>\n",
       "      <td>1.36881</td>\n",
       "      <td>1.44263</td>\n",
       "      <td>1.51645</td>\n",
       "      <td>1.59027</td>\n",
       "      <td>0.187640</td>\n",
       "      <td>1.59027</td>\n",
       "    </tr>\n",
       "  </tbody>\n",
       "</table>\n",
       "<p>5 rows × 26 columns</p>\n",
       "</div>"
      ],
      "text/plain": [
       "   lp__    beta.1   beta.2     sigma  linpred.1  linpred.2  linpred.3  \\\n",
       "2     0  0.221595  1.47993  0.140080   0.221595   0.299486   0.377377   \n",
       "3     0  0.213867  1.44866  0.150075   0.213867   0.290112   0.366357   \n",
       "4     0  0.171972  1.43864  0.121414   0.171972   0.247690   0.323408   \n",
       "5     0  0.247125  1.42424  0.111614   0.247125   0.322085   0.397045   \n",
       "6     0  0.187640  1.40263  0.146581   0.187640   0.261463   0.335285   \n",
       "\n",
       "   linpred.4  linpred.5  linpred.6    ...     linpred.13  linpred.14  \\\n",
       "2   0.455268   0.533160   0.611051    ...        1.15629     1.23418   \n",
       "3   0.442602   0.518847   0.595092    ...        1.12881     1.20505   \n",
       "4   0.399126   0.474844   0.550562    ...        1.08059     1.15631   \n",
       "5   0.472005   0.546965   0.621925    ...        1.14664     1.22160   \n",
       "6   0.409108   0.482931   0.556754    ...        1.07351     1.14734   \n",
       "\n",
       "   linpred.15  linpred.16  linpred.17  linpred.18  linpred.19  linpred.20  \\\n",
       "2     1.31207     1.38996     1.46785     1.54574     1.62363     1.70153   \n",
       "3     1.28130     1.35754     1.43379     1.51003     1.58628     1.66252   \n",
       "4     1.23202     1.30774     1.38346     1.45918     1.53490     1.61061   \n",
       "5     1.29656     1.37152     1.44648     1.52144     1.59640     1.67136   \n",
       "6     1.22116     1.29498     1.36881     1.44263     1.51645     1.59027   \n",
       "\n",
       "   y_pred.1  y_pred.2  \n",
       "2  0.221595   1.70153  \n",
       "3  0.213867   1.66252  \n",
       "4  0.171972   1.61061  \n",
       "5  0.247125   1.67136  \n",
       "6  0.187640   1.59027  \n",
       "\n",
       "[5 rows x 26 columns]"
      ]
     },
     "execution_count": 13,
     "metadata": {},
     "output_type": "execute_result"
    }
   ],
   "source": [
    "df.head()"
   ]
  },
  {
   "cell_type": "code",
   "execution_count": 14,
   "metadata": {},
   "outputs": [
    {
     "data": {
      "text/plain": [
       "array([[<matplotlib.axes._subplots.AxesSubplot object at 0x7f0f9e9a54d0>,\n",
       "        <matplotlib.axes._subplots.AxesSubplot object at 0x7f0f9e8b6210>]], dtype=object)"
      ]
     },
     "execution_count": 14,
     "metadata": {},
     "output_type": "execute_result"
    },
    {
     "data": {
      "image/png": "[encoded data removed]",
      "text/plain": [
       "<matplotlib.figure.Figure at 0x7f0f9e9cde90>"
      ]
     },
     "metadata": {},
     "output_type": "display_data"
    }
   ],
   "source": [
    "df[['beta.1', 'beta.2']].hist(bins=50)"
   ]
  },
  {
   "cell_type": "code",
   "execution_count": 15,
   "metadata": {},
   "outputs": [
    {
     "data": {
      "image/png": "[encoded data removed]",
      "text/plain": [
       "<matplotlib.figure.Figure at 0x7f0f9e84a490>"
      ]
     },
     "metadata": {},
     "output_type": "display_data"
    }
   ],
   "source": [
    "# Plot with generated values after Variational Bayes fit\n",
    "plt.plot(x, y, marker='.', linestyle='none')\n",
    "plt.plot(np.tile(new_x, (1, len(df))), df[['y_pred.1', 'y_pred.2']].T.values, alpha=0.005, c='k')\n",
    "plt.show()"
   ]
  },
  {
   "cell_type": "markdown",
   "metadata": {
    "collapsed": true
   },
   "source": [
    "# Edward\n",
    "Try to replicate Bayesian linear regression using Edward - see http://edwardlib.org/tutorials/supervised-regression"
   ]
  },
  {
   "cell_type": "code",
   "execution_count": 16,
   "metadata": {},
   "outputs": [],
   "source": [
    "Beta_ed = ed.models.Normal(loc=tf.zeros([2, 1]), scale=tf.ones([2, 1]))\n",
    "X_ed = X.astype(np.float32)\n",
    "y_ed = ed.models.Normal(loc=tf.matmul(X_ed, Beta_ed), scale=0.1)"
   ]
  },
  {
   "cell_type": "code",
   "execution_count": 17,
   "metadata": {
    "collapsed": true
   },
   "outputs": [],
   "source": [
    "# Different prior - doesn't seem to be a Cauchy distribution in Edward\n",
    "qBeta = ed.models.Normal(\n",
    "    loc=tf.Variable(tf.zeros([2, 1])), \n",
    "    scale=tf.nn.softplus(tf.Variable(tf.zeros([2, 1]))))"
   ]
  },
  {
   "cell_type": "code",
   "execution_count": 18,
   "metadata": {},
   "outputs": [],
   "source": [
    "inference = ed.KLqp({Beta_ed: qBeta}, data={y_ed: y})"
   ]
  },
  {
   "cell_type": "code",
   "execution_count": 19,
   "metadata": {},
   "outputs": [
    {
     "name": "stdout",
     "output_type": "stream",
     "text": [
      "10000/10000 [100%] ██████████████████████████████ Elapsed: 12s | Loss: -9.780\n"
     ]
    }
   ],
   "source": [
    "inference.run(n_samples=5, n_iter=10000)"
   ]
  },
  {
   "cell_type": "code",
   "execution_count": 28,
   "metadata": {},
   "outputs": [],
   "source": [
    "n_sample = 1000\n",
    "df_ed = pd.DataFrame(qBeta.sample(n_sample).eval().reshape((n_sample, -1)), columns=['beta.1', 'beta.2'])"
   ]
  },
  {
   "cell_type": "code",
   "execution_count": 30,
   "metadata": {},
   "outputs": [
    {
     "data": {
      "text/plain": [
       "array([[<matplotlib.axes._subplots.AxesSubplot object at 0x7f0f9948c150>,\n",
       "        <matplotlib.axes._subplots.AxesSubplot object at 0x7f0f992ed2d0>]], dtype=object)"
      ]
     },
     "execution_count": 30,
     "metadata": {},
     "output_type": "execute_result"
    },
    {
     "data": {
      "image/png": "[encoded data removed]",
      "text/plain": [
       "<matplotlib.figure.Figure at 0x7f0f994cb990>"
      ]
     },
     "metadata": {},
     "output_type": "display_data"
    }
   ],
   "source": [
    "df_ed[['beta.1', 'beta.2']].hist(bins=50)"
   ]
  },
  {
   "cell_type": "code",
   "execution_count": null,
   "metadata": {
    "collapsed": true
   },
   "outputs": [],
   "source": []
  }
 ],
 "metadata": {
  "kernelspec": {
   "display_name": "Python 2",
   "language": "python",
   "name": "python2"
  },
  "language_info": {
   "codemirror_mode": {
    "name": "ipython",
    "version": 2
   },
   "file_extension": ".py",
   "mimetype": "text/x-python",
   "name": "python",
   "nbconvert_exporter": "python",
   "pygments_lexer": "ipython2",
   "version": "2.7.14"
  }
 },
 "nbformat": 4,
 "nbformat_minor": 1
}
