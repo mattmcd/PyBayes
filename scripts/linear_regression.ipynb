{
 "cells": [
  {
   "cell_type": "code",
   "execution_count": 1,
   "metadata": {
    "collapsed": true
   },
   "outputs": [],
   "source": [
    "import pystan\n",
    "import numpy as np\n",
    "import pandas as pd\n",
    "import os\n",
    "import pickle\n",
    "import matplotlib.pyplot as plt\n",
    "import tensorflow as tf\n",
    "import edward as ed"
   ]
  },
  {
   "cell_type": "code",
   "execution_count": 2,
   "metadata": {
    "collapsed": true
   },
   "outputs": [],
   "source": [
    "%matplotlib inline"
   ]
  },
  {
   "cell_type": "code",
   "execution_count": 3,
   "metadata": {
    "collapsed": true
   },
   "outputs": [],
   "source": [
    "model_code = \"\"\"\n",
    "data {\n",
    "  int N; //the number of observations\n",
    "  int N2; //the size of the new_X matrix\n",
    "  int K; //the number of columns in the model matrix\n",
    "  vector[N] y; //the response\n",
    "  matrix[N,K] X; //the model matrix\n",
    "  matrix[N2,K] new_X; //the matrix for the predicted values\n",
    "}\n",
    "parameters {\n",
    "  vector[K] beta; //the regression parameters\n",
    "  real sigma; //the standard deviation\n",
    "}\n",
    "transformed parameters {\n",
    "  vector[N] linpred;\n",
    "  linpred = X*beta;\n",
    "}\n",
    "model {  \n",
    "  beta[1] ~ cauchy(0,10); //prior for the intercept following Gelman 2008\n",
    "\n",
    "  for(i in 2:K)\n",
    "   beta[i] ~ cauchy(0,2.5);//prior for the slopes following Gelman 2008\n",
    "  \n",
    "  y ~ normal(linpred,sigma);\n",
    "}\n",
    "generated quantities {\n",
    "  vector[N2] y_pred;\n",
    "  y_pred = new_X*beta; //the y values predicted by the model\n",
    "}\n",
    "\"\"\""
   ]
  },
  {
   "cell_type": "code",
   "execution_count": 4,
   "metadata": {
    "collapsed": true
   },
   "outputs": [],
   "source": [
    "model_name = 'linear_regression'\n",
    "pkl_file = model_name + '.pkl'\n",
    "\n",
    "if os.path.isfile(pkl_file):\n",
    "    # Reuse previously compiled model\n",
    "    sm = pickle.load(open(pkl_file, 'rb'))\n",
    "else:\n",
    "    # Compile and sample model\n",
    "    sm = pystan.StanModel(model_code=model_code, model_name=model_name)\n",
    "    with open(pkl_file, 'wb') as f:\n",
    "        pickle.dump(sm, f)"
   ]
  },
  {
   "cell_type": "code",
   "execution_count": 5,
   "metadata": {
    "collapsed": true
   },
   "outputs": [],
   "source": [
    "# Test data\n",
    "N = 20\n",
    "beta = np.array([0.2, 1.5]).reshape((-1,1))\n",
    "x = np.linspace(0, 1, N).reshape((-1, 1))\n",
    "X = np.column_stack([np.ones(x.shape), x])\n",
    "y = X.dot(beta) + np.random.normal(0, 0.1, size=N).reshape((-1, 1))"
   ]
  },
  {
   "cell_type": "code",
   "execution_count": 6,
   "metadata": {},
   "outputs": [
    {
     "data": {
      "text/plain": [
       "[<matplotlib.lines.Line2D at 0x7f3ad41b04d0>]"
      ]
     },
     "execution_count": 6,
     "metadata": {},
     "output_type": "execute_result"
    },
    {
     "data": {
      "image/png": "[encoded data removed]",
      "text/plain": [
       "<matplotlib.figure.Figure at 0x7f3ad85b2d90>"
      ]
     },
     "metadata": {},
     "output_type": "display_data"
    }
   ],
   "source": [
    "plt.plot(x, y, marker='.', linestyle='none')"
   ]
  },
  {
   "cell_type": "code",
   "execution_count": 7,
   "metadata": {
    "collapsed": true
   },
   "outputs": [],
   "source": [
    "# Plot fit\n",
    "N2 = 2\n",
    "new_x =  np.linspace(0, 1, N2).reshape((-1, 1))\n",
    "new_X = np.column_stack([np.ones(N2).reshape((-1, 1)), new_x])"
   ]
  },
  {
   "cell_type": "code",
   "execution_count": 8,
   "metadata": {
    "collapsed": true
   },
   "outputs": [],
   "source": [
    "data = {\n",
    "    'N': N,\n",
    "    'X': X,\n",
    "    'K': X.shape[1],\n",
    "    'y': y.flatten(), \n",
    "    'N2': N2,\n",
    "    'new_X': new_X\n",
    "}"
   ]
  },
  {
   "cell_type": "code",
   "execution_count": 9,
   "metadata": {
    "collapsed": true
   },
   "outputs": [],
   "source": [
    "res = sm.optimizing(data=data)"
   ]
  },
  {
   "cell_type": "code",
   "execution_count": 10,
   "metadata": {},
   "outputs": [
    {
     "data": {
      "image/png": "[encoded data removed]",
      "text/plain": [
       "<matplotlib.figure.Figure at 0x7f3ad4157c90>"
      ]
     },
     "metadata": {},
     "output_type": "display_data"
    }
   ],
   "source": [
    "# Plot MLE fit\n",
    "plt.plot(x, y, marker='.', linestyle='none')\n",
    "plt.plot(new_x, res['y_pred'])\n",
    "plt.show()"
   ]
  },
  {
   "cell_type": "code",
   "execution_count": 11,
   "metadata": {},
   "outputs": [
    {
     "name": "stderr",
     "output_type": "stream",
     "text": [
      "WARNING:pystan:Automatic Differentiation Variational Inference (ADVI) is an EXPERIMENTAL ALGORITHM.\n",
      "WARNING:pystan:ADVI samples may be found on the filesystem in the file `/tmp/tmpDdv_Kd/output.csv`\n"
     ]
    }
   ],
   "source": [
    "res_vb = sm.vb(data=data, pars=['beta', 'y_pred'])\n",
    "out_file = res_vb['args']['sample_file']\n",
    "df = pd.read_csv(out_file, comment='#').iloc[2:, :]"
   ]
  },
  {
   "cell_type": "code",
   "execution_count": 12,
   "metadata": {},
   "outputs": [
    {
     "data": {
      "text/html": [
       "<div>\n",
       "<style>\n",
       "    .dataframe thead tr:only-child th {\n",
       "        text-align: right;\n",
       "    }\n",
       "\n",
       "    .dataframe thead th {\n",
       "        text-align: left;\n",
       "    }\n",
       "\n",
       "    .dataframe tbody tr th {\n",
       "        vertical-align: top;\n",
       "    }\n",
       "</style>\n",
       "<table border=\"1\" class=\"dataframe\">\n",
       "  <thead>\n",
       "    <tr style=\"text-align: right;\">\n",
       "      <th></th>\n",
       "      <th>lp__</th>\n",
       "      <th>beta.1</th>\n",
       "      <th>beta.2</th>\n",
       "      <th>sigma</th>\n",
       "      <th>linpred.1</th>\n",
       "      <th>linpred.2</th>\n",
       "      <th>linpred.3</th>\n",
       "      <th>linpred.4</th>\n",
       "      <th>linpred.5</th>\n",
       "      <th>linpred.6</th>\n",
       "      <th>...</th>\n",
       "      <th>linpred.13</th>\n",
       "      <th>linpred.14</th>\n",
       "      <th>linpred.15</th>\n",
       "      <th>linpred.16</th>\n",
       "      <th>linpred.17</th>\n",
       "      <th>linpred.18</th>\n",
       "      <th>linpred.19</th>\n",
       "      <th>linpred.20</th>\n",
       "      <th>y_pred.1</th>\n",
       "      <th>y_pred.2</th>\n",
       "    </tr>\n",
       "  </thead>\n",
       "  <tbody>\n",
       "    <tr>\n",
       "      <th>count</th>\n",
       "      <td>999.0</td>\n",
       "      <td>999.000000</td>\n",
       "      <td>999.000000</td>\n",
       "      <td>999.000000</td>\n",
       "      <td>999.000000</td>\n",
       "      <td>999.000000</td>\n",
       "      <td>999.000000</td>\n",
       "      <td>999.000000</td>\n",
       "      <td>999.000000</td>\n",
       "      <td>999.000000</td>\n",
       "      <td>...</td>\n",
       "      <td>999.000000</td>\n",
       "      <td>999.000000</td>\n",
       "      <td>999.000000</td>\n",
       "      <td>999.000000</td>\n",
       "      <td>999.000000</td>\n",
       "      <td>999.000000</td>\n",
       "      <td>999.000000</td>\n",
       "      <td>999.000000</td>\n",
       "      <td>999.000000</td>\n",
       "      <td>999.000000</td>\n",
       "    </tr>\n",
       "    <tr>\n",
       "      <th>mean</th>\n",
       "      <td>0.0</td>\n",
       "      <td>0.248237</td>\n",
       "      <td>1.413918</td>\n",
       "      <td>0.276710</td>\n",
       "      <td>0.248237</td>\n",
       "      <td>0.322653</td>\n",
       "      <td>0.397070</td>\n",
       "      <td>0.471487</td>\n",
       "      <td>0.545903</td>\n",
       "      <td>0.620320</td>\n",
       "      <td>...</td>\n",
       "      <td>1.141237</td>\n",
       "      <td>1.215654</td>\n",
       "      <td>1.290071</td>\n",
       "      <td>1.364487</td>\n",
       "      <td>1.438904</td>\n",
       "      <td>1.513321</td>\n",
       "      <td>1.587738</td>\n",
       "      <td>1.662154</td>\n",
       "      <td>0.248237</td>\n",
       "      <td>1.662154</td>\n",
       "    </tr>\n",
       "    <tr>\n",
       "      <th>std</th>\n",
       "      <td>0.0</td>\n",
       "      <td>0.078315</td>\n",
       "      <td>0.131872</td>\n",
       "      <td>0.150637</td>\n",
       "      <td>0.078315</td>\n",
       "      <td>0.078422</td>\n",
       "      <td>0.079141</td>\n",
       "      <td>0.080454</td>\n",
       "      <td>0.082333</td>\n",
       "      <td>0.084740</td>\n",
       "      <td>...</td>\n",
       "      <td>0.112668</td>\n",
       "      <td>0.117758</td>\n",
       "      <td>0.123030</td>\n",
       "      <td>0.128460</td>\n",
       "      <td>0.134030</td>\n",
       "      <td>0.139723</td>\n",
       "      <td>0.145523</td>\n",
       "      <td>0.151420</td>\n",
       "      <td>0.078315</td>\n",
       "      <td>0.151420</td>\n",
       "    </tr>\n",
       "    <tr>\n",
       "      <th>min</th>\n",
       "      <td>0.0</td>\n",
       "      <td>-0.003841</td>\n",
       "      <td>0.915943</td>\n",
       "      <td>-0.230153</td>\n",
       "      <td>-0.003841</td>\n",
       "      <td>0.066752</td>\n",
       "      <td>0.129104</td>\n",
       "      <td>0.191456</td>\n",
       "      <td>0.253807</td>\n",
       "      <td>0.316159</td>\n",
       "      <td>...</td>\n",
       "      <td>0.752621</td>\n",
       "      <td>0.814972</td>\n",
       "      <td>0.877324</td>\n",
       "      <td>0.931818</td>\n",
       "      <td>0.984863</td>\n",
       "      <td>1.037910</td>\n",
       "      <td>1.090950</td>\n",
       "      <td>1.144000</td>\n",
       "      <td>-0.003841</td>\n",
       "      <td>1.144000</td>\n",
       "    </tr>\n",
       "    <tr>\n",
       "      <th>25%</th>\n",
       "      <td>0.0</td>\n",
       "      <td>0.196601</td>\n",
       "      <td>1.325075</td>\n",
       "      <td>0.174872</td>\n",
       "      <td>0.196601</td>\n",
       "      <td>0.271388</td>\n",
       "      <td>0.345764</td>\n",
       "      <td>0.419563</td>\n",
       "      <td>0.492305</td>\n",
       "      <td>0.564822</td>\n",
       "      <td>...</td>\n",
       "      <td>1.067380</td>\n",
       "      <td>1.136820</td>\n",
       "      <td>1.207695</td>\n",
       "      <td>1.278645</td>\n",
       "      <td>1.348935</td>\n",
       "      <td>1.420015</td>\n",
       "      <td>1.491150</td>\n",
       "      <td>1.561020</td>\n",
       "      <td>0.196601</td>\n",
       "      <td>1.561020</td>\n",
       "    </tr>\n",
       "    <tr>\n",
       "      <th>50%</th>\n",
       "      <td>0.0</td>\n",
       "      <td>0.248528</td>\n",
       "      <td>1.419840</td>\n",
       "      <td>0.269580</td>\n",
       "      <td>0.248528</td>\n",
       "      <td>0.321691</td>\n",
       "      <td>0.396606</td>\n",
       "      <td>0.470693</td>\n",
       "      <td>0.545711</td>\n",
       "      <td>0.620346</td>\n",
       "      <td>...</td>\n",
       "      <td>1.139220</td>\n",
       "      <td>1.215460</td>\n",
       "      <td>1.290090</td>\n",
       "      <td>1.365160</td>\n",
       "      <td>1.438510</td>\n",
       "      <td>1.512500</td>\n",
       "      <td>1.588120</td>\n",
       "      <td>1.663190</td>\n",
       "      <td>0.248528</td>\n",
       "      <td>1.663190</td>\n",
       "    </tr>\n",
       "    <tr>\n",
       "      <th>75%</th>\n",
       "      <td>0.0</td>\n",
       "      <td>0.302165</td>\n",
       "      <td>1.501550</td>\n",
       "      <td>0.376862</td>\n",
       "      <td>0.302165</td>\n",
       "      <td>0.376418</td>\n",
       "      <td>0.450848</td>\n",
       "      <td>0.526371</td>\n",
       "      <td>0.603460</td>\n",
       "      <td>0.679519</td>\n",
       "      <td>...</td>\n",
       "      <td>1.215055</td>\n",
       "      <td>1.293350</td>\n",
       "      <td>1.373265</td>\n",
       "      <td>1.451985</td>\n",
       "      <td>1.529320</td>\n",
       "      <td>1.605525</td>\n",
       "      <td>1.683945</td>\n",
       "      <td>1.762220</td>\n",
       "      <td>0.302165</td>\n",
       "      <td>1.762220</td>\n",
       "    </tr>\n",
       "    <tr>\n",
       "      <th>max</th>\n",
       "      <td>0.0</td>\n",
       "      <td>0.496061</td>\n",
       "      <td>1.854010</td>\n",
       "      <td>0.788685</td>\n",
       "      <td>0.496061</td>\n",
       "      <td>0.566389</td>\n",
       "      <td>0.636717</td>\n",
       "      <td>0.710322</td>\n",
       "      <td>0.788418</td>\n",
       "      <td>0.866514</td>\n",
       "      <td>...</td>\n",
       "      <td>1.513820</td>\n",
       "      <td>1.611400</td>\n",
       "      <td>1.708980</td>\n",
       "      <td>1.806560</td>\n",
       "      <td>1.904140</td>\n",
       "      <td>2.001720</td>\n",
       "      <td>2.099300</td>\n",
       "      <td>2.196880</td>\n",
       "      <td>0.496061</td>\n",
       "      <td>2.196880</td>\n",
       "    </tr>\n",
       "  </tbody>\n",
       "</table>\n",
       "<p>8 rows × 26 columns</p>\n",
       "</div>"
      ],
      "text/plain": [
       "        lp__      beta.1      beta.2       sigma   linpred.1   linpred.2  \\\n",
       "count  999.0  999.000000  999.000000  999.000000  999.000000  999.000000   \n",
       "mean     0.0    0.248237    1.413918    0.276710    0.248237    0.322653   \n",
       "std      0.0    0.078315    0.131872    0.150637    0.078315    0.078422   \n",
       "min      0.0   -0.003841    0.915943   -0.230153   -0.003841    0.066752   \n",
       "25%      0.0    0.196601    1.325075    0.174872    0.196601    0.271388   \n",
       "50%      0.0    0.248528    1.419840    0.269580    0.248528    0.321691   \n",
       "75%      0.0    0.302165    1.501550    0.376862    0.302165    0.376418   \n",
       "max      0.0    0.496061    1.854010    0.788685    0.496061    0.566389   \n",
       "\n",
       "        linpred.3   linpred.4   linpred.5   linpred.6     ...      linpred.13  \\\n",
       "count  999.000000  999.000000  999.000000  999.000000     ...      999.000000   \n",
       "mean     0.397070    0.471487    0.545903    0.620320     ...        1.141237   \n",
       "std      0.079141    0.080454    0.082333    0.084740     ...        0.112668   \n",
       "min      0.129104    0.191456    0.253807    0.316159     ...        0.752621   \n",
       "25%      0.345764    0.419563    0.492305    0.564822     ...        1.067380   \n",
       "50%      0.396606    0.470693    0.545711    0.620346     ...        1.139220   \n",
       "75%      0.450848    0.526371    0.603460    0.679519     ...        1.215055   \n",
       "max      0.636717    0.710322    0.788418    0.866514     ...        1.513820   \n",
       "\n",
       "       linpred.14  linpred.15  linpred.16  linpred.17  linpred.18  linpred.19  \\\n",
       "count  999.000000  999.000000  999.000000  999.000000  999.000000  999.000000   \n",
       "mean     1.215654    1.290071    1.364487    1.438904    1.513321    1.587738   \n",
       "std      0.117758    0.123030    0.128460    0.134030    0.139723    0.145523   \n",
       "min      0.814972    0.877324    0.931818    0.984863    1.037910    1.090950   \n",
       "25%      1.136820    1.207695    1.278645    1.348935    1.420015    1.491150   \n",
       "50%      1.215460    1.290090    1.365160    1.438510    1.512500    1.588120   \n",
       "75%      1.293350    1.373265    1.451985    1.529320    1.605525    1.683945   \n",
       "max      1.611400    1.708980    1.806560    1.904140    2.001720    2.099300   \n",
       "\n",
       "       linpred.20    y_pred.1    y_pred.2  \n",
       "count  999.000000  999.000000  999.000000  \n",
       "mean     1.662154    0.248237    1.662154  \n",
       "std      0.151420    0.078315    0.151420  \n",
       "min      1.144000   -0.003841    1.144000  \n",
       "25%      1.561020    0.196601    1.561020  \n",
       "50%      1.663190    0.248528    1.663190  \n",
       "75%      1.762220    0.302165    1.762220  \n",
       "max      2.196880    0.496061    2.196880  \n",
       "\n",
       "[8 rows x 26 columns]"
      ]
     },
     "execution_count": 12,
     "metadata": {},
     "output_type": "execute_result"
    }
   ],
   "source": [
    "df.describe()"
   ]
  },
  {
   "cell_type": "code",
   "execution_count": 13,
   "metadata": {},
   "outputs": [
    {
     "data": {
      "text/html": [
       "<div>\n",
       "<style>\n",
       "    .dataframe thead tr:only-child th {\n",
       "        text-align: right;\n",
       "    }\n",
       "\n",
       "    .dataframe thead th {\n",
       "        text-align: left;\n",
       "    }\n",
       "\n",
       "    .dataframe tbody tr th {\n",
       "        vertical-align: top;\n",
       "    }\n",
       "</style>\n",
       "<table border=\"1\" class=\"dataframe\">\n",
       "  <thead>\n",
       "    <tr style=\"text-align: right;\">\n",
       "      <th></th>\n",
       "      <th>lp__</th>\n",
       "      <th>beta.1</th>\n",
       "      <th>beta.2</th>\n",
       "      <th>sigma</th>\n",
       "      <th>linpred.1</th>\n",
       "      <th>linpred.2</th>\n",
       "      <th>linpred.3</th>\n",
       "      <th>linpred.4</th>\n",
       "      <th>linpred.5</th>\n",
       "      <th>linpred.6</th>\n",
       "      <th>...</th>\n",
       "      <th>linpred.13</th>\n",
       "      <th>linpred.14</th>\n",
       "      <th>linpred.15</th>\n",
       "      <th>linpred.16</th>\n",
       "      <th>linpred.17</th>\n",
       "      <th>linpred.18</th>\n",
       "      <th>linpred.19</th>\n",
       "      <th>linpred.20</th>\n",
       "      <th>y_pred.1</th>\n",
       "      <th>y_pred.2</th>\n",
       "    </tr>\n",
       "  </thead>\n",
       "  <tbody>\n",
       "    <tr>\n",
       "      <th>2</th>\n",
       "      <td>0</td>\n",
       "      <td>0.175881</td>\n",
       "      <td>1.61856</td>\n",
       "      <td>0.291169</td>\n",
       "      <td>0.175881</td>\n",
       "      <td>0.261068</td>\n",
       "      <td>0.346256</td>\n",
       "      <td>0.431444</td>\n",
       "      <td>0.516631</td>\n",
       "      <td>0.601819</td>\n",
       "      <td>...</td>\n",
       "      <td>1.19813</td>\n",
       "      <td>1.28332</td>\n",
       "      <td>1.36851</td>\n",
       "      <td>1.45369</td>\n",
       "      <td>1.53888</td>\n",
       "      <td>1.62407</td>\n",
       "      <td>1.70926</td>\n",
       "      <td>1.79444</td>\n",
       "      <td>0.175881</td>\n",
       "      <td>1.79444</td>\n",
       "    </tr>\n",
       "    <tr>\n",
       "      <th>3</th>\n",
       "      <td>0</td>\n",
       "      <td>0.165420</td>\n",
       "      <td>1.45026</td>\n",
       "      <td>0.467249</td>\n",
       "      <td>0.165420</td>\n",
       "      <td>0.241750</td>\n",
       "      <td>0.318079</td>\n",
       "      <td>0.394409</td>\n",
       "      <td>0.470738</td>\n",
       "      <td>0.547068</td>\n",
       "      <td>...</td>\n",
       "      <td>1.08137</td>\n",
       "      <td>1.15770</td>\n",
       "      <td>1.23403</td>\n",
       "      <td>1.31036</td>\n",
       "      <td>1.38669</td>\n",
       "      <td>1.46302</td>\n",
       "      <td>1.53935</td>\n",
       "      <td>1.61568</td>\n",
       "      <td>0.165420</td>\n",
       "      <td>1.61568</td>\n",
       "    </tr>\n",
       "    <tr>\n",
       "      <th>4</th>\n",
       "      <td>0</td>\n",
       "      <td>0.286881</td>\n",
       "      <td>1.42606</td>\n",
       "      <td>0.367377</td>\n",
       "      <td>0.286881</td>\n",
       "      <td>0.361937</td>\n",
       "      <td>0.436993</td>\n",
       "      <td>0.512049</td>\n",
       "      <td>0.587105</td>\n",
       "      <td>0.662161</td>\n",
       "      <td>...</td>\n",
       "      <td>1.18755</td>\n",
       "      <td>1.26261</td>\n",
       "      <td>1.33767</td>\n",
       "      <td>1.41272</td>\n",
       "      <td>1.48778</td>\n",
       "      <td>1.56283</td>\n",
       "      <td>1.63789</td>\n",
       "      <td>1.71295</td>\n",
       "      <td>0.286881</td>\n",
       "      <td>1.71295</td>\n",
       "    </tr>\n",
       "    <tr>\n",
       "      <th>5</th>\n",
       "      <td>0</td>\n",
       "      <td>0.313728</td>\n",
       "      <td>1.44436</td>\n",
       "      <td>0.146675</td>\n",
       "      <td>0.313728</td>\n",
       "      <td>0.389747</td>\n",
       "      <td>0.465766</td>\n",
       "      <td>0.541785</td>\n",
       "      <td>0.617803</td>\n",
       "      <td>0.693822</td>\n",
       "      <td>...</td>\n",
       "      <td>1.22595</td>\n",
       "      <td>1.30197</td>\n",
       "      <td>1.37799</td>\n",
       "      <td>1.45401</td>\n",
       "      <td>1.53003</td>\n",
       "      <td>1.60605</td>\n",
       "      <td>1.68207</td>\n",
       "      <td>1.75809</td>\n",
       "      <td>0.313728</td>\n",
       "      <td>1.75809</td>\n",
       "    </tr>\n",
       "    <tr>\n",
       "      <th>6</th>\n",
       "      <td>0</td>\n",
       "      <td>0.209218</td>\n",
       "      <td>1.45800</td>\n",
       "      <td>0.168183</td>\n",
       "      <td>0.209218</td>\n",
       "      <td>0.285954</td>\n",
       "      <td>0.362691</td>\n",
       "      <td>0.439428</td>\n",
       "      <td>0.516164</td>\n",
       "      <td>0.592901</td>\n",
       "      <td>...</td>\n",
       "      <td>1.13006</td>\n",
       "      <td>1.20679</td>\n",
       "      <td>1.28353</td>\n",
       "      <td>1.36027</td>\n",
       "      <td>1.43700</td>\n",
       "      <td>1.51374</td>\n",
       "      <td>1.59048</td>\n",
       "      <td>1.66721</td>\n",
       "      <td>0.209218</td>\n",
       "      <td>1.66721</td>\n",
       "    </tr>\n",
       "  </tbody>\n",
       "</table>\n",
       "<p>5 rows × 26 columns</p>\n",
       "</div>"
      ],
      "text/plain": [
       "   lp__    beta.1   beta.2     sigma  linpred.1  linpred.2  linpred.3  \\\n",
       "2     0  0.175881  1.61856  0.291169   0.175881   0.261068   0.346256   \n",
       "3     0  0.165420  1.45026  0.467249   0.165420   0.241750   0.318079   \n",
       "4     0  0.286881  1.42606  0.367377   0.286881   0.361937   0.436993   \n",
       "5     0  0.313728  1.44436  0.146675   0.313728   0.389747   0.465766   \n",
       "6     0  0.209218  1.45800  0.168183   0.209218   0.285954   0.362691   \n",
       "\n",
       "   linpred.4  linpred.5  linpred.6    ...     linpred.13  linpred.14  \\\n",
       "2   0.431444   0.516631   0.601819    ...        1.19813     1.28332   \n",
       "3   0.394409   0.470738   0.547068    ...        1.08137     1.15770   \n",
       "4   0.512049   0.587105   0.662161    ...        1.18755     1.26261   \n",
       "5   0.541785   0.617803   0.693822    ...        1.22595     1.30197   \n",
       "6   0.439428   0.516164   0.592901    ...        1.13006     1.20679   \n",
       "\n",
       "   linpred.15  linpred.16  linpred.17  linpred.18  linpred.19  linpred.20  \\\n",
       "2     1.36851     1.45369     1.53888     1.62407     1.70926     1.79444   \n",
       "3     1.23403     1.31036     1.38669     1.46302     1.53935     1.61568   \n",
       "4     1.33767     1.41272     1.48778     1.56283     1.63789     1.71295   \n",
       "5     1.37799     1.45401     1.53003     1.60605     1.68207     1.75809   \n",
       "6     1.28353     1.36027     1.43700     1.51374     1.59048     1.66721   \n",
       "\n",
       "   y_pred.1  y_pred.2  \n",
       "2  0.175881   1.79444  \n",
       "3  0.165420   1.61568  \n",
       "4  0.286881   1.71295  \n",
       "5  0.313728   1.75809  \n",
       "6  0.209218   1.66721  \n",
       "\n",
       "[5 rows x 26 columns]"
      ]
     },
     "execution_count": 13,
     "metadata": {},
     "output_type": "execute_result"
    }
   ],
   "source": [
    "df.head()"
   ]
  },
  {
   "cell_type": "code",
   "execution_count": 14,
   "metadata": {},
   "outputs": [
    {
     "data": {
      "text/plain": [
       "array([[<matplotlib.axes._subplots.AxesSubplot object at 0x7f3ad4081590>,\n",
       "        <matplotlib.axes._subplots.AxesSubplot object at 0x7f3ad3fb7c10>]], dtype=object)"
      ]
     },
     "execution_count": 14,
     "metadata": {},
     "output_type": "execute_result"
    },
    {
     "data": {
      "image/png": "[encoded data removed]",
      "text/plain": [
       "<matplotlib.figure.Figure at 0x7f3ad40ab250>"
      ]
     },
     "metadata": {},
     "output_type": "display_data"
    }
   ],
   "source": [
    "df[['beta.1', 'beta.2']].hist(bins=50)"
   ]
  },
  {
   "cell_type": "code",
   "execution_count": 15,
   "metadata": {},
   "outputs": [
    {
     "data": {
      "image/png": "[encoded data removed]",
      "text/plain": [
       "<matplotlib.figure.Figure at 0x7f3ad3f6ef10>"
      ]
     },
     "metadata": {},
     "output_type": "display_data"
    }
   ],
   "source": [
    "# Plot with generated values after Variational Bayes fit\n",
    "plt.plot(x, y, marker='.', linestyle='none')\n",
    "plt.plot(np.tile(new_x, (1, len(df))), df[['y_pred.1', 'y_pred.2']].T.values, alpha=0.005, c='k')\n",
    "plt.show()"
   ]
  },
  {
   "cell_type": "markdown",
   "metadata": {
    "collapsed": true
   },
   "source": [
    "# Edward\n",
    "Try to replicate Bayesian linear regression using Edward - see http://edwardlib.org/tutorials/supervised-regression"
   ]
  },
  {
   "cell_type": "code",
   "execution_count": 16,
   "metadata": {},
   "outputs": [],
   "source": [
    "Beta_ed = ed.models.Normal(loc=tf.zeros([2, 1]), scale=tf.ones([2, 1]))\n",
    "X_ed = tf.placeholder(tf.float32, [N, 2])  # X.astype(np.float32)\n",
    "y_ed = ed.models.Normal(loc=tf.matmul(X_ed, Beta_ed), scale=0.5)"
   ]
  },
  {
   "cell_type": "code",
   "execution_count": 17,
   "metadata": {
    "collapsed": true
   },
   "outputs": [],
   "source": [
    "# Different prior - doesn't seem to be a Cauchy distribution in Edward\n",
    "qBeta = ed.models.Normal(\n",
    "    loc=tf.Variable(tf.zeros([2, 1])), \n",
    "    scale=tf.nn.softplus(tf.Variable(tf.zeros([2, 1]))))"
   ]
  },
  {
   "cell_type": "code",
   "execution_count": 18,
   "metadata": {
    "collapsed": true
   },
   "outputs": [],
   "source": [
    "inference = ed.KLqp({Beta_ed: qBeta}, data={X_ed: X, y_ed: y})"
   ]
  },
  {
   "cell_type": "code",
   "execution_count": 19,
   "metadata": {},
   "outputs": [
    {
     "name": "stdout",
     "output_type": "stream",
     "text": [
      "1000/1000 [100%] ██████████████████████████████ Elapsed: 2s | Loss: 10.4260s | Loss:\n"
     ]
    }
   ],
   "source": [
    "inference.run()"
   ]
  },
  {
   "cell_type": "code",
   "execution_count": 20,
   "metadata": {
    "collapsed": true
   },
   "outputs": [],
   "source": [
    "n_sample = 1000\n",
    "df_ed = pd.DataFrame(qBeta.sample(n_sample).eval().reshape((n_sample, -1)), columns=['beta.1', 'beta.2'])"
   ]
  },
  {
   "cell_type": "code",
   "execution_count": 21,
   "metadata": {},
   "outputs": [
    {
     "data": {
      "image/png": "[encoded data removed]",
      "text/plain": [
       "<matplotlib.figure.Figure at 0x7f3accd14650>"
      ]
     },
     "metadata": {},
     "output_type": "display_data"
    }
   ],
   "source": [
    "df_ed[['beta.1', 'beta.2']].hist(bins=50)\n",
    "plt.show()"
   ]
  },
  {
   "cell_type": "code",
   "execution_count": 22,
   "metadata": {},
   "outputs": [
    {
     "data": {
      "image/png": "[encoded data removed]",
      "text/plain": [
       "<matplotlib.figure.Figure at 0x7f3ad3f4f910>"
      ]
     },
     "metadata": {},
     "output_type": "display_data"
    }
   ],
   "source": [
    "# Plot with generated values after Variational Bayes fit\n",
    "plt.plot(x, y, marker='.', linestyle='none')\n",
    "plt.plot(np.tile(new_x, (1, len(df_ed))), \n",
    "          new_X.dot(df_ed[['beta.1', 'beta.2']].values.T), alpha=0.005, c='k')\n",
    "plt.show()"
   ]
  },
  {
   "cell_type": "code",
   "execution_count": null,
   "metadata": {
    "collapsed": true
   },
   "outputs": [],
   "source": []
  }
 ],
 "metadata": {
  "kernelspec": {
   "display_name": "Python 2",
   "language": "python",
   "name": "python2"
  },
  "language_info": {
   "codemirror_mode": {
    "name": "ipython",
    "version": 2
   },
   "file_extension": ".py",
   "mimetype": "text/x-python",
   "name": "python",
   "nbconvert_exporter": "python",
   "pygments_lexer": "ipython2",
   "version": "2.7.14"
  }
 },
 "nbformat": 4,
 "nbformat_minor": 1
}
