{
 "cells": [
  {
   "cell_type": "markdown",
   "id": "39420412",
   "metadata": {},
   "source": [
    "# Journal 2022-09-27\n",
    "Going through [Differentiable Programming with JAX](https://ericmjl.github.io/dl-workshop/index.html) Tutorial"
   ]
  },
  {
   "cell_type": "code",
   "execution_count": 1,
   "id": "a91c2d89",
   "metadata": {},
   "outputs": [],
   "source": [
    "%load_ext autoreload\n",
    "%autoreload 2"
   ]
  },
  {
   "cell_type": "code",
   "execution_count": 2,
   "id": "c9cf3361",
   "metadata": {},
   "outputs": [],
   "source": [
    "from ipywidgets import interact, FloatSlider, fixed\n",
    "import numpy as np\n",
    "import jax.numpy as jnp\n",
    "import jax\n",
    "import matplotlib.pyplot as plt\n",
    "import seaborn as sns"
   ]
  },
  {
   "cell_type": "code",
   "execution_count": 3,
   "id": "87b0f541",
   "metadata": {},
   "outputs": [],
   "source": [
    "from journal_20220927 import (\n",
    "    LinearModel, NoisyMeasurement, mse, LogisticModel\n",
    ")"
   ]
  },
  {
   "cell_type": "code",
   "execution_count": 4,
   "id": "48e09fb3",
   "metadata": {},
   "outputs": [],
   "source": [
    "generator_model = NoisyMeasurement(model=LinearModel())"
   ]
  },
  {
   "cell_type": "code",
   "execution_count": 5,
   "id": "105797fa",
   "metadata": {},
   "outputs": [],
   "source": [
    "x = np.linspace(-5., 5., 100)\n",
    "y = generator_model(x)"
   ]
  },
  {
   "cell_type": "code",
   "execution_count": 6,
   "id": "d7a12606",
   "metadata": {},
   "outputs": [
    {
     "data": {
      "image/png": "[encoded data removed]",
      "text/plain": [
       "<Figure size 432x288 with 1 Axes>"
      ]
     },
     "metadata": {
      "needs_background": "light"
     },
     "output_type": "display_data"
    }
   ],
   "source": [
    "fig, ax = plt.subplots()\n",
    "_  = ax.scatter(x, y)"
   ]
  },
  {
   "cell_type": "code",
   "execution_count": null,
   "id": "a7db6d0e",
   "metadata": {},
   "outputs": [],
   "source": []
  },
  {
   "cell_type": "code",
   "execution_count": 7,
   "id": "f3d86a46",
   "metadata": {},
   "outputs": [],
   "source": [
    "class Plotter:\n",
    "    def __init__(self, x, y, model, loss):\n",
    "        self.x = x\n",
    "        self.y = y\n",
    "        self.model = model\n",
    "        self.loss = loss\n",
    "        \n",
    "    def plot(self, w, b):\n",
    "        fig, ax = plt.subplots()\n",
    "        _  = ax.scatter(self.x, self.y)\n",
    "        y_pred = self.model(params={'w': w, 'b': b})(self.x)\n",
    "        _ = ax.plot(self.x, y_pred, c='r')\n",
    "        _ = ax.set_title(f'Loss: {self.loss(y, y_pred):0.2f}')"
   ]
  },
  {
   "cell_type": "code",
   "execution_count": 8,
   "id": "a888e10b",
   "metadata": {},
   "outputs": [],
   "source": [
    "plotter_linear = Plotter(x, y, LinearModel, mse)"
   ]
  },
  {
   "cell_type": "code",
   "execution_count": 9,
   "id": "7d207810",
   "metadata": {},
   "outputs": [
    {
     "name": "stderr",
     "output_type": "stream",
     "text": [
      "WARNING:absl:No GPU/TPU found, falling back to CPU. (Set TF_CPP_MIN_LOG_LEVEL=0 and rerun for more info.)\n"
     ]
    },
    {
     "data": {
      "image/png": "[encoded data removed]",
      "text/plain": [
       "<Figure size 432x288 with 1 Axes>"
      ]
     },
     "metadata": {
      "needs_background": "light"
     },
     "output_type": "display_data"
    }
   ],
   "source": [
    "plotter_linear.plot(1., 0.)"
   ]
  },
  {
   "cell_type": "code",
   "execution_count": 10,
   "id": "d3da2bec",
   "metadata": {},
   "outputs": [
    {
     "data": {
      "application/vnd.jupyter.widget-view+json": {
       "model_id": "ba03c06659d547e5b66ca1a19e58325f",
       "version_major": 2,
       "version_minor": 0
      },
      "text/plain": [
       "interactive(children=(FloatSlider(value=0.0, description='w', max=10.0, min=-10.0), FloatSlider(value=0.0, des…"
      ]
     },
     "metadata": {},
     "output_type": "display_data"
    }
   ],
   "source": [
    "_ = interact(\n",
    "    plotter_linear.plot, \n",
    "    w=FloatSlider(value=0., min=-10, max=10.),\n",
    "    b=FloatSlider(value=0., min=-10, max=10.),\n",
    ")"
   ]
  },
  {
   "cell_type": "code",
   "execution_count": 11,
   "id": "8bbc0885",
   "metadata": {},
   "outputs": [
    {
     "data": {
      "text/plain": [
       "{'w': -5.349637851536673, 'b': -7.526005274996404}"
      ]
     },
     "execution_count": 11,
     "metadata": {},
     "output_type": "execute_result"
    }
   ],
   "source": [
    "generator_model.params"
   ]
  },
  {
   "cell_type": "markdown",
   "id": "42779a4c",
   "metadata": {},
   "source": [
    "Use JAX autodiff to get gradient of loss function and optimize parameters "
   ]
  },
  {
   "cell_type": "code",
   "execution_count": 12,
   "id": "11c71e7d",
   "metadata": {},
   "outputs": [],
   "source": [
    "@jax.jit\n",
    "def loss(params, x, y):\n",
    "    return mse(y, LinearModel(params)(x))"
   ]
  },
  {
   "cell_type": "code",
   "execution_count": 13,
   "id": "816ff6e9",
   "metadata": {},
   "outputs": [
    {
     "data": {
      "text/plain": [
       "{'b': DeviceArray(15.26967, dtype=float32, weak_type=True),\n",
       " 'w': DeviceArray(110.67938, dtype=float32, weak_type=True)}"
      ]
     },
     "execution_count": 13,
     "metadata": {},
     "output_type": "execute_result"
    }
   ],
   "source": [
    "jax.grad(loss)({'w': 1., 'b': 0.}, x, y)"
   ]
  },
  {
   "cell_type": "code",
   "execution_count": 14,
   "id": "bfa6b054",
   "metadata": {},
   "outputs": [
    {
     "name": "stdout",
     "output_type": "stream",
     "text": [
      "Fit w: -5.50  (Actual: -5.35)\n",
      "Fit b: -7.55  (Actual: -7.53)\n"
     ]
    },
    {
     "data": {
      "image/png": "[encoded data removed]",
      "text/plain": [
       "<Figure size 432x288 with 1 Axes>"
      ]
     },
     "metadata": {
      "needs_background": "light"
     },
     "output_type": "display_data"
    }
   ],
   "source": [
    "params = {'w': 1., 'b': 0.}\n",
    "lr = 0.1  # Learning Rate\n",
    "losses = []\n",
    "for i in range(20):\n",
    "    loss_val, d_params = jax.value_and_grad(loss)(params, x, y)\n",
    "    losses.append(loss_val)\n",
    "    params = {k: v - lr*d_params[k] for k, v in params.items()}\n",
    "plotter_linear.plot(params['w'], params['b'])\n",
    "print(f'Fit w: {params[\"w\"]:.2f}  (Actual: {generator_model.params[\"w\"]:.2f})')\n",
    "print(f'Fit b: {params[\"b\"]:.2f}  (Actual: {generator_model.params[\"b\"]:.2f})')"
   ]
  },
  {
   "cell_type": "code",
   "execution_count": 15,
   "id": "0c0f8c0a",
   "metadata": {},
   "outputs": [
    {
     "data": {
      "image/png": "[encoded data removed]",
      "text/plain": [
       "<Figure size 432x288 with 1 Axes>"
      ]
     },
     "metadata": {
      "needs_background": "light"
     },
     "output_type": "display_data"
    }
   ],
   "source": [
    "_ = plt.plot(losses)"
   ]
  },
  {
   "cell_type": "markdown",
   "id": "c49e82e6",
   "metadata": {},
   "source": [
    "Play with CVXPY "
   ]
  },
  {
   "cell_type": "code",
   "execution_count": 16,
   "id": "acd0bf0d",
   "metadata": {},
   "outputs": [],
   "source": [
    "import cvxpy as cp\n",
    "from cvxpylayers.jax import CvxpyLayer "
   ]
  },
  {
   "cell_type": "code",
   "execution_count": 17,
   "id": "41e6cac9",
   "metadata": {},
   "outputs": [
    {
     "data": {
      "text/plain": [
       "18.75417600582522"
      ]
     },
     "execution_count": 17,
     "metadata": {},
     "output_type": "execute_result"
    }
   ],
   "source": [
    "theta = cp.Variable(2)\n",
    "objective = cp.Minimize(cp.norm2(y - (theta[0]*x + theta[1])))\n",
    "problem = cp.Problem(objective)\n",
    "problem.solve()"
   ]
  },
  {
   "cell_type": "code",
   "execution_count": 18,
   "id": "92c2c137",
   "metadata": {},
   "outputs": [
    {
     "data": {
      "text/plain": [
       "array([-5.50926313, -7.6348353 ])"
      ]
     },
     "execution_count": 18,
     "metadata": {},
     "output_type": "execute_result"
    }
   ],
   "source": [
    "theta.value"
   ]
  },
  {
   "cell_type": "code",
   "execution_count": 19,
   "id": "8cfe06b8",
   "metadata": {},
   "outputs": [
    {
     "data": {
      "text/plain": [
       "3.5171911765747037"
      ]
     },
     "execution_count": 19,
     "metadata": {},
     "output_type": "execute_result"
    }
   ],
   "source": [
    "problem.value**2/100  # min MSE"
   ]
  },
  {
   "cell_type": "markdown",
   "id": "b548e726",
   "metadata": {},
   "source": [
    "## Logistic Regression"
   ]
  },
  {
   "cell_type": "code",
   "execution_count": 20,
   "id": "1c36d35c",
   "metadata": {},
   "outputs": [],
   "source": [
    "logistic_generator_model = LogisticModel(\n",
    "    model=NoisyMeasurement(\n",
    "        params={'loc': 0., 'scale': 0.5},\n",
    "        model=LinearModel({'w': 2., 'b': 1}))\n",
    ")"
   ]
  },
  {
   "cell_type": "code",
   "execution_count": 21,
   "id": "e9ea2565",
   "metadata": {},
   "outputs": [],
   "source": [
    "y_logistic = logistic_generator_model(x)"
   ]
  },
  {
   "cell_type": "code",
   "execution_count": 22,
   "id": "54922cdb",
   "metadata": {},
   "outputs": [],
   "source": [
    "logistic_pred_model = LogisticModel(LinearModel())"
   ]
  },
  {
   "cell_type": "code",
   "execution_count": 23,
   "id": "effcbc30",
   "metadata": {},
   "outputs": [],
   "source": [
    "def cross_entropy(y_true, y_pred):\n",
    "    return -jnp.sum(\n",
    "        y_true * jnp.log(y_pred) \n",
    "        + (1 - y_true) * jnp.log(1 - y_pred)\n",
    "    )"
   ]
  },
  {
   "cell_type": "code",
   "execution_count": 24,
   "id": "000658b5",
   "metadata": {},
   "outputs": [],
   "source": [
    "plotter_logistic = Plotter(x, y_logistic, LogisticModel, cross_entropy)"
   ]
  },
  {
   "cell_type": "code",
   "execution_count": 25,
   "id": "71a3a7df",
   "metadata": {},
   "outputs": [
    {
     "data": {
      "application/vnd.jupyter.widget-view+json": {
       "model_id": "bb4ae4bb358246bfa5bdc3fc690a7cd5",
       "version_major": 2,
       "version_minor": 0
      },
      "text/plain": [
       "interactive(children=(FloatSlider(value=0.0, description='w', max=10.0, min=-10.0), FloatSlider(value=0.0, des…"
      ]
     },
     "metadata": {},
     "output_type": "display_data"
    }
   ],
   "source": [
    "_ = interact(\n",
    "    plotter_logistic.plot, \n",
    "    w=FloatSlider(value=0., min=-10, max=10.),\n",
    "    b=FloatSlider(value=0., min=-10, max=10.),\n",
    ")"
   ]
  },
  {
   "cell_type": "code",
   "execution_count": 26,
   "id": "ed4b6853",
   "metadata": {},
   "outputs": [],
   "source": [
    "def loss_ce(params, x, y):\n",
    "    return cross_entropy(y, LogisticModel(params)(x))"
   ]
  },
  {
   "cell_type": "code",
   "execution_count": 27,
   "id": "64ce37fb",
   "metadata": {},
   "outputs": [
    {
     "name": "stdout",
     "output_type": "stream",
     "text": [
      "Fit w: 1.88  (Actual: 2.00)\n",
      "Fit b: 0.84  (Actual: 1.00)\n"
     ]
    },
    {
     "data": {
      "image/png": "[encoded data removed]",
      "text/plain": [
       "<Figure size 432x288 with 1 Axes>"
      ]
     },
     "metadata": {
      "needs_background": "light"
     },
     "output_type": "display_data"
    }
   ],
   "source": [
    "params = {'w': 1., 'b': 0.}\n",
    "lr = 0.1  # Learning Rate\n",
    "losses = []\n",
    "for i in range(20):\n",
    "    loss_val, d_params = jax.value_and_grad(loss_ce)(params, x, y_logistic)\n",
    "    losses.append(loss_val)\n",
    "    params = {k: v - lr*d_params[k] for k, v in params.items()}\n",
    "plotter_logistic.plot(params['w'], params['b'])\n",
    "print(f'Fit w: {params[\"w\"]:.2f}  (Actual: {logistic_generator_model.params[\"w\"]:.2f})')\n",
    "print(f'Fit b: {params[\"b\"]:.2f}  (Actual: {logistic_generator_model.params[\"b\"]:.2f})')"
   ]
  },
  {
   "cell_type": "code",
   "execution_count": 28,
   "id": "f30c973f",
   "metadata": {},
   "outputs": [
    {
     "data": {
      "image/png": "[encoded data removed]",
      "text/plain": [
       "<Figure size 432x288 with 1 Axes>"
      ]
     },
     "metadata": {
      "needs_background": "light"
     },
     "output_type": "display_data"
    }
   ],
   "source": [
    "_ = plt.plot(losses)"
   ]
  },
  {
   "cell_type": "code",
   "execution_count": 29,
   "id": "807ed229",
   "metadata": {},
   "outputs": [
    {
     "data": {
      "text/plain": [
       "{'w': 2.0, 'b': 1}"
      ]
     },
     "execution_count": 29,
     "metadata": {},
     "output_type": "execute_result"
    }
   ],
   "source": [
    "logistic_generator_model.params"
   ]
  },
  {
   "cell_type": "code",
   "execution_count": null,
   "id": "65359662",
   "metadata": {},
   "outputs": [],
   "source": []
  }
 ],
 "metadata": {
  "kernelspec": {
   "display_name": "Python 3",
   "language": "python",
   "name": "python3"
  },
  "language_info": {
   "codemirror_mode": {
    "name": "ipython",
    "version": 3
   },
   "file_extension": ".py",
   "mimetype": "text/x-python",
   "name": "python",
   "nbconvert_exporter": "python",
   "pygments_lexer": "ipython3",
   "version": "3.8.14"
  }
 },
 "nbformat": 4,
 "nbformat_minor": 5
}
