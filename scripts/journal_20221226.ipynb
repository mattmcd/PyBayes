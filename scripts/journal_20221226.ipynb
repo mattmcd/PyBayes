{
 "cells": [
  {
   "cell_type": "markdown",
   "source": [
    "# Journal 2022-12-26\n",
    "Playing around with a few things over the Christmas holidays."
   ],
   "metadata": {
    "collapsed": false
   }
  },
  {
   "cell_type": "code",
   "execution_count": 1,
   "metadata": {
    "collapsed": true
   },
   "outputs": [],
   "source": [
    "%load_ext autoreload\n",
    "%autoreload 2"
   ]
  },
  {
   "cell_type": "code",
   "execution_count": 2,
   "outputs": [],
   "source": [
    "import numpy as np\n",
    "import pandas as pd\n",
    "from scipy.sparse import coo_matrix\n",
    "import matplotlib.pyplot as plt\n",
    "import seaborn as sns\n",
    "from sqlalchemy import (create_engine, MetaData, Table, Column, select, func, case, and_, or_, bindparam, literal)\n",
    "import tensorflow as tf\n",
    "import tensorflow_probability as tfp\n",
    "tfd = tfp.distributions\n",
    "tfb = tfp.bijectors\n",
    "import sympy as sp"
   ],
   "metadata": {
    "collapsed": false
   }
  },
  {
   "cell_type": "markdown",
   "source": [
    "# Matrix Multiplication in SQL\n",
    "Representing matrix multiplication as SQL statements.  Generalize to more operations?"
   ],
   "metadata": {
    "collapsed": false
   }
  },
  {
   "cell_type": "code",
   "execution_count": 3,
   "outputs": [],
   "source": [
    "engine = create_engine('sqlite:///:memory')"
   ],
   "metadata": {
    "collapsed": false
   }
  },
  {
   "cell_type": "code",
   "execution_count": 4,
   "outputs": [],
   "source": [
    "metadata = MetaData()"
   ],
   "metadata": {
    "collapsed": false
   }
  },
  {
   "cell_type": "code",
   "execution_count": 5,
   "outputs": [],
   "source": [
    "a = np.random.randn(3, 2)\n",
    "b = np.random.randn(2, 5)"
   ],
   "metadata": {
    "collapsed": false
   }
  },
  {
   "cell_type": "code",
   "execution_count": 6,
   "outputs": [
    {
     "data": {
      "text/plain": "array([[ 0.5620373 ,  0.72110803, -0.77081704,  0.17534859, -1.00891196],\n       [ 2.23274874,  2.03398181, -2.55964766,  2.42443556, -3.49059107],\n       [-3.17409347, -3.41992757,  3.95845544, -2.34751396,  5.29137769]])"
     },
     "execution_count": 6,
     "metadata": {},
     "output_type": "execute_result"
    }
   ],
   "source": [
    "a @ b"
   ],
   "metadata": {
    "collapsed": false
   }
  },
  {
   "cell_type": "code",
   "execution_count": 7,
   "outputs": [],
   "source": [
    "def to_df(a):\n",
    "    \"\"\"Convert matrix to pandas DataFrame\n",
    "\n",
    "    :param a: numpy matrix\n",
    "    :return: pandas DataFrame with columns row, col, value i.e. sparse COO format\n",
    "    \"\"\"\n",
    "    sp_a = coo_matrix(a)\n",
    "    df_a = pd.DataFrame({'row': sp_a.row, 'col': sp_a.col, 'value': sp_a.data})\n",
    "    return df_a"
   ],
   "metadata": {
    "collapsed": false
   }
  },
  {
   "cell_type": "code",
   "execution_count": 8,
   "outputs": [],
   "source": [
    "df_a = to_df(a)\n",
    "df_b = to_df(b)"
   ],
   "metadata": {
    "collapsed": false
   }
  },
  {
   "cell_type": "code",
   "execution_count": 9,
   "outputs": [],
   "source": [
    "# Matrix multiplication: step 1 create intermediate matrix (with repeated elements at same row, col index) by scalar multiplication of elements\n",
    "df_m = pd.merge(df_a, df_b, left_on=df_a.col, right_on=df_b.row).assign(value=lambda x: x['value_x'] * x['value_y'])"
   ],
   "metadata": {
    "collapsed": false
   }
  },
  {
   "cell_type": "code",
   "execution_count": 10,
   "outputs": [
    {
     "data": {
      "text/plain": "(6, (3, 2), 10, (2, 5), 30)"
     },
     "execution_count": 10,
     "metadata": {},
     "output_type": "execute_result"
    }
   ],
   "source": [
    "len(df_a), a.shape, len(df_b), b.shape, len(df_m)"
   ],
   "metadata": {
    "collapsed": false
   }
  },
  {
   "cell_type": "code",
   "execution_count": 11,
   "outputs": [
    {
     "data": {
      "text/plain": "col_y         0         1         2         3         4\nrow_x                                                  \n0      0.562037  0.721108 -0.770817  0.175349 -1.008912\n1      2.232749  2.033982 -2.559648  2.424436 -3.490591\n2     -3.174093 -3.419928  3.958455 -2.347514  5.291378",
      "text/html": "<div>\n<style scoped>\n    .dataframe tbody tr th:only-of-type {\n        vertical-align: middle;\n    }\n\n    .dataframe tbody tr th {\n        vertical-align: top;\n    }\n\n    .dataframe thead th {\n        text-align: right;\n    }\n</style>\n<table border=\"1\" class=\"dataframe\">\n  <thead>\n    <tr style=\"text-align: right;\">\n      <th>col_y</th>\n      <th>0</th>\n      <th>1</th>\n      <th>2</th>\n      <th>3</th>\n      <th>4</th>\n    </tr>\n    <tr>\n      <th>row_x</th>\n      <th></th>\n      <th></th>\n      <th></th>\n      <th></th>\n      <th></th>\n    </tr>\n  </thead>\n  <tbody>\n    <tr>\n      <th>0</th>\n      <td>0.562037</td>\n      <td>0.721108</td>\n      <td>-0.770817</td>\n      <td>0.175349</td>\n      <td>-1.008912</td>\n    </tr>\n    <tr>\n      <th>1</th>\n      <td>2.232749</td>\n      <td>2.033982</td>\n      <td>-2.559648</td>\n      <td>2.424436</td>\n      <td>-3.490591</td>\n    </tr>\n    <tr>\n      <th>2</th>\n      <td>-3.174093</td>\n      <td>-3.419928</td>\n      <td>3.958455</td>\n      <td>-2.347514</td>\n      <td>5.291378</td>\n    </tr>\n  </tbody>\n</table>\n</div>"
     },
     "execution_count": 11,
     "metadata": {},
     "output_type": "execute_result"
    }
   ],
   "source": [
    "# Step 2 sum reduction of elements with same row, col index\n",
    "df_m.groupby(['row_x', 'col_y'])['value'].sum().unstack()"
   ],
   "metadata": {
    "collapsed": false
   }
  },
  {
   "cell_type": "code",
   "execution_count": 12,
   "outputs": [
    {
     "data": {
      "text/plain": "array([[ 0.5620373 ,  0.72110803, -0.77081704,  0.17534859, -1.00891196],\n       [ 2.23274874,  2.03398181, -2.55964766,  2.42443556, -3.49059107],\n       [-3.17409347, -3.41992757,  3.95845544, -2.34751396,  5.29137769]])"
     },
     "execution_count": 12,
     "metadata": {},
     "output_type": "execute_result"
    }
   ],
   "source": [
    "# Check\n",
    "a @ b"
   ],
   "metadata": {
    "collapsed": false
   }
  },
  {
   "cell_type": "code",
   "execution_count": 13,
   "outputs": [
    {
     "data": {
      "text/plain": "col_y         0         1         2         3         4\nrow_x                                                  \n0      0.562037  0.721108 -0.770817  0.175349 -1.008912\n1      2.232749  2.033982 -2.559648  2.424436 -3.490591\n2     -3.174093 -3.419928  3.958455 -2.347514  5.291378",
      "text/html": "<div>\n<style scoped>\n    .dataframe tbody tr th:only-of-type {\n        vertical-align: middle;\n    }\n\n    .dataframe tbody tr th {\n        vertical-align: top;\n    }\n\n    .dataframe thead th {\n        text-align: right;\n    }\n</style>\n<table border=\"1\" class=\"dataframe\">\n  <thead>\n    <tr style=\"text-align: right;\">\n      <th>col_y</th>\n      <th>0</th>\n      <th>1</th>\n      <th>2</th>\n      <th>3</th>\n      <th>4</th>\n    </tr>\n    <tr>\n      <th>row_x</th>\n      <th></th>\n      <th></th>\n      <th></th>\n      <th></th>\n      <th></th>\n    </tr>\n  </thead>\n  <tbody>\n    <tr>\n      <th>0</th>\n      <td>0.562037</td>\n      <td>0.721108</td>\n      <td>-0.770817</td>\n      <td>0.175349</td>\n      <td>-1.008912</td>\n    </tr>\n    <tr>\n      <th>1</th>\n      <td>2.232749</td>\n      <td>2.033982</td>\n      <td>-2.559648</td>\n      <td>2.424436</td>\n      <td>-3.490591</td>\n    </tr>\n    <tr>\n      <th>2</th>\n      <td>-3.174093</td>\n      <td>-3.419928</td>\n      <td>3.958455</td>\n      <td>-2.347514</td>\n      <td>5.291378</td>\n    </tr>\n  </tbody>\n</table>\n</div>"
     },
     "execution_count": 13,
     "metadata": {},
     "output_type": "execute_result"
    }
   ],
   "source": [
    "# Same result using pivot table\n",
    "df_m.pivot_table(index='row_x', columns='col_y', values='value', aggfunc='sum')"
   ],
   "metadata": {
    "collapsed": false
   }
  },
  {
   "cell_type": "markdown",
   "source": [
    "Note that we can generalize matrix multiplication by:\n",
    "\n",
    "* replacing scalar operation `*` in creation of `df_m` by another operation (does it have to be commutative?)\n",
    "* replacing the `sum` aggregation with another aggregation e.g. mean (median?)"
   ],
   "metadata": {
    "collapsed": false
   }
  },
  {
   "cell_type": "markdown",
   "source": [
    "## SQL Version"
   ],
   "metadata": {
    "collapsed": false
   }
  },
  {
   "cell_type": "code",
   "execution_count": 14,
   "outputs": [],
   "source": [
    "_ = df_a.to_sql('a', engine, if_exists='replace')\n",
    "_ = df_b.to_sql('b', engine, if_exists='replace')"
   ],
   "metadata": {
    "collapsed": false
   }
  },
  {
   "cell_type": "code",
   "execution_count": 15,
   "outputs": [],
   "source": [
    "tb_a = Table('a', metadata, autoload_with=engine)\n",
    "tb_b = Table('b', metadata, autoload_with=engine)"
   ],
   "metadata": {
    "collapsed": false
   }
  },
  {
   "cell_type": "code",
   "execution_count": 16,
   "outputs": [],
   "source": [
    "tb_m = select(\n",
    "    [\n",
    "        tb_a.c.row,\n",
    "        tb_b.c.col,\n",
    "        func.sum(tb_a.c.value * tb_b.c.value).label('value')\n",
    "    ]\n",
    ").select_from(\n",
    "    tb_a.join(tb_b, tb_a.c.col == tb_b.c.row)\n",
    ").group_by(\n",
    "    tb_a.c.row, tb_b.c.col\n",
    ").cte('mat_mul')"
   ],
   "metadata": {
    "collapsed": false
   }
  },
  {
   "cell_type": "code",
   "execution_count": 17,
   "outputs": [
    {
     "data": {
      "text/plain": "        value                                        \ncol         0         1         2         3         4\nrow                                                  \n0    0.562037  0.721108 -0.770817  0.175349 -1.008912\n1    2.232749  2.033982 -2.559648  2.424436 -3.490591\n2   -3.174093 -3.419928  3.958455 -2.347514  5.291378",
      "text/html": "<div>\n<style scoped>\n    .dataframe tbody tr th:only-of-type {\n        vertical-align: middle;\n    }\n\n    .dataframe tbody tr th {\n        vertical-align: top;\n    }\n\n    .dataframe thead tr th {\n        text-align: left;\n    }\n\n    .dataframe thead tr:last-of-type th {\n        text-align: right;\n    }\n</style>\n<table border=\"1\" class=\"dataframe\">\n  <thead>\n    <tr>\n      <th></th>\n      <th colspan=\"5\" halign=\"left\">value</th>\n    </tr>\n    <tr>\n      <th>col</th>\n      <th>0</th>\n      <th>1</th>\n      <th>2</th>\n      <th>3</th>\n      <th>4</th>\n    </tr>\n    <tr>\n      <th>row</th>\n      <th></th>\n      <th></th>\n      <th></th>\n      <th></th>\n      <th></th>\n    </tr>\n  </thead>\n  <tbody>\n    <tr>\n      <th>0</th>\n      <td>0.562037</td>\n      <td>0.721108</td>\n      <td>-0.770817</td>\n      <td>0.175349</td>\n      <td>-1.008912</td>\n    </tr>\n    <tr>\n      <th>1</th>\n      <td>2.232749</td>\n      <td>2.033982</td>\n      <td>-2.559648</td>\n      <td>2.424436</td>\n      <td>-3.490591</td>\n    </tr>\n    <tr>\n      <th>2</th>\n      <td>-3.174093</td>\n      <td>-3.419928</td>\n      <td>3.958455</td>\n      <td>-2.347514</td>\n      <td>5.291378</td>\n    </tr>\n  </tbody>\n</table>\n</div>"
     },
     "execution_count": 17,
     "metadata": {},
     "output_type": "execute_result"
    }
   ],
   "source": [
    "pd.read_sql(select(tb_m), engine).set_index(['row', 'col']).unstack()"
   ],
   "metadata": {
    "collapsed": false
   }
  },
  {
   "cell_type": "markdown",
   "source": [
    "# Tensorflow Probability"
   ],
   "metadata": {
    "collapsed": false
   }
  },
  {
   "cell_type": "code",
   "execution_count": 18,
   "outputs": [],
   "source": [
    "x = tfd.Normal(loc=0., scale=1.)"
   ],
   "metadata": {
    "collapsed": false
   }
  },
  {
   "cell_type": "code",
   "execution_count": 19,
   "outputs": [
    {
     "data": {
      "text/plain": "<tf.Tensor: shape=(10,), dtype=float32, numpy=\narray([-0.281754  ,  2.256232  ,  0.9428515 ,  0.17475103, -0.43933585,\n       -0.69611067, -0.8339144 ,  1.5406293 ,  0.03201488,  1.4160179 ],\n      dtype=float32)>"
     },
     "execution_count": 19,
     "metadata": {},
     "output_type": "execute_result"
    }
   ],
   "source": [
    "x.sample(10)"
   ],
   "metadata": {
    "collapsed": false
   }
  },
  {
   "cell_type": "code",
   "execution_count": 20,
   "outputs": [
    {
     "data": {
      "text/plain": "mu",
      "text/latex": "$\\displaystyle \\mu$"
     },
     "execution_count": 20,
     "metadata": {},
     "output_type": "execute_result"
    }
   ],
   "source": [
    "mu = sp.symbols('mu', real=True)\n",
    "mu"
   ],
   "metadata": {
    "collapsed": false
   }
  },
  {
   "cell_type": "code",
   "execution_count": 21,
   "outputs": [],
   "source": [
    "# Fails: can't convert sympy object to tensor\n",
    "# x_s = tfd.Normal(loc=mu, scale=1.)"
   ],
   "metadata": {
    "collapsed": false
   }
  },
  {
   "cell_type": "code",
   "execution_count": 22,
   "outputs": [],
   "source": [
    "# Fails: can't convert sympy object to tensor\n",
    "# x.prob(mu)"
   ],
   "metadata": {
    "collapsed": false
   }
  },
  {
   "cell_type": "code",
   "execution_count": 23,
   "outputs": [],
   "source": [
    "from sympy.stats import Normal, density, variance, P, E"
   ],
   "metadata": {
    "collapsed": false
   }
  },
  {
   "cell_type": "code",
   "execution_count": 24,
   "outputs": [
    {
     "data": {
      "text/plain": "x",
      "text/latex": "$\\displaystyle x$"
     },
     "execution_count": 24,
     "metadata": {},
     "output_type": "execute_result"
    }
   ],
   "source": [
    "x_s = Normal('x', mu, 1)\n",
    "x_s"
   ],
   "metadata": {
    "collapsed": false
   }
  },
  {
   "cell_type": "code",
   "execution_count": 25,
   "outputs": [
    {
     "data": {
      "text/plain": "mu",
      "text/latex": "$\\displaystyle \\mu$"
     },
     "execution_count": 25,
     "metadata": {},
     "output_type": "execute_result"
    }
   ],
   "source": [
    "E(x_s)"
   ],
   "metadata": {
    "collapsed": false
   }
  },
  {
   "cell_type": "code",
   "execution_count": 26,
   "outputs": [
    {
     "data": {
      "text/plain": "erf(sqrt(2)*(mu - 1)/2)/2 + 1/2",
      "text/latex": "$\\displaystyle \\frac{\\operatorname{erf}{\\left(\\frac{\\sqrt{2} \\left(\\mu - 1\\right)}{2} \\right)}}{2} + \\frac{1}{2}$"
     },
     "execution_count": 26,
     "metadata": {},
     "output_type": "execute_result"
    }
   ],
   "source": [
    "P(x_s >= 1).simplify()"
   ],
   "metadata": {
    "collapsed": false
   }
  },
  {
   "cell_type": "code",
   "execution_count": 27,
   "outputs": [
    {
     "data": {
      "text/plain": "NormalDistribution(mu, 1)",
      "text/latex": "$\\displaystyle \\operatorname{NormalDistribution}\\left(\\mu, 1\\right)$"
     },
     "execution_count": 27,
     "metadata": {},
     "output_type": "execute_result"
    }
   ],
   "source": [
    "density(x_s)"
   ],
   "metadata": {
    "collapsed": false
   }
  },
  {
   "cell_type": "code",
   "execution_count": 28,
   "outputs": [
    {
     "data": {
      "text/plain": "0",
      "text/latex": "$\\displaystyle 0$"
     },
     "execution_count": 28,
     "metadata": {},
     "output_type": "execute_result"
    }
   ],
   "source": [
    "# Probability of a point is zero for continuous distribution\n",
    "P(x_s == 2)"
   ],
   "metadata": {
    "collapsed": false
   }
  },
  {
   "cell_type": "code",
   "execution_count": 29,
   "outputs": [
    {
     "data": {
      "text/plain": "-(mu - 2)**2/2 - log(pi)/2 - log(2)/2",
      "text/latex": "$\\displaystyle - \\frac{\\left(\\mu - 2\\right)^{2}}{2} - \\frac{\\log{\\left(\\pi \\right)}}{2} - \\frac{\\log{\\left(2 \\right)}}{2}$"
     },
     "execution_count": 29,
     "metadata": {},
     "output_type": "execute_result"
    }
   ],
   "source": [
    "# Instead evaluate the probability density function\n",
    "sp.log(density(x_s)(2)).simplify()"
   ],
   "metadata": {
    "collapsed": false
   }
  },
  {
   "cell_type": "markdown",
   "source": [
    "## MaxLike\n",
    "Fit $\\mu$ by maximising the likelihood of the data.  Introduce indexed variables for x an y"
   ],
   "metadata": {
    "collapsed": false
   }
  },
  {
   "cell_type": "code",
   "execution_count": 30,
   "outputs": [
    {
     "data": {
      "text/plain": "x[i]",
      "text/latex": "$\\displaystyle {x}_{i}$"
     },
     "execution_count": 30,
     "metadata": {},
     "output_type": "execute_result"
    }
   ],
   "source": [
    "i, n = sp.symbols('i n', integer=True)\n",
    "x_i = sp.Indexed('x', i)\n",
    "x_i"
   ],
   "metadata": {
    "collapsed": false
   }
  },
  {
   "cell_type": "code",
   "execution_count": 31,
   "outputs": [],
   "source": [
    "y_i = sp.Indexed('y', i)"
   ],
   "metadata": {
    "collapsed": false
   }
  },
  {
   "cell_type": "code",
   "execution_count": 32,
   "outputs": [
    {
     "data": {
      "text/plain": "(sqrt(2)/(2*sqrt(pi)))**(n + 1)*Product(exp(-(-mu*x[i] - mu + y[i])**2/2), (i, 0, n))",
      "text/latex": "$\\displaystyle \\left(\\frac{\\sqrt{2}}{2 \\sqrt{\\pi}}\\right)^{n + 1} \\prod_{i=0}^{n} e^{- \\frac{\\left(- \\mu {x}_{i} - \\mu + {y}_{i}\\right)^{2}}{2}}$"
     },
     "execution_count": 32,
     "metadata": {},
     "output_type": "execute_result"
    }
   ],
   "source": [
    "sp.product(density(x_s)(y_i - mu*x_i), (i, 0, n))"
   ],
   "metadata": {
    "collapsed": false
   }
  },
  {
   "cell_type": "code",
   "execution_count": 33,
   "outputs": [
    {
     "data": {
      "text/plain": "log((sqrt(2)/(2*sqrt(pi)))**(n + 1)*Product(exp(-(-mu*x[i] - mu + y[i])**2/2), (i, 0, n)))",
      "text/latex": "$\\displaystyle \\log{\\left(\\left(\\frac{\\sqrt{2}}{2 \\sqrt{\\pi}}\\right)^{n + 1} \\prod_{i=0}^{n} e^{- \\frac{\\left(- \\mu {x}_{i} - \\mu + {y}_{i}\\right)^{2}}{2}} \\right)}$"
     },
     "execution_count": 33,
     "metadata": {},
     "output_type": "execute_result"
    }
   ],
   "source": [
    "sp.log(sp.product(density(x_s)(y_i - mu*x_i), (i, 0, n))).simplify()"
   ],
   "metadata": {
    "collapsed": false
   }
  },
  {
   "cell_type": "code",
   "execution_count": 34,
   "outputs": [
    {
     "data": {
      "text/plain": "(-mu**2/2 - log(pi)/2 - log(2)/2)*Sum(1, (i, 0, n)) + Sum(log(exp(mu*y[i])*exp(-mu**2*x[i])*exp(-mu**2*x[i]**2/2)*exp(mu*x[i]*y[i])*exp(-y[i]**2/2)), (i, 0, n))",
      "text/latex": "$\\displaystyle \\left(- \\frac{\\mu^{2}}{2} - \\frac{\\log{\\left(\\pi \\right)}}{2} - \\frac{\\log{\\left(2 \\right)}}{2}\\right) \\sum_{i=0}^{n} 1 + \\sum_{i=0}^{n} \\log{\\left(e^{\\mu {y}_{i}} e^{- \\mu^{2} {x}_{i}} e^{- \\frac{\\mu^{2} {x}_{i}^{2}}{2}} e^{\\mu {x}_{i} {y}_{i}} e^{- \\frac{{y}_{i}^{2}}{2}} \\right)}$"
     },
     "execution_count": 34,
     "metadata": {},
     "output_type": "execute_result"
    }
   ],
   "source": [
    "# Need to manually change from product to log sum (probably a way to get sympy to do this for me)\n",
    "sp.summation(sp.expand_log(sp.log(density(x_s)(y_i - mu*x_i).simplify())), (i, 0, n)).simplify()"
   ],
   "metadata": {
    "collapsed": false
   }
  },
  {
   "cell_type": "code",
   "execution_count": 35,
   "outputs": [
    {
     "data": {
      "text/plain": "Sum((-mu*x[i] - 2*mu + y[i])*x[i] + y[i], (i, 0, n))/(n + 1)",
      "text/latex": "$\\displaystyle \\frac{\\sum_{i=0}^{n} \\left(\\left(- \\mu {x}_{i} - 2 \\mu + {y}_{i}\\right) {x}_{i} + {y}_{i}\\right)}{n + 1}$"
     },
     "execution_count": 35,
     "metadata": {},
     "output_type": "execute_result"
    }
   ],
   "source": [
    "# In principle solving for mu that has gradient w.r.t. mu equal to zero should work but doesn't seem to for general n upper limit.  To investigate.\n",
    "sp.solve(sp.summation(sp.log(density(x_s)(y_i - mu*x_i)), (i, 0, n)).simplify().diff(mu), mu)[0].simplify()"
   ],
   "metadata": {
    "collapsed": false
   }
  },
  {
   "cell_type": "markdown",
   "source": [
    "# Flexible Probability Distributions\n",
    "Chapter 6 of Probabilistic Deep Learning - discretized logistic mixture"
   ],
   "metadata": {
    "collapsed": false
   }
  },
  {
   "cell_type": "code",
   "execution_count": 36,
   "outputs": [],
   "source": [
    "locs = (4.0, 10.0)\n",
    "scales = (0.25, 0.5)\n",
    "probs = (0.8, 0.2)\n",
    "\n",
    "dists = tfd.Logistic(loc=locs, scale=scales)"
   ],
   "metadata": {
    "collapsed": false
   }
  },
  {
   "cell_type": "markdown",
   "source": [
    "From [Chapter 6 notebook](https://github.com/tensorchiefs/dl_book/blob/master/chapter_06/nb_ch06_01.ipynb) with change from deprecated\n",
    "`tfb.AffineScalar(shift, scale)` to `tfb.Shift(shift)(tfb.Scale(scale))`"
   ],
   "metadata": {
    "collapsed": false
   }
  },
  {
   "cell_type": "code",
   "execution_count": 39,
   "outputs": [],
   "source": [
    "def quantize(inner, low=0, bits=4):\n",
    "    trans = tfd.TransformedDistribution(distribution=inner,bijector=tfb.Shift(-0.5))\n",
    "    return tfd.QuantizedDistribution(trans,low=low,high=2**bits - 1.)"
   ],
   "metadata": {
    "collapsed": false
   }
  },
  {
   "cell_type": "code",
   "execution_count": 40,
   "outputs": [],
   "source": [
    "quant = quantize(dists, bits=4)"
   ],
   "metadata": {
    "collapsed": false
   }
  },
  {
   "cell_type": "code",
   "execution_count": 46,
   "outputs": [],
   "source": [
    "quant_mixture = tfd.MixtureSameFamily(\n",
    "    mixture_distribution=tfd.Categorical(probs=probs),\n",
    "    components_distribution=quant\n",
    ")\n",
    "mixture = tfd.MixtureSameFamily(\n",
    "    mixture_distribution=tfd.Categorical(probs=probs),\n",
    "    components_distribution=dists\n",
    ")"
   ],
   "metadata": {
    "collapsed": false
   }
  },
  {
   "cell_type": "code",
   "execution_count": 51,
   "outputs": [
    {
     "data": {
      "text/plain": "<Figure size 432x288 with 1 Axes>",
      "image/png": "[encoded data removed]"
     },
     "metadata": {
      "needs_background": "light"
     },
     "output_type": "display_data"
    }
   ],
   "source": [
    "x = np.linspace(0., 15., 100)\n",
    "n_vals = np.linspace(0,15,16) #0,1,2,3,...,15 discrete values\n",
    "p = mixture.prob(x).numpy()\n",
    "_ = plt.plot(x, p)\n",
    "p = quant_mixture.prob(n_vals).numpy()\n",
    "_ = plt.stem(n_vals, p)"
   ],
   "metadata": {
    "collapsed": false
   }
  },
  {
   "cell_type": "code",
   "execution_count": 58,
   "outputs": [
    {
     "data": {
      "text/plain": "<Figure size 432x288 with 1 Axes>",
      "image/png": "[encoded data removed]"
     },
     "metadata": {
      "needs_background": "light"
     },
     "output_type": "display_data"
    }
   ],
   "source": [
    "P = mixture.cdf(x).numpy()\n",
    "_ = plt.plot(x, P)\n",
    "P = quant_mixture.cdf(x).numpy()\n",
    "_ = plt.plot(x, P, ls='-.')"
   ],
   "metadata": {
    "collapsed": false
   }
  },
  {
   "cell_type": "code",
   "execution_count": null,
   "outputs": [],
   "source": [],
   "metadata": {
    "collapsed": false
   }
  }
 ],
 "metadata": {
  "kernelspec": {
   "display_name": "Python 3",
   "language": "python",
   "name": "python3"
  },
  "language_info": {
   "codemirror_mode": {
    "name": "ipython",
    "version": 2
   },
   "file_extension": ".py",
   "mimetype": "text/x-python",
   "name": "python",
   "nbconvert_exporter": "python",
   "pygments_lexer": "ipython2",
   "version": "2.7.6"
  }
 },
 "nbformat": 4,
 "nbformat_minor": 0
}
