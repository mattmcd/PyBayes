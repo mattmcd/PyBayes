{
 "cells": [
  {
   "cell_type": "markdown",
   "id": "8d833d1d-d309-4292-b62f-63496e151352",
   "metadata": {},
   "source": [
    "# Bond Cashflows\n",
    "Simple GUI to show effect of interest rates on net present value of Bond cashflows.  The cashflows consist of an initial payment (not shown) followed by receipt of coupon payments and principle.  NPV gives the current fair value of the bond."
   ]
  },
  {
   "cell_type": "markdown",
   "id": "aa7fce01-0348-400f-9c3b-3cb69566fbf6",
   "metadata": {},
   "source": [
    "# Imports"
   ]
  },
  {
   "cell_type": "code",
   "execution_count": 1,
   "id": "initial_id",
   "metadata": {},
   "outputs": [],
   "source": [
    "%load_ext autoreload\n",
    "%autoreload 2"
   ]
  },
  {
   "cell_type": "code",
   "execution_count": 2,
   "id": "5896eeb4-3f01-4823-b67b-5b36bcc27244",
   "metadata": {},
   "outputs": [],
   "source": [
    "from startup import np, pd, plt, sns"
   ]
  },
  {
   "cell_type": "code",
   "execution_count": 3,
   "id": "0c0880e7-92a2-43d4-ba23-f967521aba8d",
   "metadata": {},
   "outputs": [],
   "source": [
    "from startup_gui import widgets, interact, interactive"
   ]
  },
  {
   "cell_type": "markdown",
   "id": "14d6c1fd-3a40-4aef-9c11-7be06b0d1de6",
   "metadata": {},
   "source": [
    "# Bonds\n",
    "Work in monthly frequency units"
   ]
  },
  {
   "cell_type": "code",
   "execution_count": 63,
   "id": "7a6dad30-e1d2-4a58-b997-4bf314a7cd85",
   "metadata": {},
   "outputs": [],
   "source": [
    "def create_bond(duration=12, coupon_rate=0, coupon_period=1, face_value=100):\n",
    "    if coupon_rate > 0 and coupon_period > 0:\n",
    "        n_payments = int(duration / coupon_period)\n",
    "        coupon_payments = np.ones(n_payments) * face_value * coupon_rate * (coupon_period / 12)\n",
    "        coupon_t = np.arange(1, n_payments+1) * coupon_period\n",
    "    else:\n",
    "        coupon_t, coupon_payments = [], []\n",
    "\n",
    "    principle_t = np.array([duration])\n",
    "    principle_payment = np.array([face_value])\n",
    "\n",
    "    cashflows = pd.Series(\n",
    "        np.concatenate([coupon_payments, principle_payment]), \n",
    "        index=np.concatenate([coupon_t, principle_t]), \n",
    "        \n",
    "    )\n",
    "    return cashflows"
   ]
  },
  {
   "cell_type": "code",
   "execution_count": 64,
   "id": "33505744-2763-4bb8-9f31-d3be2f077444",
   "metadata": {},
   "outputs": [],
   "source": [
    "# bond = create_bond(coupon_rate=0.1, coupon_period=6, duration=36) # 10% annual interest, semi-annual coupons\n",
    "# bond, bond.sum()"
   ]
  },
  {
   "cell_type": "code",
   "execution_count": 118,
   "id": "db3ad950-fa5a-4ef5-af1c-6bf0a736780c",
   "metadata": {},
   "outputs": [],
   "source": [
    "def plot_cashflows_npv(bond, annual_rate, period):\n",
    "    period_rate = annual_rate*period/12\n",
    "    # print(period_rate, (1+period_rate)**(12/period))\n",
    "    discount_rate = (1 + period_rate)**(bond.index/period)\n",
    "    discounted_cashflows = bond/discount_rate\n",
    "    npv = discounted_cashflows.sum()\n",
    "    gross_value = bond.sum()\n",
    "    combined = pd.DataFrame({'Cashflows': bond, 'Discount Rate': discount_rate, 'Discounted': discounted_cashflows})\n",
    "    combined.index.name = 'Month'\n",
    "    # display(combined)\n",
    "    ax = combined[['Cashflows', 'Discounted']].plot(kind='bar', title=f'Gross Vaue: {gross_value}  NPV: {npv:0.2f}')\n"
   ]
  },
  {
   "cell_type": "code",
   "execution_count": 119,
   "id": "8ad301c0-de58-4f41-b49f-593280133699",
   "metadata": {},
   "outputs": [
    {
     "data": {
      "application/vnd.jupyter.widget-view+json": {
       "model_id": "2d457f249516455bba6799e4fd723970",
       "version_major": 2,
       "version_minor": 0
      },
      "text/plain": [
       "interactive(children=(FloatSlider(value=0.1, description='coupon_rate', max=0.2, step=0.01), Dropdown(descript…"
      ]
     },
     "metadata": {},
     "output_type": "display_data"
    }
   ],
   "source": [
    "_ = interact(\n",
    "    lambda coupon_rate, coupon_period, duration, discount_rate: plot_cashflows_npv(\n",
    "        create_bond(coupon_rate=coupon_rate, coupon_period=coupon_period, duration=duration), discount_rate, coupon_period\n",
    "    ),\n",
    "    coupon_rate=widgets.FloatSlider(0.1, min=0., max=0.2, step=0.01),\n",
    "    coupon_period=widgets.Dropdown(value=6, options=[1, 2, 3, 4, 6, 12]),\n",
    "    duration=widgets.Dropdown(value=36, options=[12, 24, 36]),\n",
    "    discount_rate=widgets.FloatSlider(0.05, min=0., max=0.2, step=0.01)\n",
    ")"
   ]
  },
  {
   "cell_type": "code",
   "execution_count": 76,
   "id": "6ac053b6-fed5-4df7-a0dc-4e69dc9d4c55",
   "metadata": {},
   "outputs": [
    {
     "data": {
      "text/plain": [
       "3       2.5\n",
       "6       2.5\n",
       "9       2.5\n",
       "12      2.5\n",
       "15      2.5\n",
       "18      2.5\n",
       "21      2.5\n",
       "24      2.5\n",
       "27      2.5\n",
       "30      2.5\n",
       "33      2.5\n",
       "36      2.5\n",
       "36    100.0\n",
       "dtype: float64"
      ]
     },
     "execution_count": 76,
     "metadata": {},
     "output_type": "execute_result"
    }
   ],
   "source": [
    "create_bond(duration=36, coupon_rate=0.10, coupon_period=3)"
   ]
  },
  {
   "cell_type": "code",
   "execution_count": null,
   "id": "dd9d5164-913a-483a-beb2-57dfa28b710a",
   "metadata": {},
   "outputs": [],
   "source": [
    "1.015"
   ]
  }
 ],
 "metadata": {
  "kernelspec": {
   "display_name": "Python 3 (ipykernel)",
   "language": "python",
   "name": "python3"
  },
  "language_info": {
   "codemirror_mode": {
    "name": "ipython",
    "version": 3
   },
   "file_extension": ".py",
   "mimetype": "text/x-python",
   "name": "python",
   "nbconvert_exporter": "python",
   "pygments_lexer": "ipython3",
   "version": "3.8.18"
  }
 },
 "nbformat": 4,
 "nbformat_minor": 5
}
