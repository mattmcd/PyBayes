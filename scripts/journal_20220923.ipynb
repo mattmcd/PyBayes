{
 "cells": [
  {
   "cell_type": "markdown",
   "id": "5a12a4e7",
   "metadata": {},
   "source": [
    "# Journal 2022-09-23\n",
    "[SymPy: Computer Algebra with Python](https://medium.com/@mathcube7/list/sympy-computer-algebra-with-python-c067d2b66030) Medium posts"
   ]
  },
  {
   "cell_type": "code",
   "execution_count": 1,
   "id": "49a55bc3",
   "metadata": {},
   "outputs": [],
   "source": [
    "%load_ext autoreload\n",
    "%autoreload 2"
   ]
  },
  {
   "cell_type": "code",
   "execution_count": 2,
   "id": "ee0d8d11",
   "metadata": {},
   "outputs": [],
   "source": [
    "import sympy as sp\n",
    "import matplotlib.pyplot as plt\n",
    "import seaborn as sns"
   ]
  },
  {
   "cell_type": "code",
   "execution_count": 5,
   "id": "f41e28f0",
   "metadata": {},
   "outputs": [],
   "source": [
    "sp.init_printing(use_latex=True)"
   ]
  },
  {
   "cell_type": "code",
   "execution_count": 35,
   "id": "0bb47bdc",
   "metadata": {},
   "outputs": [],
   "source": [
    "n, k , i= sp.symbols('n k i', integer=True)"
   ]
  },
  {
   "cell_type": "code",
   "execution_count": 42,
   "id": "f242a146",
   "metadata": {},
   "outputs": [
    {
     "data": {
      "image/png": "[encoded data removed]",
      "text/latex": [
       "$\\displaystyle \\sum_{i=0}^{n - 1} i = \\frac{n^{2}}{2} - \\frac{n}{2}$"
      ],
      "text/plain": [
       "n - 1           \n",
       " ___            \n",
       " ╲         2    \n",
       "  ╲       n    n\n",
       "  ╱   i = ── - ─\n",
       " ╱        2    2\n",
       " ‾‾‾            \n",
       "i = 0           "
      ]
     },
     "execution_count": 42,
     "metadata": {},
     "output_type": "execute_result"
    }
   ],
   "source": [
    "sum_lhs = sp.Sum(i, (i, 0, n-1))\n",
    "sp.Eq(sum_lhs, sum_lhs.doit())"
   ]
  },
  {
   "cell_type": "code",
   "execution_count": 47,
   "id": "4a79f04a",
   "metadata": {},
   "outputs": [
    {
     "data": {
      "image/png": "[encoded data removed]",
      "text/latex": [
       "$\\displaystyle \\left( n,\\right)$"
      ],
      "text/plain": [
       "(n,)"
      ]
     },
     "execution_count": 47,
     "metadata": {},
     "output_type": "execute_result"
    }
   ],
   "source": [
    "a, b = sp.symbols('a b', cls=sp.IndexedBase)\n",
    "ii = sp.Idx('i', n)\n",
    "a[ii].shape"
   ]
  },
  {
   "cell_type": "code",
   "execution_count": 55,
   "id": "7a138156",
   "metadata": {},
   "outputs": [
    {
     "data": {
      "text/latex": [
       "$\\displaystyle \\sum_{{i}_{0\\mathrel{..}\\nobreakn - 1}=0}^{n - 1} {a}_{{i}_{0\\mathrel{..}\\nobreakn - 1}} {b}_{{i}_{0\\mathrel{..}\\nobreakn - 1}}$"
      ],
      "text/plain": [
       "n - 1          \n",
       " ___           \n",
       " ╲             \n",
       "  ╲            \n",
       "  ╱   a[i]⋅b[i]\n",
       " ╱             \n",
       " ‾‾‾           \n",
       "i = 0          "
      ]
     },
     "execution_count": 55,
     "metadata": {},
     "output_type": "execute_result"
    }
   ],
   "source": [
    "sp.Sum(a[ii]*b[ii], (ii, 0, n-1))"
   ]
  },
  {
   "cell_type": "code",
   "execution_count": 57,
   "id": "709f5da9",
   "metadata": {},
   "outputs": [],
   "source": [
    "u = sp.physics.units"
   ]
  },
  {
   "cell_type": "code",
   "execution_count": 60,
   "id": "a5b32c62",
   "metadata": {},
   "outputs": [
    {
     "data": {
      "text/latex": [
       "$\\displaystyle \\text{d}$"
      ],
      "text/plain": [
       "d"
      ]
     },
     "execution_count": 60,
     "metadata": {},
     "output_type": "execute_result"
    }
   ],
   "source": [
    "dist = u.Quantity('d')\n",
    "u.systems.SI.set_quantity_dimension(dist, u.length)\n",
    "u.systems.SI.set_quantity_scale_factor(dist, 1. * u.meter)\n",
    "dist"
   ]
  },
  {
   "cell_type": "code",
   "execution_count": 64,
   "id": "d78cf476",
   "metadata": {},
   "outputs": [
    {
     "data": {
      "text/latex": [
       "$\\displaystyle 0.001 \\text{km}$"
      ],
      "text/plain": [
       "0.001⋅kilometer"
      ]
     },
     "execution_count": 64,
     "metadata": {},
     "output_type": "execute_result"
    }
   ],
   "source": [
    "u.convert_to(dist, u.kilometer)"
   ]
  },
  {
   "cell_type": "code",
   "execution_count": 65,
   "id": "ea48e3b8",
   "metadata": {},
   "outputs": [
    {
     "data": {
      "image/png": "[encoded data removed]",
      "text/latex": [
       "$\\displaystyle \\operatorname{B}\\left(p, q\\right)$"
      ],
      "text/plain": [
       "Β(p, q)"
      ]
     },
     "execution_count": 65,
     "metadata": {},
     "output_type": "execute_result"
    }
   ],
   "source": [
    "p, q = sp.symbols('p q', real=True)\n",
    "B = sp.beta(p, q)\n",
    "B"
   ]
  },
  {
   "cell_type": "code",
   "execution_count": 71,
   "id": "46da8f62",
   "metadata": {},
   "outputs": [
    {
     "data": {
      "image/png": "[encoded data removed]",
      "text/latex": [
       "$\\displaystyle \\operatorname{B}\\left(p, q\\right) = \\int\\limits_{0}^{1} t^{p - 1} \\left(1 - t\\right)^{q - 1}\\, dt$"
      ],
      "text/plain": [
       "          1                       \n",
       "          ⌠                       \n",
       "          ⎮  p - 1        q - 1   \n",
       "Β(p, q) = ⎮ t     ⋅(1 - t)      dt\n",
       "          ⌡                       \n",
       "          0                       "
      ]
     },
     "execution_count": 71,
     "metadata": {},
     "output_type": "execute_result"
    }
   ],
   "source": [
    "sp.Eq(B, B.rewrite(sp.Integral))"
   ]
  },
  {
   "cell_type": "code",
   "execution_count": 70,
   "id": "16677a05",
   "metadata": {},
   "outputs": [
    {
     "data": {
      "image/png": "[encoded data removed]",
      "text/latex": [
       "$\\displaystyle \\operatorname{B}\\left(p, q\\right) = \\frac{\\Gamma\\left(p\\right) \\Gamma\\left(q\\right)}{\\Gamma\\left(p + q\\right)}$"
      ],
      "text/plain": [
       "          Γ(p)⋅Γ(q)\n",
       "Β(p, q) = ─────────\n",
       "           Γ(p + q)"
      ]
     },
     "execution_count": 70,
     "metadata": {},
     "output_type": "execute_result"
    }
   ],
   "source": [
    "sp.Eq(B, B.rewrite(sp.gamma))"
   ]
  },
  {
   "cell_type": "code",
   "execution_count": 69,
   "id": "7460ebf7",
   "metadata": {},
   "outputs": [
    {
     "data": {
      "image/png": "[encoded data removed]",
      "text/latex": [
       "$\\displaystyle n! = \\Gamma\\left(n + 1\\right)$"
      ],
      "text/plain": [
       "n! = Γ(n + 1)"
      ]
     },
     "execution_count": 69,
     "metadata": {},
     "output_type": "execute_result"
    }
   ],
   "source": [
    "sp.Eq(sp.factorial(n), sp.factorial(n).rewrite(sp.gamma))"
   ]
  },
  {
   "cell_type": "code",
   "execution_count": null,
   "id": "2d7a67a9",
   "metadata": {},
   "outputs": [],
   "source": []
  }
 ],
 "metadata": {
  "kernelspec": {
   "display_name": "Python 3",
   "language": "python",
   "name": "python3"
  },
  "language_info": {
   "codemirror_mode": {
    "name": "ipython",
    "version": 3
   },
   "file_extension": ".py",
   "mimetype": "text/x-python",
   "name": "python",
   "nbconvert_exporter": "python",
   "pygments_lexer": "ipython3",
   "version": "3.8.14"
  }
 },
 "nbformat": 4,
 "nbformat_minor": 5
}
