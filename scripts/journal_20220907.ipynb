{
 "cells": [
  {
   "cell_type": "markdown",
   "id": "a7ea78bb",
   "metadata": {},
   "source": [
    "# Journal 2022-09-07\n",
    "Quantum Machine Learning "
   ]
  },
  {
   "cell_type": "markdown",
   "id": "91c2ecc1",
   "metadata": {},
   "source": [
    "# Links\n",
    "[AI x Mathematics](https://www.youtube.com/watch?v=M8bVn1RR6QE) talk at QNLP by Petar Veličković is mostly on the Nature AI for Math paper but does mention some overlap between GNN/Geometric Learning and QML:\n",
    "* [Group-Invariant Quantum Machine Learning](https://arxiv.org/abs/2205.02261)\n",
    "* [Exploiting symmetry in variational quantum machine learning](https://arxiv.org/abs/2205.06217)\n",
    "* [Equivariant quantum circuits for learning on weighted graphs](https://arxiv.org/abs/2205.06109)\n",
    "* [Equivariant Quantum Graph Circuits](https://arxiv.org/abs/2112.05261)\n",
    "\n",
    "He also mentioned that he need to look at Category Theory more, a recent attempt is [Graph Neural Networks are Dynamic Programmers](https://arxiv.org/abs/2203.15544)\n",
    "\n",
    "## Quantinuum \n",
    "(previously Cambridge Quantum Computing) \n",
    "\n",
    "[pytket](https://cqcl.github.io/tket/pytket/api/index.html) \"a python module for interfacing with CQC tket, a set of quantum programming tools.\"\n",
    "\n",
    "See [t|ket⟩ : A Retargetable Compiler for NISQ Devices](https://arxiv.org/abs/2003.10611)"
   ]
  },
  {
   "cell_type": "code",
   "execution_count": 1,
   "id": "0dbf0061",
   "metadata": {},
   "outputs": [],
   "source": [
    "%load_ext autoreload\n",
    "%autoreload 2"
   ]
  },
  {
   "cell_type": "code",
   "execution_count": 2,
   "id": "e054ad98",
   "metadata": {},
   "outputs": [],
   "source": [
    "import numpy as np\n",
    "import pandas as pd\n",
    "import matplotlib.pyplot as plt\n",
    "import seaborn as sns\n",
    "import networkx as nx\n",
    "import sympy as sp\n",
    "import jax\n",
    "import jax.numpy as jnp"
   ]
  },
  {
   "cell_type": "code",
   "execution_count": 3,
   "id": "9d93a133",
   "metadata": {},
   "outputs": [],
   "source": [
    "from pytket import Circuit"
   ]
  },
  {
   "cell_type": "code",
   "execution_count": 12,
   "id": "db6a126d",
   "metadata": {},
   "outputs": [
    {
     "name": "stdout",
     "output_type": "stream",
     "text": [
      "<tket::Circuit, qubits=2, gates=0> 2 2 0\n"
     ]
    }
   ],
   "source": [
    "c = Circuit(2, 2)  # 2 quantum and 2 classical bits\n",
    "disp = lambda c: print(c, c.n_bits, c.n_qubits, c.n_gates)\n",
    "disp(c)"
   ]
  },
  {
   "cell_type": "code",
   "execution_count": 13,
   "id": "fd7c36b7",
   "metadata": {},
   "outputs": [
    {
     "name": "stdout",
     "output_type": "stream",
     "text": [
      "<tket::Circuit, qubits=2, gates=1> 2 2 1\n"
     ]
    },
    {
     "data": {
      "text/plain": [
       "([H q[0]; ], None)"
      ]
     },
     "execution_count": 13,
     "metadata": {},
     "output_type": "execute_result"
    }
   ],
   "source": [
    "c.H(0)   # add a Hadamard gate to qubit 0\n",
    "c, disp(c)"
   ]
  },
  {
   "cell_type": "code",
   "execution_count": 14,
   "id": "e90b2c1c",
   "metadata": {},
   "outputs": [
    {
     "name": "stdout",
     "output_type": "stream",
     "text": [
      "<tket::Circuit, qubits=2, gates=2> 2 2 2\n"
     ]
    },
    {
     "data": {
      "text/plain": [
       "([H q[0]; Rz(0.25) q[0]; ], None)"
      ]
     },
     "execution_count": 14,
     "metadata": {},
     "output_type": "execute_result"
    }
   ],
   "source": [
    "c.Rz(0.25, 0)  # add an Rz gate of angle 0.25*pi to qubit 0\n",
    "c, disp(c)"
   ]
  },
  {
   "cell_type": "code",
   "execution_count": 15,
   "id": "b51628ba",
   "metadata": {},
   "outputs": [
    {
     "name": "stdout",
     "output_type": "stream",
     "text": [
      "<tket::Circuit, qubits=2, gates=3> 2 2 3\n"
     ]
    },
    {
     "data": {
      "text/plain": [
       "([H q[0]; Rz(0.25) q[0]; CX q[1], q[0]; ], None)"
      ]
     },
     "execution_count": 15,
     "metadata": {},
     "output_type": "execute_result"
    }
   ],
   "source": [
    "c.CX(1,0)  # add a CX gate with control qubit 1 and target qubit 0\n",
    "c, disp(c)"
   ]
  },
  {
   "cell_type": "code",
   "execution_count": 16,
   "id": "138be82d",
   "metadata": {},
   "outputs": [
    {
     "data": {
      "text/plain": [
       "[H q[0]; Rz(0.25) q[0]; CX q[1], q[0]; Measure q[0] --> c[0]; Measure q[1] --> c[1]; ]"
      ]
     },
     "execution_count": 16,
     "metadata": {},
     "output_type": "execute_result"
    }
   ],
   "source": [
    "c.measure_all()  # measure qubits 0 and 1, recording the results in bits 0 and 1"
   ]
  },
  {
   "cell_type": "markdown",
   "id": "fb4c5e3d",
   "metadata": {},
   "source": [
    "PyTket does compilation of quantum circuits, to run them you need a backend.  There are a range of backends available as various [pytket-extensions](https://cqcl.github.io/pytket-extensions/api/index.html#) - including actual quantum hardware!\n",
    "\n",
    "For the moment [QuJAX](https://cqcl.github.io/qujax/api/) looks interesting for running local simulations so `pip install pytket-qujax` \n",
    "\n",
    "There is a [Jupyter Notebook version](https://github.com/CQCL/qujax/blob/main/examples/variational_inference.ipynb) of [Variational inference with a quantum computer](https://arxiv.org/abs/2103.06720) which I will need to check out later.  But first let's try a few simple gates."
   ]
  },
  {
   "cell_type": "code",
   "execution_count": 26,
   "id": "3ba2cd27",
   "metadata": {},
   "outputs": [
    {
     "name": "stdout",
     "output_type": "stream",
     "text": [
      "<tket::Circuit, qubits=1, gates=0>\n"
     ]
    }
   ],
   "source": [
    "c = Circuit(1)\n",
    "print(c)"
   ]
  },
  {
   "cell_type": "code",
   "execution_count": 27,
   "id": "0eeb7ed9",
   "metadata": {},
   "outputs": [
    {
     "data": {
      "text/plain": [
       "[H q[0]; ]"
      ]
     },
     "execution_count": 27,
     "metadata": {},
     "output_type": "execute_result"
    }
   ],
   "source": [
    "c.H(0)"
   ]
  },
  {
   "cell_type": "code",
   "execution_count": 28,
   "id": "eb6e5487",
   "metadata": {},
   "outputs": [],
   "source": [
    "# qujax doesn't support measurement\n",
    "# c.measure_all()"
   ]
  },
  {
   "cell_type": "code",
   "execution_count": 29,
   "id": "bbe2969d",
   "metadata": {},
   "outputs": [],
   "source": [
    "from pytket.extensions.qujax import print_circuit, tk_to_qujax, tk_to_qujax_args"
   ]
  },
  {
   "cell_type": "code",
   "execution_count": 30,
   "id": "f312ac64",
   "metadata": {},
   "outputs": [
    {
     "name": "stdout",
     "output_type": "stream",
     "text": [
      "q0: -----H---\n"
     ]
    },
    {
     "data": {
      "text/plain": [
       "['q0: -----H---']"
      ]
     },
     "execution_count": 30,
     "metadata": {},
     "output_type": "execute_result"
    }
   ],
   "source": [
    "print_circuit(c)"
   ]
  },
  {
   "cell_type": "code",
   "execution_count": 31,
   "id": "233a48e5",
   "metadata": {},
   "outputs": [],
   "source": [
    "import qujax"
   ]
  },
  {
   "cell_type": "code",
   "execution_count": 34,
   "id": "b94a6de3",
   "metadata": {},
   "outputs": [
    {
     "data": {
      "text/plain": [
       "DeviceArray([0.70710677, 0.70710677], dtype=float32)"
      ]
     },
     "execution_count": 34,
     "metadata": {},
     "output_type": "execute_result"
    }
   ],
   "source": [
    "tk_to_qujax(c)()"
   ]
  },
  {
   "cell_type": "code",
   "execution_count": 71,
   "id": "42fd2754",
   "metadata": {},
   "outputs": [
    {
     "name": "stdout",
     "output_type": "stream",
     "text": [
      "q0: -----H-------◯-------H---\n",
      "                 |           \n",
      "q1: -----H-------CZ------H---\n"
     ]
    },
    {
     "data": {
      "text/plain": [
       "DeviceArray([[ 0.49999994,  0.49999994],\n",
       "             [ 0.49999994, -0.49999994]], dtype=float32)"
      ]
     },
     "execution_count": 71,
     "metadata": {},
     "output_type": "execute_result"
    }
   ],
   "source": [
    "c = Circuit(2)\n",
    "c.H(0).H(1).CZ(0, 1).H(0).H(1)\n",
    "print_circuit(c)\n",
    "tk_to_qujax(c)()"
   ]
  },
  {
   "cell_type": "code",
   "execution_count": null,
   "id": "1e8e67e9",
   "metadata": {},
   "outputs": [],
   "source": []
  }
 ],
 "metadata": {
  "kernelspec": {
   "display_name": "Python 3",
   "language": "python",
   "name": "python3"
  },
  "language_info": {
   "codemirror_mode": {
    "name": "ipython",
    "version": 3
   },
   "file_extension": ".py",
   "mimetype": "text/x-python",
   "name": "python",
   "nbconvert_exporter": "python",
   "pygments_lexer": "ipython3",
   "version": "3.8.13"
  }
 },
 "nbformat": 4,
 "nbformat_minor": 5
}
