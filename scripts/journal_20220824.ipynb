{
 "cells": [
  {
   "cell_type": "markdown",
   "id": "f3de4bf4",
   "metadata": {},
   "source": [
    "# Journal 2022-08-24\n",
    "Upgraded to Ubuntu 22.04 last night, fixing some issues."
   ]
  },
  {
   "cell_type": "markdown",
   "id": "2f871d11",
   "metadata": {},
   "source": [
    "## Ubuntu Upgrade to 22.04 \n",
    "\n",
    "#### Python\n",
    "Default python upgraded to 3.10, breaking some PyCharm environments.  Fixed by adding the `deadsnakes` ppa and reinstalling python3.8 (default is still 3.10)\n",
    "\n",
    "    sudo add-apt-repository ppa:deadsnakes/ppa\n",
    "    sudo apt update\n",
    "    sudo apt install python3.8\n",
    "    sudo apt install python3.8-venv\n",
    "\n",
    "#### External Monitor\n",
    "My external monitor stopped working either during upgrade from 18.04 to 22.04 or when I installed HWE to fix a freeze issue.  Has the upgrade to 22.04 fixed this?\n",
    "\n",
    "    >> cat dual_monitor.sh \n",
    "    #!/bin/bash\n",
    "    xrandr --output eDP-1 --auto --output HDMI-1 --scale 2x2 --mode 1440x900 --panning 2880x1800+3200+0 --fb 6080x1800 --pos 3200x0\n",
    "\n",
    "\n",
    "    >> ./dual_monitor.sh \n",
    "    xrandr: Failed to get size of gamma for output default\n",
    "    warning: output eDP-1 not found; ignoring\n",
    "    warning: output HDMI-1 not found; ignoring\n",
    "    xrandr: screen cannot be larger than 3200x1800 (desired size 6080x1800)\n",
    "\n",
    "No.\n",
    "\n",
    "\n",
    "#### Tablet as External Monitor?\n",
    "[Using a Tablet as a Second Monitor in Ubuntu is Actually Pretty Easy](https://www.omgubuntu.co.uk/2022/06/use-ipad-as-second-monitor-ubuntu-22-04) - ok, give this a try:\n",
    "\n",
    "    gsettings set org.gnome.desktop.remote-desktop.rdp screen-share-mode extend\n",
    "    systemctl --user restart gnome-remote-desktop.service\n",
    "\n",
    "and install [Remote Desktop Free](https://www.amazon.co.uk/Evolve-Networks-Remote-Desktop-Client/dp/B00FWLVJV6) on my Kindle Fire.\n",
    "\n",
    "Couldn't get this to work unfortunately.  `journalctl -f` showed that the connection was being attempted but failing, maybe due to screen resolution?  Laptop is 3200x1800 so this might cause problems.\n",
    "\n",
    "#### Play with Window Managers\n",
    "Tried out [Plasma Desktop](https://kde.org/plasma-desktop/) and [i3](https://i3wm.org/).  Plasma was ok once I got the font scaling working, i3 I didn't manage to do that so everything tiny.  Both felt a bit faster than Ubuntu desktop but I ended up switching back to keep on the most supported route.  Annoyingly, each time you switch window managers and open Google Chrome it treats it as a new machine and requires login to both google and all sites."
   ]
  },
  {
   "cell_type": "markdown",
   "id": "ea88e50f",
   "metadata": {},
   "source": [
    "### External Monitor (again)\n",
    "[Xrandr: Failed to Get Size of Gamma for Output Default](https://davidtsadler.com/posts/linux/2021-06-05/xrandr-failed-to-get-size-of-gamma-for-output-default/) indicates this may be due to `nomodeset` being set in my grub config.  I vaguely remember doing this to fix an issue with occasinaly laptop freezing but maybe not (or new 5.15 kernel may be more robust) so worth trying.\n",
    "\n",
    "Yes!  That worked and also allows screen brightness changes.  Quite annoying that this was the issue although I vaguely remember that the reason I used `nomodeset` was to avoid a problem with the laptop freezing.  Hopefully the latest kernel (5.15 currently, from 5.4 + HWE on Ubuntu 20.04) will keep avoid the freeze issue.\n",
    "\n",
    "Nice having a browser and IDE both visible at once again at least.\n",
    "\n",
    "Remaining issue: scaling.  Laptop resolution is 3200x1800, monitor is 1440x900.  If I have laptop scaling at 100% then it's too small to read, at 200% the monitor is too big to read.  Looks like [Jetbrains are still working on Wayland support](https://youtrack.jetbrains.com/issue/JBR-3206/Native-Wayland-support) so for the moment have 100% scaling with browser on monitor, PyCharm on laptop and adjust IDE font size."
   ]
  },
  {
   "cell_type": "code",
   "execution_count": null,
   "id": "a77fd8d1",
   "metadata": {},
   "outputs": [],
   "source": []
  }
 ],
 "metadata": {
  "kernelspec": {
   "display_name": "Python 3",
   "language": "python",
   "name": "python3"
  },
  "language_info": {
   "codemirror_mode": {
    "name": "ipython",
    "version": 3
   },
   "file_extension": ".py",
   "mimetype": "text/x-python",
   "name": "python",
   "nbconvert_exporter": "python",
   "pygments_lexer": "ipython3",
   "version": "3.8.13"
  }
 },
 "nbformat": 4,
 "nbformat_minor": 5
}
