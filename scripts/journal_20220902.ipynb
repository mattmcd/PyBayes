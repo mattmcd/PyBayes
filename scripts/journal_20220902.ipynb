{
 "cells": [
  {
   "cell_type": "markdown",
   "id": "531d784e",
   "metadata": {},
   "source": [
    "# Journal 2022-09-02\n",
    "[Flax Getting Started Tutorial](https://flax.readthedocs.io/en/latest/getting_started.html) trying a new workflow where the code is edited in a `journal_20220902.py` file in PyCharm to make use of code completion and linting.  Also AWS CodeWhisperer which interestingly filled in a lot of the example model from the tutorial be itself."
   ]
  },
  {
   "cell_type": "code",
   "execution_count": 1,
   "id": "3c632d59",
   "metadata": {},
   "outputs": [],
   "source": [
    "%load_ext autoreload\n",
    "%autoreload 2"
   ]
  },
  {
   "cell_type": "code",
   "execution_count": 2,
   "id": "bbfc7c1d",
   "metadata": {},
   "outputs": [],
   "source": [
    "from flax import serialization\n",
    "import os\n",
    "import jax\n",
    "import jax.numpy as jnp\n",
    "import tensorflow as tf\n",
    "import functools"
   ]
  },
  {
   "cell_type": "code",
   "execution_count": 3,
   "id": "35c82fb8",
   "metadata": {},
   "outputs": [],
   "source": [
    "from journal_20220902 import get_datasets, CNN, run_training, CnnParams"
   ]
  },
  {
   "cell_type": "code",
   "execution_count": 4,
   "id": "25f988e3",
   "metadata": {},
   "outputs": [],
   "source": [
    "ds_train, ds_test = get_datasets()"
   ]
  },
  {
   "cell_type": "code",
   "execution_count": 5,
   "id": "689993ee",
   "metadata": {},
   "outputs": [
    {
     "name": "stderr",
     "output_type": "stream",
     "text": [
      "WARNING:absl:No GPU/TPU found, falling back to CPU. (Set TF_CPP_MIN_LOG_LEVEL=0 and rerun for more info.)\n"
     ]
    },
    {
     "name": "stdout",
     "output_type": "stream",
     "text": [
      "Loading model parameters from file\n"
     ]
    }
   ],
   "source": [
    "train = False\n",
    "if train:\n",
    "    print('Training model and saving trained parameters to file')\n",
    "    state = run_training((ds_train, ds_test))\n",
    "    cnn_params = CnnParams(state.params)\n",
    "    cnn_params.to_file('mnist_flax_20220902.bin')\n",
    "else:\n",
    "    print('Loading model parameters from file')\n",
    "    cnn_params = CnnParams.from_file('mnist_flax_20220902.bin')"
   ]
  },
  {
   "cell_type": "markdown",
   "id": "4191db7f",
   "metadata": {},
   "source": [
    "# Predictions from Trained Model\n",
    "Use the trained model to predict image labels "
   ]
  },
  {
   "cell_type": "code",
   "execution_count": 6,
   "id": "f2c6e966",
   "metadata": {},
   "outputs": [],
   "source": [
    "cnn = CNN()"
   ]
  },
  {
   "cell_type": "code",
   "execution_count": 7,
   "id": "8fb19603",
   "metadata": {},
   "outputs": [],
   "source": [
    "def predict(p, x):\n",
    "    return jnp.argmax(cnn.apply({'params': p}, x), axis=1)"
   ]
  },
  {
   "cell_type": "code",
   "execution_count": 8,
   "id": "bea8af06",
   "metadata": {},
   "outputs": [
    {
     "data": {
      "text/plain": [
       "DeviceArray([2, 0, 4, 8, 7, 6, 0, 6, 3, 1], dtype=int32)"
      ]
     },
     "execution_count": 8,
     "metadata": {},
     "output_type": "execute_result"
    }
   ],
   "source": [
    "predict(cnn_params.params, ds_test['image'][:10])"
   ]
  },
  {
   "cell_type": "code",
   "execution_count": 9,
   "id": "1d7f6131",
   "metadata": {},
   "outputs": [
    {
     "data": {
      "text/plain": [
       "array([2, 0, 4, 8, 7, 6, 0, 6, 3, 1])"
      ]
     },
     "execution_count": 9,
     "metadata": {},
     "output_type": "execute_result"
    }
   ],
   "source": [
    "ds_test['label'][:10, ...]"
   ]
  },
  {
   "cell_type": "markdown",
   "id": "51bb2bf2",
   "metadata": {},
   "source": [
    "# TensorFlow Lite\n",
    "Try exporting the trained model to TFLite following [JAX Model Conversion for TFLite](https://www.tensorflow.org/lite/examples/jax_conversion/overview) "
   ]
  },
  {
   "cell_type": "code",
   "execution_count": 11,
   "id": "f4d1387e",
   "metadata": {},
   "outputs": [],
   "source": [
    "serving_fn = functools.partial(predict, cnn_params.params)\n",
    "x_input = jnp.zeros((1, 28, 28, 1))  # BHWC\n",
    "converter = tf.lite.TFLiteConverter.experimental_from_jax(\n",
    "    [serving_fn], [[('input1', x_input)]]\n",
    ")\n",
    "tflite_model = converter.convert()"
   ]
  },
  {
   "cell_type": "code",
   "execution_count": 12,
   "id": "891ae722",
   "metadata": {},
   "outputs": [
    {
     "data": {
      "text/plain": [
       "DeviceArray([2, 0, 4, 8, 7, 6, 0, 6, 3, 1], dtype=int32)"
      ]
     },
     "execution_count": 12,
     "metadata": {},
     "output_type": "execute_result"
    }
   ],
   "source": [
    "serving_fn(ds_test['image'][:10])"
   ]
  },
  {
   "cell_type": "code",
   "execution_count": 13,
   "id": "bcaf3ef8",
   "metadata": {},
   "outputs": [],
   "source": [
    "interpreter = tf.lite.Interpreter(model_content=tflite_model)\n",
    "interpreter.allocate_tensors()\n",
    "input_details = interpreter.get_input_details()\n",
    "output_details = interpreter.get_output_details()"
   ]
  },
  {
   "cell_type": "code",
   "execution_count": 15,
   "id": "24c9126a",
   "metadata": {},
   "outputs": [
    {
     "data": {
      "text/plain": [
       "array([2], dtype=int32)"
      ]
     },
     "execution_count": 15,
     "metadata": {},
     "output_type": "execute_result"
    }
   ],
   "source": [
    "interpreter.set_tensor(input_details[0][\"index\"], ds_test['image'][jnp.newaxis,0, ...].astype(jnp.float32))\n",
    "interpreter.invoke()\n",
    "result = interpreter.get_tensor(output_details[0][\"index\"])\n",
    "result"
   ]
  },
  {
   "cell_type": "code",
   "execution_count": null,
   "id": "8a3fba70",
   "metadata": {},
   "outputs": [],
   "source": []
  }
 ],
 "metadata": {
  "kernelspec": {
   "display_name": "Python 3",
   "language": "python",
   "name": "python3"
  },
  "language_info": {
   "codemirror_mode": {
    "name": "ipython",
    "version": 3
   },
   "file_extension": ".py",
   "mimetype": "text/x-python",
   "name": "python",
   "nbconvert_exporter": "python",
   "pygments_lexer": "ipython3",
   "version": "3.8.13"
  }
 },
 "nbformat": 4,
 "nbformat_minor": 5
}
