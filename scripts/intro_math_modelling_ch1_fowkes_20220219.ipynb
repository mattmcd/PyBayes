{
 "cells": [
  {
   "cell_type": "code",
   "execution_count": 1,
   "id": "890bbcb2",
   "metadata": {},
   "outputs": [],
   "source": [
    "import sympy as sp\n",
    "from sympy.interactive import printing\n",
    "printing.init_printing(use_latex=True)"
   ]
  },
  {
   "cell_type": "markdown",
   "id": "f128b1a6",
   "metadata": {},
   "source": [
    "# The Flagpole"
   ]
  },
  {
   "cell_type": "code",
   "execution_count": 2,
   "id": "45c2bbcb",
   "metadata": {},
   "outputs": [
    {
     "data": {
      "image/png": "[encoded data removed]",
      "text/latex": [
       "$\\displaystyle \\left( \\rho, \\  E, \\  k, \\  l, \\  u{\\left(x,t \\right)}, \\  u{\\left(x,t \\right)}, \\  a, \\  \\omega\\right)$"
      ],
      "text/plain": [
       "(ρ, E, k, l, u(x, t), u(x, t), a, ω)"
      ]
     },
     "execution_count": 2,
     "metadata": {},
     "output_type": "execute_result"
    }
   ],
   "source": [
    "rho, E, k, l, a, w = sp.symbols('rho E k l a omega', positive=True, real=True, constant=True)\n",
    "u = sp.symbols('u', cls=sp.Function)\n",
    "x, t = sp.symbols('x t', real=True)\n",
    "ua = u(x, t)   # Function u applied to x, t\n",
    "rho, E, k, l, u(x, t), ua, a, w"
   ]
  },
  {
   "cell_type": "code",
   "execution_count": 3,
   "id": "0854d479",
   "metadata": {},
   "outputs": [
    {
     "data": {
      "image/png": "[encoded data removed]",
      "text/latex": [
       "$\\displaystyle E k \\frac{\\partial^{4}}{\\partial x^{4}} u{\\left(x,t \\right)} + \\rho \\frac{\\partial^{2}}{\\partial t^{2}} u{\\left(x,t \\right)}$"
      ],
      "text/plain": [
       "      4                2         \n",
       "     ∂                ∂          \n",
       "E⋅k⋅───(u(x, t)) + ρ⋅───(u(x, t))\n",
       "      4                2         \n",
       "    ∂x               ∂t          "
      ]
     },
     "execution_count": 3,
     "metadata": {},
     "output_type": "execute_result"
    }
   ],
   "source": [
    "eq = rho*ua.diff(t, 2) + E*k*ua.diff(x, 4)\n",
    "eq"
   ]
  },
  {
   "cell_type": "code",
   "execution_count": 4,
   "id": "9164ab14",
   "metadata": {},
   "outputs": [
    {
     "data": {
      "text/latex": [
       "$\\displaystyle \\left( - a \\sin{\\left(\\omega t \\right)} + u{\\left(0,t \\right)}, \\  \\left. \\frac{\\partial}{\\partial x} u{\\left(x,t \\right)} \\right|_{\\substack{ x=0 }}, \\  \\frac{\\partial^{2}}{\\partial x^{2}} u{\\left(x,t \\right)}, \\  \\frac{\\partial^{3}}{\\partial x^{3}} u{\\left(x,t \\right)}\\right)$"
      ],
      "text/plain": [
       "⎛                                            2             3         ⎞\n",
       "⎜                       ⎛∂          ⎞│      ∂             ∂          ⎟\n",
       "⎜-a⋅sin(ω⋅t) + u(0, t), ⎜──(u(x, t))⎟│   , ───(u(x, t)), ───(u(x, t))⎟\n",
       "⎜                       ⎝∂x         ⎠│x=0    2             3         ⎟\n",
       "⎝                                          ∂x            ∂x          ⎠"
      ]
     },
     "execution_count": 4,
     "metadata": {},
     "output_type": "execute_result"
    }
   ],
   "source": [
    "bc0 = ua.subs(x, 0) - a*sp.sin(w*t)\n",
    "bc1 = ua.diff(x).subs(x,0)\n",
    "bc2 = ua.diff(x, 2)\n",
    "bc3 = ua.diff(x, 3)\n",
    "bc0, bc1, bc2, bc3"
   ]
  },
  {
   "cell_type": "code",
   "execution_count": 5,
   "id": "175ad0f0",
   "metadata": {},
   "outputs": [
    {
     "data": {
      "image/png": "[encoded data removed]",
      "text/latex": [
       "$\\displaystyle \\left( \\xi, \\  \\tau\\right)$"
      ],
      "text/plain": [
       "(ξ, τ)"
      ]
     },
     "execution_count": 5,
     "metadata": {},
     "output_type": "execute_result"
    }
   ],
   "source": [
    "xis, taus = sp.symbols('xi tau', real=True)\n",
    "xis, taus"
   ]
  },
  {
   "cell_type": "code",
   "execution_count": null,
   "id": "b5ce0fdf",
   "metadata": {},
   "outputs": [],
   "source": []
  },
  {
   "cell_type": "code",
   "execution_count": 6,
   "id": "177005e5",
   "metadata": {},
   "outputs": [
    {
     "data": {
      "image/png": "[encoded data removed]",
      "text/latex": [
       "$\\displaystyle \\left( \\xi = \\frac{x}{l}, \\  \\tau = \\omega t\\right)$"
      ],
      "text/plain": [
       "⎛    x         ⎞\n",
       "⎜ξ = ─, τ = ω⋅t⎟\n",
       "⎝    l         ⎠"
      ]
     },
     "execution_count": 6,
     "metadata": {},
     "output_type": "execute_result"
    }
   ],
   "source": [
    "xi = x/l\n",
    "tau = w*t\n",
    "sp.Eq(xis, xi), sp.Eq(taus, tau)"
   ]
  },
  {
   "cell_type": "code",
   "execution_count": 7,
   "id": "f12acb48",
   "metadata": {},
   "outputs": [
    {
     "data": {
      "image/png": "[encoded data removed]",
      "text/latex": [
       "$\\displaystyle v{\\left(\\xi,\\tau \\right)}$"
      ],
      "text/plain": [
       "v(ξ, τ)"
      ]
     },
     "execution_count": 7,
     "metadata": {},
     "output_type": "execute_result"
    }
   ],
   "source": [
    "v = sp.symbols('v', cls=sp.Function)\n",
    "v(xis, taus)"
   ]
  },
  {
   "cell_type": "code",
   "execution_count": 8,
   "id": "f7a21fc1",
   "metadata": {},
   "outputs": [],
   "source": [
    "w0, w1, w2 = sp.symbols('w0:3', cls=sp.Wild)\n",
    "w_expr = sp.Derivative(w0, (w1, w2))  # Match deriviatives"
   ]
  },
  {
   "cell_type": "code",
   "execution_count": 9,
   "id": "8f7a7cf4",
   "metadata": {},
   "outputs": [
    {
     "data": {
      "image/png": "[encoded data removed]",
      "text/latex": [
       "$\\displaystyle \\left\\{ w_{0} : u{\\left(x,t \\right)}, \\  w_{1} : x, \\  w_{2} : 2\\right\\}$"
      ],
      "text/plain": [
       "{w₀: u(x, t), w₁: x, w₂: 2}"
      ]
     },
     "execution_count": 9,
     "metadata": {},
     "output_type": "execute_result"
    }
   ],
   "source": [
    "(ua.diff(x,2)).match(w_expr)"
   ]
  },
  {
   "cell_type": "code",
   "execution_count": 10,
   "id": "a957a2fb",
   "metadata": {},
   "outputs": [
    {
     "data": {
      "image/png": "[encoded data removed]",
      "text/latex": [
       "$\\displaystyle \\left[ \\left\\{ w_{0} : u{\\left(x,t \\right)}, \\  w_{1} : t, \\  w_{2} : 2\\right\\}, \\  \\left\\{ w_{0} : u{\\left(x,t \\right)}, \\  w_{1} : x, \\  w_{2} : 4\\right\\}\\right]$"
      ],
      "text/plain": [
       "[{w₀: u(x, t), w₁: t, w₂: 2}, {w₀: u(x, t), w₁: x, w₂: 4}]"
      ]
     },
     "execution_count": 10,
     "metadata": {},
     "output_type": "execute_result"
    }
   ],
   "source": [
    "[d.match(sp.Derivative(w0, (w1, w2))) for d in eq.atoms(sp.Derivative)]"
   ]
  },
  {
   "cell_type": "code",
   "execution_count": 11,
   "id": "61aa03ae",
   "metadata": {},
   "outputs": [
    {
     "data": {
      "image/png": "[encoded data removed]",
      "text/latex": [
       "$\\displaystyle \\left\\{\\frac{\\partial^{4}}{\\partial x^{4}} u{\\left(x,t \\right)}\\right\\}$"
      ],
      "text/plain": [
       "⎧  4         ⎫\n",
       "⎪ ∂          ⎪\n",
       "⎨───(u(x, t))⎬\n",
       "⎪  4         ⎪\n",
       "⎩∂x          ⎭"
      ]
     },
     "execution_count": 11,
     "metadata": {},
     "output_type": "execute_result"
    }
   ],
   "source": [
    "eq.find(sp.Derivative(w1, (x, w2)))"
   ]
  },
  {
   "cell_type": "code",
   "execution_count": 12,
   "id": "16378634",
   "metadata": {},
   "outputs": [
    {
     "data": {
      "image/png": "[encoded data removed]",
      "text/latex": [
       "$\\displaystyle \\left\\{\\frac{\\partial^{2}}{\\partial t^{2}} u{\\left(x,t \\right)}, \\frac{\\partial^{4}}{\\partial x^{4}} u{\\left(x,t \\right)}\\right\\}$"
      ],
      "text/plain": [
       "⎧  2             4         ⎫\n",
       "⎪ ∂             ∂          ⎪\n",
       "⎨───(u(x, t)), ───(u(x, t))⎬\n",
       "⎪  2             4         ⎪\n",
       "⎩∂t            ∂x          ⎭"
      ]
     },
     "execution_count": 12,
     "metadata": {},
     "output_type": "execute_result"
    }
   ],
   "source": [
    "eq.find(sp.Derivative(w0, (w1, w2)))"
   ]
  },
  {
   "cell_type": "code",
   "execution_count": 13,
   "id": "0a119795",
   "metadata": {},
   "outputs": [
    {
     "data": {
      "image/png": "[encoded data removed]",
      "text/latex": [
       "$\\displaystyle \\left[ \\left\\{ w_{0} : u{\\left(x,t \\right)}, \\  w_{1} : t, \\  w_{2} : 2\\right\\}, \\  \\left\\{ w_{0} : u{\\left(x,t \\right)}, \\  w_{1} : x, \\  w_{2} : 4\\right\\}\\right]$"
      ],
      "text/plain": [
       "[{w₀: u(x, t), w₁: t, w₂: 2}, {w₀: u(x, t), w₁: x, w₂: 4}]"
      ]
     },
     "execution_count": 13,
     "metadata": {},
     "output_type": "execute_result"
    }
   ],
   "source": [
    "[d.match(sp.Derivative(w0, (w1, w2))) for d in eq.atoms(sp.Derivative)]"
   ]
  },
  {
   "cell_type": "code",
   "execution_count": 14,
   "id": "a528a1e7",
   "metadata": {},
   "outputs": [
    {
     "data": {
      "image/png": "[encoded data removed]",
      "text/latex": [
       "$\\displaystyle \\frac{E a k \\frac{\\partial^{4}}{\\partial \\xi^{4}} v{\\left(\\xi,\\tau \\right)}}{l^{4}} + a \\omega^{2} \\rho \\frac{\\partial^{2}}{\\partial \\tau^{2}} v{\\left(\\xi,\\tau \\right)}$"
      ],
      "text/plain": [
       "        4                               \n",
       "       ∂                                \n",
       "E⋅a⋅k⋅───(v(ξ, τ))                      \n",
       "        4                     2         \n",
       "      ∂ξ                2    ∂          \n",
       "────────────────── + a⋅ω ⋅ρ⋅───(v(ξ, τ))\n",
       "         4                    2         \n",
       "        l                   ∂τ          "
      ]
     },
     "execution_count": 14,
     "metadata": {},
     "output_type": "execute_result"
    }
   ],
   "source": [
    "eq_scale = eq.replace(\n",
    "        sp.Derivative(u(x,t), (x, w2)), a/l**w2*sp.Derivative(v(xis, taus), (xis, w2))\n",
    "    ).replace(\n",
    "        sp.Derivative(u(x,t), (t, w2)), a*w**w2*sp.Derivative(v(xis, taus), (taus, w2))\n",
    "    )\n",
    "eq_scale"
   ]
  },
  {
   "cell_type": "code",
   "execution_count": 15,
   "id": "e68850ff",
   "metadata": {},
   "outputs": [
    {
     "data": {
      "image/png": "[encoded data removed]",
      "text/latex": [
       "$\\displaystyle \\left( J \\frac{\\partial^{4}}{\\partial \\xi^{4}} v{\\left(\\xi,\\tau \\right)} + \\frac{\\partial^{2}}{\\partial \\tau^{2}} v{\\left(\\xi,\\tau \\right)}, \\  J = \\frac{E k}{l^{4} \\omega^{2} \\rho}\\right)$"
      ],
      "text/plain": [
       "⎛    4              2                      ⎞\n",
       "⎜   ∂              ∂                  E⋅k  ⎟\n",
       "⎜J⋅───(v(ξ, τ)) + ───(v(ξ, τ)), J = ───────⎟\n",
       "⎜    4              2                4  2  ⎟\n",
       "⎝  ∂ξ             ∂τ                l ⋅ω ⋅ρ⎠"
      ]
     },
     "execution_count": 15,
     "metadata": {},
     "output_type": "execute_result"
    }
   ],
   "source": [
    "Js = sp.symbols('J', positive=True)\n",
    "J = E*k/(l**4*w**2*rho)\n",
    "eq_scale.func(*[e/(a*w**2*rho) for e in eq_scale.args]).subs(J, Js), sp.Eq(Js, J)"
   ]
  },
  {
   "cell_type": "code",
   "execution_count": null,
   "id": "a3e4aae8",
   "metadata": {},
   "outputs": [],
   "source": []
  }
 ],
 "metadata": {
  "kernelspec": {
   "display_name": "Python 3",
   "language": "python",
   "name": "python3"
  },
  "language_info": {
   "codemirror_mode": {
    "name": "ipython",
    "version": 3
   },
   "file_extension": ".py",
   "mimetype": "text/x-python",
   "name": "python",
   "nbconvert_exporter": "python",
   "pygments_lexer": "ipython3",
   "version": "3.8.10"
  }
 },
 "nbformat": 4,
 "nbformat_minor": 5
}
