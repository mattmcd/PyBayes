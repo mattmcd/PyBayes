{
 "cells": [
  {
   "cell_type": "code",
   "execution_count": 1,
   "metadata": {
    "pycharm": {
     "name": "#%%\n"
    }
   },
   "outputs": [],
   "source": [
    "import sympy as sp\n",
    "from sympy.interactive import printing\n",
    "printing.init_printing(use_latex=True)"
   ]
  },
  {
   "cell_type": "code",
   "execution_count": 2,
   "metadata": {
    "pycharm": {
     "name": "#%%\n"
    }
   },
   "outputs": [],
   "source": [
    "import ipympl\n",
    "import ipywidgets as widgets\n",
    "%matplotlib inline"
   ]
  },
  {
   "cell_type": "code",
   "execution_count": 3,
   "metadata": {
    "pycharm": {
     "name": "#%%\n"
    }
   },
   "outputs": [
    {
     "data": {
      "image/png": "[encoded data removed]",
      "text/latex": [
       "$\\displaystyle x$"
      ],
      "text/plain": [
       "x"
      ]
     },
     "execution_count": 3,
     "metadata": {},
     "output_type": "execute_result"
    }
   ],
   "source": [
    "x = sp.Symbol('x')\n",
    "x"
   ]
  },
  {
   "cell_type": "code",
   "execution_count": 4,
   "metadata": {
    "pycharm": {
     "name": "#%%\n"
    }
   },
   "outputs": [
    {
     "data": {
      "image/png": "[encoded data removed]",
      "text/latex": [
       "$\\displaystyle \\left( y^{0}_{1}, \\  y^{0}_{1}, \\  y^{0}_{1}, \\  \\dot{m}_{1}\\right)$"
      ],
      "text/plain": [
       "(y⁰₁, y⁰₁, y⁰₁, \\dot{m}_{1})"
      ]
     },
     "execution_count": 4,
     "metadata": {},
     "output_type": "execute_result"
    }
   ],
   "source": [
    "a, b, c, d = sp.symbols('y1__0 y_1__0 y_1^0 \\\\dot{m}_{1}')\n",
    "a, b, c, d"
   ]
  },
  {
   "cell_type": "code",
   "execution_count": 5,
   "metadata": {},
   "outputs": [
    {
     "data": {
      "image/png": "[encoded data removed]",
      "text/latex": [
       "$\\displaystyle \\left( \\alpha, \\  \\beta, \\  \\gamma\\right)$"
      ],
      "text/plain": [
       "(α, β, γ)"
      ]
     },
     "execution_count": 5,
     "metadata": {},
     "output_type": "execute_result"
    }
   ],
   "source": [
    "sp.symbols('alpha beta gamma')"
   ]
  },
  {
   "cell_type": "code",
   "execution_count": 6,
   "metadata": {},
   "outputs": [
    {
     "data": {
      "image/png": "[encoded data removed]",
      "text/latex": [
       "$\\displaystyle \\left( x^{0}_{0}, \\  x^{1}_{0}, \\  x^{2}_{0}, \\  x^{0}_{1}, \\  x^{1}_{1}, \\  x^{2}_{1}\\right)$"
      ],
      "text/plain": [
       "(x⁰₀, x¹₀, x²₀, x⁰₁, x¹₁, x²₁)"
      ]
     },
     "execution_count": 6,
     "metadata": {},
     "output_type": "execute_result"
    }
   ],
   "source": [
    "sp.symbols('x_:2__:3')"
   ]
  },
  {
   "cell_type": "code",
   "execution_count": 7,
   "metadata": {},
   "outputs": [
    {
     "data": {
      "image/png": "[encoded data removed]",
      "text/latex": [
       "$\\displaystyle \\left( \\left( a, \\  b, \\  c\\right), \\  \\left( x, \\  y, \\  z\\right)\\right)$"
      ],
      "text/plain": [
       "((a, b, c), (x, y, z))"
      ]
     },
     "execution_count": 7,
     "metadata": {},
     "output_type": "execute_result"
    }
   ],
   "source": [
    "sp.symbols(('a:c', 'x:z'))"
   ]
  },
  {
   "cell_type": "code",
   "execution_count": 8,
   "metadata": {},
   "outputs": [
    {
     "data": {
      "image/png": "[encoded data removed]",
      "text/latex": [
       "$\\displaystyle \\left( x_{00}, \\  x_{01}, \\  x_{02}, \\  x_{10}, \\  x_{11}, \\  x_{12}\\right)$"
      ],
      "text/plain": [
       "(x₀₀, x₀₁, x₀₂, x₁₀, x₁₁, x₁₂)"
      ]
     },
     "execution_count": 8,
     "metadata": {},
     "output_type": "execute_result"
    }
   ],
   "source": [
    "sp.symbols('x(:2)(:3)')"
   ]
  },
  {
   "cell_type": "code",
   "execution_count": 9,
   "metadata": {},
   "outputs": [
    {
     "data": {
      "image/png": "[encoded data removed]",
      "text/latex": [
       "$\\displaystyle \\left( x(a), \\  x(b), \\  x(c)\\right)$"
      ],
      "text/plain": [
       "(x(a), x(b), x(c))"
      ]
     },
     "execution_count": 9,
     "metadata": {},
     "output_type": "execute_result"
    }
   ],
   "source": [
    "sp.symbols('x((:c))')"
   ]
  },
  {
   "cell_type": "code",
   "execution_count": 10,
   "metadata": {},
   "outputs": [
    {
     "data": {
      "text/plain": [
       "('x', ('commutative', True))"
      ]
     },
     "execution_count": 10,
     "metadata": {},
     "output_type": "execute_result"
    }
   ],
   "source": [
    "x._hashable_content()"
   ]
  },
  {
   "cell_type": "code",
   "execution_count": 11,
   "metadata": {},
   "outputs": [
    {
     "data": {
      "text/plain": [
       "True"
      ]
     },
     "execution_count": 11,
     "metadata": {},
     "output_type": "execute_result"
    }
   ],
   "source": [
    "((x+1)**2).equals(x**2 + 2*x + 1)"
   ]
  },
  {
   "cell_type": "code",
   "execution_count": 12,
   "metadata": {},
   "outputs": [],
   "source": [
    "f = sp.Function('f')"
   ]
  },
  {
   "cell_type": "code",
   "execution_count": 13,
   "metadata": {},
   "outputs": [
    {
     "data": {
      "image/png": "[encoded data removed]",
      "text/latex": [
       "$\\displaystyle f{\\left(x \\right)}$"
      ],
      "text/plain": [
       "f(x)"
      ]
     },
     "execution_count": 13,
     "metadata": {},
     "output_type": "execute_result"
    }
   ],
   "source": [
    "f(x)"
   ]
  },
  {
   "cell_type": "code",
   "execution_count": 14,
   "metadata": {},
   "outputs": [
    {
     "data": {
      "image/png": "[encoded data removed]",
      "text/latex": [
       "$\\displaystyle \\left( x \\mapsto x^{2} + 3 \\right)$"
      ],
      "text/plain": [
       "     2    \n",
       "x ↦ x  + 3"
      ]
     },
     "execution_count": 14,
     "metadata": {},
     "output_type": "execute_result"
    }
   ],
   "source": [
    "g = sp.Lambda(x, x**2 +3)\n",
    "g"
   ]
  },
  {
   "cell_type": "code",
   "execution_count": 15,
   "metadata": {},
   "outputs": [
    {
     "data": {
      "image/png": "[encoded data removed]",
      "text/latex": [
       "$\\displaystyle 4$"
      ],
      "text/plain": [
       "4"
      ]
     },
     "execution_count": 15,
     "metadata": {},
     "output_type": "execute_result"
    }
   ],
   "source": [
    "g(1)"
   ]
  },
  {
   "cell_type": "markdown",
   "metadata": {},
   "source": [
    "# Expression Manipulation example Ch4\n",
    "Start with an expression for the volume of a hemi-spherical capped cylinder, and its mass.  Determine length to diameter ratio that gives the minimum mass for a given volume."
   ]
  },
  {
   "cell_type": "code",
   "execution_count": 16,
   "metadata": {},
   "outputs": [],
   "source": [
    "r, L, D, Vs, Ms = sp.symbols('r L D V M', positive=True)  # NB symbols for V and M here, expressions  below"
   ]
  },
  {
   "cell_type": "code",
   "execution_count": 17,
   "metadata": {},
   "outputs": [
    {
     "data": {
      "image/png": "[encoded data removed]",
      "text/latex": [
       "$\\displaystyle \\frac{\\pi D^{3}}{6} + \\frac{\\pi D^{2} L}{4}$"
      ],
      "text/plain": [
       "   3      2  \n",
       "π⋅D    π⋅D ⋅L\n",
       "──── + ──────\n",
       " 6       4   "
      ]
     },
     "execution_count": 17,
     "metadata": {},
     "output_type": "execute_result"
    }
   ],
   "source": [
    "V = (sp.Rational(4,3)*sp.pi*r**3 + sp.pi*r**2*L).subs({r: D/2})\n",
    "V"
   ]
  },
  {
   "cell_type": "code",
   "execution_count": 18,
   "metadata": {},
   "outputs": [
    {
     "data": {
      "image/png": "[encoded data removed]",
      "text/latex": [
       "$\\displaystyle \\pi D^{2} + \\pi D L$"
      ],
      "text/plain": [
       "   2        \n",
       "π⋅D  + π⋅D⋅L"
      ]
     },
     "execution_count": 18,
     "metadata": {},
     "output_type": "execute_result"
    }
   ],
   "source": [
    "A = (4*sp.pi*r**2 + 2*sp.pi*r*L).subs({r:D/2})\n",
    "A"
   ]
  },
  {
   "cell_type": "code",
   "execution_count": 19,
   "metadata": {},
   "outputs": [],
   "source": [
    "rho, p, sigma = sp.symbols('rho p sigma', positive=True)"
   ]
  },
  {
   "cell_type": "code",
   "execution_count": 20,
   "metadata": {},
   "outputs": [
    {
     "data": {
      "image/png": "[encoded data removed]",
      "text/latex": [
       "$\\displaystyle \\frac{\\pi D^{2} p \\rho \\left(\\frac{D}{2} + L\\right)}{2 \\sigma}$"
      ],
      "text/plain": [
       "   2     ⎛D    ⎞\n",
       "π⋅D ⋅p⋅ρ⋅⎜─ + L⎟\n",
       "         ⎝2    ⎠\n",
       "────────────────\n",
       "      2⋅σ       "
      ]
     },
     "execution_count": 20,
     "metadata": {},
     "output_type": "execute_result"
    }
   ],
   "source": [
    "M = sp.pi*D**2*rho*p/2/sigma*(L+D/2)\n",
    "M"
   ]
  },
  {
   "cell_type": "code",
   "execution_count": 21,
   "metadata": {},
   "outputs": [
    {
     "data": {
      "text/plain": [
       "(True, True)"
      ]
     },
     "execution_count": 21,
     "metadata": {},
     "output_type": "execute_result"
    }
   ],
   "source": [
    "# Step 1: copy original expresions to check that our manipulations don't change them\n",
    "Vcopy, Mcopy = V, M\n",
    "\n",
    "Vcopy.equals(V), Mcopy.equals(M)"
   ]
  },
  {
   "cell_type": "code",
   "execution_count": 22,
   "metadata": {},
   "outputs": [
    {
     "data": {
      "image/png": "[encoded data removed]",
      "text/latex": [
       "$\\displaystyle \\frac{\\pi D^{2} \\left(2 D + 3 L\\right)}{12}$"
      ],
      "text/plain": [
       "   2            \n",
       "π⋅D ⋅(2⋅D + 3⋅L)\n",
       "────────────────\n",
       "       12       "
      ]
     },
     "execution_count": 22,
     "metadata": {},
     "output_type": "execute_result"
    }
   ],
   "source": [
    "# Factor the expression for V\n",
    "V.factor()"
   ]
  },
  {
   "cell_type": "code",
   "execution_count": 23,
   "metadata": {},
   "outputs": [
    {
     "data": {
      "image/png": "[encoded data removed]",
      "text/latex": [
       "$\\displaystyle \\frac{\\pi \\left(2 D + 3 L\\right)}{12 D}$"
      ],
      "text/plain": [
       "π⋅(2⋅D + 3⋅L)\n",
       "─────────────\n",
       "     12⋅D    "
      ]
     },
     "execution_count": 23,
     "metadata": {},
     "output_type": "execute_result"
    }
   ],
   "source": [
    "# Divide by D**3 to get D in denominator\n",
    "V.factor()/D**3"
   ]
  },
  {
   "cell_type": "code",
   "execution_count": 24,
   "metadata": {},
   "outputs": [
    {
     "data": {
      "image/png": "[encoded data removed]",
      "text/latex": [
       "$\\displaystyle \\frac{\\pi}{6} + \\frac{\\pi L}{4 D}$"
      ],
      "text/plain": [
       "π   π⋅L\n",
       "─ + ───\n",
       "6   4⋅D"
      ]
     },
     "execution_count": 24,
     "metadata": {},
     "output_type": "execute_result"
    }
   ],
   "source": [
    "# Expand to get constant term plus one in L/D (quanity of interest)\n",
    "(V.factor()/D**3).expand()"
   ]
  },
  {
   "cell_type": "code",
   "execution_count": 25,
   "metadata": {},
   "outputs": [
    {
     "data": {
      "image/png": "[encoded data removed]",
      "text/latex": [
       "$\\displaystyle \\pi \\left(\\frac{1}{6} + \\frac{L}{4 D}\\right)$"
      ],
      "text/plain": [
       "  ⎛1    L ⎞\n",
       "π⋅⎜─ + ───⎟\n",
       "  ⎝6   4⋅D⎠"
      ]
     },
     "execution_count": 25,
     "metadata": {},
     "output_type": "execute_result"
    }
   ],
   "source": [
    "# collect to get common factor of pi out front (in general use collect_const(expr, c) by pi is special const)\n",
    "(V.factor()/D**3).expand().collect(sp.pi)"
   ]
  },
  {
   "cell_type": "code",
   "execution_count": 26,
   "metadata": {},
   "outputs": [],
   "source": [
    "# Multiply by D**3 to get back to original expression\n",
    "V = D**3*(V.factor()/D**3).expand().collect(sp.pi)"
   ]
  },
  {
   "cell_type": "code",
   "execution_count": 27,
   "metadata": {},
   "outputs": [
    {
     "data": {
      "image/png": "[encoded data removed]",
      "text/latex": [
       "$\\displaystyle \\pi D^{3} \\left(\\frac{1}{6} + \\frac{L}{4 D}\\right)$"
      ],
      "text/plain": [
       "   3 ⎛1    L ⎞\n",
       "π⋅D ⋅⎜─ + ───⎟\n",
       "     ⎝6   4⋅D⎠"
      ]
     },
     "execution_count": 27,
     "metadata": {},
     "output_type": "execute_result"
    }
   ],
   "source": [
    "V"
   ]
  },
  {
   "cell_type": "code",
   "execution_count": 28,
   "metadata": {},
   "outputs": [
    {
     "data": {
      "text/plain": [
       "True"
      ]
     },
     "execution_count": 28,
     "metadata": {},
     "output_type": "execute_result"
    }
   ],
   "source": [
    "Vcopy.equals(V)"
   ]
  },
  {
   "cell_type": "code",
   "execution_count": 29,
   "metadata": {},
   "outputs": [
    {
     "data": {
      "image/png": "[encoded data removed]",
      "text/latex": [
       "$\\displaystyle \\pi D^{3} \\left(\\frac{1}{6} + \\frac{L}{4 D}\\right)$"
      ],
      "text/plain": [
       "   3 ⎛1    L ⎞\n",
       "π⋅D ⋅⎜─ + ───⎟\n",
       "     ⎝6   4⋅D⎠"
      ]
     },
     "execution_count": 29,
     "metadata": {},
     "output_type": "execute_result"
    }
   ],
   "source": [
    "# Alternative - replace factor-divide-expand-factor with simplify \n",
    "(Vcopy / D**3).simplify().collect(sp.pi)*D**3"
   ]
  },
  {
   "cell_type": "markdown",
   "metadata": {},
   "source": [
    "Do the same with the expression for M"
   ]
  },
  {
   "cell_type": "code",
   "execution_count": 30,
   "metadata": {},
   "outputs": [
    {
     "data": {
      "image/png": "[encoded data removed]",
      "text/latex": [
       "$\\displaystyle \\frac{\\pi D^{3} p \\rho \\left(\\frac{1}{4} + \\frac{L}{2 D}\\right)}{\\sigma}$"
      ],
      "text/plain": [
       "   3     ⎛1    L ⎞\n",
       "π⋅D ⋅p⋅ρ⋅⎜─ + ───⎟\n",
       "         ⎝4   2⋅D⎠\n",
       "──────────────────\n",
       "        σ         "
      ]
     },
     "execution_count": 30,
     "metadata": {},
     "output_type": "execute_result"
    }
   ],
   "source": [
    "M = (M/D**3).expand().collect(sp.pi * p * rho / sigma)*D**3\n",
    "M"
   ]
  },
  {
   "cell_type": "code",
   "execution_count": 31,
   "metadata": {},
   "outputs": [
    {
     "data": {
      "text/plain": [
       "True"
      ]
     },
     "execution_count": 31,
     "metadata": {},
     "output_type": "execute_result"
    }
   ],
   "source": [
    "Mcopy.equals(M)"
   ]
  },
  {
   "cell_type": "markdown",
   "metadata": {},
   "source": [
    "Substitute and solve: ~start by writing volume equation as LHS - RHS~ actually I prefer using `sp.Eq`"
   ]
  },
  {
   "cell_type": "code",
   "execution_count": 32,
   "metadata": {},
   "outputs": [
    {
     "data": {
      "image/png": "[encoded data removed]",
      "text/latex": [
       "$\\displaystyle V = \\pi D^{3} \\left(\\frac{1}{6} + \\frac{L}{4 D}\\right)$"
      ],
      "text/plain": [
       "       3 ⎛1    L ⎞\n",
       "V = π⋅D ⋅⎜─ + ───⎟\n",
       "         ⎝6   4⋅D⎠"
      ]
     },
     "execution_count": 32,
     "metadata": {},
     "output_type": "execute_result"
    }
   ],
   "source": [
    "\n",
    "Veq = sp.Eq(Vs, V)\n",
    "Veq"
   ]
  },
  {
   "cell_type": "code",
   "execution_count": 33,
   "metadata": {},
   "outputs": [],
   "source": [
    "t = sp.symbols('t', positive=True)"
   ]
  },
  {
   "cell_type": "code",
   "execution_count": 34,
   "metadata": {},
   "outputs": [
    {
     "data": {
      "image/png": "[encoded data removed]",
      "text/latex": [
       "$\\displaystyle V = \\pi t \\left(\\frac{L}{4 \\sqrt[3]{t}} + \\frac{1}{6}\\right)$"
      ],
      "text/plain": [
       "        ⎛   L      1⎞\n",
       "V = π⋅t⋅⎜─────── + ─⎟\n",
       "        ⎜  3 ___   6⎟\n",
       "        ⎝4⋅╲╱ t     ⎠"
      ]
     },
     "execution_count": 34,
     "metadata": {},
     "output_type": "execute_result"
    }
   ],
   "source": [
    "# Not what we want\n",
    "Veq.subs({D**3: t})"
   ]
  },
  {
   "cell_type": "code",
   "execution_count": 35,
   "metadata": {},
   "outputs": [
    {
     "data": {
      "image/png": "[encoded data removed]",
      "text/latex": [
       "$\\displaystyle V = \\pi t \\left(\\frac{1}{6} + \\frac{L}{4 D}\\right)$"
      ],
      "text/plain": [
       "        ⎛1    L ⎞\n",
       "V = π⋅t⋅⎜─ + ───⎟\n",
       "        ⎝6   4⋅D⎠"
      ]
     },
     "execution_count": 35,
     "metadata": {},
     "output_type": "execute_result"
    }
   ],
   "source": [
    "Veq.xreplace({D**3: t})"
   ]
  },
  {
   "cell_type": "code",
   "execution_count": 36,
   "metadata": {},
   "outputs": [
    {
     "data": {
      "image/png": "[encoded data removed]",
      "text/latex": [
       "$\\displaystyle \\left\\{ t : \\frac{12 D V}{\\pi \\left(2 D + 3 L\\right)}\\right\\}$"
      ],
      "text/plain": [
       "⎧       12⋅D⋅V   ⎫\n",
       "⎨t: ─────────────⎬\n",
       "⎩   π⋅(2⋅D + 3⋅L)⎭"
      ]
     },
     "execution_count": 36,
     "metadata": {},
     "output_type": "execute_result"
    }
   ],
   "source": [
    "# Doesn't work: doesn't keep the L/D ratio we want\n",
    "sp.solve(Veq.xreplace({D**3: t}), t, dict=True)[0]"
   ]
  },
  {
   "cell_type": "code",
   "execution_count": 37,
   "metadata": {},
   "outputs": [
    {
     "data": {
      "image/png": "[encoded data removed]",
      "text/latex": [
       "$\\displaystyle V = \\pi t \\left(\\frac{\\xi}{4} + \\frac{1}{6}\\right)$"
      ],
      "text/plain": [
       "        ⎛ξ   1⎞\n",
       "V = π⋅t⋅⎜─ + ─⎟\n",
       "        ⎝4   6⎠"
      ]
     },
     "execution_count": 37,
     "metadata": {},
     "output_type": "execute_result"
    }
   ],
   "source": [
    "# Solution: introduce new variable for L/D\n",
    "xi = sp.symbols('xi', positive=True)\n",
    "# Veq.xreplace({D**3: t, L/D: xi}) - doesn't work because of 4 in denominator\n",
    "# Veq.xreplace({D**3: t, L/D/4: xi/4}) - works because applied to \n",
    "Veq.xreplace({D**3: t}).subs({L/D: xi})  # also works"
   ]
  },
  {
   "cell_type": "code",
   "execution_count": 38,
   "metadata": {},
   "outputs": [
    {
     "data": {
      "image/png": "[encoded data removed]",
      "text/latex": [
       "$\\displaystyle \\frac{12 V}{\\pi \\left(2 + \\frac{3 L}{D}\\right)}$"
      ],
      "text/plain": [
       "    12⋅V   \n",
       "───────────\n",
       "  ⎛    3⋅L⎞\n",
       "π⋅⎜2 + ───⎟\n",
       "  ⎝     D ⎠"
      ]
     },
     "execution_count": 38,
     "metadata": {},
     "output_type": "execute_result"
    }
   ],
   "source": [
    "# We can now find the solution for D**3 in terms of V and L/D\n",
    "D3 = sp.solve(Veq.xreplace({D**3: t, L/D/4: xi/4}), t)[0].subs(xi, L/D)\n",
    "D3"
   ]
  },
  {
   "cell_type": "code",
   "execution_count": 39,
   "metadata": {},
   "outputs": [
    {
     "data": {
      "image/png": "[encoded data removed]",
      "text/latex": [
       "$\\displaystyle \\frac{12 V p \\rho \\left(\\frac{1}{4} + \\frac{L}{2 D}\\right)}{\\sigma \\left(2 + \\frac{3 L}{D}\\right)}$"
      ],
      "text/plain": [
       "         ⎛1    L ⎞\n",
       "12⋅V⋅p⋅ρ⋅⎜─ + ───⎟\n",
       "         ⎝4   2⋅D⎠\n",
       "──────────────────\n",
       "     ⎛    3⋅L⎞    \n",
       "   σ⋅⎜2 + ───⎟    \n",
       "     ⎝     D ⎠    "
      ]
     },
     "execution_count": 39,
     "metadata": {},
     "output_type": "execute_result"
    }
   ],
   "source": [
    "# And finally get the expression for M in terms of L/D constrained by the volume specification\n",
    "# (text replaces M for this but I believe that then Mcopy.equals(M) would be False)\n",
    "Mcons = M.xreplace({D**3: D3})\n",
    "Mcons"
   ]
  },
  {
   "cell_type": "code",
   "execution_count": 40,
   "metadata": {},
   "outputs": [
    {
     "data": {
      "image/png": "[encoded data removed]",
      "text/latex": [
       "$\\displaystyle \\frac{12 \\left(\\frac{1}{4} + \\frac{L}{2 D}\\right)}{2 + \\frac{3 L}{D}}$"
      ],
      "text/plain": [
       "   ⎛1    L ⎞\n",
       "12⋅⎜─ + ───⎟\n",
       "   ⎝4   2⋅D⎠\n",
       "────────────\n",
       "      3⋅L   \n",
       "  2 + ───   \n",
       "       D    "
      ]
     },
     "execution_count": 40,
     "metadata": {},
     "output_type": "execute_result"
    }
   ],
   "source": [
    "# Minimize by plotting.  First scale by constants and input V\n",
    "M2 = Mcons/(Vs*p*rho/sigma)\n",
    "M2"
   ]
  },
  {
   "cell_type": "code",
   "execution_count": 41,
   "metadata": {},
   "outputs": [
    {
     "data": {
      "image/png": "[encoded data removed]",
      "text/plain": [
       "<Figure size 432x288 with 1 Axes>"
      ]
     },
     "metadata": {
      "needs_background": "light"
     },
     "output_type": "display_data"
    }
   ],
   "source": [
    "_ = sp.plot(M2.subs(L/D, xi), (xi, 0, 10), xlabel='L/D', ylabel='Dimensionless Mass')"
   ]
  },
  {
   "cell_type": "code",
   "execution_count": 42,
   "metadata": {},
   "outputs": [
    {
     "data": {
      "text/plain": [
       "True"
      ]
     },
     "execution_count": 42,
     "metadata": {},
     "output_type": "execute_result"
    }
   ],
   "source": [
    "# sp.sympify() aka sp.S() converts non-SymPy to SymPy\n",
    "sp.S(8).is_real"
   ]
  },
  {
   "cell_type": "code",
   "execution_count": 43,
   "metadata": {},
   "outputs": [
    {
     "data": {
      "text/plain": [
       "\"Mul(Integer(12), Pow(pi, Integer(-1)), Symbol('V', positive=True), Pow(Add(Integer(2), Mul(Integer(3), Pow(Symbol('D', positive=True), Integer(-1)), Symbol('L', positive=True))), Integer(-1)))\""
      ]
     },
     "execution_count": 43,
     "metadata": {},
     "output_type": "execute_result"
    }
   ],
   "source": [
    "sp.srepr(D3)"
   ]
  },
  {
   "cell_type": "code",
   "execution_count": 44,
   "metadata": {},
   "outputs": [
    {
     "data": {
      "image/png": "[encoded data removed]",
      "text/latex": [
       "$\\displaystyle \\frac{12 V}{\\pi \\left(2 + \\frac{3 L}{D}\\right)}$"
      ],
      "text/plain": [
       "    12⋅V   \n",
       "───────────\n",
       "  ⎛    3⋅L⎞\n",
       "π⋅⎜2 + ───⎟\n",
       "  ⎝     D ⎠"
      ]
     },
     "execution_count": 44,
     "metadata": {},
     "output_type": "execute_result"
    }
   ],
   "source": [
    "sp.S(sp.srepr(D3))"
   ]
  },
  {
   "cell_type": "code",
   "execution_count": 45,
   "metadata": {},
   "outputs": [],
   "source": [
    "import inspect"
   ]
  },
  {
   "cell_type": "code",
   "execution_count": 46,
   "metadata": {},
   "outputs": [
    {
     "data": {
      "text/plain": [
       "(sympy.core.add.Add,\n",
       " sympy.core.expr.Expr,\n",
       " sympy.core.operations.AssocOp,\n",
       " sympy.core.basic.Basic,\n",
       " sympy.printing.defaults.Printable,\n",
       " sympy.core.evalf.EvalfMixin,\n",
       " object)"
      ]
     },
     "execution_count": 46,
     "metadata": {},
     "output_type": "execute_result"
    }
   ],
   "source": [
    "# Message Resolution Order of an object\n",
    "inspect.getmro(sp.Add)"
   ]
  },
  {
   "cell_type": "code",
   "execution_count": 47,
   "metadata": {},
   "outputs": [
    {
     "data": {
      "image/png": "[encoded data removed]",
      "text/latex": [
       "$\\displaystyle x^{2} + x \\cos{\\left(x \\right)} - \\frac{1}{x}$"
      ],
      "text/plain": [
       " 2              1\n",
       "x  + x⋅cos(x) - ─\n",
       "                x"
      ]
     },
     "execution_count": 47,
     "metadata": {},
     "output_type": "execute_result"
    }
   ],
   "source": [
    "expr1 = x**2 + x*sp.cos(x) - 1/x\n",
    "expr1"
   ]
  },
  {
   "cell_type": "code",
   "execution_count": 48,
   "metadata": {},
   "outputs": [
    {
     "data": {
      "image/png": "[encoded data removed]",
      "text/latex": [
       "$\\displaystyle \\left\\{-1, 2, x\\right\\}$"
      ],
      "text/plain": [
       "{-1, 2, x}"
      ]
     },
     "execution_count": 48,
     "metadata": {},
     "output_type": "execute_result"
    }
   ],
   "source": [
    "expr1.atoms()"
   ]
  },
  {
   "cell_type": "code",
   "execution_count": 49,
   "metadata": {},
   "outputs": [
    {
     "data": {
      "image/png": "[encoded data removed]",
      "text/latex": [
       "$\\displaystyle \\left\\{x\\right\\}$"
      ],
      "text/plain": [
       "{x}"
      ]
     },
     "execution_count": 49,
     "metadata": {},
     "output_type": "execute_result"
    }
   ],
   "source": [
    "expr1.free_symbols"
   ]
  },
  {
   "cell_type": "code",
   "execution_count": 50,
   "metadata": {},
   "outputs": [
    {
     "data": {
      "image/png": "[encoded data removed]",
      "text/latex": [
       "$\\displaystyle \\left( x^{2}, \\  - \\frac{1}{x}, \\  x \\cos{\\left(x \\right)}\\right)$"
      ],
      "text/plain": [
       "⎛ 2  -1           ⎞\n",
       "⎜x , ───, x⋅cos(x)⎟\n",
       "⎝     x           ⎠"
      ]
     },
     "execution_count": 50,
     "metadata": {},
     "output_type": "execute_result"
    }
   ],
   "source": [
    "expr1.args"
   ]
  },
  {
   "cell_type": "code",
   "execution_count": 51,
   "metadata": {},
   "outputs": [
    {
     "data": {
      "text/plain": [
       "sympy.core.add.Add"
      ]
     },
     "execution_count": 51,
     "metadata": {},
     "output_type": "execute_result"
    }
   ],
   "source": [
    "expr1.func"
   ]
  },
  {
   "cell_type": "code",
   "execution_count": 52,
   "metadata": {},
   "outputs": [
    {
     "data": {
      "image/png": "[encoded data removed]",
      "text/latex": [
       "$\\displaystyle B + \\frac{C^{2} m \\left(1 + \\frac{1}{A}\\right)}{2} + \\frac{D^{2} m \\left(1 + \\frac{1}{A}\\right)}{2}$"
      ],
      "text/plain": [
       "     2   ⎛    1⎞    2   ⎛    1⎞\n",
       "    C ⋅m⋅⎜1 + ─⎟   D ⋅m⋅⎜1 + ─⎟\n",
       "         ⎝    A⎠        ⎝    A⎠\n",
       "B + ──────────── + ────────────\n",
       "         2              2      "
      ]
     },
     "execution_count": 52,
     "metadata": {},
     "output_type": "execute_result"
    }
   ],
   "source": [
    "m, A, B, C, D = sp.symbols('m A B C D')\n",
    "t = m/2*(1+1/A)\n",
    "expr = C**2*t + D**2*t + B\n",
    "expr"
   ]
  },
  {
   "cell_type": "code",
   "execution_count": 53,
   "metadata": {},
   "outputs": [
    {
     "data": {
      "image/png": "[encoded data removed]",
      "text/latex": [
       "$\\displaystyle \\frac{2 B}{m \\left(1 + \\frac{1}{A}\\right)} + C^{2} + D^{2}$"
      ],
      "text/plain": [
       "   2⋅B       2    2\n",
       "───────── + C  + D \n",
       "  ⎛    1⎞          \n",
       "m⋅⎜1 + ─⎟          \n",
       "  ⎝    A⎠          "
      ]
     },
     "execution_count": 53,
     "metadata": {},
     "output_type": "execute_result"
    }
   ],
   "source": [
    "expr.func(*(term/t for term in expr.args))"
   ]
  },
  {
   "cell_type": "code",
   "execution_count": 54,
   "metadata": {},
   "outputs": [
    {
     "data": {
      "image/png": "[encoded data removed]",
      "text/latex": [
       "$\\displaystyle x^{2} + 2 y z$"
      ],
      "text/plain": [
       " 2        \n",
       "x  + 2⋅y⋅z"
      ]
     },
     "execution_count": 54,
     "metadata": {},
     "output_type": "execute_result"
    }
   ],
   "source": [
    "x, y, z, a, b = sp.symbols('x:z a:b')\n",
    "expr = x**2 + 2*y*z\n",
    "expr"
   ]
  },
  {
   "cell_type": "code",
   "execution_count": 55,
   "metadata": {},
   "outputs": [
    {
     "data": {
      "image/png": "[encoded data removed]",
      "text/latex": [
       "$\\displaystyle \\int\\limits_{a}^{b} \\left(x^{2} + 2 y z\\right)\\, dx$"
      ],
      "text/plain": [
       "b                \n",
       "⌠                \n",
       "⎮ ⎛ 2        ⎞   \n",
       "⎮ ⎝x  + 2⋅y⋅z⎠ dx\n",
       "⌡                \n",
       "a                "
      ]
     },
     "execution_count": 55,
     "metadata": {},
     "output_type": "execute_result"
    }
   ],
   "source": [
    "integ = sp.Integral(expr, (x, a, b))\n",
    "integ"
   ]
  },
  {
   "cell_type": "code",
   "execution_count": 56,
   "metadata": {},
   "outputs": [
    {
     "data": {
      "image/png": "[encoded data removed]",
      "text/latex": [
       "$\\displaystyle \\left[ x\\right]$"
      ],
      "text/plain": [
       "[x]"
      ]
     },
     "execution_count": 56,
     "metadata": {},
     "output_type": "execute_result"
    }
   ],
   "source": [
    "integ.bound_symbols"
   ]
  },
  {
   "cell_type": "code",
   "execution_count": 57,
   "metadata": {},
   "outputs": [
    {
     "data": {
      "image/png": "[encoded data removed]",
      "text/latex": [
       "$\\displaystyle \\int\\limits_{a}^{b} \\left(t^{2} + 2 y z\\right)\\, dt$"
      ],
      "text/plain": [
       "b                \n",
       "⌠                \n",
       "⎮ ⎛ 2        ⎞   \n",
       "⎮ ⎝t  + 2⋅y⋅z⎠ dt\n",
       "⌡                \n",
       "a                "
      ]
     },
     "execution_count": 57,
     "metadata": {},
     "output_type": "execute_result"
    }
   ],
   "source": [
    "t = sp.symbols('t')\n",
    "integ.replace(x, t)"
   ]
  },
  {
   "cell_type": "code",
   "execution_count": 58,
   "metadata": {},
   "outputs": [
    {
     "data": {
      "text/plain": [
       "\"Integral(Add(Pow(Symbol('x'), Integer(2)), Mul(Integer(2), Symbol('y'), Symbol('z'))), Tuple(Symbol('x'), Symbol('a'), Symbol('b')))\""
      ]
     },
     "execution_count": 58,
     "metadata": {},
     "output_type": "execute_result"
    }
   ],
   "source": [
    "sp.srepr(integ)"
   ]
  },
  {
   "cell_type": "code",
   "execution_count": 59,
   "metadata": {},
   "outputs": [
    {
     "data": {
      "image/png": "[encoded data removed]",
      "text/latex": [
       "$\\displaystyle 2$"
      ],
      "text/plain": [
       "2"
      ]
     },
     "execution_count": 59,
     "metadata": {},
     "output_type": "execute_result"
    }
   ],
   "source": [
    "n = sp.symbols('n', positive=True, integer=True)\n",
    "sp.Sum(1/2**n, (n, 0, sp.oo)).doit()"
   ]
  },
  {
   "cell_type": "code",
   "execution_count": 60,
   "metadata": {},
   "outputs": [
    {
     "data": {
      "image/png": "[encoded data removed]",
      "text/latex": [
       "$\\displaystyle 2$"
      ],
      "text/plain": [
       "2"
      ]
     },
     "execution_count": 60,
     "metadata": {},
     "output_type": "execute_result"
    }
   ],
   "source": [
    "n = sp.symbols('n', positive=True, integer=True)\n",
    "sp.summation(1/2**n, (n,0,sp.oo))"
   ]
  },
  {
   "cell_type": "code",
   "execution_count": 61,
   "metadata": {},
   "outputs": [],
   "source": [
    "from sympy.stats import Normal"
   ]
  },
  {
   "cell_type": "code",
   "execution_count": 64,
   "metadata": {},
   "outputs": [
    {
     "data": {
      "image/png": "[encoded data removed]",
      "text/latex": [
       "$\\displaystyle \\left( \\mu_{0}, \\  \\mu_{1}\\right)$"
      ],
      "text/plain": [
       "(μ₀, μ₁)"
      ]
     },
     "execution_count": 64,
     "metadata": {},
     "output_type": "execute_result"
    }
   ],
   "source": [
    "mu0, mu1 = sp.symbols('mu:2', real=True)\n",
    "mu0, mu1"
   ]
  },
  {
   "cell_type": "code",
   "execution_count": 65,
   "metadata": {},
   "outputs": [
    {
     "data": {
      "image/png": "[encoded data removed]",
      "text/latex": [
       "$\\displaystyle \\left( \\sigma_{0}, \\  \\sigma_{1}\\right)$"
      ],
      "text/plain": [
       "(σ₀, σ₁)"
      ]
     },
     "execution_count": 65,
     "metadata": {},
     "output_type": "execute_result"
    }
   ],
   "source": [
    "sigma0, sigma1 = sp.symbols('sigma:2', positive=True)\n",
    "sigma0, sigma1"
   ]
  },
  {
   "cell_type": "code",
   "execution_count": 68,
   "metadata": {},
   "outputs": [
    {
     "data": {
      "image/png": "[encoded data removed]",
      "text/latex": [
       "$\\displaystyle \\left( N_{0}, \\  N_{1}\\right)$"
      ],
      "text/plain": [
       "(N₀, N₁)"
      ]
     },
     "execution_count": 68,
     "metadata": {},
     "output_type": "execute_result"
    }
   ],
   "source": [
    "N0 = Normal('N_0', mu0, sigma0)\n",
    "N1 = Normal('N_1', mu1, sigma1)\n",
    "N0, N1"
   ]
  },
  {
   "cell_type": "code",
   "execution_count": 84,
   "metadata": {},
   "outputs": [
    {
     "data": {
      "image/png": "[encoded data removed]",
      "text/latex": [
       "$\\displaystyle \\frac{\\mu_{0}^{2} - 2 \\mu_{0} \\mu_{1} + \\mu_{1}^{2} + \\sigma_{0}^{2} - \\sigma_{1}^{2} + \\log{\\left(\\sigma_{0}^{- 2 \\sigma_{1}^{2}} \\sigma_{1}^{2 \\sigma_{1}^{2}} \\right)}}{2 \\sigma_{1}^{2}}$"
      ],
      "text/plain": [
       "                                     ⎛       2       2⎞\n",
       "  2               2     2     2      ⎜  -2⋅σ₁    2⋅σ₁ ⎟\n",
       "μ₀  - 2⋅μ₀⋅μ₁ + μ₁  + σ₀  - σ₁  + log⎝σ₀      ⋅σ₁     ⎠\n",
       "───────────────────────────────────────────────────────\n",
       "                             2                         \n",
       "                         2⋅σ₁                          "
      ]
     },
     "execution_count": 84,
     "metadata": {},
     "output_type": "execute_result"
    }
   ],
   "source": [
    "x = sp.symbols('x', real=True)\n",
    "p = sp.stats.density(N0)(x) # .subs({mu0:0, sigma0: 1})\n",
    "q = sp.stats.density(N1)(x)\n",
    "\n",
    "sp.integrate(p*(sp.log(p) - sp.log(q)), (x, -sp.oo, sp.oo)).simplify()"
   ]
  },
  {
   "cell_type": "code",
   "execution_count": null,
   "metadata": {},
   "outputs": [],
   "source": []
  }
 ],
 "metadata": {
  "kernelspec": {
   "display_name": "Python 3",
   "language": "python",
   "name": "python3"
  },
  "language_info": {
   "codemirror_mode": {
    "name": "ipython",
    "version": 3
   },
   "file_extension": ".py",
   "mimetype": "text/x-python",
   "name": "python",
   "nbconvert_exporter": "python",
   "pygments_lexer": "ipython3",
   "version": "3.8.10"
  }
 },
 "nbformat": 4,
 "nbformat_minor": 1
}
