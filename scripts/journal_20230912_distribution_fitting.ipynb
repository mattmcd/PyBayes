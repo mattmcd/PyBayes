{
 "cells": [
  {
   "cell_type": "markdown",
   "id": "d3ce1b9a-8b54-4595-9460-9e3c5e0ea9da",
   "metadata": {},
   "source": [
    "# Poisson Regression in Statsmodels and TensorFlow Probability\n",
    "Author: Matt McDonnell (@mattmcd)  \n",
    "\n",
    "Date: 2023-09-12\n",
    "\n",
    "Comparison between the [statsmodels](https://www.statsmodels.org/stable/index.html), [TensorFlow Probability GLM](https://www.tensorflow.org/probability/api_docs/python/tfp/glm), and [TensorFlow Probability Distribution Lambda](https://www.tensorflow.org/probability/api_docs/python/tfp/layers/DistributionLambda) APIs."
   ]
  },
  {
   "cell_type": "markdown",
   "id": "981460bd-3c25-4b86-bac4-b0b984b55927",
   "metadata": {},
   "source": [
    "# Imports"
   ]
  },
  {
   "cell_type": "code",
   "execution_count": 1,
   "id": "initial_id",
   "metadata": {},
   "outputs": [],
   "source": [
    "%load_ext autoreload\n",
    "%autoreload 2"
   ]
  },
  {
   "cell_type": "code",
   "execution_count": 2,
   "id": "066452f0-ce22-41f0-9f21-3f4b056c7100",
   "metadata": {},
   "outputs": [],
   "source": [
    "from startup import np, pd, plt, sns\n",
    "from startup_gui import interact, interactive, widgets"
   ]
  },
  {
   "cell_type": "code",
   "execution_count": 3,
   "id": "193d196c-cf73-42e9-ae87-b5f5bb9b9fa3",
   "metadata": {},
   "outputs": [],
   "source": [
    "import scipy\n",
    "import sympy as sp"
   ]
  },
  {
   "cell_type": "code",
   "execution_count": 4,
   "id": "85771711-149f-4d6b-8132-cd112311ba21",
   "metadata": {},
   "outputs": [],
   "source": [
    "import statsmodels.api as sm\n",
    "import statsmodels.formula.api as smf"
   ]
  },
  {
   "cell_type": "code",
   "execution_count": 5,
   "id": "1442cc12-e68f-4f3c-ba64-e8ef4ffd5026",
   "metadata": {},
   "outputs": [
    {
     "name": "stderr",
     "output_type": "stream",
     "text": [
      "2023-09-13 08:11:44.592 Python[5414:42893] apply_selection_policy_once: avoid use of removable GPUs (via org.python.python:GPUSelectionPolicy->avoidRemovable)\n"
     ]
    }
   ],
   "source": [
    "import tensorflow as tf\n",
    "import tensorflow_probability as tfp"
   ]
  },
  {
   "cell_type": "code",
   "execution_count": 6,
   "id": "656740ff-4dc2-42d0-9648-102006bd142e",
   "metadata": {},
   "outputs": [],
   "source": [
    "from tensorflow.keras.layers import Dense, Input\n",
    "from tensorflow.keras import Model"
   ]
  },
  {
   "cell_type": "code",
   "execution_count": 7,
   "id": "0765b950-dc6c-4d2d-a42b-4bfd1266cba2",
   "metadata": {},
   "outputs": [],
   "source": [
    "tfd = tfp.distributions"
   ]
  },
  {
   "cell_type": "code",
   "execution_count": 8,
   "id": "453e133b-1c85-451b-8360-e01275da7b34",
   "metadata": {},
   "outputs": [],
   "source": [
    "rng = np.random.default_rng(seed=42)"
   ]
  },
  {
   "cell_type": "markdown",
   "id": "498742e1-42e1-456b-b911-583dfb023e80",
   "metadata": {},
   "source": [
    "# Creating Poisson Distribution"
   ]
  },
  {
   "cell_type": "code",
   "execution_count": 9,
   "id": "3b37f8c8-53fc-480b-be37-75aa62f204ee",
   "metadata": {},
   "outputs": [],
   "source": [
    "def create_dataset(dist_mean, n_sample=10_000):\n",
    "    df = pd.DataFrame(\n",
    "        {\n",
    "            'response': rng.poisson(dist_mean, n_sample).astype(np.float32),  # Response variable\n",
    "            'Intercept': np.ones((n_sample, ), dtype=np.float32)  # Explanatory variable - just the intercept\n",
    "        }\n",
    "    )\n",
    "    return df"
   ]
  },
  {
   "cell_type": "code",
   "execution_count": 10,
   "id": "a3a3f0aa-b84c-4cac-9082-b441cd2e686a",
   "metadata": {},
   "outputs": [],
   "source": [
    "def show_dist(df):\n",
    "    display(df.describe())\n",
    "    df.response.hist(bins=np.arange(0, 41), figsize=(4,2))"
   ]
  },
  {
   "cell_type": "markdown",
   "id": "9db347c0-dcde-4add-902b-ea882a5d1648",
   "metadata": {},
   "source": [
    "## GUI"
   ]
  },
  {
   "cell_type": "code",
   "execution_count": 11,
   "id": "6304548a-c872-4f38-a483-76f12b2ad385",
   "metadata": {},
   "outputs": [
    {
     "data": {
      "application/vnd.jupyter.widget-view+json": {
       "model_id": "36d4a49fa4554c59930cbdd611c657a8",
       "version_major": 2,
       "version_minor": 0
      },
      "text/plain": [
       "interactive(children=(IntSlider(value=10, description='dist_mean', max=20, min=1), Output()), _dom_classes=('w…"
      ]
     },
     "metadata": {},
     "output_type": "display_data"
    }
   ],
   "source": [
    "_ = interact(lambda dist_mean: show_dist(create_dataset(dist_mean)), dist_mean=widgets.IntSlider(10, min=1, max=20))"
   ]
  },
  {
   "cell_type": "markdown",
   "id": "d70c0802-2610-4f0e-8182-e9f68c3d903e",
   "metadata": {},
   "source": [
    "# Fitting Poisson Distribution Using statsmodels"
   ]
  },
  {
   "cell_type": "code",
   "execution_count": 12,
   "id": "9e4a0ec6-55c0-4de2-aa9e-bdd8949ee54b",
   "metadata": {},
   "outputs": [],
   "source": [
    "def create_statsmodel(df):\n",
    "    return smf.glm('response ~ 1', data=df, family=sm.families.Poisson())"
   ]
  },
  {
   "cell_type": "code",
   "execution_count": 13,
   "id": "89e1c5fa-fa65-4305-842c-b9621db8174c",
   "metadata": {},
   "outputs": [],
   "source": [
    "def fit_statsmodel(df):\n",
    "    mdl = create_statsmodel(df).fit()\n",
    "    show_dist(df)\n",
    "    display(mdl.summary())\n",
    "    print(f'Fit distribution mean = exp(Intercept) = {np.exp(mdl.params.Intercept).round(2)}')"
   ]
  },
  {
   "cell_type": "markdown",
   "id": "e5e24e74-25fe-4ddb-95e4-1cbd2b0e5c4b",
   "metadata": {},
   "source": [
    "## GUI"
   ]
  },
  {
   "cell_type": "code",
   "execution_count": 14,
   "id": "8981e3b5-ce83-4775-bd67-5e504ca3e28f",
   "metadata": {},
   "outputs": [
    {
     "data": {
      "application/vnd.jupyter.widget-view+json": {
       "model_id": "25f774ed498b409e8d27cb4c5332a4d4",
       "version_major": 2,
       "version_minor": 0
      },
      "text/plain": [
       "interactive(children=(IntSlider(value=10, description='dist_mean', max=20, min=1), Output()), _dom_classes=('w…"
      ]
     },
     "metadata": {},
     "output_type": "display_data"
    }
   ],
   "source": [
    "_ = interact(lambda dist_mean: fit_statsmodel(create_dataset(dist_mean)), dist_mean=widgets.IntSlider(10, min=1, max=20))"
   ]
  },
  {
   "cell_type": "markdown",
   "id": "bb94f4c8-9a57-4321-b4f0-3ac69dce8bd3",
   "metadata": {},
   "source": [
    "# Fitting Poisson Distribution using TensorFlow Probability GLM\n",
    "Direct replacement for statsmodels GLM, see [TFP Generalized Linear Models](https://www.tensorflow.org/probability/examples/Generalized_Linear_Models) examples documentation."
   ]
  },
  {
   "cell_type": "code",
   "execution_count": 15,
   "id": "955c3534-eb44-4caa-8e55-0d48b65a50a7",
   "metadata": {},
   "outputs": [],
   "source": [
    "def create_tfp_glm_model():\n",
    "    return tfp.glm.Poisson()"
   ]
  },
  {
   "cell_type": "code",
   "execution_count": 16,
   "id": "68dee9ee-0fa7-45a7-bb34-bc7eb10dd1f6",
   "metadata": {},
   "outputs": [],
   "source": [
    "def fit_tfp_glm_model(model, df):\n",
    "    coeffs, linear_response, is_converged, num_iter = tfp.glm.fit(\n",
    "    model_matrix=df.Intercept.values[:, tf.newaxis],\n",
    "    response=tf.cast(df.response.values, dtype=tf.float32),\n",
    "    model=model_glm)\n",
    "    return coeffs, linear_response"
   ]
  },
  {
   "cell_type": "code",
   "execution_count": 17,
   "id": "d723bcb9-6b08-4657-8b69-4c0e6b66f985",
   "metadata": {},
   "outputs": [],
   "source": [
    "model_glm = create_tfp_glm_model()"
   ]
  },
  {
   "cell_type": "code",
   "execution_count": 18,
   "id": "8339eb4a-d82d-4be2-8be1-fa86678a78b2",
   "metadata": {},
   "outputs": [],
   "source": [
    "coeffs, linear_response = fit_tfp_glm_model(model_glm, create_dataset(10))"
   ]
  },
  {
   "cell_type": "code",
   "execution_count": 19,
   "id": "3c15082f-e430-4709-8cb6-1e611d914d89",
   "metadata": {},
   "outputs": [
    {
     "data": {
      "text/plain": [
       "<tf.Tensor: shape=(1,), dtype=float32, numpy=array([2.3032646], dtype=float32)>"
      ]
     },
     "execution_count": 19,
     "metadata": {},
     "output_type": "execute_result"
    }
   ],
   "source": [
    "coeffs"
   ]
  },
  {
   "cell_type": "code",
   "execution_count": 20,
   "id": "4adafae5-ac45-4bd8-97f5-ac484830cc21",
   "metadata": {},
   "outputs": [
    {
     "data": {
      "text/plain": [
       "2.3032646"
      ]
     },
     "execution_count": 20,
     "metadata": {},
     "output_type": "execute_result"
    }
   ],
   "source": [
    "np.mean(linear_response)"
   ]
  },
  {
   "cell_type": "code",
   "execution_count": 21,
   "id": "34f0db85-bc0d-4c1f-96ed-58b872b63414",
   "metadata": {},
   "outputs": [
    {
     "name": "stderr",
     "output_type": "stream",
     "text": [
      "2023-09-13 08:11:45.938503: E tensorflow/core/grappler/optimizers/meta_optimizer.cc:954] PluggableGraphOptimizer failed: INVALID_ARGUMENT: Unparseable tensorflow.GraphDef proto\n",
      "2023-09-13 08:11:45.943339: E tensorflow/core/grappler/optimizers/meta_optimizer.cc:954] PluggableGraphOptimizer failed: INVALID_ARGUMENT: Unparseable tensorflow.GraphDef proto\n",
      "2023-09-13 08:11:45.975376: E tensorflow/core/grappler/optimizers/meta_optimizer.cc:954] PluggableGraphOptimizer failed: INVALID_ARGUMENT: Unparseable tensorflow.GraphDef proto\n",
      "2023-09-13 08:11:45.984290: E tensorflow/core/grappler/optimizers/meta_optimizer.cc:954] PluggableGraphOptimizer failed: INVALID_ARGUMENT: Unparseable tensorflow.GraphDef proto\n"
     ]
    },
    {
     "data": {
      "text/plain": [
       "<tf.Tensor: shape=(10000,), dtype=float32, numpy=array([ 7.,  6.,  8., ...,  8., 14.,  7.], dtype=float32)>"
      ]
     },
     "execution_count": 21,
     "metadata": {},
     "output_type": "execute_result"
    }
   ],
   "source": [
    "model_glm.as_distribution(linear_response).sample()"
   ]
  },
  {
   "cell_type": "markdown",
   "id": "09effef4-892a-4e05-b230-9fa51166ddaa",
   "metadata": {},
   "source": [
    "## GUI"
   ]
  },
  {
   "cell_type": "code",
   "execution_count": 22,
   "id": "6b560131-837b-40a6-9c5d-a5145c8a98fe",
   "metadata": {},
   "outputs": [],
   "source": [
    "def fit_display_tfp_glm(df):\n",
    "    model_glm = create_tfp_glm_model()\n",
    "    coeffs, linear_response = fit_tfp_glm_model(model_glm, df)\n",
    "    # Sample predicted distribution\n",
    "    sample_x = np.ones((1000, 1))\n",
    "    sample_linear_response = (sample_x.dot(coeffs.numpy())).reshape(-1)\n",
    "    df_p = pd.DataFrame({'response': model_glm.as_distribution(sample_linear_response).sample().numpy()})\n",
    "    show_dist(df_p)\n",
    "    print(f'Fit distribution mean = exp(Intercept) = {np.exp(coeffs[0]).round(2)}')"
   ]
  },
  {
   "cell_type": "code",
   "execution_count": 23,
   "id": "402963ff-386b-4512-a33e-0e0430301d92",
   "metadata": {},
   "outputs": [
    {
     "data": {
      "application/vnd.jupyter.widget-view+json": {
       "model_id": "7786b2a7fd8c49f6941ee39050152fed",
       "version_major": 2,
       "version_minor": 0
      },
      "text/plain": [
       "interactive(children=(IntSlider(value=10, description='dist_mean', max=20, min=1), Output()), _dom_classes=('w…"
      ]
     },
     "metadata": {},
     "output_type": "display_data"
    }
   ],
   "source": [
    "_ = interact(\n",
    "    lambda dist_mean: print(\n",
    "        'Fit distribution mean = exp(Intercept) = ' + \n",
    "       f'{np.exp(fit_tfp_glm_model(model_glm, create_dataset(dist_mean))[0][0]).round(2)}'\n",
    "    ),\n",
    "    dist_mean=widgets.IntSlider(10, min=1, max=20)\n",
    ")"
   ]
  },
  {
   "cell_type": "code",
   "execution_count": 24,
   "id": "b7d1ac9f-bce3-42ac-ab2e-f1ad53fd2df9",
   "metadata": {},
   "outputs": [
    {
     "data": {
      "application/vnd.jupyter.widget-view+json": {
       "model_id": "c5e98a3d19fc4cfaa2504da7226b29bc",
       "version_major": 2,
       "version_minor": 0
      },
      "text/plain": [
       "interactive(children=(IntSlider(value=10, description='dist_mean', max=20, min=1), Output()), _dom_classes=('w…"
      ]
     },
     "metadata": {},
     "output_type": "display_data"
    }
   ],
   "source": [
    "_ = interact(lambda dist_mean: fit_display_tfp_glm(create_dataset(dist_mean)), dist_mean=widgets.IntSlider(10, min=1, max=20))"
   ]
  },
  {
   "cell_type": "markdown",
   "id": "1a25f2cd-55f7-49f4-8ba1-298dc5b489f6",
   "metadata": {},
   "source": [
    "# Fitting Poisson Distribution using TensorFlow Probability Distribution Lambda Layer\n",
    "This is the most general form and can be used with any TFP-constructible distribution.  However it is slower than TFP GLM to fit because it uses generalized optimisation rather than Exponential Family-specific routines."
   ]
  },
  {
   "cell_type": "code",
   "execution_count": 25,
   "id": "b8bd285d-a9eb-4fb8-b600-aa14ba603f49",
   "metadata": {},
   "outputs": [],
   "source": [
    "def create_tfp_layer_model():    \n",
    "    def create_model():\n",
    "        inputs = Input(shape=(1, ))\n",
    "        rate = Dense(1, activation=tf.exp)(inputs)  # Note the exp link function\n",
    "        p_y = tfp.layers.DistributionLambda(tfd.Poisson)(rate)\n",
    "        model = Model(inputs=inputs, outputs=p_y)\n",
    "        return model\n",
    "\n",
    "    def NLL(y_true, y_hat):\n",
    "        return -y_hat.log_prob(y_true)\n",
    "\n",
    "    model = create_model()\n",
    "    model.compile(tf.keras.optimizers.legacy.Adam(learning_rate=0.01), loss=NLL)  # For Mac M1, use non-legacy otherwise\n",
    "    return model"
   ]
  },
  {
   "cell_type": "code",
   "execution_count": 26,
   "id": "d894873d-5639-4558-a69f-d2f207f588f7",
   "metadata": {},
   "outputs": [],
   "source": [
    "def fit_tfp_layer_model(model, df):\n",
    "    model.fit(df.Intercept.values, df.response.values)"
   ]
  },
  {
   "cell_type": "code",
   "execution_count": 27,
   "id": "062c8eb8-dfe5-4a28-a26f-ff3474a777e7",
   "metadata": {},
   "outputs": [],
   "source": [
    "model_tfp = create_tfp_layer_model()"
   ]
  },
  {
   "cell_type": "code",
   "execution_count": 28,
   "id": "b6ec2e1d-a2dd-4f7a-8461-73a227064f90",
   "metadata": {},
   "outputs": [
    {
     "name": "stdout",
     "output_type": "stream",
     "text": [
      "Model: \"model\"\n",
      "_________________________________________________________________\n",
      " Layer (type)                Output Shape              Param #   \n",
      "=================================================================\n",
      " input_1 (InputLayer)        [(None, 1)]               0         \n",
      "                                                                 \n",
      " dense (Dense)               (None, 1)                 2         \n",
      "                                                                 \n",
      " distribution_lambda (Distr  ((None, 1),               0         \n",
      " ibutionLambda)               (None, 1))                         \n",
      "                                                                 \n",
      "=================================================================\n",
      "Total params: 2 (8.00 Byte)\n",
      "Trainable params: 2 (8.00 Byte)\n",
      "Non-trainable params: 0 (0.00 Byte)\n",
      "_________________________________________________________________\n"
     ]
    },
    {
     "data": {
      "text/plain": [
       "None"
      ]
     },
     "metadata": {},
     "output_type": "display_data"
    }
   ],
   "source": [
    "display(model_tfp.summary())"
   ]
  },
  {
   "cell_type": "code",
   "execution_count": 29,
   "id": "6af7f4cc-358d-431b-aad4-03cfa7246974",
   "metadata": {},
   "outputs": [
    {
     "name": "stdout",
     "output_type": "stream",
     "text": [
      " 24/313 [=>............................] - ETA: 1s - loss: 13.7360"
     ]
    },
    {
     "name": "stderr",
     "output_type": "stream",
     "text": [
      "2023-09-13 08:11:47.278901: E tensorflow/core/grappler/optimizers/meta_optimizer.cc:954] PluggableGraphOptimizer failed: INVALID_ARGUMENT: Unparseable tensorflow.GraphDef proto\n",
      "2023-09-13 08:11:47.282276: E tensorflow/core/grappler/optimizers/meta_optimizer.cc:954] PluggableGraphOptimizer failed: INVALID_ARGUMENT: Unparseable tensorflow.GraphDef proto\n"
     ]
    },
    {
     "name": "stdout",
     "output_type": "stream",
     "text": [
      "313/313 [==============================] - 2s 4ms/step - loss: 4.4678\n"
     ]
    }
   ],
   "source": [
    "fit_tfp_layer_model(model_tfp, create_dataset(10))"
   ]
  },
  {
   "cell_type": "markdown",
   "id": "6461ab19-4fa4-45c2-abe8-2c185fcf84dc",
   "metadata": {},
   "source": [
    "Visualise by generating predictions from the distribution and plotting histogram "
   ]
  },
  {
   "cell_type": "code",
   "execution_count": 30,
   "id": "9b593103-b2e9-4327-a3df-b6c73e2d54e5",
   "metadata": {},
   "outputs": [
    {
     "name": "stdout",
     "output_type": "stream",
     "text": [
      " 1/32 [..............................] - ETA: 5s"
     ]
    },
    {
     "name": "stderr",
     "output_type": "stream",
     "text": [
      "2023-09-13 08:11:48.721803: E tensorflow/core/grappler/optimizers/meta_optimizer.cc:954] PluggableGraphOptimizer failed: INVALID_ARGUMENT: Unparseable tensorflow.GraphDef proto\n",
      "2023-09-13 08:11:48.728763: E tensorflow/core/grappler/optimizers/meta_optimizer.cc:954] PluggableGraphOptimizer failed: INVALID_ARGUMENT: Unparseable tensorflow.GraphDef proto\n",
      "2023-09-13 08:11:48.766118: E tensorflow/core/grappler/optimizers/meta_optimizer.cc:954] PluggableGraphOptimizer failed: INVALID_ARGUMENT: Unparseable tensorflow.GraphDef proto\n",
      "2023-09-13 08:11:48.774875: E tensorflow/core/grappler/optimizers/meta_optimizer.cc:954] PluggableGraphOptimizer failed: INVALID_ARGUMENT: Unparseable tensorflow.GraphDef proto\n"
     ]
    },
    {
     "name": "stdout",
     "output_type": "stream",
     "text": [
      "32/32 [==============================] - 1s 31ms/step\n"
     ]
    },
    {
     "data": {
      "text/plain": [
       "array([[<Axes: title={'center': 'pred'}>]], dtype=object)"
      ]
     },
     "execution_count": 30,
     "metadata": {},
     "output_type": "execute_result"
    },
    {
     "data": {
      "image/png": "[encoded data removed]",
      "text/plain": [
       "<Figure size 400x200 with 1 Axes>"
      ]
     },
     "metadata": {},
     "output_type": "display_data"
    }
   ],
   "source": [
    "pd.DataFrame({'pred': model_tfp.predict(np.ones(1000)).reshape(-1)}).hist(bins=np.arange(0, 41), figsize=(4,2))"
   ]
  },
  {
   "cell_type": "code",
   "execution_count": null,
   "id": "0d7470f2-40cc-4efb-bb11-bccc493a08a1",
   "metadata": {},
   "outputs": [],
   "source": []
  }
 ],
 "metadata": {
  "kernelspec": {
   "display_name": "Python 3 (ipykernel)",
   "language": "python",
   "name": "python3"
  },
  "language_info": {
   "codemirror_mode": {
    "name": "ipython",
    "version": 3
   },
   "file_extension": ".py",
   "mimetype": "text/x-python",
   "name": "python",
   "nbconvert_exporter": "python",
   "pygments_lexer": "ipython3",
   "version": "3.8.18"
  }
 },
 "nbformat": 4,
 "nbformat_minor": 5
}
