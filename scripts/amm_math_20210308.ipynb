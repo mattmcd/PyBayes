{
 "cells": [
  {
   "cell_type": "markdown",
   "metadata": {},
   "source": [
    "# Characteristics of Autonomous Market Makers\n",
    "\n",
    "Date: 2021-03-26 \n",
    "\n",
    "(Date started: December 2020 Christmas holidays)\n",
    "\n",
    "Author: [@mattmcd](https://twitter.com/mattmcd)\n",
    "\n",
    "This notebook describes an approach using [method of characteristics](https://en.wikipedia.org/wiki/Method_of_characteristics) solutions of partial differential equations (PDEs) to examine existing AMM invariants such as Uniswap, Balancer and Curve (a.k.a. Stableswap).  "
   ]
  },
  {
   "cell_type": "code",
   "execution_count": 1,
   "metadata": {},
   "outputs": [],
   "source": [
    "from IPython.display import HTML\n",
    "# Hide code cells https://gist.github.com/uolter/970adfedf44962b47d32347d262fe9be  \n",
    "def hide_code():\n",
    "    return HTML('''<script>\n",
    "    code_show=true; \n",
    "    function code_toggle() {\n",
    "        if (code_show){\n",
    "        $(\"div.input\").hide();\n",
    "        } else {\n",
    "        $(\"div.input\").show();\n",
    "        }\n",
    "    code_show = !code_show\n",
    "    } \n",
    "    $( document ).ready(code_toggle);\n",
    "    </script>\n",
    "    The raw code for this IPython notebook is by default hidden for easier reading.\n",
    "    To toggle on/off the raw code, click <a href=\"javascript:code_toggle()\">here</a>.''')"
   ]
  },
  {
   "cell_type": "code",
   "execution_count": 2,
   "metadata": {},
   "outputs": [],
   "source": [
    "import sympy as sp\n",
    "import matplotlib.pyplot as plt\n",
    "import numpy as np\n",
    "import seaborn as sns\n",
    "\n",
    "%matplotlib inline"
   ]
  },
  {
   "cell_type": "code",
   "execution_count": 3,
   "metadata": {},
   "outputs": [
    {
     "data": {
      "text/html": [
       "<script>\n",
       "    code_show=true; \n",
       "    function code_toggle() {\n",
       "        if (code_show){\n",
       "        $(\"div.input\").hide();\n",
       "        } else {\n",
       "        $(\"div.input\").show();\n",
       "        }\n",
       "    code_show = !code_show\n",
       "    } \n",
       "    $( document ).ready(code_toggle);\n",
       "    </script>\n",
       "    The raw code for this IPython notebook is by default hidden for easier reading.\n",
       "    To toggle on/off the raw code, click <a href=\"javascript:code_toggle()\">here</a>."
      ],
      "text/plain": [
       "<IPython.core.display.HTML object>"
      ]
     },
     "execution_count": 3,
     "metadata": {},
     "output_type": "execute_result"
    }
   ],
   "source": [
    "hide_code()"
   ]
  },
  {
   "cell_type": "markdown",
   "metadata": {},
   "source": [
    "From the [Balancer whitepaper](https://balancer.finance/whitepaper/):\n",
    "\n",
    "> The bedrock of Balancer’s exchange functions is a surface defined by constraining a value function $V$\n",
    " — a function of the pool’s weights and balances — to a constant. We will prove that this surface implies a spot price at each point such that, no matter what exchanges are carried out, the share of value of each token in the pool remains constant.\n",
    "\n"
   ]
  },
  {
   "cell_type": "markdown",
   "metadata": {},
   "source": [
    "The [Balancer whitepaper](https://balancer.finance/whitepaper/) shows that the value function\n",
    "$$V = \\prod_{i=1}^{n} x_{i}^{w_{i}}$$\n",
    "is related to the token spot prices by the ratio of partial derivative.  "
   ]
  },
  {
   "cell_type": "markdown",
   "metadata": {},
   "source": [
    "# Starting from the Constraints\n",
    "The idea of constant level sets of a value function creating constraints on system state (including prices) is discussed in ['From Curved Bonding to Configuration Spaces'](https://epub.wu.ac.at/7385/) by Zargham, Shorish, and Paruch (2020).  \n",
    "\n",
    "The existing Balancer value function implicit state constraint is 'the share of value of each token in the pool remains constant'.  \n",
    "\n",
    "In this section we look at starting from a set of constraints and see if it is possible to derive the corresponding value function.  We can then use this value function to determine allowed state changes e.g. for a swap the number of output tokens for an initial state and given number of input tokens.\n",
    "\n",
    "This approach feels familiar to the Lagrangian dynamics approach in classical physics (the author's background).  In economics the standard approach seems to be start from a value function (a.k.a. utility function) and derive substitution functions that give prices.  Here we attempt to solve the inverse problem."
   ]
  },
  {
   "cell_type": "markdown",
   "metadata": {},
   "source": [
    "As a starting point, we consider deriving the Balancer value function (a [Cobb-Douglas Utility Function](https://www.wikiwand.com/en/Cobb%E2%80%93Douglas_production_function)) from the set of constraints for swaps 'the share of value of each token in the pool remains constant'.  \n",
    "\n",
    "We consider below two and three asset pools with tokens $X, Y, Z$.  The state of the system can be defined by three token balances $x$, $y$, $z$, and three weights $w_x$, $w_y$, $w_z$."
   ]
  },
  {
   "cell_type": "markdown",
   "metadata": {},
   "source": [
    "## Uniswap\n",
    "The two asset case is a generalized form of [Uniswap](https://uniswap.org/docs/v2/protocol-overview/how-uniswap-works/) having token weights $w_x$ and $w_y$ summing to 1.  Uniswap uses $w_x = w_y = \\frac{1}{2}$.  Here we use $x$ and $y$ to represent the token X and token Y balances.\n",
    "\n",
    "The total value of the pool in tems of token X is  \n",
    "$$v_{x}(x,y) = x + p_{x}^{y}y = x - \\frac{\\partial{x}}{\\partial{y}}y$$\n",
    "i.e. number of tokens X plus the spot price of converting Y tokens into X tokens.\n",
    "\n",
    "The constant share of value constraint is hence represented by the equations: \n",
    "$$w_{x} = \\frac{x}{x - \\frac{\\partial{x}}{\\partial{y}}y} \\\\\n",
    "w_y = \\frac{- \\frac{\\partial{x}}{\\partial{y}}y}{x - \\frac{\\partial{x}}{\\partial{y}}y}$$\n",
    "where in the two asset case the second equation is redundant since the weights sum to 1. "
   ]
  },
  {
   "cell_type": "code",
   "execution_count": 4,
   "metadata": {},
   "outputs": [],
   "source": [
    "x, y, w_x, w_y = sp.symbols('x y w_x w_y', positive=True)\n",
    "k = sp.symbols('k', real=True)\n",
    "X, Y = map(sp.Function, 'XY')\n",
    "V = sp.Function('V')"
   ]
  },
  {
   "cell_type": "markdown",
   "metadata": {},
   "source": [
    "We can specify that swaps happen on some invariant surface $V(x,y)$ which allows us to replace the spot price $-\\frac{\\partial{x}}{\\partial{y}}$ in  $x - y\\frac{\\partial{x}}{\\partial{y}} = w_x$, subsitituting $-\\frac{\\partial{x}}{\\partial{y}} = \\frac{\\partial{V}}{\\partial{y}}/\\frac{\\partial{V}}{\\partial{x}}$ via the [implicit function theorem](https://en.wikipedia.org/wiki/Implicit_function_theorem)."
   ]
  },
  {
   "cell_type": "code",
   "execution_count": 5,
   "metadata": {},
   "outputs": [
    {
     "data": {
      "text/latex": [
       "$\\displaystyle \\frac{x}{x + \\frac{y \\frac{\\partial}{\\partial y} V{\\left(x,y \\right)}}{\\frac{\\partial}{\\partial x} V{\\left(x,y \\right)}}} = w_{x}$"
      ],
      "text/plain": [
       "Eq(x/(x + y*Derivative(V(x, y), y)/Derivative(V(x, y), x)), w_x)"
      ]
     },
     "execution_count": 5,
     "metadata": {},
     "output_type": "execute_result"
    }
   ],
   "source": [
    "sp.Eq(x/(x + y*V(x,y).diff(y)/V(x,y).diff(x)), w_x)"
   ]
  },
  {
   "cell_type": "markdown",
   "metadata": {},
   "source": [
    "SymPy's PDE solver balks at this equation as written, so multiply through to make things easier."
   ]
  },
  {
   "cell_type": "code",
   "execution_count": 6,
   "metadata": {},
   "outputs": [],
   "source": [
    "const_share_eq = sp.Eq(x*V(x,y).diff(x), w_x*(x*V(x,y).diff(x) + y*V(x,y).diff(y)))"
   ]
  },
  {
   "cell_type": "code",
   "execution_count": 7,
   "metadata": {},
   "outputs": [
    {
     "data": {
      "text/latex": [
       "$\\displaystyle x \\frac{\\partial}{\\partial x} V{\\left(x,y \\right)} = w_{x} \\left(x \\frac{\\partial}{\\partial x} V{\\left(x,y \\right)} + y \\frac{\\partial}{\\partial y} V{\\left(x,y \\right)}\\right)$"
      ],
      "text/plain": [
       "Eq(x*Derivative(V(x, y), x), w_x*(x*Derivative(V(x, y), x) + y*Derivative(V(x, y), y)))"
      ]
     },
     "execution_count": 7,
     "metadata": {},
     "output_type": "execute_result"
    }
   ],
   "source": [
    "const_share_eq"
   ]
  },
  {
   "cell_type": "markdown",
   "metadata": {},
   "source": [
    "It turns out that SymPy is capable of solving the PDE directly to give a general solution."
   ]
  },
  {
   "cell_type": "code",
   "execution_count": 8,
   "metadata": {},
   "outputs": [],
   "source": [
    "V_sol = sp.pdsolve(const_share_eq).subs({(1-w_x): w_y})"
   ]
  },
  {
   "cell_type": "code",
   "execution_count": 9,
   "metadata": {},
   "outputs": [
    {
     "data": {
      "text/latex": [
       "$\\displaystyle V{\\left(x,y \\right)} = F{\\left(- \\frac{\\log{\\left(x^{- w_{x}} y^{- w_{y}} \\right)}}{w_{y}} \\right)}$"
      ],
      "text/plain": [
       "Eq(V(x, y), F(-log(x**(-w_x)*y**(-w_y))/w_y))"
      ]
     },
     "execution_count": 9,
     "metadata": {},
     "output_type": "execute_result"
    }
   ],
   "source": [
    "V_sol"
   ]
  },
  {
   "cell_type": "markdown",
   "metadata": {},
   "source": [
    "We can simplify the solution:"
   ]
  },
  {
   "cell_type": "code",
   "execution_count": 10,
   "metadata": {},
   "outputs": [
    {
     "data": {
      "text/latex": [
       "$\\displaystyle V{\\left(x,y \\right)} = F{\\left(\\frac{w_{x} \\log{\\left(x \\right)}}{w_{y}} + \\log{\\left(y \\right)} \\right)}$"
      ],
      "text/plain": [
       "Eq(V(x, y), F(w_x*log(x)/w_y + log(y)))"
      ]
     },
     "execution_count": 10,
     "metadata": {},
     "output_type": "execute_result"
    }
   ],
   "source": [
    "sp.Eq(V(x,y), V_sol.rhs.simplify())"
   ]
  },
  {
   "cell_type": "markdown",
   "metadata": {},
   "source": [
    "We show below that the spot price is as expected regardless of the exact form of $F$ and if a specific form is chosen we achieve the desired Cobb-Douglas form.  "
   ]
  },
  {
   "cell_type": "code",
   "execution_count": 11,
   "metadata": {},
   "outputs": [
    {
     "data": {
      "text/latex": [
       "$\\displaystyle \\frac{\\frac{\\partial}{\\partial y} V{\\left(x,y \\right)}}{\\frac{\\partial}{\\partial x} V{\\left(x,y \\right)}} = \\frac{w_{y} x}{w_{x} y}$"
      ],
      "text/plain": [
       "Eq(Derivative(V(x, y), y)/Derivative(V(x, y), x), w_y*x/(w_x*y))"
      ]
     },
     "execution_count": 11,
     "metadata": {},
     "output_type": "execute_result"
    }
   ],
   "source": [
    "sp.Eq((V(x,y).diff(y)/V(x,y).diff(x)), V_sol.rhs.diff(y)/V_sol.rhs.diff(x))"
   ]
  },
  {
   "cell_type": "markdown",
   "metadata": {},
   "source": [
    "By taking the exponential of the constant we obtain the general Uniswap invariant."
   ]
  },
  {
   "cell_type": "code",
   "execution_count": 12,
   "metadata": {},
   "outputs": [
    {
     "data": {
      "text/latex": [
       "$\\displaystyle V{\\left(x,y \\right)} = x^{w_{x}} y^{w_{y}}$"
      ],
      "text/plain": [
       "Eq(V(x, y), x**w_x*y**w_y)"
      ]
     },
     "execution_count": 12,
     "metadata": {},
     "output_type": "execute_result"
    }
   ],
   "source": [
    "sp.Eq(V(x,y), sp.exp(w_y*V_sol.rhs.args[0]).simplify())"
   ]
  },
  {
   "cell_type": "markdown",
   "metadata": {},
   "source": [
    "Interestingly, the general solution offers the opportunity to use different functional forms to achieve the same constant share of value contraint.  "
   ]
  },
  {
   "cell_type": "code",
   "execution_count": 13,
   "metadata": {},
   "outputs": [
    {
     "data": {
      "text/latex": [
       "$\\displaystyle V{\\left(x,y \\right)} = w_{x} \\log{\\left(x \\right)} + w_{y} \\log{\\left(y \\right)}$"
      ],
      "text/plain": [
       "Eq(V(x, y), w_x*log(x) + w_y*log(y))"
      ]
     },
     "execution_count": 13,
     "metadata": {},
     "output_type": "execute_result"
    }
   ],
   "source": [
    "sp.Eq(V(x,y), (w_y*V_sol.rhs.args[0]).expand())"
   ]
  },
  {
   "cell_type": "markdown",
   "metadata": {},
   "source": [
    "We could derive the swap formulae for each form.  Would the formulae from log form of invariant be easier to implement on the Ethererum blockchain?  This is left as an exercise for the reader."
   ]
  },
  {
   "cell_type": "markdown",
   "metadata": {},
   "source": [
    "## Balancer\n",
    "We now consider the general case of a Balancer pool with $n$ assets and weights summing to 1.  Here we examine the three asset case and identify the geometric constraints imposed by the share of value conditions\n",
    "$$\n",
    "w_x = \\frac{x}{x - \\frac{\\partial{x}}{\\partial{y}}y - \\frac{\\partial{x}}{\\partial{z}}z}\\\\\n",
    "w_y = \\frac{-\\frac{\\partial{x}}{\\partial{y}}y}{x - \\frac{\\partial{x}}{\\partial{y}}y - \\frac{\\partial{x}}{\\partial{z}}z}\\\\\n",
    "w_z = \\frac{-\\frac{\\partial{x}}{\\partial{z}}z}{x - \\frac{\\partial{x}}{\\partial{y}}y - \\frac{\\partial{x}}{\\partial{z}}z}\n",
    "$$\n",
    "for tokens X, Y and Z having total value $v_x(x,y,z) = x + p_{x}^{y}y + p_{x}^{z}z = x - \\frac{\\partial{x}}{\\partial{y}}y - \\frac{\\partial{x}}{\\partial{z}}z$.\n",
    "\n",
    "As before we can replace the spot prices given by the partial derivatives with expressions for the invariant surface V.  Below we show the $w_x$ condition, the others are similar.  The weight sum to 1 condition again allows us to eliminate one of the constraint equations."
   ]
  },
  {
   "cell_type": "code",
   "execution_count": 14,
   "metadata": {},
   "outputs": [],
   "source": [
    "x, y, z, w_x, w_y, w_z = sp.symbols('x y z w_x w_y w_z', positive=True)\n",
    "u, v, w = sp.symbols('u v w', positive=True)\n",
    "xi = sp.Function('xi')\n",
    "eta = sp.Function('eta')\n",
    "zeta = sp.Function('zeta')\n",
    "V = sp.Function('V')\n",
    "V_d = sp.Function('\\mathcal{V}')"
   ]
  },
  {
   "cell_type": "code",
   "execution_count": 15,
   "metadata": {},
   "outputs": [],
   "source": [
    "const_share_eq_3_1 = sp.Eq(x*V(x,y,z).diff(x), w_x*(x*V(x,y,z).diff(x) + y*V(x,y,z).diff(y) + z*V(x,y,z).diff(z)))"
   ]
  },
  {
   "cell_type": "code",
   "execution_count": 16,
   "metadata": {},
   "outputs": [
    {
     "data": {
      "text/latex": [
       "$\\displaystyle x \\frac{\\partial}{\\partial x} V{\\left(x,y,z \\right)} = w_{x} \\left(x \\frac{\\partial}{\\partial x} V{\\left(x,y,z \\right)} + y \\frac{\\partial}{\\partial y} V{\\left(x,y,z \\right)} + z \\frac{\\partial}{\\partial z} V{\\left(x,y,z \\right)}\\right)$"
      ],
      "text/plain": [
       "Eq(x*Derivative(V(x, y, z), x), w_x*(x*Derivative(V(x, y, z), x) + y*Derivative(V(x, y, z), y) + z*Derivative(V(x, y, z), z)))"
      ]
     },
     "execution_count": 16,
     "metadata": {},
     "output_type": "execute_result"
    }
   ],
   "source": [
    "const_share_eq_3_1"
   ]
  },
  {
   "cell_type": "markdown",
   "metadata": {},
   "source": [
    "We can simplify this to a constant coefficient first order PDE by the change of variables \n",
    "$$\n",
    "u = \\xi(x) = \\log{x}\\\\\n",
    "v = \\eta(y) = \\log{y}\\\\\n",
    "w = \\zeta(z) = \\log{z}\n",
    "$$"
   ]
  },
  {
   "cell_type": "markdown",
   "metadata": {},
   "source": [
    "The general form for the the change of variables is given by"
   ]
  },
  {
   "cell_type": "code",
   "execution_count": 17,
   "metadata": {},
   "outputs": [
    {
     "data": {
      "text/latex": [
       "$\\displaystyle x \\frac{d}{d \\xi{\\left(x \\right)}} \\mathcal{V} \\frac{d}{d x} \\xi{\\left(x \\right)} = w_{x} \\left(x \\frac{d}{d \\xi{\\left(x \\right)}} \\mathcal{V} \\frac{d}{d x} \\xi{\\left(x \\right)} + y \\frac{d}{d \\eta{\\left(y \\right)}} \\mathcal{V} \\frac{d}{d y} \\eta{\\left(y \\right)} + z \\frac{d}{d \\zeta{\\left(z \\right)}} \\mathcal{V} \\frac{d}{d z} \\zeta{\\left(z \\right)}\\right)$"
      ],
      "text/plain": [
       "Eq(x*Derivative(\\mathcal{V}, xi(x))*Derivative(xi(x), x), w_x*(x*Derivative(\\mathcal{V}, xi(x))*Derivative(xi(x), x) + y*Derivative(\\mathcal{V}, eta(y))*Derivative(eta(y), y) + z*Derivative(\\mathcal{V}, zeta(z))*Derivative(zeta(z), z)))"
      ]
     },
     "execution_count": 17,
     "metadata": {},
     "output_type": "execute_result"
    }
   ],
   "source": [
    "const_share_eq_3_1.subs({\n",
    "    V(x,y,z): V(xi(x),eta(y),zeta(z)),\n",
    "}).simplify().subs({V(xi(x),eta(y),zeta(z)): V_d })"
   ]
  },
  {
   "cell_type": "markdown",
   "metadata": {},
   "source": [
    "where $\\mathcal{V} = V(\\xi(x), \\eta(y), \\zeta(z))$"
   ]
  },
  {
   "cell_type": "markdown",
   "metadata": {},
   "source": [
    "Substituting the logarithmic functional form for the transformed variables gives"
   ]
  },
  {
   "cell_type": "code",
   "execution_count": 18,
   "metadata": {},
   "outputs": [
    {
     "data": {
      "text/latex": [
       "$\\displaystyle \\left. \\frac{\\partial}{\\partial \\xi_{1}} V{\\left(\\xi_{1},\\log{\\left(y \\right)},\\log{\\left(z \\right)} \\right)} \\right|_{\\substack{ \\xi_{1}=\\log{\\left(x \\right)} }} = w_{x} \\left(\\left. \\frac{\\partial}{\\partial \\xi_{1}} V{\\left(\\xi_{1},\\log{\\left(y \\right)},\\log{\\left(z \\right)} \\right)} \\right|_{\\substack{ \\xi_{1}=\\log{\\left(x \\right)} }} + \\left. \\frac{\\partial}{\\partial \\xi_{2}} V{\\left(\\log{\\left(x \\right)},\\xi_{2},\\log{\\left(z \\right)} \\right)} \\right|_{\\substack{ \\xi_{2}=\\log{\\left(y \\right)} }} + \\left. \\frac{\\partial}{\\partial \\xi_{3}} V{\\left(\\log{\\left(x \\right)},\\log{\\left(y \\right)},\\xi_{3} \\right)} \\right|_{\\substack{ \\xi_{3}=\\log{\\left(z \\right)} }}\\right)$"
      ],
      "text/plain": [
       "Eq(Subs(Derivative(V(_xi_1, log(y), log(z)), _xi_1), _xi_1, log(x)), w_x*(Subs(Derivative(V(_xi_1, log(y), log(z)), _xi_1), _xi_1, log(x)) + Subs(Derivative(V(log(x), _xi_2, log(z)), _xi_2), _xi_2, log(y)) + Subs(Derivative(V(log(x), log(y), _xi_3), _xi_3), _xi_3, log(z))))"
      ]
     },
     "execution_count": 18,
     "metadata": {},
     "output_type": "execute_result"
    }
   ],
   "source": [
    "const_share_eq_3_1.subs({\n",
    "    V(x,y,z): V(xi(x),eta(y),zeta(z)),\n",
    "    xi(x): sp.log(x),\n",
    "    eta(y): sp.log(y), \n",
    "    zeta(z): sp.log(z)\n",
    "}).simplify()"
   ]
  },
  {
   "cell_type": "markdown",
   "metadata": {},
   "source": [
    "The share of value weight constraints can written as a matrix equation:"
   ]
  },
  {
   "cell_type": "code",
   "execution_count": 19,
   "metadata": {},
   "outputs": [],
   "source": [
    "balancer_constraints = sp.ImmutableMatrix([\n",
    "    [1-w_x, -w_x, -w_x],\n",
    "    [-w_y, 1-w_y, -w_y],\n",
    "    [-w_z, -w_z, 1-w_z]\n",
    "])\n",
    "v_grad = sp.ImmutableMatrix([V(u,v,w).diff(i) for i in [u,v,w]])"
   ]
  },
  {
   "cell_type": "code",
   "execution_count": 20,
   "metadata": {},
   "outputs": [
    {
     "data": {
      "text/latex": [
       "$\\displaystyle \\left[\\begin{matrix}1 - w_{x} & - w_{x} & - w_{x}\\\\- w_{y} & 1 - w_{y} & - w_{y}\\\\- w_{z} & - w_{z} & 1 - w_{z}\\end{matrix}\\right] \\left[\\begin{matrix}\\frac{d}{d u} \\mathcal{V}\\\\\\frac{d}{d v} \\mathcal{V}\\\\\\frac{d}{d w} \\mathcal{V}\\end{matrix}\\right] = \\left[\\begin{matrix}- w_{x} \\frac{d}{d v} \\mathcal{V} - w_{x} \\frac{d}{d w} \\mathcal{V} + \\left(1 - w_{x}\\right) \\frac{d}{d u} \\mathcal{V}\\\\- w_{y} \\frac{d}{d u} \\mathcal{V} - w_{y} \\frac{d}{d w} \\mathcal{V} + \\left(1 - w_{y}\\right) \\frac{d}{d v} \\mathcal{V}\\\\- w_{z} \\frac{d}{d u} \\mathcal{V} - w_{z} \\frac{d}{d v} \\mathcal{V} + \\left(1 - w_{z}\\right) \\frac{d}{d w} \\mathcal{V}\\end{matrix}\\right]$"
      ],
      "text/plain": [
       "Eq(Matrix([\n",
       "[1 - w_x,    -w_x,    -w_x],\n",
       "[   -w_y, 1 - w_y,    -w_y],\n",
       "[   -w_z,    -w_z, 1 - w_z]])*Matrix([\n",
       "[Derivative(\\mathcal{V}, u)],\n",
       "[Derivative(\\mathcal{V}, v)],\n",
       "[Derivative(\\mathcal{V}, w)]]), Matrix([\n",
       "[-w_x*Derivative(\\mathcal{V}, v) - w_x*Derivative(\\mathcal{V}, w) + (1 - w_x)*Derivative(\\mathcal{V}, u)],\n",
       "[-w_y*Derivative(\\mathcal{V}, u) - w_y*Derivative(\\mathcal{V}, w) + (1 - w_y)*Derivative(\\mathcal{V}, v)],\n",
       "[-w_z*Derivative(\\mathcal{V}, u) - w_z*Derivative(\\mathcal{V}, v) + (1 - w_z)*Derivative(\\mathcal{V}, w)]]))"
      ]
     },
     "execution_count": 20,
     "metadata": {},
     "output_type": "execute_result"
    }
   ],
   "source": [
    "sp.Eq(sp.MatMul(balancer_constraints, sp.UnevaluatedExpr(v_grad), evaluate=False).subs({V(u,v,w): V_d }),\n",
    "      (balancer_constraints*v_grad).subs({V(u,v,w): V_d }), \n",
    "     evaluate=False)"
   ]
  },
  {
   "cell_type": "markdown",
   "metadata": {},
   "source": [
    "We can use the weights summing to 1 condition to eliminate one of these equations.  The nullspace of the constraint matrix then defines a plane of constant value of the invariant in $u,v,w$ space which we can then map back to the original X, Y, Z token balances."
   ]
  },
  {
   "cell_type": "code",
   "execution_count": 21,
   "metadata": {},
   "outputs": [
    {
     "data": {
      "text/latex": [
       "$\\displaystyle \\left[\\begin{matrix}w_{x} \\log{\\left(x \\right)} + w_{y} \\log{\\left(y \\right)} + w_{z} \\log{\\left(z \\right)}\\end{matrix}\\right]$"
      ],
      "text/plain": [
       "Matrix([[w_x*log(x) + w_y*log(y) + w_z*log(z)]])"
      ]
     },
     "execution_count": 21,
     "metadata": {},
     "output_type": "execute_result"
    }
   ],
   "source": [
    "(sp.simplify(sp.ImmutableMatrix([\n",
    "#     [1-w_x, -w_x, -w_x],\n",
    "    [-w_y, 1-w_y, -w_y],\n",
    "    [-w_z, -w_z, 1-w_z]\n",
    "]).nullspace()[0]).subs({(1-w_y-w_z): w_x})*w_z\n",
    ").T*sp.ImmutableMatrix([sp.log(x), sp.log(y), sp.log(z)])"
   ]
  },
  {
   "cell_type": "markdown",
   "metadata": {},
   "source": [
    "It can be seen by inspection that exponentiating this invariant results in the original Balancer form.  As for the two asset case it is also possible to retain the value function in this form and derive new forms for the trading functions, which is again an exercise left to the reader."
   ]
  },
  {
   "cell_type": "markdown",
   "metadata": {},
   "source": [
    "## Curve \n",
    "Curve uses the [StableSwap](https://www.curve.fi/stableswap-paper.pdf) invariant to reduce slippage for stablecoins all having equivalent value.  For example a pool could consist of USDC, USDT, BUSD and DAI, all of which are designed to track USD.  Pools tracking other assets are possible e.g. a BTC pool backed by sBTC, renBTC, wBTC.  The market maker token pool ideally consists of a balanced mix of each token type.  We consider a two asset pool below, this analysis extends to an arbitrary number of assets.\n",
    "\n",
    "The StableSwap invariant is designed to act as a constant sum market maker $x+y=1$ for small imbalances, and a constant product Uniswap market maker $xy=k$ as the pool becomes more imbalanced.  These are the price constraints defining the system i.e.\n",
    "\n",
    "* at small imbalance $-\\frac{\\partial{x}}{\\partial{y}}=1$ and tokens are freely interchangeable\n",
    "* at larger imbalance $-\\frac{\\partial{x}}{\\partial{y}}=x/y$ as for Uniswap (or in general an equal weight Balancer pool)\n",
    "\n",
    "The StableSwap invariant can be written as $V{\\left(x,y \\right)} = s \\left(x + y\\right) + x^{w_{x}} y^{w_{y}}$ where $s$ is an amplification parameter that determines the transition between constant sum and constant product behaviour.\n"
   ]
  },
  {
   "cell_type": "code",
   "execution_count": 22,
   "metadata": {},
   "outputs": [],
   "source": [
    "s = sp.symbols('s', positive=True)"
   ]
  },
  {
   "cell_type": "code",
   "execution_count": 23,
   "metadata": {},
   "outputs": [],
   "source": [
    "V_ss = s*(x+y) + x**w_x*y**w_y"
   ]
  },
  {
   "cell_type": "code",
   "execution_count": 24,
   "metadata": {},
   "outputs": [
    {
     "data": {
      "text/latex": [
       "$\\displaystyle V{\\left(x,y \\right)} = s \\left(x + y\\right) + x^{w_{x}} y^{w_{y}}$"
      ],
      "text/plain": [
       "Eq(V(x, y), s*(x + y) + x**w_x*y**w_y)"
      ]
     },
     "execution_count": 24,
     "metadata": {},
     "output_type": "execute_result"
    }
   ],
   "source": [
    "sp.Eq(V(x,y), V_ss)"
   ]
  },
  {
   "cell_type": "markdown",
   "metadata": {},
   "source": [
    "Below we show the spot price of Y tokens in terms of X tokens that results from this invariant function.  We can see that the limit $s \\rightarrow \\infty$ gives the constant sum behaviour while the $s \\rightarrow 0$ limit gives constant product behaviour."
   ]
  },
  {
   "cell_type": "code",
   "execution_count": 25,
   "metadata": {},
   "outputs": [
    {
     "data": {
      "text/latex": [
       "$\\displaystyle \\frac{\\frac{\\partial}{\\partial y} V{\\left(x,y \\right)}}{\\frac{\\partial}{\\partial x} V{\\left(x,y \\right)}} = \\frac{s + \\frac{\\sqrt{x}}{2 \\sqrt{y}}}{s + \\frac{\\sqrt{y}}{2 \\sqrt{x}}}$"
      ],
      "text/plain": [
       "Eq(Derivative(V(x, y), y)/Derivative(V(x, y), x), (s + sqrt(x)/(2*sqrt(y)))/(s + sqrt(y)/(2*sqrt(x))))"
      ]
     },
     "execution_count": 25,
     "metadata": {},
     "output_type": "execute_result"
    }
   ],
   "source": [
    "V_x = (V_ss).diff(x).subs({w_x: sp.Rational(1,2), w_y: sp.Rational(1,2)}).simplify()\n",
    "V_y = (V_ss).diff(y).subs({w_x: sp.Rational(1,2), w_y: sp.Rational(1,2)}).simplify()\n",
    "ss_spot = V_y/V_x.simplify()\n",
    "ss_spot_eq = sp.Eq(V(x,y).diff(y)/V(x,y).diff(x), ss_spot)\n",
    "ss_spot_eq"
   ]
  },
  {
   "cell_type": "code",
   "execution_count": 26,
   "metadata": {},
   "outputs": [
    {
     "data": {
      "text/latex": [
       "$\\displaystyle \\lim_{s \\to \\infty}\\left(\\frac{s + \\frac{\\sqrt{x}}{2 \\sqrt{y}}}{s + \\frac{\\sqrt{y}}{2 \\sqrt{x}}}\\right) = 1$"
      ],
      "text/plain": [
       "Eq(Limit((s + sqrt(x)/(2*sqrt(y)))/(s + sqrt(y)/(2*sqrt(x))), s, oo, dir='-'), 1)"
      ]
     },
     "execution_count": 26,
     "metadata": {},
     "output_type": "execute_result"
    }
   ],
   "source": [
    "sp.Eq(sp.Limit(ss_spot, s, sp.oo), (ss_spot).limit(s, sp.oo))"
   ]
  },
  {
   "cell_type": "code",
   "execution_count": 27,
   "metadata": {},
   "outputs": [
    {
     "data": {
      "text/latex": [
       "$\\displaystyle \\lim_{s \\to 0^+}\\left(\\frac{s + \\frac{\\sqrt{x}}{2 \\sqrt{y}}}{s + \\frac{\\sqrt{y}}{2 \\sqrt{x}}}\\right) = \\frac{x}{y}$"
      ],
      "text/plain": [
       "Eq(Limit((s + sqrt(x)/(2*sqrt(y)))/(s + sqrt(y)/(2*sqrt(x))), s, 0), x/y)"
      ]
     },
     "execution_count": 27,
     "metadata": {},
     "output_type": "execute_result"
    }
   ],
   "source": [
    "sp.Eq(sp.Limit(ss_spot, s, 0), (ss_spot).limit(s, 0))"
   ]
  },
  {
   "cell_type": "markdown",
   "metadata": {},
   "source": [
    "Following the previous procedure we'd hope to be able to solve the PDE for $V(x,y)$ from the spot price constraint:\n",
    "$$\\left(s + \\frac{\\sqrt{y}}{2 \\sqrt{x}}\\right) \\frac{\\partial}{\\partial y} V{\\left(x,y \\right)} = \\left(s + \\frac{\\sqrt{x}}{2 \\sqrt{y}}\\right) \\frac{\\partial}{\\partial x} V{\\left(x,y \\right)}$$\n",
    "Attempting this with the actual StableSwap spot price above doesn't immediately work although it should be possible to solve numerically.  "
   ]
  },
  {
   "cell_type": "code",
   "execution_count": 28,
   "metadata": {},
   "outputs": [
    {
     "data": {
      "text/latex": [
       "$\\displaystyle \\left(s + \\frac{\\sqrt{y}}{2 \\sqrt{x}}\\right) \\frac{\\partial}{\\partial y} V{\\left(x,y \\right)} = \\left(s + \\frac{\\sqrt{x}}{2 \\sqrt{y}}\\right) \\frac{\\partial}{\\partial x} V{\\left(x,y \\right)}$"
      ],
      "text/plain": [
       "Eq((s + sqrt(y)/(2*sqrt(x)))*Derivative(V(x, y), y), (s + sqrt(x)/(2*sqrt(y)))*Derivative(V(x, y), x))"
      ]
     },
     "execution_count": 28,
     "metadata": {},
     "output_type": "execute_result"
    }
   ],
   "source": [
    "ss_spot_denom = sp.denom(ss_spot_eq.rhs)* sp.denom(ss_spot_eq.lhs)\n",
    "sp.Eq(ss_spot_eq.lhs * ss_spot_denom, ss_spot_eq.rhs * ss_spot_denom)"
   ]
  },
  {
   "cell_type": "markdown",
   "metadata": {},
   "source": [
    "## A new Curve\n",
    "We can look at the form of the PDE from the StableSwap constraint and explore related functional forms.  It looks like the same limiting behaviour could be achieved with any ratio of $x/y$ i.e. without requiring the $\\surd$.  We hence try $$\\left(s x y + y\\right) \\frac{\\partial}{\\partial y} V{\\left(x,y \\right)} = \\left(s x y + x\\right) \\frac{\\partial}{\\partial x} V{\\left(x,y \\right)}$$\n",
    "which is easily solvable by SymPy and results in a new Curve invariant:"
   ]
  },
  {
   "cell_type": "code",
   "execution_count": 29,
   "metadata": {},
   "outputs": [
    {
     "data": {
      "text/latex": [
       "$\\displaystyle V{\\left(x,y \\right)} = s x + s y + \\log{\\left(x \\right)} + \\log{\\left(y \\right)}$"
      ],
      "text/plain": [
       "Eq(V(x, y), s*x + s*y + log(x) + log(y))"
      ]
     },
     "execution_count": 29,
     "metadata": {},
     "output_type": "execute_result"
    }
   ],
   "source": [
    "sol2 = sp.pdsolve((s*x*y + y)*V(x,y).diff(y) - (s*x*y + x)*V(x,y).diff(x), V(x,y)).rhs\n",
    "V_ss_new = sp.log(sol2.args[0]).expand()\n",
    "sp.Eq(V(x,y),V_ss_new)"
   ]
  },
  {
   "cell_type": "markdown",
   "metadata": {},
   "source": [
    "We see that the spot price has the same desired limiting behaviour: "
   ]
  },
  {
   "cell_type": "code",
   "execution_count": 30,
   "metadata": {},
   "outputs": [],
   "source": [
    "ss_spot_new = (V_ss_new.diff(y)/V_ss_new.diff(x)).simplify()"
   ]
  },
  {
   "cell_type": "code",
   "execution_count": 31,
   "metadata": {},
   "outputs": [
    {
     "data": {
      "text/latex": [
       "$\\displaystyle \\frac{x \\left(s y + 1\\right)}{y \\left(s x + 1\\right)}$"
      ],
      "text/plain": [
       "x*(s*y + 1)/(y*(s*x + 1))"
      ]
     },
     "execution_count": 31,
     "metadata": {},
     "output_type": "execute_result"
    }
   ],
   "source": [
    "ss_spot_new"
   ]
  },
  {
   "cell_type": "code",
   "execution_count": 32,
   "metadata": {},
   "outputs": [
    {
     "data": {
      "text/latex": [
       "$\\displaystyle \\lim_{s \\to \\infty}\\left(\\frac{x \\left(s y + 1\\right)}{y \\left(s x + 1\\right)}\\right) = 1$"
      ],
      "text/plain": [
       "Eq(Limit(x*(s*y + 1)/(y*(s*x + 1)), s, oo, dir='-'), 1)"
      ]
     },
     "execution_count": 32,
     "metadata": {},
     "output_type": "execute_result"
    }
   ],
   "source": [
    "sp.Eq(sp.Limit(ss_spot_new, s, sp.oo), (ss_spot_new).limit(s, sp.oo))"
   ]
  },
  {
   "cell_type": "code",
   "execution_count": 33,
   "metadata": {},
   "outputs": [
    {
     "data": {
      "text/latex": [
       "$\\displaystyle \\lim_{s \\to 0^+}\\left(\\frac{x \\left(s y + 1\\right)}{y \\left(s x + 1\\right)}\\right) = \\frac{x}{y}$"
      ],
      "text/plain": [
       "Eq(Limit(x*(s*y + 1)/(y*(s*x + 1)), s, 0), x/y)"
      ]
     },
     "execution_count": 33,
     "metadata": {},
     "output_type": "execute_result"
    }
   ],
   "source": [
    "sp.Eq(sp.Limit(ss_spot_new, s, 0), (ss_spot_new).limit(s, 0))"
   ]
  },
  {
   "cell_type": "markdown",
   "metadata": {},
   "source": [
    "Comparing to the characteristic surfaces obtained for Uniswap and Balancer using this approach, we see that the functional form is quite similar i.e. a plane in $\\log{x}-\\log{y}$ space now with the addition of an exponential surface for the imbalance part.  \n",
    "\n",
    "A nice feature of this new form is the possibility of investigating weighted Curve pools."
   ]
  },
  {
   "cell_type": "markdown",
   "metadata": {},
   "source": [
    "# Conclusion\n",
    "This notebook has demonstrated using the method of characteristics to solve the inverse problem in autonomous market maker design i.e. deriving the invariant function that satisfies some constraints.  \n",
    "\n",
    "Some possibly original results for alternative Balancer and Curve invariants are presented.\n",
    "\n",
    "It is hoped that the wider DeFi community finds this technique and the use of a computer algebra system such as [SymPy](https://www.sympy.org/en/index.html) useful.  It offers a complementary approach to simulation based methods such as [cadCAD](https://twitter.com/cadcad_org)."
   ]
  },
  {
   "cell_type": "markdown",
   "metadata": {},
   "source": [
    "# References and Related Work\n",
    "\n",
    "\n",
    "## DeFi \n",
    "The DeFi space moves quite rapidly so as well as the references below also see Medium for Balancer, Uniswap, Curve etc.  Also [The Defiant](https://thedefiant.substack.com/) newsletter to keep up with things.\n",
    "\n",
    "[Balancer whitepaper](https://balancer.finance/whitepaper/) by [@fcmartinelli](https://twitter.com/fcmartinelli).  \n",
    "\n",
    "[From Curved Bonding to Configuration Spaces](https://epub.wu.ac.at/7385/) by [@mZargham](https://twitter.com/mZargham) \n",
    "\n",
    "Lots of papers by [@alexhevans](https://twitter.com/alexhevans), [@tarunchitra](https://twitter.com/tarunchitra) and [@GuilleAngeris](https://twitter.com/GuilleAngeris).  A couple of highly relevant entry points below, which annoyingly the author only got around to reading _after_ doing most of the work in this notebook.\n",
    "* [When does the tail wag the dog? Curvature and Market Making](https://arxiv.org/abs/2012.08040)\n",
    "* [Liquidity Provider Returns in Geometric Mean Markets](https://arxiv.org/abs/2006.08806)\n",
    "* [Optimal Fees for Geometric Mean Market Makers](https://stanford.edu/~guillean/papers/g3m-optimal-fee.pdf)\n",
    "\n",
    "## Mathematics\n",
    "The author first encountered the method of characterstics last millenium during their undergraduate degree at University of Western Australia.  \"Partial Differential Equations: An Introduction\" by Strauss was the text but any reasonably advanced undergraduate engineering mathematics book should have something relevant.\n",
    "\n",
    "Comparing the Balancer or Uniswap invariants to the Cobb-Douglas utility or production function isn't something the author has seen that widely and needs to learn more microeconomics to see how it could fit in.  Seems related to  [Optimization Methods in Finance](https://www.cambridge.org/core/books/optimization-methods-in-finance/8A4996C5DB2006224E4D983B5BC95E3B) and the [Production Possibility Frontier](https://www.wikiwand.com/en/Production%E2%80%93possibility_frontier) e.g. this [handout by Kyle Woodward](https://kylewoodward.com/blog_data/pdfs/handout_micro_equilibrium.pdf)."
   ]
  },
  {
   "cell_type": "code",
   "execution_count": null,
   "metadata": {},
   "outputs": [],
   "source": []
  }
 ],
 "metadata": {
  "kernelspec": {
   "display_name": "Python 3",
   "language": "python",
   "name": "python3"
  },
  "language_info": {
   "codemirror_mode": {
    "name": "ipython",
    "version": 3
   },
   "file_extension": ".py",
   "mimetype": "text/x-python",
   "name": "python",
   "nbconvert_exporter": "python",
   "pygments_lexer": "ipython3",
   "version": "3.8.10"
  }
 },
 "nbformat": 4,
 "nbformat_minor": 4
}
