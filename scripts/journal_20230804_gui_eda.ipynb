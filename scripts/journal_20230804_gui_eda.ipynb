{
 "cells": [
  {
   "cell_type": "code",
   "execution_count": 1,
   "id": "a1f41a55-4788-42f6-8ba5-0113a58a03db",
   "metadata": {
    "ExecuteTime": {
     "end_time": "2023-09-09T05:53:13.819438Z",
     "start_time": "2023-09-09T05:53:13.802954Z"
    }
   },
   "outputs": [],
   "source": [
    "%load_ext autoreload\n",
    "%autoreload 2"
   ]
  },
  {
   "cell_type": "code",
   "execution_count": 2,
   "id": "initial_id",
   "metadata": {
    "ExecuteTime": {
     "end_time": "2023-09-09T05:53:15.121553Z",
     "start_time": "2023-09-09T05:53:13.816455Z"
    }
   },
   "outputs": [],
   "source": [
    "from startup import np, pd, plt, sns\n",
    "import os\n",
    "from pathlib import Path"
   ]
  },
  {
   "cell_type": "code",
   "execution_count": 3,
   "id": "523cab05-e1ee-4aa8-a066-26de977e08ef",
   "metadata": {
    "ExecuteTime": {
     "end_time": "2023-09-09T05:53:15.137772Z",
     "start_time": "2023-09-09T05:53:15.121719Z"
    }
   },
   "outputs": [],
   "source": [
    "from journal_20230804_gui_eda import get_csv_reader, interact_filter"
   ]
  },
  {
   "cell_type": "code",
   "execution_count": 4,
   "id": "b5c13b18-6d45-4f67-a2ad-27407ef80d46",
   "metadata": {
    "ExecuteTime": {
     "end_time": "2023-09-09T05:53:15.212671Z",
     "start_time": "2023-09-09T05:53:15.138761Z"
    }
   },
   "outputs": [],
   "source": [
    "reader = get_csv_reader(os.path.expanduser('~/Work/Data/datacamp_intermediate_regression_statsmodels/'))"
   ]
  },
  {
   "cell_type": "code",
   "execution_count": 5,
   "id": "cffcfa26-08c4-4329-8be1-58f4bede1394",
   "metadata": {
    "ExecuteTime": {
     "end_time": "2023-09-09T05:53:15.228432Z",
     "start_time": "2023-09-09T05:53:15.211740Z"
    }
   },
   "outputs": [
    {
     "name": "stdout",
     "output_type": "stream",
     "text": [
      "dict_keys(['fish', 'taiwan_real_estate2', 'ad_conversion', 'auctions', 'churn'])\n"
     ]
    }
   ],
   "source": [
    "print(reader.keys())"
   ]
  },
  {
   "cell_type": "code",
   "execution_count": 6,
   "id": "b7f33a28-9b0c-43a3-ac73-73cdfcdf8ef2",
   "metadata": {
    "ExecuteTime": {
     "end_time": "2023-09-09T05:53:15.243092Z",
     "start_time": "2023-09-09T05:53:15.230242Z"
    }
   },
   "outputs": [],
   "source": [
    "df = reader['fish']"
   ]
  },
  {
   "cell_type": "code",
   "execution_count": 7,
   "id": "2067b4f4-4c1d-4821-ad16-7469f60b71ce",
   "metadata": {
    "ExecuteTime": {
     "end_time": "2023-09-09T05:53:15.265870Z",
     "start_time": "2023-09-09T05:53:15.243690Z"
    }
   },
   "outputs": [
    {
     "data": {
      "text/plain": "  species  mass_g  length_cm\n0   Bream   242.0       23.2\n1   Bream   290.0       24.0\n2   Bream   340.0       23.9\n3   Bream   363.0       26.3\n4   Bream   430.0       26.5",
      "text/html": "<div>\n<style scoped>\n    .dataframe tbody tr th:only-of-type {\n        vertical-align: middle;\n    }\n\n    .dataframe tbody tr th {\n        vertical-align: top;\n    }\n\n    .dataframe thead th {\n        text-align: right;\n    }\n</style>\n<table border=\"1\" class=\"dataframe\">\n  <thead>\n    <tr style=\"text-align: right;\">\n      <th></th>\n      <th>species</th>\n      <th>mass_g</th>\n      <th>length_cm</th>\n    </tr>\n  </thead>\n  <tbody>\n    <tr>\n      <th>0</th>\n      <td>Bream</td>\n      <td>242.0</td>\n      <td>23.2</td>\n    </tr>\n    <tr>\n      <th>1</th>\n      <td>Bream</td>\n      <td>290.0</td>\n      <td>24.0</td>\n    </tr>\n    <tr>\n      <th>2</th>\n      <td>Bream</td>\n      <td>340.0</td>\n      <td>23.9</td>\n    </tr>\n    <tr>\n      <th>3</th>\n      <td>Bream</td>\n      <td>363.0</td>\n      <td>26.3</td>\n    </tr>\n    <tr>\n      <th>4</th>\n      <td>Bream</td>\n      <td>430.0</td>\n      <td>26.5</td>\n    </tr>\n  </tbody>\n</table>\n</div>"
     },
     "execution_count": 7,
     "metadata": {},
     "output_type": "execute_result"
    }
   ],
   "source": [
    "df.head()"
   ]
  },
  {
   "cell_type": "code",
   "execution_count": 8,
   "id": "b21048d5-db19-475e-bf16-10b43561a94d",
   "metadata": {
    "ExecuteTime": {
     "end_time": "2023-09-09T05:53:15.298667Z",
     "start_time": "2023-09-09T05:53:15.264425Z"
    }
   },
   "outputs": [
    {
     "data": {
      "text/plain": "interactive(children=(Dropdown(description='hue_val', options=('', 'Bream', 'Roach', 'Perch', 'Pike'), value='…",
      "application/vnd.jupyter.widget-view+json": {
       "version_major": 2,
       "version_minor": 0,
       "model_id": "78bab7c91f404409ac99fb9fb96ed640"
      }
     },
     "metadata": {},
     "output_type": "display_data"
    }
   ],
   "source": [
    "_ = interact_filter(df)"
   ]
  },
  {
   "cell_type": "code",
   "execution_count": 8,
   "id": "fb990f92-07eb-4d37-9113-a7f57f6fd4e6",
   "metadata": {
    "ExecuteTime": {
     "end_time": "2023-09-09T05:53:15.300680Z",
     "start_time": "2023-09-09T05:53:15.297612Z"
    }
   },
   "outputs": [],
   "source": []
  }
 ],
 "metadata": {
  "kernelspec": {
   "display_name": "Python 3 (ipykernel)",
   "language": "python",
   "name": "python3"
  },
  "language_info": {
   "codemirror_mode": {
    "name": "ipython",
    "version": 3
   },
   "file_extension": ".py",
   "mimetype": "text/x-python",
   "name": "python",
   "nbconvert_exporter": "python",
   "pygments_lexer": "ipython3",
   "version": "3.8.17"
  }
 },
 "nbformat": 4,
 "nbformat_minor": 5
}
