{
 "cells": [
  {
   "cell_type": "code",
   "execution_count": 1,
   "id": "initial_id",
   "metadata": {},
   "outputs": [],
   "source": [
    "%load_ext autoreload\n",
    "%autoreload 2"
   ]
  },
  {
   "cell_type": "code",
   "execution_count": 2,
   "id": "13dab5f9-a6da-4dce-8da3-f4d389a71a34",
   "metadata": {},
   "outputs": [],
   "source": [
    "from startup import np, pd, plt, sns\n",
    "from startup_gui import widgets, interact, interactive"
   ]
  },
  {
   "cell_type": "code",
   "execution_count": 3,
   "id": "0832d5e5-2582-4472-a1b7-67d9ccdb6f95",
   "metadata": {},
   "outputs": [],
   "source": [
    "import pzflow\n",
    "import tensorflow_probability.substrates.jax as tfp"
   ]
  },
  {
   "cell_type": "code",
   "execution_count": 140,
   "id": "0ee0761b-de88-4851-b586-e13d8b287884",
   "metadata": {},
   "outputs": [],
   "source": [
    "import jax"
   ]
  },
  {
   "cell_type": "code",
   "execution_count": 141,
   "id": "ade9a792-19f5-4ee0-9dae-367823fac3aa",
   "metadata": {},
   "outputs": [],
   "source": [
    "import jax.numpy as jnp"
   ]
  },
  {
   "cell_type": "code",
   "execution_count": 4,
   "id": "7dcd76fe-046c-4690-b1d5-9cbf6cd51767",
   "metadata": {},
   "outputs": [],
   "source": [
    "import os\n",
    "from io import StringIO\n",
    "from dataclasses import dataclass"
   ]
  },
  {
   "cell_type": "code",
   "execution_count": 16,
   "id": "34ce6329-75a1-4c5b-8e6b-f9b626fa24c1",
   "metadata": {},
   "outputs": [],
   "source": [
    "from sklearn.model_selection import train_test_split"
   ]
  },
  {
   "cell_type": "code",
   "execution_count": 5,
   "id": "a389de9a-0515-4b1a-84ae-4787b6cbb8ed",
   "metadata": {},
   "outputs": [],
   "source": [
    "from journal_20231211_nf_functions import MafData, MafDataOriginal"
   ]
  },
  {
   "cell_type": "code",
   "execution_count": 132,
   "id": "5b4358ee-5a77-4b77-9c55-1986758756bf",
   "metadata": {},
   "outputs": [],
   "source": [
    "tfd = tfp.distributions\n",
    "tfb = tfp.bijectors"
   ]
  },
  {
   "cell_type": "code",
   "execution_count": null,
   "id": "35ccc325-236a-4da9-948b-0b35a35a54a7",
   "metadata": {},
   "outputs": [],
   "source": [
    "# TensorFlow Probability \n",
    "\n",
    "batch_size = 512\n",
    "key, subkey = jax.random.split(jax.random.PRNGKey(42))\n",
    "x2_dist = tfd.Normal(loc=0., scale=4.)\n",
    "x2_samples = x2_dist.sample(batch_size, seed=subkey)\n",
    "x1_dist = tfd.Normal(loc=0.25 * jnp.square(x2_samples), scale=jnp.ones(batch_size, dtype=jnp.float32))\n",
    "key, subkey = jax.random.split(key)\n",
    "x1_samples = x1_dist.sample(seed=key)\n",
    "x_sample = jnp.stack([x1_samples, x2_samples], axis=1)\n",
    "plt.scatter(x_sample[:, 0], x_sample[:, 1])\n",
    "dist = tfd.JointDistributionSequential(\n",
    "    [\n",
    "        tfd.Normal(loc=0., scale=4., name='x2'),\n",
    "        lambda x2: tfd.Normal(loc=0.25 * jnp.square(x2), scale=1., name='x1')\n",
    "    ],\n",
    "    use_vectorized_map=True, batch_ndims=0\n",
    ")\n",
    "print(f'Batch shape: {dist.batch_shape}, Event shape: {dist.event_shape}')\n",
    "x2, x1 = dist.sample(batch_size, seed=key)\n",
    "plt.scatter(x1, x2)\n",
    "dist.resolve_graph()\n",
    "x2.shape\n",
    "# indep_dist = tfd.Independent(distribution=dist, reinterpreted_batch_ndims=1)\n",
    "# print(f'Batch shape: {indep_dist.batch_shape}, Event shape: {indep_dist.event_shape}')"
   ]
  }
 ],
 "metadata": {
  "kernelspec": {
   "display_name": "Python 3 (ipykernel)",
   "language": "python",
   "name": "python3"
  },
  "language_info": {
   "codemirror_mode": {
    "name": "ipython",
    "version": 3
   },
   "file_extension": ".py",
   "mimetype": "text/x-python",
   "name": "python",
   "nbconvert_exporter": "python",
   "pygments_lexer": "ipython3",
   "version": "3.10.13"
  }
 },
 "nbformat": 4,
 "nbformat_minor": 5
}
