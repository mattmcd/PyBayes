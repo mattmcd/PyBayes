{
 "cells": [
  {
   "cell_type": "markdown",
   "id": "6d8f8922",
   "metadata": {},
   "source": [
    "# Journal 2022-09-26"
   ]
  },
  {
   "cell_type": "code",
   "execution_count": 4,
   "id": "3b621db8",
   "metadata": {},
   "outputs": [],
   "source": [
    "%load_ext autoreload\n",
    "%autoreload 2"
   ]
  },
  {
   "cell_type": "code",
   "execution_count": 5,
   "id": "dcaf7b65",
   "metadata": {},
   "outputs": [],
   "source": [
    "import os\n",
    "import numpy as np\n",
    "import pandas as pd\n",
    "import matplotlib.pyplot as plt\n",
    "import seaborn as sns\n",
    "import jax\n",
    "import jax.numpy as jnp\n",
    "import tensorflow_probability.substrates.jax as tfp\n",
    "tfd = tfp.distributions\n",
    "tfb = tfp.bijectors"
   ]
  },
  {
   "cell_type": "code",
   "execution_count": 12,
   "id": "92bd12e3",
   "metadata": {},
   "outputs": [],
   "source": [
    "dist = tfd.Normal(loc=[19, 22], scale=2)"
   ]
  },
  {
   "cell_type": "code",
   "execution_count": 13,
   "id": "3d9e167b",
   "metadata": {},
   "outputs": [
    {
     "data": {
      "text/plain": [
       "DeviceArray([0.9986501, 0.9331928], dtype=float32)"
      ]
     },
     "execution_count": 13,
     "metadata": {},
     "output_type": "execute_result"
    }
   ],
   "source": [
    "dist.cdf(25)"
   ]
  },
  {
   "cell_type": "code",
   "execution_count": 8,
   "id": "1e14e1d4",
   "metadata": {},
   "outputs": [],
   "source": [
    "prng = jax.random.PRNGKey(42)"
   ]
  },
  {
   "cell_type": "code",
   "execution_count": 14,
   "id": "523bd30c",
   "metadata": {},
   "outputs": [
    {
     "data": {
      "text/plain": [
       "DeviceArray([[17.599957, 22.373032],\n",
       "             [18.693043, 20.372646],\n",
       "             [18.339912, 26.10321 ],\n",
       "             [22.985594, 21.296057],\n",
       "             [18.069744, 22.225782],\n",
       "             [18.452047, 22.447058],\n",
       "             [19.854042, 19.824282],\n",
       "             [20.326792, 19.001745],\n",
       "             [18.877676, 23.717129],\n",
       "             [18.177889, 22.510376]], dtype=float32)"
      ]
     },
     "execution_count": 14,
     "metadata": {},
     "output_type": "execute_result"
    }
   ],
   "source": [
    "dist.sample(10, prng)"
   ]
  },
  {
   "cell_type": "code",
   "execution_count": 26,
   "id": "facef835",
   "metadata": {},
   "outputs": [
    {
     "data": {
      "image/png": "[encoded data removed]",
      "text/plain": [
       "<Figure size 432x288 with 1 Axes>"
      ]
     },
     "metadata": {
      "needs_background": "light"
     },
     "output_type": "display_data"
    }
   ],
   "source": [
    "_ = plt.hist(dist.sample(1000, prng).T, density=True, bins=20, histtype='step')"
   ]
  },
  {
   "cell_type": "code",
   "execution_count": 29,
   "id": "3749e2a4",
   "metadata": {},
   "outputs": [],
   "source": [
    "dist_layer = tfp.experimental.joint_distribution_layers.Lambda(dist)"
   ]
  },
  {
   "cell_type": "code",
   "execution_count": null,
   "id": "689d2baa",
   "metadata": {},
   "outputs": [],
   "source": []
  }
 ],
 "metadata": {
  "kernelspec": {
   "display_name": "Python 3",
   "language": "python",
   "name": "python3"
  },
  "language_info": {
   "codemirror_mode": {
    "name": "ipython",
    "version": 3
   },
   "file_extension": ".py",
   "mimetype": "text/x-python",
   "name": "python",
   "nbconvert_exporter": "python",
   "pygments_lexer": "ipython3",
   "version": "3.8.14"
  }
 },
 "nbformat": 4,
 "nbformat_minor": 5
}
